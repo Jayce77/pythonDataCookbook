{
 "cells": [
  {
   "cell_type": "markdown",
   "metadata": {
    "collapsed": true,
    "pycharm": {
     "name": "#%% md\n"
    }
   },
   "source": [
    "# Working with Coin Gecko Data\n",
    "## Full Market Data (Cross-Sectional Data)"
   ]
  },
  {
   "cell_type": "code",
   "execution_count": 1,
   "outputs": [],
   "source": [
    "import pandas as pd\n",
    "pd.set_option('display.float_format', lambda x: '%.2f' % x) # 2 decimals"
   ],
   "metadata": {
    "collapsed": false,
    "pycharm": {
     "name": "#%%\n"
    }
   }
  },
  {
   "cell_type": "code",
   "execution_count": 2,
   "outputs": [
    {
     "data": {
      "text/plain": "   market_cap_rank          name symbol  current_price      market_cap  \\\n0                1       Bitcoin    btc       37960.00 718977811760.00   \n1                2      Ethereum    eth        2531.42 302045064972.69   \n2                3        Tether   usdt           1.00  78157666178.09   \n3                4  Binance Coin    bnb         387.15  65094253448.68   \n4                5      USD Coin   usdc           1.00  48642197080.00   \n\n   circulating_supply   total_supply   max_supply  \\\n0         18940406.00    21000000.00  21000000.00   \n1        119318431.94            NaN          NaN   \n2      78157666178.09 78157666178.09          NaN   \n3        168137035.90   168137035.90 168137035.90   \n4      48642197080.00 48636886303.15          NaN   \n\n                      last_updated  \\\n0 2022-01-26 11:44:53.699000+00:00   \n1 2022-01-26 11:44:51.696000+00:00   \n2 2022-01-26 11:41:08.279000+00:00   \n3 2022-01-26 11:45:20.453000+00:00   \n4 2022-01-26 11:45:33.324000+00:00   \n\n                                               image  \n0  <img src='https://assets.coingecko.com/coins/i...  \n1  <img src='https://assets.coingecko.com/coins/i...  \n2  <img src='https://assets.coingecko.com/coins/i...  \n3  <img src='https://assets.coingecko.com/coins/i...  \n4  <img src='https://assets.coingecko.com/coins/i...  ",
      "text/html": "<div>\n<style scoped>\n    .dataframe tbody tr th:only-of-type {\n        vertical-align: middle;\n    }\n\n    .dataframe tbody tr th {\n        vertical-align: top;\n    }\n\n    .dataframe thead th {\n        text-align: right;\n    }\n</style>\n<table border=\"1\" class=\"dataframe\">\n  <thead>\n    <tr style=\"text-align: right;\">\n      <th></th>\n      <th>market_cap_rank</th>\n      <th>name</th>\n      <th>symbol</th>\n      <th>current_price</th>\n      <th>market_cap</th>\n      <th>circulating_supply</th>\n      <th>total_supply</th>\n      <th>max_supply</th>\n      <th>last_updated</th>\n      <th>image</th>\n    </tr>\n  </thead>\n  <tbody>\n    <tr>\n      <th>0</th>\n      <td>1</td>\n      <td>Bitcoin</td>\n      <td>btc</td>\n      <td>37960.00</td>\n      <td>718977811760.00</td>\n      <td>18940406.00</td>\n      <td>21000000.00</td>\n      <td>21000000.00</td>\n      <td>2022-01-26 11:44:53.699000+00:00</td>\n      <td>&lt;img src='https://assets.coingecko.com/coins/i...</td>\n    </tr>\n    <tr>\n      <th>1</th>\n      <td>2</td>\n      <td>Ethereum</td>\n      <td>eth</td>\n      <td>2531.42</td>\n      <td>302045064972.69</td>\n      <td>119318431.94</td>\n      <td>NaN</td>\n      <td>NaN</td>\n      <td>2022-01-26 11:44:51.696000+00:00</td>\n      <td>&lt;img src='https://assets.coingecko.com/coins/i...</td>\n    </tr>\n    <tr>\n      <th>2</th>\n      <td>3</td>\n      <td>Tether</td>\n      <td>usdt</td>\n      <td>1.00</td>\n      <td>78157666178.09</td>\n      <td>78157666178.09</td>\n      <td>78157666178.09</td>\n      <td>NaN</td>\n      <td>2022-01-26 11:41:08.279000+00:00</td>\n      <td>&lt;img src='https://assets.coingecko.com/coins/i...</td>\n    </tr>\n    <tr>\n      <th>3</th>\n      <td>4</td>\n      <td>Binance Coin</td>\n      <td>bnb</td>\n      <td>387.15</td>\n      <td>65094253448.68</td>\n      <td>168137035.90</td>\n      <td>168137035.90</td>\n      <td>168137035.90</td>\n      <td>2022-01-26 11:45:20.453000+00:00</td>\n      <td>&lt;img src='https://assets.coingecko.com/coins/i...</td>\n    </tr>\n    <tr>\n      <th>4</th>\n      <td>5</td>\n      <td>USD Coin</td>\n      <td>usdc</td>\n      <td>1.00</td>\n      <td>48642197080.00</td>\n      <td>48642197080.00</td>\n      <td>48636886303.15</td>\n      <td>NaN</td>\n      <td>2022-01-26 11:45:33.324000+00:00</td>\n      <td>&lt;img src='https://assets.coingecko.com/coins/i...</td>\n    </tr>\n  </tbody>\n</table>\n</div>"
     },
     "execution_count": 2,
     "metadata": {},
     "output_type": "execute_result"
    }
   ],
   "source": [
    "df = pd.read_csv('data/cross_sectional.csv', parse_dates =  ['last_updated'])\n",
    "df.head()"
   ],
   "metadata": {
    "collapsed": false,
    "pycharm": {
     "name": "#%%\n"
    }
   }
  },
  {
   "cell_type": "code",
   "execution_count": 3,
   "outputs": [
    {
     "name": "stdout",
     "output_type": "stream",
     "text": [
      "<class 'pandas.core.frame.DataFrame'>\n",
      "RangeIndex: 9399 entries, 0 to 9398\n",
      "Data columns (total 10 columns):\n",
      " #   Column              Non-Null Count  Dtype              \n",
      "---  ------              --------------  -----              \n",
      " 0   market_cap_rank     9399 non-null   int64              \n",
      " 1   name                9399 non-null   object             \n",
      " 2   symbol              9399 non-null   object             \n",
      " 3   current_price       9399 non-null   float64            \n",
      " 4   market_cap          9399 non-null   float64            \n",
      " 5   circulating_supply  9399 non-null   float64            \n",
      " 6   total_supply        8724 non-null   float64            \n",
      " 7   max_supply          3335 non-null   float64            \n",
      " 8   last_updated        9399 non-null   datetime64[ns, UTC]\n",
      " 9   image               9399 non-null   object             \n",
      "dtypes: datetime64[ns, UTC](1), float64(5), int64(1), object(3)\n",
      "memory usage: 734.4+ KB\n"
     ]
    }
   ],
   "source": [
    "df.info()"
   ],
   "metadata": {
    "collapsed": false,
    "pycharm": {
     "name": "#%%\n"
    }
   }
  },
  {
   "cell_type": "code",
   "execution_count": 4,
   "outputs": [
    {
     "data": {
      "text/plain": "       market_cap_rank     current_price      market_cap  \\\ncount          9399.00           9399.00         9399.00   \nmean           2878.53     5051443199.07    191367448.69   \nstd            1065.47   489702563793.28   8168547495.66   \nmin               1.00              0.00            0.00   \n25%            2350.50              0.00            0.00   \n50%            3548.00              0.02            0.00   \n75%            3548.00              0.37       792341.32   \nmax            3548.00 47475899796947.00 718977811760.00   \n\n         circulating_supply                  total_supply  \\\ncount               9399.00                       8724.00   \nmean     130712133359457.45     3645594571118970142720.00   \nstd     3109507647096376.00   185741215201788287778816.00   \nmin                    0.00                          0.00   \n25%                    0.00                   21000000.00   \n50%                    0.00                  300000000.00   \n75%             17364272.95                 7000000000.00   \nmax   164301252026556064.00 10000000000000000905969664.00   \n\n                      max_supply  \ncount                    3335.00  \nmean    103572707243098406912.00  \nstd    2670091656929492860928.00  \nmin                       100.00  \n25%                  31362467.45  \n50%                 330000000.00  \n75%                4000000000.00  \nmax   68999999999999997902848.00  ",
      "text/html": "<div>\n<style scoped>\n    .dataframe tbody tr th:only-of-type {\n        vertical-align: middle;\n    }\n\n    .dataframe tbody tr th {\n        vertical-align: top;\n    }\n\n    .dataframe thead th {\n        text-align: right;\n    }\n</style>\n<table border=\"1\" class=\"dataframe\">\n  <thead>\n    <tr style=\"text-align: right;\">\n      <th></th>\n      <th>market_cap_rank</th>\n      <th>current_price</th>\n      <th>market_cap</th>\n      <th>circulating_supply</th>\n      <th>total_supply</th>\n      <th>max_supply</th>\n    </tr>\n  </thead>\n  <tbody>\n    <tr>\n      <th>count</th>\n      <td>9399.00</td>\n      <td>9399.00</td>\n      <td>9399.00</td>\n      <td>9399.00</td>\n      <td>8724.00</td>\n      <td>3335.00</td>\n    </tr>\n    <tr>\n      <th>mean</th>\n      <td>2878.53</td>\n      <td>5051443199.07</td>\n      <td>191367448.69</td>\n      <td>130712133359457.45</td>\n      <td>3645594571118970142720.00</td>\n      <td>103572707243098406912.00</td>\n    </tr>\n    <tr>\n      <th>std</th>\n      <td>1065.47</td>\n      <td>489702563793.28</td>\n      <td>8168547495.66</td>\n      <td>3109507647096376.00</td>\n      <td>185741215201788287778816.00</td>\n      <td>2670091656929492860928.00</td>\n    </tr>\n    <tr>\n      <th>min</th>\n      <td>1.00</td>\n      <td>0.00</td>\n      <td>0.00</td>\n      <td>0.00</td>\n      <td>0.00</td>\n      <td>100.00</td>\n    </tr>\n    <tr>\n      <th>25%</th>\n      <td>2350.50</td>\n      <td>0.00</td>\n      <td>0.00</td>\n      <td>0.00</td>\n      <td>21000000.00</td>\n      <td>31362467.45</td>\n    </tr>\n    <tr>\n      <th>50%</th>\n      <td>3548.00</td>\n      <td>0.02</td>\n      <td>0.00</td>\n      <td>0.00</td>\n      <td>300000000.00</td>\n      <td>330000000.00</td>\n    </tr>\n    <tr>\n      <th>75%</th>\n      <td>3548.00</td>\n      <td>0.37</td>\n      <td>792341.32</td>\n      <td>17364272.95</td>\n      <td>7000000000.00</td>\n      <td>4000000000.00</td>\n    </tr>\n    <tr>\n      <th>max</th>\n      <td>3548.00</td>\n      <td>47475899796947.00</td>\n      <td>718977811760.00</td>\n      <td>164301252026556064.00</td>\n      <td>10000000000000000905969664.00</td>\n      <td>68999999999999997902848.00</td>\n    </tr>\n  </tbody>\n</table>\n</div>"
     },
     "execution_count": 4,
     "metadata": {},
     "output_type": "execute_result"
    }
   ],
   "source": [
    "df.describe()"
   ],
   "metadata": {
    "collapsed": false,
    "pycharm": {
     "name": "#%%\n"
    }
   }
  },
  {
   "cell_type": "markdown",
   "source": [
    "Data Aggregators Provide Info on Failed Coins as Well"
   ],
   "metadata": {
    "collapsed": false,
    "pycharm": {
     "name": "#%% md\n"
    }
   }
  },
  {
   "cell_type": "code",
   "execution_count": 5,
   "outputs": [
    {
     "data": {
      "text/plain": "      market_cap_rank                name symbol  current_price  market_cap  \\\n4947             3548         Cryptogcoin    crg           0.00        0.00   \n7154             3548  Alliance X Trading    axt           0.00        0.00   \n4591             3548                Elya   elya           0.00        0.00   \n7296             3548       Reborn Dollar   rebd           0.00        0.00   \n6145             3548               Five7     f7           0.00        0.00   \n...               ...                 ...    ...            ...         ...   \n8380             3548     Binance Bitcoin   btcb       38012.00        0.00   \n8388             3548    Tokenize Xchange    tkx           6.68        0.00   \n6934             3548       Efinity Token    efi           0.52        0.00   \n6107             3548          LuckyToken    lkt           0.05        0.00   \n8389             3548     Rainmaker Games   rain           0.33        0.00   \n\n      circulating_supply  total_supply    max_supply  \\\n4947                0.00  800000000.00           NaN   \n7154                0.00 1000000000.00           NaN   \n4591                0.00 1000000000.00           NaN   \n7296                0.00 2000000000.00 2000000000.00   \n6145                0.00  200000000.00           NaN   \n...                  ...           ...           ...   \n8380                0.00     112501.00           NaN   \n8388                0.00  100000000.00           NaN   \n6934                0.00 2000000000.00           NaN   \n6107                0.00   10000000.00   10000000.00   \n8389                0.00           NaN           NaN   \n\n                         last_updated  \\\n4947 2021-03-09 11:31:35.302000+00:00   \n7154 2021-06-08 05:46:35.823000+00:00   \n4591 2021-08-02 00:01:41.576000+00:00   \n7296 2021-08-05 16:30:36.023000+00:00   \n6145 2021-08-07 18:30:35.451000+00:00   \n...                               ...   \n8380 2022-01-26 11:46:25.551000+00:00   \n8388 2022-01-26 11:46:26.398000+00:00   \n6934 2022-01-26 11:46:26.417000+00:00   \n6107 2022-01-26 11:46:27.773000+00:00   \n8389 2022-01-26 11:46:28.688000+00:00   \n\n                                                  image  \n4947  <img src='https://assets.coingecko.com/coins/i...  \n7154  <img src='https://assets.coingecko.com/coins/i...  \n4591  <img src='https://assets.coingecko.com/coins/i...  \n7296  <img src='https://assets.coingecko.com/coins/i...  \n6145  <img src='https://assets.coingecko.com/coins/i...  \n...                                                 ...  \n8380  <img src='https://assets.coingecko.com/coins/i...  \n8388  <img src='https://assets.coingecko.com/coins/i...  \n6934  <img src='https://assets.coingecko.com/coins/i...  \n6107  <img src='https://assets.coingecko.com/coins/i...  \n8389  <img src='https://assets.coingecko.com/coins/i...  \n\n[9399 rows x 10 columns]",
      "text/html": "<div>\n<style scoped>\n    .dataframe tbody tr th:only-of-type {\n        vertical-align: middle;\n    }\n\n    .dataframe tbody tr th {\n        vertical-align: top;\n    }\n\n    .dataframe thead th {\n        text-align: right;\n    }\n</style>\n<table border=\"1\" class=\"dataframe\">\n  <thead>\n    <tr style=\"text-align: right;\">\n      <th></th>\n      <th>market_cap_rank</th>\n      <th>name</th>\n      <th>symbol</th>\n      <th>current_price</th>\n      <th>market_cap</th>\n      <th>circulating_supply</th>\n      <th>total_supply</th>\n      <th>max_supply</th>\n      <th>last_updated</th>\n      <th>image</th>\n    </tr>\n  </thead>\n  <tbody>\n    <tr>\n      <th>4947</th>\n      <td>3548</td>\n      <td>Cryptogcoin</td>\n      <td>crg</td>\n      <td>0.00</td>\n      <td>0.00</td>\n      <td>0.00</td>\n      <td>800000000.00</td>\n      <td>NaN</td>\n      <td>2021-03-09 11:31:35.302000+00:00</td>\n      <td>&lt;img src='https://assets.coingecko.com/coins/i...</td>\n    </tr>\n    <tr>\n      <th>7154</th>\n      <td>3548</td>\n      <td>Alliance X Trading</td>\n      <td>axt</td>\n      <td>0.00</td>\n      <td>0.00</td>\n      <td>0.00</td>\n      <td>1000000000.00</td>\n      <td>NaN</td>\n      <td>2021-06-08 05:46:35.823000+00:00</td>\n      <td>&lt;img src='https://assets.coingecko.com/coins/i...</td>\n    </tr>\n    <tr>\n      <th>4591</th>\n      <td>3548</td>\n      <td>Elya</td>\n      <td>elya</td>\n      <td>0.00</td>\n      <td>0.00</td>\n      <td>0.00</td>\n      <td>1000000000.00</td>\n      <td>NaN</td>\n      <td>2021-08-02 00:01:41.576000+00:00</td>\n      <td>&lt;img src='https://assets.coingecko.com/coins/i...</td>\n    </tr>\n    <tr>\n      <th>7296</th>\n      <td>3548</td>\n      <td>Reborn Dollar</td>\n      <td>rebd</td>\n      <td>0.00</td>\n      <td>0.00</td>\n      <td>0.00</td>\n      <td>2000000000.00</td>\n      <td>2000000000.00</td>\n      <td>2021-08-05 16:30:36.023000+00:00</td>\n      <td>&lt;img src='https://assets.coingecko.com/coins/i...</td>\n    </tr>\n    <tr>\n      <th>6145</th>\n      <td>3548</td>\n      <td>Five7</td>\n      <td>f7</td>\n      <td>0.00</td>\n      <td>0.00</td>\n      <td>0.00</td>\n      <td>200000000.00</td>\n      <td>NaN</td>\n      <td>2021-08-07 18:30:35.451000+00:00</td>\n      <td>&lt;img src='https://assets.coingecko.com/coins/i...</td>\n    </tr>\n    <tr>\n      <th>...</th>\n      <td>...</td>\n      <td>...</td>\n      <td>...</td>\n      <td>...</td>\n      <td>...</td>\n      <td>...</td>\n      <td>...</td>\n      <td>...</td>\n      <td>...</td>\n      <td>...</td>\n    </tr>\n    <tr>\n      <th>8380</th>\n      <td>3548</td>\n      <td>Binance Bitcoin</td>\n      <td>btcb</td>\n      <td>38012.00</td>\n      <td>0.00</td>\n      <td>0.00</td>\n      <td>112501.00</td>\n      <td>NaN</td>\n      <td>2022-01-26 11:46:25.551000+00:00</td>\n      <td>&lt;img src='https://assets.coingecko.com/coins/i...</td>\n    </tr>\n    <tr>\n      <th>8388</th>\n      <td>3548</td>\n      <td>Tokenize Xchange</td>\n      <td>tkx</td>\n      <td>6.68</td>\n      <td>0.00</td>\n      <td>0.00</td>\n      <td>100000000.00</td>\n      <td>NaN</td>\n      <td>2022-01-26 11:46:26.398000+00:00</td>\n      <td>&lt;img src='https://assets.coingecko.com/coins/i...</td>\n    </tr>\n    <tr>\n      <th>6934</th>\n      <td>3548</td>\n      <td>Efinity Token</td>\n      <td>efi</td>\n      <td>0.52</td>\n      <td>0.00</td>\n      <td>0.00</td>\n      <td>2000000000.00</td>\n      <td>NaN</td>\n      <td>2022-01-26 11:46:26.417000+00:00</td>\n      <td>&lt;img src='https://assets.coingecko.com/coins/i...</td>\n    </tr>\n    <tr>\n      <th>6107</th>\n      <td>3548</td>\n      <td>LuckyToken</td>\n      <td>lkt</td>\n      <td>0.05</td>\n      <td>0.00</td>\n      <td>0.00</td>\n      <td>10000000.00</td>\n      <td>10000000.00</td>\n      <td>2022-01-26 11:46:27.773000+00:00</td>\n      <td>&lt;img src='https://assets.coingecko.com/coins/i...</td>\n    </tr>\n    <tr>\n      <th>8389</th>\n      <td>3548</td>\n      <td>Rainmaker Games</td>\n      <td>rain</td>\n      <td>0.33</td>\n      <td>0.00</td>\n      <td>0.00</td>\n      <td>NaN</td>\n      <td>NaN</td>\n      <td>2022-01-26 11:46:28.688000+00:00</td>\n      <td>&lt;img src='https://assets.coingecko.com/coins/i...</td>\n    </tr>\n  </tbody>\n</table>\n<p>9399 rows × 10 columns</p>\n</div>"
     },
     "execution_count": 5,
     "metadata": {},
     "output_type": "execute_result"
    }
   ],
   "source": [
    "df.sort_values(by='last_updated', ascending=True)"
   ],
   "metadata": {
    "collapsed": false,
    "pycharm": {
     "name": "#%%\n"
    }
   }
  },
  {
   "cell_type": "markdown",
   "source": [
    "### Price, Market Cap and Circulating Supply\n",
    "* Market Capitalization = Price * Circulating Supply"
   ],
   "metadata": {
    "collapsed": false,
    "pycharm": {
     "name": "#%% md\n"
    }
   }
  },
  {
   "cell_type": "code",
   "execution_count": 6,
   "outputs": [
    {
     "data": {
      "text/plain": "0      0.00\n1      0.00\n2      0.00\n3      0.00\n4      0.00\n       ... \n9394   0.00\n9395   0.00\n9396   0.00\n9397   0.00\n9398   0.00\nLength: 9399, dtype: float64"
     },
     "execution_count": 6,
     "metadata": {},
     "output_type": "execute_result"
    }
   ],
   "source": [
    "df.current_price.mul(df.circulating_supply).sub(df.market_cap)"
   ],
   "metadata": {
    "collapsed": false,
    "pycharm": {
     "name": "#%%\n"
    }
   }
  },
  {
   "cell_type": "code",
   "execution_count": 7,
   "outputs": [
    {
     "data": {
      "text/plain": "0          1\n1          2\n2          3\n3          4\n4          5\n        ... \n9394    3548\n9395    3548\n9396    3548\n9397    3548\n9398    3548\nName: market_cap_rank, Length: 9399, dtype: int64"
     },
     "execution_count": 7,
     "metadata": {},
     "output_type": "execute_result"
    }
   ],
   "source": [
    "df.market_cap_rank"
   ],
   "metadata": {
    "collapsed": false,
    "pycharm": {
     "name": "#%%\n"
    }
   }
  },
  {
   "cell_type": "code",
   "execution_count": 8,
   "outputs": [
    {
     "data": {
      "text/plain": "0.00          5852\n754800.00        1\n775043.30        1\n772309.68        1\n772245.60        1\n              ... \n8820210.97       1\n8808694.79       1\n8808217.88       1\n8795791.08       1\n2447233.22       1\nName: market_cap, Length: 3548, dtype: int64"
     },
     "execution_count": 8,
     "metadata": {},
     "output_type": "execute_result"
    }
   ],
   "source": [
    "df.market_cap.value_counts()"
   ],
   "metadata": {
    "collapsed": false,
    "pycharm": {
     "name": "#%%\n"
    }
   }
  },
  {
   "cell_type": "code",
   "execution_count": 9,
   "outputs": [
    {
     "data": {
      "text/plain": "      current_price  circulating_supply\n3547           0.00                0.00\n3548           0.00                0.00\n3549           0.02                0.00\n3550           0.00                0.00\n3551           0.34                0.00\n...             ...                 ...\n9394          55.28                0.00\n9395           0.00                0.00\n9396           0.00                0.00\n9397           0.00                0.00\n9398           0.00                0.00\n\n[5852 rows x 2 columns]",
      "text/html": "<div>\n<style scoped>\n    .dataframe tbody tr th:only-of-type {\n        vertical-align: middle;\n    }\n\n    .dataframe tbody tr th {\n        vertical-align: top;\n    }\n\n    .dataframe thead th {\n        text-align: right;\n    }\n</style>\n<table border=\"1\" class=\"dataframe\">\n  <thead>\n    <tr style=\"text-align: right;\">\n      <th></th>\n      <th>current_price</th>\n      <th>circulating_supply</th>\n    </tr>\n  </thead>\n  <tbody>\n    <tr>\n      <th>3547</th>\n      <td>0.00</td>\n      <td>0.00</td>\n    </tr>\n    <tr>\n      <th>3548</th>\n      <td>0.00</td>\n      <td>0.00</td>\n    </tr>\n    <tr>\n      <th>3549</th>\n      <td>0.02</td>\n      <td>0.00</td>\n    </tr>\n    <tr>\n      <th>3550</th>\n      <td>0.00</td>\n      <td>0.00</td>\n    </tr>\n    <tr>\n      <th>3551</th>\n      <td>0.34</td>\n      <td>0.00</td>\n    </tr>\n    <tr>\n      <th>...</th>\n      <td>...</td>\n      <td>...</td>\n    </tr>\n    <tr>\n      <th>9394</th>\n      <td>55.28</td>\n      <td>0.00</td>\n    </tr>\n    <tr>\n      <th>9395</th>\n      <td>0.00</td>\n      <td>0.00</td>\n    </tr>\n    <tr>\n      <th>9396</th>\n      <td>0.00</td>\n      <td>0.00</td>\n    </tr>\n    <tr>\n      <th>9397</th>\n      <td>0.00</td>\n      <td>0.00</td>\n    </tr>\n    <tr>\n      <th>9398</th>\n      <td>0.00</td>\n      <td>0.00</td>\n    </tr>\n  </tbody>\n</table>\n<p>5852 rows × 2 columns</p>\n</div>"
     },
     "execution_count": 9,
     "metadata": {},
     "output_type": "execute_result"
    }
   ],
   "source": [
    "zero_cap = df.loc[df.market_cap == 0, ['current_price', 'circulating_supply']]\n",
    "zero_cap"
   ],
   "metadata": {
    "collapsed": false,
    "pycharm": {
     "name": "#%%\n"
    }
   }
  },
  {
   "cell_type": "code",
   "execution_count": 10,
   "outputs": [
    {
     "data": {
      "text/plain": "current_price           89\ncirculating_supply    5850\ndtype: int64"
     },
     "execution_count": 10,
     "metadata": {},
     "output_type": "execute_result"
    }
   ],
   "source": [
    "# Vast Majority Not Publicly Traded\n",
    "(zero_cap == 0).sum()"
   ],
   "metadata": {
    "collapsed": false,
    "pycharm": {
     "name": "#%%\n"
    }
   }
  },
  {
   "cell_type": "code",
   "execution_count": 11,
   "outputs": [
    {
     "name": "stdout",
     "output_type": "stream",
     "text": [
      "<class 'pandas.core.frame.DataFrame'>\n",
      "RangeIndex: 9399 entries, 0 to 9398\n",
      "Data columns (total 10 columns):\n",
      " #   Column              Non-Null Count  Dtype              \n",
      "---  ------              --------------  -----              \n",
      " 0   market_cap_rank     9399 non-null   int64              \n",
      " 1   name                9399 non-null   object             \n",
      " 2   symbol              9399 non-null   object             \n",
      " 3   current_price       9399 non-null   float64            \n",
      " 4   market_cap          9399 non-null   float64            \n",
      " 5   circulating_supply  9399 non-null   float64            \n",
      " 6   total_supply        8724 non-null   float64            \n",
      " 7   max_supply          3335 non-null   float64            \n",
      " 8   last_updated        9399 non-null   datetime64[ns, UTC]\n",
      " 9   image               9399 non-null   object             \n",
      "dtypes: datetime64[ns, UTC](1), float64(5), int64(1), object(3)\n",
      "memory usage: 734.4+ KB\n"
     ]
    }
   ],
   "source": [
    "df.info()"
   ],
   "metadata": {
    "collapsed": false,
    "pycharm": {
     "name": "#%%\n"
    }
   }
  },
  {
   "cell_type": "code",
   "execution_count": 12,
   "outputs": [
    {
     "data": {
      "text/plain": "3335"
     },
     "execution_count": 12,
     "metadata": {},
     "output_type": "execute_result"
    }
   ],
   "source": [
    "# Only 3335 Coins have maximum number of coins\n",
    "df.max_supply.notna().sum()"
   ],
   "metadata": {
    "collapsed": false,
    "pycharm": {
     "name": "#%%\n"
    }
   }
  },
  {
   "cell_type": "code",
   "execution_count": 14,
   "outputs": [
    {
     "data": {
      "text/plain": "      market_cap_rank                                               name  \\\n0                   1                                            Bitcoin   \n3                   4                                       Binance Coin   \n5                   6                                            Cardano   \n7                   8                                                XRP   \n8                   9                                              Terra   \n...               ...                                                ...   \n9382             3548                                      Hat Swap City   \n9386             3548  RealT Token - 4380 Beaconsfield St, Detroit, M...   \n9388             3548                                      Iron Bank AUD   \n9391             3548                                           Stabinol   \n9392             3548                                            EarnHub   \n\n                                           symbol  current_price  \\\n0                                             btc       37960.00   \n3                                             bnb         387.15   \n5                                             ada           1.06   \n7                                             xrp           0.63   \n8                                            luna          64.11   \n...                                           ...            ...   \n9382                                          htc           0.01   \n9386  realtoken-s-4380-beaconsfield-st-detroit-mi          55.08   \n9388                                        ibaud           1.40   \n9391                                         stol           0.02   \n9392                                          ehb           0.00   \n\n          market_cap  circulating_supply    total_supply      max_supply  \\\n0    718977811760.00         18940406.00     21000000.00     21000000.00   \n3     65094253448.68        168137035.90    168137035.90    168137035.90   \n5     33990374108.52      32066390668.41  45000000000.00  45000000000.00   \n7     30180616411.42      47736918345.00 100000000000.00 100000000000.00   \n8     25758267475.47        401782365.86    819609223.28   1000000000.00   \n...              ...                 ...             ...             ...   \n9382            0.00                0.00    100000000.00    100000000.00   \n9386            0.00                0.00             NaN         1200.00   \n9388            0.00                0.00     24000000.00     24000000.00   \n9391            0.00                0.00       451045.31       451045.31   \n9392            0.00                0.00  70000000000.00  70000000000.00   \n\n                         last_updated  \\\n0    2022-01-26 11:44:53.699000+00:00   \n3    2022-01-26 11:45:20.453000+00:00   \n5    2022-01-26 11:45:31.898000+00:00   \n7    2022-01-26 11:45:17.338000+00:00   \n8    2022-01-26 11:45:58.430000+00:00   \n...                               ...   \n9382 2022-01-26 11:42:21.866000+00:00   \n9386 2022-01-26 07:05:41.763000+00:00   \n9388 2021-11-30 14:32:57.267000+00:00   \n9391 2021-12-15 14:49:29.018000+00:00   \n9392 2022-01-26 11:42:27.107000+00:00   \n\n                                                  image  \n0     <img src='https://assets.coingecko.com/coins/i...  \n3     <img src='https://assets.coingecko.com/coins/i...  \n5     <img src='https://assets.coingecko.com/coins/i...  \n7     <img src='https://assets.coingecko.com/coins/i...  \n8     <img src='https://assets.coingecko.com/coins/i...  \n...                                                 ...  \n9382  <img src='https://assets.coingecko.com/coins/i...  \n9386  <img src='https://assets.coingecko.com/coins/i...  \n9388  <img src='https://assets.coingecko.com/coins/i...  \n9391  <img src='https://assets.coingecko.com/coins/i...  \n9392  <img src='https://assets.coingecko.com/coins/i...  \n\n[3335 rows x 10 columns]",
      "text/html": "<div>\n<style scoped>\n    .dataframe tbody tr th:only-of-type {\n        vertical-align: middle;\n    }\n\n    .dataframe tbody tr th {\n        vertical-align: top;\n    }\n\n    .dataframe thead th {\n        text-align: right;\n    }\n</style>\n<table border=\"1\" class=\"dataframe\">\n  <thead>\n    <tr style=\"text-align: right;\">\n      <th></th>\n      <th>market_cap_rank</th>\n      <th>name</th>\n      <th>symbol</th>\n      <th>current_price</th>\n      <th>market_cap</th>\n      <th>circulating_supply</th>\n      <th>total_supply</th>\n      <th>max_supply</th>\n      <th>last_updated</th>\n      <th>image</th>\n    </tr>\n  </thead>\n  <tbody>\n    <tr>\n      <th>0</th>\n      <td>1</td>\n      <td>Bitcoin</td>\n      <td>btc</td>\n      <td>37960.00</td>\n      <td>718977811760.00</td>\n      <td>18940406.00</td>\n      <td>21000000.00</td>\n      <td>21000000.00</td>\n      <td>2022-01-26 11:44:53.699000+00:00</td>\n      <td>&lt;img src='https://assets.coingecko.com/coins/i...</td>\n    </tr>\n    <tr>\n      <th>3</th>\n      <td>4</td>\n      <td>Binance Coin</td>\n      <td>bnb</td>\n      <td>387.15</td>\n      <td>65094253448.68</td>\n      <td>168137035.90</td>\n      <td>168137035.90</td>\n      <td>168137035.90</td>\n      <td>2022-01-26 11:45:20.453000+00:00</td>\n      <td>&lt;img src='https://assets.coingecko.com/coins/i...</td>\n    </tr>\n    <tr>\n      <th>5</th>\n      <td>6</td>\n      <td>Cardano</td>\n      <td>ada</td>\n      <td>1.06</td>\n      <td>33990374108.52</td>\n      <td>32066390668.41</td>\n      <td>45000000000.00</td>\n      <td>45000000000.00</td>\n      <td>2022-01-26 11:45:31.898000+00:00</td>\n      <td>&lt;img src='https://assets.coingecko.com/coins/i...</td>\n    </tr>\n    <tr>\n      <th>7</th>\n      <td>8</td>\n      <td>XRP</td>\n      <td>xrp</td>\n      <td>0.63</td>\n      <td>30180616411.42</td>\n      <td>47736918345.00</td>\n      <td>100000000000.00</td>\n      <td>100000000000.00</td>\n      <td>2022-01-26 11:45:17.338000+00:00</td>\n      <td>&lt;img src='https://assets.coingecko.com/coins/i...</td>\n    </tr>\n    <tr>\n      <th>8</th>\n      <td>9</td>\n      <td>Terra</td>\n      <td>luna</td>\n      <td>64.11</td>\n      <td>25758267475.47</td>\n      <td>401782365.86</td>\n      <td>819609223.28</td>\n      <td>1000000000.00</td>\n      <td>2022-01-26 11:45:58.430000+00:00</td>\n      <td>&lt;img src='https://assets.coingecko.com/coins/i...</td>\n    </tr>\n    <tr>\n      <th>...</th>\n      <td>...</td>\n      <td>...</td>\n      <td>...</td>\n      <td>...</td>\n      <td>...</td>\n      <td>...</td>\n      <td>...</td>\n      <td>...</td>\n      <td>...</td>\n      <td>...</td>\n    </tr>\n    <tr>\n      <th>9382</th>\n      <td>3548</td>\n      <td>Hat Swap City</td>\n      <td>htc</td>\n      <td>0.01</td>\n      <td>0.00</td>\n      <td>0.00</td>\n      <td>100000000.00</td>\n      <td>100000000.00</td>\n      <td>2022-01-26 11:42:21.866000+00:00</td>\n      <td>&lt;img src='https://assets.coingecko.com/coins/i...</td>\n    </tr>\n    <tr>\n      <th>9386</th>\n      <td>3548</td>\n      <td>RealT Token - 4380 Beaconsfield St, Detroit, M...</td>\n      <td>realtoken-s-4380-beaconsfield-st-detroit-mi</td>\n      <td>55.08</td>\n      <td>0.00</td>\n      <td>0.00</td>\n      <td>NaN</td>\n      <td>1200.00</td>\n      <td>2022-01-26 07:05:41.763000+00:00</td>\n      <td>&lt;img src='https://assets.coingecko.com/coins/i...</td>\n    </tr>\n    <tr>\n      <th>9388</th>\n      <td>3548</td>\n      <td>Iron Bank AUD</td>\n      <td>ibaud</td>\n      <td>1.40</td>\n      <td>0.00</td>\n      <td>0.00</td>\n      <td>24000000.00</td>\n      <td>24000000.00</td>\n      <td>2021-11-30 14:32:57.267000+00:00</td>\n      <td>&lt;img src='https://assets.coingecko.com/coins/i...</td>\n    </tr>\n    <tr>\n      <th>9391</th>\n      <td>3548</td>\n      <td>Stabinol</td>\n      <td>stol</td>\n      <td>0.02</td>\n      <td>0.00</td>\n      <td>0.00</td>\n      <td>451045.31</td>\n      <td>451045.31</td>\n      <td>2021-12-15 14:49:29.018000+00:00</td>\n      <td>&lt;img src='https://assets.coingecko.com/coins/i...</td>\n    </tr>\n    <tr>\n      <th>9392</th>\n      <td>3548</td>\n      <td>EarnHub</td>\n      <td>ehb</td>\n      <td>0.00</td>\n      <td>0.00</td>\n      <td>0.00</td>\n      <td>70000000000.00</td>\n      <td>70000000000.00</td>\n      <td>2022-01-26 11:42:27.107000+00:00</td>\n      <td>&lt;img src='https://assets.coingecko.com/coins/i...</td>\n    </tr>\n  </tbody>\n</table>\n<p>3335 rows × 10 columns</p>\n</div>"
     },
     "execution_count": 14,
     "metadata": {},
     "output_type": "execute_result"
    }
   ],
   "source": [
    "df[df.max_supply.notna()]"
   ],
   "metadata": {
    "collapsed": false,
    "pycharm": {
     "name": "#%%\n"
    }
   }
  },
  {
   "cell_type": "code",
   "execution_count": 15,
   "outputs": [
    {
     "data": {
      "text/plain": "1000000000.00          453\n100000000.00           393\n10000000.00            138\n10000000000.00         136\n1000000000000000.00    126\n1000000000000.00       113\n500000000.00            95\n100000000000.00         86\n1000000.00              61\n200000000.00            57\n21000000.00             38\n100000000000000.00      36\n300000000.00            34\n2000000000.00           32\n20000000.00             31\n50000000.00             28\n5000000000.00           28\n250000000.00            27\n100000.00               23\n30000000.00             23\nName: max_supply, dtype: int64"
     },
     "execution_count": 15,
     "metadata": {},
     "output_type": "execute_result"
    }
   ],
   "source": [
    "df.max_supply.value_counts().head(20)"
   ],
   "metadata": {
    "collapsed": false,
    "pycharm": {
     "name": "#%%\n"
    }
   }
  },
  {
   "cell_type": "markdown",
   "source": [
    "### Market Capitalization Global: The sum of the market capitalization of all projects tracked by CoinGecko"
   ],
   "metadata": {
    "collapsed": false,
    "pycharm": {
     "name": "#%% md\n"
    }
   }
  },
  {
   "cell_type": "code",
   "execution_count": 16,
   "outputs": [
    {
     "data": {
      "text/plain": "1798662650280.5518"
     },
     "execution_count": 16,
     "metadata": {},
     "output_type": "execute_result"
    }
   ],
   "source": [
    "total_market = df.market_cap.sum()\n",
    "total_market"
   ],
   "metadata": {
    "collapsed": false,
    "pycharm": {
     "name": "#%%\n"
    }
   }
  },
  {
   "cell_type": "code",
   "execution_count": 18,
   "outputs": [],
   "source": [
    "df['market_share'] = df.market_cap.div(total_market).mul(100)"
   ],
   "metadata": {
    "collapsed": false,
    "pycharm": {
     "name": "#%%\n"
    }
   }
  },
  {
   "cell_type": "code",
   "execution_count": 19,
   "outputs": [
    {
     "data": {
      "text/plain": "0      39.97\n1      16.79\n2       4.35\n3       3.62\n4       2.70\n        ... \n9394    0.00\n9395    0.00\n9396    0.00\n9397    0.00\n9398    0.00\nName: market_share, Length: 9399, dtype: float64"
     },
     "execution_count": 19,
     "metadata": {},
     "output_type": "execute_result"
    }
   ],
   "source": [
    "df.market_share"
   ],
   "metadata": {
    "collapsed": false,
    "pycharm": {
     "name": "#%%\n"
    }
   }
  },
  {
   "cell_type": "code",
   "execution_count": 20,
   "outputs": [
    {
     "data": {
      "text/plain": "0    39.97\n1    56.77\n2    61.11\n3    64.73\n4    67.43\n5    69.32\n6    71.02\n7    72.70\n8    74.13\n9    75.27\n10   76.37\n11   77.31\n12   78.10\n13   78.77\n14   79.39\n15   80.00\n16   80.58\n17   81.15\n18   81.71\n19   82.22\n20   82.65\n21   83.07\n22   83.48\n23   83.82\n24   84.16\n25   84.49\n26   84.82\n27   85.13\n28   85.42\n29   85.70\n30   85.97\n31   86.23\n32   86.48\n33   86.71\n34   86.94\n35   87.15\n36   87.36\n37   87.55\n38   87.74\n39   87.93\n40   88.11\n41   88.28\n42   88.45\n43   88.62\n44   88.78\n45   88.93\n46   89.08\n47   89.23\n48   89.38\n49   89.52\nName: market_share, dtype: float64"
     },
     "execution_count": 20,
     "metadata": {},
     "output_type": "execute_result"
    }
   ],
   "source": [
    "df.market_share.cumsum().head(50)"
   ],
   "metadata": {
    "collapsed": false,
    "pycharm": {
     "name": "#%%\n"
    }
   }
  },
  {
   "cell_type": "code",
   "execution_count": 24,
   "outputs": [],
   "source": [
    "import matplotlib.pyplot as plt"
   ],
   "metadata": {
    "collapsed": false,
    "pycharm": {
     "name": "#%%\n"
    }
   }
  },
  {
   "cell_type": "code",
   "execution_count": 25,
   "outputs": [
    {
     "data": {
      "text/plain": "<Figure size 864x576 with 1 Axes>",
      "image/png": "[encoded data removed]"
     },
     "metadata": {
      "needs_background": "light"
     },
     "output_type": "display_data"
    }
   ],
   "source": [
    "df.iloc[1:100].market_share.cumsum().plot(figsize=(12,8))\n",
    "plt.title(\"Crypto Market - Cumulative Market Share\",  fontsize=15)\n",
    "plt.xlabel('No. of Coins (Market Cap Rank)', fontsize=12)\n",
    "plt.ylabel('Cumulative Market Share (%)', fontsize=12)\n",
    "plt.show()"
   ],
   "metadata": {
    "collapsed": false,
    "pycharm": {
     "name": "#%%\n"
    }
   }
  },
  {
   "cell_type": "code",
   "execution_count": null,
   "outputs": [],
   "source": [],
   "metadata": {
    "collapsed": false,
    "pycharm": {
     "name": "#%%\n"
    }
   }
  }
 ],
 "metadata": {
  "kernelspec": {
   "display_name": "Python 3",
   "language": "python",
   "name": "python3"
  },
  "language_info": {
   "codemirror_mode": {
    "name": "ipython",
    "version": 2
   },
   "file_extension": ".py",
   "mimetype": "text/x-python",
   "name": "python",
   "nbconvert_exporter": "python",
   "pygments_lexer": "ipython2",
   "version": "2.7.6"
  }
 },
 "nbformat": 4,
 "nbformat_minor": 0
}