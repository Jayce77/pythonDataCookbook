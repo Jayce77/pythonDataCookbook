{
 "cells": [
  {
   "cell_type": "markdown",
   "metadata": {
    "collapsed": true,
    "pycharm": {
     "name": "#%% md\n"
    }
   },
   "source": [
    "# Time Series with Pandas\n",
    "## Helpful DatetimeIndex Attributes and Methods"
   ]
  },
  {
   "cell_type": "code",
   "execution_count": 1,
   "outputs": [],
   "source": [
    "import pandas as pd"
   ],
   "metadata": {
    "collapsed": false,
    "pycharm": {
     "name": "#%%\n"
    }
   }
  },
  {
   "cell_type": "code",
   "execution_count": 7,
   "outputs": [
    {
     "data": {
      "text/plain": "           Adj Close                                                         \\\n                AAPL         BA        DIS        IBM         KO       MSFT   \nDate                                                                          \n2009-12-31  6.503574  41.856789  28.090706  92.406113  18.951757  23.801456   \n2010-01-04  6.604801  43.441975  27.933924  93.500313  18.965061  24.168472   \n2010-01-05  6.616219  44.864773  27.864237  92.370834  18.735643  24.176279   \n2010-01-06  6.510980  46.225727  27.716166  91.770790  18.728989  24.027906   \n2010-01-07  6.498945  48.097031  27.724878  91.453102  18.682440  23.778025   \n\n               Close                                ...   Open              \\\n                AAPL         BA    DIS         IBM  ...    DIS         IBM   \nDate                                                ...                      \n2009-12-31  7.526072  54.130001  32.25  130.899994  ...  32.27  132.410004   \n2010-01-04  7.643214  56.180000  32.07  132.449997  ...  32.50  131.179993   \n2010-01-05  7.656428  58.020000  31.99  130.850006  ...  32.07  131.679993   \n2010-01-06  7.534643  59.779999  31.82  130.000000  ...  31.90  130.679993   \n2010-01-07  7.520714  62.200001  31.83  129.550003  ...  31.77  129.869995   \n\n                                     Volume                               \\\n                   KO       MSFT       AAPL        BA       DIS      IBM   \nDate                                                                       \n2009-12-31  28.790001  30.980000  352410800   2189400  19651700  4223400   \n2010-01-04  28.580000  30.620001  493729600   6186700  13700400  6155300   \n2010-01-05  28.424999  30.850000  601904800   8867800  10307700  6841400   \n2010-01-06  28.174999  30.879999  552160000   8836500  10709500  5605300   \n2010-01-07  28.165001  30.629999  477131200  14379100   8202100  5840600   \n\n                                \n                  KO      MSFT  \nDate                            \n2009-12-31  10848800  31929700  \n2010-01-04  13870400  38409100  \n2010-01-05  23172400  49749600  \n2010-01-06  19264600  58182400  \n2010-01-07  13234600  50559700  \n\n[5 rows x 36 columns]",
      "text/html": "<div>\n<style scoped>\n    .dataframe tbody tr th:only-of-type {\n        vertical-align: middle;\n    }\n\n    .dataframe tbody tr th {\n        vertical-align: top;\n    }\n\n    .dataframe thead tr th {\n        text-align: left;\n    }\n\n    .dataframe thead tr:last-of-type th {\n        text-align: right;\n    }\n</style>\n<table border=\"1\" class=\"dataframe\">\n  <thead>\n    <tr>\n      <th></th>\n      <th colspan=\"6\" halign=\"left\">Adj Close</th>\n      <th colspan=\"4\" halign=\"left\">Close</th>\n      <th>...</th>\n      <th colspan=\"4\" halign=\"left\">Open</th>\n      <th colspan=\"6\" halign=\"left\">Volume</th>\n    </tr>\n    <tr>\n      <th></th>\n      <th>AAPL</th>\n      <th>BA</th>\n      <th>DIS</th>\n      <th>IBM</th>\n      <th>KO</th>\n      <th>MSFT</th>\n      <th>AAPL</th>\n      <th>BA</th>\n      <th>DIS</th>\n      <th>IBM</th>\n      <th>...</th>\n      <th>DIS</th>\n      <th>IBM</th>\n      <th>KO</th>\n      <th>MSFT</th>\n      <th>AAPL</th>\n      <th>BA</th>\n      <th>DIS</th>\n      <th>IBM</th>\n      <th>KO</th>\n      <th>MSFT</th>\n    </tr>\n    <tr>\n      <th>Date</th>\n      <th></th>\n      <th></th>\n      <th></th>\n      <th></th>\n      <th></th>\n      <th></th>\n      <th></th>\n      <th></th>\n      <th></th>\n      <th></th>\n      <th></th>\n      <th></th>\n      <th></th>\n      <th></th>\n      <th></th>\n      <th></th>\n      <th></th>\n      <th></th>\n      <th></th>\n      <th></th>\n      <th></th>\n    </tr>\n  </thead>\n  <tbody>\n    <tr>\n      <th>2009-12-31</th>\n      <td>6.503574</td>\n      <td>41.856789</td>\n      <td>28.090706</td>\n      <td>92.406113</td>\n      <td>18.951757</td>\n      <td>23.801456</td>\n      <td>7.526072</td>\n      <td>54.130001</td>\n      <td>32.25</td>\n      <td>130.899994</td>\n      <td>...</td>\n      <td>32.27</td>\n      <td>132.410004</td>\n      <td>28.790001</td>\n      <td>30.980000</td>\n      <td>352410800</td>\n      <td>2189400</td>\n      <td>19651700</td>\n      <td>4223400</td>\n      <td>10848800</td>\n      <td>31929700</td>\n    </tr>\n    <tr>\n      <th>2010-01-04</th>\n      <td>6.604801</td>\n      <td>43.441975</td>\n      <td>27.933924</td>\n      <td>93.500313</td>\n      <td>18.965061</td>\n      <td>24.168472</td>\n      <td>7.643214</td>\n      <td>56.180000</td>\n      <td>32.07</td>\n      <td>132.449997</td>\n      <td>...</td>\n      <td>32.50</td>\n      <td>131.179993</td>\n      <td>28.580000</td>\n      <td>30.620001</td>\n      <td>493729600</td>\n      <td>6186700</td>\n      <td>13700400</td>\n      <td>6155300</td>\n      <td>13870400</td>\n      <td>38409100</td>\n    </tr>\n    <tr>\n      <th>2010-01-05</th>\n      <td>6.616219</td>\n      <td>44.864773</td>\n      <td>27.864237</td>\n      <td>92.370834</td>\n      <td>18.735643</td>\n      <td>24.176279</td>\n      <td>7.656428</td>\n      <td>58.020000</td>\n      <td>31.99</td>\n      <td>130.850006</td>\n      <td>...</td>\n      <td>32.07</td>\n      <td>131.679993</td>\n      <td>28.424999</td>\n      <td>30.850000</td>\n      <td>601904800</td>\n      <td>8867800</td>\n      <td>10307700</td>\n      <td>6841400</td>\n      <td>23172400</td>\n      <td>49749600</td>\n    </tr>\n    <tr>\n      <th>2010-01-06</th>\n      <td>6.510980</td>\n      <td>46.225727</td>\n      <td>27.716166</td>\n      <td>91.770790</td>\n      <td>18.728989</td>\n      <td>24.027906</td>\n      <td>7.534643</td>\n      <td>59.779999</td>\n      <td>31.82</td>\n      <td>130.000000</td>\n      <td>...</td>\n      <td>31.90</td>\n      <td>130.679993</td>\n      <td>28.174999</td>\n      <td>30.879999</td>\n      <td>552160000</td>\n      <td>8836500</td>\n      <td>10709500</td>\n      <td>5605300</td>\n      <td>19264600</td>\n      <td>58182400</td>\n    </tr>\n    <tr>\n      <th>2010-01-07</th>\n      <td>6.498945</td>\n      <td>48.097031</td>\n      <td>27.724878</td>\n      <td>91.453102</td>\n      <td>18.682440</td>\n      <td>23.778025</td>\n      <td>7.520714</td>\n      <td>62.200001</td>\n      <td>31.83</td>\n      <td>129.550003</td>\n      <td>...</td>\n      <td>31.77</td>\n      <td>129.869995</td>\n      <td>28.165001</td>\n      <td>30.629999</td>\n      <td>477131200</td>\n      <td>14379100</td>\n      <td>8202100</td>\n      <td>5840600</td>\n      <td>13234600</td>\n      <td>50559700</td>\n    </tr>\n  </tbody>\n</table>\n<p>5 rows × 36 columns</p>\n</div>"
     },
     "execution_count": 7,
     "metadata": {},
     "output_type": "execute_result"
    }
   ],
   "source": [
    "stocks = pd.read_csv('data/stocks.csv', header=[0,1], index_col=[0], parse_dates=[0])\n",
    "stocks.head()"
   ],
   "metadata": {
    "collapsed": false,
    "pycharm": {
     "name": "#%%\n"
    }
   }
  },
  {
   "cell_type": "code",
   "execution_count": 8,
   "outputs": [
    {
     "data": {
      "text/plain": "                AAPL         BA    DIS         IBM         KO       MSFT\nDate                                                                    \n2009-12-31  7.526072  54.130001  32.25  130.899994  28.500000  30.480000\n2010-01-04  7.643214  56.180000  32.07  132.449997  28.520000  30.950001\n2010-01-05  7.656428  58.020000  31.99  130.850006  28.174999  30.959999\n2010-01-06  7.534643  59.779999  31.82  130.000000  28.165001  30.770000\n2010-01-07  7.520714  62.200001  31.83  129.550003  28.094999  30.450001",
      "text/html": "<div>\n<style scoped>\n    .dataframe tbody tr th:only-of-type {\n        vertical-align: middle;\n    }\n\n    .dataframe tbody tr th {\n        vertical-align: top;\n    }\n\n    .dataframe thead th {\n        text-align: right;\n    }\n</style>\n<table border=\"1\" class=\"dataframe\">\n  <thead>\n    <tr style=\"text-align: right;\">\n      <th></th>\n      <th>AAPL</th>\n      <th>BA</th>\n      <th>DIS</th>\n      <th>IBM</th>\n      <th>KO</th>\n      <th>MSFT</th>\n    </tr>\n    <tr>\n      <th>Date</th>\n      <th></th>\n      <th></th>\n      <th></th>\n      <th></th>\n      <th></th>\n      <th></th>\n    </tr>\n  </thead>\n  <tbody>\n    <tr>\n      <th>2009-12-31</th>\n      <td>7.526072</td>\n      <td>54.130001</td>\n      <td>32.25</td>\n      <td>130.899994</td>\n      <td>28.500000</td>\n      <td>30.480000</td>\n    </tr>\n    <tr>\n      <th>2010-01-04</th>\n      <td>7.643214</td>\n      <td>56.180000</td>\n      <td>32.07</td>\n      <td>132.449997</td>\n      <td>28.520000</td>\n      <td>30.950001</td>\n    </tr>\n    <tr>\n      <th>2010-01-05</th>\n      <td>7.656428</td>\n      <td>58.020000</td>\n      <td>31.99</td>\n      <td>130.850006</td>\n      <td>28.174999</td>\n      <td>30.959999</td>\n    </tr>\n    <tr>\n      <th>2010-01-06</th>\n      <td>7.534643</td>\n      <td>59.779999</td>\n      <td>31.82</td>\n      <td>130.000000</td>\n      <td>28.165001</td>\n      <td>30.770000</td>\n    </tr>\n    <tr>\n      <th>2010-01-07</th>\n      <td>7.520714</td>\n      <td>62.200001</td>\n      <td>31.83</td>\n      <td>129.550003</td>\n      <td>28.094999</td>\n      <td>30.450001</td>\n    </tr>\n  </tbody>\n</table>\n</div>"
     },
     "execution_count": 8,
     "metadata": {},
     "output_type": "execute_result"
    }
   ],
   "source": [
    "close = stocks.loc[:, 'Close'].copy()\n",
    "close.head()"
   ],
   "metadata": {
    "collapsed": false,
    "pycharm": {
     "name": "#%%\n"
    }
   }
  },
  {
   "cell_type": "code",
   "execution_count": 9,
   "outputs": [
    {
     "name": "stdout",
     "output_type": "stream",
     "text": [
      "<class 'pandas.core.frame.DataFrame'>\n",
      "DatetimeIndex: 2289 entries, 2009-12-31 to 2019-02-05\n",
      "Data columns (total 6 columns):\n",
      " #   Column  Non-Null Count  Dtype  \n",
      "---  ------  --------------  -----  \n",
      " 0   AAPL    2289 non-null   float64\n",
      " 1   BA      2289 non-null   float64\n",
      " 2   DIS     2289 non-null   float64\n",
      " 3   IBM     2289 non-null   float64\n",
      " 4   KO      2289 non-null   float64\n",
      " 5   MSFT    2289 non-null   float64\n",
      "dtypes: float64(6)\n",
      "memory usage: 125.2 KB\n"
     ]
    }
   ],
   "source": [
    "close.info()"
   ],
   "metadata": {
    "collapsed": false,
    "pycharm": {
     "name": "#%%\n"
    }
   }
  },
  {
   "cell_type": "code",
   "execution_count": 11,
   "outputs": [
    {
     "data": {
      "text/plain": "DatetimeIndex(['2009-12-31', '2010-01-04', '2010-01-05', '2010-01-06',\n               '2010-01-07', '2010-01-08', '2010-01-11', '2010-01-12',\n               '2010-01-13', '2010-01-14',\n               ...\n               '2019-01-23', '2019-01-24', '2019-01-25', '2019-01-28',\n               '2019-01-29', '2019-01-30', '2019-01-31', '2019-02-01',\n               '2019-02-04', '2019-02-05'],\n              dtype='datetime64[ns]', name='Date', length=2289, freq=None)"
     },
     "execution_count": 11,
     "metadata": {},
     "output_type": "execute_result"
    }
   ],
   "source": [
    "close.index"
   ],
   "metadata": {
    "collapsed": false,
    "pycharm": {
     "name": "#%%\n"
    }
   }
  },
  {
   "cell_type": "code",
   "execution_count": 12,
   "outputs": [
    {
     "data": {
      "text/plain": "Int64Index([31,  4,  5,  6,  7,  8, 11, 12, 13, 14,\n            ...\n            23, 24, 25, 28, 29, 30, 31,  1,  4,  5],\n           dtype='int64', name='Date', length=2289)"
     },
     "execution_count": 12,
     "metadata": {},
     "output_type": "execute_result"
    }
   ],
   "source": [
    "close.index.day"
   ],
   "metadata": {
    "collapsed": false,
    "pycharm": {
     "name": "#%%\n"
    }
   }
  },
  {
   "cell_type": "code",
   "execution_count": 13,
   "outputs": [
    {
     "data": {
      "text/plain": "Int64Index([12,  1,  1,  1,  1,  1,  1,  1,  1,  1,\n            ...\n             1,  1,  1,  1,  1,  1,  1,  2,  2,  2],\n           dtype='int64', name='Date', length=2289)"
     },
     "execution_count": 13,
     "metadata": {},
     "output_type": "execute_result"
    }
   ],
   "source": [
    "close.index.month"
   ],
   "metadata": {
    "collapsed": false,
    "pycharm": {
     "name": "#%%\n"
    }
   }
  },
  {
   "cell_type": "code",
   "execution_count": 14,
   "outputs": [
    {
     "data": {
      "text/plain": "Int64Index([2009, 2010, 2010, 2010, 2010, 2010, 2010, 2010, 2010, 2010,\n            ...\n            2019, 2019, 2019, 2019, 2019, 2019, 2019, 2019, 2019, 2019],\n           dtype='int64', name='Date', length=2289)"
     },
     "execution_count": 14,
     "metadata": {},
     "output_type": "execute_result"
    }
   ],
   "source": [
    "close.index.year"
   ],
   "metadata": {
    "collapsed": false,
    "pycharm": {
     "name": "#%%\n"
    }
   }
  },
  {
   "cell_type": "code",
   "execution_count": 16,
   "outputs": [
    {
     "data": {
      "text/plain": "Index(['Thursday', 'Monday', 'Tuesday', 'Wednesday', 'Thursday', 'Friday',\n       'Monday', 'Tuesday', 'Wednesday', 'Thursday',\n       ...\n       'Wednesday', 'Thursday', 'Friday', 'Monday', 'Tuesday', 'Wednesday',\n       'Thursday', 'Friday', 'Monday', 'Tuesday'],\n      dtype='object', name='Date', length=2289)"
     },
     "execution_count": 16,
     "metadata": {},
     "output_type": "execute_result"
    }
   ],
   "source": [
    "close.index.day_name()"
   ],
   "metadata": {
    "collapsed": false,
    "pycharm": {
     "name": "#%%\n"
    }
   }
  },
  {
   "cell_type": "code",
   "execution_count": 20,
   "outputs": [
    {
     "ename": "AttributeError",
     "evalue": "'DatetimeIndex' object has no attribute 'weekday_name'",
     "output_type": "error",
     "traceback": [
      "\u001B[1;31m---------------------------------------------------------------------------\u001B[0m",
      "\u001B[1;31mAttributeError\u001B[0m                            Traceback (most recent call last)",
      "Input \u001B[1;32mIn [20]\u001B[0m, in \u001B[0;36m<cell line: 1>\u001B[1;34m()\u001B[0m\n\u001B[1;32m----> 1\u001B[0m \u001B[43mclose\u001B[49m\u001B[38;5;241;43m.\u001B[39;49m\u001B[43mindex\u001B[49m\u001B[38;5;241;43m.\u001B[39;49m\u001B[43mweekday_name\u001B[49m\n",
      "\u001B[1;31mAttributeError\u001B[0m: 'DatetimeIndex' object has no attribute 'weekday_name'"
     ]
    }
   ],
   "source": [
    "# Doesn't seem to work\n",
    "#close.index.weekday_name"
   ],
   "metadata": {
    "collapsed": false,
    "pycharm": {
     "name": "#%%\n"
    }
   }
  },
  {
   "cell_type": "code",
   "execution_count": 21,
   "outputs": [
    {
     "data": {
      "text/plain": "Index(['December', 'January', 'January', 'January', 'January', 'January',\n       'January', 'January', 'January', 'January',\n       ...\n       'January', 'January', 'January', 'January', 'January', 'January',\n       'January', 'February', 'February', 'February'],\n      dtype='object', name='Date', length=2289)"
     },
     "execution_count": 21,
     "metadata": {},
     "output_type": "execute_result"
    }
   ],
   "source": [
    "close.index.month_name()"
   ],
   "metadata": {
    "collapsed": false,
    "pycharm": {
     "name": "#%%\n"
    }
   }
  },
  {
   "cell_type": "code",
   "execution_count": 22,
   "outputs": [
    {
     "data": {
      "text/plain": "Int64Index([3, 0, 1, 2, 3, 4, 0, 1, 2, 3,\n            ...\n            2, 3, 4, 0, 1, 2, 3, 4, 0, 1],\n           dtype='int64', name='Date', length=2289)"
     },
     "execution_count": 22,
     "metadata": {},
     "output_type": "execute_result"
    }
   ],
   "source": [
    "close.index.weekday"
   ],
   "metadata": {
    "collapsed": false,
    "pycharm": {
     "name": "#%%\n"
    }
   }
  },
  {
   "cell_type": "code",
   "execution_count": 23,
   "outputs": [
    {
     "data": {
      "text/plain": "Int64Index([4, 1, 1, 1, 1, 1, 1, 1, 1, 1,\n            ...\n            1, 1, 1, 1, 1, 1, 1, 1, 1, 1],\n           dtype='int64', name='Date', length=2289)"
     },
     "execution_count": 23,
     "metadata": {},
     "output_type": "execute_result"
    }
   ],
   "source": [
    "close.index.quarter"
   ],
   "metadata": {
    "collapsed": false,
    "pycharm": {
     "name": "#%%\n"
    }
   }
  },
  {
   "cell_type": "code",
   "execution_count": 24,
   "outputs": [
    {
     "data": {
      "text/plain": "Int64Index([31, 31, 31, 31, 31, 31, 31, 31, 31, 31,\n            ...\n            31, 31, 31, 31, 31, 31, 31, 28, 28, 28],\n           dtype='int64', name='Date', length=2289)"
     },
     "execution_count": 24,
     "metadata": {},
     "output_type": "execute_result"
    }
   ],
   "source": [
    "close.index.days_in_month"
   ],
   "metadata": {
    "collapsed": false,
    "pycharm": {
     "name": "#%%\n"
    }
   }
  },
  {
   "cell_type": "code",
   "execution_count": 25,
   "outputs": [
    {
     "name": "stderr",
     "output_type": "stream",
     "text": [
      "C:\\Users\\xjayc\\AppData\\Local\\Temp\\ipykernel_36576\\1832513683.py:1: FutureWarning: weekofyear and week have been deprecated, please use DatetimeIndex.isocalendar().week instead, which returns a Series.  To exactly reproduce the behavior of week and weekofyear and return an Index, you may call pd.Int64Index(idx.isocalendar().week)\n",
      "  close.index.week\n"
     ]
    },
    {
     "data": {
      "text/plain": "Int64Index([53,  1,  1,  1,  1,  1,  2,  2,  2,  2,\n            ...\n             4,  4,  4,  5,  5,  5,  5,  5,  6,  6],\n           dtype='int64', name='Date', length=2289)"
     },
     "execution_count": 25,
     "metadata": {},
     "output_type": "execute_result"
    }
   ],
   "source": [
    "close.index.week"
   ],
   "metadata": {
    "collapsed": false,
    "pycharm": {
     "name": "#%%\n"
    }
   }
  },
  {
   "cell_type": "code",
   "execution_count": 26,
   "outputs": [
    {
     "name": "stderr",
     "output_type": "stream",
     "text": [
      "C:\\Users\\xjayc\\AppData\\Local\\Temp\\ipykernel_36576\\410976684.py:1: FutureWarning: weekofyear and week have been deprecated, please use DatetimeIndex.isocalendar().week instead, which returns a Series.  To exactly reproduce the behavior of week and weekofyear and return an Index, you may call pd.Int64Index(idx.isocalendar().week)\n",
      "  close.index.weekofyear\n"
     ]
    },
    {
     "data": {
      "text/plain": "Int64Index([53,  1,  1,  1,  1,  1,  2,  2,  2,  2,\n            ...\n             4,  4,  4,  5,  5,  5,  5,  5,  6,  6],\n           dtype='int64', name='Date', length=2289)"
     },
     "execution_count": 26,
     "metadata": {},
     "output_type": "execute_result"
    }
   ],
   "source": [
    "close.index.weekofyear"
   ],
   "metadata": {
    "collapsed": false,
    "pycharm": {
     "name": "#%%\n"
    }
   }
  },
  {
   "cell_type": "code",
   "execution_count": 27,
   "outputs": [
    {
     "data": {
      "text/plain": "array([ True, False, False, ..., False, False, False])"
     },
     "execution_count": 27,
     "metadata": {},
     "output_type": "execute_result"
    }
   ],
   "source": [
    "close.index.is_month_end"
   ],
   "metadata": {
    "collapsed": false,
    "pycharm": {
     "name": "#%%\n"
    }
   }
  },
  {
   "cell_type": "code",
   "execution_count": 29,
   "outputs": [
    {
     "data": {
      "text/plain": "                AAPL         BA    DIS         IBM         KO       MSFT  \\\nDate                                                                       \n2009-12-31  7.526072  54.130001  32.25  130.899994  28.500000  30.480000   \n2010-01-04  7.643214  56.180000  32.07  132.449997  28.520000  30.950001   \n2010-01-05  7.656428  58.020000  31.99  130.850006  28.174999  30.959999   \n2010-01-06  7.534643  59.779999  31.82  130.000000  28.165001  30.770000   \n2010-01-07  7.520714  62.200001  31.83  129.550003  28.094999  30.450001   \n\n                  Day  Quarter  \nDate                            \n2009-12-31   Thursday        4  \n2010-01-04     Monday        1  \n2010-01-05    Tuesday        1  \n2010-01-06  Wednesday        1  \n2010-01-07   Thursday        1  ",
      "text/html": "<div>\n<style scoped>\n    .dataframe tbody tr th:only-of-type {\n        vertical-align: middle;\n    }\n\n    .dataframe tbody tr th {\n        vertical-align: top;\n    }\n\n    .dataframe thead th {\n        text-align: right;\n    }\n</style>\n<table border=\"1\" class=\"dataframe\">\n  <thead>\n    <tr style=\"text-align: right;\">\n      <th></th>\n      <th>AAPL</th>\n      <th>BA</th>\n      <th>DIS</th>\n      <th>IBM</th>\n      <th>KO</th>\n      <th>MSFT</th>\n      <th>Day</th>\n      <th>Quarter</th>\n    </tr>\n    <tr>\n      <th>Date</th>\n      <th></th>\n      <th></th>\n      <th></th>\n      <th></th>\n      <th></th>\n      <th></th>\n      <th></th>\n      <th></th>\n    </tr>\n  </thead>\n  <tbody>\n    <tr>\n      <th>2009-12-31</th>\n      <td>7.526072</td>\n      <td>54.130001</td>\n      <td>32.25</td>\n      <td>130.899994</td>\n      <td>28.500000</td>\n      <td>30.480000</td>\n      <td>Thursday</td>\n      <td>4</td>\n    </tr>\n    <tr>\n      <th>2010-01-04</th>\n      <td>7.643214</td>\n      <td>56.180000</td>\n      <td>32.07</td>\n      <td>132.449997</td>\n      <td>28.520000</td>\n      <td>30.950001</td>\n      <td>Monday</td>\n      <td>1</td>\n    </tr>\n    <tr>\n      <th>2010-01-05</th>\n      <td>7.656428</td>\n      <td>58.020000</td>\n      <td>31.99</td>\n      <td>130.850006</td>\n      <td>28.174999</td>\n      <td>30.959999</td>\n      <td>Tuesday</td>\n      <td>1</td>\n    </tr>\n    <tr>\n      <th>2010-01-06</th>\n      <td>7.534643</td>\n      <td>59.779999</td>\n      <td>31.82</td>\n      <td>130.000000</td>\n      <td>28.165001</td>\n      <td>30.770000</td>\n      <td>Wednesday</td>\n      <td>1</td>\n    </tr>\n    <tr>\n      <th>2010-01-07</th>\n      <td>7.520714</td>\n      <td>62.200001</td>\n      <td>31.83</td>\n      <td>129.550003</td>\n      <td>28.094999</td>\n      <td>30.450001</td>\n      <td>Thursday</td>\n      <td>1</td>\n    </tr>\n  </tbody>\n</table>\n</div>"
     },
     "execution_count": 29,
     "metadata": {},
     "output_type": "execute_result"
    }
   ],
   "source": [
    "close['Day'] = stocks.index.day_name()\n",
    "close['Quarter'] = stocks.index.quarter\n",
    "close.head()"
   ],
   "metadata": {
    "collapsed": false,
    "pycharm": {
     "name": "#%%\n"
    }
   }
  },
  {
   "cell_type": "code",
   "execution_count": null,
   "outputs": [],
   "source": [],
   "metadata": {
    "collapsed": false,
    "pycharm": {
     "name": "#%%\n"
    }
   }
  }
 ],
 "metadata": {
  "kernelspec": {
   "display_name": "Python 3",
   "language": "python",
   "name": "python3"
  },
  "language_info": {
   "codemirror_mode": {
    "name": "ipython",
    "version": 2
   },
   "file_extension": ".py",
   "mimetype": "text/x-python",
   "name": "python",
   "nbconvert_exporter": "python",
   "pygments_lexer": "ipython2",
   "version": "2.7.6"
  }
 },
 "nbformat": 4,
 "nbformat_minor": 0
}