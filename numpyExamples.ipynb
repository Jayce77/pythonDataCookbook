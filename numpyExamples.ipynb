{
 "cells": [
  {
   "cell_type": "markdown",
   "metadata": {
    "collapsed": true,
    "pycharm": {
     "name": "#%% md\n"
    }
   },
   "source": [
    "# Numpy\n",
    "## Numpy Arrays"
   ]
  },
  {
   "cell_type": "code",
   "execution_count": 188,
   "outputs": [],
   "source": [
    "import numpy as np"
   ],
   "metadata": {
    "collapsed": false,
    "pycharm": {
     "name": "#%%\n"
    }
   }
  },
  {
   "cell_type": "code",
   "execution_count": 189,
   "outputs": [
    {
     "data": {
      "text/plain": "[50, 100, 120, 150, 200, 300]"
     },
     "execution_count": 189,
     "metadata": {},
     "output_type": "execute_result"
    }
   ],
   "source": [
    "cf = [50, 100, 120, 150, 200, 300]\n",
    "cf"
   ],
   "metadata": {
    "collapsed": false,
    "pycharm": {
     "name": "#%%\n"
    }
   }
  },
  {
   "cell_type": "code",
   "execution_count": 190,
   "outputs": [
    {
     "data": {
      "text/plain": "array([ 50, 100, 120, 150, 200, 300])"
     },
     "execution_count": 190,
     "metadata": {},
     "output_type": "execute_result"
    }
   ],
   "source": [
    "cf_a = np.array(cf)\n",
    "cf_a"
   ],
   "metadata": {
    "collapsed": false,
    "pycharm": {
     "name": "#%%\n"
    }
   }
  },
  {
   "cell_type": "code",
   "execution_count": 191,
   "outputs": [
    {
     "data": {
      "text/plain": "numpy.ndarray"
     },
     "execution_count": 191,
     "metadata": {},
     "output_type": "execute_result"
    }
   ],
   "source": [
    "type(cf_a)"
   ],
   "metadata": {
    "collapsed": false,
    "pycharm": {
     "name": "#%%\n"
    }
   }
  },
  {
   "cell_type": "markdown",
   "source": [
    "### Numpy allow element wise applciation of math operations"
   ],
   "metadata": {
    "collapsed": false,
    "pycharm": {
     "name": "#%% md\n"
    }
   }
  },
  {
   "cell_type": "code",
   "execution_count": 192,
   "outputs": [
    {
     "data": {
      "text/plain": "array([ 30,  80, 100, 130, 180, 280])"
     },
     "execution_count": 192,
     "metadata": {},
     "output_type": "execute_result"
    }
   ],
   "source": [
    "cf_a - 20"
   ],
   "metadata": {
    "collapsed": false,
    "pycharm": {
     "name": "#%%\n"
    }
   }
  },
  {
   "cell_type": "code",
   "execution_count": 193,
   "outputs": [
    {
     "data": {
      "text/plain": "array([ 55., 110., 132., 165., 220., 330.])"
     },
     "execution_count": 193,
     "metadata": {},
     "output_type": "execute_result"
    }
   ],
   "source": [
    "cf_a * 1.1"
   ],
   "metadata": {
    "collapsed": false,
    "pycharm": {
     "name": "#%%\n"
    }
   }
  },
  {
   "cell_type": "markdown",
   "source": [
    "### Numpy performs vector operations"
   ],
   "metadata": {
    "collapsed": false,
    "pycharm": {
     "name": "#%% md\n"
    }
   }
  },
  {
   "cell_type": "code",
   "execution_count": 194,
   "outputs": [],
   "source": [
    "add_cf = np.array([10, 20, -10, 30, 10, -5])"
   ],
   "metadata": {
    "collapsed": false,
    "pycharm": {
     "name": "#%%\n"
    }
   }
  },
  {
   "cell_type": "code",
   "execution_count": 195,
   "outputs": [
    {
     "data": {
      "text/plain": "array([ 60, 120, 110, 180, 210, 295])"
     },
     "execution_count": 195,
     "metadata": {},
     "output_type": "execute_result"
    }
   ],
   "source": [
    "cf_a + add_cf"
   ],
   "metadata": {
    "collapsed": false,
    "pycharm": {
     "name": "#%%\n"
    }
   }
  },
  {
   "cell_type": "code",
   "execution_count": 196,
   "outputs": [],
   "source": [
    "cf = np.array([-200, 20, 50, 70, 100, 50])\n",
    "r = 0.06\n",
    "f = 1 + r"
   ],
   "metadata": {
    "collapsed": false,
    "pycharm": {
     "name": "#%%\n"
    }
   }
  },
  {
   "cell_type": "code",
   "execution_count": 197,
   "outputs": [
    {
     "data": {
      "text/plain": "array([0, 1, 2, 3, 4, 5])"
     },
     "execution_count": 197,
     "metadata": {},
     "output_type": "execute_result"
    }
   ],
   "source": [
    "n = np.array([0, 1, 2 ,3, 4, 5])\n",
    "n"
   ],
   "metadata": {
    "collapsed": false,
    "pycharm": {
     "name": "#%%\n"
    }
   }
  },
  {
   "cell_type": "code",
   "execution_count": 198,
   "outputs": [
    {
     "data": {
      "text/plain": "array([-200.        ,   18.86792453,   44.499822  ,   58.77334981,\n         79.20936632,   37.36290864])"
     },
     "execution_count": 198,
     "metadata": {},
     "output_type": "execute_result"
    }
   ],
   "source": [
    "pv_array = cf / f**n\n",
    "pv_array"
   ],
   "metadata": {
    "collapsed": false,
    "pycharm": {
     "name": "#%%\n"
    }
   }
  },
  {
   "cell_type": "code",
   "execution_count": 199,
   "outputs": [
    {
     "data": {
      "text/plain": "38.71337130837991"
     },
     "execution_count": 199,
     "metadata": {},
     "output_type": "execute_result"
    }
   ],
   "source": [
    "NPV = pv_array.sum()\n",
    "NPV"
   ],
   "metadata": {
    "collapsed": false,
    "pycharm": {
     "name": "#%%\n"
    }
   }
  },
  {
   "cell_type": "markdown",
   "source": [
    "### Changing Elements in Numpy Arrays and Mutability"
   ],
   "metadata": {
    "collapsed": false,
    "pycharm": {
     "name": "#%% md\n"
    }
   }
  },
  {
   "cell_type": "code",
   "execution_count": 200,
   "outputs": [],
   "source": [
    "cf = np.array([100, 10, 20, 50, 30, 25])"
   ],
   "metadata": {
    "collapsed": false,
    "pycharm": {
     "name": "#%%\n"
    }
   }
  },
  {
   "cell_type": "code",
   "execution_count": 201,
   "outputs": [],
   "source": [
    "cf[0] = 95"
   ],
   "metadata": {
    "collapsed": false,
    "pycharm": {
     "name": "#%%\n"
    }
   }
  },
  {
   "cell_type": "code",
   "execution_count": 202,
   "outputs": [
    {
     "data": {
      "text/plain": "array([95, 10, 20, 50, 30, 25])"
     },
     "execution_count": 202,
     "metadata": {},
     "output_type": "execute_result"
    }
   ],
   "source": [
    "cf"
   ],
   "metadata": {
    "collapsed": false,
    "pycharm": {
     "name": "#%%\n"
    }
   }
  },
  {
   "cell_type": "code",
   "execution_count": 203,
   "outputs": [],
   "source": [
    "cf[1:] = [40, 40, 40, 40, 40]"
   ],
   "metadata": {
    "collapsed": false,
    "pycharm": {
     "name": "#%%\n"
    }
   }
  },
  {
   "cell_type": "code",
   "execution_count": 204,
   "outputs": [
    {
     "data": {
      "text/plain": "array([95, 40, 40, 40, 40, 40])"
     },
     "execution_count": 204,
     "metadata": {},
     "output_type": "execute_result"
    }
   ],
   "source": [
    "cf"
   ],
   "metadata": {
    "collapsed": false,
    "pycharm": {
     "name": "#%%\n"
    }
   }
  },
  {
   "cell_type": "code",
   "execution_count": 205,
   "outputs": [],
   "source": [
    "# Broadcasting\n",
    "cf[1:] = 45"
   ],
   "metadata": {
    "collapsed": false,
    "pycharm": {
     "name": "#%%\n"
    }
   }
  },
  {
   "cell_type": "code",
   "execution_count": 206,
   "outputs": [
    {
     "data": {
      "text/plain": "array([95, 45, 45, 45, 45, 45])"
     },
     "execution_count": 206,
     "metadata": {},
     "output_type": "execute_result"
    }
   ],
   "source": [
    "cf"
   ],
   "metadata": {
    "collapsed": false,
    "pycharm": {
     "name": "#%%\n"
    }
   }
  },
  {
   "cell_type": "code",
   "execution_count": 207,
   "outputs": [],
   "source": [
    "# Adding to every element (Non-mutating)\n",
    "cf = cf + 10"
   ],
   "metadata": {
    "collapsed": false,
    "pycharm": {
     "name": "#%%\n"
    }
   }
  },
  {
   "cell_type": "code",
   "execution_count": 208,
   "outputs": [
    {
     "data": {
      "text/plain": "array([105,  55,  55,  55,  55,  55])"
     },
     "execution_count": 208,
     "metadata": {},
     "output_type": "execute_result"
    }
   ],
   "source": [
    "cf"
   ],
   "metadata": {
    "collapsed": false,
    "pycharm": {
     "name": "#%%\n"
    }
   }
  },
  {
   "cell_type": "code",
   "execution_count": 209,
   "outputs": [
    {
     "data": {
      "text/plain": "array([100,  10,  20,  50,  30,  25])"
     },
     "execution_count": 209,
     "metadata": {},
     "output_type": "execute_result"
    }
   ],
   "source": [
    "cf1 = np.array([100, 10, 20, 50, 30, 25])\n",
    "cf1"
   ],
   "metadata": {
    "collapsed": false,
    "pycharm": {
     "name": "#%%\n"
    }
   }
  },
  {
   "cell_type": "code",
   "execution_count": 210,
   "outputs": [],
   "source": [
    "cf2 = cf1"
   ],
   "metadata": {
    "collapsed": false,
    "pycharm": {
     "name": "#%%\n"
    }
   }
  },
  {
   "cell_type": "code",
   "execution_count": 211,
   "outputs": [
    {
     "data": {
      "text/plain": "array([95, 10, 20, 50, 30, 25])"
     },
     "execution_count": 211,
     "metadata": {},
     "output_type": "execute_result"
    }
   ],
   "source": [
    "cf1[0] = 95\n",
    "cf1"
   ],
   "metadata": {
    "collapsed": false,
    "pycharm": {
     "name": "#%%\n"
    }
   }
  },
  {
   "cell_type": "code",
   "execution_count": 212,
   "outputs": [
    {
     "data": {
      "text/plain": "array([95, 10, 20, 50, 30, 25])"
     },
     "execution_count": 212,
     "metadata": {},
     "output_type": "execute_result"
    }
   ],
   "source": [
    "# Both point to same reference\n",
    "cf2"
   ],
   "metadata": {
    "collapsed": false,
    "pycharm": {
     "name": "#%%\n"
    }
   }
  },
  {
   "cell_type": "code",
   "execution_count": 213,
   "outputs": [],
   "source": [
    "# Creation of new array\n",
    "cf2 = cf1[:]"
   ],
   "metadata": {
    "collapsed": false,
    "pycharm": {
     "name": "#%%\n"
    }
   }
  },
  {
   "cell_type": "code",
   "execution_count": 214,
   "outputs": [
    {
     "data": {
      "text/plain": "array([100,  10,  20,  50,  30,  25])"
     },
     "execution_count": 214,
     "metadata": {},
     "output_type": "execute_result"
    }
   ],
   "source": [
    "cf1[0] = 100\n",
    "cf1"
   ],
   "metadata": {
    "collapsed": false,
    "pycharm": {
     "name": "#%%\n"
    }
   }
  },
  {
   "cell_type": "code",
   "execution_count": 215,
   "outputs": [
    {
     "data": {
      "text/plain": "array([100,  10,  20,  50,  30,  25])"
     },
     "execution_count": 215,
     "metadata": {},
     "output_type": "execute_result"
    }
   ],
   "source": [
    "cf2"
   ],
   "metadata": {
    "collapsed": false,
    "pycharm": {
     "name": "#%%\n"
    }
   }
  },
  {
   "cell_type": "markdown",
   "source": [
    "### View vs Copy"
   ],
   "metadata": {
    "collapsed": false,
    "pycharm": {
     "name": "#%% md\n"
    }
   }
  },
  {
   "cell_type": "code",
   "execution_count": 216,
   "outputs": [
    {
     "data": {
      "text/plain": "array([100,  10,  20,  50,  30,  25])"
     },
     "execution_count": 216,
     "metadata": {},
     "output_type": "execute_result"
    }
   ],
   "source": [
    "cf = np.array([100, 10, 20, 50, 30, 25])\n",
    "cf"
   ],
   "metadata": {
    "collapsed": false,
    "pycharm": {
     "name": "#%%\n"
    }
   }
  },
  {
   "cell_type": "code",
   "execution_count": 217,
   "outputs": [
    {
     "data": {
      "text/plain": "array([50, 30, 25])"
     },
     "execution_count": 217,
     "metadata": {},
     "output_type": "execute_result"
    }
   ],
   "source": [
    "last_3 = cf[-3:]\n",
    "last_3"
   ],
   "metadata": {
    "collapsed": false,
    "pycharm": {
     "name": "#%%\n"
    }
   }
  },
  {
   "cell_type": "code",
   "execution_count": 218,
   "outputs": [],
   "source": [
    "# This is a view not a copy (Unlike Python List)\n",
    "last_3[0] = 55"
   ],
   "metadata": {
    "collapsed": false,
    "pycharm": {
     "name": "#%%\n"
    }
   }
  },
  {
   "cell_type": "code",
   "execution_count": 219,
   "outputs": [
    {
     "data": {
      "text/plain": "array([55, 30, 25])"
     },
     "execution_count": 219,
     "metadata": {},
     "output_type": "execute_result"
    }
   ],
   "source": [
    "last_3"
   ],
   "metadata": {
    "collapsed": false,
    "pycharm": {
     "name": "#%%\n"
    }
   }
  },
  {
   "cell_type": "code",
   "execution_count": 220,
   "outputs": [
    {
     "data": {
      "text/plain": "array([100,  10,  20,  55,  30,  25])"
     },
     "execution_count": 220,
     "metadata": {},
     "output_type": "execute_result"
    }
   ],
   "source": [
    "cf"
   ],
   "metadata": {
    "collapsed": false,
    "pycharm": {
     "name": "#%%\n"
    }
   }
  },
  {
   "cell_type": "code",
   "execution_count": 221,
   "outputs": [],
   "source": [
    "# Create a copy with the copy method"
   ],
   "metadata": {
    "collapsed": false,
    "pycharm": {
     "name": "#%%\n"
    }
   }
  },
  {
   "cell_type": "code",
   "execution_count": 222,
   "outputs": [
    {
     "data": {
      "text/plain": "array([55, 30, 25])"
     },
     "execution_count": 222,
     "metadata": {},
     "output_type": "execute_result"
    }
   ],
   "source": [
    "last_3 = cf[-3:].copy()\n",
    "last_3"
   ],
   "metadata": {
    "collapsed": false,
    "pycharm": {
     "name": "#%%\n"
    }
   }
  },
  {
   "cell_type": "code",
   "execution_count": 223,
   "outputs": [
    {
     "data": {
      "text/plain": "array([50, 30, 25])"
     },
     "execution_count": 223,
     "metadata": {},
     "output_type": "execute_result"
    }
   ],
   "source": [
    "last_3[0] = 50\n",
    "last_3"
   ],
   "metadata": {
    "collapsed": false,
    "pycharm": {
     "name": "#%%\n"
    }
   }
  },
  {
   "cell_type": "code",
   "execution_count": 224,
   "outputs": [
    {
     "data": {
      "text/plain": "array([100,  10,  20,  55,  30,  25])"
     },
     "execution_count": 224,
     "metadata": {},
     "output_type": "execute_result"
    }
   ],
   "source": [
    "cf"
   ],
   "metadata": {
    "collapsed": false,
    "pycharm": {
     "name": "#%%\n"
    }
   }
  },
  {
   "cell_type": "markdown",
   "source": [
    "### Numpy Array Methods and Attributes"
   ],
   "metadata": {
    "collapsed": false,
    "pycharm": {
     "name": "#%% md\n"
    }
   }
  },
  {
   "cell_type": "code",
   "execution_count": 225,
   "outputs": [
    {
     "data": {
      "text/plain": "array([100,  10,  20,  50,  30,  25])"
     },
     "execution_count": 225,
     "metadata": {},
     "output_type": "execute_result"
    }
   ],
   "source": [
    "cf = np.array([100, 10, 20, 50, 30, 25])\n",
    "cf"
   ],
   "metadata": {
    "collapsed": false,
    "pycharm": {
     "name": "#%%\n"
    }
   }
  },
  {
   "cell_type": "code",
   "execution_count": 226,
   "outputs": [
    {
     "data": {
      "text/plain": "100"
     },
     "execution_count": 226,
     "metadata": {},
     "output_type": "execute_result"
    }
   ],
   "source": [
    "max(cf)"
   ],
   "metadata": {
    "collapsed": false,
    "pycharm": {
     "name": "#%%\n"
    }
   }
  },
  {
   "cell_type": "code",
   "source": [
    "cf.max()"
   ],
   "metadata": {
    "collapsed": false,
    "pycharm": {
     "name": "#%%\n"
    }
   },
   "execution_count": 227,
   "outputs": [
    {
     "data": {
      "text/plain": "100"
     },
     "execution_count": 227,
     "metadata": {},
     "output_type": "execute_result"
    }
   ]
  },
  {
   "cell_type": "code",
   "execution_count": 228,
   "outputs": [
    {
     "data": {
      "text/plain": "10"
     },
     "execution_count": 228,
     "metadata": {},
     "output_type": "execute_result"
    }
   ],
   "source": [
    "cf.min()"
   ],
   "metadata": {
    "collapsed": false,
    "pycharm": {
     "name": "#%%\n"
    }
   }
  },
  {
   "cell_type": "code",
   "execution_count": 229,
   "outputs": [
    {
     "data": {
      "text/plain": "0"
     },
     "execution_count": 229,
     "metadata": {},
     "output_type": "execute_result"
    }
   ],
   "source": [
    "# index of max element\n",
    "cf.argmax()"
   ],
   "metadata": {
    "collapsed": false,
    "pycharm": {
     "name": "#%%\n"
    }
   }
  },
  {
   "cell_type": "code",
   "execution_count": 230,
   "outputs": [
    {
     "data": {
      "text/plain": "1"
     },
     "execution_count": 230,
     "metadata": {},
     "output_type": "execute_result"
    }
   ],
   "source": [
    "cf.argmin()"
   ],
   "metadata": {
    "collapsed": false,
    "pycharm": {
     "name": "#%%\n"
    }
   }
  },
  {
   "cell_type": "code",
   "execution_count": 231,
   "outputs": [
    {
     "data": {
      "text/plain": "235"
     },
     "execution_count": 231,
     "metadata": {},
     "output_type": "execute_result"
    }
   ],
   "source": [
    "cf.sum()"
   ],
   "metadata": {
    "collapsed": false,
    "pycharm": {
     "name": "#%%\n"
    }
   }
  },
  {
   "cell_type": "code",
   "execution_count": 232,
   "outputs": [
    {
     "data": {
      "text/plain": "array([100, 110, 130, 180, 210, 235], dtype=int32)"
     },
     "execution_count": 232,
     "metadata": {},
     "output_type": "execute_result"
    }
   ],
   "source": [
    "cf.cumsum()"
   ],
   "metadata": {
    "collapsed": false,
    "pycharm": {
     "name": "#%%\n"
    }
   }
  },
  {
   "cell_type": "code",
   "execution_count": 233,
   "outputs": [],
   "source": [
    "array = cf.cumsum()"
   ],
   "metadata": {
    "collapsed": false,
    "pycharm": {
     "name": "#%%\n"
    }
   }
  },
  {
   "cell_type": "code",
   "execution_count": 234,
   "outputs": [],
   "source": [
    "import matplotlib.pyplot as plt"
   ],
   "metadata": {
    "collapsed": false,
    "pycharm": {
     "name": "#%%\n"
    }
   }
  },
  {
   "cell_type": "code",
   "execution_count": 235,
   "outputs": [
    {
     "data": {
      "text/plain": "<Figure size 864x576 with 1 Axes>",
      "image/png": "[encoded data removed]"
     },
     "metadata": {
      "needs_background": "light"
     },
     "output_type": "display_data"
    }
   ],
   "source": [
    "plt.figure(figsize=(12,8))\n",
    "plt.plot(array)\n",
    "plt.show()"
   ],
   "metadata": {
    "collapsed": false,
    "pycharm": {
     "name": "#%%\n"
    }
   }
  },
  {
   "cell_type": "code",
   "execution_count": 236,
   "outputs": [
    {
     "data": {
      "text/plain": "array([ 10,  20,  25,  30,  50, 100])"
     },
     "execution_count": 236,
     "metadata": {},
     "output_type": "execute_result"
    }
   ],
   "source": [
    "cf.sort()\n",
    "cf"
   ],
   "metadata": {
    "collapsed": false,
    "pycharm": {
     "name": "#%%\n"
    }
   }
  },
  {
   "cell_type": "code",
   "execution_count": 237,
   "outputs": [
    {
     "data": {
      "text/plain": "array([ 10.0235,  20.0235,  25.0235,  30.0235,  50.0235, 100.0235])"
     },
     "execution_count": 237,
     "metadata": {},
     "output_type": "execute_result"
    }
   ],
   "source": [
    "cf = cf + 0.0235\n",
    "cf"
   ],
   "metadata": {
    "collapsed": false,
    "pycharm": {
     "name": "#%%\n"
    }
   }
  },
  {
   "cell_type": "code",
   "execution_count": 238,
   "outputs": [
    {
     "data": {
      "text/plain": "array([ 10.02,  20.02,  25.02,  30.02,  50.02, 100.02])"
     },
     "execution_count": 238,
     "metadata": {},
     "output_type": "execute_result"
    }
   ],
   "source": [
    "cf.round(2)"
   ],
   "metadata": {
    "collapsed": false,
    "pycharm": {
     "name": "#%%\n"
    }
   }
  },
  {
   "cell_type": "code",
   "execution_count": 239,
   "outputs": [
    {
     "data": {
      "text/plain": "6"
     },
     "execution_count": 239,
     "metadata": {},
     "output_type": "execute_result"
    }
   ],
   "source": [
    "cf.size"
   ],
   "metadata": {
    "collapsed": false,
    "pycharm": {
     "name": "#%%\n"
    }
   }
  },
  {
   "cell_type": "code",
   "execution_count": 240,
   "outputs": [
    {
     "data": {
      "text/plain": "(6,)"
     },
     "execution_count": 240,
     "metadata": {},
     "output_type": "execute_result"
    }
   ],
   "source": [
    "cf.shape"
   ],
   "metadata": {
    "collapsed": false,
    "pycharm": {
     "name": "#%%\n"
    }
   }
  },
  {
   "cell_type": "markdown",
   "source": [
    "### Numpy Universal Functions"
   ],
   "metadata": {
    "collapsed": false,
    "pycharm": {
     "name": "#%% md\n"
    }
   }
  },
  {
   "cell_type": "code",
   "execution_count": 241,
   "outputs": [
    {
     "data": {
      "text/plain": "array([100,  10,  20,  50,  30,  25])"
     },
     "execution_count": 241,
     "metadata": {},
     "output_type": "execute_result"
    }
   ],
   "source": [
    "cf = np.array([100, 10, 20, 50, 30, 25])\n",
    "cf"
   ],
   "metadata": {
    "collapsed": false,
    "pycharm": {
     "name": "#%%\n"
    }
   }
  },
  {
   "cell_type": "code",
   "execution_count": 242,
   "outputs": [
    {
     "data": {
      "text/plain": "array([10.        ,  3.16227766,  4.47213595,  7.07106781,  5.47722558,\n        5.        ])"
     },
     "execution_count": 242,
     "metadata": {},
     "output_type": "execute_result"
    }
   ],
   "source": [
    "np.sqrt(cf)"
   ],
   "metadata": {
    "collapsed": false,
    "pycharm": {
     "name": "#%%\n"
    }
   }
  },
  {
   "cell_type": "code",
   "execution_count": 243,
   "outputs": [
    {
     "data": {
      "text/plain": "array([2.68811714e+43, 2.20264658e+04, 4.85165195e+08, 5.18470553e+21,\n       1.06864746e+13, 7.20048993e+10])"
     },
     "execution_count": 243,
     "metadata": {},
     "output_type": "execute_result"
    }
   ],
   "source": [
    "np.exp(cf)"
   ],
   "metadata": {
    "collapsed": false,
    "pycharm": {
     "name": "#%%\n"
    }
   }
  },
  {
   "cell_type": "code",
   "execution_count": 244,
   "outputs": [
    {
     "data": {
      "text/plain": "array([10000,   100,   400,  2500,   900,   625], dtype=int32)"
     },
     "execution_count": 244,
     "metadata": {},
     "output_type": "execute_result"
    }
   ],
   "source": [
    "np.power(cf,2)"
   ],
   "metadata": {
    "collapsed": false,
    "pycharm": {
     "name": "#%%\n"
    }
   }
  },
  {
   "cell_type": "code",
   "execution_count": 245,
   "outputs": [
    {
     "data": {
      "text/plain": "array([-200.6 ,   20.53,   50.  ,   70.87,  100.  ,   50.  ])"
     },
     "execution_count": 245,
     "metadata": {},
     "output_type": "execute_result"
    }
   ],
   "source": [
    "cf1 = np.array([-200.6, 20.53, 50, 70.87, 100, 50])\n",
    "cf1"
   ],
   "metadata": {
    "collapsed": false,
    "pycharm": {
     "name": "#%%\n"
    }
   }
  },
  {
   "cell_type": "code",
   "execution_count": 246,
   "outputs": [
    {
     "data": {
      "text/plain": "array([200.6 ,  20.53,  50.  ,  70.87, 100.  ,  50.  ])"
     },
     "execution_count": 246,
     "metadata": {},
     "output_type": "execute_result"
    }
   ],
   "source": [
    "np.abs(cf1)"
   ],
   "metadata": {
    "collapsed": false,
    "pycharm": {
     "name": "#%%\n"
    }
   }
  },
  {
   "cell_type": "code",
   "execution_count": 247,
   "outputs": [
    {
     "data": {
      "text/plain": "array([-200.6,   20.5,   50. ,   70.9,  100. ,   50. ])"
     },
     "execution_count": 247,
     "metadata": {},
     "output_type": "execute_result"
    }
   ],
   "source": [
    "np.round(cf1, decimals=1)"
   ],
   "metadata": {
    "collapsed": false,
    "pycharm": {
     "name": "#%%\n"
    }
   }
  },
  {
   "cell_type": "code",
   "execution_count": 248,
   "outputs": [
    {
     "data": {
      "text/plain": "array([-200.,   21.,   50.,   71.,  100.,   50.])"
     },
     "execution_count": 248,
     "metadata": {},
     "output_type": "execute_result"
    }
   ],
   "source": [
    "np.ceil(cf1)"
   ],
   "metadata": {
    "collapsed": false,
    "pycharm": {
     "name": "#%%\n"
    }
   }
  },
  {
   "cell_type": "code",
   "execution_count": 249,
   "outputs": [
    {
     "data": {
      "text/plain": "array([-201.,   20.,   50.,   70.,  100.,   50.])"
     },
     "execution_count": 249,
     "metadata": {},
     "output_type": "execute_result"
    }
   ],
   "source": [
    "np.floor(cf1)"
   ],
   "metadata": {
    "collapsed": false,
    "pycharm": {
     "name": "#%%\n"
    }
   }
  },
  {
   "cell_type": "markdown",
   "source": [
    "### Boolean Arrays and Conditional Filtering\n",
    "* compares against each element of an array and returns a new boolean array\n",
    "* conditional filtering create a slice by passing a boolean array\n",
    "* creates a new object, not a view"
   ],
   "metadata": {
    "collapsed": false,
    "pycharm": {
     "name": "#%% md\n"
    }
   }
  },
  {
   "cell_type": "code",
   "execution_count": 250,
   "outputs": [
    {
     "data": {
      "text/plain": "array([-200,   20,   50,   70,  100,   50])"
     },
     "execution_count": 250,
     "metadata": {},
     "output_type": "execute_result"
    }
   ],
   "source": [
    "cf = np.array([-200, 20, 50, 70, 100, 50])\n",
    "cf"
   ],
   "metadata": {
    "collapsed": false,
    "pycharm": {
     "name": "#%%\n"
    }
   }
  },
  {
   "cell_type": "code",
   "execution_count": 251,
   "outputs": [
    {
     "data": {
      "text/plain": "array([ True, False, False, False, False, False])"
     },
     "execution_count": 251,
     "metadata": {},
     "output_type": "execute_result"
    }
   ],
   "source": [
    "cf < 0"
   ],
   "metadata": {
    "collapsed": false,
    "pycharm": {
     "name": "#%%\n"
    }
   }
  },
  {
   "cell_type": "code",
   "execution_count": 252,
   "outputs": [
    {
     "data": {
      "text/plain": "array([ True, False, False, False, False, False])"
     },
     "execution_count": 252,
     "metadata": {},
     "output_type": "execute_result"
    }
   ],
   "source": [
    "negative = cf < 0\n",
    "negative"
   ],
   "metadata": {
    "collapsed": false,
    "pycharm": {
     "name": "#%%\n"
    }
   }
  },
  {
   "cell_type": "code",
   "execution_count": 253,
   "outputs": [
    {
     "data": {
      "text/plain": "array([False,  True,  True,  True,  True,  True])"
     },
     "execution_count": 253,
     "metadata": {},
     "output_type": "execute_result"
    }
   ],
   "source": [
    "positive = cf > 0\n",
    "positive"
   ],
   "metadata": {
    "collapsed": false,
    "pycharm": {
     "name": "#%%\n"
    }
   }
  },
  {
   "cell_type": "code",
   "execution_count": 254,
   "outputs": [
    {
     "data": {
      "text/plain": "array([-200])"
     },
     "execution_count": 254,
     "metadata": {},
     "output_type": "execute_result"
    }
   ],
   "source": [
    "cf[negative]"
   ],
   "metadata": {
    "collapsed": false,
    "pycharm": {
     "name": "#%%\n"
    }
   }
  },
  {
   "cell_type": "code",
   "execution_count": 255,
   "outputs": [
    {
     "data": {
      "text/plain": "array([-200])"
     },
     "execution_count": 255,
     "metadata": {},
     "output_type": "execute_result"
    }
   ],
   "source": [
    "neg = cf[cf < 0]\n",
    "neg"
   ],
   "metadata": {
    "collapsed": false,
    "pycharm": {
     "name": "#%%\n"
    }
   }
  },
  {
   "cell_type": "code",
   "execution_count": 256,
   "outputs": [
    {
     "data": {
      "text/plain": "array([1])"
     },
     "execution_count": 256,
     "metadata": {},
     "output_type": "execute_result"
    }
   ],
   "source": [
    "neg[0] = 1\n",
    "neg"
   ],
   "metadata": {
    "collapsed": false,
    "pycharm": {
     "name": "#%%\n"
    }
   }
  },
  {
   "cell_type": "code",
   "execution_count": 257,
   "outputs": [
    {
     "data": {
      "text/plain": "array([-200,   20,   50,   70,  100,   50])"
     },
     "execution_count": 257,
     "metadata": {},
     "output_type": "execute_result"
    }
   ],
   "source": [
    "cf"
   ],
   "metadata": {
    "collapsed": false,
    "pycharm": {
     "name": "#%%\n"
    }
   }
  },
  {
   "cell_type": "markdown",
   "source": [
    "### Advanced Filtering and Bitwise Opperators\n",
    "* and - &\n",
    "* or - |\n",
    "* not - ~"
   ],
   "metadata": {
    "collapsed": false,
    "pycharm": {
     "name": "#%% md\n"
    }
   }
  },
  {
   "cell_type": "code",
   "execution_count": 258,
   "outputs": [
    {
     "data": {
      "text/plain": "array([-200,   20,   50,   70,  100,   50])"
     },
     "execution_count": 258,
     "metadata": {},
     "output_type": "execute_result"
    }
   ],
   "source": [
    "cf = np.array([-200, 20, 50, 70, 100, 50])\n",
    "cf"
   ],
   "metadata": {
    "collapsed": false,
    "pycharm": {
     "name": "#%%\n"
    }
   }
  },
  {
   "cell_type": "code",
   "execution_count": 259,
   "outputs": [
    {
     "data": {
      "text/plain": "array([ True, False, False, False, False, False])"
     },
     "execution_count": 259,
     "metadata": {},
     "output_type": "execute_result"
    }
   ],
   "source": [
    "mask1 = cf < 0\n",
    "mask1"
   ],
   "metadata": {
    "collapsed": false,
    "pycharm": {
     "name": "#%%\n"
    }
   }
  },
  {
   "cell_type": "code",
   "source": [
    "mask2 = np.abs(cf) > 60\n",
    "mask2"
   ],
   "metadata": {
    "collapsed": false,
    "pycharm": {
     "name": "#%%\n"
    }
   },
   "execution_count": 260,
   "outputs": [
    {
     "data": {
      "text/plain": "array([ True, False, False,  True,  True, False])"
     },
     "execution_count": 260,
     "metadata": {},
     "output_type": "execute_result"
    }
   ]
  },
  {
   "cell_type": "code",
   "source": [
    "# This causes error\n",
    "# Need to use any or all N2 opperation not element to element\n",
    "# mask1 or mask2"
   ],
   "metadata": {
    "collapsed": false,
    "pycharm": {
     "name": "#%%\n"
    }
   },
   "execution_count": 261,
   "outputs": []
  },
  {
   "cell_type": "code",
   "execution_count": 262,
   "outputs": [
    {
     "data": {
      "text/plain": "array([ True, False, False,  True,  True, False])"
     },
     "execution_count": 262,
     "metadata": {},
     "output_type": "execute_result"
    }
   ],
   "source": [
    "# Use bitwise operator\n",
    "mask1 | mask2"
   ],
   "metadata": {
    "collapsed": false,
    "pycharm": {
     "name": "#%%\n"
    }
   }
  },
  {
   "cell_type": "code",
   "execution_count": 263,
   "outputs": [
    {
     "data": {
      "text/plain": "array([-200,   70,  100])"
     },
     "execution_count": 263,
     "metadata": {},
     "output_type": "execute_result"
    }
   ],
   "source": [
    "cf[mask1 | mask2]"
   ],
   "metadata": {
    "collapsed": false,
    "pycharm": {
     "name": "#%%\n"
    }
   }
  },
  {
   "cell_type": "code",
   "execution_count": 264,
   "outputs": [],
   "source": [
    "# same error issue with not\n",
    "# not(mask1 | mask2)"
   ],
   "metadata": {
    "collapsed": false,
    "pycharm": {
     "name": "#%%\n"
    }
   }
  },
  {
   "cell_type": "code",
   "execution_count": 265,
   "outputs": [
    {
     "data": {
      "text/plain": "array([False,  True,  True, False, False,  True])"
     },
     "execution_count": 265,
     "metadata": {},
     "output_type": "execute_result"
    }
   ],
   "source": [
    "# use bitwise not\n",
    "~(mask1 | mask2)"
   ],
   "metadata": {
    "collapsed": false,
    "pycharm": {
     "name": "#%%\n"
    }
   }
  },
  {
   "cell_type": "code",
   "execution_count": 266,
   "outputs": [
    {
     "data": {
      "text/plain": "array([20, 50, 50])"
     },
     "execution_count": 266,
     "metadata": {},
     "output_type": "execute_result"
    }
   ],
   "source": [
    "cf[~(mask1 | mask2)]"
   ],
   "metadata": {
    "collapsed": false,
    "pycharm": {
     "name": "#%%\n"
    }
   }
  },
  {
   "cell_type": "markdown",
   "source": [
    "### Payback Period with Numpy where"
   ],
   "metadata": {
    "collapsed": false,
    "pycharm": {
     "name": "#%% md\n"
    }
   }
  },
  {
   "cell_type": "code",
   "execution_count": 267,
   "outputs": [
    {
     "data": {
      "text/plain": "array([-200,   20,   50,   70,  100,   50])"
     },
     "execution_count": 267,
     "metadata": {},
     "output_type": "execute_result"
    }
   ],
   "source": [
    "cf = np.array([-200, 20, 50, 70, 100, 50])\n",
    "cf"
   ],
   "metadata": {
    "collapsed": false,
    "pycharm": {
     "name": "#%%\n"
    }
   }
  },
  {
   "cell_type": "code",
   "execution_count": 268,
   "outputs": [
    {
     "data": {
      "text/plain": "array([-200, -180, -130,  -60,   40,   90], dtype=int32)"
     },
     "execution_count": 268,
     "metadata": {},
     "output_type": "execute_result"
    }
   ],
   "source": [
    "cf.cumsum()"
   ],
   "metadata": {
    "collapsed": false,
    "pycharm": {
     "name": "#%%\n"
    }
   }
  },
  {
   "cell_type": "code",
   "execution_count": 269,
   "outputs": [
    {
     "data": {
      "text/plain": "array([False, False, False, False,  True,  True])"
     },
     "execution_count": 269,
     "metadata": {},
     "output_type": "execute_result"
    }
   ],
   "source": [
    "cf.cumsum() > 0"
   ],
   "metadata": {
    "collapsed": false,
    "pycharm": {
     "name": "#%%\n"
    }
   }
  },
  {
   "cell_type": "code",
   "execution_count": 270,
   "outputs": [
    {
     "data": {
      "text/plain": "(array([4, 5], dtype=int64),)"
     },
     "execution_count": 270,
     "metadata": {},
     "output_type": "execute_result"
    }
   ],
   "source": [
    "np.where(cf.cumsum() > 0)"
   ],
   "metadata": {
    "collapsed": false,
    "pycharm": {
     "name": "#%%\n"
    }
   }
  },
  {
   "cell_type": "code",
   "execution_count": 271,
   "outputs": [
    {
     "data": {
      "text/plain": "4"
     },
     "execution_count": 271,
     "metadata": {},
     "output_type": "execute_result"
    }
   ],
   "source": [
    "# First item of tuple, first element of array\n",
    "np.where(cf.cumsum() > 0)[0][0]"
   ],
   "metadata": {
    "collapsed": false,
    "pycharm": {
     "name": "#%%\n"
    }
   }
  },
  {
   "cell_type": "code",
   "execution_count": 272,
   "outputs": [
    {
     "data": {
      "text/plain": "4"
     },
     "execution_count": 272,
     "metadata": {},
     "output_type": "execute_result"
    }
   ],
   "source": [
    "# Numpy recommends using nonzero method if only looking for index of element meeting condition\n",
    "np.nonzero(cf.cumsum() > 0)[0][0]"
   ],
   "metadata": {
    "collapsed": false,
    "pycharm": {
     "name": "#%%\n"
    }
   }
  },
  {
   "cell_type": "code",
   "execution_count": 273,
   "outputs": [
    {
     "data": {
      "text/plain": "array(['Not Break Even', 'Not Break Even', 'Not Break Even',\n       'Not Break Even', 'Break Even', 'Break Even'], dtype='<U14')"
     },
     "execution_count": 273,
     "metadata": {},
     "output_type": "execute_result"
    }
   ],
   "source": [
    "np.where(cf.cumsum() > 0, \"Break Even\", \"Not Break Even\")"
   ],
   "metadata": {
    "collapsed": false,
    "pycharm": {
     "name": "#%%\n"
    }
   }
  },
  {
   "cell_type": "code",
   "execution_count": 274,
   "outputs": [
    {
     "data": {
      "text/plain": "array(['Negative', 'Positive', 'Positive', 'Positive', 'Positive',\n       'Positive'], dtype='<U8')"
     },
     "execution_count": 274,
     "metadata": {},
     "output_type": "execute_result"
    }
   ],
   "source": [
    "np.where(cf > 0, \"Positive\", \"Negative\")"
   ],
   "metadata": {
    "collapsed": false,
    "pycharm": {
     "name": "#%%\n"
    }
   }
  },
  {
   "cell_type": "markdown",
   "source": [
    "### Creating Numpy Arrays from Scratch"
   ],
   "metadata": {
    "collapsed": false,
    "pycharm": {
     "name": "#%% md\n"
    }
   }
  },
  {
   "cell_type": "code",
   "execution_count": 275,
   "outputs": [
    {
     "data": {
      "text/plain": "[0, 1, 2, 3, 4, 5]"
     },
     "execution_count": 275,
     "metadata": {},
     "output_type": "execute_result"
    }
   ],
   "source": [
    "list(range(6))"
   ],
   "metadata": {
    "collapsed": false,
    "pycharm": {
     "name": "#%%\n"
    }
   }
  },
  {
   "cell_type": "code",
   "execution_count": 276,
   "outputs": [
    {
     "data": {
      "text/plain": "array([0, 1, 2, 3, 4, 5])"
     },
     "execution_count": 276,
     "metadata": {},
     "output_type": "execute_result"
    }
   ],
   "source": [
    "np.arange(6)"
   ],
   "metadata": {
    "collapsed": false,
    "pycharm": {
     "name": "#%%\n"
    }
   }
  },
  {
   "cell_type": "code",
   "execution_count": 277,
   "outputs": [
    {
     "data": {
      "text/plain": "array([ 1,  2,  3,  4,  5,  6,  7,  8,  9, 10])"
     },
     "execution_count": 277,
     "metadata": {},
     "output_type": "execute_result"
    }
   ],
   "source": [
    "np.arange(1,11)"
   ],
   "metadata": {
    "collapsed": false,
    "pycharm": {
     "name": "#%%\n"
    }
   }
  },
  {
   "cell_type": "code",
   "execution_count": 278,
   "outputs": [
    {
     "data": {
      "text/plain": "array([1, 3, 5, 7, 9])"
     },
     "execution_count": 278,
     "metadata": {},
     "output_type": "execute_result"
    }
   ],
   "source": [
    "np.arange(1,11,2)"
   ],
   "metadata": {
    "collapsed": false,
    "pycharm": {
     "name": "#%%\n"
    }
   }
  },
  {
   "cell_type": "code",
   "execution_count": 279,
   "outputs": [
    {
     "data": {
      "text/plain": "array([1. , 1.5, 2. , 2.5, 3. , 3.5, 4. , 4.5, 5. , 5.5, 6. , 6.5, 7. ,\n       7.5, 8. , 8.5, 9. , 9.5])"
     },
     "execution_count": 279,
     "metadata": {},
     "output_type": "execute_result"
    }
   ],
   "source": [
    "np.arange(1,10,.5)"
   ],
   "metadata": {
    "collapsed": false,
    "pycharm": {
     "name": "#%%\n"
    }
   }
  },
  {
   "cell_type": "code",
   "execution_count": 280,
   "outputs": [
    {
     "data": {
      "text/plain": "array([0.1, 0.2, 0.3, 0.4, 0.5, 0.6, 0.7, 0.8, 0.9])"
     },
     "execution_count": 280,
     "metadata": {},
     "output_type": "execute_result"
    }
   ],
   "source": [
    "np.arange(0.1, 1, 0.1)"
   ],
   "metadata": {
    "collapsed": false,
    "pycharm": {
     "name": "#%%\n"
    }
   }
  },
  {
   "cell_type": "code",
   "execution_count": 281,
   "outputs": [
    {
     "data": {
      "text/plain": "array([ 1.,  2.,  3.,  4.,  5.,  6.,  7.,  8.,  9., 10.])"
     },
     "execution_count": 281,
     "metadata": {},
     "output_type": "execute_result"
    }
   ],
   "source": [
    "# Evenly spaced numbers over an interval\n",
    "np.linspace(1, 10, num=10)"
   ],
   "metadata": {
    "collapsed": false,
    "pycharm": {
     "name": "#%%\n"
    }
   }
  },
  {
   "cell_type": "code",
   "execution_count": 282,
   "outputs": [
    {
     "data": {
      "text/plain": "array([0.01, 0.02, 0.03, 0.04, 0.05, 0.06, 0.07, 0.08, 0.09, 0.1 , 0.11,\n       0.12, 0.13, 0.14, 0.15])"
     },
     "execution_count": 282,
     "metadata": {},
     "output_type": "execute_result"
    }
   ],
   "source": [
    "np.linspace(0.01, 0.15, num=15)"
   ],
   "metadata": {
    "collapsed": false,
    "pycharm": {
     "name": "#%%\n"
    }
   }
  },
  {
   "cell_type": "code",
   "execution_count": 283,
   "outputs": [
    {
     "data": {
      "text/plain": "array([-10.        ,  -9.97997998,  -9.95995996,  -9.93993994,\n        -9.91991992,  -9.8998999 ,  -9.87987988,  -9.85985986,\n        -9.83983984,  -9.81981982,  -9.7997998 ,  -9.77977978,\n        -9.75975976,  -9.73973974,  -9.71971972,  -9.6996997 ,\n        -9.67967968,  -9.65965966,  -9.63963964,  -9.61961962,\n        -9.5995996 ,  -9.57957958,  -9.55955956,  -9.53953954,\n        -9.51951952,  -9.4994995 ,  -9.47947948,  -9.45945946,\n        -9.43943944,  -9.41941942,  -9.3993994 ,  -9.37937938,\n        -9.35935936,  -9.33933934,  -9.31931932,  -9.2992993 ,\n        -9.27927928,  -9.25925926,  -9.23923924,  -9.21921922,\n        -9.1991992 ,  -9.17917918,  -9.15915916,  -9.13913914,\n        -9.11911912,  -9.0990991 ,  -9.07907908,  -9.05905906,\n        -9.03903904,  -9.01901902,  -8.998999  ,  -8.97897898,\n        -8.95895896,  -8.93893894,  -8.91891892,  -8.8988989 ,\n        -8.87887888,  -8.85885886,  -8.83883884,  -8.81881882,\n        -8.7987988 ,  -8.77877878,  -8.75875876,  -8.73873874,\n        -8.71871872,  -8.6986987 ,  -8.67867868,  -8.65865866,\n        -8.63863864,  -8.61861862,  -8.5985986 ,  -8.57857858,\n        -8.55855856,  -8.53853854,  -8.51851852,  -8.4984985 ,\n        -8.47847848,  -8.45845846,  -8.43843844,  -8.41841842,\n        -8.3983984 ,  -8.37837838,  -8.35835836,  -8.33833834,\n        -8.31831832,  -8.2982983 ,  -8.27827828,  -8.25825826,\n        -8.23823824,  -8.21821822,  -8.1981982 ,  -8.17817818,\n        -8.15815816,  -8.13813814,  -8.11811812,  -8.0980981 ,\n        -8.07807808,  -8.05805806,  -8.03803804,  -8.01801802,\n        -7.997998  ,  -7.97797798,  -7.95795796,  -7.93793794,\n        -7.91791792,  -7.8978979 ,  -7.87787788,  -7.85785786,\n        -7.83783784,  -7.81781782,  -7.7977978 ,  -7.77777778,\n        -7.75775776,  -7.73773774,  -7.71771772,  -7.6976977 ,\n        -7.67767768,  -7.65765766,  -7.63763764,  -7.61761762,\n        -7.5975976 ,  -7.57757758,  -7.55755756,  -7.53753754,\n        -7.51751752,  -7.4974975 ,  -7.47747748,  -7.45745746,\n        -7.43743744,  -7.41741742,  -7.3973974 ,  -7.37737738,\n        -7.35735736,  -7.33733734,  -7.31731732,  -7.2972973 ,\n        -7.27727728,  -7.25725726,  -7.23723724,  -7.21721722,\n        -7.1971972 ,  -7.17717718,  -7.15715716,  -7.13713714,\n        -7.11711712,  -7.0970971 ,  -7.07707708,  -7.05705706,\n        -7.03703704,  -7.01701702,  -6.996997  ,  -6.97697698,\n        -6.95695696,  -6.93693694,  -6.91691692,  -6.8968969 ,\n        -6.87687688,  -6.85685686,  -6.83683684,  -6.81681682,\n        -6.7967968 ,  -6.77677678,  -6.75675676,  -6.73673674,\n        -6.71671672,  -6.6966967 ,  -6.67667668,  -6.65665666,\n        -6.63663664,  -6.61661662,  -6.5965966 ,  -6.57657658,\n        -6.55655656,  -6.53653654,  -6.51651652,  -6.4964965 ,\n        -6.47647648,  -6.45645646,  -6.43643644,  -6.41641642,\n        -6.3963964 ,  -6.37637638,  -6.35635636,  -6.33633634,\n        -6.31631632,  -6.2962963 ,  -6.27627628,  -6.25625626,\n        -6.23623624,  -6.21621622,  -6.1961962 ,  -6.17617618,\n        -6.15615616,  -6.13613614,  -6.11611612,  -6.0960961 ,\n        -6.07607608,  -6.05605606,  -6.03603604,  -6.01601602,\n        -5.995996  ,  -5.97597598,  -5.95595596,  -5.93593594,\n        -5.91591592,  -5.8958959 ,  -5.87587588,  -5.85585586,\n        -5.83583584,  -5.81581582,  -5.7957958 ,  -5.77577578,\n        -5.75575576,  -5.73573574,  -5.71571572,  -5.6956957 ,\n        -5.67567568,  -5.65565566,  -5.63563564,  -5.61561562,\n        -5.5955956 ,  -5.57557558,  -5.55555556,  -5.53553554,\n        -5.51551552,  -5.4954955 ,  -5.47547548,  -5.45545546,\n        -5.43543544,  -5.41541542,  -5.3953954 ,  -5.37537538,\n        -5.35535536,  -5.33533534,  -5.31531532,  -5.2952953 ,\n        -5.27527528,  -5.25525526,  -5.23523524,  -5.21521522,\n        -5.1951952 ,  -5.17517518,  -5.15515516,  -5.13513514,\n        -5.11511512,  -5.0950951 ,  -5.07507508,  -5.05505506,\n        -5.03503504,  -5.01501502,  -4.99499499,  -4.97497497,\n        -4.95495495,  -4.93493493,  -4.91491491,  -4.89489489,\n        -4.87487487,  -4.85485485,  -4.83483483,  -4.81481481,\n        -4.79479479,  -4.77477477,  -4.75475475,  -4.73473473,\n        -4.71471471,  -4.69469469,  -4.67467467,  -4.65465465,\n        -4.63463463,  -4.61461461,  -4.59459459,  -4.57457457,\n        -4.55455455,  -4.53453453,  -4.51451451,  -4.49449449,\n        -4.47447447,  -4.45445445,  -4.43443443,  -4.41441441,\n        -4.39439439,  -4.37437437,  -4.35435435,  -4.33433433,\n        -4.31431431,  -4.29429429,  -4.27427427,  -4.25425425,\n        -4.23423423,  -4.21421421,  -4.19419419,  -4.17417417,\n        -4.15415415,  -4.13413413,  -4.11411411,  -4.09409409,\n        -4.07407407,  -4.05405405,  -4.03403403,  -4.01401401,\n        -3.99399399,  -3.97397397,  -3.95395395,  -3.93393393,\n        -3.91391391,  -3.89389389,  -3.87387387,  -3.85385385,\n        -3.83383383,  -3.81381381,  -3.79379379,  -3.77377377,\n        -3.75375375,  -3.73373373,  -3.71371371,  -3.69369369,\n        -3.67367367,  -3.65365365,  -3.63363363,  -3.61361361,\n        -3.59359359,  -3.57357357,  -3.55355355,  -3.53353353,\n        -3.51351351,  -3.49349349,  -3.47347347,  -3.45345345,\n        -3.43343343,  -3.41341341,  -3.39339339,  -3.37337337,\n        -3.35335335,  -3.33333333,  -3.31331331,  -3.29329329,\n        -3.27327327,  -3.25325325,  -3.23323323,  -3.21321321,\n        -3.19319319,  -3.17317317,  -3.15315315,  -3.13313313,\n        -3.11311311,  -3.09309309,  -3.07307307,  -3.05305305,\n        -3.03303303,  -3.01301301,  -2.99299299,  -2.97297297,\n        -2.95295295,  -2.93293293,  -2.91291291,  -2.89289289,\n        -2.87287287,  -2.85285285,  -2.83283283,  -2.81281281,\n        -2.79279279,  -2.77277277,  -2.75275275,  -2.73273273,\n        -2.71271271,  -2.69269269,  -2.67267267,  -2.65265265,\n        -2.63263263,  -2.61261261,  -2.59259259,  -2.57257257,\n        -2.55255255,  -2.53253253,  -2.51251251,  -2.49249249,\n        -2.47247247,  -2.45245245,  -2.43243243,  -2.41241241,\n        -2.39239239,  -2.37237237,  -2.35235235,  -2.33233233,\n        -2.31231231,  -2.29229229,  -2.27227227,  -2.25225225,\n        -2.23223223,  -2.21221221,  -2.19219219,  -2.17217217,\n        -2.15215215,  -2.13213213,  -2.11211211,  -2.09209209,\n        -2.07207207,  -2.05205205,  -2.03203203,  -2.01201201,\n        -1.99199199,  -1.97197197,  -1.95195195,  -1.93193193,\n        -1.91191191,  -1.89189189,  -1.87187187,  -1.85185185,\n        -1.83183183,  -1.81181181,  -1.79179179,  -1.77177177,\n        -1.75175175,  -1.73173173,  -1.71171171,  -1.69169169,\n        -1.67167167,  -1.65165165,  -1.63163163,  -1.61161161,\n        -1.59159159,  -1.57157157,  -1.55155155,  -1.53153153,\n        -1.51151151,  -1.49149149,  -1.47147147,  -1.45145145,\n        -1.43143143,  -1.41141141,  -1.39139139,  -1.37137137,\n        -1.35135135,  -1.33133133,  -1.31131131,  -1.29129129,\n        -1.27127127,  -1.25125125,  -1.23123123,  -1.21121121,\n        -1.19119119,  -1.17117117,  -1.15115115,  -1.13113113,\n        -1.11111111,  -1.09109109,  -1.07107107,  -1.05105105,\n        -1.03103103,  -1.01101101,  -0.99099099,  -0.97097097,\n        -0.95095095,  -0.93093093,  -0.91091091,  -0.89089089,\n        -0.87087087,  -0.85085085,  -0.83083083,  -0.81081081,\n        -0.79079079,  -0.77077077,  -0.75075075,  -0.73073073,\n        -0.71071071,  -0.69069069,  -0.67067067,  -0.65065065,\n        -0.63063063,  -0.61061061,  -0.59059059,  -0.57057057,\n        -0.55055055,  -0.53053053,  -0.51051051,  -0.49049049,\n        -0.47047047,  -0.45045045,  -0.43043043,  -0.41041041,\n        -0.39039039,  -0.37037037,  -0.35035035,  -0.33033033,\n        -0.31031031,  -0.29029029,  -0.27027027,  -0.25025025,\n        -0.23023023,  -0.21021021,  -0.19019019,  -0.17017017,\n        -0.15015015,  -0.13013013,  -0.11011011,  -0.09009009,\n        -0.07007007,  -0.05005005,  -0.03003003,  -0.01001001,\n         0.01001001,   0.03003003,   0.05005005,   0.07007007,\n         0.09009009,   0.11011011,   0.13013013,   0.15015015,\n         0.17017017,   0.19019019,   0.21021021,   0.23023023,\n         0.25025025,   0.27027027,   0.29029029,   0.31031031,\n         0.33033033,   0.35035035,   0.37037037,   0.39039039,\n         0.41041041,   0.43043043,   0.45045045,   0.47047047,\n         0.49049049,   0.51051051,   0.53053053,   0.55055055,\n         0.57057057,   0.59059059,   0.61061061,   0.63063063,\n         0.65065065,   0.67067067,   0.69069069,   0.71071071,\n         0.73073073,   0.75075075,   0.77077077,   0.79079079,\n         0.81081081,   0.83083083,   0.85085085,   0.87087087,\n         0.89089089,   0.91091091,   0.93093093,   0.95095095,\n         0.97097097,   0.99099099,   1.01101101,   1.03103103,\n         1.05105105,   1.07107107,   1.09109109,   1.11111111,\n         1.13113113,   1.15115115,   1.17117117,   1.19119119,\n         1.21121121,   1.23123123,   1.25125125,   1.27127127,\n         1.29129129,   1.31131131,   1.33133133,   1.35135135,\n         1.37137137,   1.39139139,   1.41141141,   1.43143143,\n         1.45145145,   1.47147147,   1.49149149,   1.51151151,\n         1.53153153,   1.55155155,   1.57157157,   1.59159159,\n         1.61161161,   1.63163163,   1.65165165,   1.67167167,\n         1.69169169,   1.71171171,   1.73173173,   1.75175175,\n         1.77177177,   1.79179179,   1.81181181,   1.83183183,\n         1.85185185,   1.87187187,   1.89189189,   1.91191191,\n         1.93193193,   1.95195195,   1.97197197,   1.99199199,\n         2.01201201,   2.03203203,   2.05205205,   2.07207207,\n         2.09209209,   2.11211211,   2.13213213,   2.15215215,\n         2.17217217,   2.19219219,   2.21221221,   2.23223223,\n         2.25225225,   2.27227227,   2.29229229,   2.31231231,\n         2.33233233,   2.35235235,   2.37237237,   2.39239239,\n         2.41241241,   2.43243243,   2.45245245,   2.47247247,\n         2.49249249,   2.51251251,   2.53253253,   2.55255255,\n         2.57257257,   2.59259259,   2.61261261,   2.63263263,\n         2.65265265,   2.67267267,   2.69269269,   2.71271271,\n         2.73273273,   2.75275275,   2.77277277,   2.79279279,\n         2.81281281,   2.83283283,   2.85285285,   2.87287287,\n         2.89289289,   2.91291291,   2.93293293,   2.95295295,\n         2.97297297,   2.99299299,   3.01301301,   3.03303303,\n         3.05305305,   3.07307307,   3.09309309,   3.11311311,\n         3.13313313,   3.15315315,   3.17317317,   3.19319319,\n         3.21321321,   3.23323323,   3.25325325,   3.27327327,\n         3.29329329,   3.31331331,   3.33333333,   3.35335335,\n         3.37337337,   3.39339339,   3.41341341,   3.43343343,\n         3.45345345,   3.47347347,   3.49349349,   3.51351351,\n         3.53353353,   3.55355355,   3.57357357,   3.59359359,\n         3.61361361,   3.63363363,   3.65365365,   3.67367367,\n         3.69369369,   3.71371371,   3.73373373,   3.75375375,\n         3.77377377,   3.79379379,   3.81381381,   3.83383383,\n         3.85385385,   3.87387387,   3.89389389,   3.91391391,\n         3.93393393,   3.95395395,   3.97397397,   3.99399399,\n         4.01401401,   4.03403403,   4.05405405,   4.07407407,\n         4.09409409,   4.11411411,   4.13413413,   4.15415415,\n         4.17417417,   4.19419419,   4.21421421,   4.23423423,\n         4.25425425,   4.27427427,   4.29429429,   4.31431431,\n         4.33433433,   4.35435435,   4.37437437,   4.39439439,\n         4.41441441,   4.43443443,   4.45445445,   4.47447447,\n         4.49449449,   4.51451451,   4.53453453,   4.55455455,\n         4.57457457,   4.59459459,   4.61461461,   4.63463463,\n         4.65465465,   4.67467467,   4.69469469,   4.71471471,\n         4.73473473,   4.75475475,   4.77477477,   4.79479479,\n         4.81481481,   4.83483483,   4.85485485,   4.87487487,\n         4.89489489,   4.91491491,   4.93493493,   4.95495495,\n         4.97497497,   4.99499499,   5.01501502,   5.03503504,\n         5.05505506,   5.07507508,   5.0950951 ,   5.11511512,\n         5.13513514,   5.15515516,   5.17517518,   5.1951952 ,\n         5.21521522,   5.23523524,   5.25525526,   5.27527528,\n         5.2952953 ,   5.31531532,   5.33533534,   5.35535536,\n         5.37537538,   5.3953954 ,   5.41541542,   5.43543544,\n         5.45545546,   5.47547548,   5.4954955 ,   5.51551552,\n         5.53553554,   5.55555556,   5.57557558,   5.5955956 ,\n         5.61561562,   5.63563564,   5.65565566,   5.67567568,\n         5.6956957 ,   5.71571572,   5.73573574,   5.75575576,\n         5.77577578,   5.7957958 ,   5.81581582,   5.83583584,\n         5.85585586,   5.87587588,   5.8958959 ,   5.91591592,\n         5.93593594,   5.95595596,   5.97597598,   5.995996  ,\n         6.01601602,   6.03603604,   6.05605606,   6.07607608,\n         6.0960961 ,   6.11611612,   6.13613614,   6.15615616,\n         6.17617618,   6.1961962 ,   6.21621622,   6.23623624,\n         6.25625626,   6.27627628,   6.2962963 ,   6.31631632,\n         6.33633634,   6.35635636,   6.37637638,   6.3963964 ,\n         6.41641642,   6.43643644,   6.45645646,   6.47647648,\n         6.4964965 ,   6.51651652,   6.53653654,   6.55655656,\n         6.57657658,   6.5965966 ,   6.61661662,   6.63663664,\n         6.65665666,   6.67667668,   6.6966967 ,   6.71671672,\n         6.73673674,   6.75675676,   6.77677678,   6.7967968 ,\n         6.81681682,   6.83683684,   6.85685686,   6.87687688,\n         6.8968969 ,   6.91691692,   6.93693694,   6.95695696,\n         6.97697698,   6.996997  ,   7.01701702,   7.03703704,\n         7.05705706,   7.07707708,   7.0970971 ,   7.11711712,\n         7.13713714,   7.15715716,   7.17717718,   7.1971972 ,\n         7.21721722,   7.23723724,   7.25725726,   7.27727728,\n         7.2972973 ,   7.31731732,   7.33733734,   7.35735736,\n         7.37737738,   7.3973974 ,   7.41741742,   7.43743744,\n         7.45745746,   7.47747748,   7.4974975 ,   7.51751752,\n         7.53753754,   7.55755756,   7.57757758,   7.5975976 ,\n         7.61761762,   7.63763764,   7.65765766,   7.67767768,\n         7.6976977 ,   7.71771772,   7.73773774,   7.75775776,\n         7.77777778,   7.7977978 ,   7.81781782,   7.83783784,\n         7.85785786,   7.87787788,   7.8978979 ,   7.91791792,\n         7.93793794,   7.95795796,   7.97797798,   7.997998  ,\n         8.01801802,   8.03803804,   8.05805806,   8.07807808,\n         8.0980981 ,   8.11811812,   8.13813814,   8.15815816,\n         8.17817818,   8.1981982 ,   8.21821822,   8.23823824,\n         8.25825826,   8.27827828,   8.2982983 ,   8.31831832,\n         8.33833834,   8.35835836,   8.37837838,   8.3983984 ,\n         8.41841842,   8.43843844,   8.45845846,   8.47847848,\n         8.4984985 ,   8.51851852,   8.53853854,   8.55855856,\n         8.57857858,   8.5985986 ,   8.61861862,   8.63863864,\n         8.65865866,   8.67867868,   8.6986987 ,   8.71871872,\n         8.73873874,   8.75875876,   8.77877878,   8.7987988 ,\n         8.81881882,   8.83883884,   8.85885886,   8.87887888,\n         8.8988989 ,   8.91891892,   8.93893894,   8.95895896,\n         8.97897898,   8.998999  ,   9.01901902,   9.03903904,\n         9.05905906,   9.07907908,   9.0990991 ,   9.11911912,\n         9.13913914,   9.15915916,   9.17917918,   9.1991992 ,\n         9.21921922,   9.23923924,   9.25925926,   9.27927928,\n         9.2992993 ,   9.31931932,   9.33933934,   9.35935936,\n         9.37937938,   9.3993994 ,   9.41941942,   9.43943944,\n         9.45945946,   9.47947948,   9.4994995 ,   9.51951952,\n         9.53953954,   9.55955956,   9.57957958,   9.5995996 ,\n         9.61961962,   9.63963964,   9.65965966,   9.67967968,\n         9.6996997 ,   9.71971972,   9.73973974,   9.75975976,\n         9.77977978,   9.7997998 ,   9.81981982,   9.83983984,\n         9.85985986,   9.87987988,   9.8998999 ,   9.91991992,\n         9.93993994,   9.95995996,   9.97997998,  10.        ])"
     },
     "execution_count": 283,
     "metadata": {},
     "output_type": "execute_result"
    }
   ],
   "source": [
    "x = np.linspace(-10, 10, 1000)\n",
    "x"
   ],
   "metadata": {
    "collapsed": false,
    "pycharm": {
     "name": "#%%\n"
    }
   }
  },
  {
   "cell_type": "code",
   "execution_count": 284,
   "outputs": [
    {
     "data": {
      "text/plain": "array([ 0.54402111,  0.52711499,  0.5099976 ,  0.49267581,  0.47515657,\n        0.45744688,  0.43955386,  0.42148467,  0.40324656,  0.38484682,\n        0.36629285,  0.34759207,  0.32875198,  0.30978013,  0.29068412,\n        0.27147162,  0.2521503 ,  0.23272793,  0.21321229,  0.19361119,\n        0.1739325 ,  0.15418409,  0.13437389,  0.11450984,  0.09459989,\n        0.07465203,  0.05467424,  0.03467455,  0.01466095, -0.00535852,\n       -0.02537584, -0.04538299, -0.06537195, -0.08533471, -0.10526327,\n       -0.12514965, -0.14498586, -0.16476397, -0.18447604, -0.20411417,\n       -0.2236705 , -0.24313718, -0.26250642, -0.28177045, -0.30092154,\n       -0.31995204, -0.3388543 , -0.35762075, -0.37624387, -0.39471619,\n       -0.41303032, -0.43117891, -0.44915469, -0.46695046, -0.48455907,\n       -0.50197348, -0.51918671, -0.53619185, -0.5529821 , -0.56955071,\n       -0.58589106, -0.60199658, -0.61786084, -0.63347746, -0.6488402 ,\n       -0.66394288, -0.67877947, -0.69334401, -0.70763067, -0.72163371,\n       -0.73534754, -0.74876664, -0.76188565, -0.77469931, -0.78720247,\n       -0.79939013, -0.81125741, -0.82279955, -0.83401192, -0.84489002,\n       -0.85542951, -0.86562614, -0.87547585, -0.88497468, -0.89411881,\n       -0.9029046 , -0.91132852, -0.91938718, -0.92707737, -0.93439599,\n       -0.94134012, -0.94790697, -0.95409391, -0.95989847, -0.9653183 ,\n       -0.97035125, -0.9749953 , -0.97924858, -0.98310938, -0.98657617,\n       -0.98964756, -0.9923223 , -0.99459933, -0.99647774, -0.99795677,\n       -0.99903584, -0.9997145 , -0.99999249, -0.99986969, -0.99934616,\n       -0.9984221 , -0.99709789, -0.99537405, -0.99325128, -0.99073043,\n       -0.9878125 , -0.98449867, -0.98079027, -0.97668877, -0.97219584,\n       -0.96731325, -0.96204298, -0.95638714, -0.95034798, -0.94392794,\n       -0.93712958, -0.92995564, -0.92240898, -0.91449263, -0.90620976,\n       -0.89756369, -0.88855789, -0.87919597, -0.86948167, -0.8594189 ,\n       -0.84901169, -0.8382642 , -0.82718074, -0.81576576, -0.80402383,\n       -0.79195966, -0.77957808, -0.76688406, -0.75388267, -0.74057914,\n       -0.7269788 , -0.71308709, -0.69890958, -0.68445196, -0.66972002,\n       -0.65471967, -0.63945691, -0.62393786, -0.60816875, -0.59215589,\n       -0.5759057 , -0.5594247 , -0.54271949, -0.52579676, -0.50866329,\n       -0.49132596, -0.47379172, -0.45606758, -0.43816066, -0.42007813,\n       -0.40182723, -0.38341529, -0.36484968, -0.34613784, -0.32728728,\n       -0.30830554, -0.28920024, -0.26997903, -0.25064961, -0.23121974,\n       -0.2116972 , -0.19208981, -0.17240543, -0.15265196, -0.13283731,\n       -0.11296941, -0.09305624, -0.07310577, -0.05312601, -0.03312495,\n       -0.01311061,  0.00690898,  0.0269258 ,  0.04693183,  0.06691904,\n        0.08687944,  0.10680502,  0.12668779,  0.14651979,  0.16629307,\n        0.18599969,  0.20563177,  0.22518144,  0.24464085,  0.26400222,\n        0.28325777,  0.3023998 ,  0.32142064,  0.34031265,  0.35906827,\n        0.37767997,  0.39614031,  0.41444188,  0.43257735,  0.45053944,\n        0.46832097,  0.48591479,  0.50331387,  0.52051123,  0.53749997,\n        0.55427329,  0.57082446,  0.58714685,  0.60323392,  0.61907923,\n        0.63467641,  0.65001922,  0.66510151,  0.67991724,  0.69446047,\n        0.70872536,  0.72270621,  0.7363974 ,  0.74979346,  0.762889  ,\n        0.77567879,  0.7881577 ,  0.80032073,  0.81216299,  0.82367975,\n        0.83486639,  0.84571842,  0.85623151,  0.86640142,  0.87622409,\n        0.88569558,  0.8948121 ,  0.90356998,  0.91196573,  0.91999597,\n        0.92765748,  0.93494721,  0.94186221,  0.94839974,  0.95455715,\n        0.96033199,  0.96572194,  0.97072484,  0.97533868,  0.97956163,\n        0.98339197,  0.98682819,  0.98986889,  0.99251287,  0.99475906,\n        0.99660656,  0.99805464,  0.9991027 ,  0.99975034,  0.9999973 ,\n        0.99984346,  0.9992889 ,  0.99833384,  0.99697865,  0.99522389,\n        0.99307026,  0.99051862,  0.98756998,  0.98422555,  0.98048664,\n        0.97635477,  0.97183159,  0.96691891,  0.9616187 ,  0.95593309,\n        0.94986435,  0.94341491,  0.93658737,  0.92938445,  0.92180905,\n        0.91386419,  0.90555308,  0.89687902,  0.88784551,  0.87845616,\n        0.86871474,  0.85862515,  0.84819143,  0.83741776,  0.82630847,\n        0.814868  ,  0.80310095,  0.79101202,  0.77860606,  0.76588805,\n        0.75286308,  0.73953637,  0.72591327,  0.71199922,  0.69779982,\n        0.68332075,  0.66856781,  0.65354691,  0.63826408,  0.62272545,\n        0.60693723,  0.59090576,  0.57463746,  0.55813886,  0.54141656,\n        0.52447726,  0.50732776,  0.48997494,  0.47242573,  0.45468718,\n        0.4367664 ,  0.41867057,  0.40040694,  0.38198284,  0.36340563,\n        0.34468278,  0.32582179,  0.30683021,  0.28771566,  0.26848579,\n        0.24914832,  0.22971099,  0.21018159,  0.19056796,  0.17087795,\n        0.15111946,  0.1313004 ,  0.11142871,  0.09151237,  0.07155935,\n        0.05157764,  0.03157527,  0.01156024, -0.00845942, -0.02847569,\n       -0.04848055, -0.06846598, -0.08842397, -0.10834651, -0.12822564,\n       -0.14805337, -0.16782177, -0.1875229 , -0.20714888, -0.22669183,\n       -0.24614393, -0.26549738, -0.28474442, -0.30387734, -0.32288847,\n       -0.34177018, -0.36051492, -0.37911517, -0.39756348, -0.41585245,\n       -0.43397474, -0.45192311, -0.46969035, -0.48726935, -0.50465305,\n       -0.5218345 , -0.5388068 , -0.55556315, -0.57209684, -0.58840124,\n       -0.60446981, -0.62029613, -0.63587383, -0.65119668, -0.66625855,\n       -0.68105338, -0.69557526, -0.70981836, -0.72377697, -0.7374455 ,\n       -0.75081847, -0.76389052, -0.77665642, -0.78911104, -0.80124939,\n       -0.81306662, -0.82455797, -0.83571886, -0.84654479, -0.85703145,\n       -0.86717461, -0.87697022, -0.88641436, -0.89550322, -0.90423319,\n       -0.91260074, -0.92060254, -0.92823537, -0.93549618, -0.94238205,\n       -0.94889022, -0.95501809, -0.9607632 , -0.96612325, -0.97109609,\n       -0.97567973, -0.97987232, -0.98367219, -0.98707782, -0.99008785,\n       -0.99270105, -0.9949164 , -0.99673299, -0.9981501 , -0.99916717,\n       -0.99978379, -0.9999997 , -0.99981483, -0.99922924, -0.99824317,\n       -0.99685702, -0.99507134, -0.99288685, -0.99030442, -0.98732509,\n       -0.98395005, -0.98018066, -0.97601842, -0.97146501, -0.96652224,\n       -0.96119211, -0.95547674, -0.94937842, -0.94289961, -0.9360429 ,\n       -0.92881103, -0.9212069 , -0.91323357, -0.90489422, -0.8961922 ,\n       -0.887131  , -0.87771425, -0.86794572, -0.85782933, -0.84736913,\n       -0.83656931, -0.82543421, -0.81396829, -0.80217614, -0.79006248,\n       -0.77763218, -0.76489021, -0.75184168, -0.73849182, -0.72484599,\n       -0.71090964, -0.69668838, -0.68218788, -0.66741398, -0.65237258,\n       -0.63706972, -0.62151153, -0.60570425, -0.58965421, -0.57336784,\n       -0.55685167, -0.54011232, -0.52315651, -0.50599102, -0.48862273,\n       -0.47105861, -0.45330569, -0.4353711 , -0.41726201, -0.39898569,\n       -0.38054946, -0.36196071, -0.3432269 , -0.32435552, -0.30535414,\n       -0.28623038, -0.26699191, -0.24764642, -0.22820168, -0.20866549,\n       -0.18904566, -0.16935006, -0.14958659, -0.12976317, -0.10988774,\n       -0.08996827, -0.07001275, -0.05002916, -0.03002552, -0.01000984,\n        0.01000984,  0.03002552,  0.05002916,  0.07001275,  0.08996827,\n        0.10988774,  0.12976317,  0.14958659,  0.16935006,  0.18904566,\n        0.20866549,  0.22820168,  0.24764642,  0.26699191,  0.28623038,\n        0.30535414,  0.32435552,  0.3432269 ,  0.36196071,  0.38054946,\n        0.39898569,  0.41726201,  0.4353711 ,  0.45330569,  0.47105861,\n        0.48862273,  0.50599102,  0.52315651,  0.54011232,  0.55685167,\n        0.57336784,  0.58965421,  0.60570425,  0.62151153,  0.63706972,\n        0.65237258,  0.66741398,  0.68218788,  0.69668838,  0.71090964,\n        0.72484599,  0.73849182,  0.75184168,  0.76489021,  0.77763218,\n        0.79006248,  0.80217614,  0.81396829,  0.82543421,  0.83656931,\n        0.84736913,  0.85782933,  0.86794572,  0.87771425,  0.887131  ,\n        0.8961922 ,  0.90489422,  0.91323357,  0.9212069 ,  0.92881103,\n        0.9360429 ,  0.94289961,  0.94937842,  0.95547674,  0.96119211,\n        0.96652224,  0.97146501,  0.97601842,  0.98018066,  0.98395005,\n        0.98732509,  0.99030442,  0.99288685,  0.99507134,  0.99685702,\n        0.99824317,  0.99922924,  0.99981483,  0.9999997 ,  0.99978379,\n        0.99916717,  0.9981501 ,  0.99673299,  0.9949164 ,  0.99270105,\n        0.99008785,  0.98707782,  0.98367219,  0.97987232,  0.97567973,\n        0.97109609,  0.96612325,  0.9607632 ,  0.95501809,  0.94889022,\n        0.94238205,  0.93549618,  0.92823537,  0.92060254,  0.91260074,\n        0.90423319,  0.89550322,  0.88641436,  0.87697022,  0.86717461,\n        0.85703145,  0.84654479,  0.83571886,  0.82455797,  0.81306662,\n        0.80124939,  0.78911104,  0.77665642,  0.76389052,  0.75081847,\n        0.7374455 ,  0.72377697,  0.70981836,  0.69557526,  0.68105338,\n        0.66625855,  0.65119668,  0.63587383,  0.62029613,  0.60446981,\n        0.58840124,  0.57209684,  0.55556315,  0.5388068 ,  0.5218345 ,\n        0.50465305,  0.48726935,  0.46969035,  0.45192311,  0.43397474,\n        0.41585245,  0.39756348,  0.37911517,  0.36051492,  0.34177018,\n        0.32288847,  0.30387734,  0.28474442,  0.26549738,  0.24614393,\n        0.22669183,  0.20714888,  0.1875229 ,  0.16782177,  0.14805337,\n        0.12822564,  0.10834651,  0.08842397,  0.06846598,  0.04848055,\n        0.02847569,  0.00845942, -0.01156024, -0.03157527, -0.05157764,\n       -0.07155935, -0.09151237, -0.11142871, -0.1313004 , -0.15111946,\n       -0.17087795, -0.19056796, -0.21018159, -0.22971099, -0.24914832,\n       -0.26848579, -0.28771566, -0.30683021, -0.32582179, -0.34468278,\n       -0.36340563, -0.38198284, -0.40040694, -0.41867057, -0.4367664 ,\n       -0.45468718, -0.47242573, -0.48997494, -0.50732776, -0.52447726,\n       -0.54141656, -0.55813886, -0.57463746, -0.59090576, -0.60693723,\n       -0.62272545, -0.63826408, -0.65354691, -0.66856781, -0.68332075,\n       -0.69779982, -0.71199922, -0.72591327, -0.73953637, -0.75286308,\n       -0.76588805, -0.77860606, -0.79101202, -0.80310095, -0.814868  ,\n       -0.82630847, -0.83741776, -0.84819143, -0.85862515, -0.86871474,\n       -0.87845616, -0.88784551, -0.89687902, -0.90555308, -0.91386419,\n       -0.92180905, -0.92938445, -0.93658737, -0.94341491, -0.94986435,\n       -0.95593309, -0.9616187 , -0.96691891, -0.97183159, -0.97635477,\n       -0.98048664, -0.98422555, -0.98756998, -0.99051862, -0.99307026,\n       -0.99522389, -0.99697865, -0.99833384, -0.9992889 , -0.99984346,\n       -0.9999973 , -0.99975034, -0.9991027 , -0.99805464, -0.99660656,\n       -0.99475906, -0.99251287, -0.98986889, -0.98682819, -0.98339197,\n       -0.97956163, -0.97533868, -0.97072484, -0.96572194, -0.96033199,\n       -0.95455715, -0.94839974, -0.94186221, -0.93494721, -0.92765748,\n       -0.91999597, -0.91196573, -0.90356998, -0.8948121 , -0.88569558,\n       -0.87622409, -0.86640142, -0.85623151, -0.84571842, -0.83486639,\n       -0.82367975, -0.81216299, -0.80032073, -0.7881577 , -0.77567879,\n       -0.762889  , -0.74979346, -0.7363974 , -0.72270621, -0.70872536,\n       -0.69446047, -0.67991724, -0.66510151, -0.65001922, -0.63467641,\n       -0.61907923, -0.60323392, -0.58714685, -0.57082446, -0.55427329,\n       -0.53749997, -0.52051123, -0.50331387, -0.48591479, -0.46832097,\n       -0.45053944, -0.43257735, -0.41444188, -0.39614031, -0.37767997,\n       -0.35906827, -0.34031265, -0.32142064, -0.3023998 , -0.28325777,\n       -0.26400222, -0.24464085, -0.22518144, -0.20563177, -0.18599969,\n       -0.16629307, -0.14651979, -0.12668779, -0.10680502, -0.08687944,\n       -0.06691904, -0.04693183, -0.0269258 , -0.00690898,  0.01311061,\n        0.03312495,  0.05312601,  0.07310577,  0.09305624,  0.11296941,\n        0.13283731,  0.15265196,  0.17240543,  0.19208981,  0.2116972 ,\n        0.23121974,  0.25064961,  0.26997903,  0.28920024,  0.30830554,\n        0.32728728,  0.34613784,  0.36484968,  0.38341529,  0.40182723,\n        0.42007813,  0.43816066,  0.45606758,  0.47379172,  0.49132596,\n        0.50866329,  0.52579676,  0.54271949,  0.5594247 ,  0.5759057 ,\n        0.59215589,  0.60816875,  0.62393786,  0.63945691,  0.65471967,\n        0.66972002,  0.68445196,  0.69890958,  0.71308709,  0.7269788 ,\n        0.74057914,  0.75388267,  0.76688406,  0.77957808,  0.79195966,\n        0.80402383,  0.81576576,  0.82718074,  0.8382642 ,  0.84901169,\n        0.8594189 ,  0.86948167,  0.87919597,  0.88855789,  0.89756369,\n        0.90620976,  0.91449263,  0.92240898,  0.92995564,  0.93712958,\n        0.94392794,  0.95034798,  0.95638714,  0.96204298,  0.96731325,\n        0.97219584,  0.97668877,  0.98079027,  0.98449867,  0.9878125 ,\n        0.99073043,  0.99325128,  0.99537405,  0.99709789,  0.9984221 ,\n        0.99934616,  0.99986969,  0.99999249,  0.9997145 ,  0.99903584,\n        0.99795677,  0.99647774,  0.99459933,  0.9923223 ,  0.98964756,\n        0.98657617,  0.98310938,  0.97924858,  0.9749953 ,  0.97035125,\n        0.9653183 ,  0.95989847,  0.95409391,  0.94790697,  0.94134012,\n        0.93439599,  0.92707737,  0.91938718,  0.91132852,  0.9029046 ,\n        0.89411881,  0.88497468,  0.87547585,  0.86562614,  0.85542951,\n        0.84489002,  0.83401192,  0.82279955,  0.81125741,  0.79939013,\n        0.78720247,  0.77469931,  0.76188565,  0.74876664,  0.73534754,\n        0.72163371,  0.70763067,  0.69334401,  0.67877947,  0.66394288,\n        0.6488402 ,  0.63347746,  0.61786084,  0.60199658,  0.58589106,\n        0.56955071,  0.5529821 ,  0.53619185,  0.51918671,  0.50197348,\n        0.48455907,  0.46695046,  0.44915469,  0.43117891,  0.41303032,\n        0.39471619,  0.37624387,  0.35762075,  0.3388543 ,  0.31995204,\n        0.30092154,  0.28177045,  0.26250642,  0.24313718,  0.2236705 ,\n        0.20411417,  0.18447604,  0.16476397,  0.14498586,  0.12514965,\n        0.10526327,  0.08533471,  0.06537195,  0.04538299,  0.02537584,\n        0.00535852, -0.01466095, -0.03467455, -0.05467424, -0.07465203,\n       -0.09459989, -0.11450984, -0.13437389, -0.15418409, -0.1739325 ,\n       -0.19361119, -0.21321229, -0.23272793, -0.2521503 , -0.27147162,\n       -0.29068412, -0.30978013, -0.32875198, -0.34759207, -0.36629285,\n       -0.38484682, -0.40324656, -0.42148467, -0.43955386, -0.45744688,\n       -0.47515657, -0.49267581, -0.5099976 , -0.52711499, -0.54402111])"
     },
     "execution_count": 284,
     "metadata": {},
     "output_type": "execute_result"
    }
   ],
   "source": [
    "y = np.sin(x)\n",
    "y"
   ],
   "metadata": {
    "collapsed": false,
    "pycharm": {
     "name": "#%%\n"
    }
   }
  },
  {
   "cell_type": "code",
   "execution_count": 285,
   "outputs": [
    {
     "data": {
      "text/plain": "<Figure size 864x576 with 1 Axes>",
      "image/png": "[encoded data removed]"
     },
     "metadata": {
      "needs_background": "light"
     },
     "output_type": "display_data"
    }
   ],
   "source": [
    "plt.figure(figsize=(12,8))\n",
    "plt.plot(x, y)\n",
    "plt.title('f(x) = sin(x)', fontsize=20)\n",
    "plt.xlabel('x', fontsize = 15)\n",
    "plt.ylabel('y', fontsize=15)\n",
    "plt.show()"
   ],
   "metadata": {
    "collapsed": false,
    "pycharm": {
     "name": "#%%\n"
    }
   }
  },
  {
   "cell_type": "code",
   "execution_count": 286,
   "outputs": [
    {
     "data": {
      "text/plain": "array([1., 1., 1., 1., 1., 1., 1., 1., 1., 1.])"
     },
     "execution_count": 286,
     "metadata": {},
     "output_type": "execute_result"
    }
   ],
   "source": [
    "np.ones(10)"
   ],
   "metadata": {
    "collapsed": false,
    "pycharm": {
     "name": "#%%\n"
    }
   }
  },
  {
   "cell_type": "code",
   "execution_count": 287,
   "outputs": [
    {
     "data": {
      "text/plain": "array([0., 0., 0., 0., 0., 0., 0., 0., 0., 0.])"
     },
     "execution_count": 287,
     "metadata": {},
     "output_type": "execute_result"
    }
   ],
   "source": [
    "np.zeros(10)"
   ],
   "metadata": {
    "collapsed": false,
    "pycharm": {
     "name": "#%%\n"
    }
   }
  },
  {
   "cell_type": "markdown",
   "source": [
    "### Nested Lists"
   ],
   "metadata": {
    "collapsed": false,
    "pycharm": {
     "name": "#%% md\n"
    }
   }
  },
  {
   "cell_type": "code",
   "execution_count": 288,
   "outputs": [],
   "source": [
    "project_1 = [-200, 20, 50, 70, 100, 50]\n",
    "project_2 = [-50, 10, 25, 25, 50]\n",
    "project_3 = [-1000, 200, 200, 300, 500, 500, 750, 250]"
   ],
   "metadata": {
    "collapsed": false,
    "pycharm": {
     "name": "#%%\n"
    }
   }
  },
  {
   "cell_type": "code",
   "execution_count": 289,
   "outputs": [],
   "source": [
    "all_proj = [project_1, project_2, project_3]"
   ],
   "metadata": {
    "collapsed": false,
    "pycharm": {
     "name": "#%%\n"
    }
   }
  },
  {
   "cell_type": "code",
   "execution_count": 290,
   "outputs": [
    {
     "data": {
      "text/plain": "[[-200, 20, 50, 70, 100, 50],\n [-50, 10, 25, 25, 50],\n [-1000, 200, 200, 300, 500, 500, 750, 250]]"
     },
     "execution_count": 290,
     "metadata": {},
     "output_type": "execute_result"
    }
   ],
   "source": [
    "all_proj"
   ],
   "metadata": {
    "collapsed": false,
    "pycharm": {
     "name": "#%%\n"
    }
   }
  },
  {
   "cell_type": "code",
   "execution_count": 291,
   "outputs": [
    {
     "data": {
      "text/plain": "list"
     },
     "execution_count": 291,
     "metadata": {},
     "output_type": "execute_result"
    }
   ],
   "source": [
    "type(all_proj)"
   ],
   "metadata": {
    "collapsed": false,
    "pycharm": {
     "name": "#%%\n"
    }
   }
  },
  {
   "cell_type": "code",
   "execution_count": 292,
   "outputs": [
    {
     "data": {
      "text/plain": "3"
     },
     "execution_count": 292,
     "metadata": {},
     "output_type": "execute_result"
    }
   ],
   "source": [
    "len(all_proj)"
   ],
   "metadata": {
    "collapsed": false,
    "pycharm": {
     "name": "#%%\n"
    }
   }
  },
  {
   "cell_type": "code",
   "execution_count": 293,
   "outputs": [
    {
     "data": {
      "text/plain": "[-200, 20, 50, 70, 100, 50]"
     },
     "execution_count": 293,
     "metadata": {},
     "output_type": "execute_result"
    }
   ],
   "source": [
    "all_proj[0]"
   ],
   "metadata": {
    "collapsed": false,
    "pycharm": {
     "name": "#%%\n"
    }
   }
  },
  {
   "cell_type": "code",
   "execution_count": 294,
   "outputs": [
    {
     "data": {
      "text/plain": "[-1000, 200, 200, 300, 500, 500, 750, 250]"
     },
     "execution_count": 294,
     "metadata": {},
     "output_type": "execute_result"
    }
   ],
   "source": [
    "all_proj[-1]"
   ],
   "metadata": {
    "collapsed": false,
    "pycharm": {
     "name": "#%%\n"
    }
   }
  },
  {
   "cell_type": "code",
   "execution_count": 295,
   "outputs": [
    {
     "data": {
      "text/plain": "[[-200, 20, 50, 70, 100, 50], [-50, 10, 25, 25, 50]]"
     },
     "execution_count": 295,
     "metadata": {},
     "output_type": "execute_result"
    }
   ],
   "source": [
    "all_proj[:2]"
   ],
   "metadata": {
    "collapsed": false,
    "pycharm": {
     "name": "#%%\n"
    }
   }
  },
  {
   "cell_type": "code",
   "execution_count": 296,
   "outputs": [
    {
     "data": {
      "text/plain": "[[-50, 10, 25, 25, 50], [-1000, 200, 200, 300, 500, 500, 750, 250]]"
     },
     "execution_count": 296,
     "metadata": {},
     "output_type": "execute_result"
    }
   ],
   "source": [
    "all_proj[-2:]"
   ],
   "metadata": {
    "collapsed": false,
    "pycharm": {
     "name": "#%%\n"
    }
   }
  },
  {
   "cell_type": "code",
   "execution_count": 297,
   "outputs": [
    {
     "data": {
      "text/plain": "-200"
     },
     "execution_count": 297,
     "metadata": {},
     "output_type": "execute_result"
    }
   ],
   "source": [
    "all_proj[0][0]"
   ],
   "metadata": {
    "collapsed": false,
    "pycharm": {
     "name": "#%%\n"
    }
   }
  },
  {
   "cell_type": "code",
   "execution_count": 298,
   "outputs": [
    {
     "data": {
      "text/plain": "[-200, 20, 50, 70, 100, 50]"
     },
     "execution_count": 298,
     "metadata": {},
     "output_type": "execute_result"
    }
   ],
   "source": [
    "# Cannot get the first element each array like this\n",
    "all_proj[:][0]"
   ],
   "metadata": {
    "collapsed": false,
    "pycharm": {
     "name": "#%%\n"
    }
   }
  },
  {
   "cell_type": "code",
   "execution_count": 299,
   "outputs": [],
   "source": [
    "i0 = []\n",
    "for proj in all_proj:\n",
    "    i0.append(proj[0])"
   ],
   "metadata": {
    "collapsed": false,
    "pycharm": {
     "name": "#%%\n"
    }
   }
  },
  {
   "cell_type": "code",
   "execution_count": 300,
   "outputs": [
    {
     "data": {
      "text/plain": "[-200, -50, -1000]"
     },
     "execution_count": 300,
     "metadata": {},
     "output_type": "execute_result"
    }
   ],
   "source": [
    "i0"
   ],
   "metadata": {
    "collapsed": false,
    "pycharm": {
     "name": "#%%\n"
    }
   }
  },
  {
   "cell_type": "markdown",
   "source": [
    "### Two Dimensional Numpy Arrays"
   ],
   "metadata": {
    "collapsed": false,
    "pycharm": {
     "name": "#%% md\n"
    }
   }
  },
  {
   "cell_type": "code",
   "execution_count": 301,
   "outputs": [],
   "source": [
    "cf1 = [-200, 20, 50, 70, 100, 50]\n",
    "cf2 = [-150, 25, 60, 50, 50, 40]\n",
    "cf3 = [-250, 10, 25, 50, 125, 200]\n",
    "n1 = [cf1, cf2, cf3]"
   ],
   "metadata": {
    "collapsed": false,
    "pycharm": {
     "name": "#%%\n"
    }
   }
  },
  {
   "cell_type": "code",
   "execution_count": 302,
   "outputs": [
    {
     "data": {
      "text/plain": "[[-200, 20, 50, 70, 100, 50],\n [-150, 25, 60, 50, 50, 40],\n [-250, 10, 25, 50, 125, 200]]"
     },
     "execution_count": 302,
     "metadata": {},
     "output_type": "execute_result"
    }
   ],
   "source": [
    "n1"
   ],
   "metadata": {
    "collapsed": false,
    "pycharm": {
     "name": "#%%\n"
    }
   }
  },
  {
   "cell_type": "code",
   "execution_count": 303,
   "outputs": [
    {
     "data": {
      "text/plain": "array([[-200,   20,   50,   70,  100,   50],\n       [-150,   25,   60,   50,   50,   40],\n       [-250,   10,   25,   50,  125,  200]])"
     },
     "execution_count": 303,
     "metadata": {},
     "output_type": "execute_result"
    }
   ],
   "source": [
    "np.array(n1)"
   ],
   "metadata": {
    "collapsed": false,
    "pycharm": {
     "name": "#%%\n"
    }
   }
  },
  {
   "cell_type": "code",
   "execution_count": 304,
   "outputs": [],
   "source": [
    "cfs = np.array(n1)"
   ],
   "metadata": {
    "collapsed": false,
    "pycharm": {
     "name": "#%%\n"
    }
   }
  },
  {
   "cell_type": "code",
   "execution_count": 305,
   "outputs": [
    {
     "data": {
      "text/plain": "array([[-200,   20,   50,   70,  100,   50],\n       [-150,   25,   60,   50,   50,   40],\n       [-250,   10,   25,   50,  125,  200]])"
     },
     "execution_count": 305,
     "metadata": {},
     "output_type": "execute_result"
    }
   ],
   "source": [
    "cfs"
   ],
   "metadata": {
    "collapsed": false,
    "pycharm": {
     "name": "#%%\n"
    }
   }
  },
  {
   "cell_type": "code",
   "execution_count": 306,
   "outputs": [
    {
     "data": {
      "text/plain": "numpy.ndarray"
     },
     "execution_count": 306,
     "metadata": {},
     "output_type": "execute_result"
    }
   ],
   "source": [
    "type(cfs)"
   ],
   "metadata": {
    "collapsed": false,
    "pycharm": {
     "name": "#%%\n"
    }
   }
  },
  {
   "cell_type": "code",
   "execution_count": 307,
   "outputs": [
    {
     "data": {
      "text/plain": "(3, 6)"
     },
     "execution_count": 307,
     "metadata": {},
     "output_type": "execute_result"
    }
   ],
   "source": [
    "cfs.shape"
   ],
   "metadata": {
    "collapsed": false,
    "pycharm": {
     "name": "#%%\n"
    }
   }
  },
  {
   "cell_type": "code",
   "execution_count": 308,
   "outputs": [
    {
     "data": {
      "text/plain": "array([-200,   20,   50,   70,  100,   50])"
     },
     "execution_count": 308,
     "metadata": {},
     "output_type": "execute_result"
    }
   ],
   "source": [
    "cfs[0]"
   ],
   "metadata": {
    "collapsed": false,
    "pycharm": {
     "name": "#%%\n"
    }
   }
  },
  {
   "cell_type": "code",
   "execution_count": 309,
   "outputs": [
    {
     "data": {
      "text/plain": "array([-250,   10,   25,   50,  125,  200])"
     },
     "execution_count": 309,
     "metadata": {},
     "output_type": "execute_result"
    }
   ],
   "source": [
    "cfs[-1]"
   ],
   "metadata": {
    "collapsed": false,
    "pycharm": {
     "name": "#%%\n"
    }
   }
  },
  {
   "cell_type": "code",
   "execution_count": 310,
   "outputs": [
    {
     "data": {
      "text/plain": "array([[-150,   25,   60,   50,   50,   40],\n       [-250,   10,   25,   50,  125,  200]])"
     },
     "execution_count": 310,
     "metadata": {},
     "output_type": "execute_result"
    }
   ],
   "source": [
    "cfs[1:]"
   ],
   "metadata": {
    "collapsed": false,
    "pycharm": {
     "name": "#%%\n"
    }
   }
  },
  {
   "cell_type": "code",
   "execution_count": 311,
   "outputs": [
    {
     "data": {
      "text/plain": "-200"
     },
     "execution_count": 311,
     "metadata": {},
     "output_type": "execute_result"
    }
   ],
   "source": [
    "cfs[0][0]"
   ],
   "metadata": {
    "collapsed": false,
    "pycharm": {
     "name": "#%%\n"
    }
   }
  },
  {
   "cell_type": "code",
   "execution_count": 312,
   "outputs": [
    {
     "data": {
      "text/plain": "-200"
     },
     "execution_count": 312,
     "metadata": {},
     "output_type": "execute_result"
    }
   ],
   "source": [
    "cfs[0, 0]"
   ],
   "metadata": {
    "collapsed": false,
    "pycharm": {
     "name": "#%%\n"
    }
   }
  },
  {
   "cell_type": "code",
   "execution_count": 313,
   "outputs": [
    {
     "data": {
      "text/plain": "array([-200, -150, -250])"
     },
     "execution_count": 313,
     "metadata": {},
     "output_type": "execute_result"
    }
   ],
   "source": [
    "# First element of each\n",
    "cfs[:, 0]"
   ],
   "metadata": {
    "collapsed": false,
    "pycharm": {
     "name": "#%%\n"
    }
   }
  },
  {
   "cell_type": "code",
   "execution_count": 314,
   "outputs": [
    {
     "data": {
      "text/plain": "array([[-200,   20],\n       [-150,   25],\n       [-250,   10]])"
     },
     "execution_count": 314,
     "metadata": {},
     "output_type": "execute_result"
    }
   ],
   "source": [
    "cfs[:, :2]"
   ],
   "metadata": {
    "collapsed": false,
    "pycharm": {
     "name": "#%%\n"
    }
   }
  },
  {
   "cell_type": "code",
   "execution_count": 315,
   "outputs": [
    {
     "data": {
      "text/plain": "array([ 10,  25,  50, 125, 200])"
     },
     "execution_count": 315,
     "metadata": {},
     "output_type": "execute_result"
    }
   ],
   "source": [
    "cfs[2, 1:]"
   ],
   "metadata": {
    "collapsed": false,
    "pycharm": {
     "name": "#%%\n"
    }
   }
  },
  {
   "cell_type": "code",
   "execution_count": 316,
   "outputs": [
    {
     "data": {
      "text/plain": "array([[-150,   25],\n       [-250,   10]])"
     },
     "execution_count": 316,
     "metadata": {},
     "output_type": "execute_result"
    }
   ],
   "source": [
    "cfs[-2:, :2]"
   ],
   "metadata": {
    "collapsed": false,
    "pycharm": {
     "name": "#%%\n"
    }
   }
  },
  {
   "cell_type": "code",
   "execution_count": 317,
   "outputs": [
    {
     "data": {
      "text/plain": "array([list([-200, 20, 50, 70, 100, 50]), list([-50, 10, 25, 25, 50]),\n       list([-1000, 200, 200, 300, 500, 500, 750, 250])], dtype=object)"
     },
     "execution_count": 317,
     "metadata": {},
     "output_type": "execute_result"
    }
   ],
   "source": [
    "array = np.array([project_1, project_2, project_3], dtype=object)\n",
    "array"
   ],
   "metadata": {
    "collapsed": false,
    "pycharm": {
     "name": "#%%\n"
    }
   }
  },
  {
   "cell_type": "code",
   "execution_count": 318,
   "outputs": [
    {
     "data": {
      "text/plain": "(3,)"
     },
     "execution_count": 318,
     "metadata": {},
     "output_type": "execute_result"
    }
   ],
   "source": [
    "array.shape"
   ],
   "metadata": {
    "collapsed": false,
    "pycharm": {
     "name": "#%%\n"
    }
   }
  },
  {
   "cell_type": "code",
   "execution_count": 319,
   "outputs": [],
   "source": [
    "# Does not work\n",
    "# array[:, 0]"
   ],
   "metadata": {
    "collapsed": false,
    "pycharm": {
     "name": "#%%\n"
    }
   }
  },
  {
   "cell_type": "code",
   "execution_count": 338,
   "outputs": [],
   "source": [
    "# Add 0s to make not jagged\n",
    "project_1 = np.array([-200, 20, 50, 70, 100, 50, 0, 0])\n",
    "project_2 = np.array([-50, 10, 25, 25, 50, 0, 0, 0])\n",
    "project_3 = np.array([-1000, 200, 200, 300, 500, 500, 750, 250])\n",
    "projects = np.array([project_1, project_2, project_3])"
   ],
   "metadata": {
    "collapsed": false,
    "pycharm": {
     "name": "#%%\n"
    }
   }
  },
  {
   "cell_type": "code",
   "execution_count": 335,
   "outputs": [
    {
     "data": {
      "text/plain": "array([[ -200,    20,    50,    70,   100,    50,     0,     0],\n       [  -50,    10,    25,    25,    50,     0,     0,     0],\n       [-1000,   200,   200,   300,   500,   500,   750,   250]])"
     },
     "execution_count": 335,
     "metadata": {},
     "output_type": "execute_result"
    }
   ],
   "source": [
    "projects"
   ],
   "metadata": {
    "collapsed": false,
    "pycharm": {
     "name": "#%%\n"
    }
   }
  },
  {
   "cell_type": "code",
   "execution_count": 336,
   "outputs": [
    {
     "data": {
      "text/plain": "(3, 8)"
     },
     "execution_count": 336,
     "metadata": {},
     "output_type": "execute_result"
    }
   ],
   "source": [
    "projects.shape"
   ],
   "metadata": {
    "collapsed": false,
    "pycharm": {
     "name": "#%%\n"
    }
   }
  },
  {
   "cell_type": "code",
   "execution_count": 337,
   "outputs": [
    {
     "data": {
      "text/plain": "array([ -200,   -50, -1000])"
     },
     "execution_count": 337,
     "metadata": {},
     "output_type": "execute_result"
    }
   ],
   "source": [
    "projects[:, 0]"
   ],
   "metadata": {
    "collapsed": false,
    "pycharm": {
     "name": "#%%\n"
    }
   }
  },
  {
   "cell_type": "code",
   "execution_count": 341,
   "outputs": [],
   "source": [
    "# Use resize to adjust size (mutates)\n",
    "project_1.resize(8)"
   ],
   "metadata": {
    "collapsed": false,
    "pycharm": {
     "name": "#%%\n"
    }
   }
  },
  {
   "cell_type": "code",
   "execution_count": 342,
   "outputs": [
    {
     "data": {
      "text/plain": "array([-200,   20,   50,   70,  100,   50,    0,    0])"
     },
     "execution_count": 342,
     "metadata": {},
     "output_type": "execute_result"
    }
   ],
   "source": [
    "project_1"
   ],
   "metadata": {
    "collapsed": false,
    "pycharm": {
     "name": "#%%\n"
    }
   }
  },
  {
   "cell_type": "code",
   "execution_count": 349,
   "outputs": [],
   "source": [
    "cf1 = np.array([-200, 20, 50, 70, 100, 50])\n",
    "cf2 = np.array([-150, 25, 60, 50, 50, 40])\n",
    "cf3 = np.array([-250, 10, 25, 50, 125, 200])\n",
    "cfs = np.array([cf1, cf2, cf3])"
   ],
   "metadata": {
    "collapsed": false,
    "pycharm": {
     "name": "#%%\n"
    }
   }
  },
  {
   "cell_type": "code",
   "execution_count": 350,
   "outputs": [
    {
     "data": {
      "text/plain": "array([[-200,   20,   50,   70,  100,   50],\n       [-150,   25,   60,   50,   50,   40],\n       [-250,   10,   25,   50,  125,  200]])"
     },
     "execution_count": 350,
     "metadata": {},
     "output_type": "execute_result"
    }
   ],
   "source": [
    "cfs"
   ],
   "metadata": {
    "collapsed": false,
    "pycharm": {
     "name": "#%%\n"
    }
   }
  },
  {
   "cell_type": "code",
   "execution_count": 351,
   "outputs": [
    {
     "data": {
      "text/plain": "array([-200,   70,   50])"
     },
     "execution_count": 351,
     "metadata": {},
     "output_type": "execute_result"
    }
   ],
   "source": [
    "# selecting elements into an array\n",
    "cf1[[0, 3, -1]]"
   ],
   "metadata": {
    "collapsed": false,
    "pycharm": {
     "name": "#%%\n"
    }
   }
  },
  {
   "cell_type": "code",
   "execution_count": 352,
   "outputs": [
    {
     "data": {
      "text/plain": "array([-200, -250])"
     },
     "execution_count": 352,
     "metadata": {},
     "output_type": "execute_result"
    }
   ],
   "source": [
    "cfs[[0, -1], 0]"
   ],
   "metadata": {
    "collapsed": false,
    "pycharm": {
     "name": "#%%\n"
    }
   }
  },
  {
   "cell_type": "code",
   "execution_count": 354,
   "outputs": [
    {
     "data": {
      "text/plain": "array([-200,   50,   50])"
     },
     "execution_count": 354,
     "metadata": {},
     "output_type": "execute_result"
    }
   ],
   "source": [
    "cfs[0, [0, 2, -1]]"
   ],
   "metadata": {
    "collapsed": false,
    "pycharm": {
     "name": "#%%\n"
    }
   }
  },
  {
   "cell_type": "markdown",
   "source": [
    "### Row and Colum wise operations"
   ],
   "metadata": {
    "collapsed": false,
    "pycharm": {
     "name": "#%% md\n"
    }
   }
  },
  {
   "cell_type": "code",
   "execution_count": 355,
   "outputs": [],
   "source": [
    "np.set_printoptions(precision=2, suppress=True)"
   ],
   "metadata": {
    "collapsed": false,
    "pycharm": {
     "name": "#%%\n"
    }
   }
  },
  {
   "cell_type": "code",
   "execution_count": 356,
   "outputs": [],
   "source": [
    "project_1 = [-200, 20, 50, 70, 100, 50, 0, 0]\n",
    "project_2 = [-50, 10, 25, 25, 50, 0, 0, 0]\n",
    "project_3 = [-1000, 200, 200, 300, 500, 500, 750, 250]\n",
    "projects = np.array([project_1, project_2, project_3])"
   ],
   "metadata": {
    "collapsed": false,
    "pycharm": {
     "name": "#%%\n"
    }
   }
  },
  {
   "cell_type": "code",
   "execution_count": 357,
   "outputs": [
    {
     "data": {
      "text/plain": "array([[ -200,    20,    50,    70,   100,    50,     0,     0],\n       [  -50,    10,    25,    25,    50,     0,     0,     0],\n       [-1000,   200,   200,   300,   500,   500,   750,   250]])"
     },
     "execution_count": 357,
     "metadata": {},
     "output_type": "execute_result"
    }
   ],
   "source": [
    "projects"
   ],
   "metadata": {
    "collapsed": false,
    "pycharm": {
     "name": "#%%\n"
    }
   }
  },
  {
   "cell_type": "code",
   "execution_count": 358,
   "outputs": [
    {
     "data": {
      "text/plain": "1850"
     },
     "execution_count": 358,
     "metadata": {},
     "output_type": "execute_result"
    }
   ],
   "source": [
    "np.sum(projects)"
   ],
   "metadata": {
    "collapsed": false,
    "pycharm": {
     "name": "#%%\n"
    }
   }
  },
  {
   "cell_type": "code",
   "execution_count": 359,
   "outputs": [
    {
     "data": {
      "text/plain": "array([-1250,   230,   275,   395,   650,   550,   750,   250])"
     },
     "execution_count": 359,
     "metadata": {},
     "output_type": "execute_result"
    }
   ],
   "source": [
    "np.sum(projects, axis=0)"
   ],
   "metadata": {
    "collapsed": false,
    "pycharm": {
     "name": "#%%\n"
    }
   }
  },
  {
   "cell_type": "code",
   "execution_count": 360,
   "outputs": [
    {
     "data": {
      "text/plain": "array([  90,   60, 1700])"
     },
     "execution_count": 360,
     "metadata": {},
     "output_type": "execute_result"
    }
   ],
   "source": [
    "np.sum(projects, axis=1)"
   ],
   "metadata": {
    "collapsed": false,
    "pycharm": {
     "name": "#%%\n"
    }
   }
  },
  {
   "cell_type": "code",
   "execution_count": 361,
   "outputs": [
    {
     "data": {
      "text/plain": "array([[ -200,  -180,  -130,   -60,    40,    90,    90,    90],\n       [  -50,   -40,   -15,    10,    60,    60,    60,    60],\n       [-1000,  -800,  -600,  -300,   200,   700,  1450,  1700]],\n      dtype=int32)"
     },
     "execution_count": 361,
     "metadata": {},
     "output_type": "execute_result"
    }
   ],
   "source": [
    "np.cumsum(projects, axis=1)"
   ],
   "metadata": {
    "collapsed": false,
    "pycharm": {
     "name": "#%%\n"
    }
   }
  },
  {
   "cell_type": "code",
   "execution_count": 362,
   "outputs": [
    {
     "data": {
      "text/plain": "array([ 11.25,   7.5 , 212.5 ])"
     },
     "execution_count": 362,
     "metadata": {},
     "output_type": "execute_result"
    }
   ],
   "source": [
    "np.mean(projects, axis=1)"
   ],
   "metadata": {
    "collapsed": false,
    "pycharm": {
     "name": "#%%\n"
    }
   }
  },
  {
   "cell_type": "code",
   "execution_count": null,
   "outputs": [],
   "source": [],
   "metadata": {
    "collapsed": false,
    "pycharm": {
     "name": "#%%\n"
    }
   }
  }
 ],
 "metadata": {
  "kernelspec": {
   "display_name": "Python 3",
   "language": "python",
   "name": "python3"
  },
  "language_info": {
   "codemirror_mode": {
    "name": "ipython",
    "version": 2
   },
   "file_extension": ".py",
   "mimetype": "text/x-python",
   "name": "python",
   "nbconvert_exporter": "python",
   "pygments_lexer": "ipython2",
   "version": "2.7.6"
  }
 },
 "nbformat": 4,
 "nbformat_minor": 0
}