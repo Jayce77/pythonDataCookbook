{
 "cells": [
  {
   "cell_type": "markdown",
   "source": [
    "# Portfolio Trader"
   ],
   "metadata": {
    "collapsed": false,
    "pycharm": {
     "name": "#%% md\n"
    }
   }
  },
  {
   "cell_type": "code",
   "execution_count": 1,
   "outputs": [],
   "source": [
    "import ccxt\n",
    "import pandas as pd\n",
    "import numpy as np\n",
    "from dotenv import load_dotenv\n",
    "import os"
   ],
   "metadata": {
    "collapsed": false,
    "pycharm": {
     "name": "#%%\n"
    }
   }
  },
  {
   "cell_type": "code",
   "execution_count": 2,
   "outputs": [],
   "source": [
    "pd.set_option('display.float_format', lambda x: '%5f' % x)"
   ],
   "metadata": {
    "collapsed": false,
    "pycharm": {
     "name": "#%%\n"
    }
   }
  },
  {
   "cell_type": "code",
   "execution_count": 3,
   "outputs": [
    {
     "data": {
      "text/plain": "True"
     },
     "execution_count": 3,
     "metadata": {},
     "output_type": "execute_result"
    }
   ],
   "source": [
    "load_dotenv()"
   ],
   "metadata": {
    "collapsed": false,
    "pycharm": {
     "name": "#%%\n"
    }
   }
  },
  {
   "cell_type": "code",
   "execution_count": 4,
   "outputs": [],
   "source": [
    "api_key = os.getenv('BINANCE_TESTNET_API_KEY')\n",
    "secret_key = os.getenv('BINANCE_TESTNET_API_SECRET')\n",
    "portfolio_path = os.getenv('PORTFOLIO_PATH')"
   ],
   "metadata": {
    "collapsed": false,
    "pycharm": {
     "name": "#%%\n"
    }
   }
  },
  {
   "cell_type": "code",
   "execution_count": 5,
   "outputs": [],
   "source": [
    "class PortfolioTrader():\n",
    "    def __init__(self, exchange):\n",
    "        self.exchange = exchange\n",
    "\n",
    "    def __repr__(self):\n",
    "        return 'PortfolioTrader(exchange={})'.format(self.exchange)\n",
    "\n",
    "    def load_target_weights(self, filepath, weights_tolerance):\n",
    "        self.filepath = filepath\n",
    "        self.target_weights = pd.read_csv(filepath, usecols=[0,1])\n",
    "        self.target_weights.columns = ['asset', 't_weights']\n",
    "        self.target_weights.set_index('asset', inplace=True)\n",
    "        if abs(self.target_weights.t_weights.sum() - 1 > weights_tolerance):\n",
    "            print('Weights don\\'t sum up to 1.')"
   ],
   "metadata": {
    "collapsed": false,
    "pycharm": {
     "name": "#%%\n"
    }
   }
  },
  {
   "cell_type": "code",
   "execution_count": 6,
   "outputs": [
    {
     "data": {
      "text/plain": "ccxt.binance()"
     },
     "execution_count": 6,
     "metadata": {},
     "output_type": "execute_result"
    }
   ],
   "source": [
    "exchange = ccxt.binance()\n",
    "exchange"
   ],
   "metadata": {
    "collapsed": false,
    "pycharm": {
     "name": "#%%\n"
    }
   }
  },
  {
   "cell_type": "code",
   "execution_count": 7,
   "outputs": [],
   "source": [
    "exchange.set_sandbox_mode(True)\n",
    "exchange.apiKey = api_key\n",
    "exchange.secret = secret_key"
   ],
   "metadata": {
    "collapsed": false,
    "pycharm": {
     "name": "#%%\n"
    }
   }
  },
  {
   "cell_type": "code",
   "execution_count": 8,
   "outputs": [
    {
     "data": {
      "text/plain": "PortfolioTrader(exchange=Binance)"
     },
     "execution_count": 8,
     "metadata": {},
     "output_type": "execute_result"
    }
   ],
   "source": [
    "pt = PortfolioTrader(exchange=exchange)\n",
    "pt"
   ],
   "metadata": {
    "collapsed": false,
    "pycharm": {
     "name": "#%%\n"
    }
   }
  },
  {
   "cell_type": "code",
   "execution_count": 9,
   "outputs": [
    {
     "data": {
      "text/plain": "'C:\\\\Users\\\\xjayc\\\\PycharmProjects\\\\pythonDataCookbook\\\\data\\\\Portfolio.csv'"
     },
     "execution_count": 9,
     "metadata": {},
     "output_type": "execute_result"
    }
   ],
   "source": [
    "portfolio_path"
   ],
   "metadata": {
    "collapsed": false,
    "pycharm": {
     "name": "#%%\n"
    }
   }
  },
  {
   "cell_type": "code",
   "execution_count": 10,
   "outputs": [],
   "source": [
    "pt.load_target_weights(filepath=portfolio_path, weights_tolerance=0.01)"
   ],
   "metadata": {
    "collapsed": false,
    "pycharm": {
     "name": "#%%\n"
    }
   }
  },
  {
   "cell_type": "code",
   "execution_count": 11,
   "outputs": [
    {
     "data": {
      "text/plain": "       t_weights\nasset           \nUSDT    0.500000\nBTC     0.100000\nETH     0.200000\nSOL     0.200000",
      "text/html": "<div>\n<style scoped>\n    .dataframe tbody tr th:only-of-type {\n        vertical-align: middle;\n    }\n\n    .dataframe tbody tr th {\n        vertical-align: top;\n    }\n\n    .dataframe thead th {\n        text-align: right;\n    }\n</style>\n<table border=\"1\" class=\"dataframe\">\n  <thead>\n    <tr style=\"text-align: right;\">\n      <th></th>\n      <th>t_weights</th>\n    </tr>\n    <tr>\n      <th>asset</th>\n      <th></th>\n    </tr>\n  </thead>\n  <tbody>\n    <tr>\n      <th>USDT</th>\n      <td>0.500000</td>\n    </tr>\n    <tr>\n      <th>BTC</th>\n      <td>0.100000</td>\n    </tr>\n    <tr>\n      <th>ETH</th>\n      <td>0.200000</td>\n    </tr>\n    <tr>\n      <th>SOL</th>\n      <td>0.200000</td>\n    </tr>\n  </tbody>\n</table>\n</div>"
     },
     "execution_count": 11,
     "metadata": {},
     "output_type": "execute_result"
    }
   ],
   "source": [
    "pt.target_weights"
   ],
   "metadata": {
    "collapsed": false,
    "pycharm": {
     "name": "#%%\n"
    }
   }
  },
  {
   "cell_type": "code",
   "execution_count": 13,
   "outputs": [],
   "source": [
    "class PortfolioTrader():\n",
    "    def __init__(self, exchange):\n",
    "        self.exchange = exchange\n",
    "\n",
    "    def __repr__(self):\n",
    "        return 'PortfolioTrader(exchange={})'.format(self.exchange)\n",
    "\n",
    "    def load_target_weights(self, filepath, weights_tolerance):\n",
    "        self.filepath = filepath\n",
    "        self.target_weights = pd.read_csv(filepath, usecols=[0,1])\n",
    "        self.target_weights.columns = ['asset', 't_weights']\n",
    "        self.target_weights.set_index('asset', inplace=True)\n",
    "        if abs(self.target_weights.t_weights.sum() - 1 > weights_tolerance):\n",
    "            print('Weights don\\'t sum up to 1.')\n",
    "\n",
    "    def load_raw_balances(self):\n",
    "        self.raw_balances = self.exchange.fetch_balance()['info']['balances']\n",
    "        df = pd.DataFrame(self.raw_balances)\n",
    "        df = df[['asset','free']].copy()\n",
    "        df.free = pd.to_numeric(df.free)\n",
    "        df.set_index('asset', inplace=True)\n",
    "        df = pd.merge(left=df, right=self.target_weights, how='outer', on='asset')\n",
    "        df.fillna(0, inplace=True)\n",
    "        df['ticker'] = np.nan\n",
    "        df['usdt_price'] = np.nan\n",
    "        df['usdt'] = np.nan\n",
    "        df.loc[(df.free != 0) | (df.t_weights !=0)]\n",
    "        self.rebalance_table = df.copy()"
   ],
   "metadata": {
    "collapsed": false,
    "pycharm": {
     "name": "#%%\n"
    }
   }
  },
  {
   "cell_type": "code",
   "execution_count": 14,
   "outputs": [],
   "source": [
    "pt = PortfolioTrader(exchange=exchange)"
   ],
   "metadata": {
    "collapsed": false,
    "pycharm": {
     "name": "#%%\n"
    }
   }
  },
  {
   "cell_type": "code",
   "execution_count": 15,
   "outputs": [
    {
     "data": {
      "text/plain": "       t_weights\nasset           \nUSDT    0.500000\nBTC     0.100000\nETH     0.200000\nSOL     0.200000",
      "text/html": "<div>\n<style scoped>\n    .dataframe tbody tr th:only-of-type {\n        vertical-align: middle;\n    }\n\n    .dataframe tbody tr th {\n        vertical-align: top;\n    }\n\n    .dataframe thead th {\n        text-align: right;\n    }\n</style>\n<table border=\"1\" class=\"dataframe\">\n  <thead>\n    <tr style=\"text-align: right;\">\n      <th></th>\n      <th>t_weights</th>\n    </tr>\n    <tr>\n      <th>asset</th>\n      <th></th>\n    </tr>\n  </thead>\n  <tbody>\n    <tr>\n      <th>USDT</th>\n      <td>0.500000</td>\n    </tr>\n    <tr>\n      <th>BTC</th>\n      <td>0.100000</td>\n    </tr>\n    <tr>\n      <th>ETH</th>\n      <td>0.200000</td>\n    </tr>\n    <tr>\n      <th>SOL</th>\n      <td>0.200000</td>\n    </tr>\n  </tbody>\n</table>\n</div>"
     },
     "execution_count": 15,
     "metadata": {},
     "output_type": "execute_result"
    }
   ],
   "source": [
    "pt.load_target_weights(filepath=portfolio_path, weights_tolerance=0.01)\n",
    "pt.target_weights"
   ],
   "metadata": {
    "collapsed": false,
    "pycharm": {
     "name": "#%%\n"
    }
   }
  },
  {
   "cell_type": "code",
   "execution_count": 16,
   "outputs": [
    {
     "data": {
      "text/plain": "[{'asset': 'BNB', 'free': '1000.00000000', 'locked': '0.00000000'},\n {'asset': 'BTC', 'free': '1.00017500', 'locked': '0.00000000'},\n {'asset': 'BUSD', 'free': '10000.00000000', 'locked': '0.00000000'},\n {'asset': 'ETH', 'free': '100.00000000', 'locked': '0.00000000'},\n {'asset': 'LTC', 'free': '500.00000000', 'locked': '0.00000000'},\n {'asset': 'TRX', 'free': '500000.00000000', 'locked': '0.00000000'},\n {'asset': 'USDT', 'free': '10000.41365706', 'locked': '0.00000000'},\n {'asset': 'XRP', 'free': '50000.00000000', 'locked': '0.00000000'}]"
     },
     "execution_count": 16,
     "metadata": {},
     "output_type": "execute_result"
    }
   ],
   "source": [
    "pt.exchange.fetch_balance()['info']['balances']"
   ],
   "metadata": {
    "collapsed": false,
    "pycharm": {
     "name": "#%%\n"
    }
   }
  },
  {
   "cell_type": "code",
   "execution_count": 17,
   "outputs": [],
   "source": [
    "pt.load_raw_balances()"
   ],
   "metadata": {
    "collapsed": false,
    "pycharm": {
     "name": "#%%\n"
    }
   }
  },
  {
   "cell_type": "code",
   "execution_count": 18,
   "outputs": [
    {
     "data": {
      "text/plain": "               free  t_weights  ticker  usdt_price  usdt\nasset                                                   \nBNB     1000.000000   0.000000     NaN         NaN   NaN\nBTC        1.000175   0.100000     NaN         NaN   NaN\nBUSD   10000.000000   0.000000     NaN         NaN   NaN\nETH      100.000000   0.200000     NaN         NaN   NaN\nLTC      500.000000   0.000000     NaN         NaN   NaN\nTRX   500000.000000   0.000000     NaN         NaN   NaN\nUSDT   10000.413657   0.500000     NaN         NaN   NaN\nXRP    50000.000000   0.000000     NaN         NaN   NaN\nSOL        0.000000   0.200000     NaN         NaN   NaN",
      "text/html": "<div>\n<style scoped>\n    .dataframe tbody tr th:only-of-type {\n        vertical-align: middle;\n    }\n\n    .dataframe tbody tr th {\n        vertical-align: top;\n    }\n\n    .dataframe thead th {\n        text-align: right;\n    }\n</style>\n<table border=\"1\" class=\"dataframe\">\n  <thead>\n    <tr style=\"text-align: right;\">\n      <th></th>\n      <th>free</th>\n      <th>t_weights</th>\n      <th>ticker</th>\n      <th>usdt_price</th>\n      <th>usdt</th>\n    </tr>\n    <tr>\n      <th>asset</th>\n      <th></th>\n      <th></th>\n      <th></th>\n      <th></th>\n      <th></th>\n    </tr>\n  </thead>\n  <tbody>\n    <tr>\n      <th>BNB</th>\n      <td>1000.000000</td>\n      <td>0.000000</td>\n      <td>NaN</td>\n      <td>NaN</td>\n      <td>NaN</td>\n    </tr>\n    <tr>\n      <th>BTC</th>\n      <td>1.000175</td>\n      <td>0.100000</td>\n      <td>NaN</td>\n      <td>NaN</td>\n      <td>NaN</td>\n    </tr>\n    <tr>\n      <th>BUSD</th>\n      <td>10000.000000</td>\n      <td>0.000000</td>\n      <td>NaN</td>\n      <td>NaN</td>\n      <td>NaN</td>\n    </tr>\n    <tr>\n      <th>ETH</th>\n      <td>100.000000</td>\n      <td>0.200000</td>\n      <td>NaN</td>\n      <td>NaN</td>\n      <td>NaN</td>\n    </tr>\n    <tr>\n      <th>LTC</th>\n      <td>500.000000</td>\n      <td>0.000000</td>\n      <td>NaN</td>\n      <td>NaN</td>\n      <td>NaN</td>\n    </tr>\n    <tr>\n      <th>TRX</th>\n      <td>500000.000000</td>\n      <td>0.000000</td>\n      <td>NaN</td>\n      <td>NaN</td>\n      <td>NaN</td>\n    </tr>\n    <tr>\n      <th>USDT</th>\n      <td>10000.413657</td>\n      <td>0.500000</td>\n      <td>NaN</td>\n      <td>NaN</td>\n      <td>NaN</td>\n    </tr>\n    <tr>\n      <th>XRP</th>\n      <td>50000.000000</td>\n      <td>0.000000</td>\n      <td>NaN</td>\n      <td>NaN</td>\n      <td>NaN</td>\n    </tr>\n    <tr>\n      <th>SOL</th>\n      <td>0.000000</td>\n      <td>0.200000</td>\n      <td>NaN</td>\n      <td>NaN</td>\n      <td>NaN</td>\n    </tr>\n  </tbody>\n</table>\n</div>"
     },
     "execution_count": 18,
     "metadata": {},
     "output_type": "execute_result"
    }
   ],
   "source": [
    "pt.rebalance_table"
   ],
   "metadata": {
    "collapsed": false,
    "pycharm": {
     "name": "#%%\n"
    }
   }
  },
  {
   "cell_type": "code",
   "execution_count": 40,
   "outputs": [],
   "source": [
    "class PortfolioTrader():\n",
    "    def __init__(self, exchange):\n",
    "        self.exchange = exchange\n",
    "\n",
    "    def __repr__(self):\n",
    "        return 'PortfolioTrader(exchange={})'.format(self.exchange)\n",
    "\n",
    "    def load_target_weights(self, filepath, weights_tolerance):\n",
    "        self.filepath = filepath\n",
    "        self.target_weights = pd.read_csv(filepath, usecols=[0,1])\n",
    "        self.target_weights.columns = ['asset', 't_weights']\n",
    "        self.target_weights.set_index('asset', inplace=True)\n",
    "        if abs(self.target_weights.t_weights.sum() - 1 > weights_tolerance):\n",
    "            print('Weights don\\'t sum up to 1.')\n",
    "\n",
    "    def load_raw_balances(self):\n",
    "        self.raw_balances = self.exchange.fetch_balance()['info']['balances']\n",
    "        df = pd.DataFrame(self.raw_balances)\n",
    "        df = df[['asset','free']].copy()\n",
    "        df.free = pd.to_numeric(df.free)\n",
    "        df.set_index('asset', inplace=True)\n",
    "        df = pd.merge(left=df, right=self.target_weights, how='outer', on='asset')\n",
    "        df.fillna(0, inplace=True)\n",
    "        df['ticker'] = np.nan\n",
    "        df['usdt_price'] = np.nan\n",
    "        df['usdt'] = np.nan\n",
    "        df.loc[(df.free != 0) | (df.t_weights !=0)]\n",
    "        self.rebalance_table = df.copy()\n",
    "\n",
    "    def convert_raw_balances(self):\n",
    "        for symbol in self.rebalance_table.index:\n",
    "            balance = self.rebalance_table.loc[symbol, 'free']\n",
    "            if symbol == 'USDT':\n",
    "                self.rebalance_table.loc[symbol, 'usdt_price'] = 1\n",
    "            else:\n",
    "                try:\n",
    "                    target = 'USDT'\n",
    "                    self._fetch_and_convert(symbol=symbol, target=target, orig_symbol=symbol, step='first')\n",
    "                except Exception as e:\n",
    "                    try:\n",
    "                        target = 'BTC'\n",
    "                        self._fetch_and_convert(symbol=symbol, target=target, orig_symbol=symbol, step='first')\n",
    "                        self._fetch_and_convert(symbol=symbol, target='USDT', orig_symbol=symbol, step='second')\n",
    "                    except:\n",
    "                        try:\n",
    "                            target = 'ETH'\n",
    "                            self._fetch_and_convert(symbol=symbol, target=target, orig_symbol=symbol, step='first')\n",
    "                            self._fetch_and_convert(symbol=symbol, target='USDT', orig_symbol=symbol, step='second')\n",
    "                        except:\n",
    "                            try:\n",
    "                                target = 'BNB'\n",
    "                                self._fetch_and_convert(symbol=symbol, target=target, orig_symbol=symbol, step='first')\n",
    "                                self._fetch_and_convert(symbol=symbol, target='USDT', orig_symbol=symbol, step='second')\n",
    "                            except:\n",
    "                                try:\n",
    "                                    target = 'BUSD'\n",
    "                                    self._fetch_and_convert(symbol=symbol, target=target, orig_symbol=symbol, step='first')\n",
    "                                    self._fetch_and_convert(symbol=symbol, target='USDT', orig_symbol=symbol, step='second')\n",
    "                                except:\n",
    "                                    print('{} can not be converted!'.format(symbol))\n",
    "        self.rebalance_table['usdt'] = self.rebalance_table.free.mul(self.rebalance_table.usdt_price)\n",
    "        self.balance = self.rebalance_table['usdt'].sum()\n",
    "\n",
    "    def _fetch_and_convert(self, symbol, target, orig_symbol, step):\n",
    "        try:\n",
    "            ticker = symbol + '/' + target # symbol is base currency\n",
    "            price = float(self.exchange.fetchTicker(ticker)['last'])\n",
    "        except:\n",
    "            ticker = target + '/' + symbol # symbol is quote currency\n",
    "            price = 1/float(self.exchange.fetchTicker(ticker)['last'])\n",
    "\n",
    "        if step == 'first':\n",
    "            self.rebalance_table.loc[symbol, 'ticker'] = ticker\n",
    "            self.rebalance_table.loc[symbol, 'ticker_price'] = price\n",
    "            self.rebalance_table.loc[symbol, 'usdt_price'] = price\n",
    "        elif step == 'second':\n",
    "            self.rebalance_table.loc[orig_symbol, 'usdt_price'] *= price"
   ],
   "metadata": {
    "collapsed": false,
    "pycharm": {
     "name": "#%%\n"
    }
   }
  },
  {
   "cell_type": "code",
   "execution_count": 41,
   "outputs": [
    {
     "data": {
      "text/plain": "PortfolioTrader(exchange=Binance)"
     },
     "execution_count": 41,
     "metadata": {},
     "output_type": "execute_result"
    }
   ],
   "source": [
    "pt = PortfolioTrader(exchange=exchange)\n",
    "pt"
   ],
   "metadata": {
    "collapsed": false,
    "pycharm": {
     "name": "#%%\n"
    }
   }
  },
  {
   "cell_type": "code",
   "execution_count": 42,
   "outputs": [],
   "source": [
    "pt.load_target_weights(filepath=portfolio_path, weights_tolerance=0.01)"
   ],
   "metadata": {
    "collapsed": false,
    "pycharm": {
     "name": "#%%\n"
    }
   }
  },
  {
   "cell_type": "code",
   "execution_count": 43,
   "outputs": [],
   "source": [
    "pt.load_raw_balances()"
   ],
   "metadata": {
    "collapsed": false,
    "pycharm": {
     "name": "#%%\n"
    }
   }
  },
  {
   "cell_type": "code",
   "execution_count": 44,
   "outputs": [
    {
     "name": "stdout",
     "output_type": "stream",
     "text": [
      "BUSD can not be converted!\n",
      "SOL can not be converted!\n"
     ]
    }
   ],
   "source": [
    "pt.convert_raw_balances()"
   ],
   "metadata": {
    "collapsed": false,
    "pycharm": {
     "name": "#%%\n"
    }
   }
  },
  {
   "cell_type": "code",
   "execution_count": 45,
   "outputs": [
    {
     "data": {
      "text/plain": "               free  t_weights    ticker   usdt_price          usdt  \\\nasset                                                                 \nBNB     1000.000000   0.000000  BNB/USDT   307.700000 307700.000000   \nBTC        1.000175   0.100000  BTC/USDT 23193.850000  23197.908924   \nBUSD   10000.000000   0.000000  BNB/BUSD     0.003249     32.488629   \nETH      100.000000   0.200000  ETH/USDT  1617.990000 161799.000000   \nLTC      500.000000   0.000000  LTC/USDT    89.350000  44675.000000   \nTRX   500000.000000   0.000000  TRX/USDT     0.061960  30980.000000   \nUSDT   10000.413657   0.500000       NaN     1.000000  10000.413657   \nXRP    50000.000000   0.000000  XRP/USDT     0.413800  20690.000000   \nSOL        0.000000   0.200000       NaN          NaN           NaN   \n\n       ticker_price  \nasset                \nBNB      307.700000  \nBTC    23193.850000  \nBUSD       0.003249  \nETH     1617.990000  \nLTC       89.350000  \nTRX        0.061960  \nUSDT            NaN  \nXRP        0.413800  \nSOL             NaN  ",
      "text/html": "<div>\n<style scoped>\n    .dataframe tbody tr th:only-of-type {\n        vertical-align: middle;\n    }\n\n    .dataframe tbody tr th {\n        vertical-align: top;\n    }\n\n    .dataframe thead th {\n        text-align: right;\n    }\n</style>\n<table border=\"1\" class=\"dataframe\">\n  <thead>\n    <tr style=\"text-align: right;\">\n      <th></th>\n      <th>free</th>\n      <th>t_weights</th>\n      <th>ticker</th>\n      <th>usdt_price</th>\n      <th>usdt</th>\n      <th>ticker_price</th>\n    </tr>\n    <tr>\n      <th>asset</th>\n      <th></th>\n      <th></th>\n      <th></th>\n      <th></th>\n      <th></th>\n      <th></th>\n    </tr>\n  </thead>\n  <tbody>\n    <tr>\n      <th>BNB</th>\n      <td>1000.000000</td>\n      <td>0.000000</td>\n      <td>BNB/USDT</td>\n      <td>307.700000</td>\n      <td>307700.000000</td>\n      <td>307.700000</td>\n    </tr>\n    <tr>\n      <th>BTC</th>\n      <td>1.000175</td>\n      <td>0.100000</td>\n      <td>BTC/USDT</td>\n      <td>23193.850000</td>\n      <td>23197.908924</td>\n      <td>23193.850000</td>\n    </tr>\n    <tr>\n      <th>BUSD</th>\n      <td>10000.000000</td>\n      <td>0.000000</td>\n      <td>BNB/BUSD</td>\n      <td>0.003249</td>\n      <td>32.488629</td>\n      <td>0.003249</td>\n    </tr>\n    <tr>\n      <th>ETH</th>\n      <td>100.000000</td>\n      <td>0.200000</td>\n      <td>ETH/USDT</td>\n      <td>1617.990000</td>\n      <td>161799.000000</td>\n      <td>1617.990000</td>\n    </tr>\n    <tr>\n      <th>LTC</th>\n      <td>500.000000</td>\n      <td>0.000000</td>\n      <td>LTC/USDT</td>\n      <td>89.350000</td>\n      <td>44675.000000</td>\n      <td>89.350000</td>\n    </tr>\n    <tr>\n      <th>TRX</th>\n      <td>500000.000000</td>\n      <td>0.000000</td>\n      <td>TRX/USDT</td>\n      <td>0.061960</td>\n      <td>30980.000000</td>\n      <td>0.061960</td>\n    </tr>\n    <tr>\n      <th>USDT</th>\n      <td>10000.413657</td>\n      <td>0.500000</td>\n      <td>NaN</td>\n      <td>1.000000</td>\n      <td>10000.413657</td>\n      <td>NaN</td>\n    </tr>\n    <tr>\n      <th>XRP</th>\n      <td>50000.000000</td>\n      <td>0.000000</td>\n      <td>XRP/USDT</td>\n      <td>0.413800</td>\n      <td>20690.000000</td>\n      <td>0.413800</td>\n    </tr>\n    <tr>\n      <th>SOL</th>\n      <td>0.000000</td>\n      <td>0.200000</td>\n      <td>NaN</td>\n      <td>NaN</td>\n      <td>NaN</td>\n      <td>NaN</td>\n    </tr>\n  </tbody>\n</table>\n</div>"
     },
     "execution_count": 45,
     "metadata": {},
     "output_type": "execute_result"
    }
   ],
   "source": [
    "pt.rebalance_table"
   ],
   "metadata": {
    "collapsed": false,
    "pycharm": {
     "name": "#%%\n"
    }
   }
  },
  {
   "cell_type": "code",
   "execution_count": null,
   "outputs": [],
   "source": [],
   "metadata": {
    "collapsed": false,
    "pycharm": {
     "name": "#%%\n"
    }
   }
  }
 ],
 "metadata": {
  "kernelspec": {
   "display_name": "Python 3",
   "language": "python",
   "name": "python3"
  },
  "language_info": {
   "codemirror_mode": {
    "name": "ipython",
    "version": 2
   },
   "file_extension": ".py",
   "mimetype": "text/x-python",
   "name": "python",
   "nbconvert_exporter": "python",
   "pygments_lexer": "ipython2",
   "version": "2.7.6"
  }
 },
 "nbformat": 4,
 "nbformat_minor": 0
}