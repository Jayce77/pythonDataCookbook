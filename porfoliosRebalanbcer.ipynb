{
 "cells": [
  {
   "cell_type": "markdown",
   "source": [
    "# Portfolio Trader"
   ],
   "metadata": {
    "collapsed": false,
    "pycharm": {
     "name": "#%% md\n"
    }
   }
  },
  {
   "cell_type": "code",
   "execution_count": 29,
   "outputs": [],
   "source": [
    "import ccxt\n",
    "import pandas as pd\n",
    "import numpy as np\n",
    "from dotenv import load_dotenv\n",
    "import os"
   ],
   "metadata": {
    "collapsed": false,
    "pycharm": {
     "name": "#%%\n"
    }
   }
  },
  {
   "cell_type": "code",
   "execution_count": 30,
   "outputs": [],
   "source": [
    "pd.set_option('display.float_format', lambda x: '%.5f' % x)"
   ],
   "metadata": {
    "collapsed": false,
    "pycharm": {
     "name": "#%%\n"
    }
   }
  },
  {
   "cell_type": "code",
   "execution_count": 31,
   "outputs": [
    {
     "data": {
      "text/plain": "True"
     },
     "execution_count": 31,
     "metadata": {},
     "output_type": "execute_result"
    }
   ],
   "source": [
    "load_dotenv()"
   ],
   "metadata": {
    "collapsed": false,
    "pycharm": {
     "name": "#%%\n"
    }
   }
  },
  {
   "cell_type": "code",
   "execution_count": 32,
   "outputs": [],
   "source": [
    "api_key = os.getenv('BINANCE_TESTNET_API_KEY')\n",
    "secret_key = os.getenv('BINANCE_TESTNET_API_SECRET')\n",
    "portfolio_path = os.getenv('PORTFOLIO_PATH')"
   ],
   "metadata": {
    "collapsed": false,
    "pycharm": {
     "name": "#%%\n"
    }
   }
  },
  {
   "cell_type": "code",
   "execution_count": 33,
   "outputs": [],
   "source": [
    "class PortfolioTrader():\n",
    "    def __init__(self, exchange):\n",
    "        self.exchange = exchange\n",
    "\n",
    "    def __repr__(self):\n",
    "        return 'PortfolioTrader(exchange={})'.format(self.exchange)\n",
    "\n",
    "    def load_target_weights(self, filepath, weights_tolerance):\n",
    "        self.filepath = filepath\n",
    "        self.target_weights = pd.read_csv(filepath, usecols=[0,1])\n",
    "        self.target_weights.columns = ['asset', 't_weights']\n",
    "        self.target_weights.set_index('asset', inplace=True)\n",
    "        if abs(self.target_weights.t_weights.sum() - 1 > weights_tolerance):\n",
    "            print('Weights don\\'t sum up to 1.')"
   ],
   "metadata": {
    "collapsed": false,
    "pycharm": {
     "name": "#%%\n"
    }
   }
  },
  {
   "cell_type": "code",
   "execution_count": 34,
   "outputs": [
    {
     "data": {
      "text/plain": "ccxt.binance()"
     },
     "execution_count": 34,
     "metadata": {},
     "output_type": "execute_result"
    }
   ],
   "source": [
    "exchange = ccxt.binance()\n",
    "exchange"
   ],
   "metadata": {
    "collapsed": false,
    "pycharm": {
     "name": "#%%\n"
    }
   }
  },
  {
   "cell_type": "code",
   "execution_count": 35,
   "outputs": [],
   "source": [
    "exchange.set_sandbox_mode(True)\n",
    "exchange.apiKey = api_key\n",
    "exchange.secret = secret_key"
   ],
   "metadata": {
    "collapsed": false,
    "pycharm": {
     "name": "#%%\n"
    }
   }
  },
  {
   "cell_type": "code",
   "execution_count": 36,
   "outputs": [
    {
     "data": {
      "text/plain": "PortfolioTrader(exchange=Binance)"
     },
     "execution_count": 36,
     "metadata": {},
     "output_type": "execute_result"
    }
   ],
   "source": [
    "pt = PortfolioTrader(exchange=exchange)\n",
    "pt"
   ],
   "metadata": {
    "collapsed": false,
    "pycharm": {
     "name": "#%%\n"
    }
   }
  },
  {
   "cell_type": "code",
   "execution_count": 37,
   "outputs": [
    {
     "data": {
      "text/plain": "'C:\\\\Users\\\\xjayc\\\\PycharmProjects\\\\pythonDataCookbook\\\\data\\\\Portfolio.csv'"
     },
     "execution_count": 37,
     "metadata": {},
     "output_type": "execute_result"
    }
   ],
   "source": [
    "portfolio_path"
   ],
   "metadata": {
    "collapsed": false,
    "pycharm": {
     "name": "#%%\n"
    }
   }
  },
  {
   "cell_type": "code",
   "execution_count": 38,
   "outputs": [],
   "source": [
    "pt.load_target_weights(filepath=portfolio_path, weights_tolerance=0.01)"
   ],
   "metadata": {
    "collapsed": false,
    "pycharm": {
     "name": "#%%\n"
    }
   }
  },
  {
   "cell_type": "code",
   "execution_count": 39,
   "outputs": [
    {
     "data": {
      "text/plain": "       t_weights\nasset           \nUSDT     0.20000\nBTC      0.10000\nETH      0.20000\nBNB      0.20000\nLTC      0.30000",
      "text/html": "<div>\n<style scoped>\n    .dataframe tbody tr th:only-of-type {\n        vertical-align: middle;\n    }\n\n    .dataframe tbody tr th {\n        vertical-align: top;\n    }\n\n    .dataframe thead th {\n        text-align: right;\n    }\n</style>\n<table border=\"1\" class=\"dataframe\">\n  <thead>\n    <tr style=\"text-align: right;\">\n      <th></th>\n      <th>t_weights</th>\n    </tr>\n    <tr>\n      <th>asset</th>\n      <th></th>\n    </tr>\n  </thead>\n  <tbody>\n    <tr>\n      <th>USDT</th>\n      <td>0.20000</td>\n    </tr>\n    <tr>\n      <th>BTC</th>\n      <td>0.10000</td>\n    </tr>\n    <tr>\n      <th>ETH</th>\n      <td>0.20000</td>\n    </tr>\n    <tr>\n      <th>BNB</th>\n      <td>0.20000</td>\n    </tr>\n    <tr>\n      <th>LTC</th>\n      <td>0.30000</td>\n    </tr>\n  </tbody>\n</table>\n</div>"
     },
     "execution_count": 39,
     "metadata": {},
     "output_type": "execute_result"
    }
   ],
   "source": [
    "pt.target_weights"
   ],
   "metadata": {
    "collapsed": false,
    "pycharm": {
     "name": "#%%\n"
    }
   }
  },
  {
   "cell_type": "code",
   "execution_count": 40,
   "outputs": [],
   "source": [
    "class PortfolioTrader():\n",
    "    def __init__(self, exchange):\n",
    "        self.exchange = exchange\n",
    "\n",
    "    def __repr__(self):\n",
    "        return 'PortfolioTrader(exchange={})'.format(self.exchange)\n",
    "\n",
    "    def load_target_weights(self, filepath, weights_tolerance):\n",
    "        self.filepath = filepath\n",
    "        self.target_weights = pd.read_csv(filepath, usecols=[0,1])\n",
    "        self.target_weights.columns = ['asset', 't_weights']\n",
    "        self.target_weights.set_index('asset', inplace=True)\n",
    "        if abs(self.target_weights.t_weights.sum() - 1 > weights_tolerance):\n",
    "            print('Weights don\\'t sum up to 1.')\n",
    "\n",
    "    def load_raw_balances(self):\n",
    "        self.raw_balances = self.exchange.fetch_balance()['info']['balances']\n",
    "        df = pd.DataFrame(self.raw_balances)\n",
    "        df = df[['asset','free']].copy()\n",
    "        df.free = pd.to_numeric(df.free)\n",
    "        df.set_index('asset', inplace=True)\n",
    "        df = pd.merge(left=df, right=self.target_weights, how='outer', on='asset')\n",
    "        df.fillna(0, inplace=True)\n",
    "        df['ticker'] = np.nan\n",
    "        df['usdt_price'] = np.nan\n",
    "        df['usdt'] = np.nan\n",
    "        df.loc[(df.free != 0) | (df.t_weights !=0)]\n",
    "        self.rebalance_table = df.copy()"
   ],
   "metadata": {
    "collapsed": false,
    "pycharm": {
     "name": "#%%\n"
    }
   }
  },
  {
   "cell_type": "code",
   "execution_count": 41,
   "outputs": [],
   "source": [
    "pt = PortfolioTrader(exchange=exchange)"
   ],
   "metadata": {
    "collapsed": false,
    "pycharm": {
     "name": "#%%\n"
    }
   }
  },
  {
   "cell_type": "code",
   "execution_count": 42,
   "outputs": [
    {
     "data": {
      "text/plain": "       t_weights\nasset           \nUSDT     0.20000\nBTC      0.10000\nETH      0.20000\nBNB      0.20000\nLTC      0.30000",
      "text/html": "<div>\n<style scoped>\n    .dataframe tbody tr th:only-of-type {\n        vertical-align: middle;\n    }\n\n    .dataframe tbody tr th {\n        vertical-align: top;\n    }\n\n    .dataframe thead th {\n        text-align: right;\n    }\n</style>\n<table border=\"1\" class=\"dataframe\">\n  <thead>\n    <tr style=\"text-align: right;\">\n      <th></th>\n      <th>t_weights</th>\n    </tr>\n    <tr>\n      <th>asset</th>\n      <th></th>\n    </tr>\n  </thead>\n  <tbody>\n    <tr>\n      <th>USDT</th>\n      <td>0.20000</td>\n    </tr>\n    <tr>\n      <th>BTC</th>\n      <td>0.10000</td>\n    </tr>\n    <tr>\n      <th>ETH</th>\n      <td>0.20000</td>\n    </tr>\n    <tr>\n      <th>BNB</th>\n      <td>0.20000</td>\n    </tr>\n    <tr>\n      <th>LTC</th>\n      <td>0.30000</td>\n    </tr>\n  </tbody>\n</table>\n</div>"
     },
     "execution_count": 42,
     "metadata": {},
     "output_type": "execute_result"
    }
   ],
   "source": [
    "pt.load_target_weights(filepath=portfolio_path, weights_tolerance=0.01)\n",
    "pt.target_weights"
   ],
   "metadata": {
    "collapsed": false,
    "pycharm": {
     "name": "#%%\n"
    }
   }
  },
  {
   "cell_type": "code",
   "execution_count": 43,
   "outputs": [
    {
     "data": {
      "text/plain": "[{'asset': 'BNB', 'free': '1000.00000000', 'locked': '0.00000000'},\n {'asset': 'BTC', 'free': '1.00017500', 'locked': '0.00000000'},\n {'asset': 'BUSD', 'free': '10000.00000000', 'locked': '0.00000000'},\n {'asset': 'ETH', 'free': '100.00000000', 'locked': '0.00000000'},\n {'asset': 'LTC', 'free': '500.00000000', 'locked': '0.00000000'},\n {'asset': 'TRX', 'free': '500000.00000000', 'locked': '0.00000000'},\n {'asset': 'USDT', 'free': '10000.41365706', 'locked': '0.00000000'},\n {'asset': 'XRP', 'free': '50000.00000000', 'locked': '0.00000000'}]"
     },
     "execution_count": 43,
     "metadata": {},
     "output_type": "execute_result"
    }
   ],
   "source": [
    "pt.exchange.fetch_balance()['info']['balances']"
   ],
   "metadata": {
    "collapsed": false,
    "pycharm": {
     "name": "#%%\n"
    }
   }
  },
  {
   "cell_type": "code",
   "execution_count": 44,
   "outputs": [],
   "source": [
    "pt.load_raw_balances()"
   ],
   "metadata": {
    "collapsed": false,
    "pycharm": {
     "name": "#%%\n"
    }
   }
  },
  {
   "cell_type": "code",
   "execution_count": 45,
   "outputs": [
    {
     "data": {
      "text/plain": "              free  t_weights  ticker  usdt_price  usdt\nasset                                                  \nBNB     1000.00000    0.20000     NaN         NaN   NaN\nBTC        1.00018    0.10000     NaN         NaN   NaN\nBUSD   10000.00000    0.00000     NaN         NaN   NaN\nETH      100.00000    0.20000     NaN         NaN   NaN\nLTC      500.00000    0.30000     NaN         NaN   NaN\nTRX   500000.00000    0.00000     NaN         NaN   NaN\nUSDT   10000.41366    0.20000     NaN         NaN   NaN\nXRP    50000.00000    0.00000     NaN         NaN   NaN",
      "text/html": "<div>\n<style scoped>\n    .dataframe tbody tr th:only-of-type {\n        vertical-align: middle;\n    }\n\n    .dataframe tbody tr th {\n        vertical-align: top;\n    }\n\n    .dataframe thead th {\n        text-align: right;\n    }\n</style>\n<table border=\"1\" class=\"dataframe\">\n  <thead>\n    <tr style=\"text-align: right;\">\n      <th></th>\n      <th>free</th>\n      <th>t_weights</th>\n      <th>ticker</th>\n      <th>usdt_price</th>\n      <th>usdt</th>\n    </tr>\n    <tr>\n      <th>asset</th>\n      <th></th>\n      <th></th>\n      <th></th>\n      <th></th>\n      <th></th>\n    </tr>\n  </thead>\n  <tbody>\n    <tr>\n      <th>BNB</th>\n      <td>1000.00000</td>\n      <td>0.20000</td>\n      <td>NaN</td>\n      <td>NaN</td>\n      <td>NaN</td>\n    </tr>\n    <tr>\n      <th>BTC</th>\n      <td>1.00018</td>\n      <td>0.10000</td>\n      <td>NaN</td>\n      <td>NaN</td>\n      <td>NaN</td>\n    </tr>\n    <tr>\n      <th>BUSD</th>\n      <td>10000.00000</td>\n      <td>0.00000</td>\n      <td>NaN</td>\n      <td>NaN</td>\n      <td>NaN</td>\n    </tr>\n    <tr>\n      <th>ETH</th>\n      <td>100.00000</td>\n      <td>0.20000</td>\n      <td>NaN</td>\n      <td>NaN</td>\n      <td>NaN</td>\n    </tr>\n    <tr>\n      <th>LTC</th>\n      <td>500.00000</td>\n      <td>0.30000</td>\n      <td>NaN</td>\n      <td>NaN</td>\n      <td>NaN</td>\n    </tr>\n    <tr>\n      <th>TRX</th>\n      <td>500000.00000</td>\n      <td>0.00000</td>\n      <td>NaN</td>\n      <td>NaN</td>\n      <td>NaN</td>\n    </tr>\n    <tr>\n      <th>USDT</th>\n      <td>10000.41366</td>\n      <td>0.20000</td>\n      <td>NaN</td>\n      <td>NaN</td>\n      <td>NaN</td>\n    </tr>\n    <tr>\n      <th>XRP</th>\n      <td>50000.00000</td>\n      <td>0.00000</td>\n      <td>NaN</td>\n      <td>NaN</td>\n      <td>NaN</td>\n    </tr>\n  </tbody>\n</table>\n</div>"
     },
     "execution_count": 45,
     "metadata": {},
     "output_type": "execute_result"
    }
   ],
   "source": [
    "pt.rebalance_table"
   ],
   "metadata": {
    "collapsed": false,
    "pycharm": {
     "name": "#%%\n"
    }
   }
  },
  {
   "cell_type": "code",
   "execution_count": 46,
   "outputs": [],
   "source": [
    "class PortfolioTrader():\n",
    "    def __init__(self, exchange):\n",
    "        self.exchange = exchange\n",
    "\n",
    "    def __repr__(self):\n",
    "        return 'PortfolioTrader(exchange={})'.format(self.exchange)\n",
    "\n",
    "    def load_target_weights(self, filepath, weights_tolerance):\n",
    "        self.filepath = filepath\n",
    "        self.target_weights = pd.read_csv(filepath, usecols=[0,1])\n",
    "        self.target_weights.columns = ['asset', 't_weights']\n",
    "        self.target_weights.set_index('asset', inplace=True)\n",
    "        if abs(self.target_weights.t_weights.sum() - 1 > weights_tolerance):\n",
    "            print('Weights don\\'t sum up to 1.')\n",
    "\n",
    "    def load_raw_balances(self):\n",
    "        self.raw_balances = self.exchange.fetch_balance()['info']['balances']\n",
    "        df = pd.DataFrame(self.raw_balances)\n",
    "        df = df[['asset','free']].copy()\n",
    "        df.free = pd.to_numeric(df.free)\n",
    "        df.set_index('asset', inplace=True)\n",
    "        df = pd.merge(left=df, right=self.target_weights, how='outer', on='asset')\n",
    "        df.fillna(0, inplace=True)\n",
    "        df['ticker'] = np.nan\n",
    "        df['usdt_price'] = np.nan\n",
    "        df['usdt'] = np.nan\n",
    "        df.loc[(df.free != 0) | (df.t_weights !=0)]\n",
    "        self.rebalance_table = df.copy()\n",
    "\n",
    "    def convert_raw_balances(self):\n",
    "        for symbol in self.rebalance_table.index:\n",
    "            balance = self.rebalance_table.loc[symbol, 'free']\n",
    "            if symbol == 'USDT':\n",
    "                self.rebalance_table.loc[symbol, 'usdt_price'] = 1\n",
    "            else:\n",
    "                try:\n",
    "                    target = 'USDT'\n",
    "                    self._fetch_and_convert(symbol=symbol, target=target, orig_symbol=symbol, step='first')\n",
    "                except Exception as e:\n",
    "                    try:\n",
    "                        target = 'BTC'\n",
    "                        self._fetch_and_convert(symbol=symbol, target=target, orig_symbol=symbol, step='first')\n",
    "                        self._fetch_and_convert(symbol=symbol, target='USDT', orig_symbol=symbol, step='second')\n",
    "                    except:\n",
    "                        try:\n",
    "                            target = 'ETH'\n",
    "                            self._fetch_and_convert(symbol=symbol, target=target, orig_symbol=symbol, step='first')\n",
    "                            self._fetch_and_convert(symbol=symbol, target='USDT', orig_symbol=symbol, step='second')\n",
    "                        except:\n",
    "                            try:\n",
    "                                target = 'BNB'\n",
    "                                self._fetch_and_convert(symbol=symbol, target=target, orig_symbol=symbol, step='first')\n",
    "                                self._fetch_and_convert(symbol=symbol, target='USDT', orig_symbol=symbol, step='second')\n",
    "                            except:\n",
    "                                try:\n",
    "                                    target = 'BUSD'\n",
    "                                    self._fetch_and_convert(symbol=symbol, target=target, orig_symbol=symbol, step='first')\n",
    "                                    self._fetch_and_convert(symbol=symbol, target='USDT', orig_symbol=symbol, step='second')\n",
    "                                except:\n",
    "                                    print('{} can not be converted!'.format(symbol))\n",
    "        self.rebalance_table['usdt'] = self.rebalance_table.free.mul(self.rebalance_table.usdt_price)\n",
    "        self.balance = self.rebalance_table['usdt'].sum()\n",
    "\n",
    "    def _fetch_and_convert(self, symbol, target, orig_symbol, step):\n",
    "        try:\n",
    "            ticker = symbol + '/' + target # symbol is base currency\n",
    "            price = float(self.exchange.fetchTicker(ticker)['last'])\n",
    "        except:\n",
    "            ticker = target + '/' + symbol # symbol is quote currency\n",
    "            price = 1/float(self.exchange.fetchTicker(ticker)['last'])\n",
    "\n",
    "        if step == 'first':\n",
    "            self.rebalance_table.loc[symbol, 'ticker'] = ticker\n",
    "            self.rebalance_table.loc[symbol, 'ticker_price'] = price\n",
    "            self.rebalance_table.loc[symbol, 'usdt_price'] = price\n",
    "        elif step == 'second':\n",
    "            self.rebalance_table.loc[orig_symbol, 'usdt_price'] *= price"
   ],
   "metadata": {
    "collapsed": false,
    "pycharm": {
     "name": "#%%\n"
    }
   }
  },
  {
   "cell_type": "code",
   "execution_count": 47,
   "outputs": [
    {
     "data": {
      "text/plain": "PortfolioTrader(exchange=Binance)"
     },
     "execution_count": 47,
     "metadata": {},
     "output_type": "execute_result"
    }
   ],
   "source": [
    "pt = PortfolioTrader(exchange=exchange)\n",
    "pt"
   ],
   "metadata": {
    "collapsed": false,
    "pycharm": {
     "name": "#%%\n"
    }
   }
  },
  {
   "cell_type": "code",
   "execution_count": 48,
   "outputs": [],
   "source": [
    "pt.load_target_weights(filepath=portfolio_path, weights_tolerance=0.01)"
   ],
   "metadata": {
    "collapsed": false,
    "pycharm": {
     "name": "#%%\n"
    }
   }
  },
  {
   "cell_type": "code",
   "execution_count": 49,
   "outputs": [],
   "source": [
    "pt.load_raw_balances()"
   ],
   "metadata": {
    "collapsed": false,
    "pycharm": {
     "name": "#%%\n"
    }
   }
  },
  {
   "cell_type": "code",
   "execution_count": 50,
   "outputs": [
    {
     "name": "stdout",
     "output_type": "stream",
     "text": [
      "BUSD can not be converted!\n"
     ]
    }
   ],
   "source": [
    "pt.convert_raw_balances()"
   ],
   "metadata": {
    "collapsed": false,
    "pycharm": {
     "name": "#%%\n"
    }
   }
  },
  {
   "cell_type": "code",
   "execution_count": 51,
   "outputs": [
    {
     "data": {
      "text/plain": "              free  t_weights    ticker  usdt_price         usdt  ticker_price\nasset                                                                         \nBNB     1000.00000    0.20000  BNB/USDT   314.50000 314500.00000     314.50000\nBTC        1.00018    0.10000  BTC/USDT 23612.76000  23616.89223   23612.76000\nBUSD   10000.00000    0.00000  BNB/BUSD     0.00318     31.77629       0.00318\nETH      100.00000    0.20000  ETH/USDT  1635.48000 163548.00000    1635.48000\nLTC      500.00000    0.30000  LTC/USDT    95.26000  47630.00000      95.26000\nTRX   500000.00000    0.00000  TRX/USDT     0.06322  31610.00000       0.06322\nUSDT   10000.41366    0.20000       NaN     1.00000  10000.41366           NaN\nXRP    50000.00000    0.00000  XRP/USDT     0.41020  20510.00000       0.41020",
      "text/html": "<div>\n<style scoped>\n    .dataframe tbody tr th:only-of-type {\n        vertical-align: middle;\n    }\n\n    .dataframe tbody tr th {\n        vertical-align: top;\n    }\n\n    .dataframe thead th {\n        text-align: right;\n    }\n</style>\n<table border=\"1\" class=\"dataframe\">\n  <thead>\n    <tr style=\"text-align: right;\">\n      <th></th>\n      <th>free</th>\n      <th>t_weights</th>\n      <th>ticker</th>\n      <th>usdt_price</th>\n      <th>usdt</th>\n      <th>ticker_price</th>\n    </tr>\n    <tr>\n      <th>asset</th>\n      <th></th>\n      <th></th>\n      <th></th>\n      <th></th>\n      <th></th>\n      <th></th>\n    </tr>\n  </thead>\n  <tbody>\n    <tr>\n      <th>BNB</th>\n      <td>1000.00000</td>\n      <td>0.20000</td>\n      <td>BNB/USDT</td>\n      <td>314.50000</td>\n      <td>314500.00000</td>\n      <td>314.50000</td>\n    </tr>\n    <tr>\n      <th>BTC</th>\n      <td>1.00018</td>\n      <td>0.10000</td>\n      <td>BTC/USDT</td>\n      <td>23612.76000</td>\n      <td>23616.89223</td>\n      <td>23612.76000</td>\n    </tr>\n    <tr>\n      <th>BUSD</th>\n      <td>10000.00000</td>\n      <td>0.00000</td>\n      <td>BNB/BUSD</td>\n      <td>0.00318</td>\n      <td>31.77629</td>\n      <td>0.00318</td>\n    </tr>\n    <tr>\n      <th>ETH</th>\n      <td>100.00000</td>\n      <td>0.20000</td>\n      <td>ETH/USDT</td>\n      <td>1635.48000</td>\n      <td>163548.00000</td>\n      <td>1635.48000</td>\n    </tr>\n    <tr>\n      <th>LTC</th>\n      <td>500.00000</td>\n      <td>0.30000</td>\n      <td>LTC/USDT</td>\n      <td>95.26000</td>\n      <td>47630.00000</td>\n      <td>95.26000</td>\n    </tr>\n    <tr>\n      <th>TRX</th>\n      <td>500000.00000</td>\n      <td>0.00000</td>\n      <td>TRX/USDT</td>\n      <td>0.06322</td>\n      <td>31610.00000</td>\n      <td>0.06322</td>\n    </tr>\n    <tr>\n      <th>USDT</th>\n      <td>10000.41366</td>\n      <td>0.20000</td>\n      <td>NaN</td>\n      <td>1.00000</td>\n      <td>10000.41366</td>\n      <td>NaN</td>\n    </tr>\n    <tr>\n      <th>XRP</th>\n      <td>50000.00000</td>\n      <td>0.00000</td>\n      <td>XRP/USDT</td>\n      <td>0.41020</td>\n      <td>20510.00000</td>\n      <td>0.41020</td>\n    </tr>\n  </tbody>\n</table>\n</div>"
     },
     "execution_count": 51,
     "metadata": {},
     "output_type": "execute_result"
    }
   ],
   "source": [
    "pt.rebalance_table"
   ],
   "metadata": {
    "collapsed": false,
    "pycharm": {
     "name": "#%%\n"
    }
   }
  },
  {
   "cell_type": "code",
   "execution_count": 57,
   "outputs": [
    {
     "data": {
      "text/plain": "              free  t_weights    ticker  usdt_price         usdt  ticker_price\nasset                                                                         \nBNB     1000.00000    0.20000  BNB/USDT   314.50000 314500.00000     314.50000\nBTC        1.00018    0.10000  BTC/USDT 23612.76000  23616.89223   23612.76000\nBUSD   10000.00000    0.00000  BNB/BUSD     0.00318     31.77629       0.00318\nETH      100.00000    0.20000  ETH/USDT  1635.48000 163548.00000    1635.48000\nLTC      500.00000    0.30000  LTC/USDT    95.26000  47630.00000      95.26000\nTRX   500000.00000    0.00000  TRX/USDT     0.06322  31610.00000       0.06322\nUSDT   10000.41366    0.20000       NaN     1.00000  10000.41366           NaN\nXRP    50000.00000    0.00000  XRP/USDT     0.41020  20510.00000       0.41020",
      "text/html": "<div>\n<style scoped>\n    .dataframe tbody tr th:only-of-type {\n        vertical-align: middle;\n    }\n\n    .dataframe tbody tr th {\n        vertical-align: top;\n    }\n\n    .dataframe thead th {\n        text-align: right;\n    }\n</style>\n<table border=\"1\" class=\"dataframe\">\n  <thead>\n    <tr style=\"text-align: right;\">\n      <th></th>\n      <th>free</th>\n      <th>t_weights</th>\n      <th>ticker</th>\n      <th>usdt_price</th>\n      <th>usdt</th>\n      <th>ticker_price</th>\n    </tr>\n    <tr>\n      <th>asset</th>\n      <th></th>\n      <th></th>\n      <th></th>\n      <th></th>\n      <th></th>\n      <th></th>\n    </tr>\n  </thead>\n  <tbody>\n    <tr>\n      <th>BNB</th>\n      <td>1000.00000</td>\n      <td>0.20000</td>\n      <td>BNB/USDT</td>\n      <td>314.50000</td>\n      <td>314500.00000</td>\n      <td>314.50000</td>\n    </tr>\n    <tr>\n      <th>BTC</th>\n      <td>1.00018</td>\n      <td>0.10000</td>\n      <td>BTC/USDT</td>\n      <td>23612.76000</td>\n      <td>23616.89223</td>\n      <td>23612.76000</td>\n    </tr>\n    <tr>\n      <th>BUSD</th>\n      <td>10000.00000</td>\n      <td>0.00000</td>\n      <td>BNB/BUSD</td>\n      <td>0.00318</td>\n      <td>31.77629</td>\n      <td>0.00318</td>\n    </tr>\n    <tr>\n      <th>ETH</th>\n      <td>100.00000</td>\n      <td>0.20000</td>\n      <td>ETH/USDT</td>\n      <td>1635.48000</td>\n      <td>163548.00000</td>\n      <td>1635.48000</td>\n    </tr>\n    <tr>\n      <th>LTC</th>\n      <td>500.00000</td>\n      <td>0.30000</td>\n      <td>LTC/USDT</td>\n      <td>95.26000</td>\n      <td>47630.00000</td>\n      <td>95.26000</td>\n    </tr>\n    <tr>\n      <th>TRX</th>\n      <td>500000.00000</td>\n      <td>0.00000</td>\n      <td>TRX/USDT</td>\n      <td>0.06322</td>\n      <td>31610.00000</td>\n      <td>0.06322</td>\n    </tr>\n    <tr>\n      <th>USDT</th>\n      <td>10000.41366</td>\n      <td>0.20000</td>\n      <td>NaN</td>\n      <td>1.00000</td>\n      <td>10000.41366</td>\n      <td>NaN</td>\n    </tr>\n    <tr>\n      <th>XRP</th>\n      <td>50000.00000</td>\n      <td>0.00000</td>\n      <td>XRP/USDT</td>\n      <td>0.41020</td>\n      <td>20510.00000</td>\n      <td>0.41020</td>\n    </tr>\n  </tbody>\n</table>\n</div>"
     },
     "execution_count": 57,
     "metadata": {},
     "output_type": "execute_result"
    }
   ],
   "source": [
    "df = pt.rebalance_table.copy()\n",
    "df"
   ],
   "metadata": {
    "collapsed": false,
    "pycharm": {
     "name": "#%%\n"
    }
   }
  },
  {
   "cell_type": "code",
   "execution_count": 58,
   "outputs": [
    {
     "data": {
      "text/plain": "              free  t_weights    ticker  usdt_price         usdt  \\\nasset                                                              \nBNB     1000.00000    0.20000  BNB/USDT   314.50000 314500.00000   \nBTC        1.00018    0.10000  BTC/USDT 23612.76000  23616.89223   \nBUSD   10000.00000    0.00000  BNB/BUSD     0.00318     31.77629   \nETH      100.00000    0.20000  ETH/USDT  1635.48000 163548.00000   \nLTC      500.00000    0.30000  LTC/USDT    95.26000  47630.00000   \nTRX   500000.00000    0.00000  TRX/USDT     0.06322  31610.00000   \nUSDT   10000.41366    0.20000       NaN     1.00000  10000.41366   \nXRP    50000.00000    0.00000  XRP/USDT     0.41020  20510.00000   \n\n       ticker_price  init_weights  \nasset                              \nBNB       314.50000       0.51435  \nBTC     23612.76000       0.03862  \nBUSD        0.00318       0.00005  \nETH      1635.48000       0.26748  \nLTC        95.26000       0.07790  \nTRX         0.06322       0.05170  \nUSDT            NaN       0.01636  \nXRP         0.41020       0.03354  ",
      "text/html": "<div>\n<style scoped>\n    .dataframe tbody tr th:only-of-type {\n        vertical-align: middle;\n    }\n\n    .dataframe tbody tr th {\n        vertical-align: top;\n    }\n\n    .dataframe thead th {\n        text-align: right;\n    }\n</style>\n<table border=\"1\" class=\"dataframe\">\n  <thead>\n    <tr style=\"text-align: right;\">\n      <th></th>\n      <th>free</th>\n      <th>t_weights</th>\n      <th>ticker</th>\n      <th>usdt_price</th>\n      <th>usdt</th>\n      <th>ticker_price</th>\n      <th>init_weights</th>\n    </tr>\n    <tr>\n      <th>asset</th>\n      <th></th>\n      <th></th>\n      <th></th>\n      <th></th>\n      <th></th>\n      <th></th>\n      <th></th>\n    </tr>\n  </thead>\n  <tbody>\n    <tr>\n      <th>BNB</th>\n      <td>1000.00000</td>\n      <td>0.20000</td>\n      <td>BNB/USDT</td>\n      <td>314.50000</td>\n      <td>314500.00000</td>\n      <td>314.50000</td>\n      <td>0.51435</td>\n    </tr>\n    <tr>\n      <th>BTC</th>\n      <td>1.00018</td>\n      <td>0.10000</td>\n      <td>BTC/USDT</td>\n      <td>23612.76000</td>\n      <td>23616.89223</td>\n      <td>23612.76000</td>\n      <td>0.03862</td>\n    </tr>\n    <tr>\n      <th>BUSD</th>\n      <td>10000.00000</td>\n      <td>0.00000</td>\n      <td>BNB/BUSD</td>\n      <td>0.00318</td>\n      <td>31.77629</td>\n      <td>0.00318</td>\n      <td>0.00005</td>\n    </tr>\n    <tr>\n      <th>ETH</th>\n      <td>100.00000</td>\n      <td>0.20000</td>\n      <td>ETH/USDT</td>\n      <td>1635.48000</td>\n      <td>163548.00000</td>\n      <td>1635.48000</td>\n      <td>0.26748</td>\n    </tr>\n    <tr>\n      <th>LTC</th>\n      <td>500.00000</td>\n      <td>0.30000</td>\n      <td>LTC/USDT</td>\n      <td>95.26000</td>\n      <td>47630.00000</td>\n      <td>95.26000</td>\n      <td>0.07790</td>\n    </tr>\n    <tr>\n      <th>TRX</th>\n      <td>500000.00000</td>\n      <td>0.00000</td>\n      <td>TRX/USDT</td>\n      <td>0.06322</td>\n      <td>31610.00000</td>\n      <td>0.06322</td>\n      <td>0.05170</td>\n    </tr>\n    <tr>\n      <th>USDT</th>\n      <td>10000.41366</td>\n      <td>0.20000</td>\n      <td>NaN</td>\n      <td>1.00000</td>\n      <td>10000.41366</td>\n      <td>NaN</td>\n      <td>0.01636</td>\n    </tr>\n    <tr>\n      <th>XRP</th>\n      <td>50000.00000</td>\n      <td>0.00000</td>\n      <td>XRP/USDT</td>\n      <td>0.41020</td>\n      <td>20510.00000</td>\n      <td>0.41020</td>\n      <td>0.03354</td>\n    </tr>\n  </tbody>\n</table>\n</div>"
     },
     "execution_count": 58,
     "metadata": {},
     "output_type": "execute_result"
    }
   ],
   "source": [
    "df['init_weights'] = df.usdt.div(pt.balance)\n",
    "df"
   ],
   "metadata": {
    "collapsed": false,
    "pycharm": {
     "name": "#%%\n"
    }
   }
  },
  {
   "cell_type": "code",
   "execution_count": 59,
   "outputs": [
    {
     "data": {
      "text/plain": "              free  t_weights    ticker  usdt_price         usdt  \\\nasset                                                              \nBNB     1000.00000    0.20000  BNB/USDT   314.50000 314500.00000   \nBTC        1.00018    0.10000  BTC/USDT 23612.76000  23616.89223   \nBUSD   10000.00000    0.00000  BNB/BUSD     0.00318     31.77629   \nETH      100.00000    0.20000  ETH/USDT  1635.48000 163548.00000   \nLTC      500.00000    0.30000  LTC/USDT    95.26000  47630.00000   \nTRX   500000.00000    0.00000  TRX/USDT     0.06322  31610.00000   \nUSDT   10000.41366    0.20000       NaN     1.00000  10000.41366   \nXRP    50000.00000    0.00000  XRP/USDT     0.41020  20510.00000   \n\n       ticker_price  init_weights  target_usdt  \nasset                                           \nBNB       314.50000       0.51435 122289.41644  \nBTC     23612.76000       0.03862  61144.70822  \nBUSD        0.00318       0.00005      0.00000  \nETH      1635.48000       0.26748 122289.41644  \nLTC        95.26000       0.07790 183434.12466  \nTRX         0.06322       0.05170      0.00000  \nUSDT            NaN       0.01636 122289.41644  \nXRP         0.41020       0.03354      0.00000  ",
      "text/html": "<div>\n<style scoped>\n    .dataframe tbody tr th:only-of-type {\n        vertical-align: middle;\n    }\n\n    .dataframe tbody tr th {\n        vertical-align: top;\n    }\n\n    .dataframe thead th {\n        text-align: right;\n    }\n</style>\n<table border=\"1\" class=\"dataframe\">\n  <thead>\n    <tr style=\"text-align: right;\">\n      <th></th>\n      <th>free</th>\n      <th>t_weights</th>\n      <th>ticker</th>\n      <th>usdt_price</th>\n      <th>usdt</th>\n      <th>ticker_price</th>\n      <th>init_weights</th>\n      <th>target_usdt</th>\n    </tr>\n    <tr>\n      <th>asset</th>\n      <th></th>\n      <th></th>\n      <th></th>\n      <th></th>\n      <th></th>\n      <th></th>\n      <th></th>\n      <th></th>\n    </tr>\n  </thead>\n  <tbody>\n    <tr>\n      <th>BNB</th>\n      <td>1000.00000</td>\n      <td>0.20000</td>\n      <td>BNB/USDT</td>\n      <td>314.50000</td>\n      <td>314500.00000</td>\n      <td>314.50000</td>\n      <td>0.51435</td>\n      <td>122289.41644</td>\n    </tr>\n    <tr>\n      <th>BTC</th>\n      <td>1.00018</td>\n      <td>0.10000</td>\n      <td>BTC/USDT</td>\n      <td>23612.76000</td>\n      <td>23616.89223</td>\n      <td>23612.76000</td>\n      <td>0.03862</td>\n      <td>61144.70822</td>\n    </tr>\n    <tr>\n      <th>BUSD</th>\n      <td>10000.00000</td>\n      <td>0.00000</td>\n      <td>BNB/BUSD</td>\n      <td>0.00318</td>\n      <td>31.77629</td>\n      <td>0.00318</td>\n      <td>0.00005</td>\n      <td>0.00000</td>\n    </tr>\n    <tr>\n      <th>ETH</th>\n      <td>100.00000</td>\n      <td>0.20000</td>\n      <td>ETH/USDT</td>\n      <td>1635.48000</td>\n      <td>163548.00000</td>\n      <td>1635.48000</td>\n      <td>0.26748</td>\n      <td>122289.41644</td>\n    </tr>\n    <tr>\n      <th>LTC</th>\n      <td>500.00000</td>\n      <td>0.30000</td>\n      <td>LTC/USDT</td>\n      <td>95.26000</td>\n      <td>47630.00000</td>\n      <td>95.26000</td>\n      <td>0.07790</td>\n      <td>183434.12466</td>\n    </tr>\n    <tr>\n      <th>TRX</th>\n      <td>500000.00000</td>\n      <td>0.00000</td>\n      <td>TRX/USDT</td>\n      <td>0.06322</td>\n      <td>31610.00000</td>\n      <td>0.06322</td>\n      <td>0.05170</td>\n      <td>0.00000</td>\n    </tr>\n    <tr>\n      <th>USDT</th>\n      <td>10000.41366</td>\n      <td>0.20000</td>\n      <td>NaN</td>\n      <td>1.00000</td>\n      <td>10000.41366</td>\n      <td>NaN</td>\n      <td>0.01636</td>\n      <td>122289.41644</td>\n    </tr>\n    <tr>\n      <th>XRP</th>\n      <td>50000.00000</td>\n      <td>0.00000</td>\n      <td>XRP/USDT</td>\n      <td>0.41020</td>\n      <td>20510.00000</td>\n      <td>0.41020</td>\n      <td>0.03354</td>\n      <td>0.00000</td>\n    </tr>\n  </tbody>\n</table>\n</div>"
     },
     "execution_count": 59,
     "metadata": {},
     "output_type": "execute_result"
    }
   ],
   "source": [
    "df['target_usdt'] = df.t_weights.mul(pt.balance)\n",
    "df"
   ],
   "metadata": {
    "collapsed": false,
    "pycharm": {
     "name": "#%%\n"
    }
   }
  },
  {
   "cell_type": "code",
   "execution_count": 60,
   "outputs": [
    {
     "data": {
      "text/plain": "              free  t_weights    ticker  usdt_price         usdt  \\\nasset                                                              \nBNB     1000.00000    0.20000  BNB/USDT   314.50000 314500.00000   \nBTC        1.00018    0.10000  BTC/USDT 23612.76000  23616.89223   \nBUSD   10000.00000    0.00000  BNB/BUSD     0.00318     31.77629   \nETH      100.00000    0.20000  ETH/USDT  1635.48000 163548.00000   \nLTC      500.00000    0.30000  LTC/USDT    95.26000  47630.00000   \nTRX   500000.00000    0.00000  TRX/USDT     0.06322  31610.00000   \nUSDT   10000.41366    0.20000       NaN     1.00000  10000.41366   \nXRP    50000.00000    0.00000  XRP/USDT     0.41020  20510.00000   \n\n       ticker_price  init_weights  target_usdt  rebalance_usdt  \nasset                                                           \nBNB       314.50000       0.51435 122289.41644   -192210.58356  \nBTC     23612.76000       0.03862  61144.70822     37527.81599  \nBUSD        0.00318       0.00005      0.00000       -31.77629  \nETH      1635.48000       0.26748 122289.41644    -41258.58356  \nLTC        95.26000       0.07790 183434.12466    135804.12466  \nTRX         0.06322       0.05170      0.00000    -31610.00000  \nUSDT            NaN       0.01636 122289.41644    112289.00278  \nXRP         0.41020       0.03354      0.00000    -20510.00000  ",
      "text/html": "<div>\n<style scoped>\n    .dataframe tbody tr th:only-of-type {\n        vertical-align: middle;\n    }\n\n    .dataframe tbody tr th {\n        vertical-align: top;\n    }\n\n    .dataframe thead th {\n        text-align: right;\n    }\n</style>\n<table border=\"1\" class=\"dataframe\">\n  <thead>\n    <tr style=\"text-align: right;\">\n      <th></th>\n      <th>free</th>\n      <th>t_weights</th>\n      <th>ticker</th>\n      <th>usdt_price</th>\n      <th>usdt</th>\n      <th>ticker_price</th>\n      <th>init_weights</th>\n      <th>target_usdt</th>\n      <th>rebalance_usdt</th>\n    </tr>\n    <tr>\n      <th>asset</th>\n      <th></th>\n      <th></th>\n      <th></th>\n      <th></th>\n      <th></th>\n      <th></th>\n      <th></th>\n      <th></th>\n      <th></th>\n    </tr>\n  </thead>\n  <tbody>\n    <tr>\n      <th>BNB</th>\n      <td>1000.00000</td>\n      <td>0.20000</td>\n      <td>BNB/USDT</td>\n      <td>314.50000</td>\n      <td>314500.00000</td>\n      <td>314.50000</td>\n      <td>0.51435</td>\n      <td>122289.41644</td>\n      <td>-192210.58356</td>\n    </tr>\n    <tr>\n      <th>BTC</th>\n      <td>1.00018</td>\n      <td>0.10000</td>\n      <td>BTC/USDT</td>\n      <td>23612.76000</td>\n      <td>23616.89223</td>\n      <td>23612.76000</td>\n      <td>0.03862</td>\n      <td>61144.70822</td>\n      <td>37527.81599</td>\n    </tr>\n    <tr>\n      <th>BUSD</th>\n      <td>10000.00000</td>\n      <td>0.00000</td>\n      <td>BNB/BUSD</td>\n      <td>0.00318</td>\n      <td>31.77629</td>\n      <td>0.00318</td>\n      <td>0.00005</td>\n      <td>0.00000</td>\n      <td>-31.77629</td>\n    </tr>\n    <tr>\n      <th>ETH</th>\n      <td>100.00000</td>\n      <td>0.20000</td>\n      <td>ETH/USDT</td>\n      <td>1635.48000</td>\n      <td>163548.00000</td>\n      <td>1635.48000</td>\n      <td>0.26748</td>\n      <td>122289.41644</td>\n      <td>-41258.58356</td>\n    </tr>\n    <tr>\n      <th>LTC</th>\n      <td>500.00000</td>\n      <td>0.30000</td>\n      <td>LTC/USDT</td>\n      <td>95.26000</td>\n      <td>47630.00000</td>\n      <td>95.26000</td>\n      <td>0.07790</td>\n      <td>183434.12466</td>\n      <td>135804.12466</td>\n    </tr>\n    <tr>\n      <th>TRX</th>\n      <td>500000.00000</td>\n      <td>0.00000</td>\n      <td>TRX/USDT</td>\n      <td>0.06322</td>\n      <td>31610.00000</td>\n      <td>0.06322</td>\n      <td>0.05170</td>\n      <td>0.00000</td>\n      <td>-31610.00000</td>\n    </tr>\n    <tr>\n      <th>USDT</th>\n      <td>10000.41366</td>\n      <td>0.20000</td>\n      <td>NaN</td>\n      <td>1.00000</td>\n      <td>10000.41366</td>\n      <td>NaN</td>\n      <td>0.01636</td>\n      <td>122289.41644</td>\n      <td>112289.00278</td>\n    </tr>\n    <tr>\n      <th>XRP</th>\n      <td>50000.00000</td>\n      <td>0.00000</td>\n      <td>XRP/USDT</td>\n      <td>0.41020</td>\n      <td>20510.00000</td>\n      <td>0.41020</td>\n      <td>0.03354</td>\n      <td>0.00000</td>\n      <td>-20510.00000</td>\n    </tr>\n  </tbody>\n</table>\n</div>"
     },
     "execution_count": 60,
     "metadata": {},
     "output_type": "execute_result"
    }
   ],
   "source": [
    "df['rebalance_usdt'] = df.target_usdt.sub(df.usdt)\n",
    "df"
   ],
   "metadata": {
    "collapsed": false,
    "pycharm": {
     "name": "#%%\n"
    }
   }
  },
  {
   "cell_type": "code",
   "execution_count": 61,
   "outputs": [
    {
     "data": {
      "text/plain": "              free  t_weights    ticker  usdt_price         usdt  \\\nasset                                                              \nBNB     1000.00000    0.20000  BNB/USDT   314.50000 314500.00000   \nETH      100.00000    0.20000  ETH/USDT  1635.48000 163548.00000   \nTRX   500000.00000    0.00000  TRX/USDT     0.06322  31610.00000   \nXRP    50000.00000    0.00000  XRP/USDT     0.41020  20510.00000   \nBUSD   10000.00000    0.00000  BNB/BUSD     0.00318     31.77629   \nBTC        1.00018    0.10000  BTC/USDT 23612.76000  23616.89223   \nUSDT   10000.41366    0.20000       NaN     1.00000  10000.41366   \nLTC      500.00000    0.30000  LTC/USDT    95.26000  47630.00000   \n\n       ticker_price  init_weights  target_usdt  rebalance_usdt  \nasset                                                           \nBNB       314.50000       0.51435 122289.41644   -192210.58356  \nETH      1635.48000       0.26748 122289.41644    -41258.58356  \nTRX         0.06322       0.05170      0.00000    -31610.00000  \nXRP         0.41020       0.03354      0.00000    -20510.00000  \nBUSD        0.00318       0.00005      0.00000       -31.77629  \nBTC     23612.76000       0.03862  61144.70822     37527.81599  \nUSDT            NaN       0.01636 122289.41644    112289.00278  \nLTC        95.26000       0.07790 183434.12466    135804.12466  ",
      "text/html": "<div>\n<style scoped>\n    .dataframe tbody tr th:only-of-type {\n        vertical-align: middle;\n    }\n\n    .dataframe tbody tr th {\n        vertical-align: top;\n    }\n\n    .dataframe thead th {\n        text-align: right;\n    }\n</style>\n<table border=\"1\" class=\"dataframe\">\n  <thead>\n    <tr style=\"text-align: right;\">\n      <th></th>\n      <th>free</th>\n      <th>t_weights</th>\n      <th>ticker</th>\n      <th>usdt_price</th>\n      <th>usdt</th>\n      <th>ticker_price</th>\n      <th>init_weights</th>\n      <th>target_usdt</th>\n      <th>rebalance_usdt</th>\n    </tr>\n    <tr>\n      <th>asset</th>\n      <th></th>\n      <th></th>\n      <th></th>\n      <th></th>\n      <th></th>\n      <th></th>\n      <th></th>\n      <th></th>\n      <th></th>\n    </tr>\n  </thead>\n  <tbody>\n    <tr>\n      <th>BNB</th>\n      <td>1000.00000</td>\n      <td>0.20000</td>\n      <td>BNB/USDT</td>\n      <td>314.50000</td>\n      <td>314500.00000</td>\n      <td>314.50000</td>\n      <td>0.51435</td>\n      <td>122289.41644</td>\n      <td>-192210.58356</td>\n    </tr>\n    <tr>\n      <th>ETH</th>\n      <td>100.00000</td>\n      <td>0.20000</td>\n      <td>ETH/USDT</td>\n      <td>1635.48000</td>\n      <td>163548.00000</td>\n      <td>1635.48000</td>\n      <td>0.26748</td>\n      <td>122289.41644</td>\n      <td>-41258.58356</td>\n    </tr>\n    <tr>\n      <th>TRX</th>\n      <td>500000.00000</td>\n      <td>0.00000</td>\n      <td>TRX/USDT</td>\n      <td>0.06322</td>\n      <td>31610.00000</td>\n      <td>0.06322</td>\n      <td>0.05170</td>\n      <td>0.00000</td>\n      <td>-31610.00000</td>\n    </tr>\n    <tr>\n      <th>XRP</th>\n      <td>50000.00000</td>\n      <td>0.00000</td>\n      <td>XRP/USDT</td>\n      <td>0.41020</td>\n      <td>20510.00000</td>\n      <td>0.41020</td>\n      <td>0.03354</td>\n      <td>0.00000</td>\n      <td>-20510.00000</td>\n    </tr>\n    <tr>\n      <th>BUSD</th>\n      <td>10000.00000</td>\n      <td>0.00000</td>\n      <td>BNB/BUSD</td>\n      <td>0.00318</td>\n      <td>31.77629</td>\n      <td>0.00318</td>\n      <td>0.00005</td>\n      <td>0.00000</td>\n      <td>-31.77629</td>\n    </tr>\n    <tr>\n      <th>BTC</th>\n      <td>1.00018</td>\n      <td>0.10000</td>\n      <td>BTC/USDT</td>\n      <td>23612.76000</td>\n      <td>23616.89223</td>\n      <td>23612.76000</td>\n      <td>0.03862</td>\n      <td>61144.70822</td>\n      <td>37527.81599</td>\n    </tr>\n    <tr>\n      <th>USDT</th>\n      <td>10000.41366</td>\n      <td>0.20000</td>\n      <td>NaN</td>\n      <td>1.00000</td>\n      <td>10000.41366</td>\n      <td>NaN</td>\n      <td>0.01636</td>\n      <td>122289.41644</td>\n      <td>112289.00278</td>\n    </tr>\n    <tr>\n      <th>LTC</th>\n      <td>500.00000</td>\n      <td>0.30000</td>\n      <td>LTC/USDT</td>\n      <td>95.26000</td>\n      <td>47630.00000</td>\n      <td>95.26000</td>\n      <td>0.07790</td>\n      <td>183434.12466</td>\n      <td>135804.12466</td>\n    </tr>\n  </tbody>\n</table>\n</div>"
     },
     "execution_count": 61,
     "metadata": {},
     "output_type": "execute_result"
    }
   ],
   "source": [
    "df.sort_values(by='rebalance_usdt', ascending=True, inplace=True)\n",
    "df"
   ],
   "metadata": {
    "collapsed": false,
    "pycharm": {
     "name": "#%%\n"
    }
   }
  },
  {
   "cell_type": "code",
   "execution_count": 62,
   "outputs": [
    {
     "data": {
      "text/plain": "              free  t_weights    ticker  usdt_price         usdt  \\\nasset                                                              \nBNB     1000.00000    0.20000  BNB/USDT   314.50000 314500.00000   \nETH      100.00000    0.20000  ETH/USDT  1635.48000 163548.00000   \nTRX   500000.00000    0.00000  TRX/USDT     0.06322  31610.00000   \nXRP    50000.00000    0.00000  XRP/USDT     0.41020  20510.00000   \nBUSD   10000.00000    0.00000  BNB/BUSD     0.00318     31.77629   \nBTC        1.00018    0.10000  BTC/USDT 23612.76000  23616.89223   \nUSDT   10000.41366    0.20000       NaN     1.00000  10000.41366   \nLTC      500.00000    0.30000  LTC/USDT    95.26000  47630.00000   \n\n       ticker_price  init_weights  target_usdt  rebalance_usdt  \\\nasset                                                            \nBNB       314.50000       0.51435 122289.41644   -192210.58356   \nETH      1635.48000       0.26748 122289.41644    -41258.58356   \nTRX         0.06322       0.05170      0.00000    -31610.00000   \nXRP         0.41020       0.03354      0.00000    -20510.00000   \nBUSD        0.00318       0.00005      0.00000       -31.77629   \nBTC     23612.76000       0.03862  61144.70822     37527.81599   \nUSDT            NaN       0.01636 122289.41644    112289.00278   \nLTC        95.26000       0.07790 183434.12466    135804.12466   \n\n       rebalance_units  traded_units  \nasset                                 \nBNB         -611.16243             0  \nETH          -25.22720             0  \nTRX      -500000.00000             0  \nXRP       -50000.00000             0  \nBUSD      -10000.00000             0  \nBTC            1.58930             0  \nUSDT      112289.00278             0  \nLTC         1425.61542             0  ",
      "text/html": "<div>\n<style scoped>\n    .dataframe tbody tr th:only-of-type {\n        vertical-align: middle;\n    }\n\n    .dataframe tbody tr th {\n        vertical-align: top;\n    }\n\n    .dataframe thead th {\n        text-align: right;\n    }\n</style>\n<table border=\"1\" class=\"dataframe\">\n  <thead>\n    <tr style=\"text-align: right;\">\n      <th></th>\n      <th>free</th>\n      <th>t_weights</th>\n      <th>ticker</th>\n      <th>usdt_price</th>\n      <th>usdt</th>\n      <th>ticker_price</th>\n      <th>init_weights</th>\n      <th>target_usdt</th>\n      <th>rebalance_usdt</th>\n      <th>rebalance_units</th>\n      <th>traded_units</th>\n    </tr>\n    <tr>\n      <th>asset</th>\n      <th></th>\n      <th></th>\n      <th></th>\n      <th></th>\n      <th></th>\n      <th></th>\n      <th></th>\n      <th></th>\n      <th></th>\n      <th></th>\n      <th></th>\n    </tr>\n  </thead>\n  <tbody>\n    <tr>\n      <th>BNB</th>\n      <td>1000.00000</td>\n      <td>0.20000</td>\n      <td>BNB/USDT</td>\n      <td>314.50000</td>\n      <td>314500.00000</td>\n      <td>314.50000</td>\n      <td>0.51435</td>\n      <td>122289.41644</td>\n      <td>-192210.58356</td>\n      <td>-611.16243</td>\n      <td>0</td>\n    </tr>\n    <tr>\n      <th>ETH</th>\n      <td>100.00000</td>\n      <td>0.20000</td>\n      <td>ETH/USDT</td>\n      <td>1635.48000</td>\n      <td>163548.00000</td>\n      <td>1635.48000</td>\n      <td>0.26748</td>\n      <td>122289.41644</td>\n      <td>-41258.58356</td>\n      <td>-25.22720</td>\n      <td>0</td>\n    </tr>\n    <tr>\n      <th>TRX</th>\n      <td>500000.00000</td>\n      <td>0.00000</td>\n      <td>TRX/USDT</td>\n      <td>0.06322</td>\n      <td>31610.00000</td>\n      <td>0.06322</td>\n      <td>0.05170</td>\n      <td>0.00000</td>\n      <td>-31610.00000</td>\n      <td>-500000.00000</td>\n      <td>0</td>\n    </tr>\n    <tr>\n      <th>XRP</th>\n      <td>50000.00000</td>\n      <td>0.00000</td>\n      <td>XRP/USDT</td>\n      <td>0.41020</td>\n      <td>20510.00000</td>\n      <td>0.41020</td>\n      <td>0.03354</td>\n      <td>0.00000</td>\n      <td>-20510.00000</td>\n      <td>-50000.00000</td>\n      <td>0</td>\n    </tr>\n    <tr>\n      <th>BUSD</th>\n      <td>10000.00000</td>\n      <td>0.00000</td>\n      <td>BNB/BUSD</td>\n      <td>0.00318</td>\n      <td>31.77629</td>\n      <td>0.00318</td>\n      <td>0.00005</td>\n      <td>0.00000</td>\n      <td>-31.77629</td>\n      <td>-10000.00000</td>\n      <td>0</td>\n    </tr>\n    <tr>\n      <th>BTC</th>\n      <td>1.00018</td>\n      <td>0.10000</td>\n      <td>BTC/USDT</td>\n      <td>23612.76000</td>\n      <td>23616.89223</td>\n      <td>23612.76000</td>\n      <td>0.03862</td>\n      <td>61144.70822</td>\n      <td>37527.81599</td>\n      <td>1.58930</td>\n      <td>0</td>\n    </tr>\n    <tr>\n      <th>USDT</th>\n      <td>10000.41366</td>\n      <td>0.20000</td>\n      <td>NaN</td>\n      <td>1.00000</td>\n      <td>10000.41366</td>\n      <td>NaN</td>\n      <td>0.01636</td>\n      <td>122289.41644</td>\n      <td>112289.00278</td>\n      <td>112289.00278</td>\n      <td>0</td>\n    </tr>\n    <tr>\n      <th>LTC</th>\n      <td>500.00000</td>\n      <td>0.30000</td>\n      <td>LTC/USDT</td>\n      <td>95.26000</td>\n      <td>47630.00000</td>\n      <td>95.26000</td>\n      <td>0.07790</td>\n      <td>183434.12466</td>\n      <td>135804.12466</td>\n      <td>1425.61542</td>\n      <td>0</td>\n    </tr>\n  </tbody>\n</table>\n</div>"
     },
     "execution_count": 62,
     "metadata": {},
     "output_type": "execute_result"
    }
   ],
   "source": [
    "df['rebalance_units'] = df.rebalance_usdt.div(df.usdt_price)\n",
    "df['traded_units'] = 0\n",
    "df"
   ],
   "metadata": {
    "collapsed": false,
    "pycharm": {
     "name": "#%%\n"
    }
   }
  },
  {
   "cell_type": "code",
   "execution_count": 65,
   "outputs": [
    {
     "data": {
      "text/plain": "              free  init_weights  t_weights  usdt_price         usdt  \\\nasset                                                                  \nBNB     1000.00000       0.51435    0.20000   314.50000 314500.00000   \nETH      100.00000       0.26748    0.20000  1635.48000 163548.00000   \nTRX   500000.00000       0.05170    0.00000     0.06322  31610.00000   \nXRP    50000.00000       0.03354    0.00000     0.41020  20510.00000   \nBUSD   10000.00000       0.00005    0.00000     0.00318     31.77629   \nBTC        1.00018       0.03862    0.10000 23612.76000  23616.89223   \nUSDT   10000.41366       0.01636    0.20000     1.00000  10000.41366   \nLTC      500.00000       0.07790    0.30000    95.26000  47630.00000   \n\n       target_usdt  rebalance_usdt  rebalance_units  traded_units    ticker  \\\nasset                                                                         \nBNB   122289.41644   -192210.58356       -611.16243             0  BNB/USDT   \nETH   122289.41644    -41258.58356        -25.22720             0  ETH/USDT   \nTRX        0.00000    -31610.00000    -500000.00000             0  TRX/USDT   \nXRP        0.00000    -20510.00000     -50000.00000             0  XRP/USDT   \nBUSD       0.00000       -31.77629     -10000.00000             0  BNB/BUSD   \nBTC    61144.70822     37527.81599          1.58930             0  BTC/USDT   \nUSDT  122289.41644    112289.00278     112289.00278             0       NaN   \nLTC   183434.12466    135804.12466       1425.61542             0  LTC/USDT   \n\n       ticker_price  \nasset                \nBNB       314.50000  \nETH      1635.48000  \nTRX         0.06322  \nXRP         0.41020  \nBUSD        0.00318  \nBTC     23612.76000  \nUSDT            NaN  \nLTC        95.26000  ",
      "text/html": "<div>\n<style scoped>\n    .dataframe tbody tr th:only-of-type {\n        vertical-align: middle;\n    }\n\n    .dataframe tbody tr th {\n        vertical-align: top;\n    }\n\n    .dataframe thead th {\n        text-align: right;\n    }\n</style>\n<table border=\"1\" class=\"dataframe\">\n  <thead>\n    <tr style=\"text-align: right;\">\n      <th></th>\n      <th>free</th>\n      <th>init_weights</th>\n      <th>t_weights</th>\n      <th>usdt_price</th>\n      <th>usdt</th>\n      <th>target_usdt</th>\n      <th>rebalance_usdt</th>\n      <th>rebalance_units</th>\n      <th>traded_units</th>\n      <th>ticker</th>\n      <th>ticker_price</th>\n    </tr>\n    <tr>\n      <th>asset</th>\n      <th></th>\n      <th></th>\n      <th></th>\n      <th></th>\n      <th></th>\n      <th></th>\n      <th></th>\n      <th></th>\n      <th></th>\n      <th></th>\n      <th></th>\n    </tr>\n  </thead>\n  <tbody>\n    <tr>\n      <th>BNB</th>\n      <td>1000.00000</td>\n      <td>0.51435</td>\n      <td>0.20000</td>\n      <td>314.50000</td>\n      <td>314500.00000</td>\n      <td>122289.41644</td>\n      <td>-192210.58356</td>\n      <td>-611.16243</td>\n      <td>0</td>\n      <td>BNB/USDT</td>\n      <td>314.50000</td>\n    </tr>\n    <tr>\n      <th>ETH</th>\n      <td>100.00000</td>\n      <td>0.26748</td>\n      <td>0.20000</td>\n      <td>1635.48000</td>\n      <td>163548.00000</td>\n      <td>122289.41644</td>\n      <td>-41258.58356</td>\n      <td>-25.22720</td>\n      <td>0</td>\n      <td>ETH/USDT</td>\n      <td>1635.48000</td>\n    </tr>\n    <tr>\n      <th>TRX</th>\n      <td>500000.00000</td>\n      <td>0.05170</td>\n      <td>0.00000</td>\n      <td>0.06322</td>\n      <td>31610.00000</td>\n      <td>0.00000</td>\n      <td>-31610.00000</td>\n      <td>-500000.00000</td>\n      <td>0</td>\n      <td>TRX/USDT</td>\n      <td>0.06322</td>\n    </tr>\n    <tr>\n      <th>XRP</th>\n      <td>50000.00000</td>\n      <td>0.03354</td>\n      <td>0.00000</td>\n      <td>0.41020</td>\n      <td>20510.00000</td>\n      <td>0.00000</td>\n      <td>-20510.00000</td>\n      <td>-50000.00000</td>\n      <td>0</td>\n      <td>XRP/USDT</td>\n      <td>0.41020</td>\n    </tr>\n    <tr>\n      <th>BUSD</th>\n      <td>10000.00000</td>\n      <td>0.00005</td>\n      <td>0.00000</td>\n      <td>0.00318</td>\n      <td>31.77629</td>\n      <td>0.00000</td>\n      <td>-31.77629</td>\n      <td>-10000.00000</td>\n      <td>0</td>\n      <td>BNB/BUSD</td>\n      <td>0.00318</td>\n    </tr>\n    <tr>\n      <th>BTC</th>\n      <td>1.00018</td>\n      <td>0.03862</td>\n      <td>0.10000</td>\n      <td>23612.76000</td>\n      <td>23616.89223</td>\n      <td>61144.70822</td>\n      <td>37527.81599</td>\n      <td>1.58930</td>\n      <td>0</td>\n      <td>BTC/USDT</td>\n      <td>23612.76000</td>\n    </tr>\n    <tr>\n      <th>USDT</th>\n      <td>10000.41366</td>\n      <td>0.01636</td>\n      <td>0.20000</td>\n      <td>1.00000</td>\n      <td>10000.41366</td>\n      <td>122289.41644</td>\n      <td>112289.00278</td>\n      <td>112289.00278</td>\n      <td>0</td>\n      <td>NaN</td>\n      <td>NaN</td>\n    </tr>\n    <tr>\n      <th>LTC</th>\n      <td>500.00000</td>\n      <td>0.07790</td>\n      <td>0.30000</td>\n      <td>95.26000</td>\n      <td>47630.00000</td>\n      <td>183434.12466</td>\n      <td>135804.12466</td>\n      <td>1425.61542</td>\n      <td>0</td>\n      <td>LTC/USDT</td>\n      <td>95.26000</td>\n    </tr>\n  </tbody>\n</table>\n</div>"
     },
     "execution_count": 65,
     "metadata": {},
     "output_type": "execute_result"
    }
   ],
   "source": [
    "df = df[['free','init_weights','t_weights','usdt_price','usdt','target_usdt','rebalance_usdt','rebalance_units','traded_units','ticker','ticker_price']].copy()\n",
    "df"
   ],
   "metadata": {
    "collapsed": false,
    "pycharm": {
     "name": "#%%\n"
    }
   }
  },
  {
   "cell_type": "code",
   "execution_count": 67,
   "outputs": [],
   "source": [
    "class PortfolioTrader():\n",
    "    def __init__(self, exchange):\n",
    "        self.exchange = exchange\n",
    "\n",
    "    def __repr__(self):\n",
    "        return 'PortfolioTrader(exchange={})'.format(self.exchange)\n",
    "\n",
    "    def load_target_weights(self, filepath, weights_tolerance):\n",
    "        self.filepath = filepath\n",
    "        self.target_weights = pd.read_csv(filepath, usecols=[0,1])\n",
    "        self.target_weights.columns = ['asset', 't_weights']\n",
    "        self.target_weights.set_index('asset', inplace=True)\n",
    "        if abs(self.target_weights.t_weights.sum() - 1 > weights_tolerance):\n",
    "            print('Weights don\\'t sum up to 1.')\n",
    "\n",
    "    def load_raw_balances(self):\n",
    "        self.raw_balances = self.exchange.fetch_balance()['info']['balances']\n",
    "        df = pd.DataFrame(self.raw_balances)\n",
    "        df = df[['asset','free']].copy()\n",
    "        df.free = pd.to_numeric(df.free)\n",
    "        df.set_index('asset', inplace=True)\n",
    "        df = pd.merge(left=df, right=self.target_weights, how='outer', on='asset')\n",
    "        df.fillna(0, inplace=True)\n",
    "        df['ticker'] = np.nan\n",
    "        df['usdt_price'] = np.nan\n",
    "        df['usdt'] = np.nan\n",
    "        df.loc[(df.free != 0) | (df.t_weights !=0)]\n",
    "        self.rebalance_table = df.copy()\n",
    "\n",
    "    def convert_raw_balances(self):\n",
    "        for symbol in self.rebalance_table.index:\n",
    "            balance = self.rebalance_table.loc[symbol, 'free']\n",
    "            if symbol == 'USDT':\n",
    "                self.rebalance_table.loc[symbol, 'usdt_price'] = 1\n",
    "            else:\n",
    "                try:\n",
    "                    target = 'USDT'\n",
    "                    self._fetch_and_convert(symbol=symbol, target=target, orig_symbol=symbol, step='first')\n",
    "                except Exception as e:\n",
    "                    try:\n",
    "                        target = 'BTC'\n",
    "                        self._fetch_and_convert(symbol=symbol, target=target, orig_symbol=symbol, step='first')\n",
    "                        self._fetch_and_convert(symbol=symbol, target='USDT', orig_symbol=symbol, step='second')\n",
    "                    except:\n",
    "                        try:\n",
    "                            target = 'ETH'\n",
    "                            self._fetch_and_convert(symbol=symbol, target=target, orig_symbol=symbol, step='first')\n",
    "                            self._fetch_and_convert(symbol=symbol, target='USDT', orig_symbol=symbol, step='second')\n",
    "                        except:\n",
    "                            try:\n",
    "                                target = 'BNB'\n",
    "                                self._fetch_and_convert(symbol=symbol, target=target, orig_symbol=symbol, step='first')\n",
    "                                self._fetch_and_convert(symbol=symbol, target='USDT', orig_symbol=symbol, step='second')\n",
    "                            except:\n",
    "                                try:\n",
    "                                    target = 'BUSD'\n",
    "                                    self._fetch_and_convert(symbol=symbol, target=target, orig_symbol=symbol, step='first')\n",
    "                                    self._fetch_and_convert(symbol=symbol, target='USDT', orig_symbol=symbol, step='second')\n",
    "                                except:\n",
    "                                    print('{} can not be converted!'.format(symbol))\n",
    "        self.rebalance_table['usdt'] = self.rebalance_table.free.mul(self.rebalance_table.usdt_price)\n",
    "        self.balance = self.rebalance_table['usdt'].sum()\n",
    "\n",
    "    def _fetch_and_convert(self, symbol, target, orig_symbol, step):\n",
    "        try:\n",
    "            ticker = symbol + '/' + target # symbol is base currency\n",
    "            price = float(self.exchange.fetchTicker(ticker)['last'])\n",
    "        except:\n",
    "            ticker = target + '/' + symbol # symbol is quote currency\n",
    "            price = 1/float(self.exchange.fetchTicker(ticker)['last'])\n",
    "\n",
    "        if step == 'first':\n",
    "            self.rebalance_table.loc[symbol, 'ticker'] = ticker\n",
    "            self.rebalance_table.loc[symbol, 'ticker_price'] = price\n",
    "            self.rebalance_table.loc[symbol, 'usdt_price'] = price\n",
    "        elif step == 'second':\n",
    "            self.rebalance_table.loc[orig_symbol, 'usdt_price'] *= price\n",
    "\n",
    "    def calc_rebalance(self):\n",
    "        df = self.rebalance_table.copy()\n",
    "\n",
    "        df['init_weights'] = df.usdt.div(self.balance)\n",
    "        df['target_usdt'] = df.t_weights.mul(self.balance)\n",
    "        df['rebalance_usdt'] = df.target_usdt.sub(df.usdt)\n",
    "        df.sort_values(by='rebalance_usdt', ascending=True, inplace=True)\n",
    "        df['rebalance_units'] = df.rebalance_usdt.div(df.usdt_price)\n",
    "        df['traded_units'] = 0\n",
    "        df = df[['free','init_weights','t_weights','usdt_price','usdt','target_usdt','rebalance_usdt','rebalance_units','traded_units','ticker','ticker_price']].copy()\n",
    "\n",
    "        self.rebalance_table = df.copy()"
   ],
   "metadata": {
    "collapsed": false,
    "pycharm": {
     "name": "#%%\n"
    }
   }
  },
  {
   "cell_type": "code",
   "execution_count": 68,
   "outputs": [
    {
     "data": {
      "text/plain": "PortfolioTrader(exchange=Binance)"
     },
     "execution_count": 68,
     "metadata": {},
     "output_type": "execute_result"
    }
   ],
   "source": [
    "pt = PortfolioTrader(exchange=exchange)\n",
    "pt"
   ],
   "metadata": {
    "collapsed": false,
    "pycharm": {
     "name": "#%%\n"
    }
   }
  },
  {
   "cell_type": "code",
   "execution_count": 69,
   "outputs": [],
   "source": [
    "pt.load_target_weights(filepath=portfolio_path, weights_tolerance=0.01)"
   ],
   "metadata": {
    "collapsed": false,
    "pycharm": {
     "name": "#%%\n"
    }
   }
  },
  {
   "cell_type": "code",
   "execution_count": 71,
   "outputs": [],
   "source": [
    "pt.load_raw_balances()"
   ],
   "metadata": {
    "collapsed": false,
    "pycharm": {
     "name": "#%%\n"
    }
   }
  },
  {
   "cell_type": "code",
   "execution_count": 72,
   "outputs": [
    {
     "ename": "AttributeError",
     "evalue": "'PortfolioTrader' object has no attribute 'balance'",
     "output_type": "error",
     "traceback": [
      "\u001B[1;31m---------------------------------------------------------------------------\u001B[0m",
      "\u001B[1;31mAttributeError\u001B[0m                            Traceback (most recent call last)",
      "Input \u001B[1;32mIn [72]\u001B[0m, in \u001B[0;36m<cell line: 1>\u001B[1;34m()\u001B[0m\n\u001B[1;32m----> 1\u001B[0m \u001B[43mpt\u001B[49m\u001B[38;5;241;43m.\u001B[39;49m\u001B[43mcalc_rebalance\u001B[49m\u001B[43m(\u001B[49m\u001B[43m)\u001B[49m\n",
      "Input \u001B[1;32mIn [67]\u001B[0m, in \u001B[0;36mPortfolioTrader.calc_rebalance\u001B[1;34m(self)\u001B[0m\n\u001B[0;32m     79\u001B[0m \u001B[38;5;28;01mdef\u001B[39;00m \u001B[38;5;21mcalc_rebalance\u001B[39m(\u001B[38;5;28mself\u001B[39m):\n\u001B[0;32m     80\u001B[0m     df \u001B[38;5;241m=\u001B[39m \u001B[38;5;28mself\u001B[39m\u001B[38;5;241m.\u001B[39mrebalance_table\u001B[38;5;241m.\u001B[39mcopy()\n\u001B[1;32m---> 82\u001B[0m     df[\u001B[38;5;124m'\u001B[39m\u001B[38;5;124minit_weights\u001B[39m\u001B[38;5;124m'\u001B[39m] \u001B[38;5;241m=\u001B[39m df\u001B[38;5;241m.\u001B[39musdt\u001B[38;5;241m.\u001B[39mdiv(\u001B[38;5;28;43mself\u001B[39;49m\u001B[38;5;241;43m.\u001B[39;49m\u001B[43mbalance\u001B[49m)\n\u001B[0;32m     83\u001B[0m     df[\u001B[38;5;124m'\u001B[39m\u001B[38;5;124mtarget_usdt\u001B[39m\u001B[38;5;124m'\u001B[39m] \u001B[38;5;241m=\u001B[39m df\u001B[38;5;241m.\u001B[39mt_weights\u001B[38;5;241m.\u001B[39mmul(\u001B[38;5;28mself\u001B[39m\u001B[38;5;241m.\u001B[39mbalance)\n\u001B[0;32m     84\u001B[0m     df[\u001B[38;5;124m'\u001B[39m\u001B[38;5;124mrebalance_usdt\u001B[39m\u001B[38;5;124m'\u001B[39m] \u001B[38;5;241m=\u001B[39m df\u001B[38;5;241m.\u001B[39mtarget_usdt\u001B[38;5;241m.\u001B[39msub(df\u001B[38;5;241m.\u001B[39musdt)\n",
      "\u001B[1;31mAttributeError\u001B[0m: 'PortfolioTrader' object has no attribute 'balance'"
     ]
    }
   ],
   "source": [
    "pt.calc_rebalance()"
   ],
   "metadata": {
    "collapsed": false,
    "pycharm": {
     "name": "#%%\n"
    }
   }
  },
  {
   "cell_type": "code",
   "execution_count": 73,
   "outputs": [
    {
     "name": "stdout",
     "output_type": "stream",
     "text": [
      "BUSD can not be converted!\n"
     ]
    }
   ],
   "source": [
    "pt.convert_raw_balances()"
   ],
   "metadata": {
    "collapsed": false,
    "pycharm": {
     "name": "#%%\n"
    }
   }
  },
  {
   "cell_type": "code",
   "execution_count": 74,
   "outputs": [],
   "source": [
    "pt.calc_rebalance()"
   ],
   "metadata": {
    "collapsed": false,
    "pycharm": {
     "name": "#%%\n"
    }
   }
  },
  {
   "cell_type": "code",
   "execution_count": 75,
   "outputs": [
    {
     "data": {
      "text/plain": "              free  init_weights  t_weights  usdt_price         usdt  \\\nasset                                                                  \nBNB     1000.00000       0.51464    0.20000   315.00000 315000.00000   \nETH      100.00000       0.26735    0.20000  1636.39000 163639.00000   \nTRX   500000.00000       0.05166    0.00000     0.06324  31620.00000   \nXRP    50000.00000       0.03352    0.00000     0.41030  20515.00000   \nBUSD   10000.00000       0.00005    0.00000     0.00317     31.73596   \nBTC        1.00018       0.03863    0.10000 23641.78000  23645.91731   \nUSDT   10000.41366       0.01634    0.20000     1.00000  10000.41366   \nLTC      500.00000       0.07782    0.30000    95.26000  47630.00000   \n\n       target_usdt  rebalance_usdt  rebalance_units  traded_units    ticker  \\\nasset                                                                         \nBNB   122416.41339   -192583.58661       -611.37647             0  BNB/USDT   \nETH   122416.41339    -41222.58661        -25.19117             0  ETH/USDT   \nTRX        0.00000    -31620.00000    -500000.00000             0  TRX/USDT   \nXRP        0.00000    -20515.00000     -50000.00000             0  XRP/USDT   \nBUSD       0.00000       -31.73596     -10000.00000             0  BNB/BUSD   \nBTC    61208.20669     37562.28938          1.58881             0  BTC/USDT   \nUSDT  122416.41339    112415.99973     112415.99973             0       NaN   \nLTC   183624.62008    135994.62008       1427.61516             0  LTC/USDT   \n\n       ticker_price  \nasset                \nBNB       315.00000  \nETH      1636.39000  \nTRX         0.06324  \nXRP         0.41030  \nBUSD        0.00317  \nBTC     23641.78000  \nUSDT            NaN  \nLTC        95.26000  ",
      "text/html": "<div>\n<style scoped>\n    .dataframe tbody tr th:only-of-type {\n        vertical-align: middle;\n    }\n\n    .dataframe tbody tr th {\n        vertical-align: top;\n    }\n\n    .dataframe thead th {\n        text-align: right;\n    }\n</style>\n<table border=\"1\" class=\"dataframe\">\n  <thead>\n    <tr style=\"text-align: right;\">\n      <th></th>\n      <th>free</th>\n      <th>init_weights</th>\n      <th>t_weights</th>\n      <th>usdt_price</th>\n      <th>usdt</th>\n      <th>target_usdt</th>\n      <th>rebalance_usdt</th>\n      <th>rebalance_units</th>\n      <th>traded_units</th>\n      <th>ticker</th>\n      <th>ticker_price</th>\n    </tr>\n    <tr>\n      <th>asset</th>\n      <th></th>\n      <th></th>\n      <th></th>\n      <th></th>\n      <th></th>\n      <th></th>\n      <th></th>\n      <th></th>\n      <th></th>\n      <th></th>\n      <th></th>\n    </tr>\n  </thead>\n  <tbody>\n    <tr>\n      <th>BNB</th>\n      <td>1000.00000</td>\n      <td>0.51464</td>\n      <td>0.20000</td>\n      <td>315.00000</td>\n      <td>315000.00000</td>\n      <td>122416.41339</td>\n      <td>-192583.58661</td>\n      <td>-611.37647</td>\n      <td>0</td>\n      <td>BNB/USDT</td>\n      <td>315.00000</td>\n    </tr>\n    <tr>\n      <th>ETH</th>\n      <td>100.00000</td>\n      <td>0.26735</td>\n      <td>0.20000</td>\n      <td>1636.39000</td>\n      <td>163639.00000</td>\n      <td>122416.41339</td>\n      <td>-41222.58661</td>\n      <td>-25.19117</td>\n      <td>0</td>\n      <td>ETH/USDT</td>\n      <td>1636.39000</td>\n    </tr>\n    <tr>\n      <th>TRX</th>\n      <td>500000.00000</td>\n      <td>0.05166</td>\n      <td>0.00000</td>\n      <td>0.06324</td>\n      <td>31620.00000</td>\n      <td>0.00000</td>\n      <td>-31620.00000</td>\n      <td>-500000.00000</td>\n      <td>0</td>\n      <td>TRX/USDT</td>\n      <td>0.06324</td>\n    </tr>\n    <tr>\n      <th>XRP</th>\n      <td>50000.00000</td>\n      <td>0.03352</td>\n      <td>0.00000</td>\n      <td>0.41030</td>\n      <td>20515.00000</td>\n      <td>0.00000</td>\n      <td>-20515.00000</td>\n      <td>-50000.00000</td>\n      <td>0</td>\n      <td>XRP/USDT</td>\n      <td>0.41030</td>\n    </tr>\n    <tr>\n      <th>BUSD</th>\n      <td>10000.00000</td>\n      <td>0.00005</td>\n      <td>0.00000</td>\n      <td>0.00317</td>\n      <td>31.73596</td>\n      <td>0.00000</td>\n      <td>-31.73596</td>\n      <td>-10000.00000</td>\n      <td>0</td>\n      <td>BNB/BUSD</td>\n      <td>0.00317</td>\n    </tr>\n    <tr>\n      <th>BTC</th>\n      <td>1.00018</td>\n      <td>0.03863</td>\n      <td>0.10000</td>\n      <td>23641.78000</td>\n      <td>23645.91731</td>\n      <td>61208.20669</td>\n      <td>37562.28938</td>\n      <td>1.58881</td>\n      <td>0</td>\n      <td>BTC/USDT</td>\n      <td>23641.78000</td>\n    </tr>\n    <tr>\n      <th>USDT</th>\n      <td>10000.41366</td>\n      <td>0.01634</td>\n      <td>0.20000</td>\n      <td>1.00000</td>\n      <td>10000.41366</td>\n      <td>122416.41339</td>\n      <td>112415.99973</td>\n      <td>112415.99973</td>\n      <td>0</td>\n      <td>NaN</td>\n      <td>NaN</td>\n    </tr>\n    <tr>\n      <th>LTC</th>\n      <td>500.00000</td>\n      <td>0.07782</td>\n      <td>0.30000</td>\n      <td>95.26000</td>\n      <td>47630.00000</td>\n      <td>183624.62008</td>\n      <td>135994.62008</td>\n      <td>1427.61516</td>\n      <td>0</td>\n      <td>LTC/USDT</td>\n      <td>95.26000</td>\n    </tr>\n  </tbody>\n</table>\n</div>"
     },
     "execution_count": 75,
     "metadata": {},
     "output_type": "execute_result"
    }
   ],
   "source": [
    "pt.rebalance_table"
   ],
   "metadata": {
    "collapsed": false,
    "pycharm": {
     "name": "#%%\n"
    }
   }
  },
  {
   "cell_type": "code",
   "execution_count": null,
   "outputs": [],
   "source": [],
   "metadata": {
    "collapsed": false,
    "pycharm": {
     "name": "#%%\n"
    }
   }
  }
 ],
 "metadata": {
  "kernelspec": {
   "display_name": "Python 3",
   "language": "python",
   "name": "python3"
  },
  "language_info": {
   "codemirror_mode": {
    "name": "ipython",
    "version": 2
   },
   "file_extension": ".py",
   "mimetype": "text/x-python",
   "name": "python",
   "nbconvert_exporter": "python",
   "pygments_lexer": "ipython2",
   "version": "2.7.6"
  }
 },
 "nbformat": 4,
 "nbformat_minor": 0
}