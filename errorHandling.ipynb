{
 "cells": [
  {
   "cell_type": "markdown",
   "metadata": {
    "collapsed": true,
    "pycharm": {
     "name": "#%% md\n"
    }
   },
   "source": [
    "# Error Handling"
   ]
  },
  {
   "cell_type": "code",
   "execution_count": 1,
   "outputs": [],
   "source": [
    "my_list = [1,2,3,'Four',5,6,7]"
   ],
   "metadata": {
    "collapsed": false,
    "pycharm": {
     "name": "#%%\n"
    }
   }
  },
  {
   "cell_type": "code",
   "execution_count": 3,
   "outputs": [
    {
     "name": "stdout",
     "output_type": "stream",
     "text": [
      "11\n",
      "12\n",
      "13\n",
      "Four is not a number\n",
      "15\n",
      "16\n",
      "17\n"
     ]
    }
   ],
   "source": [
    "for e in my_list:\n",
    "    try:\n",
    "        result = 10 + e\n",
    "        print(result)\n",
    "    except:\n",
    "        print('{} is not a number'.format(e))"
   ],
   "metadata": {
    "collapsed": false,
    "pycharm": {
     "name": "#%%\n"
    }
   }
  },
  {
   "cell_type": "code",
   "execution_count": 4,
   "outputs": [
    {
     "name": "stdout",
     "output_type": "stream",
     "text": [
      "11\n",
      "12\n",
      "13\n",
      "15\n",
      "16\n",
      "17\n"
     ]
    }
   ],
   "source": [
    "for e in my_list:\n",
    "    try:\n",
    "        result = 10 + e\n",
    "        print(result)\n",
    "    except:\n",
    "        pass"
   ],
   "metadata": {
    "collapsed": false,
    "pycharm": {
     "name": "#%%\n"
    }
   }
  },
  {
   "cell_type": "code",
   "execution_count": 5,
   "outputs": [
    {
     "name": "stdout",
     "output_type": "stream",
     "text": [
      "11\n",
      "12\n",
      "13\n"
     ]
    }
   ],
   "source": [
    "for e in my_list:\n",
    "    try:\n",
    "        result = 10 + e\n",
    "        print(result)\n",
    "    except:\n",
    "        break"
   ],
   "metadata": {
    "collapsed": false,
    "pycharm": {
     "name": "#%%\n"
    }
   }
  },
  {
   "cell_type": "code",
   "execution_count": 6,
   "outputs": [
    {
     "name": "stdout",
     "output_type": "stream",
     "text": [
      "11\n",
      "12\n",
      "13\n",
      "Four is not a number\n",
      "15\n",
      "16\n",
      "17\n"
     ]
    }
   ],
   "source": [
    "for e in my_list:\n",
    "    try:\n",
    "        result = 10 + e\n",
    "        print(result)\n",
    "    except TypeError:\n",
    "        print('{} is not a number'.format(e))"
   ],
   "metadata": {
    "collapsed": false,
    "pycharm": {
     "name": "#%%\n"
    }
   }
  },
  {
   "cell_type": "code",
   "execution_count": 8,
   "outputs": [
    {
     "name": "stdout",
     "output_type": "stream",
     "text": [
      "11\n",
      "12\n",
      "13\n",
      "Four is not a number | unsupported operand type(s) for +: 'int' and 'str'\n",
      "15\n",
      "16\n",
      "17\n"
     ]
    }
   ],
   "source": [
    "for e in my_list:\n",
    "    try:\n",
    "        result = 10 + e\n",
    "        print(result)\n",
    "    except Exception as ex:\n",
    "        print('{} is not a number'.format(e), end=' | ')\n",
    "        print(ex)"
   ],
   "metadata": {
    "collapsed": false,
    "pycharm": {
     "name": "#%%\n"
    }
   }
  },
  {
   "cell_type": "code",
   "execution_count": 10,
   "outputs": [
    {
     "name": "stdout",
     "output_type": "stream",
     "text": [
      "11 | 1 is a valid input\n",
      "12 | 2 is a valid input\n",
      "13 | 3 is a valid input\n",
      "Four is not a number\n",
      "15 | 5 is a valid input\n",
      "16 | 6 is a valid input\n",
      "17 | 7 is a valid input\n"
     ]
    }
   ],
   "source": [
    "for e in my_list:\n",
    "    try:\n",
    "        result = 10 + e\n",
    "    except TypeError:\n",
    "        print('{} is not a number'.format(e))\n",
    "    else: # if no error occured\n",
    "        print(result, end=' | ')\n",
    "        print('{} is a valid input'.format(e))"
   ],
   "metadata": {
    "collapsed": false,
    "pycharm": {
     "name": "#%%\n"
    }
   }
  },
  {
   "cell_type": "code",
   "execution_count": 14,
   "outputs": [
    {
     "name": "stdout",
     "output_type": "stream",
     "text": [
      "11 | 1 is a valid input | Valid or not, it doesn't matter!\n",
      "12 | 2 is a valid input | Valid or not, it doesn't matter!\n",
      "13 | 3 is a valid input | Valid or not, it doesn't matter!\n",
      "Four is not a number | Valid or not, it doesn't matter!\n",
      "15 | 5 is a valid input | Valid or not, it doesn't matter!\n",
      "16 | 6 is a valid input | Valid or not, it doesn't matter!\n",
      "17 | 7 is a valid input | Valid or not, it doesn't matter!\n"
     ]
    }
   ],
   "source": [
    "for e in my_list:\n",
    "    try:\n",
    "        result = 10 + e\n",
    "    except TypeError:\n",
    "        print('{} is not a number'.format(e), end=' | ')\n",
    "    else: # if no error occured\n",
    "        print(result, end=' | ')\n",
    "        print('{} is a valid input'.format(e), end=' | ')\n",
    "    finally:\n",
    "        print(\"Valid or not, it doesn't matter!\")"
   ],
   "metadata": {
    "collapsed": false,
    "pycharm": {
     "name": "#%%\n"
    }
   }
  },
  {
   "cell_type": "markdown",
   "source": [
    "## Try Until It Works"
   ],
   "metadata": {
    "collapsed": false,
    "pycharm": {
     "name": "#%% md\n"
    }
   }
  },
  {
   "cell_type": "code",
   "execution_count": 15,
   "outputs": [],
   "source": [
    "import numpy as np"
   ],
   "metadata": {
    "collapsed": false,
    "pycharm": {
     "name": "#%%\n"
    }
   }
  },
  {
   "cell_type": "code",
   "execution_count": 17,
   "outputs": [
    {
     "data": {
      "text/plain": "1"
     },
     "execution_count": 17,
     "metadata": {},
     "output_type": "execute_result"
    }
   ],
   "source": [
    "# process with a random outcome (0: No success, 1: Success)\n",
    "np.random.randint(0,2)"
   ],
   "metadata": {
    "collapsed": false,
    "pycharm": {
     "name": "#%%\n"
    }
   }
  },
  {
   "cell_type": "code",
   "execution_count": 22,
   "outputs": [
    {
     "name": "stdout",
     "output_type": "stream",
     "text": [
      "1.0 | Attempt: 1\n"
     ]
    }
   ],
   "source": [
    "attempt = 0\n",
    "while True:\n",
    "    try:\n",
    "        result = 1 / np.random.randint(0,2)\n",
    "    except Exception as ex:\n",
    "        print(e, end=' | ')\n",
    "    else:\n",
    "        print(result, end=' | ')\n",
    "        break # stop when it works\n",
    "    finally:\n",
    "        attempt += 1\n",
    "        print('Attempt: {}'.format(attempt))"
   ],
   "metadata": {
    "collapsed": false,
    "pycharm": {
     "name": "#%%\n"
    }
   }
  },
  {
   "cell_type": "markdown",
   "source": [
    "## Limit number of retries"
   ],
   "metadata": {
    "collapsed": false
   }
  },
  {
   "cell_type": "code",
   "execution_count": 35,
   "outputs": [],
   "source": [
    "max_attempts = 3"
   ],
   "metadata": {
    "collapsed": false,
    "pycharm": {
     "name": "#%%\n"
    }
   }
  },
  {
   "cell_type": "code",
   "execution_count": 38,
   "outputs": [
    {
     "name": "stdout",
     "output_type": "stream",
     "text": [
      "7 | Attempt: 1\n",
      "1.0 | Attempt: 2\n"
     ]
    }
   ],
   "source": [
    "success = False\n",
    "attempt = 0\n",
    "while True:\n",
    "    try:\n",
    "        result = 1 / np.random.randint(0,2)\n",
    "    except Exception as ex:\n",
    "        print(e, end=' | ')\n",
    "    else:\n",
    "        print(result, end=' | ')\n",
    "        success = True\n",
    "        break # stop when it works\n",
    "    finally:\n",
    "        attempt += 1\n",
    "        print('Attempt: {}'.format(attempt))\n",
    "        if success == False:\n",
    "            if attempt >= max_attempts:\n",
    "                print('Program stopped. Max attempts reached.')\n",
    "                break"
   ],
   "metadata": {
    "collapsed": false,
    "pycharm": {
     "name": "#%%\n"
    }
   }
  },
  {
   "cell_type": "markdown",
   "source": [
    "### Waiting Periods Between Retries"
   ],
   "metadata": {
    "collapsed": false,
    "pycharm": {
     "name": "#%% md\n"
    }
   }
  },
  {
   "cell_type": "code",
   "execution_count": 40,
   "outputs": [],
   "source": [
    "import time"
   ],
   "metadata": {
    "collapsed": false,
    "pycharm": {
     "name": "#%%\n"
    }
   }
  },
  {
   "cell_type": "code",
   "execution_count": 41,
   "outputs": [],
   "source": [
    "max_attempts = 4"
   ],
   "metadata": {
    "collapsed": false,
    "pycharm": {
     "name": "#%%\n"
    }
   }
  },
  {
   "cell_type": "code",
   "execution_count": 43,
   "outputs": [
    {
     "name": "stdout",
     "output_type": "stream",
     "text": [
      "7 | Attempt: 1\n",
      "1.0 | Attempt: 2\n"
     ]
    }
   ],
   "source": [
    "success = False\n",
    "attempt = 0\n",
    "wait = 1\n",
    "wait_increase = 5\n",
    "while True:\n",
    "    try:\n",
    "        result = 1 / np.random.randint(0,2)\n",
    "    except Exception as ex:\n",
    "        print(e, end=' | ')\n",
    "    else:\n",
    "        print(result, end=' | ')\n",
    "        success = True\n",
    "        break # stop when it works\n",
    "    finally:\n",
    "        attempt += 1\n",
    "        print('Attempt: {}'.format(attempt))\n",
    "        if success == False:\n",
    "            if attempt >= max_attempts:\n",
    "                print('Program stopped. Max attempts reached.')\n",
    "                break\n",
    "            else:\n",
    "                time.sleep(wait)\n",
    "                wait += wait_increase"
   ],
   "metadata": {
    "collapsed": false,
    "pycharm": {
     "name": "#%%\n"
    }
   }
  },
  {
   "cell_type": "code",
   "execution_count": null,
   "outputs": [],
   "source": [],
   "metadata": {
    "collapsed": false,
    "pycharm": {
     "name": "#%%\n"
    }
   }
  }
 ],
 "metadata": {
  "kernelspec": {
   "display_name": "Python 3",
   "language": "python",
   "name": "python3"
  },
  "language_info": {
   "codemirror_mode": {
    "name": "ipython",
    "version": 2
   },
   "file_extension": ".py",
   "mimetype": "text/x-python",
   "name": "python",
   "nbconvert_exporter": "python",
   "pygments_lexer": "ipython2",
   "version": "2.7.6"
  }
 },
 "nbformat": 4,
 "nbformat_minor": 0
}