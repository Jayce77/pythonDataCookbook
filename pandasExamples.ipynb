{
 "cells": [
  {
   "cell_type": "markdown",
   "metadata": {
    "collapsed": true,
    "pycharm": {
     "name": "#%% md\n"
    }
   },
   "source": [
    "# Pandas Examples\n",
    "## Cretaing DataFrames"
   ]
  },
  {
   "cell_type": "code",
   "execution_count": 2,
   "outputs": [],
   "source": [
    "import pandas\n",
    "import pandas as pd"
   ],
   "metadata": {
    "collapsed": false,
    "pycharm": {
     "name": "#%%\n"
    }
   }
  },
  {
   "cell_type": "code",
   "execution_count": 3,
   "outputs": [
    {
     "data": {
      "text/plain": "     survived  pclass     sex   age  sibsp  parch     fare embarked deck\n0           0       3    male  22.0      1      0   7.2500        S  NaN\n1           1       1  female  38.0      1      0  71.2833        C    C\n2           1       3  female  26.0      0      0   7.9250        S  NaN\n3           1       1  female  35.0      1      0  53.1000        S    C\n4           0       3    male  35.0      0      0   8.0500        S  NaN\n..        ...     ...     ...   ...    ...    ...      ...      ...  ...\n886         0       2    male  27.0      0      0  13.0000        S  NaN\n887         1       1  female  19.0      0      0  30.0000        S    B\n888         0       3  female   NaN      1      2  23.4500        S  NaN\n889         1       1    male  26.0      0      0  30.0000        C    C\n890         0       3    male  32.0      0      0   7.7500        Q  NaN\n\n[891 rows x 9 columns]",
      "text/html": "<div>\n<style scoped>\n    .dataframe tbody tr th:only-of-type {\n        vertical-align: middle;\n    }\n\n    .dataframe tbody tr th {\n        vertical-align: top;\n    }\n\n    .dataframe thead th {\n        text-align: right;\n    }\n</style>\n<table border=\"1\" class=\"dataframe\">\n  <thead>\n    <tr style=\"text-align: right;\">\n      <th></th>\n      <th>survived</th>\n      <th>pclass</th>\n      <th>sex</th>\n      <th>age</th>\n      <th>sibsp</th>\n      <th>parch</th>\n      <th>fare</th>\n      <th>embarked</th>\n      <th>deck</th>\n    </tr>\n  </thead>\n  <tbody>\n    <tr>\n      <th>0</th>\n      <td>0</td>\n      <td>3</td>\n      <td>male</td>\n      <td>22.0</td>\n      <td>1</td>\n      <td>0</td>\n      <td>7.2500</td>\n      <td>S</td>\n      <td>NaN</td>\n    </tr>\n    <tr>\n      <th>1</th>\n      <td>1</td>\n      <td>1</td>\n      <td>female</td>\n      <td>38.0</td>\n      <td>1</td>\n      <td>0</td>\n      <td>71.2833</td>\n      <td>C</td>\n      <td>C</td>\n    </tr>\n    <tr>\n      <th>2</th>\n      <td>1</td>\n      <td>3</td>\n      <td>female</td>\n      <td>26.0</td>\n      <td>0</td>\n      <td>0</td>\n      <td>7.9250</td>\n      <td>S</td>\n      <td>NaN</td>\n    </tr>\n    <tr>\n      <th>3</th>\n      <td>1</td>\n      <td>1</td>\n      <td>female</td>\n      <td>35.0</td>\n      <td>1</td>\n      <td>0</td>\n      <td>53.1000</td>\n      <td>S</td>\n      <td>C</td>\n    </tr>\n    <tr>\n      <th>4</th>\n      <td>0</td>\n      <td>3</td>\n      <td>male</td>\n      <td>35.0</td>\n      <td>0</td>\n      <td>0</td>\n      <td>8.0500</td>\n      <td>S</td>\n      <td>NaN</td>\n    </tr>\n    <tr>\n      <th>...</th>\n      <td>...</td>\n      <td>...</td>\n      <td>...</td>\n      <td>...</td>\n      <td>...</td>\n      <td>...</td>\n      <td>...</td>\n      <td>...</td>\n      <td>...</td>\n    </tr>\n    <tr>\n      <th>886</th>\n      <td>0</td>\n      <td>2</td>\n      <td>male</td>\n      <td>27.0</td>\n      <td>0</td>\n      <td>0</td>\n      <td>13.0000</td>\n      <td>S</td>\n      <td>NaN</td>\n    </tr>\n    <tr>\n      <th>887</th>\n      <td>1</td>\n      <td>1</td>\n      <td>female</td>\n      <td>19.0</td>\n      <td>0</td>\n      <td>0</td>\n      <td>30.0000</td>\n      <td>S</td>\n      <td>B</td>\n    </tr>\n    <tr>\n      <th>888</th>\n      <td>0</td>\n      <td>3</td>\n      <td>female</td>\n      <td>NaN</td>\n      <td>1</td>\n      <td>2</td>\n      <td>23.4500</td>\n      <td>S</td>\n      <td>NaN</td>\n    </tr>\n    <tr>\n      <th>889</th>\n      <td>1</td>\n      <td>1</td>\n      <td>male</td>\n      <td>26.0</td>\n      <td>0</td>\n      <td>0</td>\n      <td>30.0000</td>\n      <td>C</td>\n      <td>C</td>\n    </tr>\n    <tr>\n      <th>890</th>\n      <td>0</td>\n      <td>3</td>\n      <td>male</td>\n      <td>32.0</td>\n      <td>0</td>\n      <td>0</td>\n      <td>7.7500</td>\n      <td>Q</td>\n      <td>NaN</td>\n    </tr>\n  </tbody>\n</table>\n<p>891 rows × 9 columns</p>\n</div>"
     },
     "execution_count": 3,
     "metadata": {},
     "output_type": "execute_result"
    }
   ],
   "source": [
    "titanic = pd.read_csv(\"data/titanic.csv\")\n",
    "titanic"
   ],
   "metadata": {
    "collapsed": false,
    "pycharm": {
     "name": "#%%\n"
    }
   }
  },
  {
   "cell_type": "code",
   "execution_count": 4,
   "outputs": [
    {
     "data": {
      "text/plain": "60"
     },
     "execution_count": 4,
     "metadata": {},
     "output_type": "execute_result"
    }
   ],
   "source": [
    "# can set to new limits\n",
    "# pd.options.display.max_rows = 900\n",
    "pd.options.display.max_rows"
   ],
   "metadata": {
    "collapsed": false,
    "pycharm": {
     "name": "#%%\n"
    }
   }
  },
  {
   "cell_type": "code",
   "execution_count": 5,
   "outputs": [
    {
     "data": {
      "text/plain": "10"
     },
     "execution_count": 5,
     "metadata": {},
     "output_type": "execute_result"
    }
   ],
   "source": [
    "pd.options.display.min_rows"
   ],
   "metadata": {
    "collapsed": false,
    "pycharm": {
     "name": "#%%\n"
    }
   }
  },
  {
   "cell_type": "code",
   "execution_count": 6,
   "outputs": [
    {
     "data": {
      "text/plain": "    survived  pclass     sex   age  sibsp  parch     fare embarked deck\n0          0       3    male  22.0      1      0   7.2500        S  NaN\n1          1       1  female  38.0      1      0  71.2833        C    C\n2          1       3  female  26.0      0      0   7.9250        S  NaN\n3          1       1  female  35.0      1      0  53.1000        S    C\n4          0       3    male  35.0      0      0   8.0500        S  NaN\n5          0       3    male   NaN      0      0   8.4583        Q  NaN\n6          0       1    male  54.0      0      0  51.8625        S    E\n7          0       3    male   2.0      3      1  21.0750        S  NaN\n8          1       3  female  27.0      0      2  11.1333        S  NaN\n9          1       2  female  14.0      1      0  30.0708        C  NaN\n10         1       3  female   4.0      1      1  16.7000        S    G\n11         1       1  female  58.0      0      0  26.5500        S    C\n12         0       3    male  20.0      0      0   8.0500        S  NaN\n13         0       3    male  39.0      1      5  31.2750        S  NaN\n14         0       3  female  14.0      0      0   7.8542        S  NaN\n15         1       2  female  55.0      0      0  16.0000        S  NaN\n16         0       3    male   2.0      4      1  29.1250        Q  NaN\n17         1       2    male   NaN      0      0  13.0000        S  NaN\n18         0       3  female  31.0      1      0  18.0000        S  NaN\n19         1       3  female   NaN      0      0   7.2250        C  NaN",
      "text/html": "<div>\n<style scoped>\n    .dataframe tbody tr th:only-of-type {\n        vertical-align: middle;\n    }\n\n    .dataframe tbody tr th {\n        vertical-align: top;\n    }\n\n    .dataframe thead th {\n        text-align: right;\n    }\n</style>\n<table border=\"1\" class=\"dataframe\">\n  <thead>\n    <tr style=\"text-align: right;\">\n      <th></th>\n      <th>survived</th>\n      <th>pclass</th>\n      <th>sex</th>\n      <th>age</th>\n      <th>sibsp</th>\n      <th>parch</th>\n      <th>fare</th>\n      <th>embarked</th>\n      <th>deck</th>\n    </tr>\n  </thead>\n  <tbody>\n    <tr>\n      <th>0</th>\n      <td>0</td>\n      <td>3</td>\n      <td>male</td>\n      <td>22.0</td>\n      <td>1</td>\n      <td>0</td>\n      <td>7.2500</td>\n      <td>S</td>\n      <td>NaN</td>\n    </tr>\n    <tr>\n      <th>1</th>\n      <td>1</td>\n      <td>1</td>\n      <td>female</td>\n      <td>38.0</td>\n      <td>1</td>\n      <td>0</td>\n      <td>71.2833</td>\n      <td>C</td>\n      <td>C</td>\n    </tr>\n    <tr>\n      <th>2</th>\n      <td>1</td>\n      <td>3</td>\n      <td>female</td>\n      <td>26.0</td>\n      <td>0</td>\n      <td>0</td>\n      <td>7.9250</td>\n      <td>S</td>\n      <td>NaN</td>\n    </tr>\n    <tr>\n      <th>3</th>\n      <td>1</td>\n      <td>1</td>\n      <td>female</td>\n      <td>35.0</td>\n      <td>1</td>\n      <td>0</td>\n      <td>53.1000</td>\n      <td>S</td>\n      <td>C</td>\n    </tr>\n    <tr>\n      <th>4</th>\n      <td>0</td>\n      <td>3</td>\n      <td>male</td>\n      <td>35.0</td>\n      <td>0</td>\n      <td>0</td>\n      <td>8.0500</td>\n      <td>S</td>\n      <td>NaN</td>\n    </tr>\n    <tr>\n      <th>5</th>\n      <td>0</td>\n      <td>3</td>\n      <td>male</td>\n      <td>NaN</td>\n      <td>0</td>\n      <td>0</td>\n      <td>8.4583</td>\n      <td>Q</td>\n      <td>NaN</td>\n    </tr>\n    <tr>\n      <th>6</th>\n      <td>0</td>\n      <td>1</td>\n      <td>male</td>\n      <td>54.0</td>\n      <td>0</td>\n      <td>0</td>\n      <td>51.8625</td>\n      <td>S</td>\n      <td>E</td>\n    </tr>\n    <tr>\n      <th>7</th>\n      <td>0</td>\n      <td>3</td>\n      <td>male</td>\n      <td>2.0</td>\n      <td>3</td>\n      <td>1</td>\n      <td>21.0750</td>\n      <td>S</td>\n      <td>NaN</td>\n    </tr>\n    <tr>\n      <th>8</th>\n      <td>1</td>\n      <td>3</td>\n      <td>female</td>\n      <td>27.0</td>\n      <td>0</td>\n      <td>2</td>\n      <td>11.1333</td>\n      <td>S</td>\n      <td>NaN</td>\n    </tr>\n    <tr>\n      <th>9</th>\n      <td>1</td>\n      <td>2</td>\n      <td>female</td>\n      <td>14.0</td>\n      <td>1</td>\n      <td>0</td>\n      <td>30.0708</td>\n      <td>C</td>\n      <td>NaN</td>\n    </tr>\n    <tr>\n      <th>10</th>\n      <td>1</td>\n      <td>3</td>\n      <td>female</td>\n      <td>4.0</td>\n      <td>1</td>\n      <td>1</td>\n      <td>16.7000</td>\n      <td>S</td>\n      <td>G</td>\n    </tr>\n    <tr>\n      <th>11</th>\n      <td>1</td>\n      <td>1</td>\n      <td>female</td>\n      <td>58.0</td>\n      <td>0</td>\n      <td>0</td>\n      <td>26.5500</td>\n      <td>S</td>\n      <td>C</td>\n    </tr>\n    <tr>\n      <th>12</th>\n      <td>0</td>\n      <td>3</td>\n      <td>male</td>\n      <td>20.0</td>\n      <td>0</td>\n      <td>0</td>\n      <td>8.0500</td>\n      <td>S</td>\n      <td>NaN</td>\n    </tr>\n    <tr>\n      <th>13</th>\n      <td>0</td>\n      <td>3</td>\n      <td>male</td>\n      <td>39.0</td>\n      <td>1</td>\n      <td>5</td>\n      <td>31.2750</td>\n      <td>S</td>\n      <td>NaN</td>\n    </tr>\n    <tr>\n      <th>14</th>\n      <td>0</td>\n      <td>3</td>\n      <td>female</td>\n      <td>14.0</td>\n      <td>0</td>\n      <td>0</td>\n      <td>7.8542</td>\n      <td>S</td>\n      <td>NaN</td>\n    </tr>\n    <tr>\n      <th>15</th>\n      <td>1</td>\n      <td>2</td>\n      <td>female</td>\n      <td>55.0</td>\n      <td>0</td>\n      <td>0</td>\n      <td>16.0000</td>\n      <td>S</td>\n      <td>NaN</td>\n    </tr>\n    <tr>\n      <th>16</th>\n      <td>0</td>\n      <td>3</td>\n      <td>male</td>\n      <td>2.0</td>\n      <td>4</td>\n      <td>1</td>\n      <td>29.1250</td>\n      <td>Q</td>\n      <td>NaN</td>\n    </tr>\n    <tr>\n      <th>17</th>\n      <td>1</td>\n      <td>2</td>\n      <td>male</td>\n      <td>NaN</td>\n      <td>0</td>\n      <td>0</td>\n      <td>13.0000</td>\n      <td>S</td>\n      <td>NaN</td>\n    </tr>\n    <tr>\n      <th>18</th>\n      <td>0</td>\n      <td>3</td>\n      <td>female</td>\n      <td>31.0</td>\n      <td>1</td>\n      <td>0</td>\n      <td>18.0000</td>\n      <td>S</td>\n      <td>NaN</td>\n    </tr>\n    <tr>\n      <th>19</th>\n      <td>1</td>\n      <td>3</td>\n      <td>female</td>\n      <td>NaN</td>\n      <td>0</td>\n      <td>0</td>\n      <td>7.2250</td>\n      <td>C</td>\n      <td>NaN</td>\n    </tr>\n  </tbody>\n</table>\n</div>"
     },
     "execution_count": 6,
     "metadata": {},
     "output_type": "execute_result"
    }
   ],
   "source": [
    "# can pass parameter to override default\n",
    "titanic.head(20)"
   ],
   "metadata": {
    "collapsed": false,
    "pycharm": {
     "name": "#%%\n"
    }
   }
  },
  {
   "cell_type": "code",
   "execution_count": 7,
   "outputs": [
    {
     "data": {
      "text/plain": "     survived  pclass     sex   age  sibsp  parch   fare embarked deck\n886         0       2    male  27.0      0      0  13.00        S  NaN\n887         1       1  female  19.0      0      0  30.00        S    B\n888         0       3  female   NaN      1      2  23.45        S  NaN\n889         1       1    male  26.0      0      0  30.00        C    C\n890         0       3    male  32.0      0      0   7.75        Q  NaN",
      "text/html": "<div>\n<style scoped>\n    .dataframe tbody tr th:only-of-type {\n        vertical-align: middle;\n    }\n\n    .dataframe tbody tr th {\n        vertical-align: top;\n    }\n\n    .dataframe thead th {\n        text-align: right;\n    }\n</style>\n<table border=\"1\" class=\"dataframe\">\n  <thead>\n    <tr style=\"text-align: right;\">\n      <th></th>\n      <th>survived</th>\n      <th>pclass</th>\n      <th>sex</th>\n      <th>age</th>\n      <th>sibsp</th>\n      <th>parch</th>\n      <th>fare</th>\n      <th>embarked</th>\n      <th>deck</th>\n    </tr>\n  </thead>\n  <tbody>\n    <tr>\n      <th>886</th>\n      <td>0</td>\n      <td>2</td>\n      <td>male</td>\n      <td>27.0</td>\n      <td>0</td>\n      <td>0</td>\n      <td>13.00</td>\n      <td>S</td>\n      <td>NaN</td>\n    </tr>\n    <tr>\n      <th>887</th>\n      <td>1</td>\n      <td>1</td>\n      <td>female</td>\n      <td>19.0</td>\n      <td>0</td>\n      <td>0</td>\n      <td>30.00</td>\n      <td>S</td>\n      <td>B</td>\n    </tr>\n    <tr>\n      <th>888</th>\n      <td>0</td>\n      <td>3</td>\n      <td>female</td>\n      <td>NaN</td>\n      <td>1</td>\n      <td>2</td>\n      <td>23.45</td>\n      <td>S</td>\n      <td>NaN</td>\n    </tr>\n    <tr>\n      <th>889</th>\n      <td>1</td>\n      <td>1</td>\n      <td>male</td>\n      <td>26.0</td>\n      <td>0</td>\n      <td>0</td>\n      <td>30.00</td>\n      <td>C</td>\n      <td>C</td>\n    </tr>\n    <tr>\n      <th>890</th>\n      <td>0</td>\n      <td>3</td>\n      <td>male</td>\n      <td>32.0</td>\n      <td>0</td>\n      <td>0</td>\n      <td>7.75</td>\n      <td>Q</td>\n      <td>NaN</td>\n    </tr>\n  </tbody>\n</table>\n</div>"
     },
     "execution_count": 7,
     "metadata": {},
     "output_type": "execute_result"
    }
   ],
   "source": [
    "titanic.tail()"
   ],
   "metadata": {
    "collapsed": false,
    "pycharm": {
     "name": "#%%\n"
    }
   }
  },
  {
   "cell_type": "markdown",
   "source": [
    "## Data Inspection"
   ],
   "metadata": {
    "collapsed": false,
    "pycharm": {
     "name": "#%% md\n"
    }
   }
  },
  {
   "cell_type": "code",
   "execution_count": 8,
   "outputs": [
    {
     "name": "stdout",
     "output_type": "stream",
     "text": [
      "<class 'pandas.core.frame.DataFrame'>\n",
      "RangeIndex: 891 entries, 0 to 890\n",
      "Data columns (total 9 columns):\n",
      " #   Column    Non-Null Count  Dtype  \n",
      "---  ------    --------------  -----  \n",
      " 0   survived  891 non-null    int64  \n",
      " 1   pclass    891 non-null    int64  \n",
      " 2   sex       891 non-null    object \n",
      " 3   age       714 non-null    float64\n",
      " 4   sibsp     891 non-null    int64  \n",
      " 5   parch     891 non-null    int64  \n",
      " 6   fare      891 non-null    float64\n",
      " 7   embarked  889 non-null    object \n",
      " 8   deck      203 non-null    object \n",
      "dtypes: float64(2), int64(4), object(3)\n",
      "memory usage: 62.8+ KB\n"
     ]
    }
   ],
   "source": [
    "titanic.info()"
   ],
   "metadata": {
    "collapsed": false,
    "pycharm": {
     "name": "#%%\n"
    }
   }
  },
  {
   "cell_type": "code",
   "execution_count": 9,
   "outputs": [
    {
     "data": {
      "text/plain": "         survived      pclass         age       sibsp       parch        fare\ncount  891.000000  891.000000  714.000000  891.000000  891.000000  891.000000\nmean     0.383838    2.308642   29.699118    0.523008    0.381594   32.204208\nstd      0.486592    0.836071   14.526497    1.102743    0.806057   49.693429\nmin      0.000000    1.000000    0.420000    0.000000    0.000000    0.000000\n25%      0.000000    2.000000   20.125000    0.000000    0.000000    7.910400\n50%      0.000000    3.000000   28.000000    0.000000    0.000000   14.454200\n75%      1.000000    3.000000   38.000000    1.000000    0.000000   31.000000\nmax      1.000000    3.000000   80.000000    8.000000    6.000000  512.329200",
      "text/html": "<div>\n<style scoped>\n    .dataframe tbody tr th:only-of-type {\n        vertical-align: middle;\n    }\n\n    .dataframe tbody tr th {\n        vertical-align: top;\n    }\n\n    .dataframe thead th {\n        text-align: right;\n    }\n</style>\n<table border=\"1\" class=\"dataframe\">\n  <thead>\n    <tr style=\"text-align: right;\">\n      <th></th>\n      <th>survived</th>\n      <th>pclass</th>\n      <th>age</th>\n      <th>sibsp</th>\n      <th>parch</th>\n      <th>fare</th>\n    </tr>\n  </thead>\n  <tbody>\n    <tr>\n      <th>count</th>\n      <td>891.000000</td>\n      <td>891.000000</td>\n      <td>714.000000</td>\n      <td>891.000000</td>\n      <td>891.000000</td>\n      <td>891.000000</td>\n    </tr>\n    <tr>\n      <th>mean</th>\n      <td>0.383838</td>\n      <td>2.308642</td>\n      <td>29.699118</td>\n      <td>0.523008</td>\n      <td>0.381594</td>\n      <td>32.204208</td>\n    </tr>\n    <tr>\n      <th>std</th>\n      <td>0.486592</td>\n      <td>0.836071</td>\n      <td>14.526497</td>\n      <td>1.102743</td>\n      <td>0.806057</td>\n      <td>49.693429</td>\n    </tr>\n    <tr>\n      <th>min</th>\n      <td>0.000000</td>\n      <td>1.000000</td>\n      <td>0.420000</td>\n      <td>0.000000</td>\n      <td>0.000000</td>\n      <td>0.000000</td>\n    </tr>\n    <tr>\n      <th>25%</th>\n      <td>0.000000</td>\n      <td>2.000000</td>\n      <td>20.125000</td>\n      <td>0.000000</td>\n      <td>0.000000</td>\n      <td>7.910400</td>\n    </tr>\n    <tr>\n      <th>50%</th>\n      <td>0.000000</td>\n      <td>3.000000</td>\n      <td>28.000000</td>\n      <td>0.000000</td>\n      <td>0.000000</td>\n      <td>14.454200</td>\n    </tr>\n    <tr>\n      <th>75%</th>\n      <td>1.000000</td>\n      <td>3.000000</td>\n      <td>38.000000</td>\n      <td>1.000000</td>\n      <td>0.000000</td>\n      <td>31.000000</td>\n    </tr>\n    <tr>\n      <th>max</th>\n      <td>1.000000</td>\n      <td>3.000000</td>\n      <td>80.000000</td>\n      <td>8.000000</td>\n      <td>6.000000</td>\n      <td>512.329200</td>\n    </tr>\n  </tbody>\n</table>\n</div>"
     },
     "execution_count": 9,
     "metadata": {},
     "output_type": "execute_result"
    }
   ],
   "source": [
    "titanic.describe()"
   ],
   "metadata": {
    "collapsed": false,
    "pycharm": {
     "name": "#%%\n"
    }
   }
  },
  {
   "cell_type": "code",
   "execution_count": 10,
   "outputs": [
    {
     "data": {
      "text/plain": "         sex embarked deck\ncount    891      889  203\nunique     2        3    7\ntop     male        S    C\nfreq     577      644   59",
      "text/html": "<div>\n<style scoped>\n    .dataframe tbody tr th:only-of-type {\n        vertical-align: middle;\n    }\n\n    .dataframe tbody tr th {\n        vertical-align: top;\n    }\n\n    .dataframe thead th {\n        text-align: right;\n    }\n</style>\n<table border=\"1\" class=\"dataframe\">\n  <thead>\n    <tr style=\"text-align: right;\">\n      <th></th>\n      <th>sex</th>\n      <th>embarked</th>\n      <th>deck</th>\n    </tr>\n  </thead>\n  <tbody>\n    <tr>\n      <th>count</th>\n      <td>891</td>\n      <td>889</td>\n      <td>203</td>\n    </tr>\n    <tr>\n      <th>unique</th>\n      <td>2</td>\n      <td>3</td>\n      <td>7</td>\n    </tr>\n    <tr>\n      <th>top</th>\n      <td>male</td>\n      <td>S</td>\n      <td>C</td>\n    </tr>\n    <tr>\n      <th>freq</th>\n      <td>577</td>\n      <td>644</td>\n      <td>59</td>\n    </tr>\n  </tbody>\n</table>\n</div>"
     },
     "execution_count": 10,
     "metadata": {},
     "output_type": "execute_result"
    }
   ],
   "source": [
    "titanic.describe(include='O')"
   ],
   "metadata": {
    "collapsed": false,
    "pycharm": {
     "name": "#%%\n"
    }
   }
  },
  {
   "cell_type": "markdown",
   "source": [
    "## Selecting Columns"
   ],
   "metadata": {
    "collapsed": false,
    "pycharm": {
     "name": "#%% md\n"
    }
   }
  },
  {
   "cell_type": "code",
   "execution_count": 11,
   "outputs": [
    {
     "data": {
      "text/plain": "0      22.0\n1      38.0\n2      26.0\n3      35.0\n4      35.0\n       ... \n886    27.0\n887    19.0\n888     NaN\n889    26.0\n890    32.0\nName: age, Length: 891, dtype: float64"
     },
     "execution_count": 11,
     "metadata": {},
     "output_type": "execute_result"
    }
   ],
   "source": [
    "titanic['age']"
   ],
   "metadata": {
    "collapsed": false,
    "pycharm": {
     "name": "#%%\n"
    }
   }
  },
  {
   "cell_type": "code",
   "execution_count": 12,
   "outputs": [
    {
     "data": {
      "text/plain": "pandas.core.series.Series"
     },
     "execution_count": 12,
     "metadata": {},
     "output_type": "execute_result"
    }
   ],
   "source": [
    "type(titanic['age'])"
   ],
   "metadata": {
    "collapsed": false,
    "pycharm": {
     "name": "#%%\n"
    }
   }
  },
  {
   "cell_type": "code",
   "execution_count": 13,
   "outputs": [
    {
     "data": {
      "text/plain": "      age     sex\n0    22.0    male\n1    38.0  female\n2    26.0  female\n3    35.0  female\n4    35.0    male\n..    ...     ...\n886  27.0    male\n887  19.0  female\n888   NaN  female\n889  26.0    male\n890  32.0    male\n\n[891 rows x 2 columns]",
      "text/html": "<div>\n<style scoped>\n    .dataframe tbody tr th:only-of-type {\n        vertical-align: middle;\n    }\n\n    .dataframe tbody tr th {\n        vertical-align: top;\n    }\n\n    .dataframe thead th {\n        text-align: right;\n    }\n</style>\n<table border=\"1\" class=\"dataframe\">\n  <thead>\n    <tr style=\"text-align: right;\">\n      <th></th>\n      <th>age</th>\n      <th>sex</th>\n    </tr>\n  </thead>\n  <tbody>\n    <tr>\n      <th>0</th>\n      <td>22.0</td>\n      <td>male</td>\n    </tr>\n    <tr>\n      <th>1</th>\n      <td>38.0</td>\n      <td>female</td>\n    </tr>\n    <tr>\n      <th>2</th>\n      <td>26.0</td>\n      <td>female</td>\n    </tr>\n    <tr>\n      <th>3</th>\n      <td>35.0</td>\n      <td>female</td>\n    </tr>\n    <tr>\n      <th>4</th>\n      <td>35.0</td>\n      <td>male</td>\n    </tr>\n    <tr>\n      <th>...</th>\n      <td>...</td>\n      <td>...</td>\n    </tr>\n    <tr>\n      <th>886</th>\n      <td>27.0</td>\n      <td>male</td>\n    </tr>\n    <tr>\n      <th>887</th>\n      <td>19.0</td>\n      <td>female</td>\n    </tr>\n    <tr>\n      <th>888</th>\n      <td>NaN</td>\n      <td>female</td>\n    </tr>\n    <tr>\n      <th>889</th>\n      <td>26.0</td>\n      <td>male</td>\n    </tr>\n    <tr>\n      <th>890</th>\n      <td>32.0</td>\n      <td>male</td>\n    </tr>\n  </tbody>\n</table>\n<p>891 rows × 2 columns</p>\n</div>"
     },
     "execution_count": 13,
     "metadata": {},
     "output_type": "execute_result"
    }
   ],
   "source": [
    "# Multiple column selection\n",
    "titanic[['age', 'sex']]"
   ],
   "metadata": {
    "collapsed": false,
    "pycharm": {
     "name": "#%%\n"
    }
   }
  },
  {
   "cell_type": "code",
   "execution_count": 14,
   "outputs": [
    {
     "data": {
      "text/plain": "pandas.core.frame.DataFrame"
     },
     "execution_count": 14,
     "metadata": {},
     "output_type": "execute_result"
    }
   ],
   "source": [
    "type(titanic[['age', 'sex']])"
   ],
   "metadata": {
    "collapsed": false,
    "pycharm": {
     "name": "#%%\n"
    }
   }
  },
  {
   "cell_type": "code",
   "execution_count": 15,
   "outputs": [
    {
     "data": {
      "text/plain": "        sex   age\n0      male  22.0\n1    female  38.0\n2    female  26.0\n3    female  35.0\n4      male  35.0\n..      ...   ...\n886    male  27.0\n887  female  19.0\n888  female   NaN\n889    male  26.0\n890    male  32.0\n\n[891 rows x 2 columns]",
      "text/html": "<div>\n<style scoped>\n    .dataframe tbody tr th:only-of-type {\n        vertical-align: middle;\n    }\n\n    .dataframe tbody tr th {\n        vertical-align: top;\n    }\n\n    .dataframe thead th {\n        text-align: right;\n    }\n</style>\n<table border=\"1\" class=\"dataframe\">\n  <thead>\n    <tr style=\"text-align: right;\">\n      <th></th>\n      <th>sex</th>\n      <th>age</th>\n    </tr>\n  </thead>\n  <tbody>\n    <tr>\n      <th>0</th>\n      <td>male</td>\n      <td>22.0</td>\n    </tr>\n    <tr>\n      <th>1</th>\n      <td>female</td>\n      <td>38.0</td>\n    </tr>\n    <tr>\n      <th>2</th>\n      <td>female</td>\n      <td>26.0</td>\n    </tr>\n    <tr>\n      <th>3</th>\n      <td>female</td>\n      <td>35.0</td>\n    </tr>\n    <tr>\n      <th>4</th>\n      <td>male</td>\n      <td>35.0</td>\n    </tr>\n    <tr>\n      <th>...</th>\n      <td>...</td>\n      <td>...</td>\n    </tr>\n    <tr>\n      <th>886</th>\n      <td>male</td>\n      <td>27.0</td>\n    </tr>\n    <tr>\n      <th>887</th>\n      <td>female</td>\n      <td>19.0</td>\n    </tr>\n    <tr>\n      <th>888</th>\n      <td>female</td>\n      <td>NaN</td>\n    </tr>\n    <tr>\n      <th>889</th>\n      <td>male</td>\n      <td>26.0</td>\n    </tr>\n    <tr>\n      <th>890</th>\n      <td>male</td>\n      <td>32.0</td>\n    </tr>\n  </tbody>\n</table>\n<p>891 rows × 2 columns</p>\n</div>"
     },
     "execution_count": 15,
     "metadata": {},
     "output_type": "execute_result"
    }
   ],
   "source": [
    "titanic[['sex', 'age']]"
   ],
   "metadata": {
    "collapsed": false,
    "pycharm": {
     "name": "#%%\n"
    }
   }
  },
  {
   "cell_type": "code",
   "execution_count": 16,
   "outputs": [
    {
     "data": {
      "text/plain": "pandas.core.frame.DataFrame"
     },
     "execution_count": 16,
     "metadata": {},
     "output_type": "execute_result"
    }
   ],
   "source": [
    "# Get a single column DataFrame\n",
    "type(titanic[['age']])"
   ],
   "metadata": {
    "collapsed": false,
    "pycharm": {
     "name": "#%%\n"
    }
   }
  },
  {
   "cell_type": "code",
   "execution_count": 17,
   "outputs": [
    {
     "data": {
      "text/plain": "0      22.0\n1      38.0\n2      26.0\n3      35.0\n4      35.0\n       ... \n886    27.0\n887    19.0\n888     NaN\n889    26.0\n890    32.0\nName: age, Length: 891, dtype: float64"
     },
     "execution_count": 17,
     "metadata": {},
     "output_type": "execute_result"
    }
   ],
   "source": [
    "# dot selection\n",
    "titanic.age"
   ],
   "metadata": {
    "collapsed": false,
    "pycharm": {
     "name": "#%%\n"
    }
   }
  },
  {
   "cell_type": "code",
   "execution_count": 18,
   "outputs": [
    {
     "data": {
      "text/plain": "True"
     },
     "execution_count": 18,
     "metadata": {},
     "output_type": "execute_result"
    }
   ],
   "source": [
    "titanic.age.equals(titanic['age'])"
   ],
   "metadata": {
    "collapsed": false,
    "pycharm": {
     "name": "#%%\n"
    }
   }
  },
  {
   "cell_type": "markdown",
   "source": [
    "## Selecting with iloc\n",
    "### Selecting Rows with iloc"
   ],
   "metadata": {
    "collapsed": false,
    "pycharm": {
     "name": "#%% md\n"
    }
   }
  },
  {
   "cell_type": "code",
   "execution_count": 19,
   "outputs": [],
   "source": [
    "summer = pd.read_csv('data/summer.csv', index_col='Athlete')"
   ],
   "metadata": {
    "collapsed": false,
    "pycharm": {
     "name": "#%%\n"
    }
   }
  },
  {
   "cell_type": "code",
   "execution_count": 20,
   "outputs": [
    {
     "data": {
      "text/plain": "                           Year    City      Sport           Discipline  \\\nAthlete                                                                   \nHAJOS, Alfred              1896  Athens   Aquatics             Swimming   \nHERSCHMANN, Otto           1896  Athens   Aquatics             Swimming   \nDRIVAS, Dimitrios          1896  Athens   Aquatics             Swimming   \nMALOKINIS, Ioannis         1896  Athens   Aquatics             Swimming   \nCHASAPIS, Spiridon         1896  Athens   Aquatics             Swimming   \n...                         ...     ...        ...                  ...   \nJANIKOWSKI, Damian         2012  London  Wrestling  Wrestling Freestyle   \nREZAEI, Ghasem Gholamreza  2012  London  Wrestling  Wrestling Freestyle   \nTOTROV, Rustam             2012  London  Wrestling  Wrestling Freestyle   \nALEKSANYAN, Artur          2012  London  Wrestling  Wrestling Freestyle   \nLIDBERG, Jimmy             2012  London  Wrestling  Wrestling Freestyle   \n\n                          Country Gender                       Event   Medal  \nAthlete                                                                       \nHAJOS, Alfred                 HUN    Men              100M Freestyle    Gold  \nHERSCHMANN, Otto              AUT    Men              100M Freestyle  Silver  \nDRIVAS, Dimitrios             GRE    Men  100M Freestyle For Sailors  Bronze  \nMALOKINIS, Ioannis            GRE    Men  100M Freestyle For Sailors    Gold  \nCHASAPIS, Spiridon            GRE    Men  100M Freestyle For Sailors  Silver  \n...                           ...    ...                         ...     ...  \nJANIKOWSKI, Damian            POL    Men                    Wg 84 KG  Bronze  \nREZAEI, Ghasem Gholamreza     IRI    Men                    Wg 96 KG    Gold  \nTOTROV, Rustam                RUS    Men                    Wg 96 KG  Silver  \nALEKSANYAN, Artur             ARM    Men                    Wg 96 KG  Bronze  \nLIDBERG, Jimmy                SWE    Men                    Wg 96 KG  Bronze  \n\n[31165 rows x 8 columns]",
      "text/html": "<div>\n<style scoped>\n    .dataframe tbody tr th:only-of-type {\n        vertical-align: middle;\n    }\n\n    .dataframe tbody tr th {\n        vertical-align: top;\n    }\n\n    .dataframe thead th {\n        text-align: right;\n    }\n</style>\n<table border=\"1\" class=\"dataframe\">\n  <thead>\n    <tr style=\"text-align: right;\">\n      <th></th>\n      <th>Year</th>\n      <th>City</th>\n      <th>Sport</th>\n      <th>Discipline</th>\n      <th>Country</th>\n      <th>Gender</th>\n      <th>Event</th>\n      <th>Medal</th>\n    </tr>\n    <tr>\n      <th>Athlete</th>\n      <th></th>\n      <th></th>\n      <th></th>\n      <th></th>\n      <th></th>\n      <th></th>\n      <th></th>\n      <th></th>\n    </tr>\n  </thead>\n  <tbody>\n    <tr>\n      <th>HAJOS, Alfred</th>\n      <td>1896</td>\n      <td>Athens</td>\n      <td>Aquatics</td>\n      <td>Swimming</td>\n      <td>HUN</td>\n      <td>Men</td>\n      <td>100M Freestyle</td>\n      <td>Gold</td>\n    </tr>\n    <tr>\n      <th>HERSCHMANN, Otto</th>\n      <td>1896</td>\n      <td>Athens</td>\n      <td>Aquatics</td>\n      <td>Swimming</td>\n      <td>AUT</td>\n      <td>Men</td>\n      <td>100M Freestyle</td>\n      <td>Silver</td>\n    </tr>\n    <tr>\n      <th>DRIVAS, Dimitrios</th>\n      <td>1896</td>\n      <td>Athens</td>\n      <td>Aquatics</td>\n      <td>Swimming</td>\n      <td>GRE</td>\n      <td>Men</td>\n      <td>100M Freestyle For Sailors</td>\n      <td>Bronze</td>\n    </tr>\n    <tr>\n      <th>MALOKINIS, Ioannis</th>\n      <td>1896</td>\n      <td>Athens</td>\n      <td>Aquatics</td>\n      <td>Swimming</td>\n      <td>GRE</td>\n      <td>Men</td>\n      <td>100M Freestyle For Sailors</td>\n      <td>Gold</td>\n    </tr>\n    <tr>\n      <th>CHASAPIS, Spiridon</th>\n      <td>1896</td>\n      <td>Athens</td>\n      <td>Aquatics</td>\n      <td>Swimming</td>\n      <td>GRE</td>\n      <td>Men</td>\n      <td>100M Freestyle For Sailors</td>\n      <td>Silver</td>\n    </tr>\n    <tr>\n      <th>...</th>\n      <td>...</td>\n      <td>...</td>\n      <td>...</td>\n      <td>...</td>\n      <td>...</td>\n      <td>...</td>\n      <td>...</td>\n      <td>...</td>\n    </tr>\n    <tr>\n      <th>JANIKOWSKI, Damian</th>\n      <td>2012</td>\n      <td>London</td>\n      <td>Wrestling</td>\n      <td>Wrestling Freestyle</td>\n      <td>POL</td>\n      <td>Men</td>\n      <td>Wg 84 KG</td>\n      <td>Bronze</td>\n    </tr>\n    <tr>\n      <th>REZAEI, Ghasem Gholamreza</th>\n      <td>2012</td>\n      <td>London</td>\n      <td>Wrestling</td>\n      <td>Wrestling Freestyle</td>\n      <td>IRI</td>\n      <td>Men</td>\n      <td>Wg 96 KG</td>\n      <td>Gold</td>\n    </tr>\n    <tr>\n      <th>TOTROV, Rustam</th>\n      <td>2012</td>\n      <td>London</td>\n      <td>Wrestling</td>\n      <td>Wrestling Freestyle</td>\n      <td>RUS</td>\n      <td>Men</td>\n      <td>Wg 96 KG</td>\n      <td>Silver</td>\n    </tr>\n    <tr>\n      <th>ALEKSANYAN, Artur</th>\n      <td>2012</td>\n      <td>London</td>\n      <td>Wrestling</td>\n      <td>Wrestling Freestyle</td>\n      <td>ARM</td>\n      <td>Men</td>\n      <td>Wg 96 KG</td>\n      <td>Bronze</td>\n    </tr>\n    <tr>\n      <th>LIDBERG, Jimmy</th>\n      <td>2012</td>\n      <td>London</td>\n      <td>Wrestling</td>\n      <td>Wrestling Freestyle</td>\n      <td>SWE</td>\n      <td>Men</td>\n      <td>Wg 96 KG</td>\n      <td>Bronze</td>\n    </tr>\n  </tbody>\n</table>\n<p>31165 rows × 8 columns</p>\n</div>"
     },
     "execution_count": 20,
     "metadata": {},
     "output_type": "execute_result"
    }
   ],
   "source": [
    "summer"
   ],
   "metadata": {
    "collapsed": false,
    "pycharm": {
     "name": "#%%\n"
    }
   }
  },
  {
   "cell_type": "code",
   "execution_count": 21,
   "outputs": [
    {
     "name": "stdout",
     "output_type": "stream",
     "text": [
      "<class 'pandas.core.frame.DataFrame'>\n",
      "Index: 31165 entries, HAJOS, Alfred to LIDBERG, Jimmy\n",
      "Data columns (total 8 columns):\n",
      " #   Column      Non-Null Count  Dtype \n",
      "---  ------      --------------  ----- \n",
      " 0   Year        31165 non-null  int64 \n",
      " 1   City        31165 non-null  object\n",
      " 2   Sport       31165 non-null  object\n",
      " 3   Discipline  31165 non-null  object\n",
      " 4   Country     31161 non-null  object\n",
      " 5   Gender      31165 non-null  object\n",
      " 6   Event       31165 non-null  object\n",
      " 7   Medal       31165 non-null  object\n",
      "dtypes: int64(1), object(7)\n",
      "memory usage: 2.1+ MB\n"
     ]
    }
   ],
   "source": [
    "summer.info()"
   ],
   "metadata": {
    "collapsed": false,
    "pycharm": {
     "name": "#%%\n"
    }
   }
  },
  {
   "cell_type": "code",
   "execution_count": 22,
   "outputs": [
    {
     "data": {
      "text/plain": "Year                    1896\nCity                  Athens\nSport               Aquatics\nDiscipline          Swimming\nCountry                  HUN\nGender                   Men\nEvent         100M Freestyle\nMedal                   Gold\nName: HAJOS, Alfred, dtype: object"
     },
     "execution_count": 22,
     "metadata": {},
     "output_type": "execute_result"
    }
   ],
   "source": [
    "summer.iloc[0]"
   ],
   "metadata": {
    "collapsed": false,
    "pycharm": {
     "name": "#%%\n"
    }
   }
  },
  {
   "cell_type": "code",
   "execution_count": 23,
   "outputs": [
    {
     "data": {
      "text/plain": "pandas.core.series.Series"
     },
     "execution_count": 23,
     "metadata": {},
     "output_type": "execute_result"
    }
   ],
   "source": [
    "type(summer.iloc[0])"
   ],
   "metadata": {
    "collapsed": false,
    "pycharm": {
     "name": "#%%\n"
    }
   }
  },
  {
   "cell_type": "code",
   "execution_count": 24,
   "outputs": [
    {
     "data": {
      "text/plain": "Year                    1896\nCity                  Athens\nSport               Aquatics\nDiscipline          Swimming\nCountry                  AUT\nGender                   Men\nEvent         100M Freestyle\nMedal                 Silver\nName: HERSCHMANN, Otto, dtype: object"
     },
     "execution_count": 24,
     "metadata": {},
     "output_type": "execute_result"
    }
   ],
   "source": [
    "summer.iloc[1]"
   ],
   "metadata": {
    "collapsed": false,
    "pycharm": {
     "name": "#%%\n"
    }
   }
  },
  {
   "cell_type": "code",
   "execution_count": 25,
   "outputs": [
    {
     "data": {
      "text/plain": "Year                         2012\nCity                       London\nSport                   Wrestling\nDiscipline    Wrestling Freestyle\nCountry                       SWE\nGender                        Men\nEvent                    Wg 96 KG\nMedal                      Bronze\nName: LIDBERG, Jimmy, dtype: object"
     },
     "execution_count": 25,
     "metadata": {},
     "output_type": "execute_result"
    }
   ],
   "source": [
    "summer.iloc[-1]"
   ],
   "metadata": {
    "collapsed": false,
    "pycharm": {
     "name": "#%%\n"
    }
   }
  },
  {
   "cell_type": "code",
   "execution_count": 26,
   "outputs": [
    {
     "data": {
      "text/plain": "                   Year    City     Sport Discipline Country Gender  \\\nAthlete                                                               \nHAJOS, Alfred      1896  Athens  Aquatics   Swimming     HUN    Men   \nHERSCHMANN, Otto   1896  Athens  Aquatics   Swimming     AUT    Men   \nDRIVAS, Dimitrios  1896  Athens  Aquatics   Swimming     GRE    Men   \n\n                                        Event   Medal  \nAthlete                                                \nHAJOS, Alfred                  100M Freestyle    Gold  \nHERSCHMANN, Otto               100M Freestyle  Silver  \nDRIVAS, Dimitrios  100M Freestyle For Sailors  Bronze  ",
      "text/html": "<div>\n<style scoped>\n    .dataframe tbody tr th:only-of-type {\n        vertical-align: middle;\n    }\n\n    .dataframe tbody tr th {\n        vertical-align: top;\n    }\n\n    .dataframe thead th {\n        text-align: right;\n    }\n</style>\n<table border=\"1\" class=\"dataframe\">\n  <thead>\n    <tr style=\"text-align: right;\">\n      <th></th>\n      <th>Year</th>\n      <th>City</th>\n      <th>Sport</th>\n      <th>Discipline</th>\n      <th>Country</th>\n      <th>Gender</th>\n      <th>Event</th>\n      <th>Medal</th>\n    </tr>\n    <tr>\n      <th>Athlete</th>\n      <th></th>\n      <th></th>\n      <th></th>\n      <th></th>\n      <th></th>\n      <th></th>\n      <th></th>\n      <th></th>\n    </tr>\n  </thead>\n  <tbody>\n    <tr>\n      <th>HAJOS, Alfred</th>\n      <td>1896</td>\n      <td>Athens</td>\n      <td>Aquatics</td>\n      <td>Swimming</td>\n      <td>HUN</td>\n      <td>Men</td>\n      <td>100M Freestyle</td>\n      <td>Gold</td>\n    </tr>\n    <tr>\n      <th>HERSCHMANN, Otto</th>\n      <td>1896</td>\n      <td>Athens</td>\n      <td>Aquatics</td>\n      <td>Swimming</td>\n      <td>AUT</td>\n      <td>Men</td>\n      <td>100M Freestyle</td>\n      <td>Silver</td>\n    </tr>\n    <tr>\n      <th>DRIVAS, Dimitrios</th>\n      <td>1896</td>\n      <td>Athens</td>\n      <td>Aquatics</td>\n      <td>Swimming</td>\n      <td>GRE</td>\n      <td>Men</td>\n      <td>100M Freestyle For Sailors</td>\n      <td>Bronze</td>\n    </tr>\n  </tbody>\n</table>\n</div>"
     },
     "execution_count": 26,
     "metadata": {},
     "output_type": "execute_result"
    }
   ],
   "source": [
    "summer.iloc[[0, 1, 2]]"
   ],
   "metadata": {
    "collapsed": false,
    "pycharm": {
     "name": "#%%\n"
    }
   }
  },
  {
   "cell_type": "code",
   "execution_count": 27,
   "outputs": [
    {
     "data": {
      "text/plain": "                    Year    City     Sport Discipline Country Gender  \\\nAthlete                                                                \nHERSCHMANN, Otto    1896  Athens  Aquatics   Swimming     AUT    Men   \nDRIVAS, Dimitrios   1896  Athens  Aquatics   Swimming     GRE    Men   \nMALOKINIS, Ioannis  1896  Athens  Aquatics   Swimming     GRE    Men   \n\n                                         Event   Medal  \nAthlete                                                 \nHERSCHMANN, Otto                100M Freestyle  Silver  \nDRIVAS, Dimitrios   100M Freestyle For Sailors  Bronze  \nMALOKINIS, Ioannis  100M Freestyle For Sailors    Gold  ",
      "text/html": "<div>\n<style scoped>\n    .dataframe tbody tr th:only-of-type {\n        vertical-align: middle;\n    }\n\n    .dataframe tbody tr th {\n        vertical-align: top;\n    }\n\n    .dataframe thead th {\n        text-align: right;\n    }\n</style>\n<table border=\"1\" class=\"dataframe\">\n  <thead>\n    <tr style=\"text-align: right;\">\n      <th></th>\n      <th>Year</th>\n      <th>City</th>\n      <th>Sport</th>\n      <th>Discipline</th>\n      <th>Country</th>\n      <th>Gender</th>\n      <th>Event</th>\n      <th>Medal</th>\n    </tr>\n    <tr>\n      <th>Athlete</th>\n      <th></th>\n      <th></th>\n      <th></th>\n      <th></th>\n      <th></th>\n      <th></th>\n      <th></th>\n      <th></th>\n    </tr>\n  </thead>\n  <tbody>\n    <tr>\n      <th>HERSCHMANN, Otto</th>\n      <td>1896</td>\n      <td>Athens</td>\n      <td>Aquatics</td>\n      <td>Swimming</td>\n      <td>AUT</td>\n      <td>Men</td>\n      <td>100M Freestyle</td>\n      <td>Silver</td>\n    </tr>\n    <tr>\n      <th>DRIVAS, Dimitrios</th>\n      <td>1896</td>\n      <td>Athens</td>\n      <td>Aquatics</td>\n      <td>Swimming</td>\n      <td>GRE</td>\n      <td>Men</td>\n      <td>100M Freestyle For Sailors</td>\n      <td>Bronze</td>\n    </tr>\n    <tr>\n      <th>MALOKINIS, Ioannis</th>\n      <td>1896</td>\n      <td>Athens</td>\n      <td>Aquatics</td>\n      <td>Swimming</td>\n      <td>GRE</td>\n      <td>Men</td>\n      <td>100M Freestyle For Sailors</td>\n      <td>Gold</td>\n    </tr>\n  </tbody>\n</table>\n</div>"
     },
     "execution_count": 27,
     "metadata": {},
     "output_type": "execute_result"
    }
   ],
   "source": [
    "summer.iloc[1:4]"
   ],
   "metadata": {
    "collapsed": false,
    "pycharm": {
     "name": "#%%\n"
    }
   }
  },
  {
   "cell_type": "code",
   "execution_count": 28,
   "outputs": [
    {
     "data": {
      "text/plain": "                    Year    City     Sport Discipline Country Gender  \\\nAthlete                                                                \nHAJOS, Alfred       1896  Athens  Aquatics   Swimming     HUN    Men   \nHERSCHMANN, Otto    1896  Athens  Aquatics   Swimming     AUT    Men   \nDRIVAS, Dimitrios   1896  Athens  Aquatics   Swimming     GRE    Men   \nMALOKINIS, Ioannis  1896  Athens  Aquatics   Swimming     GRE    Men   \nCHASAPIS, Spiridon  1896  Athens  Aquatics   Swimming     GRE    Men   \n\n                                         Event   Medal  \nAthlete                                                 \nHAJOS, Alfred                   100M Freestyle    Gold  \nHERSCHMANN, Otto                100M Freestyle  Silver  \nDRIVAS, Dimitrios   100M Freestyle For Sailors  Bronze  \nMALOKINIS, Ioannis  100M Freestyle For Sailors    Gold  \nCHASAPIS, Spiridon  100M Freestyle For Sailors  Silver  ",
      "text/html": "<div>\n<style scoped>\n    .dataframe tbody tr th:only-of-type {\n        vertical-align: middle;\n    }\n\n    .dataframe tbody tr th {\n        vertical-align: top;\n    }\n\n    .dataframe thead th {\n        text-align: right;\n    }\n</style>\n<table border=\"1\" class=\"dataframe\">\n  <thead>\n    <tr style=\"text-align: right;\">\n      <th></th>\n      <th>Year</th>\n      <th>City</th>\n      <th>Sport</th>\n      <th>Discipline</th>\n      <th>Country</th>\n      <th>Gender</th>\n      <th>Event</th>\n      <th>Medal</th>\n    </tr>\n    <tr>\n      <th>Athlete</th>\n      <th></th>\n      <th></th>\n      <th></th>\n      <th></th>\n      <th></th>\n      <th></th>\n      <th></th>\n      <th></th>\n    </tr>\n  </thead>\n  <tbody>\n    <tr>\n      <th>HAJOS, Alfred</th>\n      <td>1896</td>\n      <td>Athens</td>\n      <td>Aquatics</td>\n      <td>Swimming</td>\n      <td>HUN</td>\n      <td>Men</td>\n      <td>100M Freestyle</td>\n      <td>Gold</td>\n    </tr>\n    <tr>\n      <th>HERSCHMANN, Otto</th>\n      <td>1896</td>\n      <td>Athens</td>\n      <td>Aquatics</td>\n      <td>Swimming</td>\n      <td>AUT</td>\n      <td>Men</td>\n      <td>100M Freestyle</td>\n      <td>Silver</td>\n    </tr>\n    <tr>\n      <th>DRIVAS, Dimitrios</th>\n      <td>1896</td>\n      <td>Athens</td>\n      <td>Aquatics</td>\n      <td>Swimming</td>\n      <td>GRE</td>\n      <td>Men</td>\n      <td>100M Freestyle For Sailors</td>\n      <td>Bronze</td>\n    </tr>\n    <tr>\n      <th>MALOKINIS, Ioannis</th>\n      <td>1896</td>\n      <td>Athens</td>\n      <td>Aquatics</td>\n      <td>Swimming</td>\n      <td>GRE</td>\n      <td>Men</td>\n      <td>100M Freestyle For Sailors</td>\n      <td>Gold</td>\n    </tr>\n    <tr>\n      <th>CHASAPIS, Spiridon</th>\n      <td>1896</td>\n      <td>Athens</td>\n      <td>Aquatics</td>\n      <td>Swimming</td>\n      <td>GRE</td>\n      <td>Men</td>\n      <td>100M Freestyle For Sailors</td>\n      <td>Silver</td>\n    </tr>\n  </tbody>\n</table>\n</div>"
     },
     "execution_count": 28,
     "metadata": {},
     "output_type": "execute_result"
    }
   ],
   "source": [
    "summer.iloc[:5]"
   ],
   "metadata": {
    "collapsed": false,
    "pycharm": {
     "name": "#%%\n"
    }
   }
  },
  {
   "cell_type": "code",
   "execution_count": 29,
   "outputs": [
    {
     "data": {
      "text/plain": "                           Year    City      Sport           Discipline  \\\nAthlete                                                                   \nJANIKOWSKI, Damian         2012  London  Wrestling  Wrestling Freestyle   \nREZAEI, Ghasem Gholamreza  2012  London  Wrestling  Wrestling Freestyle   \nTOTROV, Rustam             2012  London  Wrestling  Wrestling Freestyle   \nALEKSANYAN, Artur          2012  London  Wrestling  Wrestling Freestyle   \nLIDBERG, Jimmy             2012  London  Wrestling  Wrestling Freestyle   \n\n                          Country Gender     Event   Medal  \nAthlete                                                     \nJANIKOWSKI, Damian            POL    Men  Wg 84 KG  Bronze  \nREZAEI, Ghasem Gholamreza     IRI    Men  Wg 96 KG    Gold  \nTOTROV, Rustam                RUS    Men  Wg 96 KG  Silver  \nALEKSANYAN, Artur             ARM    Men  Wg 96 KG  Bronze  \nLIDBERG, Jimmy                SWE    Men  Wg 96 KG  Bronze  ",
      "text/html": "<div>\n<style scoped>\n    .dataframe tbody tr th:only-of-type {\n        vertical-align: middle;\n    }\n\n    .dataframe tbody tr th {\n        vertical-align: top;\n    }\n\n    .dataframe thead th {\n        text-align: right;\n    }\n</style>\n<table border=\"1\" class=\"dataframe\">\n  <thead>\n    <tr style=\"text-align: right;\">\n      <th></th>\n      <th>Year</th>\n      <th>City</th>\n      <th>Sport</th>\n      <th>Discipline</th>\n      <th>Country</th>\n      <th>Gender</th>\n      <th>Event</th>\n      <th>Medal</th>\n    </tr>\n    <tr>\n      <th>Athlete</th>\n      <th></th>\n      <th></th>\n      <th></th>\n      <th></th>\n      <th></th>\n      <th></th>\n      <th></th>\n      <th></th>\n    </tr>\n  </thead>\n  <tbody>\n    <tr>\n      <th>JANIKOWSKI, Damian</th>\n      <td>2012</td>\n      <td>London</td>\n      <td>Wrestling</td>\n      <td>Wrestling Freestyle</td>\n      <td>POL</td>\n      <td>Men</td>\n      <td>Wg 84 KG</td>\n      <td>Bronze</td>\n    </tr>\n    <tr>\n      <th>REZAEI, Ghasem Gholamreza</th>\n      <td>2012</td>\n      <td>London</td>\n      <td>Wrestling</td>\n      <td>Wrestling Freestyle</td>\n      <td>IRI</td>\n      <td>Men</td>\n      <td>Wg 96 KG</td>\n      <td>Gold</td>\n    </tr>\n    <tr>\n      <th>TOTROV, Rustam</th>\n      <td>2012</td>\n      <td>London</td>\n      <td>Wrestling</td>\n      <td>Wrestling Freestyle</td>\n      <td>RUS</td>\n      <td>Men</td>\n      <td>Wg 96 KG</td>\n      <td>Silver</td>\n    </tr>\n    <tr>\n      <th>ALEKSANYAN, Artur</th>\n      <td>2012</td>\n      <td>London</td>\n      <td>Wrestling</td>\n      <td>Wrestling Freestyle</td>\n      <td>ARM</td>\n      <td>Men</td>\n      <td>Wg 96 KG</td>\n      <td>Bronze</td>\n    </tr>\n    <tr>\n      <th>LIDBERG, Jimmy</th>\n      <td>2012</td>\n      <td>London</td>\n      <td>Wrestling</td>\n      <td>Wrestling Freestyle</td>\n      <td>SWE</td>\n      <td>Men</td>\n      <td>Wg 96 KG</td>\n      <td>Bronze</td>\n    </tr>\n  </tbody>\n</table>\n</div>"
     },
     "execution_count": 29,
     "metadata": {},
     "output_type": "execute_result"
    }
   ],
   "source": [
    "summer.iloc[-5:]"
   ],
   "metadata": {
    "collapsed": false,
    "pycharm": {
     "name": "#%%\n"
    }
   }
  },
  {
   "cell_type": "code",
   "execution_count": 30,
   "outputs": [
    {
     "data": {
      "text/plain": "                   Year       City       Sport   Discipline Country Gender  \\\nAthlete                                                                      \nDRIVAS, Dimitrios  1896     Athens    Aquatics     Swimming     GRE    Men   \nPERSAKIS, Ioannis  1896     Athens   Athletics    Athletics     GRE    Men   \nPOLAK, Ans         1928  Amsterdam  Gymnastics  Artistic G.     NED  Women   \n\n                                        Event   Medal  \nAthlete                                                \nDRIVAS, Dimitrios  100M Freestyle For Sailors  Bronze  \nPERSAKIS, Ioannis                 Triple Jump  Bronze  \nPOLAK, Ans                   Team Competition    Gold  ",
      "text/html": "<div>\n<style scoped>\n    .dataframe tbody tr th:only-of-type {\n        vertical-align: middle;\n    }\n\n    .dataframe tbody tr th {\n        vertical-align: top;\n    }\n\n    .dataframe thead th {\n        text-align: right;\n    }\n</style>\n<table border=\"1\" class=\"dataframe\">\n  <thead>\n    <tr style=\"text-align: right;\">\n      <th></th>\n      <th>Year</th>\n      <th>City</th>\n      <th>Sport</th>\n      <th>Discipline</th>\n      <th>Country</th>\n      <th>Gender</th>\n      <th>Event</th>\n      <th>Medal</th>\n    </tr>\n    <tr>\n      <th>Athlete</th>\n      <th></th>\n      <th></th>\n      <th></th>\n      <th></th>\n      <th></th>\n      <th></th>\n      <th></th>\n      <th></th>\n    </tr>\n  </thead>\n  <tbody>\n    <tr>\n      <th>DRIVAS, Dimitrios</th>\n      <td>1896</td>\n      <td>Athens</td>\n      <td>Aquatics</td>\n      <td>Swimming</td>\n      <td>GRE</td>\n      <td>Men</td>\n      <td>100M Freestyle For Sailors</td>\n      <td>Bronze</td>\n    </tr>\n    <tr>\n      <th>PERSAKIS, Ioannis</th>\n      <td>1896</td>\n      <td>Athens</td>\n      <td>Athletics</td>\n      <td>Athletics</td>\n      <td>GRE</td>\n      <td>Men</td>\n      <td>Triple Jump</td>\n      <td>Bronze</td>\n    </tr>\n    <tr>\n      <th>POLAK, Ans</th>\n      <td>1928</td>\n      <td>Amsterdam</td>\n      <td>Gymnastics</td>\n      <td>Artistic G.</td>\n      <td>NED</td>\n      <td>Women</td>\n      <td>Team Competition</td>\n      <td>Gold</td>\n    </tr>\n  </tbody>\n</table>\n</div>"
     },
     "execution_count": 30,
     "metadata": {},
     "output_type": "execute_result"
    }
   ],
   "source": [
    "summer.iloc[[2, 45, 5467]]"
   ],
   "metadata": {
    "collapsed": false,
    "pycharm": {
     "name": "#%%\n"
    }
   }
  },
  {
   "cell_type": "code",
   "execution_count": 31,
   "outputs": [
    {
     "data": {
      "text/plain": "                       Year    City     Sport Discipline Country Gender  \\\nAthlete                                                                   \nHAJOS, Alfred          1896  Athens  Aquatics   Swimming     HUN    Men   \nHERSCHMANN, Otto       1896  Athens  Aquatics   Swimming     AUT    Men   \nDRIVAS, Dimitrios      1896  Athens  Aquatics   Swimming     GRE    Men   \nMALOKINIS, Ioannis     1896  Athens  Aquatics   Swimming     GRE    Men   \nCHASAPIS, Spiridon     1896  Athens  Aquatics   Swimming     GRE    Men   \nCHOROPHAS, Efstathios  1896  Athens  Aquatics   Swimming     GRE    Men   \nHAJOS, Alfred          1896  Athens  Aquatics   Swimming     HUN    Men   \nANDREOU, Joannis       1896  Athens  Aquatics   Swimming     GRE    Men   \nCHOROPHAS, Efstathios  1896  Athens  Aquatics   Swimming     GRE    Men   \nNEUMANN, Paul          1896  Athens  Aquatics   Swimming     AUT    Men   \n\n                                            Event   Medal  \nAthlete                                                    \nHAJOS, Alfred                      100M Freestyle    Gold  \nHERSCHMANN, Otto                   100M Freestyle  Silver  \nDRIVAS, Dimitrios      100M Freestyle For Sailors  Bronze  \nMALOKINIS, Ioannis     100M Freestyle For Sailors    Gold  \nCHASAPIS, Spiridon     100M Freestyle For Sailors  Silver  \nCHOROPHAS, Efstathios             1200M Freestyle  Bronze  \nHAJOS, Alfred                     1200M Freestyle    Gold  \nANDREOU, Joannis                  1200M Freestyle  Silver  \nCHOROPHAS, Efstathios              400M Freestyle  Bronze  \nNEUMANN, Paul                      400M Freestyle    Gold  ",
      "text/html": "<div>\n<style scoped>\n    .dataframe tbody tr th:only-of-type {\n        vertical-align: middle;\n    }\n\n    .dataframe tbody tr th {\n        vertical-align: top;\n    }\n\n    .dataframe thead th {\n        text-align: right;\n    }\n</style>\n<table border=\"1\" class=\"dataframe\">\n  <thead>\n    <tr style=\"text-align: right;\">\n      <th></th>\n      <th>Year</th>\n      <th>City</th>\n      <th>Sport</th>\n      <th>Discipline</th>\n      <th>Country</th>\n      <th>Gender</th>\n      <th>Event</th>\n      <th>Medal</th>\n    </tr>\n    <tr>\n      <th>Athlete</th>\n      <th></th>\n      <th></th>\n      <th></th>\n      <th></th>\n      <th></th>\n      <th></th>\n      <th></th>\n      <th></th>\n    </tr>\n  </thead>\n  <tbody>\n    <tr>\n      <th>HAJOS, Alfred</th>\n      <td>1896</td>\n      <td>Athens</td>\n      <td>Aquatics</td>\n      <td>Swimming</td>\n      <td>HUN</td>\n      <td>Men</td>\n      <td>100M Freestyle</td>\n      <td>Gold</td>\n    </tr>\n    <tr>\n      <th>HERSCHMANN, Otto</th>\n      <td>1896</td>\n      <td>Athens</td>\n      <td>Aquatics</td>\n      <td>Swimming</td>\n      <td>AUT</td>\n      <td>Men</td>\n      <td>100M Freestyle</td>\n      <td>Silver</td>\n    </tr>\n    <tr>\n      <th>DRIVAS, Dimitrios</th>\n      <td>1896</td>\n      <td>Athens</td>\n      <td>Aquatics</td>\n      <td>Swimming</td>\n      <td>GRE</td>\n      <td>Men</td>\n      <td>100M Freestyle For Sailors</td>\n      <td>Bronze</td>\n    </tr>\n    <tr>\n      <th>MALOKINIS, Ioannis</th>\n      <td>1896</td>\n      <td>Athens</td>\n      <td>Aquatics</td>\n      <td>Swimming</td>\n      <td>GRE</td>\n      <td>Men</td>\n      <td>100M Freestyle For Sailors</td>\n      <td>Gold</td>\n    </tr>\n    <tr>\n      <th>CHASAPIS, Spiridon</th>\n      <td>1896</td>\n      <td>Athens</td>\n      <td>Aquatics</td>\n      <td>Swimming</td>\n      <td>GRE</td>\n      <td>Men</td>\n      <td>100M Freestyle For Sailors</td>\n      <td>Silver</td>\n    </tr>\n    <tr>\n      <th>CHOROPHAS, Efstathios</th>\n      <td>1896</td>\n      <td>Athens</td>\n      <td>Aquatics</td>\n      <td>Swimming</td>\n      <td>GRE</td>\n      <td>Men</td>\n      <td>1200M Freestyle</td>\n      <td>Bronze</td>\n    </tr>\n    <tr>\n      <th>HAJOS, Alfred</th>\n      <td>1896</td>\n      <td>Athens</td>\n      <td>Aquatics</td>\n      <td>Swimming</td>\n      <td>HUN</td>\n      <td>Men</td>\n      <td>1200M Freestyle</td>\n      <td>Gold</td>\n    </tr>\n    <tr>\n      <th>ANDREOU, Joannis</th>\n      <td>1896</td>\n      <td>Athens</td>\n      <td>Aquatics</td>\n      <td>Swimming</td>\n      <td>GRE</td>\n      <td>Men</td>\n      <td>1200M Freestyle</td>\n      <td>Silver</td>\n    </tr>\n    <tr>\n      <th>CHOROPHAS, Efstathios</th>\n      <td>1896</td>\n      <td>Athens</td>\n      <td>Aquatics</td>\n      <td>Swimming</td>\n      <td>GRE</td>\n      <td>Men</td>\n      <td>400M Freestyle</td>\n      <td>Bronze</td>\n    </tr>\n    <tr>\n      <th>NEUMANN, Paul</th>\n      <td>1896</td>\n      <td>Athens</td>\n      <td>Aquatics</td>\n      <td>Swimming</td>\n      <td>AUT</td>\n      <td>Men</td>\n      <td>400M Freestyle</td>\n      <td>Gold</td>\n    </tr>\n  </tbody>\n</table>\n</div>"
     },
     "execution_count": 31,
     "metadata": {},
     "output_type": "execute_result"
    }
   ],
   "source": [
    "summer.head(10)"
   ],
   "metadata": {
    "collapsed": false,
    "pycharm": {
     "name": "#%%\n"
    }
   }
  },
  {
   "cell_type": "code",
   "execution_count": 32,
   "outputs": [
    {
     "data": {
      "text/plain": "'HUN'"
     },
     "execution_count": 32,
     "metadata": {},
     "output_type": "execute_result"
    }
   ],
   "source": [
    "summer.iloc[0, 4]"
   ],
   "metadata": {
    "collapsed": false,
    "pycharm": {
     "name": "#%%\n"
    }
   }
  },
  {
   "cell_type": "code",
   "execution_count": 33,
   "outputs": [
    {
     "data": {
      "text/plain": "Year         1896\nCity       Athens\nSport    Aquatics\nName: HAJOS, Alfred, dtype: object"
     },
     "execution_count": 33,
     "metadata": {},
     "output_type": "execute_result"
    }
   ],
   "source": [
    "summer.iloc[0, :3]"
   ],
   "metadata": {
    "collapsed": false,
    "pycharm": {
     "name": "#%%\n"
    }
   }
  },
  {
   "cell_type": "code",
   "execution_count": 34,
   "outputs": [
    {
     "data": {
      "text/plain": "Year          1896\nSport     Aquatics\nGender         Men\nMedal         Gold\nName: HAJOS, Alfred, dtype: object"
     },
     "execution_count": 34,
     "metadata": {},
     "output_type": "execute_result"
    }
   ],
   "source": [
    "summer.iloc[0, [0, 2, 5, 7]]"
   ],
   "metadata": {
    "collapsed": false,
    "pycharm": {
     "name": "#%%\n"
    }
   }
  },
  {
   "cell_type": "code",
   "execution_count": 35,
   "outputs": [
    {
     "data": {
      "text/plain": "                      Year      Sport Gender   Medal\nAthlete                                             \nGARRETT, Robert       1896  Athletics    Men  Silver\nKELLNER, Gyula        1896  Athletics    Men  Bronze\nLOUIS, Spyridon       1896  Athletics    Men    Gold\nVASILAKOS, Kharilaos  1896  Athletics    Men  Silver\nDAMASKOS, Evangelos   1896  Athletics    Men  Bronze",
      "text/html": "<div>\n<style scoped>\n    .dataframe tbody tr th:only-of-type {\n        vertical-align: middle;\n    }\n\n    .dataframe tbody tr th {\n        vertical-align: top;\n    }\n\n    .dataframe thead th {\n        text-align: right;\n    }\n</style>\n<table border=\"1\" class=\"dataframe\">\n  <thead>\n    <tr style=\"text-align: right;\">\n      <th></th>\n      <th>Year</th>\n      <th>Sport</th>\n      <th>Gender</th>\n      <th>Medal</th>\n    </tr>\n    <tr>\n      <th>Athlete</th>\n      <th></th>\n      <th></th>\n      <th></th>\n      <th></th>\n    </tr>\n  </thead>\n  <tbody>\n    <tr>\n      <th>GARRETT, Robert</th>\n      <td>1896</td>\n      <td>Athletics</td>\n      <td>Men</td>\n      <td>Silver</td>\n    </tr>\n    <tr>\n      <th>KELLNER, Gyula</th>\n      <td>1896</td>\n      <td>Athletics</td>\n      <td>Men</td>\n      <td>Bronze</td>\n    </tr>\n    <tr>\n      <th>LOUIS, Spyridon</th>\n      <td>1896</td>\n      <td>Athletics</td>\n      <td>Men</td>\n      <td>Gold</td>\n    </tr>\n    <tr>\n      <th>VASILAKOS, Kharilaos</th>\n      <td>1896</td>\n      <td>Athletics</td>\n      <td>Men</td>\n      <td>Silver</td>\n    </tr>\n    <tr>\n      <th>DAMASKOS, Evangelos</th>\n      <td>1896</td>\n      <td>Athletics</td>\n      <td>Men</td>\n      <td>Bronze</td>\n    </tr>\n  </tbody>\n</table>\n</div>"
     },
     "execution_count": 35,
     "metadata": {},
     "output_type": "execute_result"
    }
   ],
   "source": [
    "summer.iloc[34:39, [0, 2, 5, 7]]"
   ],
   "metadata": {
    "collapsed": false,
    "pycharm": {
     "name": "#%%\n"
    }
   }
  },
  {
   "cell_type": "code",
   "execution_count": 36,
   "outputs": [
    {
     "data": {
      "text/plain": "Athlete\nHAJOS, Alfred                HUN\nHERSCHMANN, Otto             AUT\nDRIVAS, Dimitrios            GRE\nMALOKINIS, Ioannis           GRE\nCHASAPIS, Spiridon           GRE\n                            ... \nJANIKOWSKI, Damian           POL\nREZAEI, Ghasem Gholamreza    IRI\nTOTROV, Rustam               RUS\nALEKSANYAN, Artur            ARM\nLIDBERG, Jimmy               SWE\nName: Country, Length: 31165, dtype: object"
     },
     "execution_count": 36,
     "metadata": {},
     "output_type": "execute_result"
    }
   ],
   "source": [
    "summer.iloc[:, 4]"
   ],
   "metadata": {
    "collapsed": false,
    "pycharm": {
     "name": "#%%\n"
    }
   }
  },
  {
   "cell_type": "code",
   "execution_count": 37,
   "outputs": [
    {
     "data": {
      "text/plain": "True"
     },
     "execution_count": 37,
     "metadata": {},
     "output_type": "execute_result"
    }
   ],
   "source": [
    "summer.iloc[:, 4].equals(summer.Country)"
   ],
   "metadata": {
    "collapsed": false,
    "pycharm": {
     "name": "#%%\n"
    }
   }
  },
  {
   "cell_type": "code",
   "execution_count": 38,
   "outputs": [
    {
     "data": {
      "text/plain": "Athlete\nHAJOS, Alfred                HUN\nHERSCHMANN, Otto             AUT\nDRIVAS, Dimitrios            GRE\nMALOKINIS, Ioannis           GRE\nCHASAPIS, Spiridon           GRE\n                            ... \nJANIKOWSKI, Damian           POL\nREZAEI, Ghasem Gholamreza    IRI\nTOTROV, Rustam               RUS\nALEKSANYAN, Artur            ARM\nLIDBERG, Jimmy               SWE\nName: Country, Length: 31165, dtype: object"
     },
     "execution_count": 38,
     "metadata": {},
     "output_type": "execute_result"
    }
   ],
   "source": [
    "summer['Country']"
   ],
   "metadata": {
    "collapsed": false,
    "pycharm": {
     "name": "#%%\n"
    }
   }
  },
  {
   "cell_type": "markdown",
   "source": [
    "### Label-based Indexing and Slicing with loc[]\n",
    "* end boundry is inclusive in lable-based indexing"
   ],
   "metadata": {
    "collapsed": false,
    "pycharm": {
     "name": "#%% md\n"
    }
   }
  },
  {
   "cell_type": "code",
   "execution_count": 39,
   "outputs": [
    {
     "data": {
      "text/plain": "Year                                1896\nCity                              Athens\nSport                           Aquatics\nDiscipline                      Swimming\nCountry                              GRE\nGender                               Men\nEvent         100M Freestyle For Sailors\nMedal                             Bronze\nName: DRIVAS, Dimitrios, dtype: object"
     },
     "execution_count": 39,
     "metadata": {},
     "output_type": "execute_result"
    }
   ],
   "source": [
    "summer.loc['DRIVAS, Dimitrios']"
   ],
   "metadata": {
    "collapsed": false,
    "pycharm": {
     "name": "#%%\n"
    }
   }
  },
  {
   "cell_type": "code",
   "execution_count": 40,
   "outputs": [
    {
     "data": {
      "text/plain": "                 Year     City     Sport Discipline Country Gender  \\\nAthlete                                                              \nPHELPS, Michael  2004   Athens  Aquatics   Swimming     USA    Men   \nPHELPS, Michael  2004   Athens  Aquatics   Swimming     USA    Men   \nPHELPS, Michael  2004   Athens  Aquatics   Swimming     USA    Men   \nPHELPS, Michael  2004   Athens  Aquatics   Swimming     USA    Men   \nPHELPS, Michael  2004   Athens  Aquatics   Swimming     USA    Men   \nPHELPS, Michael  2004   Athens  Aquatics   Swimming     USA    Men   \nPHELPS, Michael  2004   Athens  Aquatics   Swimming     USA    Men   \nPHELPS, Michael  2004   Athens  Aquatics   Swimming     USA    Men   \nPHELPS, Michael  2008  Beijing  Aquatics   Swimming     USA    Men   \nPHELPS, Michael  2008  Beijing  Aquatics   Swimming     USA    Men   \nPHELPS, Michael  2008  Beijing  Aquatics   Swimming     USA    Men   \nPHELPS, Michael  2008  Beijing  Aquatics   Swimming     USA    Men   \nPHELPS, Michael  2008  Beijing  Aquatics   Swimming     USA    Men   \nPHELPS, Michael  2008  Beijing  Aquatics   Swimming     USA    Men   \nPHELPS, Michael  2008  Beijing  Aquatics   Swimming     USA    Men   \nPHELPS, Michael  2008  Beijing  Aquatics   Swimming     USA    Men   \nPHELPS, Michael  2012   London  Aquatics   Swimming     USA    Men   \nPHELPS, Michael  2012   London  Aquatics   Swimming     USA    Men   \nPHELPS, Michael  2012   London  Aquatics   Swimming     USA    Men   \nPHELPS, Michael  2012   London  Aquatics   Swimming     USA    Men   \nPHELPS, Michael  2012   London  Aquatics   Swimming     USA    Men   \nPHELPS, Michael  2012   London  Aquatics   Swimming     USA    Men   \n\n                                  Event   Medal  \nAthlete                                          \nPHELPS, Michael          100M Butterfly    Gold  \nPHELPS, Michael          200M Butterfly    Gold  \nPHELPS, Michael          200M Freestyle  Bronze  \nPHELPS, Michael  200M Individual Medley    Gold  \nPHELPS, Michael  400M Individual Medley    Gold  \nPHELPS, Michael  4X100M Freestyle Relay  Bronze  \nPHELPS, Michael     4X100M Medley Relay    Gold  \nPHELPS, Michael  4X200M Freestyle Relay    Gold  \nPHELPS, Michael          100M Butterfly    Gold  \nPHELPS, Michael          200M Butterfly    Gold  \nPHELPS, Michael          200M Freestyle    Gold  \nPHELPS, Michael  200M Individual Medley    Gold  \nPHELPS, Michael  400M Individual Medley    Gold  \nPHELPS, Michael  4X100M Freestyle Relay    Gold  \nPHELPS, Michael     4X100M Medley Relay    Gold  \nPHELPS, Michael  4X200M Freestyle Relay    Gold  \nPHELPS, Michael          100M Butterfly    Gold  \nPHELPS, Michael          200M Butterfly  Silver  \nPHELPS, Michael             200M Medley    Gold  \nPHELPS, Michael        4X100M Freestyle  Silver  \nPHELPS, Michael           4X100M Medley    Gold  \nPHELPS, Michael        4X200M Freestyle    Gold  ",
      "text/html": "<div>\n<style scoped>\n    .dataframe tbody tr th:only-of-type {\n        vertical-align: middle;\n    }\n\n    .dataframe tbody tr th {\n        vertical-align: top;\n    }\n\n    .dataframe thead th {\n        text-align: right;\n    }\n</style>\n<table border=\"1\" class=\"dataframe\">\n  <thead>\n    <tr style=\"text-align: right;\">\n      <th></th>\n      <th>Year</th>\n      <th>City</th>\n      <th>Sport</th>\n      <th>Discipline</th>\n      <th>Country</th>\n      <th>Gender</th>\n      <th>Event</th>\n      <th>Medal</th>\n    </tr>\n    <tr>\n      <th>Athlete</th>\n      <th></th>\n      <th></th>\n      <th></th>\n      <th></th>\n      <th></th>\n      <th></th>\n      <th></th>\n      <th></th>\n    </tr>\n  </thead>\n  <tbody>\n    <tr>\n      <th>PHELPS, Michael</th>\n      <td>2004</td>\n      <td>Athens</td>\n      <td>Aquatics</td>\n      <td>Swimming</td>\n      <td>USA</td>\n      <td>Men</td>\n      <td>100M Butterfly</td>\n      <td>Gold</td>\n    </tr>\n    <tr>\n      <th>PHELPS, Michael</th>\n      <td>2004</td>\n      <td>Athens</td>\n      <td>Aquatics</td>\n      <td>Swimming</td>\n      <td>USA</td>\n      <td>Men</td>\n      <td>200M Butterfly</td>\n      <td>Gold</td>\n    </tr>\n    <tr>\n      <th>PHELPS, Michael</th>\n      <td>2004</td>\n      <td>Athens</td>\n      <td>Aquatics</td>\n      <td>Swimming</td>\n      <td>USA</td>\n      <td>Men</td>\n      <td>200M Freestyle</td>\n      <td>Bronze</td>\n    </tr>\n    <tr>\n      <th>PHELPS, Michael</th>\n      <td>2004</td>\n      <td>Athens</td>\n      <td>Aquatics</td>\n      <td>Swimming</td>\n      <td>USA</td>\n      <td>Men</td>\n      <td>200M Individual Medley</td>\n      <td>Gold</td>\n    </tr>\n    <tr>\n      <th>PHELPS, Michael</th>\n      <td>2004</td>\n      <td>Athens</td>\n      <td>Aquatics</td>\n      <td>Swimming</td>\n      <td>USA</td>\n      <td>Men</td>\n      <td>400M Individual Medley</td>\n      <td>Gold</td>\n    </tr>\n    <tr>\n      <th>PHELPS, Michael</th>\n      <td>2004</td>\n      <td>Athens</td>\n      <td>Aquatics</td>\n      <td>Swimming</td>\n      <td>USA</td>\n      <td>Men</td>\n      <td>4X100M Freestyle Relay</td>\n      <td>Bronze</td>\n    </tr>\n    <tr>\n      <th>PHELPS, Michael</th>\n      <td>2004</td>\n      <td>Athens</td>\n      <td>Aquatics</td>\n      <td>Swimming</td>\n      <td>USA</td>\n      <td>Men</td>\n      <td>4X100M Medley Relay</td>\n      <td>Gold</td>\n    </tr>\n    <tr>\n      <th>PHELPS, Michael</th>\n      <td>2004</td>\n      <td>Athens</td>\n      <td>Aquatics</td>\n      <td>Swimming</td>\n      <td>USA</td>\n      <td>Men</td>\n      <td>4X200M Freestyle Relay</td>\n      <td>Gold</td>\n    </tr>\n    <tr>\n      <th>PHELPS, Michael</th>\n      <td>2008</td>\n      <td>Beijing</td>\n      <td>Aquatics</td>\n      <td>Swimming</td>\n      <td>USA</td>\n      <td>Men</td>\n      <td>100M Butterfly</td>\n      <td>Gold</td>\n    </tr>\n    <tr>\n      <th>PHELPS, Michael</th>\n      <td>2008</td>\n      <td>Beijing</td>\n      <td>Aquatics</td>\n      <td>Swimming</td>\n      <td>USA</td>\n      <td>Men</td>\n      <td>200M Butterfly</td>\n      <td>Gold</td>\n    </tr>\n    <tr>\n      <th>PHELPS, Michael</th>\n      <td>2008</td>\n      <td>Beijing</td>\n      <td>Aquatics</td>\n      <td>Swimming</td>\n      <td>USA</td>\n      <td>Men</td>\n      <td>200M Freestyle</td>\n      <td>Gold</td>\n    </tr>\n    <tr>\n      <th>PHELPS, Michael</th>\n      <td>2008</td>\n      <td>Beijing</td>\n      <td>Aquatics</td>\n      <td>Swimming</td>\n      <td>USA</td>\n      <td>Men</td>\n      <td>200M Individual Medley</td>\n      <td>Gold</td>\n    </tr>\n    <tr>\n      <th>PHELPS, Michael</th>\n      <td>2008</td>\n      <td>Beijing</td>\n      <td>Aquatics</td>\n      <td>Swimming</td>\n      <td>USA</td>\n      <td>Men</td>\n      <td>400M Individual Medley</td>\n      <td>Gold</td>\n    </tr>\n    <tr>\n      <th>PHELPS, Michael</th>\n      <td>2008</td>\n      <td>Beijing</td>\n      <td>Aquatics</td>\n      <td>Swimming</td>\n      <td>USA</td>\n      <td>Men</td>\n      <td>4X100M Freestyle Relay</td>\n      <td>Gold</td>\n    </tr>\n    <tr>\n      <th>PHELPS, Michael</th>\n      <td>2008</td>\n      <td>Beijing</td>\n      <td>Aquatics</td>\n      <td>Swimming</td>\n      <td>USA</td>\n      <td>Men</td>\n      <td>4X100M Medley Relay</td>\n      <td>Gold</td>\n    </tr>\n    <tr>\n      <th>PHELPS, Michael</th>\n      <td>2008</td>\n      <td>Beijing</td>\n      <td>Aquatics</td>\n      <td>Swimming</td>\n      <td>USA</td>\n      <td>Men</td>\n      <td>4X200M Freestyle Relay</td>\n      <td>Gold</td>\n    </tr>\n    <tr>\n      <th>PHELPS, Michael</th>\n      <td>2012</td>\n      <td>London</td>\n      <td>Aquatics</td>\n      <td>Swimming</td>\n      <td>USA</td>\n      <td>Men</td>\n      <td>100M Butterfly</td>\n      <td>Gold</td>\n    </tr>\n    <tr>\n      <th>PHELPS, Michael</th>\n      <td>2012</td>\n      <td>London</td>\n      <td>Aquatics</td>\n      <td>Swimming</td>\n      <td>USA</td>\n      <td>Men</td>\n      <td>200M Butterfly</td>\n      <td>Silver</td>\n    </tr>\n    <tr>\n      <th>PHELPS, Michael</th>\n      <td>2012</td>\n      <td>London</td>\n      <td>Aquatics</td>\n      <td>Swimming</td>\n      <td>USA</td>\n      <td>Men</td>\n      <td>200M Medley</td>\n      <td>Gold</td>\n    </tr>\n    <tr>\n      <th>PHELPS, Michael</th>\n      <td>2012</td>\n      <td>London</td>\n      <td>Aquatics</td>\n      <td>Swimming</td>\n      <td>USA</td>\n      <td>Men</td>\n      <td>4X100M Freestyle</td>\n      <td>Silver</td>\n    </tr>\n    <tr>\n      <th>PHELPS, Michael</th>\n      <td>2012</td>\n      <td>London</td>\n      <td>Aquatics</td>\n      <td>Swimming</td>\n      <td>USA</td>\n      <td>Men</td>\n      <td>4X100M Medley</td>\n      <td>Gold</td>\n    </tr>\n    <tr>\n      <th>PHELPS, Michael</th>\n      <td>2012</td>\n      <td>London</td>\n      <td>Aquatics</td>\n      <td>Swimming</td>\n      <td>USA</td>\n      <td>Men</td>\n      <td>4X200M Freestyle</td>\n      <td>Gold</td>\n    </tr>\n  </tbody>\n</table>\n</div>"
     },
     "execution_count": 40,
     "metadata": {},
     "output_type": "execute_result"
    }
   ],
   "source": [
    "summer.loc['PHELPS, Michael']"
   ],
   "metadata": {
    "collapsed": false,
    "pycharm": {
     "name": "#%%\n"
    }
   }
  },
  {
   "cell_type": "code",
   "execution_count": 41,
   "outputs": [
    {
     "data": {
      "text/plain": "Athlete\nPHELPS, Michael      Gold\nPHELPS, Michael      Gold\nPHELPS, Michael    Bronze\nPHELPS, Michael      Gold\nPHELPS, Michael      Gold\nPHELPS, Michael    Bronze\nPHELPS, Michael      Gold\nPHELPS, Michael      Gold\nPHELPS, Michael      Gold\nPHELPS, Michael      Gold\nPHELPS, Michael      Gold\nPHELPS, Michael      Gold\nPHELPS, Michael      Gold\nPHELPS, Michael      Gold\nPHELPS, Michael      Gold\nPHELPS, Michael      Gold\nPHELPS, Michael      Gold\nPHELPS, Michael    Silver\nPHELPS, Michael      Gold\nPHELPS, Michael    Silver\nPHELPS, Michael      Gold\nPHELPS, Michael      Gold\nName: Medal, dtype: object"
     },
     "execution_count": 41,
     "metadata": {},
     "output_type": "execute_result"
    }
   ],
   "source": [
    "summer.loc['PHELPS, Michael', 'Medal']"
   ],
   "metadata": {
    "collapsed": false,
    "pycharm": {
     "name": "#%%\n"
    }
   }
  },
  {
   "cell_type": "code",
   "execution_count": 42,
   "outputs": [
    {
     "data": {
      "text/plain": "                  Medal                   Event\nAthlete                                        \nPHELPS, Michael    Gold          100M Butterfly\nPHELPS, Michael    Gold          200M Butterfly\nPHELPS, Michael  Bronze          200M Freestyle\nPHELPS, Michael    Gold  200M Individual Medley\nPHELPS, Michael    Gold  400M Individual Medley\nPHELPS, Michael  Bronze  4X100M Freestyle Relay\nPHELPS, Michael    Gold     4X100M Medley Relay\nPHELPS, Michael    Gold  4X200M Freestyle Relay\nPHELPS, Michael    Gold          100M Butterfly\nPHELPS, Michael    Gold          200M Butterfly\nPHELPS, Michael    Gold          200M Freestyle\nPHELPS, Michael    Gold  200M Individual Medley\nPHELPS, Michael    Gold  400M Individual Medley\nPHELPS, Michael    Gold  4X100M Freestyle Relay\nPHELPS, Michael    Gold     4X100M Medley Relay\nPHELPS, Michael    Gold  4X200M Freestyle Relay\nPHELPS, Michael    Gold          100M Butterfly\nPHELPS, Michael  Silver          200M Butterfly\nPHELPS, Michael    Gold             200M Medley\nPHELPS, Michael  Silver        4X100M Freestyle\nPHELPS, Michael    Gold           4X100M Medley\nPHELPS, Michael    Gold        4X200M Freestyle",
      "text/html": "<div>\n<style scoped>\n    .dataframe tbody tr th:only-of-type {\n        vertical-align: middle;\n    }\n\n    .dataframe tbody tr th {\n        vertical-align: top;\n    }\n\n    .dataframe thead th {\n        text-align: right;\n    }\n</style>\n<table border=\"1\" class=\"dataframe\">\n  <thead>\n    <tr style=\"text-align: right;\">\n      <th></th>\n      <th>Medal</th>\n      <th>Event</th>\n    </tr>\n    <tr>\n      <th>Athlete</th>\n      <th></th>\n      <th></th>\n    </tr>\n  </thead>\n  <tbody>\n    <tr>\n      <th>PHELPS, Michael</th>\n      <td>Gold</td>\n      <td>100M Butterfly</td>\n    </tr>\n    <tr>\n      <th>PHELPS, Michael</th>\n      <td>Gold</td>\n      <td>200M Butterfly</td>\n    </tr>\n    <tr>\n      <th>PHELPS, Michael</th>\n      <td>Bronze</td>\n      <td>200M Freestyle</td>\n    </tr>\n    <tr>\n      <th>PHELPS, Michael</th>\n      <td>Gold</td>\n      <td>200M Individual Medley</td>\n    </tr>\n    <tr>\n      <th>PHELPS, Michael</th>\n      <td>Gold</td>\n      <td>400M Individual Medley</td>\n    </tr>\n    <tr>\n      <th>PHELPS, Michael</th>\n      <td>Bronze</td>\n      <td>4X100M Freestyle Relay</td>\n    </tr>\n    <tr>\n      <th>PHELPS, Michael</th>\n      <td>Gold</td>\n      <td>4X100M Medley Relay</td>\n    </tr>\n    <tr>\n      <th>PHELPS, Michael</th>\n      <td>Gold</td>\n      <td>4X200M Freestyle Relay</td>\n    </tr>\n    <tr>\n      <th>PHELPS, Michael</th>\n      <td>Gold</td>\n      <td>100M Butterfly</td>\n    </tr>\n    <tr>\n      <th>PHELPS, Michael</th>\n      <td>Gold</td>\n      <td>200M Butterfly</td>\n    </tr>\n    <tr>\n      <th>PHELPS, Michael</th>\n      <td>Gold</td>\n      <td>200M Freestyle</td>\n    </tr>\n    <tr>\n      <th>PHELPS, Michael</th>\n      <td>Gold</td>\n      <td>200M Individual Medley</td>\n    </tr>\n    <tr>\n      <th>PHELPS, Michael</th>\n      <td>Gold</td>\n      <td>400M Individual Medley</td>\n    </tr>\n    <tr>\n      <th>PHELPS, Michael</th>\n      <td>Gold</td>\n      <td>4X100M Freestyle Relay</td>\n    </tr>\n    <tr>\n      <th>PHELPS, Michael</th>\n      <td>Gold</td>\n      <td>4X100M Medley Relay</td>\n    </tr>\n    <tr>\n      <th>PHELPS, Michael</th>\n      <td>Gold</td>\n      <td>4X200M Freestyle Relay</td>\n    </tr>\n    <tr>\n      <th>PHELPS, Michael</th>\n      <td>Gold</td>\n      <td>100M Butterfly</td>\n    </tr>\n    <tr>\n      <th>PHELPS, Michael</th>\n      <td>Silver</td>\n      <td>200M Butterfly</td>\n    </tr>\n    <tr>\n      <th>PHELPS, Michael</th>\n      <td>Gold</td>\n      <td>200M Medley</td>\n    </tr>\n    <tr>\n      <th>PHELPS, Michael</th>\n      <td>Silver</td>\n      <td>4X100M Freestyle</td>\n    </tr>\n    <tr>\n      <th>PHELPS, Michael</th>\n      <td>Gold</td>\n      <td>4X100M Medley</td>\n    </tr>\n    <tr>\n      <th>PHELPS, Michael</th>\n      <td>Gold</td>\n      <td>4X200M Freestyle</td>\n    </tr>\n  </tbody>\n</table>\n</div>"
     },
     "execution_count": 42,
     "metadata": {},
     "output_type": "execute_result"
    }
   ],
   "source": [
    "summer.loc['PHELPS, Michael', ['Medal', 'Event']]"
   ],
   "metadata": {
    "collapsed": false,
    "pycharm": {
     "name": "#%%\n"
    }
   }
  },
  {
   "cell_type": "code",
   "execution_count": 43,
   "outputs": [
    {
     "data": {
      "text/plain": "                  Medal                   Event\nAthlete                                        \nPHELPS, Michael    Gold          100M Butterfly\nPHELPS, Michael    Gold          200M Butterfly\nPHELPS, Michael  Bronze          200M Freestyle\nPHELPS, Michael    Gold  200M Individual Medley\nPHELPS, Michael    Gold  400M Individual Medley\nPHELPS, Michael  Bronze  4X100M Freestyle Relay\nPHELPS, Michael    Gold     4X100M Medley Relay\nPHELPS, Michael    Gold  4X200M Freestyle Relay\nPHELPS, Michael    Gold          100M Butterfly\nPHELPS, Michael    Gold          200M Butterfly\nPHELPS, Michael    Gold          200M Freestyle\nPHELPS, Michael    Gold  200M Individual Medley\nPHELPS, Michael    Gold  400M Individual Medley\nPHELPS, Michael    Gold  4X100M Freestyle Relay\nPHELPS, Michael    Gold     4X100M Medley Relay\nPHELPS, Michael    Gold  4X200M Freestyle Relay\nPHELPS, Michael    Gold          100M Butterfly\nPHELPS, Michael  Silver          200M Butterfly\nPHELPS, Michael    Gold             200M Medley\nPHELPS, Michael  Silver        4X100M Freestyle\nPHELPS, Michael    Gold           4X100M Medley\nPHELPS, Michael    Gold        4X200M Freestyle\nLEWIS, Carl        Gold                    100M\nLEWIS, Carl        Gold                    200M\nLEWIS, Carl        Gold            4X100M Relay\nLEWIS, Carl        Gold               Long Jump\nLEWIS, Carl        Gold                    100M\nLEWIS, Carl      Silver                    200M\nLEWIS, Carl        Gold               Long Jump\nLEWIS, Carl        Gold            4X100M Relay\nLEWIS, Carl        Gold               Long Jump\nLEWIS, Carl        Gold               Long Jump",
      "text/html": "<div>\n<style scoped>\n    .dataframe tbody tr th:only-of-type {\n        vertical-align: middle;\n    }\n\n    .dataframe tbody tr th {\n        vertical-align: top;\n    }\n\n    .dataframe thead th {\n        text-align: right;\n    }\n</style>\n<table border=\"1\" class=\"dataframe\">\n  <thead>\n    <tr style=\"text-align: right;\">\n      <th></th>\n      <th>Medal</th>\n      <th>Event</th>\n    </tr>\n    <tr>\n      <th>Athlete</th>\n      <th></th>\n      <th></th>\n    </tr>\n  </thead>\n  <tbody>\n    <tr>\n      <th>PHELPS, Michael</th>\n      <td>Gold</td>\n      <td>100M Butterfly</td>\n    </tr>\n    <tr>\n      <th>PHELPS, Michael</th>\n      <td>Gold</td>\n      <td>200M Butterfly</td>\n    </tr>\n    <tr>\n      <th>PHELPS, Michael</th>\n      <td>Bronze</td>\n      <td>200M Freestyle</td>\n    </tr>\n    <tr>\n      <th>PHELPS, Michael</th>\n      <td>Gold</td>\n      <td>200M Individual Medley</td>\n    </tr>\n    <tr>\n      <th>PHELPS, Michael</th>\n      <td>Gold</td>\n      <td>400M Individual Medley</td>\n    </tr>\n    <tr>\n      <th>PHELPS, Michael</th>\n      <td>Bronze</td>\n      <td>4X100M Freestyle Relay</td>\n    </tr>\n    <tr>\n      <th>PHELPS, Michael</th>\n      <td>Gold</td>\n      <td>4X100M Medley Relay</td>\n    </tr>\n    <tr>\n      <th>PHELPS, Michael</th>\n      <td>Gold</td>\n      <td>4X200M Freestyle Relay</td>\n    </tr>\n    <tr>\n      <th>PHELPS, Michael</th>\n      <td>Gold</td>\n      <td>100M Butterfly</td>\n    </tr>\n    <tr>\n      <th>PHELPS, Michael</th>\n      <td>Gold</td>\n      <td>200M Butterfly</td>\n    </tr>\n    <tr>\n      <th>PHELPS, Michael</th>\n      <td>Gold</td>\n      <td>200M Freestyle</td>\n    </tr>\n    <tr>\n      <th>PHELPS, Michael</th>\n      <td>Gold</td>\n      <td>200M Individual Medley</td>\n    </tr>\n    <tr>\n      <th>PHELPS, Michael</th>\n      <td>Gold</td>\n      <td>400M Individual Medley</td>\n    </tr>\n    <tr>\n      <th>PHELPS, Michael</th>\n      <td>Gold</td>\n      <td>4X100M Freestyle Relay</td>\n    </tr>\n    <tr>\n      <th>PHELPS, Michael</th>\n      <td>Gold</td>\n      <td>4X100M Medley Relay</td>\n    </tr>\n    <tr>\n      <th>PHELPS, Michael</th>\n      <td>Gold</td>\n      <td>4X200M Freestyle Relay</td>\n    </tr>\n    <tr>\n      <th>PHELPS, Michael</th>\n      <td>Gold</td>\n      <td>100M Butterfly</td>\n    </tr>\n    <tr>\n      <th>PHELPS, Michael</th>\n      <td>Silver</td>\n      <td>200M Butterfly</td>\n    </tr>\n    <tr>\n      <th>PHELPS, Michael</th>\n      <td>Gold</td>\n      <td>200M Medley</td>\n    </tr>\n    <tr>\n      <th>PHELPS, Michael</th>\n      <td>Silver</td>\n      <td>4X100M Freestyle</td>\n    </tr>\n    <tr>\n      <th>PHELPS, Michael</th>\n      <td>Gold</td>\n      <td>4X100M Medley</td>\n    </tr>\n    <tr>\n      <th>PHELPS, Michael</th>\n      <td>Gold</td>\n      <td>4X200M Freestyle</td>\n    </tr>\n    <tr>\n      <th>LEWIS, Carl</th>\n      <td>Gold</td>\n      <td>100M</td>\n    </tr>\n    <tr>\n      <th>LEWIS, Carl</th>\n      <td>Gold</td>\n      <td>200M</td>\n    </tr>\n    <tr>\n      <th>LEWIS, Carl</th>\n      <td>Gold</td>\n      <td>4X100M Relay</td>\n    </tr>\n    <tr>\n      <th>LEWIS, Carl</th>\n      <td>Gold</td>\n      <td>Long Jump</td>\n    </tr>\n    <tr>\n      <th>LEWIS, Carl</th>\n      <td>Gold</td>\n      <td>100M</td>\n    </tr>\n    <tr>\n      <th>LEWIS, Carl</th>\n      <td>Silver</td>\n      <td>200M</td>\n    </tr>\n    <tr>\n      <th>LEWIS, Carl</th>\n      <td>Gold</td>\n      <td>Long Jump</td>\n    </tr>\n    <tr>\n      <th>LEWIS, Carl</th>\n      <td>Gold</td>\n      <td>4X100M Relay</td>\n    </tr>\n    <tr>\n      <th>LEWIS, Carl</th>\n      <td>Gold</td>\n      <td>Long Jump</td>\n    </tr>\n    <tr>\n      <th>LEWIS, Carl</th>\n      <td>Gold</td>\n      <td>Long Jump</td>\n    </tr>\n  </tbody>\n</table>\n</div>"
     },
     "execution_count": 43,
     "metadata": {},
     "output_type": "execute_result"
    }
   ],
   "source": [
    "summer.loc[['PHELPS, Michael', \"LEWIS, Carl\"], ['Medal', 'Event']]"
   ],
   "metadata": {
    "collapsed": false,
    "pycharm": {
     "name": "#%%\n"
    }
   }
  },
  {
   "cell_type": "code",
   "execution_count": 44,
   "outputs": [
    {
     "data": {
      "text/plain": "                            Medal                       Event\nAthlete                                                      \nHAJOS, Alfred                Gold              100M Freestyle\nHERSCHMANN, Otto           Silver              100M Freestyle\nDRIVAS, Dimitrios          Bronze  100M Freestyle For Sailors\nMALOKINIS, Ioannis           Gold  100M Freestyle For Sailors\nCHASAPIS, Spiridon         Silver  100M Freestyle For Sailors\n...                           ...                         ...\nJANIKOWSKI, Damian         Bronze                    Wg 84 KG\nREZAEI, Ghasem Gholamreza    Gold                    Wg 96 KG\nTOTROV, Rustam             Silver                    Wg 96 KG\nALEKSANYAN, Artur          Bronze                    Wg 96 KG\nLIDBERG, Jimmy             Bronze                    Wg 96 KG\n\n[31165 rows x 2 columns]",
      "text/html": "<div>\n<style scoped>\n    .dataframe tbody tr th:only-of-type {\n        vertical-align: middle;\n    }\n\n    .dataframe tbody tr th {\n        vertical-align: top;\n    }\n\n    .dataframe thead th {\n        text-align: right;\n    }\n</style>\n<table border=\"1\" class=\"dataframe\">\n  <thead>\n    <tr style=\"text-align: right;\">\n      <th></th>\n      <th>Medal</th>\n      <th>Event</th>\n    </tr>\n    <tr>\n      <th>Athlete</th>\n      <th></th>\n      <th></th>\n    </tr>\n  </thead>\n  <tbody>\n    <tr>\n      <th>HAJOS, Alfred</th>\n      <td>Gold</td>\n      <td>100M Freestyle</td>\n    </tr>\n    <tr>\n      <th>HERSCHMANN, Otto</th>\n      <td>Silver</td>\n      <td>100M Freestyle</td>\n    </tr>\n    <tr>\n      <th>DRIVAS, Dimitrios</th>\n      <td>Bronze</td>\n      <td>100M Freestyle For Sailors</td>\n    </tr>\n    <tr>\n      <th>MALOKINIS, Ioannis</th>\n      <td>Gold</td>\n      <td>100M Freestyle For Sailors</td>\n    </tr>\n    <tr>\n      <th>CHASAPIS, Spiridon</th>\n      <td>Silver</td>\n      <td>100M Freestyle For Sailors</td>\n    </tr>\n    <tr>\n      <th>...</th>\n      <td>...</td>\n      <td>...</td>\n    </tr>\n    <tr>\n      <th>JANIKOWSKI, Damian</th>\n      <td>Bronze</td>\n      <td>Wg 84 KG</td>\n    </tr>\n    <tr>\n      <th>REZAEI, Ghasem Gholamreza</th>\n      <td>Gold</td>\n      <td>Wg 96 KG</td>\n    </tr>\n    <tr>\n      <th>TOTROV, Rustam</th>\n      <td>Silver</td>\n      <td>Wg 96 KG</td>\n    </tr>\n    <tr>\n      <th>ALEKSANYAN, Artur</th>\n      <td>Bronze</td>\n      <td>Wg 96 KG</td>\n    </tr>\n    <tr>\n      <th>LIDBERG, Jimmy</th>\n      <td>Bronze</td>\n      <td>Wg 96 KG</td>\n    </tr>\n  </tbody>\n</table>\n<p>31165 rows × 2 columns</p>\n</div>"
     },
     "execution_count": 44,
     "metadata": {},
     "output_type": "execute_result"
    }
   ],
   "source": [
    "summer.loc[:, ['Medal', 'Event']]"
   ],
   "metadata": {
    "collapsed": false,
    "pycharm": {
     "name": "#%%\n"
    }
   }
  },
  {
   "cell_type": "code",
   "execution_count": 45,
   "outputs": [
    {
     "data": {
      "text/plain": "                       Year    City     Sport Discipline Country Gender  \\\nAthlete                                                                   \nHAJOS, Alfred          1896  Athens  Aquatics   Swimming     HUN    Men   \nHERSCHMANN, Otto       1896  Athens  Aquatics   Swimming     AUT    Men   \nDRIVAS, Dimitrios      1896  Athens  Aquatics   Swimming     GRE    Men   \nMALOKINIS, Ioannis     1896  Athens  Aquatics   Swimming     GRE    Men   \nCHASAPIS, Spiridon     1896  Athens  Aquatics   Swimming     GRE    Men   \nCHOROPHAS, Efstathios  1896  Athens  Aquatics   Swimming     GRE    Men   \nHAJOS, Alfred          1896  Athens  Aquatics   Swimming     HUN    Men   \nANDREOU, Joannis       1896  Athens  Aquatics   Swimming     GRE    Men   \nCHOROPHAS, Efstathios  1896  Athens  Aquatics   Swimming     GRE    Men   \nNEUMANN, Paul          1896  Athens  Aquatics   Swimming     AUT    Men   \n\n                                            Event   Medal  \nAthlete                                                    \nHAJOS, Alfred                      100M Freestyle    Gold  \nHERSCHMANN, Otto                   100M Freestyle  Silver  \nDRIVAS, Dimitrios      100M Freestyle For Sailors  Bronze  \nMALOKINIS, Ioannis     100M Freestyle For Sailors    Gold  \nCHASAPIS, Spiridon     100M Freestyle For Sailors  Silver  \nCHOROPHAS, Efstathios             1200M Freestyle  Bronze  \nHAJOS, Alfred                     1200M Freestyle    Gold  \nANDREOU, Joannis                  1200M Freestyle  Silver  \nCHOROPHAS, Efstathios              400M Freestyle  Bronze  \nNEUMANN, Paul                      400M Freestyle    Gold  ",
      "text/html": "<div>\n<style scoped>\n    .dataframe tbody tr th:only-of-type {\n        vertical-align: middle;\n    }\n\n    .dataframe tbody tr th {\n        vertical-align: top;\n    }\n\n    .dataframe thead th {\n        text-align: right;\n    }\n</style>\n<table border=\"1\" class=\"dataframe\">\n  <thead>\n    <tr style=\"text-align: right;\">\n      <th></th>\n      <th>Year</th>\n      <th>City</th>\n      <th>Sport</th>\n      <th>Discipline</th>\n      <th>Country</th>\n      <th>Gender</th>\n      <th>Event</th>\n      <th>Medal</th>\n    </tr>\n    <tr>\n      <th>Athlete</th>\n      <th></th>\n      <th></th>\n      <th></th>\n      <th></th>\n      <th></th>\n      <th></th>\n      <th></th>\n      <th></th>\n    </tr>\n  </thead>\n  <tbody>\n    <tr>\n      <th>HAJOS, Alfred</th>\n      <td>1896</td>\n      <td>Athens</td>\n      <td>Aquatics</td>\n      <td>Swimming</td>\n      <td>HUN</td>\n      <td>Men</td>\n      <td>100M Freestyle</td>\n      <td>Gold</td>\n    </tr>\n    <tr>\n      <th>HERSCHMANN, Otto</th>\n      <td>1896</td>\n      <td>Athens</td>\n      <td>Aquatics</td>\n      <td>Swimming</td>\n      <td>AUT</td>\n      <td>Men</td>\n      <td>100M Freestyle</td>\n      <td>Silver</td>\n    </tr>\n    <tr>\n      <th>DRIVAS, Dimitrios</th>\n      <td>1896</td>\n      <td>Athens</td>\n      <td>Aquatics</td>\n      <td>Swimming</td>\n      <td>GRE</td>\n      <td>Men</td>\n      <td>100M Freestyle For Sailors</td>\n      <td>Bronze</td>\n    </tr>\n    <tr>\n      <th>MALOKINIS, Ioannis</th>\n      <td>1896</td>\n      <td>Athens</td>\n      <td>Aquatics</td>\n      <td>Swimming</td>\n      <td>GRE</td>\n      <td>Men</td>\n      <td>100M Freestyle For Sailors</td>\n      <td>Gold</td>\n    </tr>\n    <tr>\n      <th>CHASAPIS, Spiridon</th>\n      <td>1896</td>\n      <td>Athens</td>\n      <td>Aquatics</td>\n      <td>Swimming</td>\n      <td>GRE</td>\n      <td>Men</td>\n      <td>100M Freestyle For Sailors</td>\n      <td>Silver</td>\n    </tr>\n    <tr>\n      <th>CHOROPHAS, Efstathios</th>\n      <td>1896</td>\n      <td>Athens</td>\n      <td>Aquatics</td>\n      <td>Swimming</td>\n      <td>GRE</td>\n      <td>Men</td>\n      <td>1200M Freestyle</td>\n      <td>Bronze</td>\n    </tr>\n    <tr>\n      <th>HAJOS, Alfred</th>\n      <td>1896</td>\n      <td>Athens</td>\n      <td>Aquatics</td>\n      <td>Swimming</td>\n      <td>HUN</td>\n      <td>Men</td>\n      <td>1200M Freestyle</td>\n      <td>Gold</td>\n    </tr>\n    <tr>\n      <th>ANDREOU, Joannis</th>\n      <td>1896</td>\n      <td>Athens</td>\n      <td>Aquatics</td>\n      <td>Swimming</td>\n      <td>GRE</td>\n      <td>Men</td>\n      <td>1200M Freestyle</td>\n      <td>Silver</td>\n    </tr>\n    <tr>\n      <th>CHOROPHAS, Efstathios</th>\n      <td>1896</td>\n      <td>Athens</td>\n      <td>Aquatics</td>\n      <td>Swimming</td>\n      <td>GRE</td>\n      <td>Men</td>\n      <td>400M Freestyle</td>\n      <td>Bronze</td>\n    </tr>\n    <tr>\n      <th>NEUMANN, Paul</th>\n      <td>1896</td>\n      <td>Athens</td>\n      <td>Aquatics</td>\n      <td>Swimming</td>\n      <td>AUT</td>\n      <td>Men</td>\n      <td>400M Freestyle</td>\n      <td>Gold</td>\n    </tr>\n  </tbody>\n</table>\n</div>"
     },
     "execution_count": 45,
     "metadata": {},
     "output_type": "execute_result"
    }
   ],
   "source": [
    "summer.head(10)"
   ],
   "metadata": {
    "collapsed": false,
    "pycharm": {
     "name": "#%%\n"
    }
   }
  },
  {
   "cell_type": "code",
   "execution_count": 46,
   "outputs": [
    {
     "data": {
      "text/plain": "                    Year    City     Sport Discipline Country Gender  \\\nAthlete                                                                \nHAJOS, Alfred       1896  Athens  Aquatics   Swimming     HUN    Men   \nHERSCHMANN, Otto    1896  Athens  Aquatics   Swimming     AUT    Men   \nDRIVAS, Dimitrios   1896  Athens  Aquatics   Swimming     GRE    Men   \nMALOKINIS, Ioannis  1896  Athens  Aquatics   Swimming     GRE    Men   \nCHASAPIS, Spiridon  1896  Athens  Aquatics   Swimming     GRE    Men   \n\n                                         Event   Medal  \nAthlete                                                 \nHAJOS, Alfred                   100M Freestyle    Gold  \nHERSCHMANN, Otto                100M Freestyle  Silver  \nDRIVAS, Dimitrios   100M Freestyle For Sailors  Bronze  \nMALOKINIS, Ioannis  100M Freestyle For Sailors    Gold  \nCHASAPIS, Spiridon  100M Freestyle For Sailors  Silver  ",
      "text/html": "<div>\n<style scoped>\n    .dataframe tbody tr th:only-of-type {\n        vertical-align: middle;\n    }\n\n    .dataframe tbody tr th {\n        vertical-align: top;\n    }\n\n    .dataframe thead th {\n        text-align: right;\n    }\n</style>\n<table border=\"1\" class=\"dataframe\">\n  <thead>\n    <tr style=\"text-align: right;\">\n      <th></th>\n      <th>Year</th>\n      <th>City</th>\n      <th>Sport</th>\n      <th>Discipline</th>\n      <th>Country</th>\n      <th>Gender</th>\n      <th>Event</th>\n      <th>Medal</th>\n    </tr>\n    <tr>\n      <th>Athlete</th>\n      <th></th>\n      <th></th>\n      <th></th>\n      <th></th>\n      <th></th>\n      <th></th>\n      <th></th>\n      <th></th>\n    </tr>\n  </thead>\n  <tbody>\n    <tr>\n      <th>HAJOS, Alfred</th>\n      <td>1896</td>\n      <td>Athens</td>\n      <td>Aquatics</td>\n      <td>Swimming</td>\n      <td>HUN</td>\n      <td>Men</td>\n      <td>100M Freestyle</td>\n      <td>Gold</td>\n    </tr>\n    <tr>\n      <th>HERSCHMANN, Otto</th>\n      <td>1896</td>\n      <td>Athens</td>\n      <td>Aquatics</td>\n      <td>Swimming</td>\n      <td>AUT</td>\n      <td>Men</td>\n      <td>100M Freestyle</td>\n      <td>Silver</td>\n    </tr>\n    <tr>\n      <th>DRIVAS, Dimitrios</th>\n      <td>1896</td>\n      <td>Athens</td>\n      <td>Aquatics</td>\n      <td>Swimming</td>\n      <td>GRE</td>\n      <td>Men</td>\n      <td>100M Freestyle For Sailors</td>\n      <td>Bronze</td>\n    </tr>\n    <tr>\n      <th>MALOKINIS, Ioannis</th>\n      <td>1896</td>\n      <td>Athens</td>\n      <td>Aquatics</td>\n      <td>Swimming</td>\n      <td>GRE</td>\n      <td>Men</td>\n      <td>100M Freestyle For Sailors</td>\n      <td>Gold</td>\n    </tr>\n    <tr>\n      <th>CHASAPIS, Spiridon</th>\n      <td>1896</td>\n      <td>Athens</td>\n      <td>Aquatics</td>\n      <td>Swimming</td>\n      <td>GRE</td>\n      <td>Men</td>\n      <td>100M Freestyle For Sailors</td>\n      <td>Silver</td>\n    </tr>\n  </tbody>\n</table>\n</div>"
     },
     "execution_count": 46,
     "metadata": {},
     "output_type": "execute_result"
    }
   ],
   "source": [
    "summer.loc[:'CHASAPIS, Spiridon']"
   ],
   "metadata": {
    "collapsed": false,
    "pycharm": {
     "name": "#%%\n"
    }
   }
  },
  {
   "cell_type": "code",
   "execution_count": 47,
   "outputs": [],
   "source": [
    "# This errors because this index is not unique\n",
    "# summer.loc[:'PHELPS, Michael']"
   ],
   "metadata": {
    "collapsed": false,
    "pycharm": {
     "name": "#%%\n"
    }
   }
  },
  {
   "cell_type": "code",
   "execution_count": 48,
   "outputs": [
    {
     "data": {
      "text/plain": "                       Year    City      Sport Discipline Country Gender  \\\nAthlete                                                                    \nHAJOS, Alfred          1896  Athens   Aquatics   Swimming     HUN    Men   \nHERSCHMANN, Otto       1896  Athens   Aquatics   Swimming     AUT    Men   \nDRIVAS, Dimitrios      1896  Athens   Aquatics   Swimming     GRE    Men   \nMALOKINIS, Ioannis     1896  Athens   Aquatics   Swimming     GRE    Men   \nCHASAPIS, Spiridon     1896  Athens   Aquatics   Swimming     GRE    Men   \nCHOROPHAS, Efstathios  1896  Athens   Aquatics   Swimming     GRE    Men   \nHAJOS, Alfred          1896  Athens   Aquatics   Swimming     HUN    Men   \nANDREOU, Joannis       1896  Athens   Aquatics   Swimming     GRE    Men   \nCHOROPHAS, Efstathios  1896  Athens   Aquatics   Swimming     GRE    Men   \nNEUMANN, Paul          1896  Athens   Aquatics   Swimming     AUT    Men   \nPEPANOS, Antonios      1896  Athens   Aquatics   Swimming     GRE    Men   \nLANE, Francis          1896  Athens  Athletics  Athletics     USA    Men   \nSZOKOLYI, Alajos       1896  Athens  Athletics  Athletics     HUN    Men   \nBURKE, Thomas          1896  Athens  Athletics  Athletics     USA    Men   \nHOFMANN, Fritz         1896  Athens  Athletics  Athletics     GER    Men   \nCURTIS, Thomas         1896  Athens  Athletics  Athletics     USA    Men   \nGOULDING, Grantley     1896  Athens  Athletics  Athletics     GBR    Men   \nLERMUSIAUX, Albin      1896  Athens  Athletics  Athletics     FRA    Men   \nFLACK, Edwin           1896  Athens  Athletics  Athletics     AUS    Men   \nBLAKE, Arthur          1896  Athens  Athletics  Athletics     USA    Men   \n\n                                            Event   Medal  \nAthlete                                                    \nHAJOS, Alfred                      100M Freestyle    Gold  \nHERSCHMANN, Otto                   100M Freestyle  Silver  \nDRIVAS, Dimitrios      100M Freestyle For Sailors  Bronze  \nMALOKINIS, Ioannis     100M Freestyle For Sailors    Gold  \nCHASAPIS, Spiridon     100M Freestyle For Sailors  Silver  \nCHOROPHAS, Efstathios             1200M Freestyle  Bronze  \nHAJOS, Alfred                     1200M Freestyle    Gold  \nANDREOU, Joannis                  1200M Freestyle  Silver  \nCHOROPHAS, Efstathios              400M Freestyle  Bronze  \nNEUMANN, Paul                      400M Freestyle    Gold  \nPEPANOS, Antonios                  400M Freestyle  Silver  \nLANE, Francis                                100M  Bronze  \nSZOKOLYI, Alajos                             100M  Bronze  \nBURKE, Thomas                                100M    Gold  \nHOFMANN, Fritz                               100M  Silver  \nCURTIS, Thomas                       110M Hurdles    Gold  \nGOULDING, Grantley                   110M Hurdles  Silver  \nLERMUSIAUX, Albin                           1500M  Bronze  \nFLACK, Edwin                                1500M    Gold  \nBLAKE, Arthur                               1500M  Silver  ",
      "text/html": "<div>\n<style scoped>\n    .dataframe tbody tr th:only-of-type {\n        vertical-align: middle;\n    }\n\n    .dataframe tbody tr th {\n        vertical-align: top;\n    }\n\n    .dataframe thead th {\n        text-align: right;\n    }\n</style>\n<table border=\"1\" class=\"dataframe\">\n  <thead>\n    <tr style=\"text-align: right;\">\n      <th></th>\n      <th>Year</th>\n      <th>City</th>\n      <th>Sport</th>\n      <th>Discipline</th>\n      <th>Country</th>\n      <th>Gender</th>\n      <th>Event</th>\n      <th>Medal</th>\n    </tr>\n    <tr>\n      <th>Athlete</th>\n      <th></th>\n      <th></th>\n      <th></th>\n      <th></th>\n      <th></th>\n      <th></th>\n      <th></th>\n      <th></th>\n    </tr>\n  </thead>\n  <tbody>\n    <tr>\n      <th>HAJOS, Alfred</th>\n      <td>1896</td>\n      <td>Athens</td>\n      <td>Aquatics</td>\n      <td>Swimming</td>\n      <td>HUN</td>\n      <td>Men</td>\n      <td>100M Freestyle</td>\n      <td>Gold</td>\n    </tr>\n    <tr>\n      <th>HERSCHMANN, Otto</th>\n      <td>1896</td>\n      <td>Athens</td>\n      <td>Aquatics</td>\n      <td>Swimming</td>\n      <td>AUT</td>\n      <td>Men</td>\n      <td>100M Freestyle</td>\n      <td>Silver</td>\n    </tr>\n    <tr>\n      <th>DRIVAS, Dimitrios</th>\n      <td>1896</td>\n      <td>Athens</td>\n      <td>Aquatics</td>\n      <td>Swimming</td>\n      <td>GRE</td>\n      <td>Men</td>\n      <td>100M Freestyle For Sailors</td>\n      <td>Bronze</td>\n    </tr>\n    <tr>\n      <th>MALOKINIS, Ioannis</th>\n      <td>1896</td>\n      <td>Athens</td>\n      <td>Aquatics</td>\n      <td>Swimming</td>\n      <td>GRE</td>\n      <td>Men</td>\n      <td>100M Freestyle For Sailors</td>\n      <td>Gold</td>\n    </tr>\n    <tr>\n      <th>CHASAPIS, Spiridon</th>\n      <td>1896</td>\n      <td>Athens</td>\n      <td>Aquatics</td>\n      <td>Swimming</td>\n      <td>GRE</td>\n      <td>Men</td>\n      <td>100M Freestyle For Sailors</td>\n      <td>Silver</td>\n    </tr>\n    <tr>\n      <th>CHOROPHAS, Efstathios</th>\n      <td>1896</td>\n      <td>Athens</td>\n      <td>Aquatics</td>\n      <td>Swimming</td>\n      <td>GRE</td>\n      <td>Men</td>\n      <td>1200M Freestyle</td>\n      <td>Bronze</td>\n    </tr>\n    <tr>\n      <th>HAJOS, Alfred</th>\n      <td>1896</td>\n      <td>Athens</td>\n      <td>Aquatics</td>\n      <td>Swimming</td>\n      <td>HUN</td>\n      <td>Men</td>\n      <td>1200M Freestyle</td>\n      <td>Gold</td>\n    </tr>\n    <tr>\n      <th>ANDREOU, Joannis</th>\n      <td>1896</td>\n      <td>Athens</td>\n      <td>Aquatics</td>\n      <td>Swimming</td>\n      <td>GRE</td>\n      <td>Men</td>\n      <td>1200M Freestyle</td>\n      <td>Silver</td>\n    </tr>\n    <tr>\n      <th>CHOROPHAS, Efstathios</th>\n      <td>1896</td>\n      <td>Athens</td>\n      <td>Aquatics</td>\n      <td>Swimming</td>\n      <td>GRE</td>\n      <td>Men</td>\n      <td>400M Freestyle</td>\n      <td>Bronze</td>\n    </tr>\n    <tr>\n      <th>NEUMANN, Paul</th>\n      <td>1896</td>\n      <td>Athens</td>\n      <td>Aquatics</td>\n      <td>Swimming</td>\n      <td>AUT</td>\n      <td>Men</td>\n      <td>400M Freestyle</td>\n      <td>Gold</td>\n    </tr>\n    <tr>\n      <th>PEPANOS, Antonios</th>\n      <td>1896</td>\n      <td>Athens</td>\n      <td>Aquatics</td>\n      <td>Swimming</td>\n      <td>GRE</td>\n      <td>Men</td>\n      <td>400M Freestyle</td>\n      <td>Silver</td>\n    </tr>\n    <tr>\n      <th>LANE, Francis</th>\n      <td>1896</td>\n      <td>Athens</td>\n      <td>Athletics</td>\n      <td>Athletics</td>\n      <td>USA</td>\n      <td>Men</td>\n      <td>100M</td>\n      <td>Bronze</td>\n    </tr>\n    <tr>\n      <th>SZOKOLYI, Alajos</th>\n      <td>1896</td>\n      <td>Athens</td>\n      <td>Athletics</td>\n      <td>Athletics</td>\n      <td>HUN</td>\n      <td>Men</td>\n      <td>100M</td>\n      <td>Bronze</td>\n    </tr>\n    <tr>\n      <th>BURKE, Thomas</th>\n      <td>1896</td>\n      <td>Athens</td>\n      <td>Athletics</td>\n      <td>Athletics</td>\n      <td>USA</td>\n      <td>Men</td>\n      <td>100M</td>\n      <td>Gold</td>\n    </tr>\n    <tr>\n      <th>HOFMANN, Fritz</th>\n      <td>1896</td>\n      <td>Athens</td>\n      <td>Athletics</td>\n      <td>Athletics</td>\n      <td>GER</td>\n      <td>Men</td>\n      <td>100M</td>\n      <td>Silver</td>\n    </tr>\n    <tr>\n      <th>CURTIS, Thomas</th>\n      <td>1896</td>\n      <td>Athens</td>\n      <td>Athletics</td>\n      <td>Athletics</td>\n      <td>USA</td>\n      <td>Men</td>\n      <td>110M Hurdles</td>\n      <td>Gold</td>\n    </tr>\n    <tr>\n      <th>GOULDING, Grantley</th>\n      <td>1896</td>\n      <td>Athens</td>\n      <td>Athletics</td>\n      <td>Athletics</td>\n      <td>GBR</td>\n      <td>Men</td>\n      <td>110M Hurdles</td>\n      <td>Silver</td>\n    </tr>\n    <tr>\n      <th>LERMUSIAUX, Albin</th>\n      <td>1896</td>\n      <td>Athens</td>\n      <td>Athletics</td>\n      <td>Athletics</td>\n      <td>FRA</td>\n      <td>Men</td>\n      <td>1500M</td>\n      <td>Bronze</td>\n    </tr>\n    <tr>\n      <th>FLACK, Edwin</th>\n      <td>1896</td>\n      <td>Athens</td>\n      <td>Athletics</td>\n      <td>Athletics</td>\n      <td>AUS</td>\n      <td>Men</td>\n      <td>1500M</td>\n      <td>Gold</td>\n    </tr>\n    <tr>\n      <th>BLAKE, Arthur</th>\n      <td>1896</td>\n      <td>Athens</td>\n      <td>Athletics</td>\n      <td>Athletics</td>\n      <td>USA</td>\n      <td>Men</td>\n      <td>1500M</td>\n      <td>Silver</td>\n    </tr>\n  </tbody>\n</table>\n</div>"
     },
     "execution_count": 48,
     "metadata": {},
     "output_type": "execute_result"
    }
   ],
   "source": [
    "summer.head(20)"
   ],
   "metadata": {
    "collapsed": false,
    "pycharm": {
     "name": "#%%\n"
    }
   }
  },
  {
   "cell_type": "code",
   "execution_count": 49,
   "outputs": [
    {
     "data": {
      "text/plain": "                         City      Sport Discipline\nAthlete                                            \nDRIVAS, Dimitrios      Athens   Aquatics   Swimming\nMALOKINIS, Ioannis     Athens   Aquatics   Swimming\nCHASAPIS, Spiridon     Athens   Aquatics   Swimming\nCHOROPHAS, Efstathios  Athens   Aquatics   Swimming\nHAJOS, Alfred          Athens   Aquatics   Swimming\nANDREOU, Joannis       Athens   Aquatics   Swimming\nCHOROPHAS, Efstathios  Athens   Aquatics   Swimming\nNEUMANN, Paul          Athens   Aquatics   Swimming\nPEPANOS, Antonios      Athens   Aquatics   Swimming\nLANE, Francis          Athens  Athletics  Athletics\nSZOKOLYI, Alajos       Athens  Athletics  Athletics\nBURKE, Thomas          Athens  Athletics  Athletics\nHOFMANN, Fritz         Athens  Athletics  Athletics\nCURTIS, Thomas         Athens  Athletics  Athletics\nGOULDING, Grantley     Athens  Athletics  Athletics\nLERMUSIAUX, Albin      Athens  Athletics  Athletics\nFLACK, Edwin           Athens  Athletics  Athletics\nBLAKE, Arthur          Athens  Athletics  Athletics",
      "text/html": "<div>\n<style scoped>\n    .dataframe tbody tr th:only-of-type {\n        vertical-align: middle;\n    }\n\n    .dataframe tbody tr th {\n        vertical-align: top;\n    }\n\n    .dataframe thead th {\n        text-align: right;\n    }\n</style>\n<table border=\"1\" class=\"dataframe\">\n  <thead>\n    <tr style=\"text-align: right;\">\n      <th></th>\n      <th>City</th>\n      <th>Sport</th>\n      <th>Discipline</th>\n    </tr>\n    <tr>\n      <th>Athlete</th>\n      <th></th>\n      <th></th>\n      <th></th>\n    </tr>\n  </thead>\n  <tbody>\n    <tr>\n      <th>DRIVAS, Dimitrios</th>\n      <td>Athens</td>\n      <td>Aquatics</td>\n      <td>Swimming</td>\n    </tr>\n    <tr>\n      <th>MALOKINIS, Ioannis</th>\n      <td>Athens</td>\n      <td>Aquatics</td>\n      <td>Swimming</td>\n    </tr>\n    <tr>\n      <th>CHASAPIS, Spiridon</th>\n      <td>Athens</td>\n      <td>Aquatics</td>\n      <td>Swimming</td>\n    </tr>\n    <tr>\n      <th>CHOROPHAS, Efstathios</th>\n      <td>Athens</td>\n      <td>Aquatics</td>\n      <td>Swimming</td>\n    </tr>\n    <tr>\n      <th>HAJOS, Alfred</th>\n      <td>Athens</td>\n      <td>Aquatics</td>\n      <td>Swimming</td>\n    </tr>\n    <tr>\n      <th>ANDREOU, Joannis</th>\n      <td>Athens</td>\n      <td>Aquatics</td>\n      <td>Swimming</td>\n    </tr>\n    <tr>\n      <th>CHOROPHAS, Efstathios</th>\n      <td>Athens</td>\n      <td>Aquatics</td>\n      <td>Swimming</td>\n    </tr>\n    <tr>\n      <th>NEUMANN, Paul</th>\n      <td>Athens</td>\n      <td>Aquatics</td>\n      <td>Swimming</td>\n    </tr>\n    <tr>\n      <th>PEPANOS, Antonios</th>\n      <td>Athens</td>\n      <td>Aquatics</td>\n      <td>Swimming</td>\n    </tr>\n    <tr>\n      <th>LANE, Francis</th>\n      <td>Athens</td>\n      <td>Athletics</td>\n      <td>Athletics</td>\n    </tr>\n    <tr>\n      <th>SZOKOLYI, Alajos</th>\n      <td>Athens</td>\n      <td>Athletics</td>\n      <td>Athletics</td>\n    </tr>\n    <tr>\n      <th>BURKE, Thomas</th>\n      <td>Athens</td>\n      <td>Athletics</td>\n      <td>Athletics</td>\n    </tr>\n    <tr>\n      <th>HOFMANN, Fritz</th>\n      <td>Athens</td>\n      <td>Athletics</td>\n      <td>Athletics</td>\n    </tr>\n    <tr>\n      <th>CURTIS, Thomas</th>\n      <td>Athens</td>\n      <td>Athletics</td>\n      <td>Athletics</td>\n    </tr>\n    <tr>\n      <th>GOULDING, Grantley</th>\n      <td>Athens</td>\n      <td>Athletics</td>\n      <td>Athletics</td>\n    </tr>\n    <tr>\n      <th>LERMUSIAUX, Albin</th>\n      <td>Athens</td>\n      <td>Athletics</td>\n      <td>Athletics</td>\n    </tr>\n    <tr>\n      <th>FLACK, Edwin</th>\n      <td>Athens</td>\n      <td>Athletics</td>\n      <td>Athletics</td>\n    </tr>\n    <tr>\n      <th>BLAKE, Arthur</th>\n      <td>Athens</td>\n      <td>Athletics</td>\n      <td>Athletics</td>\n    </tr>\n  </tbody>\n</table>\n</div>"
     },
     "execution_count": 49,
     "metadata": {},
     "output_type": "execute_result"
    }
   ],
   "source": [
    "summer.loc['DRIVAS, Dimitrios':'BLAKE, Arthur', 'City':'Discipline']"
   ],
   "metadata": {
    "collapsed": false,
    "pycharm": {
     "name": "#%%\n"
    }
   }
  },
  {
   "cell_type": "markdown",
   "source": [
    "## Panda Series\n",
    "### First Steps"
   ],
   "metadata": {
    "collapsed": false,
    "pycharm": {
     "name": "#%% md\n"
    }
   }
  },
  {
   "cell_type": "code",
   "execution_count": 50,
   "outputs": [
    {
     "data": {
      "text/plain": "     survived  pclass     sex   age  sibsp  parch     fare embarked deck\n0           0       3    male  22.0      1      0   7.2500        S  NaN\n1           1       1  female  38.0      1      0  71.2833        C    C\n2           1       3  female  26.0      0      0   7.9250        S  NaN\n3           1       1  female  35.0      1      0  53.1000        S    C\n4           0       3    male  35.0      0      0   8.0500        S  NaN\n..        ...     ...     ...   ...    ...    ...      ...      ...  ...\n886         0       2    male  27.0      0      0  13.0000        S  NaN\n887         1       1  female  19.0      0      0  30.0000        S    B\n888         0       3  female   NaN      1      2  23.4500        S  NaN\n889         1       1    male  26.0      0      0  30.0000        C    C\n890         0       3    male  32.0      0      0   7.7500        Q  NaN\n\n[891 rows x 9 columns]",
      "text/html": "<div>\n<style scoped>\n    .dataframe tbody tr th:only-of-type {\n        vertical-align: middle;\n    }\n\n    .dataframe tbody tr th {\n        vertical-align: top;\n    }\n\n    .dataframe thead th {\n        text-align: right;\n    }\n</style>\n<table border=\"1\" class=\"dataframe\">\n  <thead>\n    <tr style=\"text-align: right;\">\n      <th></th>\n      <th>survived</th>\n      <th>pclass</th>\n      <th>sex</th>\n      <th>age</th>\n      <th>sibsp</th>\n      <th>parch</th>\n      <th>fare</th>\n      <th>embarked</th>\n      <th>deck</th>\n    </tr>\n  </thead>\n  <tbody>\n    <tr>\n      <th>0</th>\n      <td>0</td>\n      <td>3</td>\n      <td>male</td>\n      <td>22.0</td>\n      <td>1</td>\n      <td>0</td>\n      <td>7.2500</td>\n      <td>S</td>\n      <td>NaN</td>\n    </tr>\n    <tr>\n      <th>1</th>\n      <td>1</td>\n      <td>1</td>\n      <td>female</td>\n      <td>38.0</td>\n      <td>1</td>\n      <td>0</td>\n      <td>71.2833</td>\n      <td>C</td>\n      <td>C</td>\n    </tr>\n    <tr>\n      <th>2</th>\n      <td>1</td>\n      <td>3</td>\n      <td>female</td>\n      <td>26.0</td>\n      <td>0</td>\n      <td>0</td>\n      <td>7.9250</td>\n      <td>S</td>\n      <td>NaN</td>\n    </tr>\n    <tr>\n      <th>3</th>\n      <td>1</td>\n      <td>1</td>\n      <td>female</td>\n      <td>35.0</td>\n      <td>1</td>\n      <td>0</td>\n      <td>53.1000</td>\n      <td>S</td>\n      <td>C</td>\n    </tr>\n    <tr>\n      <th>4</th>\n      <td>0</td>\n      <td>3</td>\n      <td>male</td>\n      <td>35.0</td>\n      <td>0</td>\n      <td>0</td>\n      <td>8.0500</td>\n      <td>S</td>\n      <td>NaN</td>\n    </tr>\n    <tr>\n      <th>...</th>\n      <td>...</td>\n      <td>...</td>\n      <td>...</td>\n      <td>...</td>\n      <td>...</td>\n      <td>...</td>\n      <td>...</td>\n      <td>...</td>\n      <td>...</td>\n    </tr>\n    <tr>\n      <th>886</th>\n      <td>0</td>\n      <td>2</td>\n      <td>male</td>\n      <td>27.0</td>\n      <td>0</td>\n      <td>0</td>\n      <td>13.0000</td>\n      <td>S</td>\n      <td>NaN</td>\n    </tr>\n    <tr>\n      <th>887</th>\n      <td>1</td>\n      <td>1</td>\n      <td>female</td>\n      <td>19.0</td>\n      <td>0</td>\n      <td>0</td>\n      <td>30.0000</td>\n      <td>S</td>\n      <td>B</td>\n    </tr>\n    <tr>\n      <th>888</th>\n      <td>0</td>\n      <td>3</td>\n      <td>female</td>\n      <td>NaN</td>\n      <td>1</td>\n      <td>2</td>\n      <td>23.4500</td>\n      <td>S</td>\n      <td>NaN</td>\n    </tr>\n    <tr>\n      <th>889</th>\n      <td>1</td>\n      <td>1</td>\n      <td>male</td>\n      <td>26.0</td>\n      <td>0</td>\n      <td>0</td>\n      <td>30.0000</td>\n      <td>C</td>\n      <td>C</td>\n    </tr>\n    <tr>\n      <th>890</th>\n      <td>0</td>\n      <td>3</td>\n      <td>male</td>\n      <td>32.0</td>\n      <td>0</td>\n      <td>0</td>\n      <td>7.7500</td>\n      <td>Q</td>\n      <td>NaN</td>\n    </tr>\n  </tbody>\n</table>\n<p>891 rows × 9 columns</p>\n</div>"
     },
     "execution_count": 50,
     "metadata": {},
     "output_type": "execute_result"
    }
   ],
   "source": [
    "titanic = pd.read_csv('data/titanic.csv')\n",
    "titanic"
   ],
   "metadata": {
    "collapsed": false,
    "pycharm": {
     "name": "#%%\n"
    }
   }
  },
  {
   "cell_type": "code",
   "execution_count": 51,
   "outputs": [
    {
     "name": "stdout",
     "output_type": "stream",
     "text": [
      "<class 'pandas.core.frame.DataFrame'>\n",
      "RangeIndex: 891 entries, 0 to 890\n",
      "Data columns (total 9 columns):\n",
      " #   Column    Non-Null Count  Dtype  \n",
      "---  ------    --------------  -----  \n",
      " 0   survived  891 non-null    int64  \n",
      " 1   pclass    891 non-null    int64  \n",
      " 2   sex       891 non-null    object \n",
      " 3   age       714 non-null    float64\n",
      " 4   sibsp     891 non-null    int64  \n",
      " 5   parch     891 non-null    int64  \n",
      " 6   fare      891 non-null    float64\n",
      " 7   embarked  889 non-null    object \n",
      " 8   deck      203 non-null    object \n",
      "dtypes: float64(2), int64(4), object(3)\n",
      "memory usage: 62.8+ KB\n"
     ]
    }
   ],
   "source": [
    "titanic.info()"
   ],
   "metadata": {
    "collapsed": false,
    "pycharm": {
     "name": "#%%\n"
    }
   }
  },
  {
   "cell_type": "code",
   "execution_count": 52,
   "outputs": [
    {
     "data": {
      "text/plain": "0      22.0\n1      38.0\n2      26.0\n3      35.0\n4      35.0\n       ... \n886    27.0\n887    19.0\n888     NaN\n889    26.0\n890    32.0\nName: age, Length: 891, dtype: float64"
     },
     "execution_count": 52,
     "metadata": {},
     "output_type": "execute_result"
    }
   ],
   "source": [
    "titanic['age']"
   ],
   "metadata": {
    "collapsed": false,
    "pycharm": {
     "name": "#%%\n"
    }
   }
  },
  {
   "cell_type": "code",
   "execution_count": 53,
   "outputs": [
    {
     "data": {
      "text/plain": "pandas.core.series.Series"
     },
     "execution_count": 53,
     "metadata": {},
     "output_type": "execute_result"
    }
   ],
   "source": [
    "type(titanic.age)"
   ],
   "metadata": {
    "collapsed": false,
    "pycharm": {
     "name": "#%%\n"
    }
   }
  },
  {
   "cell_type": "code",
   "execution_count": 54,
   "outputs": [
    {
     "data": {
      "text/plain": "True"
     },
     "execution_count": 54,
     "metadata": {},
     "output_type": "execute_result"
    }
   ],
   "source": [
    "titanic['age'].equals(titanic.age)"
   ],
   "metadata": {
    "collapsed": false,
    "pycharm": {
     "name": "#%%\n"
    }
   }
  },
  {
   "cell_type": "code",
   "execution_count": 55,
   "outputs": [],
   "source": [
    "age = titanic['age']"
   ],
   "metadata": {
    "collapsed": false,
    "pycharm": {
     "name": "#%%\n"
    }
   }
  },
  {
   "cell_type": "code",
   "execution_count": 56,
   "outputs": [
    {
     "data": {
      "text/plain": "0    22.0\n1    38.0\n2    26.0\n3    35.0\n4    35.0\nName: age, dtype: float64"
     },
     "execution_count": 56,
     "metadata": {},
     "output_type": "execute_result"
    }
   ],
   "source": [
    "age.head()"
   ],
   "metadata": {
    "collapsed": false,
    "pycharm": {
     "name": "#%%\n"
    }
   }
  },
  {
   "cell_type": "code",
   "execution_count": 57,
   "outputs": [
    {
     "data": {
      "text/plain": "886    27.0\n887    19.0\n888     NaN\n889    26.0\n890    32.0\nName: age, dtype: float64"
     },
     "execution_count": 57,
     "metadata": {},
     "output_type": "execute_result"
    }
   ],
   "source": [
    "age.tail()"
   ],
   "metadata": {
    "collapsed": false,
    "pycharm": {
     "name": "#%%\n"
    }
   }
  },
  {
   "cell_type": "code",
   "execution_count": 58,
   "outputs": [
    {
     "data": {
      "text/plain": "dtype('float64')"
     },
     "execution_count": 58,
     "metadata": {},
     "output_type": "execute_result"
    }
   ],
   "source": [
    "age.dtype"
   ],
   "metadata": {
    "collapsed": false,
    "pycharm": {
     "name": "#%%\n"
    }
   }
  },
  {
   "cell_type": "code",
   "execution_count": 59,
   "outputs": [
    {
     "data": {
      "text/plain": "(891,)"
     },
     "execution_count": 59,
     "metadata": {},
     "output_type": "execute_result"
    }
   ],
   "source": [
    "age.shape"
   ],
   "metadata": {
    "collapsed": false,
    "pycharm": {
     "name": "#%%\n"
    }
   }
  },
  {
   "cell_type": "code",
   "execution_count": 60,
   "outputs": [
    {
     "data": {
      "text/plain": "891"
     },
     "execution_count": 60,
     "metadata": {},
     "output_type": "execute_result"
    }
   ],
   "source": [
    "len(age)"
   ],
   "metadata": {
    "collapsed": false,
    "pycharm": {
     "name": "#%%\n"
    }
   }
  },
  {
   "cell_type": "code",
   "execution_count": 61,
   "outputs": [
    {
     "data": {
      "text/plain": "RangeIndex(start=0, stop=891, step=1)"
     },
     "execution_count": 61,
     "metadata": {},
     "output_type": "execute_result"
    }
   ],
   "source": [
    "age.index"
   ],
   "metadata": {
    "collapsed": false,
    "pycharm": {
     "name": "#%%\n"
    }
   }
  },
  {
   "cell_type": "code",
   "execution_count": 62,
   "outputs": [],
   "source": [
    "# info not available on series\n",
    "# age.info()"
   ],
   "metadata": {
    "collapsed": false,
    "pycharm": {
     "name": "#%%\n"
    }
   }
  },
  {
   "cell_type": "code",
   "execution_count": 63,
   "outputs": [
    {
     "data": {
      "text/plain": "      age\n0    22.0\n1    38.0\n2    26.0\n3    35.0\n4    35.0\n..    ...\n886  27.0\n887  19.0\n888   NaN\n889  26.0\n890  32.0\n\n[891 rows x 1 columns]",
      "text/html": "<div>\n<style scoped>\n    .dataframe tbody tr th:only-of-type {\n        vertical-align: middle;\n    }\n\n    .dataframe tbody tr th {\n        vertical-align: top;\n    }\n\n    .dataframe thead th {\n        text-align: right;\n    }\n</style>\n<table border=\"1\" class=\"dataframe\">\n  <thead>\n    <tr style=\"text-align: right;\">\n      <th></th>\n      <th>age</th>\n    </tr>\n  </thead>\n  <tbody>\n    <tr>\n      <th>0</th>\n      <td>22.0</td>\n    </tr>\n    <tr>\n      <th>1</th>\n      <td>38.0</td>\n    </tr>\n    <tr>\n      <th>2</th>\n      <td>26.0</td>\n    </tr>\n    <tr>\n      <th>3</th>\n      <td>35.0</td>\n    </tr>\n    <tr>\n      <th>4</th>\n      <td>35.0</td>\n    </tr>\n    <tr>\n      <th>...</th>\n      <td>...</td>\n    </tr>\n    <tr>\n      <th>886</th>\n      <td>27.0</td>\n    </tr>\n    <tr>\n      <th>887</th>\n      <td>19.0</td>\n    </tr>\n    <tr>\n      <th>888</th>\n      <td>NaN</td>\n    </tr>\n    <tr>\n      <th>889</th>\n      <td>26.0</td>\n    </tr>\n    <tr>\n      <th>890</th>\n      <td>32.0</td>\n    </tr>\n  </tbody>\n</table>\n<p>891 rows × 1 columns</p>\n</div>"
     },
     "execution_count": 63,
     "metadata": {},
     "output_type": "execute_result"
    }
   ],
   "source": [
    "age.to_frame()"
   ],
   "metadata": {
    "collapsed": false,
    "pycharm": {
     "name": "#%%\n"
    }
   }
  },
  {
   "cell_type": "code",
   "execution_count": 64,
   "outputs": [
    {
     "name": "stdout",
     "output_type": "stream",
     "text": [
      "<class 'pandas.core.frame.DataFrame'>\n",
      "RangeIndex: 891 entries, 0 to 890\n",
      "Data columns (total 1 columns):\n",
      " #   Column  Non-Null Count  Dtype  \n",
      "---  ------  --------------  -----  \n",
      " 0   age     714 non-null    float64\n",
      "dtypes: float64(1)\n",
      "memory usage: 7.1 KB\n"
     ]
    }
   ],
   "source": [
    "age.to_frame().info()"
   ],
   "metadata": {
    "collapsed": false,
    "pycharm": {
     "name": "#%%\n"
    }
   }
  },
  {
   "cell_type": "markdown",
   "source": [
    "### Analyzing Numerical Series"
   ],
   "metadata": {
    "collapsed": false,
    "pycharm": {
     "name": "#%% md\n"
    }
   }
  },
  {
   "cell_type": "code",
   "execution_count": 65,
   "outputs": [
    {
     "data": {
      "text/plain": "0      22.0\n1      38.0\n2      26.0\n3      35.0\n4      35.0\n       ... \n886    27.0\n887    19.0\n888     NaN\n889    26.0\n890    32.0\nName: age, Length: 891, dtype: float64"
     },
     "execution_count": 65,
     "metadata": {},
     "output_type": "execute_result"
    }
   ],
   "source": [
    "age"
   ],
   "metadata": {
    "collapsed": false,
    "pycharm": {
     "name": "#%%\n"
    }
   }
  },
  {
   "cell_type": "code",
   "execution_count": 66,
   "outputs": [
    {
     "data": {
      "text/plain": "count    714.000000\nmean      29.699118\nstd       14.526497\nmin        0.420000\n25%       20.125000\n50%       28.000000\n75%       38.000000\nmax       80.000000\nName: age, dtype: float64"
     },
     "execution_count": 66,
     "metadata": {},
     "output_type": "execute_result"
    }
   ],
   "source": [
    "age.describe()"
   ],
   "metadata": {
    "collapsed": false,
    "pycharm": {
     "name": "#%%\n"
    }
   }
  },
  {
   "cell_type": "code",
   "execution_count": 67,
   "outputs": [
    {
     "data": {
      "text/plain": "714"
     },
     "execution_count": 67,
     "metadata": {},
     "output_type": "execute_result"
    }
   ],
   "source": [
    "age.count()"
   ],
   "metadata": {
    "collapsed": false,
    "pycharm": {
     "name": "#%%\n"
    }
   }
  },
  {
   "cell_type": "code",
   "execution_count": 68,
   "outputs": [
    {
     "data": {
      "text/plain": "891"
     },
     "execution_count": 68,
     "metadata": {},
     "output_type": "execute_result"
    }
   ],
   "source": [
    "age.size"
   ],
   "metadata": {
    "collapsed": false,
    "pycharm": {
     "name": "#%%\n"
    }
   }
  },
  {
   "cell_type": "code",
   "execution_count": 69,
   "outputs": [
    {
     "data": {
      "text/plain": "891"
     },
     "execution_count": 69,
     "metadata": {},
     "output_type": "execute_result"
    }
   ],
   "source": [
    "len(age)"
   ],
   "metadata": {
    "collapsed": false,
    "pycharm": {
     "name": "#%%\n"
    }
   }
  },
  {
   "cell_type": "code",
   "execution_count": 70,
   "outputs": [
    {
     "data": {
      "text/plain": "21205.17"
     },
     "execution_count": 70,
     "metadata": {},
     "output_type": "execute_result"
    }
   ],
   "source": [
    "# default parameter skipna = True\n",
    "age.sum()"
   ],
   "metadata": {
    "collapsed": false,
    "pycharm": {
     "name": "#%%\n"
    }
   }
  },
  {
   "cell_type": "code",
   "execution_count": 71,
   "outputs": [
    {
     "data": {
      "text/plain": "nan"
     },
     "execution_count": 71,
     "metadata": {},
     "output_type": "execute_result"
    }
   ],
   "source": [
    "sum(age)"
   ],
   "metadata": {
    "collapsed": false,
    "pycharm": {
     "name": "#%%\n"
    }
   }
  },
  {
   "cell_type": "code",
   "execution_count": 72,
   "outputs": [
    {
     "data": {
      "text/plain": "29.69911764705882"
     },
     "execution_count": 72,
     "metadata": {},
     "output_type": "execute_result"
    }
   ],
   "source": [
    "age.mean()"
   ],
   "metadata": {
    "collapsed": false,
    "pycharm": {
     "name": "#%%\n"
    }
   }
  },
  {
   "cell_type": "code",
   "execution_count": 73,
   "outputs": [
    {
     "data": {
      "text/plain": "28.0"
     },
     "execution_count": 73,
     "metadata": {},
     "output_type": "execute_result"
    }
   ],
   "source": [
    "age.median()"
   ],
   "metadata": {
    "collapsed": false,
    "pycharm": {
     "name": "#%%\n"
    }
   }
  },
  {
   "cell_type": "code",
   "execution_count": 74,
   "outputs": [
    {
     "data": {
      "text/plain": "14.526497332334044"
     },
     "execution_count": 74,
     "metadata": {},
     "output_type": "execute_result"
    }
   ],
   "source": [
    "age.std()"
   ],
   "metadata": {
    "collapsed": false,
    "pycharm": {
     "name": "#%%\n"
    }
   }
  },
  {
   "cell_type": "code",
   "execution_count": 75,
   "outputs": [
    {
     "data": {
      "text/plain": "0.42"
     },
     "execution_count": 75,
     "metadata": {},
     "output_type": "execute_result"
    }
   ],
   "source": [
    "age.min()"
   ],
   "metadata": {
    "collapsed": false,
    "pycharm": {
     "name": "#%%\n"
    }
   }
  },
  {
   "cell_type": "code",
   "execution_count": 76,
   "outputs": [
    {
     "data": {
      "text/plain": "80.0"
     },
     "execution_count": 76,
     "metadata": {},
     "output_type": "execute_result"
    }
   ],
   "source": [
    "age.max()"
   ],
   "metadata": {
    "collapsed": false,
    "pycharm": {
     "name": "#%%\n"
    }
   }
  },
  {
   "cell_type": "code",
   "execution_count": 77,
   "outputs": [
    {
     "data": {
      "text/plain": "array([22.  , 38.  , 26.  , 35.  ,   nan, 54.  ,  2.  , 27.  , 14.  ,\n        4.  , 58.  , 20.  , 39.  , 55.  , 31.  , 34.  , 15.  , 28.  ,\n        8.  , 19.  , 40.  , 66.  , 42.  , 21.  , 18.  ,  3.  ,  7.  ,\n       49.  , 29.  , 65.  , 28.5 ,  5.  , 11.  , 45.  , 17.  , 32.  ,\n       16.  , 25.  ,  0.83, 30.  , 33.  , 23.  , 24.  , 46.  , 59.  ,\n       71.  , 37.  , 47.  , 14.5 , 70.5 , 32.5 , 12.  ,  9.  , 36.5 ,\n       51.  , 55.5 , 40.5 , 44.  ,  1.  , 61.  , 56.  , 50.  , 36.  ,\n       45.5 , 20.5 , 62.  , 41.  , 52.  , 63.  , 23.5 ,  0.92, 43.  ,\n       60.  , 10.  , 64.  , 13.  , 48.  ,  0.75, 53.  , 57.  , 80.  ,\n       70.  , 24.5 ,  6.  ,  0.67, 30.5 ,  0.42, 34.5 , 74.  ])"
     },
     "execution_count": 77,
     "metadata": {},
     "output_type": "execute_result"
    }
   ],
   "source": [
    "age.unique()"
   ],
   "metadata": {
    "collapsed": false,
    "pycharm": {
     "name": "#%%\n"
    }
   }
  },
  {
   "cell_type": "code",
   "execution_count": 78,
   "outputs": [
    {
     "data": {
      "text/plain": "89"
     },
     "execution_count": 78,
     "metadata": {},
     "output_type": "execute_result"
    }
   ],
   "source": [
    "len(age.unique())"
   ],
   "metadata": {
    "collapsed": false,
    "pycharm": {
     "name": "#%%\n"
    }
   }
  },
  {
   "cell_type": "code",
   "execution_count": 79,
   "outputs": [
    {
     "data": {
      "text/plain": "88"
     },
     "execution_count": 79,
     "metadata": {},
     "output_type": "execute_result"
    }
   ],
   "source": [
    "age.nunique()"
   ],
   "metadata": {
    "collapsed": false,
    "pycharm": {
     "name": "#%%\n"
    }
   }
  },
  {
   "cell_type": "code",
   "execution_count": 80,
   "outputs": [
    {
     "data": {
      "text/plain": "24.00    30\n22.00    27\n18.00    26\n19.00    25\n28.00    25\n         ..\n36.50     1\n55.50     1\n0.92      1\n23.50     1\n74.00     1\nName: age, Length: 88, dtype: int64"
     },
     "execution_count": 80,
     "metadata": {},
     "output_type": "execute_result"
    }
   ],
   "source": [
    "age.value_counts()"
   ],
   "metadata": {
    "collapsed": false,
    "pycharm": {
     "name": "#%%\n"
    }
   }
  },
  {
   "cell_type": "code",
   "execution_count": 81,
   "outputs": [
    {
     "data": {
      "text/plain": "22.00    27\n38.00    11\n26.00    18\n35.00    18\n54.00     8\n         ..\n0.67      1\n30.50     2\n0.42      1\n34.50     1\n74.00     1\nName: age, Length: 88, dtype: int64"
     },
     "execution_count": 81,
     "metadata": {},
     "output_type": "execute_result"
    }
   ],
   "source": [
    "age.value_counts(sort=False)"
   ],
   "metadata": {
    "collapsed": false,
    "pycharm": {
     "name": "#%%\n"
    }
   }
  },
  {
   "cell_type": "code",
   "execution_count": 82,
   "outputs": [
    {
     "data": {
      "text/plain": "NaN      177\n24.00     30\n22.00     27\n18.00     26\n28.00     25\n        ... \n36.50      1\n55.50      1\n0.92       1\n23.50      1\n74.00      1\nName: age, Length: 89, dtype: int64"
     },
     "execution_count": 82,
     "metadata": {},
     "output_type": "execute_result"
    }
   ],
   "source": [
    "age.value_counts(dropna=False)"
   ],
   "metadata": {
    "collapsed": false,
    "pycharm": {
     "name": "#%%\n"
    }
   }
  },
  {
   "cell_type": "code",
   "execution_count": 83,
   "outputs": [
    {
     "data": {
      "text/plain": "74.0     1\n14.5     1\n70.5     1\n12.0     1\n36.5     1\n        ..\n30.0    25\n19.0    25\n18.0    26\n22.0    27\n24.0    30\nName: age, Length: 88, dtype: int64"
     },
     "execution_count": 83,
     "metadata": {},
     "output_type": "execute_result"
    }
   ],
   "source": [
    "age.value_counts(ascending=True)"
   ],
   "metadata": {
    "collapsed": false,
    "pycharm": {
     "name": "#%%\n"
    }
   }
  },
  {
   "cell_type": "code",
   "execution_count": 84,
   "outputs": [
    {
     "data": {
      "text/plain": "24.00    30\n22.00    27\n18.00    26\n19.00    25\n28.00    25\n         ..\n36.50     1\n55.50     1\n0.92      1\n23.50     1\n74.00     1\nName: age, Length: 88, dtype: int64"
     },
     "execution_count": 84,
     "metadata": {},
     "output_type": "execute_result"
    }
   ],
   "source": [
    "# Default Settings\n",
    "age.value_counts(sort=True, dropna=True, ascending=False, normalize=False)"
   ],
   "metadata": {
    "collapsed": false,
    "pycharm": {
     "name": "#%%\n"
    }
   }
  },
  {
   "cell_type": "code",
   "execution_count": 85,
   "outputs": [
    {
     "data": {
      "text/plain": "24.00    0.042017\n22.00    0.037815\n18.00    0.036415\n19.00    0.035014\n28.00    0.035014\n           ...   \n36.50    0.001401\n55.50    0.001401\n0.92     0.001401\n23.50    0.001401\n74.00    0.001401\nName: age, Length: 88, dtype: float64"
     },
     "execution_count": 85,
     "metadata": {},
     "output_type": "execute_result"
    }
   ],
   "source": [
    "age.value_counts(sort=True, dropna=True, ascending=False, normalize=True)"
   ],
   "metadata": {
    "collapsed": false,
    "pycharm": {
     "name": "#%%\n"
    }
   }
  },
  {
   "cell_type": "code",
   "execution_count": 86,
   "outputs": [
    {
     "data": {
      "text/plain": "0.04201680672268908"
     },
     "execution_count": 86,
     "metadata": {},
     "output_type": "execute_result"
    }
   ],
   "source": [
    "30/age.count()"
   ],
   "metadata": {
    "collapsed": false,
    "pycharm": {
     "name": "#%%\n"
    }
   }
  },
  {
   "cell_type": "code",
   "execution_count": 87,
   "outputs": [
    {
     "data": {
      "text/plain": "(16.336, 32.252]    346\n(32.252, 48.168]    188\n(0.339, 16.336]     100\n(48.168, 64.084]     69\n(64.084, 80.0]       11\nName: age, dtype: int64"
     },
     "execution_count": 87,
     "metadata": {},
     "output_type": "execute_result"
    }
   ],
   "source": [
    "age.value_counts(sort=True, dropna=True, ascending=False, normalize=False, bins=5)"
   ],
   "metadata": {
    "collapsed": false,
    "pycharm": {
     "name": "#%%\n"
    }
   }
  },
  {
   "cell_type": "markdown",
   "source": [
    "### Analyzing Non-numerical Series"
   ],
   "metadata": {
    "collapsed": false,
    "pycharm": {
     "name": "#%% md\n"
    }
   }
  },
  {
   "cell_type": "code",
   "execution_count": 88,
   "outputs": [
    {
     "data": {
      "text/plain": "   Year    City     Sport Discipline             Athlete Country Gender  \\\n0  1896  Athens  Aquatics   Swimming       HAJOS, Alfred     HUN    Men   \n1  1896  Athens  Aquatics   Swimming    HERSCHMANN, Otto     AUT    Men   \n2  1896  Athens  Aquatics   Swimming   DRIVAS, Dimitrios     GRE    Men   \n3  1896  Athens  Aquatics   Swimming  MALOKINIS, Ioannis     GRE    Men   \n4  1896  Athens  Aquatics   Swimming  CHASAPIS, Spiridon     GRE    Men   \n\n                        Event   Medal  \n0              100M Freestyle    Gold  \n1              100M Freestyle  Silver  \n2  100M Freestyle For Sailors  Bronze  \n3  100M Freestyle For Sailors    Gold  \n4  100M Freestyle For Sailors  Silver  ",
      "text/html": "<div>\n<style scoped>\n    .dataframe tbody tr th:only-of-type {\n        vertical-align: middle;\n    }\n\n    .dataframe tbody tr th {\n        vertical-align: top;\n    }\n\n    .dataframe thead th {\n        text-align: right;\n    }\n</style>\n<table border=\"1\" class=\"dataframe\">\n  <thead>\n    <tr style=\"text-align: right;\">\n      <th></th>\n      <th>Year</th>\n      <th>City</th>\n      <th>Sport</th>\n      <th>Discipline</th>\n      <th>Athlete</th>\n      <th>Country</th>\n      <th>Gender</th>\n      <th>Event</th>\n      <th>Medal</th>\n    </tr>\n  </thead>\n  <tbody>\n    <tr>\n      <th>0</th>\n      <td>1896</td>\n      <td>Athens</td>\n      <td>Aquatics</td>\n      <td>Swimming</td>\n      <td>HAJOS, Alfred</td>\n      <td>HUN</td>\n      <td>Men</td>\n      <td>100M Freestyle</td>\n      <td>Gold</td>\n    </tr>\n    <tr>\n      <th>1</th>\n      <td>1896</td>\n      <td>Athens</td>\n      <td>Aquatics</td>\n      <td>Swimming</td>\n      <td>HERSCHMANN, Otto</td>\n      <td>AUT</td>\n      <td>Men</td>\n      <td>100M Freestyle</td>\n      <td>Silver</td>\n    </tr>\n    <tr>\n      <th>2</th>\n      <td>1896</td>\n      <td>Athens</td>\n      <td>Aquatics</td>\n      <td>Swimming</td>\n      <td>DRIVAS, Dimitrios</td>\n      <td>GRE</td>\n      <td>Men</td>\n      <td>100M Freestyle For Sailors</td>\n      <td>Bronze</td>\n    </tr>\n    <tr>\n      <th>3</th>\n      <td>1896</td>\n      <td>Athens</td>\n      <td>Aquatics</td>\n      <td>Swimming</td>\n      <td>MALOKINIS, Ioannis</td>\n      <td>GRE</td>\n      <td>Men</td>\n      <td>100M Freestyle For Sailors</td>\n      <td>Gold</td>\n    </tr>\n    <tr>\n      <th>4</th>\n      <td>1896</td>\n      <td>Athens</td>\n      <td>Aquatics</td>\n      <td>Swimming</td>\n      <td>CHASAPIS, Spiridon</td>\n      <td>GRE</td>\n      <td>Men</td>\n      <td>100M Freestyle For Sailors</td>\n      <td>Silver</td>\n    </tr>\n  </tbody>\n</table>\n</div>"
     },
     "execution_count": 88,
     "metadata": {},
     "output_type": "execute_result"
    }
   ],
   "source": [
    "summer = pd.read_csv('data/summer.csv')\n",
    "summer.head()"
   ],
   "metadata": {
    "collapsed": false,
    "pycharm": {
     "name": "#%%\n"
    }
   }
  },
  {
   "cell_type": "code",
   "execution_count": 89,
   "outputs": [
    {
     "name": "stdout",
     "output_type": "stream",
     "text": [
      "<class 'pandas.core.frame.DataFrame'>\n",
      "RangeIndex: 31165 entries, 0 to 31164\n",
      "Data columns (total 9 columns):\n",
      " #   Column      Non-Null Count  Dtype \n",
      "---  ------      --------------  ----- \n",
      " 0   Year        31165 non-null  int64 \n",
      " 1   City        31165 non-null  object\n",
      " 2   Sport       31165 non-null  object\n",
      " 3   Discipline  31165 non-null  object\n",
      " 4   Athlete     31165 non-null  object\n",
      " 5   Country     31161 non-null  object\n",
      " 6   Gender      31165 non-null  object\n",
      " 7   Event       31165 non-null  object\n",
      " 8   Medal       31165 non-null  object\n",
      "dtypes: int64(1), object(8)\n",
      "memory usage: 2.1+ MB\n"
     ]
    }
   ],
   "source": [
    "summer.info()"
   ],
   "metadata": {
    "collapsed": false,
    "pycharm": {
     "name": "#%%\n"
    }
   }
  },
  {
   "cell_type": "code",
   "execution_count": 90,
   "outputs": [],
   "source": [
    "athlete = summer['Athlete']"
   ],
   "metadata": {
    "collapsed": false,
    "pycharm": {
     "name": "#%%\n"
    }
   }
  },
  {
   "cell_type": "code",
   "execution_count": 91,
   "outputs": [
    {
     "data": {
      "text/plain": "0         HAJOS, Alfred\n1      HERSCHMANN, Otto\n2     DRIVAS, Dimitrios\n3    MALOKINIS, Ioannis\n4    CHASAPIS, Spiridon\nName: Athlete, dtype: object"
     },
     "execution_count": 91,
     "metadata": {},
     "output_type": "execute_result"
    }
   ],
   "source": [
    "athlete.head()"
   ],
   "metadata": {
    "collapsed": false,
    "pycharm": {
     "name": "#%%\n"
    }
   }
  },
  {
   "cell_type": "code",
   "execution_count": 92,
   "outputs": [
    {
     "data": {
      "text/plain": "31160           JANIKOWSKI, Damian\n31161    REZAEI, Ghasem Gholamreza\n31162               TOTROV, Rustam\n31163            ALEKSANYAN, Artur\n31164               LIDBERG, Jimmy\nName: Athlete, dtype: object"
     },
     "execution_count": 92,
     "metadata": {},
     "output_type": "execute_result"
    }
   ],
   "source": [
    "athlete.tail(5)"
   ],
   "metadata": {
    "collapsed": false,
    "pycharm": {
     "name": "#%%\n"
    }
   }
  },
  {
   "cell_type": "code",
   "execution_count": 93,
   "outputs": [
    {
     "data": {
      "text/plain": "pandas.core.series.Series"
     },
     "execution_count": 93,
     "metadata": {},
     "output_type": "execute_result"
    }
   ],
   "source": [
    "type(athlete)"
   ],
   "metadata": {
    "collapsed": false,
    "pycharm": {
     "name": "#%%\n"
    }
   }
  },
  {
   "cell_type": "code",
   "execution_count": 94,
   "outputs": [
    {
     "data": {
      "text/plain": "dtype('O')"
     },
     "execution_count": 94,
     "metadata": {},
     "output_type": "execute_result"
    }
   ],
   "source": [
    "athlete.dtype"
   ],
   "metadata": {
    "collapsed": false,
    "pycharm": {
     "name": "#%%\n"
    }
   }
  },
  {
   "cell_type": "code",
   "execution_count": 95,
   "outputs": [
    {
     "data": {
      "text/plain": "(31165,)"
     },
     "execution_count": 95,
     "metadata": {},
     "output_type": "execute_result"
    }
   ],
   "source": [
    "athlete.shape"
   ],
   "metadata": {
    "collapsed": false,
    "pycharm": {
     "name": "#%%\n"
    }
   }
  },
  {
   "cell_type": "code",
   "execution_count": 96,
   "outputs": [
    {
     "data": {
      "text/plain": "count               31165\nunique              22762\ntop       PHELPS, Michael\nfreq                   22\nName: Athlete, dtype: object"
     },
     "execution_count": 96,
     "metadata": {},
     "output_type": "execute_result"
    }
   ],
   "source": [
    "athlete.describe()"
   ],
   "metadata": {
    "collapsed": false,
    "pycharm": {
     "name": "#%%\n"
    }
   }
  },
  {
   "cell_type": "code",
   "execution_count": 97,
   "outputs": [
    {
     "data": {
      "text/plain": "31165"
     },
     "execution_count": 97,
     "metadata": {},
     "output_type": "execute_result"
    }
   ],
   "source": [
    "athlete.size"
   ],
   "metadata": {
    "collapsed": false,
    "pycharm": {
     "name": "#%%\n"
    }
   }
  },
  {
   "cell_type": "code",
   "execution_count": 98,
   "outputs": [
    {
     "data": {
      "text/plain": "<bound method Series.count of 0                    HAJOS, Alfred\n1                 HERSCHMANN, Otto\n2                DRIVAS, Dimitrios\n3               MALOKINIS, Ioannis\n4               CHASAPIS, Spiridon\n                   ...            \n31160           JANIKOWSKI, Damian\n31161    REZAEI, Ghasem Gholamreza\n31162               TOTROV, Rustam\n31163            ALEKSANYAN, Artur\n31164               LIDBERG, Jimmy\nName: Athlete, Length: 31165, dtype: object>"
     },
     "execution_count": 98,
     "metadata": {},
     "output_type": "execute_result"
    }
   ],
   "source": [
    "athlete.count"
   ],
   "metadata": {
    "collapsed": false,
    "pycharm": {
     "name": "#%%\n"
    }
   }
  },
  {
   "cell_type": "code",
   "execution_count": 99,
   "outputs": [
    {
     "data": {
      "text/plain": "'AABYE, Edgar'"
     },
     "execution_count": 99,
     "metadata": {},
     "output_type": "execute_result"
    }
   ],
   "source": [
    "athlete.min()"
   ],
   "metadata": {
    "collapsed": false,
    "pycharm": {
     "name": "#%%\n"
    }
   }
  },
  {
   "cell_type": "code",
   "execution_count": 100,
   "outputs": [
    {
     "data": {
      "text/plain": "'ÖSTRAND, Per-Olof'"
     },
     "execution_count": 100,
     "metadata": {},
     "output_type": "execute_result"
    }
   ],
   "source": [
    "athlete.max()"
   ],
   "metadata": {
    "collapsed": false,
    "pycharm": {
     "name": "#%%\n"
    }
   }
  },
  {
   "cell_type": "code",
   "execution_count": 101,
   "outputs": [
    {
     "data": {
      "text/plain": "array(['HAJOS, Alfred', 'HERSCHMANN, Otto', 'DRIVAS, Dimitrios', ...,\n       'TOTROV, Rustam', 'ALEKSANYAN, Artur', 'LIDBERG, Jimmy'],\n      dtype=object)"
     },
     "execution_count": 101,
     "metadata": {},
     "output_type": "execute_result"
    }
   ],
   "source": [
    "athlete.unique()"
   ],
   "metadata": {
    "collapsed": false,
    "pycharm": {
     "name": "#%%\n"
    }
   }
  },
  {
   "cell_type": "code",
   "execution_count": 102,
   "outputs": [
    {
     "data": {
      "text/plain": "22762"
     },
     "execution_count": 102,
     "metadata": {},
     "output_type": "execute_result"
    }
   ],
   "source": [
    "athlete.nunique()"
   ],
   "metadata": {
    "collapsed": false,
    "pycharm": {
     "name": "#%%\n"
    }
   }
  },
  {
   "cell_type": "code",
   "execution_count": 103,
   "outputs": [
    {
     "data": {
      "text/plain": "PHELPS, Michael          22\nLATYNINA, Larisa         18\nANDRIANOV, Nikolay       15\nONO, Takashi             13\nMANGIAROTTI, Edoardo     13\n                         ..\nZAKA, Uddin               1\nZAFAR, Hayat              1\nMUHAMMAD, Rashid          1\nMANNA, Muhammad Afzal     1\nLIDBERG, Jimmy            1\nName: Athlete, Length: 22762, dtype: int64"
     },
     "execution_count": 103,
     "metadata": {},
     "output_type": "execute_result"
    }
   ],
   "source": [
    "athlete.value_counts()"
   ],
   "metadata": {
    "collapsed": false,
    "pycharm": {
     "name": "#%%\n"
    }
   }
  },
  {
   "cell_type": "code",
   "execution_count": 104,
   "outputs": [
    {
     "data": {
      "text/plain": "UDVARDI, Istvan        1\nLIM, Jin-Suk           1\nLEE, Sang-Hyo          1\nKOH, Suk-Chang         1\nKIM, Jae-Hwan          1\n                      ..\nONO, Takashi          13\nSHAKHLIN, Boris       13\nANDRIANOV, Nikolay    15\nLATYNINA, Larisa      18\nPHELPS, Michael       22\nName: Athlete, Length: 22762, dtype: int64"
     },
     "execution_count": 104,
     "metadata": {},
     "output_type": "execute_result"
    }
   ],
   "source": [
    "athlete.value_counts(sort=True, ascending=True)"
   ],
   "metadata": {
    "collapsed": false,
    "pycharm": {
     "name": "#%%\n"
    }
   }
  },
  {
   "cell_type": "code",
   "execution_count": 105,
   "outputs": [
    {
     "data": {
      "text/plain": "PHELPS, Michael         0.000706\nLATYNINA, Larisa        0.000578\nANDRIANOV, Nikolay      0.000481\nONO, Takashi            0.000417\nMANGIAROTTI, Edoardo    0.000417\nName: Athlete, dtype: float64"
     },
     "execution_count": 105,
     "metadata": {},
     "output_type": "execute_result"
    }
   ],
   "source": [
    "athlete.value_counts(sort=True, ascending=False, normalize=True).head()"
   ],
   "metadata": {
    "collapsed": false,
    "pycharm": {
     "name": "#%%\n"
    }
   }
  },
  {
   "cell_type": "markdown",
   "source": [
    "### The copy() Method"
   ],
   "metadata": {
    "collapsed": false,
    "pycharm": {
     "name": "#%% md\n"
    }
   }
  },
  {
   "cell_type": "code",
   "execution_count": 106,
   "outputs": [],
   "source": [
    "titanic = pd.read_csv('data/titanic.csv')"
   ],
   "metadata": {
    "collapsed": false,
    "pycharm": {
     "name": "#%%\n"
    }
   }
  },
  {
   "cell_type": "code",
   "execution_count": 107,
   "outputs": [
    {
     "data": {
      "text/plain": "   survived  pclass     sex   age  sibsp  parch     fare embarked deck\n0         0       3    male  22.0      1      0   7.2500        S  NaN\n1         1       1  female  38.0      1      0  71.2833        C    C\n2         1       3  female  26.0      0      0   7.9250        S  NaN\n3         1       1  female  35.0      1      0  53.1000        S    C\n4         0       3    male  35.0      0      0   8.0500        S  NaN",
      "text/html": "<div>\n<style scoped>\n    .dataframe tbody tr th:only-of-type {\n        vertical-align: middle;\n    }\n\n    .dataframe tbody tr th {\n        vertical-align: top;\n    }\n\n    .dataframe thead th {\n        text-align: right;\n    }\n</style>\n<table border=\"1\" class=\"dataframe\">\n  <thead>\n    <tr style=\"text-align: right;\">\n      <th></th>\n      <th>survived</th>\n      <th>pclass</th>\n      <th>sex</th>\n      <th>age</th>\n      <th>sibsp</th>\n      <th>parch</th>\n      <th>fare</th>\n      <th>embarked</th>\n      <th>deck</th>\n    </tr>\n  </thead>\n  <tbody>\n    <tr>\n      <th>0</th>\n      <td>0</td>\n      <td>3</td>\n      <td>male</td>\n      <td>22.0</td>\n      <td>1</td>\n      <td>0</td>\n      <td>7.2500</td>\n      <td>S</td>\n      <td>NaN</td>\n    </tr>\n    <tr>\n      <th>1</th>\n      <td>1</td>\n      <td>1</td>\n      <td>female</td>\n      <td>38.0</td>\n      <td>1</td>\n      <td>0</td>\n      <td>71.2833</td>\n      <td>C</td>\n      <td>C</td>\n    </tr>\n    <tr>\n      <th>2</th>\n      <td>1</td>\n      <td>3</td>\n      <td>female</td>\n      <td>26.0</td>\n      <td>0</td>\n      <td>0</td>\n      <td>7.9250</td>\n      <td>S</td>\n      <td>NaN</td>\n    </tr>\n    <tr>\n      <th>3</th>\n      <td>1</td>\n      <td>1</td>\n      <td>female</td>\n      <td>35.0</td>\n      <td>1</td>\n      <td>0</td>\n      <td>53.1000</td>\n      <td>S</td>\n      <td>C</td>\n    </tr>\n    <tr>\n      <th>4</th>\n      <td>0</td>\n      <td>3</td>\n      <td>male</td>\n      <td>35.0</td>\n      <td>0</td>\n      <td>0</td>\n      <td>8.0500</td>\n      <td>S</td>\n      <td>NaN</td>\n    </tr>\n  </tbody>\n</table>\n</div>"
     },
     "execution_count": 107,
     "metadata": {},
     "output_type": "execute_result"
    }
   ],
   "source": [
    "titanic.head()"
   ],
   "metadata": {
    "collapsed": false,
    "pycharm": {
     "name": "#%%\n"
    }
   }
  },
  {
   "cell_type": "code",
   "execution_count": 108,
   "outputs": [],
   "source": [
    "age = titanic.age"
   ],
   "metadata": {
    "collapsed": false,
    "pycharm": {
     "name": "#%%\n"
    }
   }
  },
  {
   "cell_type": "code",
   "execution_count": 109,
   "outputs": [
    {
     "data": {
      "text/plain": "0    22.0\n1    38.0\n2    26.0\n3    35.0\n4    35.0\nName: age, dtype: float64"
     },
     "execution_count": 109,
     "metadata": {},
     "output_type": "execute_result"
    }
   ],
   "source": [
    "age.head()"
   ],
   "metadata": {
    "collapsed": false,
    "pycharm": {
     "name": "#%%\n"
    }
   }
  },
  {
   "cell_type": "code",
   "execution_count": 110,
   "outputs": [
    {
     "name": "stderr",
     "output_type": "stream",
     "text": [
      "C:\\Users\\xjayc\\anaconda3\\envs\\c964\\lib\\site-packages\\pandas\\core\\indexing.py:1732: SettingWithCopyWarning: \n",
      "A value is trying to be set on a copy of a slice from a DataFrame\n",
      "\n",
      "See the caveats in the documentation: https://pandas.pydata.org/pandas-docs/stable/user_guide/indexing.html#returning-a-view-versus-a-copy\n",
      "  self._setitem_single_block(indexer, value, name)\n"
     ]
    }
   ],
   "source": [
    "# mutates dataframe\n",
    "age.iloc[2] = 29"
   ],
   "metadata": {
    "collapsed": false,
    "pycharm": {
     "name": "#%%\n"
    }
   }
  },
  {
   "cell_type": "code",
   "execution_count": 111,
   "outputs": [
    {
     "data": {
      "text/plain": "0    22.0\n1    38.0\n2    29.0\n3    35.0\n4    35.0\nName: age, dtype: float64"
     },
     "execution_count": 111,
     "metadata": {},
     "output_type": "execute_result"
    }
   ],
   "source": [
    "age.head()"
   ],
   "metadata": {
    "collapsed": false,
    "pycharm": {
     "name": "#%%\n"
    }
   }
  },
  {
   "cell_type": "code",
   "execution_count": 112,
   "outputs": [
    {
     "data": {
      "text/plain": "   survived  pclass     sex   age  sibsp  parch     fare embarked deck\n0         0       3    male  22.0      1      0   7.2500        S  NaN\n1         1       1  female  38.0      1      0  71.2833        C    C\n2         1       3  female  29.0      0      0   7.9250        S  NaN\n3         1       1  female  35.0      1      0  53.1000        S    C\n4         0       3    male  35.0      0      0   8.0500        S  NaN",
      "text/html": "<div>\n<style scoped>\n    .dataframe tbody tr th:only-of-type {\n        vertical-align: middle;\n    }\n\n    .dataframe tbody tr th {\n        vertical-align: top;\n    }\n\n    .dataframe thead th {\n        text-align: right;\n    }\n</style>\n<table border=\"1\" class=\"dataframe\">\n  <thead>\n    <tr style=\"text-align: right;\">\n      <th></th>\n      <th>survived</th>\n      <th>pclass</th>\n      <th>sex</th>\n      <th>age</th>\n      <th>sibsp</th>\n      <th>parch</th>\n      <th>fare</th>\n      <th>embarked</th>\n      <th>deck</th>\n    </tr>\n  </thead>\n  <tbody>\n    <tr>\n      <th>0</th>\n      <td>0</td>\n      <td>3</td>\n      <td>male</td>\n      <td>22.0</td>\n      <td>1</td>\n      <td>0</td>\n      <td>7.2500</td>\n      <td>S</td>\n      <td>NaN</td>\n    </tr>\n    <tr>\n      <th>1</th>\n      <td>1</td>\n      <td>1</td>\n      <td>female</td>\n      <td>38.0</td>\n      <td>1</td>\n      <td>0</td>\n      <td>71.2833</td>\n      <td>C</td>\n      <td>C</td>\n    </tr>\n    <tr>\n      <th>2</th>\n      <td>1</td>\n      <td>3</td>\n      <td>female</td>\n      <td>29.0</td>\n      <td>0</td>\n      <td>0</td>\n      <td>7.9250</td>\n      <td>S</td>\n      <td>NaN</td>\n    </tr>\n    <tr>\n      <th>3</th>\n      <td>1</td>\n      <td>1</td>\n      <td>female</td>\n      <td>35.0</td>\n      <td>1</td>\n      <td>0</td>\n      <td>53.1000</td>\n      <td>S</td>\n      <td>C</td>\n    </tr>\n    <tr>\n      <th>4</th>\n      <td>0</td>\n      <td>3</td>\n      <td>male</td>\n      <td>35.0</td>\n      <td>0</td>\n      <td>0</td>\n      <td>8.0500</td>\n      <td>S</td>\n      <td>NaN</td>\n    </tr>\n  </tbody>\n</table>\n</div>"
     },
     "execution_count": 112,
     "metadata": {},
     "output_type": "execute_result"
    }
   ],
   "source": [
    "titanic.head()"
   ],
   "metadata": {
    "collapsed": false,
    "pycharm": {
     "name": "#%%\n"
    }
   }
  },
  {
   "cell_type": "code",
   "execution_count": 113,
   "outputs": [],
   "source": [
    "titanic = pd.read_csv('data/titanic.csv')"
   ],
   "metadata": {
    "collapsed": false,
    "pycharm": {
     "name": "#%%\n"
    }
   }
  },
  {
   "cell_type": "code",
   "execution_count": 114,
   "outputs": [
    {
     "data": {
      "text/plain": "   survived  pclass     sex   age  sibsp  parch     fare embarked deck\n0         0       3    male  22.0      1      0   7.2500        S  NaN\n1         1       1  female  38.0      1      0  71.2833        C    C\n2         1       3  female  26.0      0      0   7.9250        S  NaN\n3         1       1  female  35.0      1      0  53.1000        S    C\n4         0       3    male  35.0      0      0   8.0500        S  NaN",
      "text/html": "<div>\n<style scoped>\n    .dataframe tbody tr th:only-of-type {\n        vertical-align: middle;\n    }\n\n    .dataframe tbody tr th {\n        vertical-align: top;\n    }\n\n    .dataframe thead th {\n        text-align: right;\n    }\n</style>\n<table border=\"1\" class=\"dataframe\">\n  <thead>\n    <tr style=\"text-align: right;\">\n      <th></th>\n      <th>survived</th>\n      <th>pclass</th>\n      <th>sex</th>\n      <th>age</th>\n      <th>sibsp</th>\n      <th>parch</th>\n      <th>fare</th>\n      <th>embarked</th>\n      <th>deck</th>\n    </tr>\n  </thead>\n  <tbody>\n    <tr>\n      <th>0</th>\n      <td>0</td>\n      <td>3</td>\n      <td>male</td>\n      <td>22.0</td>\n      <td>1</td>\n      <td>0</td>\n      <td>7.2500</td>\n      <td>S</td>\n      <td>NaN</td>\n    </tr>\n    <tr>\n      <th>1</th>\n      <td>1</td>\n      <td>1</td>\n      <td>female</td>\n      <td>38.0</td>\n      <td>1</td>\n      <td>0</td>\n      <td>71.2833</td>\n      <td>C</td>\n      <td>C</td>\n    </tr>\n    <tr>\n      <th>2</th>\n      <td>1</td>\n      <td>3</td>\n      <td>female</td>\n      <td>26.0</td>\n      <td>0</td>\n      <td>0</td>\n      <td>7.9250</td>\n      <td>S</td>\n      <td>NaN</td>\n    </tr>\n    <tr>\n      <th>3</th>\n      <td>1</td>\n      <td>1</td>\n      <td>female</td>\n      <td>35.0</td>\n      <td>1</td>\n      <td>0</td>\n      <td>53.1000</td>\n      <td>S</td>\n      <td>C</td>\n    </tr>\n    <tr>\n      <th>4</th>\n      <td>0</td>\n      <td>3</td>\n      <td>male</td>\n      <td>35.0</td>\n      <td>0</td>\n      <td>0</td>\n      <td>8.0500</td>\n      <td>S</td>\n      <td>NaN</td>\n    </tr>\n  </tbody>\n</table>\n</div>"
     },
     "execution_count": 114,
     "metadata": {},
     "output_type": "execute_result"
    }
   ],
   "source": [
    "titanic.head()"
   ],
   "metadata": {
    "collapsed": false,
    "pycharm": {
     "name": "#%%\n"
    }
   }
  },
  {
   "cell_type": "code",
   "execution_count": 115,
   "outputs": [],
   "source": [
    "age = titanic.age.copy()"
   ],
   "metadata": {
    "collapsed": false,
    "pycharm": {
     "name": "#%%\n"
    }
   }
  },
  {
   "cell_type": "code",
   "execution_count": 116,
   "outputs": [
    {
     "data": {
      "text/plain": "0    22.0\n1    38.0\n2    26.0\n3    35.0\n4    35.0\nName: age, dtype: float64"
     },
     "execution_count": 116,
     "metadata": {},
     "output_type": "execute_result"
    }
   ],
   "source": [
    "age.head()"
   ],
   "metadata": {
    "collapsed": false,
    "pycharm": {
     "name": "#%%\n"
    }
   }
  },
  {
   "cell_type": "code",
   "execution_count": 117,
   "outputs": [],
   "source": [
    "age.iloc[2] = 29"
   ],
   "metadata": {
    "collapsed": false,
    "pycharm": {
     "name": "#%%\n"
    }
   }
  },
  {
   "cell_type": "code",
   "execution_count": 118,
   "outputs": [
    {
     "data": {
      "text/plain": "0    22.0\n1    38.0\n2    29.0\n3    35.0\n4    35.0\nName: age, dtype: float64"
     },
     "execution_count": 118,
     "metadata": {},
     "output_type": "execute_result"
    }
   ],
   "source": [
    "age.head()"
   ],
   "metadata": {
    "collapsed": false,
    "pycharm": {
     "name": "#%%\n"
    }
   }
  },
  {
   "cell_type": "code",
   "execution_count": 119,
   "outputs": [
    {
     "data": {
      "text/plain": "   survived  pclass     sex   age  sibsp  parch     fare embarked deck\n0         0       3    male  22.0      1      0   7.2500        S  NaN\n1         1       1  female  38.0      1      0  71.2833        C    C\n2         1       3  female  26.0      0      0   7.9250        S  NaN\n3         1       1  female  35.0      1      0  53.1000        S    C\n4         0       3    male  35.0      0      0   8.0500        S  NaN",
      "text/html": "<div>\n<style scoped>\n    .dataframe tbody tr th:only-of-type {\n        vertical-align: middle;\n    }\n\n    .dataframe tbody tr th {\n        vertical-align: top;\n    }\n\n    .dataframe thead th {\n        text-align: right;\n    }\n</style>\n<table border=\"1\" class=\"dataframe\">\n  <thead>\n    <tr style=\"text-align: right;\">\n      <th></th>\n      <th>survived</th>\n      <th>pclass</th>\n      <th>sex</th>\n      <th>age</th>\n      <th>sibsp</th>\n      <th>parch</th>\n      <th>fare</th>\n      <th>embarked</th>\n      <th>deck</th>\n    </tr>\n  </thead>\n  <tbody>\n    <tr>\n      <th>0</th>\n      <td>0</td>\n      <td>3</td>\n      <td>male</td>\n      <td>22.0</td>\n      <td>1</td>\n      <td>0</td>\n      <td>7.2500</td>\n      <td>S</td>\n      <td>NaN</td>\n    </tr>\n    <tr>\n      <th>1</th>\n      <td>1</td>\n      <td>1</td>\n      <td>female</td>\n      <td>38.0</td>\n      <td>1</td>\n      <td>0</td>\n      <td>71.2833</td>\n      <td>C</td>\n      <td>C</td>\n    </tr>\n    <tr>\n      <th>2</th>\n      <td>1</td>\n      <td>3</td>\n      <td>female</td>\n      <td>26.0</td>\n      <td>0</td>\n      <td>0</td>\n      <td>7.9250</td>\n      <td>S</td>\n      <td>NaN</td>\n    </tr>\n    <tr>\n      <th>3</th>\n      <td>1</td>\n      <td>1</td>\n      <td>female</td>\n      <td>35.0</td>\n      <td>1</td>\n      <td>0</td>\n      <td>53.1000</td>\n      <td>S</td>\n      <td>C</td>\n    </tr>\n    <tr>\n      <th>4</th>\n      <td>0</td>\n      <td>3</td>\n      <td>male</td>\n      <td>35.0</td>\n      <td>0</td>\n      <td>0</td>\n      <td>8.0500</td>\n      <td>S</td>\n      <td>NaN</td>\n    </tr>\n  </tbody>\n</table>\n</div>"
     },
     "execution_count": 119,
     "metadata": {},
     "output_type": "execute_result"
    }
   ],
   "source": [
    "titanic.head()"
   ],
   "metadata": {
    "collapsed": false,
    "pycharm": {
     "name": "#%%\n"
    }
   }
  },
  {
   "cell_type": "markdown",
   "source": [
    "### Sorthing and the inplace parameter"
   ],
   "metadata": {
    "collapsed": false,
    "pycharm": {
     "name": "#%% md\n"
    }
   }
  },
  {
   "cell_type": "code",
   "execution_count": 120,
   "outputs": [
    {
     "data": {
      "text/plain": "{1: 10, 3: 25, 2: 6, 4: 36, 5: 2, 6: 0, 7: None}"
     },
     "execution_count": 120,
     "metadata": {},
     "output_type": "execute_result"
    }
   ],
   "source": [
    "dic = {1:10, 3:25, 2:6, 4:36, 5:2, 6:0, 7:None}\n",
    "dic"
   ],
   "metadata": {
    "collapsed": false,
    "pycharm": {
     "name": "#%%\n"
    }
   }
  },
  {
   "cell_type": "code",
   "execution_count": 121,
   "outputs": [
    {
     "data": {
      "text/plain": "1    10.0\n3    25.0\n2     6.0\n4    36.0\n5     2.0\n6     0.0\n7     NaN\ndtype: float64"
     },
     "execution_count": 121,
     "metadata": {},
     "output_type": "execute_result"
    }
   ],
   "source": [
    "sales = pd.Series(dic)\n",
    "sales"
   ],
   "metadata": {
    "collapsed": false,
    "pycharm": {
     "name": "#%%\n"
    }
   }
  },
  {
   "cell_type": "code",
   "execution_count": 122,
   "outputs": [
    {
     "data": {
      "text/plain": "1    10.0\n2     6.0\n3    25.0\n4    36.0\n5     2.0\n6     0.0\n7     NaN\ndtype: float64"
     },
     "execution_count": 122,
     "metadata": {},
     "output_type": "execute_result"
    }
   ],
   "source": [
    "sales.sort_index()"
   ],
   "metadata": {
    "collapsed": false,
    "pycharm": {
     "name": "#%%\n"
    }
   }
  },
  {
   "cell_type": "code",
   "execution_count": 123,
   "outputs": [
    {
     "data": {
      "text/plain": "7     NaN\n6     0.0\n5     2.0\n4    36.0\n3    25.0\n2     6.0\n1    10.0\ndtype: float64"
     },
     "execution_count": 123,
     "metadata": {},
     "output_type": "execute_result"
    }
   ],
   "source": [
    "sales.sort_index(ascending=False)"
   ],
   "metadata": {
    "collapsed": false,
    "pycharm": {
     "name": "#%%\n"
    }
   }
  },
  {
   "cell_type": "code",
   "execution_count": 124,
   "outputs": [
    {
     "data": {
      "text/plain": "6     0.0\n5     2.0\n2     6.0\n1    10.0\n3    25.0\n4    36.0\n7     NaN\ndtype: float64"
     },
     "execution_count": 124,
     "metadata": {},
     "output_type": "execute_result"
    }
   ],
   "source": [
    "sales.sort_values()"
   ],
   "metadata": {
    "collapsed": false,
    "pycharm": {
     "name": "#%%\n"
    }
   }
  },
  {
   "cell_type": "code",
   "execution_count": 125,
   "outputs": [
    {
     "data": {
      "text/plain": "4    36.0\n3    25.0\n1    10.0\n2     6.0\n5     2.0\n6     0.0\n7     NaN\ndtype: float64"
     },
     "execution_count": 125,
     "metadata": {},
     "output_type": "execute_result"
    }
   ],
   "source": [
    "sales.sort_values(ascending=False, na_position='last', inplace=False)"
   ],
   "metadata": {
    "collapsed": false,
    "pycharm": {
     "name": "#%%\n"
    }
   }
  },
  {
   "cell_type": "code",
   "execution_count": 126,
   "outputs": [
    {
     "data": {
      "text/plain": "{'Mon': 10, 'Tue': 25, 'Wed': 6, 'Thr': 36, 'Fri': 2}"
     },
     "execution_count": 126,
     "metadata": {},
     "output_type": "execute_result"
    }
   ],
   "source": [
    "dic = {'Mon': 10, 'Tue':25, 'Wed':6, 'Thr': 36, 'Fri': 2}\n",
    "dic"
   ],
   "metadata": {
    "collapsed": false,
    "pycharm": {
     "name": "#%%\n"
    }
   }
  },
  {
   "cell_type": "code",
   "execution_count": 127,
   "outputs": [],
   "source": [
    "sales = pd.Series(dic)"
   ],
   "metadata": {
    "collapsed": false,
    "pycharm": {
     "name": "#%%\n"
    }
   }
  },
  {
   "cell_type": "code",
   "execution_count": 128,
   "outputs": [
    {
     "data": {
      "text/plain": "Mon    10\nTue    25\nWed     6\nThr    36\nFri     2\ndtype: int64"
     },
     "execution_count": 128,
     "metadata": {},
     "output_type": "execute_result"
    }
   ],
   "source": [
    "sales"
   ],
   "metadata": {
    "collapsed": false,
    "pycharm": {
     "name": "#%%\n"
    }
   }
  },
  {
   "cell_type": "code",
   "execution_count": 129,
   "outputs": [
    {
     "data": {
      "text/plain": "Fri     2\nMon    10\nThr    36\nTue    25\nWed     6\ndtype: int64"
     },
     "execution_count": 129,
     "metadata": {},
     "output_type": "execute_result"
    }
   ],
   "source": [
    "sales.sort_index(ascending=True)"
   ],
   "metadata": {
    "collapsed": false,
    "pycharm": {
     "name": "#%%\n"
    }
   }
  },
  {
   "cell_type": "markdown",
   "source": [
    "## Index Objects"
   ],
   "metadata": {
    "collapsed": false,
    "pycharm": {
     "name": "#%% md\n"
    }
   }
  },
  {
   "cell_type": "code",
   "execution_count": 130,
   "outputs": [
    {
     "data": {
      "text/plain": "                    Year    City     Sport Discipline Country Gender  \\\nAthlete                                                                \nHAJOS, Alfred       1896  Athens  Aquatics   Swimming     HUN    Men   \nHERSCHMANN, Otto    1896  Athens  Aquatics   Swimming     AUT    Men   \nDRIVAS, Dimitrios   1896  Athens  Aquatics   Swimming     GRE    Men   \nMALOKINIS, Ioannis  1896  Athens  Aquatics   Swimming     GRE    Men   \nCHASAPIS, Spiridon  1896  Athens  Aquatics   Swimming     GRE    Men   \n\n                                         Event   Medal  \nAthlete                                                 \nHAJOS, Alfred                   100M Freestyle    Gold  \nHERSCHMANN, Otto                100M Freestyle  Silver  \nDRIVAS, Dimitrios   100M Freestyle For Sailors  Bronze  \nMALOKINIS, Ioannis  100M Freestyle For Sailors    Gold  \nCHASAPIS, Spiridon  100M Freestyle For Sailors  Silver  ",
      "text/html": "<div>\n<style scoped>\n    .dataframe tbody tr th:only-of-type {\n        vertical-align: middle;\n    }\n\n    .dataframe tbody tr th {\n        vertical-align: top;\n    }\n\n    .dataframe thead th {\n        text-align: right;\n    }\n</style>\n<table border=\"1\" class=\"dataframe\">\n  <thead>\n    <tr style=\"text-align: right;\">\n      <th></th>\n      <th>Year</th>\n      <th>City</th>\n      <th>Sport</th>\n      <th>Discipline</th>\n      <th>Country</th>\n      <th>Gender</th>\n      <th>Event</th>\n      <th>Medal</th>\n    </tr>\n    <tr>\n      <th>Athlete</th>\n      <th></th>\n      <th></th>\n      <th></th>\n      <th></th>\n      <th></th>\n      <th></th>\n      <th></th>\n      <th></th>\n    </tr>\n  </thead>\n  <tbody>\n    <tr>\n      <th>HAJOS, Alfred</th>\n      <td>1896</td>\n      <td>Athens</td>\n      <td>Aquatics</td>\n      <td>Swimming</td>\n      <td>HUN</td>\n      <td>Men</td>\n      <td>100M Freestyle</td>\n      <td>Gold</td>\n    </tr>\n    <tr>\n      <th>HERSCHMANN, Otto</th>\n      <td>1896</td>\n      <td>Athens</td>\n      <td>Aquatics</td>\n      <td>Swimming</td>\n      <td>AUT</td>\n      <td>Men</td>\n      <td>100M Freestyle</td>\n      <td>Silver</td>\n    </tr>\n    <tr>\n      <th>DRIVAS, Dimitrios</th>\n      <td>1896</td>\n      <td>Athens</td>\n      <td>Aquatics</td>\n      <td>Swimming</td>\n      <td>GRE</td>\n      <td>Men</td>\n      <td>100M Freestyle For Sailors</td>\n      <td>Bronze</td>\n    </tr>\n    <tr>\n      <th>MALOKINIS, Ioannis</th>\n      <td>1896</td>\n      <td>Athens</td>\n      <td>Aquatics</td>\n      <td>Swimming</td>\n      <td>GRE</td>\n      <td>Men</td>\n      <td>100M Freestyle For Sailors</td>\n      <td>Gold</td>\n    </tr>\n    <tr>\n      <th>CHASAPIS, Spiridon</th>\n      <td>1896</td>\n      <td>Athens</td>\n      <td>Aquatics</td>\n      <td>Swimming</td>\n      <td>GRE</td>\n      <td>Men</td>\n      <td>100M Freestyle For Sailors</td>\n      <td>Silver</td>\n    </tr>\n  </tbody>\n</table>\n</div>"
     },
     "execution_count": 130,
     "metadata": {},
     "output_type": "execute_result"
    }
   ],
   "source": [
    "summer = pd.read_csv('data/summer.csv', index_col='Athlete')\n",
    "summer.head()"
   ],
   "metadata": {
    "collapsed": false,
    "pycharm": {
     "name": "#%%\n"
    }
   }
  },
  {
   "cell_type": "code",
   "execution_count": 131,
   "outputs": [
    {
     "name": "stdout",
     "output_type": "stream",
     "text": [
      "<class 'pandas.core.frame.DataFrame'>\n",
      "Index: 31165 entries, HAJOS, Alfred to LIDBERG, Jimmy\n",
      "Data columns (total 8 columns):\n",
      " #   Column      Non-Null Count  Dtype \n",
      "---  ------      --------------  ----- \n",
      " 0   Year        31165 non-null  int64 \n",
      " 1   City        31165 non-null  object\n",
      " 2   Sport       31165 non-null  object\n",
      " 3   Discipline  31165 non-null  object\n",
      " 4   Country     31161 non-null  object\n",
      " 5   Gender      31165 non-null  object\n",
      " 6   Event       31165 non-null  object\n",
      " 7   Medal       31165 non-null  object\n",
      "dtypes: int64(1), object(7)\n",
      "memory usage: 2.1+ MB\n"
     ]
    }
   ],
   "source": [
    "summer.info()"
   ],
   "metadata": {
    "collapsed": false,
    "pycharm": {
     "name": "#%%\n"
    }
   }
  },
  {
   "cell_type": "code",
   "execution_count": 132,
   "outputs": [
    {
     "data": {
      "text/plain": "Index(['HAJOS, Alfred', 'HERSCHMANN, Otto', 'DRIVAS, Dimitrios',\n       'MALOKINIS, Ioannis', 'CHASAPIS, Spiridon', 'CHOROPHAS, Efstathios',\n       'HAJOS, Alfred', 'ANDREOU, Joannis', 'CHOROPHAS, Efstathios',\n       'NEUMANN, Paul',\n       ...\n       'AHMADOV, Emin', 'KAZAKEVIC, Aleksandr', 'KHUGAEV, Alan',\n       'EBRAHIM, Karam Mohamed Gaber', 'GAJIYEV, Danyal', 'JANIKOWSKI, Damian',\n       'REZAEI, Ghasem Gholamreza', 'TOTROV, Rustam', 'ALEKSANYAN, Artur',\n       'LIDBERG, Jimmy'],\n      dtype='object', name='Athlete', length=31165)"
     },
     "execution_count": 132,
     "metadata": {},
     "output_type": "execute_result"
    }
   ],
   "source": [
    "summer.index"
   ],
   "metadata": {
    "collapsed": false,
    "pycharm": {
     "name": "#%%\n"
    }
   }
  },
  {
   "cell_type": "code",
   "execution_count": 133,
   "outputs": [
    {
     "data": {
      "text/plain": "pandas.core.indexes.base.Index"
     },
     "execution_count": 133,
     "metadata": {},
     "output_type": "execute_result"
    }
   ],
   "source": [
    "type(summer.index)"
   ],
   "metadata": {
    "collapsed": false,
    "pycharm": {
     "name": "#%%\n"
    }
   }
  },
  {
   "cell_type": "code",
   "execution_count": 134,
   "outputs": [
    {
     "data": {
      "text/plain": "Index(['Year', 'City', 'Sport', 'Discipline', 'Country', 'Gender', 'Event',\n       'Medal'],\n      dtype='object')"
     },
     "execution_count": 134,
     "metadata": {},
     "output_type": "execute_result"
    }
   ],
   "source": [
    "summer.columns"
   ],
   "metadata": {
    "collapsed": false,
    "pycharm": {
     "name": "#%%\n"
    }
   }
  },
  {
   "cell_type": "code",
   "execution_count": 135,
   "outputs": [
    {
     "data": {
      "text/plain": "pandas.core.indexes.base.Index"
     },
     "execution_count": 135,
     "metadata": {},
     "output_type": "execute_result"
    }
   ],
   "source": [
    "type(summer.columns)"
   ],
   "metadata": {
    "collapsed": false,
    "pycharm": {
     "name": "#%%\n"
    }
   }
  },
  {
   "cell_type": "code",
   "execution_count": 136,
   "outputs": [
    {
     "data": {
      "text/plain": "[Index(['HAJOS, Alfred', 'HERSCHMANN, Otto', 'DRIVAS, Dimitrios',\n        'MALOKINIS, Ioannis', 'CHASAPIS, Spiridon', 'CHOROPHAS, Efstathios',\n        'HAJOS, Alfred', 'ANDREOU, Joannis', 'CHOROPHAS, Efstathios',\n        'NEUMANN, Paul',\n        ...\n        'AHMADOV, Emin', 'KAZAKEVIC, Aleksandr', 'KHUGAEV, Alan',\n        'EBRAHIM, Karam Mohamed Gaber', 'GAJIYEV, Danyal', 'JANIKOWSKI, Damian',\n        'REZAEI, Ghasem Gholamreza', 'TOTROV, Rustam', 'ALEKSANYAN, Artur',\n        'LIDBERG, Jimmy'],\n       dtype='object', name='Athlete', length=31165),\n Index(['Year', 'City', 'Sport', 'Discipline', 'Country', 'Gender', 'Event',\n        'Medal'],\n       dtype='object')]"
     },
     "execution_count": 136,
     "metadata": {},
     "output_type": "execute_result"
    }
   ],
   "source": [
    "summer.axes"
   ],
   "metadata": {
    "collapsed": false,
    "pycharm": {
     "name": "#%%\n"
    }
   }
  },
  {
   "cell_type": "code",
   "execution_count": 137,
   "outputs": [
    {
     "data": {
      "text/plain": "Index(['Year', 'City', 'Sport'], dtype='object')"
     },
     "execution_count": 137,
     "metadata": {},
     "output_type": "execute_result"
    }
   ],
   "source": [
    "summer.columns[:3]"
   ],
   "metadata": {
    "collapsed": false,
    "pycharm": {
     "name": "#%%\n"
    }
   }
  },
  {
   "cell_type": "code",
   "execution_count": 138,
   "outputs": [
    {
     "data": {
      "text/plain": "'HAJOS, Alfred'"
     },
     "execution_count": 138,
     "metadata": {},
     "output_type": "execute_result"
    }
   ],
   "source": [
    "summer.index[0]"
   ],
   "metadata": {
    "collapsed": false,
    "pycharm": {
     "name": "#%%\n"
    }
   }
  },
  {
   "cell_type": "code",
   "execution_count": 139,
   "outputs": [
    {
     "data": {
      "text/plain": "'LIDBERG, Jimmy'"
     },
     "execution_count": 139,
     "metadata": {},
     "output_type": "execute_result"
    }
   ],
   "source": [
    "summer.index[-1]"
   ],
   "metadata": {
    "collapsed": false,
    "pycharm": {
     "name": "#%%\n"
    }
   }
  },
  {
   "cell_type": "code",
   "execution_count": 140,
   "outputs": [
    {
     "data": {
      "text/plain": "Index(['FLATOW, Alfred', 'FLATOW, Gustav Felix'], dtype='object', name='Athlete')"
     },
     "execution_count": 140,
     "metadata": {},
     "output_type": "execute_result"
    }
   ],
   "source": [
    "summer.index[100:102]"
   ],
   "metadata": {
    "collapsed": false,
    "pycharm": {
     "name": "#%%\n"
    }
   }
  },
  {
   "cell_type": "code",
   "execution_count": 141,
   "outputs": [
    {
     "data": {
      "text/plain": "['Year', 'City', 'Sport', 'Discipline', 'Country', 'Gender', 'Event', 'Medal']"
     },
     "execution_count": 141,
     "metadata": {},
     "output_type": "execute_result"
    }
   ],
   "source": [
    "summer.columns.tolist()"
   ],
   "metadata": {
    "collapsed": false,
    "pycharm": {
     "name": "#%%\n"
    }
   }
  },
  {
   "cell_type": "code",
   "execution_count": 142,
   "outputs": [
    {
     "data": {
      "text/plain": "False"
     },
     "execution_count": 142,
     "metadata": {},
     "output_type": "execute_result"
    }
   ],
   "source": [
    "summer.index.is_unique"
   ],
   "metadata": {
    "collapsed": false,
    "pycharm": {
     "name": "#%%\n"
    }
   }
  },
  {
   "cell_type": "code",
   "execution_count": 143,
   "outputs": [
    {
     "data": {
      "text/plain": "2"
     },
     "execution_count": 143,
     "metadata": {},
     "output_type": "execute_result"
    }
   ],
   "source": [
    "summer.index.get_loc('DRIVAS, Dimitrios')"
   ],
   "metadata": {
    "collapsed": false,
    "pycharm": {
     "name": "#%%\n"
    }
   }
  },
  {
   "cell_type": "markdown",
   "source": [
    "### Changing Row Index Labels\n",
    "* drop will remove it as a normal column or keep it as both a normal or an index column\n",
    "* index is immutable\n",
    "* the entire index can be replaced by an equal size index\n",
    "* a name can be assigned to an index"
   ],
   "metadata": {
    "collapsed": false,
    "pycharm": {
     "name": "#%% md\n"
    }
   }
  },
  {
   "cell_type": "code",
   "execution_count": 144,
   "outputs": [
    {
     "data": {
      "text/plain": "                    Year    City     Sport Discipline Country Gender  \\\nAthlete                                                                \nHAJOS, Alfred       1896  Athens  Aquatics   Swimming     HUN    Men   \nHERSCHMANN, Otto    1896  Athens  Aquatics   Swimming     AUT    Men   \nDRIVAS, Dimitrios   1896  Athens  Aquatics   Swimming     GRE    Men   \nMALOKINIS, Ioannis  1896  Athens  Aquatics   Swimming     GRE    Men   \nCHASAPIS, Spiridon  1896  Athens  Aquatics   Swimming     GRE    Men   \n\n                                         Event   Medal  \nAthlete                                                 \nHAJOS, Alfred                   100M Freestyle    Gold  \nHERSCHMANN, Otto                100M Freestyle  Silver  \nDRIVAS, Dimitrios   100M Freestyle For Sailors  Bronze  \nMALOKINIS, Ioannis  100M Freestyle For Sailors    Gold  \nCHASAPIS, Spiridon  100M Freestyle For Sailors  Silver  ",
      "text/html": "<div>\n<style scoped>\n    .dataframe tbody tr th:only-of-type {\n        vertical-align: middle;\n    }\n\n    .dataframe tbody tr th {\n        vertical-align: top;\n    }\n\n    .dataframe thead th {\n        text-align: right;\n    }\n</style>\n<table border=\"1\" class=\"dataframe\">\n  <thead>\n    <tr style=\"text-align: right;\">\n      <th></th>\n      <th>Year</th>\n      <th>City</th>\n      <th>Sport</th>\n      <th>Discipline</th>\n      <th>Country</th>\n      <th>Gender</th>\n      <th>Event</th>\n      <th>Medal</th>\n    </tr>\n    <tr>\n      <th>Athlete</th>\n      <th></th>\n      <th></th>\n      <th></th>\n      <th></th>\n      <th></th>\n      <th></th>\n      <th></th>\n      <th></th>\n    </tr>\n  </thead>\n  <tbody>\n    <tr>\n      <th>HAJOS, Alfred</th>\n      <td>1896</td>\n      <td>Athens</td>\n      <td>Aquatics</td>\n      <td>Swimming</td>\n      <td>HUN</td>\n      <td>Men</td>\n      <td>100M Freestyle</td>\n      <td>Gold</td>\n    </tr>\n    <tr>\n      <th>HERSCHMANN, Otto</th>\n      <td>1896</td>\n      <td>Athens</td>\n      <td>Aquatics</td>\n      <td>Swimming</td>\n      <td>AUT</td>\n      <td>Men</td>\n      <td>100M Freestyle</td>\n      <td>Silver</td>\n    </tr>\n    <tr>\n      <th>DRIVAS, Dimitrios</th>\n      <td>1896</td>\n      <td>Athens</td>\n      <td>Aquatics</td>\n      <td>Swimming</td>\n      <td>GRE</td>\n      <td>Men</td>\n      <td>100M Freestyle For Sailors</td>\n      <td>Bronze</td>\n    </tr>\n    <tr>\n      <th>MALOKINIS, Ioannis</th>\n      <td>1896</td>\n      <td>Athens</td>\n      <td>Aquatics</td>\n      <td>Swimming</td>\n      <td>GRE</td>\n      <td>Men</td>\n      <td>100M Freestyle For Sailors</td>\n      <td>Gold</td>\n    </tr>\n    <tr>\n      <th>CHASAPIS, Spiridon</th>\n      <td>1896</td>\n      <td>Athens</td>\n      <td>Aquatics</td>\n      <td>Swimming</td>\n      <td>GRE</td>\n      <td>Men</td>\n      <td>100M Freestyle For Sailors</td>\n      <td>Silver</td>\n    </tr>\n  </tbody>\n</table>\n</div>"
     },
     "execution_count": 144,
     "metadata": {},
     "output_type": "execute_result"
    }
   ],
   "source": [
    "summer = pd.read_csv('data/summer.csv', index_col='Athlete')\n",
    "summer.head()"
   ],
   "metadata": {
    "collapsed": false,
    "pycharm": {
     "name": "#%%\n"
    }
   }
  },
  {
   "cell_type": "code",
   "execution_count": 145,
   "outputs": [
    {
     "data": {
      "text/plain": "Index(['HAJOS, Alfred', 'HERSCHMANN, Otto', 'DRIVAS, Dimitrios',\n       'MALOKINIS, Ioannis', 'CHASAPIS, Spiridon', 'CHOROPHAS, Efstathios',\n       'HAJOS, Alfred', 'ANDREOU, Joannis', 'CHOROPHAS, Efstathios',\n       'NEUMANN, Paul',\n       ...\n       'AHMADOV, Emin', 'KAZAKEVIC, Aleksandr', 'KHUGAEV, Alan',\n       'EBRAHIM, Karam Mohamed Gaber', 'GAJIYEV, Danyal', 'JANIKOWSKI, Damian',\n       'REZAEI, Ghasem Gholamreza', 'TOTROV, Rustam', 'ALEKSANYAN, Artur',\n       'LIDBERG, Jimmy'],\n      dtype='object', name='Athlete', length=31165)"
     },
     "execution_count": 145,
     "metadata": {},
     "output_type": "execute_result"
    }
   ],
   "source": [
    "summer.index"
   ],
   "metadata": {
    "collapsed": false,
    "pycharm": {
     "name": "#%%\n"
    }
   }
  },
  {
   "cell_type": "code",
   "execution_count": 146,
   "outputs": [],
   "source": [
    "summer.reset_index(drop=False, inplace=True)"
   ],
   "metadata": {
    "collapsed": false,
    "pycharm": {
     "name": "#%%\n"
    }
   }
  },
  {
   "cell_type": "code",
   "execution_count": 147,
   "outputs": [
    {
     "data": {
      "text/plain": "              Athlete  Year    City     Sport Discipline Country Gender  \\\n0       HAJOS, Alfred  1896  Athens  Aquatics   Swimming     HUN    Men   \n1    HERSCHMANN, Otto  1896  Athens  Aquatics   Swimming     AUT    Men   \n2   DRIVAS, Dimitrios  1896  Athens  Aquatics   Swimming     GRE    Men   \n3  MALOKINIS, Ioannis  1896  Athens  Aquatics   Swimming     GRE    Men   \n4  CHASAPIS, Spiridon  1896  Athens  Aquatics   Swimming     GRE    Men   \n\n                        Event   Medal  \n0              100M Freestyle    Gold  \n1              100M Freestyle  Silver  \n2  100M Freestyle For Sailors  Bronze  \n3  100M Freestyle For Sailors    Gold  \n4  100M Freestyle For Sailors  Silver  ",
      "text/html": "<div>\n<style scoped>\n    .dataframe tbody tr th:only-of-type {\n        vertical-align: middle;\n    }\n\n    .dataframe tbody tr th {\n        vertical-align: top;\n    }\n\n    .dataframe thead th {\n        text-align: right;\n    }\n</style>\n<table border=\"1\" class=\"dataframe\">\n  <thead>\n    <tr style=\"text-align: right;\">\n      <th></th>\n      <th>Athlete</th>\n      <th>Year</th>\n      <th>City</th>\n      <th>Sport</th>\n      <th>Discipline</th>\n      <th>Country</th>\n      <th>Gender</th>\n      <th>Event</th>\n      <th>Medal</th>\n    </tr>\n  </thead>\n  <tbody>\n    <tr>\n      <th>0</th>\n      <td>HAJOS, Alfred</td>\n      <td>1896</td>\n      <td>Athens</td>\n      <td>Aquatics</td>\n      <td>Swimming</td>\n      <td>HUN</td>\n      <td>Men</td>\n      <td>100M Freestyle</td>\n      <td>Gold</td>\n    </tr>\n    <tr>\n      <th>1</th>\n      <td>HERSCHMANN, Otto</td>\n      <td>1896</td>\n      <td>Athens</td>\n      <td>Aquatics</td>\n      <td>Swimming</td>\n      <td>AUT</td>\n      <td>Men</td>\n      <td>100M Freestyle</td>\n      <td>Silver</td>\n    </tr>\n    <tr>\n      <th>2</th>\n      <td>DRIVAS, Dimitrios</td>\n      <td>1896</td>\n      <td>Athens</td>\n      <td>Aquatics</td>\n      <td>Swimming</td>\n      <td>GRE</td>\n      <td>Men</td>\n      <td>100M Freestyle For Sailors</td>\n      <td>Bronze</td>\n    </tr>\n    <tr>\n      <th>3</th>\n      <td>MALOKINIS, Ioannis</td>\n      <td>1896</td>\n      <td>Athens</td>\n      <td>Aquatics</td>\n      <td>Swimming</td>\n      <td>GRE</td>\n      <td>Men</td>\n      <td>100M Freestyle For Sailors</td>\n      <td>Gold</td>\n    </tr>\n    <tr>\n      <th>4</th>\n      <td>CHASAPIS, Spiridon</td>\n      <td>1896</td>\n      <td>Athens</td>\n      <td>Aquatics</td>\n      <td>Swimming</td>\n      <td>GRE</td>\n      <td>Men</td>\n      <td>100M Freestyle For Sailors</td>\n      <td>Silver</td>\n    </tr>\n  </tbody>\n</table>\n</div>"
     },
     "execution_count": 147,
     "metadata": {},
     "output_type": "execute_result"
    }
   ],
   "source": [
    "summer.head()"
   ],
   "metadata": {
    "collapsed": false,
    "pycharm": {
     "name": "#%%\n"
    }
   }
  },
  {
   "cell_type": "code",
   "execution_count": 148,
   "outputs": [],
   "source": [
    "summer.set_index('Year', drop=True, inplace=True)"
   ],
   "metadata": {
    "collapsed": false,
    "pycharm": {
     "name": "#%%\n"
    }
   }
  },
  {
   "cell_type": "code",
   "execution_count": 149,
   "outputs": [
    {
     "data": {
      "text/plain": "                 Athlete    City     Sport Discipline Country Gender  \\\nYear                                                                   \n1896       HAJOS, Alfred  Athens  Aquatics   Swimming     HUN    Men   \n1896    HERSCHMANN, Otto  Athens  Aquatics   Swimming     AUT    Men   \n1896   DRIVAS, Dimitrios  Athens  Aquatics   Swimming     GRE    Men   \n1896  MALOKINIS, Ioannis  Athens  Aquatics   Swimming     GRE    Men   \n1896  CHASAPIS, Spiridon  Athens  Aquatics   Swimming     GRE    Men   \n\n                           Event   Medal  \nYear                                      \n1896              100M Freestyle    Gold  \n1896              100M Freestyle  Silver  \n1896  100M Freestyle For Sailors  Bronze  \n1896  100M Freestyle For Sailors    Gold  \n1896  100M Freestyle For Sailors  Silver  ",
      "text/html": "<div>\n<style scoped>\n    .dataframe tbody tr th:only-of-type {\n        vertical-align: middle;\n    }\n\n    .dataframe tbody tr th {\n        vertical-align: top;\n    }\n\n    .dataframe thead th {\n        text-align: right;\n    }\n</style>\n<table border=\"1\" class=\"dataframe\">\n  <thead>\n    <tr style=\"text-align: right;\">\n      <th></th>\n      <th>Athlete</th>\n      <th>City</th>\n      <th>Sport</th>\n      <th>Discipline</th>\n      <th>Country</th>\n      <th>Gender</th>\n      <th>Event</th>\n      <th>Medal</th>\n    </tr>\n    <tr>\n      <th>Year</th>\n      <th></th>\n      <th></th>\n      <th></th>\n      <th></th>\n      <th></th>\n      <th></th>\n      <th></th>\n      <th></th>\n    </tr>\n  </thead>\n  <tbody>\n    <tr>\n      <th>1896</th>\n      <td>HAJOS, Alfred</td>\n      <td>Athens</td>\n      <td>Aquatics</td>\n      <td>Swimming</td>\n      <td>HUN</td>\n      <td>Men</td>\n      <td>100M Freestyle</td>\n      <td>Gold</td>\n    </tr>\n    <tr>\n      <th>1896</th>\n      <td>HERSCHMANN, Otto</td>\n      <td>Athens</td>\n      <td>Aquatics</td>\n      <td>Swimming</td>\n      <td>AUT</td>\n      <td>Men</td>\n      <td>100M Freestyle</td>\n      <td>Silver</td>\n    </tr>\n    <tr>\n      <th>1896</th>\n      <td>DRIVAS, Dimitrios</td>\n      <td>Athens</td>\n      <td>Aquatics</td>\n      <td>Swimming</td>\n      <td>GRE</td>\n      <td>Men</td>\n      <td>100M Freestyle For Sailors</td>\n      <td>Bronze</td>\n    </tr>\n    <tr>\n      <th>1896</th>\n      <td>MALOKINIS, Ioannis</td>\n      <td>Athens</td>\n      <td>Aquatics</td>\n      <td>Swimming</td>\n      <td>GRE</td>\n      <td>Men</td>\n      <td>100M Freestyle For Sailors</td>\n      <td>Gold</td>\n    </tr>\n    <tr>\n      <th>1896</th>\n      <td>CHASAPIS, Spiridon</td>\n      <td>Athens</td>\n      <td>Aquatics</td>\n      <td>Swimming</td>\n      <td>GRE</td>\n      <td>Men</td>\n      <td>100M Freestyle For Sailors</td>\n      <td>Silver</td>\n    </tr>\n  </tbody>\n</table>\n</div>"
     },
     "execution_count": 149,
     "metadata": {},
     "output_type": "execute_result"
    }
   ],
   "source": [
    "summer.head()"
   ],
   "metadata": {
    "collapsed": false,
    "pycharm": {
     "name": "#%%\n"
    }
   }
  },
  {
   "cell_type": "code",
   "execution_count": 150,
   "outputs": [
    {
     "data": {
      "text/plain": "False"
     },
     "execution_count": 150,
     "metadata": {},
     "output_type": "execute_result"
    }
   ],
   "source": [
    "summer.index.is_unique"
   ],
   "metadata": {
    "collapsed": false,
    "pycharm": {
     "name": "#%%\n"
    }
   }
  },
  {
   "cell_type": "code",
   "execution_count": 151,
   "outputs": [
    {
     "data": {
      "text/plain": "1896"
     },
     "execution_count": 151,
     "metadata": {},
     "output_type": "execute_result"
    }
   ],
   "source": [
    "summer.index[0]"
   ],
   "metadata": {
    "collapsed": false,
    "pycharm": {
     "name": "#%%\n"
    }
   }
  },
  {
   "cell_type": "code",
   "execution_count": 152,
   "outputs": [
    {
     "data": {
      "text/plain": "31165"
     },
     "execution_count": 152,
     "metadata": {},
     "output_type": "execute_result"
    }
   ],
   "source": [
    "summer.index.size"
   ],
   "metadata": {
    "collapsed": false,
    "pycharm": {
     "name": "#%%\n"
    }
   }
  },
  {
   "cell_type": "code",
   "execution_count": 153,
   "outputs": [
    {
     "data": {
      "text/plain": "['Medal_No1',\n 'Medal_No2',\n 'Medal_No3',\n 'Medal_No4',\n 'Medal_No5',\n 'Medal_No6',\n 'Medal_No7',\n 'Medal_No8',\n 'Medal_No9',\n 'Medal_No10',\n 'Medal_No11',\n 'Medal_No12',\n 'Medal_No13',\n 'Medal_No14',\n 'Medal_No15',\n 'Medal_No16',\n 'Medal_No17',\n 'Medal_No18',\n 'Medal_No19',\n 'Medal_No20',\n 'Medal_No21',\n 'Medal_No22',\n 'Medal_No23',\n 'Medal_No24',\n 'Medal_No25',\n 'Medal_No26',\n 'Medal_No27',\n 'Medal_No28',\n 'Medal_No29',\n 'Medal_No30',\n 'Medal_No31',\n 'Medal_No32',\n 'Medal_No33',\n 'Medal_No34',\n 'Medal_No35',\n 'Medal_No36',\n 'Medal_No37',\n 'Medal_No38',\n 'Medal_No39',\n 'Medal_No40',\n 'Medal_No41',\n 'Medal_No42',\n 'Medal_No43',\n 'Medal_No44',\n 'Medal_No45',\n 'Medal_No46',\n 'Medal_No47',\n 'Medal_No48',\n 'Medal_No49',\n 'Medal_No50',\n 'Medal_No51',\n 'Medal_No52',\n 'Medal_No53',\n 'Medal_No54',\n 'Medal_No55',\n 'Medal_No56',\n 'Medal_No57',\n 'Medal_No58',\n 'Medal_No59',\n 'Medal_No60',\n 'Medal_No61',\n 'Medal_No62',\n 'Medal_No63',\n 'Medal_No64',\n 'Medal_No65',\n 'Medal_No66',\n 'Medal_No67',\n 'Medal_No68',\n 'Medal_No69',\n 'Medal_No70',\n 'Medal_No71',\n 'Medal_No72',\n 'Medal_No73',\n 'Medal_No74',\n 'Medal_No75',\n 'Medal_No76',\n 'Medal_No77',\n 'Medal_No78',\n 'Medal_No79',\n 'Medal_No80',\n 'Medal_No81',\n 'Medal_No82',\n 'Medal_No83',\n 'Medal_No84',\n 'Medal_No85',\n 'Medal_No86',\n 'Medal_No87',\n 'Medal_No88',\n 'Medal_No89',\n 'Medal_No90',\n 'Medal_No91',\n 'Medal_No92',\n 'Medal_No93',\n 'Medal_No94',\n 'Medal_No95',\n 'Medal_No96',\n 'Medal_No97',\n 'Medal_No98',\n 'Medal_No99',\n 'Medal_No100',\n 'Medal_No101',\n 'Medal_No102',\n 'Medal_No103',\n 'Medal_No104',\n 'Medal_No105',\n 'Medal_No106',\n 'Medal_No107',\n 'Medal_No108',\n 'Medal_No109',\n 'Medal_No110',\n 'Medal_No111',\n 'Medal_No112',\n 'Medal_No113',\n 'Medal_No114',\n 'Medal_No115',\n 'Medal_No116',\n 'Medal_No117',\n 'Medal_No118',\n 'Medal_No119',\n 'Medal_No120',\n 'Medal_No121',\n 'Medal_No122',\n 'Medal_No123',\n 'Medal_No124',\n 'Medal_No125',\n 'Medal_No126',\n 'Medal_No127',\n 'Medal_No128',\n 'Medal_No129',\n 'Medal_No130',\n 'Medal_No131',\n 'Medal_No132',\n 'Medal_No133',\n 'Medal_No134',\n 'Medal_No135',\n 'Medal_No136',\n 'Medal_No137',\n 'Medal_No138',\n 'Medal_No139',\n 'Medal_No140',\n 'Medal_No141',\n 'Medal_No142',\n 'Medal_No143',\n 'Medal_No144',\n 'Medal_No145',\n 'Medal_No146',\n 'Medal_No147',\n 'Medal_No148',\n 'Medal_No149',\n 'Medal_No150',\n 'Medal_No151',\n 'Medal_No152',\n 'Medal_No153',\n 'Medal_No154',\n 'Medal_No155',\n 'Medal_No156',\n 'Medal_No157',\n 'Medal_No158',\n 'Medal_No159',\n 'Medal_No160',\n 'Medal_No161',\n 'Medal_No162',\n 'Medal_No163',\n 'Medal_No164',\n 'Medal_No165',\n 'Medal_No166',\n 'Medal_No167',\n 'Medal_No168',\n 'Medal_No169',\n 'Medal_No170',\n 'Medal_No171',\n 'Medal_No172',\n 'Medal_No173',\n 'Medal_No174',\n 'Medal_No175',\n 'Medal_No176',\n 'Medal_No177',\n 'Medal_No178',\n 'Medal_No179',\n 'Medal_No180',\n 'Medal_No181',\n 'Medal_No182',\n 'Medal_No183',\n 'Medal_No184',\n 'Medal_No185',\n 'Medal_No186',\n 'Medal_No187',\n 'Medal_No188',\n 'Medal_No189',\n 'Medal_No190',\n 'Medal_No191',\n 'Medal_No192',\n 'Medal_No193',\n 'Medal_No194',\n 'Medal_No195',\n 'Medal_No196',\n 'Medal_No197',\n 'Medal_No198',\n 'Medal_No199',\n 'Medal_No200',\n 'Medal_No201',\n 'Medal_No202',\n 'Medal_No203',\n 'Medal_No204',\n 'Medal_No205',\n 'Medal_No206',\n 'Medal_No207',\n 'Medal_No208',\n 'Medal_No209',\n 'Medal_No210',\n 'Medal_No211',\n 'Medal_No212',\n 'Medal_No213',\n 'Medal_No214',\n 'Medal_No215',\n 'Medal_No216',\n 'Medal_No217',\n 'Medal_No218',\n 'Medal_No219',\n 'Medal_No220',\n 'Medal_No221',\n 'Medal_No222',\n 'Medal_No223',\n 'Medal_No224',\n 'Medal_No225',\n 'Medal_No226',\n 'Medal_No227',\n 'Medal_No228',\n 'Medal_No229',\n 'Medal_No230',\n 'Medal_No231',\n 'Medal_No232',\n 'Medal_No233',\n 'Medal_No234',\n 'Medal_No235',\n 'Medal_No236',\n 'Medal_No237',\n 'Medal_No238',\n 'Medal_No239',\n 'Medal_No240',\n 'Medal_No241',\n 'Medal_No242',\n 'Medal_No243',\n 'Medal_No244',\n 'Medal_No245',\n 'Medal_No246',\n 'Medal_No247',\n 'Medal_No248',\n 'Medal_No249',\n 'Medal_No250',\n 'Medal_No251',\n 'Medal_No252',\n 'Medal_No253',\n 'Medal_No254',\n 'Medal_No255',\n 'Medal_No256',\n 'Medal_No257',\n 'Medal_No258',\n 'Medal_No259',\n 'Medal_No260',\n 'Medal_No261',\n 'Medal_No262',\n 'Medal_No263',\n 'Medal_No264',\n 'Medal_No265',\n 'Medal_No266',\n 'Medal_No267',\n 'Medal_No268',\n 'Medal_No269',\n 'Medal_No270',\n 'Medal_No271',\n 'Medal_No272',\n 'Medal_No273',\n 'Medal_No274',\n 'Medal_No275',\n 'Medal_No276',\n 'Medal_No277',\n 'Medal_No278',\n 'Medal_No279',\n 'Medal_No280',\n 'Medal_No281',\n 'Medal_No282',\n 'Medal_No283',\n 'Medal_No284',\n 'Medal_No285',\n 'Medal_No286',\n 'Medal_No287',\n 'Medal_No288',\n 'Medal_No289',\n 'Medal_No290',\n 'Medal_No291',\n 'Medal_No292',\n 'Medal_No293',\n 'Medal_No294',\n 'Medal_No295',\n 'Medal_No296',\n 'Medal_No297',\n 'Medal_No298',\n 'Medal_No299',\n 'Medal_No300',\n 'Medal_No301',\n 'Medal_No302',\n 'Medal_No303',\n 'Medal_No304',\n 'Medal_No305',\n 'Medal_No306',\n 'Medal_No307',\n 'Medal_No308',\n 'Medal_No309',\n 'Medal_No310',\n 'Medal_No311',\n 'Medal_No312',\n 'Medal_No313',\n 'Medal_No314',\n 'Medal_No315',\n 'Medal_No316',\n 'Medal_No317',\n 'Medal_No318',\n 'Medal_No319',\n 'Medal_No320',\n 'Medal_No321',\n 'Medal_No322',\n 'Medal_No323',\n 'Medal_No324',\n 'Medal_No325',\n 'Medal_No326',\n 'Medal_No327',\n 'Medal_No328',\n 'Medal_No329',\n 'Medal_No330',\n 'Medal_No331',\n 'Medal_No332',\n 'Medal_No333',\n 'Medal_No334',\n 'Medal_No335',\n 'Medal_No336',\n 'Medal_No337',\n 'Medal_No338',\n 'Medal_No339',\n 'Medal_No340',\n 'Medal_No341',\n 'Medal_No342',\n 'Medal_No343',\n 'Medal_No344',\n 'Medal_No345',\n 'Medal_No346',\n 'Medal_No347',\n 'Medal_No348',\n 'Medal_No349',\n 'Medal_No350',\n 'Medal_No351',\n 'Medal_No352',\n 'Medal_No353',\n 'Medal_No354',\n 'Medal_No355',\n 'Medal_No356',\n 'Medal_No357',\n 'Medal_No358',\n 'Medal_No359',\n 'Medal_No360',\n 'Medal_No361',\n 'Medal_No362',\n 'Medal_No363',\n 'Medal_No364',\n 'Medal_No365',\n 'Medal_No366',\n 'Medal_No367',\n 'Medal_No368',\n 'Medal_No369',\n 'Medal_No370',\n 'Medal_No371',\n 'Medal_No372',\n 'Medal_No373',\n 'Medal_No374',\n 'Medal_No375',\n 'Medal_No376',\n 'Medal_No377',\n 'Medal_No378',\n 'Medal_No379',\n 'Medal_No380',\n 'Medal_No381',\n 'Medal_No382',\n 'Medal_No383',\n 'Medal_No384',\n 'Medal_No385',\n 'Medal_No386',\n 'Medal_No387',\n 'Medal_No388',\n 'Medal_No389',\n 'Medal_No390',\n 'Medal_No391',\n 'Medal_No392',\n 'Medal_No393',\n 'Medal_No394',\n 'Medal_No395',\n 'Medal_No396',\n 'Medal_No397',\n 'Medal_No398',\n 'Medal_No399',\n 'Medal_No400',\n 'Medal_No401',\n 'Medal_No402',\n 'Medal_No403',\n 'Medal_No404',\n 'Medal_No405',\n 'Medal_No406',\n 'Medal_No407',\n 'Medal_No408',\n 'Medal_No409',\n 'Medal_No410',\n 'Medal_No411',\n 'Medal_No412',\n 'Medal_No413',\n 'Medal_No414',\n 'Medal_No415',\n 'Medal_No416',\n 'Medal_No417',\n 'Medal_No418',\n 'Medal_No419',\n 'Medal_No420',\n 'Medal_No421',\n 'Medal_No422',\n 'Medal_No423',\n 'Medal_No424',\n 'Medal_No425',\n 'Medal_No426',\n 'Medal_No427',\n 'Medal_No428',\n 'Medal_No429',\n 'Medal_No430',\n 'Medal_No431',\n 'Medal_No432',\n 'Medal_No433',\n 'Medal_No434',\n 'Medal_No435',\n 'Medal_No436',\n 'Medal_No437',\n 'Medal_No438',\n 'Medal_No439',\n 'Medal_No440',\n 'Medal_No441',\n 'Medal_No442',\n 'Medal_No443',\n 'Medal_No444',\n 'Medal_No445',\n 'Medal_No446',\n 'Medal_No447',\n 'Medal_No448',\n 'Medal_No449',\n 'Medal_No450',\n 'Medal_No451',\n 'Medal_No452',\n 'Medal_No453',\n 'Medal_No454',\n 'Medal_No455',\n 'Medal_No456',\n 'Medal_No457',\n 'Medal_No458',\n 'Medal_No459',\n 'Medal_No460',\n 'Medal_No461',\n 'Medal_No462',\n 'Medal_No463',\n 'Medal_No464',\n 'Medal_No465',\n 'Medal_No466',\n 'Medal_No467',\n 'Medal_No468',\n 'Medal_No469',\n 'Medal_No470',\n 'Medal_No471',\n 'Medal_No472',\n 'Medal_No473',\n 'Medal_No474',\n 'Medal_No475',\n 'Medal_No476',\n 'Medal_No477',\n 'Medal_No478',\n 'Medal_No479',\n 'Medal_No480',\n 'Medal_No481',\n 'Medal_No482',\n 'Medal_No483',\n 'Medal_No484',\n 'Medal_No485',\n 'Medal_No486',\n 'Medal_No487',\n 'Medal_No488',\n 'Medal_No489',\n 'Medal_No490',\n 'Medal_No491',\n 'Medal_No492',\n 'Medal_No493',\n 'Medal_No494',\n 'Medal_No495',\n 'Medal_No496',\n 'Medal_No497',\n 'Medal_No498',\n 'Medal_No499',\n 'Medal_No500',\n 'Medal_No501',\n 'Medal_No502',\n 'Medal_No503',\n 'Medal_No504',\n 'Medal_No505',\n 'Medal_No506',\n 'Medal_No507',\n 'Medal_No508',\n 'Medal_No509',\n 'Medal_No510',\n 'Medal_No511',\n 'Medal_No512',\n 'Medal_No513',\n 'Medal_No514',\n 'Medal_No515',\n 'Medal_No516',\n 'Medal_No517',\n 'Medal_No518',\n 'Medal_No519',\n 'Medal_No520',\n 'Medal_No521',\n 'Medal_No522',\n 'Medal_No523',\n 'Medal_No524',\n 'Medal_No525',\n 'Medal_No526',\n 'Medal_No527',\n 'Medal_No528',\n 'Medal_No529',\n 'Medal_No530',\n 'Medal_No531',\n 'Medal_No532',\n 'Medal_No533',\n 'Medal_No534',\n 'Medal_No535',\n 'Medal_No536',\n 'Medal_No537',\n 'Medal_No538',\n 'Medal_No539',\n 'Medal_No540',\n 'Medal_No541',\n 'Medal_No542',\n 'Medal_No543',\n 'Medal_No544',\n 'Medal_No545',\n 'Medal_No546',\n 'Medal_No547',\n 'Medal_No548',\n 'Medal_No549',\n 'Medal_No550',\n 'Medal_No551',\n 'Medal_No552',\n 'Medal_No553',\n 'Medal_No554',\n 'Medal_No555',\n 'Medal_No556',\n 'Medal_No557',\n 'Medal_No558',\n 'Medal_No559',\n 'Medal_No560',\n 'Medal_No561',\n 'Medal_No562',\n 'Medal_No563',\n 'Medal_No564',\n 'Medal_No565',\n 'Medal_No566',\n 'Medal_No567',\n 'Medal_No568',\n 'Medal_No569',\n 'Medal_No570',\n 'Medal_No571',\n 'Medal_No572',\n 'Medal_No573',\n 'Medal_No574',\n 'Medal_No575',\n 'Medal_No576',\n 'Medal_No577',\n 'Medal_No578',\n 'Medal_No579',\n 'Medal_No580',\n 'Medal_No581',\n 'Medal_No582',\n 'Medal_No583',\n 'Medal_No584',\n 'Medal_No585',\n 'Medal_No586',\n 'Medal_No587',\n 'Medal_No588',\n 'Medal_No589',\n 'Medal_No590',\n 'Medal_No591',\n 'Medal_No592',\n 'Medal_No593',\n 'Medal_No594',\n 'Medal_No595',\n 'Medal_No596',\n 'Medal_No597',\n 'Medal_No598',\n 'Medal_No599',\n 'Medal_No600',\n 'Medal_No601',\n 'Medal_No602',\n 'Medal_No603',\n 'Medal_No604',\n 'Medal_No605',\n 'Medal_No606',\n 'Medal_No607',\n 'Medal_No608',\n 'Medal_No609',\n 'Medal_No610',\n 'Medal_No611',\n 'Medal_No612',\n 'Medal_No613',\n 'Medal_No614',\n 'Medal_No615',\n 'Medal_No616',\n 'Medal_No617',\n 'Medal_No618',\n 'Medal_No619',\n 'Medal_No620',\n 'Medal_No621',\n 'Medal_No622',\n 'Medal_No623',\n 'Medal_No624',\n 'Medal_No625',\n 'Medal_No626',\n 'Medal_No627',\n 'Medal_No628',\n 'Medal_No629',\n 'Medal_No630',\n 'Medal_No631',\n 'Medal_No632',\n 'Medal_No633',\n 'Medal_No634',\n 'Medal_No635',\n 'Medal_No636',\n 'Medal_No637',\n 'Medal_No638',\n 'Medal_No639',\n 'Medal_No640',\n 'Medal_No641',\n 'Medal_No642',\n 'Medal_No643',\n 'Medal_No644',\n 'Medal_No645',\n 'Medal_No646',\n 'Medal_No647',\n 'Medal_No648',\n 'Medal_No649',\n 'Medal_No650',\n 'Medal_No651',\n 'Medal_No652',\n 'Medal_No653',\n 'Medal_No654',\n 'Medal_No655',\n 'Medal_No656',\n 'Medal_No657',\n 'Medal_No658',\n 'Medal_No659',\n 'Medal_No660',\n 'Medal_No661',\n 'Medal_No662',\n 'Medal_No663',\n 'Medal_No664',\n 'Medal_No665',\n 'Medal_No666',\n 'Medal_No667',\n 'Medal_No668',\n 'Medal_No669',\n 'Medal_No670',\n 'Medal_No671',\n 'Medal_No672',\n 'Medal_No673',\n 'Medal_No674',\n 'Medal_No675',\n 'Medal_No676',\n 'Medal_No677',\n 'Medal_No678',\n 'Medal_No679',\n 'Medal_No680',\n 'Medal_No681',\n 'Medal_No682',\n 'Medal_No683',\n 'Medal_No684',\n 'Medal_No685',\n 'Medal_No686',\n 'Medal_No687',\n 'Medal_No688',\n 'Medal_No689',\n 'Medal_No690',\n 'Medal_No691',\n 'Medal_No692',\n 'Medal_No693',\n 'Medal_No694',\n 'Medal_No695',\n 'Medal_No696',\n 'Medal_No697',\n 'Medal_No698',\n 'Medal_No699',\n 'Medal_No700',\n 'Medal_No701',\n 'Medal_No702',\n 'Medal_No703',\n 'Medal_No704',\n 'Medal_No705',\n 'Medal_No706',\n 'Medal_No707',\n 'Medal_No708',\n 'Medal_No709',\n 'Medal_No710',\n 'Medal_No711',\n 'Medal_No712',\n 'Medal_No713',\n 'Medal_No714',\n 'Medal_No715',\n 'Medal_No716',\n 'Medal_No717',\n 'Medal_No718',\n 'Medal_No719',\n 'Medal_No720',\n 'Medal_No721',\n 'Medal_No722',\n 'Medal_No723',\n 'Medal_No724',\n 'Medal_No725',\n 'Medal_No726',\n 'Medal_No727',\n 'Medal_No728',\n 'Medal_No729',\n 'Medal_No730',\n 'Medal_No731',\n 'Medal_No732',\n 'Medal_No733',\n 'Medal_No734',\n 'Medal_No735',\n 'Medal_No736',\n 'Medal_No737',\n 'Medal_No738',\n 'Medal_No739',\n 'Medal_No740',\n 'Medal_No741',\n 'Medal_No742',\n 'Medal_No743',\n 'Medal_No744',\n 'Medal_No745',\n 'Medal_No746',\n 'Medal_No747',\n 'Medal_No748',\n 'Medal_No749',\n 'Medal_No750',\n 'Medal_No751',\n 'Medal_No752',\n 'Medal_No753',\n 'Medal_No754',\n 'Medal_No755',\n 'Medal_No756',\n 'Medal_No757',\n 'Medal_No758',\n 'Medal_No759',\n 'Medal_No760',\n 'Medal_No761',\n 'Medal_No762',\n 'Medal_No763',\n 'Medal_No764',\n 'Medal_No765',\n 'Medal_No766',\n 'Medal_No767',\n 'Medal_No768',\n 'Medal_No769',\n 'Medal_No770',\n 'Medal_No771',\n 'Medal_No772',\n 'Medal_No773',\n 'Medal_No774',\n 'Medal_No775',\n 'Medal_No776',\n 'Medal_No777',\n 'Medal_No778',\n 'Medal_No779',\n 'Medal_No780',\n 'Medal_No781',\n 'Medal_No782',\n 'Medal_No783',\n 'Medal_No784',\n 'Medal_No785',\n 'Medal_No786',\n 'Medal_No787',\n 'Medal_No788',\n 'Medal_No789',\n 'Medal_No790',\n 'Medal_No791',\n 'Medal_No792',\n 'Medal_No793',\n 'Medal_No794',\n 'Medal_No795',\n 'Medal_No796',\n 'Medal_No797',\n 'Medal_No798',\n 'Medal_No799',\n 'Medal_No800',\n 'Medal_No801',\n 'Medal_No802',\n 'Medal_No803',\n 'Medal_No804',\n 'Medal_No805',\n 'Medal_No806',\n 'Medal_No807',\n 'Medal_No808',\n 'Medal_No809',\n 'Medal_No810',\n 'Medal_No811',\n 'Medal_No812',\n 'Medal_No813',\n 'Medal_No814',\n 'Medal_No815',\n 'Medal_No816',\n 'Medal_No817',\n 'Medal_No818',\n 'Medal_No819',\n 'Medal_No820',\n 'Medal_No821',\n 'Medal_No822',\n 'Medal_No823',\n 'Medal_No824',\n 'Medal_No825',\n 'Medal_No826',\n 'Medal_No827',\n 'Medal_No828',\n 'Medal_No829',\n 'Medal_No830',\n 'Medal_No831',\n 'Medal_No832',\n 'Medal_No833',\n 'Medal_No834',\n 'Medal_No835',\n 'Medal_No836',\n 'Medal_No837',\n 'Medal_No838',\n 'Medal_No839',\n 'Medal_No840',\n 'Medal_No841',\n 'Medal_No842',\n 'Medal_No843',\n 'Medal_No844',\n 'Medal_No845',\n 'Medal_No846',\n 'Medal_No847',\n 'Medal_No848',\n 'Medal_No849',\n 'Medal_No850',\n 'Medal_No851',\n 'Medal_No852',\n 'Medal_No853',\n 'Medal_No854',\n 'Medal_No855',\n 'Medal_No856',\n 'Medal_No857',\n 'Medal_No858',\n 'Medal_No859',\n 'Medal_No860',\n 'Medal_No861',\n 'Medal_No862',\n 'Medal_No863',\n 'Medal_No864',\n 'Medal_No865',\n 'Medal_No866',\n 'Medal_No867',\n 'Medal_No868',\n 'Medal_No869',\n 'Medal_No870',\n 'Medal_No871',\n 'Medal_No872',\n 'Medal_No873',\n 'Medal_No874',\n 'Medal_No875',\n 'Medal_No876',\n 'Medal_No877',\n 'Medal_No878',\n 'Medal_No879',\n 'Medal_No880',\n 'Medal_No881',\n 'Medal_No882',\n 'Medal_No883',\n 'Medal_No884',\n 'Medal_No885',\n 'Medal_No886',\n 'Medal_No887',\n 'Medal_No888',\n 'Medal_No889',\n 'Medal_No890',\n 'Medal_No891',\n 'Medal_No892',\n 'Medal_No893',\n 'Medal_No894',\n 'Medal_No895',\n 'Medal_No896',\n 'Medal_No897',\n 'Medal_No898',\n 'Medal_No899',\n 'Medal_No900',\n 'Medal_No901',\n 'Medal_No902',\n 'Medal_No903',\n 'Medal_No904',\n 'Medal_No905',\n 'Medal_No906',\n 'Medal_No907',\n 'Medal_No908',\n 'Medal_No909',\n 'Medal_No910',\n 'Medal_No911',\n 'Medal_No912',\n 'Medal_No913',\n 'Medal_No914',\n 'Medal_No915',\n 'Medal_No916',\n 'Medal_No917',\n 'Medal_No918',\n 'Medal_No919',\n 'Medal_No920',\n 'Medal_No921',\n 'Medal_No922',\n 'Medal_No923',\n 'Medal_No924',\n 'Medal_No925',\n 'Medal_No926',\n 'Medal_No927',\n 'Medal_No928',\n 'Medal_No929',\n 'Medal_No930',\n 'Medal_No931',\n 'Medal_No932',\n 'Medal_No933',\n 'Medal_No934',\n 'Medal_No935',\n 'Medal_No936',\n 'Medal_No937',\n 'Medal_No938',\n 'Medal_No939',\n 'Medal_No940',\n 'Medal_No941',\n 'Medal_No942',\n 'Medal_No943',\n 'Medal_No944',\n 'Medal_No945',\n 'Medal_No946',\n 'Medal_No947',\n 'Medal_No948',\n 'Medal_No949',\n 'Medal_No950',\n 'Medal_No951',\n 'Medal_No952',\n 'Medal_No953',\n 'Medal_No954',\n 'Medal_No955',\n 'Medal_No956',\n 'Medal_No957',\n 'Medal_No958',\n 'Medal_No959',\n 'Medal_No960',\n 'Medal_No961',\n 'Medal_No962',\n 'Medal_No963',\n 'Medal_No964',\n 'Medal_No965',\n 'Medal_No966',\n 'Medal_No967',\n 'Medal_No968',\n 'Medal_No969',\n 'Medal_No970',\n 'Medal_No971',\n 'Medal_No972',\n 'Medal_No973',\n 'Medal_No974',\n 'Medal_No975',\n 'Medal_No976',\n 'Medal_No977',\n 'Medal_No978',\n 'Medal_No979',\n 'Medal_No980',\n 'Medal_No981',\n 'Medal_No982',\n 'Medal_No983',\n 'Medal_No984',\n 'Medal_No985',\n 'Medal_No986',\n 'Medal_No987',\n 'Medal_No988',\n 'Medal_No989',\n 'Medal_No990',\n 'Medal_No991',\n 'Medal_No992',\n 'Medal_No993',\n 'Medal_No994',\n 'Medal_No995',\n 'Medal_No996',\n 'Medal_No997',\n 'Medal_No998',\n 'Medal_No999',\n 'Medal_No1000',\n ...]"
     },
     "execution_count": 153,
     "metadata": {},
     "output_type": "execute_result"
    }
   ],
   "source": [
    "new_index = ['Medal_No{}'.format(i) for i in range(1, summer.index.size + 1)]\n",
    "new_index"
   ],
   "metadata": {
    "collapsed": false,
    "pycharm": {
     "name": "#%%\n"
    }
   }
  },
  {
   "cell_type": "code",
   "execution_count": 154,
   "outputs": [],
   "source": [
    "summer.index = new_index"
   ],
   "metadata": {
    "collapsed": false,
    "pycharm": {
     "name": "#%%\n"
    }
   }
  },
  {
   "cell_type": "code",
   "execution_count": 155,
   "outputs": [
    {
     "data": {
      "text/plain": "                      Athlete    City     Sport Discipline Country Gender  \\\nMedal_No1       HAJOS, Alfred  Athens  Aquatics   Swimming     HUN    Men   \nMedal_No2    HERSCHMANN, Otto  Athens  Aquatics   Swimming     AUT    Men   \nMedal_No3   DRIVAS, Dimitrios  Athens  Aquatics   Swimming     GRE    Men   \nMedal_No4  MALOKINIS, Ioannis  Athens  Aquatics   Swimming     GRE    Men   \nMedal_No5  CHASAPIS, Spiridon  Athens  Aquatics   Swimming     GRE    Men   \n\n                                Event   Medal  \nMedal_No1              100M Freestyle    Gold  \nMedal_No2              100M Freestyle  Silver  \nMedal_No3  100M Freestyle For Sailors  Bronze  \nMedal_No4  100M Freestyle For Sailors    Gold  \nMedal_No5  100M Freestyle For Sailors  Silver  ",
      "text/html": "<div>\n<style scoped>\n    .dataframe tbody tr th:only-of-type {\n        vertical-align: middle;\n    }\n\n    .dataframe tbody tr th {\n        vertical-align: top;\n    }\n\n    .dataframe thead th {\n        text-align: right;\n    }\n</style>\n<table border=\"1\" class=\"dataframe\">\n  <thead>\n    <tr style=\"text-align: right;\">\n      <th></th>\n      <th>Athlete</th>\n      <th>City</th>\n      <th>Sport</th>\n      <th>Discipline</th>\n      <th>Country</th>\n      <th>Gender</th>\n      <th>Event</th>\n      <th>Medal</th>\n    </tr>\n  </thead>\n  <tbody>\n    <tr>\n      <th>Medal_No1</th>\n      <td>HAJOS, Alfred</td>\n      <td>Athens</td>\n      <td>Aquatics</td>\n      <td>Swimming</td>\n      <td>HUN</td>\n      <td>Men</td>\n      <td>100M Freestyle</td>\n      <td>Gold</td>\n    </tr>\n    <tr>\n      <th>Medal_No2</th>\n      <td>HERSCHMANN, Otto</td>\n      <td>Athens</td>\n      <td>Aquatics</td>\n      <td>Swimming</td>\n      <td>AUT</td>\n      <td>Men</td>\n      <td>100M Freestyle</td>\n      <td>Silver</td>\n    </tr>\n    <tr>\n      <th>Medal_No3</th>\n      <td>DRIVAS, Dimitrios</td>\n      <td>Athens</td>\n      <td>Aquatics</td>\n      <td>Swimming</td>\n      <td>GRE</td>\n      <td>Men</td>\n      <td>100M Freestyle For Sailors</td>\n      <td>Bronze</td>\n    </tr>\n    <tr>\n      <th>Medal_No4</th>\n      <td>MALOKINIS, Ioannis</td>\n      <td>Athens</td>\n      <td>Aquatics</td>\n      <td>Swimming</td>\n      <td>GRE</td>\n      <td>Men</td>\n      <td>100M Freestyle For Sailors</td>\n      <td>Gold</td>\n    </tr>\n    <tr>\n      <th>Medal_No5</th>\n      <td>CHASAPIS, Spiridon</td>\n      <td>Athens</td>\n      <td>Aquatics</td>\n      <td>Swimming</td>\n      <td>GRE</td>\n      <td>Men</td>\n      <td>100M Freestyle For Sailors</td>\n      <td>Silver</td>\n    </tr>\n  </tbody>\n</table>\n</div>"
     },
     "execution_count": 155,
     "metadata": {},
     "output_type": "execute_result"
    }
   ],
   "source": [
    "summer.head()"
   ],
   "metadata": {
    "collapsed": false,
    "pycharm": {
     "name": "#%%\n"
    }
   }
  },
  {
   "cell_type": "code",
   "execution_count": 156,
   "outputs": [
    {
     "data": {
      "text/plain": "                                 Athlete    City      Sport  \\\nMedal_No31161         JANIKOWSKI, Damian  London  Wrestling   \nMedal_No31162  REZAEI, Ghasem Gholamreza  London  Wrestling   \nMedal_No31163             TOTROV, Rustam  London  Wrestling   \nMedal_No31164          ALEKSANYAN, Artur  London  Wrestling   \nMedal_No31165             LIDBERG, Jimmy  London  Wrestling   \n\n                        Discipline Country Gender     Event   Medal  \nMedal_No31161  Wrestling Freestyle     POL    Men  Wg 84 KG  Bronze  \nMedal_No31162  Wrestling Freestyle     IRI    Men  Wg 96 KG    Gold  \nMedal_No31163  Wrestling Freestyle     RUS    Men  Wg 96 KG  Silver  \nMedal_No31164  Wrestling Freestyle     ARM    Men  Wg 96 KG  Bronze  \nMedal_No31165  Wrestling Freestyle     SWE    Men  Wg 96 KG  Bronze  ",
      "text/html": "<div>\n<style scoped>\n    .dataframe tbody tr th:only-of-type {\n        vertical-align: middle;\n    }\n\n    .dataframe tbody tr th {\n        vertical-align: top;\n    }\n\n    .dataframe thead th {\n        text-align: right;\n    }\n</style>\n<table border=\"1\" class=\"dataframe\">\n  <thead>\n    <tr style=\"text-align: right;\">\n      <th></th>\n      <th>Athlete</th>\n      <th>City</th>\n      <th>Sport</th>\n      <th>Discipline</th>\n      <th>Country</th>\n      <th>Gender</th>\n      <th>Event</th>\n      <th>Medal</th>\n    </tr>\n  </thead>\n  <tbody>\n    <tr>\n      <th>Medal_No31161</th>\n      <td>JANIKOWSKI, Damian</td>\n      <td>London</td>\n      <td>Wrestling</td>\n      <td>Wrestling Freestyle</td>\n      <td>POL</td>\n      <td>Men</td>\n      <td>Wg 84 KG</td>\n      <td>Bronze</td>\n    </tr>\n    <tr>\n      <th>Medal_No31162</th>\n      <td>REZAEI, Ghasem Gholamreza</td>\n      <td>London</td>\n      <td>Wrestling</td>\n      <td>Wrestling Freestyle</td>\n      <td>IRI</td>\n      <td>Men</td>\n      <td>Wg 96 KG</td>\n      <td>Gold</td>\n    </tr>\n    <tr>\n      <th>Medal_No31163</th>\n      <td>TOTROV, Rustam</td>\n      <td>London</td>\n      <td>Wrestling</td>\n      <td>Wrestling Freestyle</td>\n      <td>RUS</td>\n      <td>Men</td>\n      <td>Wg 96 KG</td>\n      <td>Silver</td>\n    </tr>\n    <tr>\n      <th>Medal_No31164</th>\n      <td>ALEKSANYAN, Artur</td>\n      <td>London</td>\n      <td>Wrestling</td>\n      <td>Wrestling Freestyle</td>\n      <td>ARM</td>\n      <td>Men</td>\n      <td>Wg 96 KG</td>\n      <td>Bronze</td>\n    </tr>\n    <tr>\n      <th>Medal_No31165</th>\n      <td>LIDBERG, Jimmy</td>\n      <td>London</td>\n      <td>Wrestling</td>\n      <td>Wrestling Freestyle</td>\n      <td>SWE</td>\n      <td>Men</td>\n      <td>Wg 96 KG</td>\n      <td>Bronze</td>\n    </tr>\n  </tbody>\n</table>\n</div>"
     },
     "execution_count": 156,
     "metadata": {},
     "output_type": "execute_result"
    }
   ],
   "source": [
    "summer.tail()"
   ],
   "metadata": {
    "collapsed": false,
    "pycharm": {
     "name": "#%%\n"
    }
   }
  },
  {
   "cell_type": "code",
   "execution_count": 157,
   "outputs": [
    {
     "data": {
      "text/plain": "True"
     },
     "execution_count": 157,
     "metadata": {},
     "output_type": "execute_result"
    }
   ],
   "source": [
    "summer.index.is_unique"
   ],
   "metadata": {
    "collapsed": false,
    "pycharm": {
     "name": "#%%\n"
    }
   }
  },
  {
   "cell_type": "code",
   "execution_count": 158,
   "outputs": [],
   "source": [
    "summer.index.name = 'Medal_No'"
   ],
   "metadata": {
    "collapsed": false,
    "pycharm": {
     "name": "#%%\n"
    }
   }
  },
  {
   "cell_type": "code",
   "execution_count": 159,
   "outputs": [
    {
     "data": {
      "text/plain": "                      Athlete    City     Sport Discipline Country Gender  \\\nMedal_No                                                                    \nMedal_No1       HAJOS, Alfred  Athens  Aquatics   Swimming     HUN    Men   \nMedal_No2    HERSCHMANN, Otto  Athens  Aquatics   Swimming     AUT    Men   \nMedal_No3   DRIVAS, Dimitrios  Athens  Aquatics   Swimming     GRE    Men   \nMedal_No4  MALOKINIS, Ioannis  Athens  Aquatics   Swimming     GRE    Men   \nMedal_No5  CHASAPIS, Spiridon  Athens  Aquatics   Swimming     GRE    Men   \n\n                                Event   Medal  \nMedal_No                                       \nMedal_No1              100M Freestyle    Gold  \nMedal_No2              100M Freestyle  Silver  \nMedal_No3  100M Freestyle For Sailors  Bronze  \nMedal_No4  100M Freestyle For Sailors    Gold  \nMedal_No5  100M Freestyle For Sailors  Silver  ",
      "text/html": "<div>\n<style scoped>\n    .dataframe tbody tr th:only-of-type {\n        vertical-align: middle;\n    }\n\n    .dataframe tbody tr th {\n        vertical-align: top;\n    }\n\n    .dataframe thead th {\n        text-align: right;\n    }\n</style>\n<table border=\"1\" class=\"dataframe\">\n  <thead>\n    <tr style=\"text-align: right;\">\n      <th></th>\n      <th>Athlete</th>\n      <th>City</th>\n      <th>Sport</th>\n      <th>Discipline</th>\n      <th>Country</th>\n      <th>Gender</th>\n      <th>Event</th>\n      <th>Medal</th>\n    </tr>\n    <tr>\n      <th>Medal_No</th>\n      <th></th>\n      <th></th>\n      <th></th>\n      <th></th>\n      <th></th>\n      <th></th>\n      <th></th>\n      <th></th>\n    </tr>\n  </thead>\n  <tbody>\n    <tr>\n      <th>Medal_No1</th>\n      <td>HAJOS, Alfred</td>\n      <td>Athens</td>\n      <td>Aquatics</td>\n      <td>Swimming</td>\n      <td>HUN</td>\n      <td>Men</td>\n      <td>100M Freestyle</td>\n      <td>Gold</td>\n    </tr>\n    <tr>\n      <th>Medal_No2</th>\n      <td>HERSCHMANN, Otto</td>\n      <td>Athens</td>\n      <td>Aquatics</td>\n      <td>Swimming</td>\n      <td>AUT</td>\n      <td>Men</td>\n      <td>100M Freestyle</td>\n      <td>Silver</td>\n    </tr>\n    <tr>\n      <th>Medal_No3</th>\n      <td>DRIVAS, Dimitrios</td>\n      <td>Athens</td>\n      <td>Aquatics</td>\n      <td>Swimming</td>\n      <td>GRE</td>\n      <td>Men</td>\n      <td>100M Freestyle For Sailors</td>\n      <td>Bronze</td>\n    </tr>\n    <tr>\n      <th>Medal_No4</th>\n      <td>MALOKINIS, Ioannis</td>\n      <td>Athens</td>\n      <td>Aquatics</td>\n      <td>Swimming</td>\n      <td>GRE</td>\n      <td>Men</td>\n      <td>100M Freestyle For Sailors</td>\n      <td>Gold</td>\n    </tr>\n    <tr>\n      <th>Medal_No5</th>\n      <td>CHASAPIS, Spiridon</td>\n      <td>Athens</td>\n      <td>Aquatics</td>\n      <td>Swimming</td>\n      <td>GRE</td>\n      <td>Men</td>\n      <td>100M Freestyle For Sailors</td>\n      <td>Silver</td>\n    </tr>\n  </tbody>\n</table>\n</div>"
     },
     "execution_count": 159,
     "metadata": {},
     "output_type": "execute_result"
    }
   ],
   "source": [
    "summer.head()"
   ],
   "metadata": {
    "collapsed": false,
    "pycharm": {
     "name": "#%%\n"
    }
   }
  },
  {
   "cell_type": "markdown",
   "source": [
    "### Changing Column Labels\n",
    "* column lables are immuatable\n",
    "* the whole list can be replaced\n",
    "* a name can be set for the colums index"
   ],
   "metadata": {
    "collapsed": false,
    "pycharm": {
     "name": "#%% md\n"
    }
   }
  },
  {
   "cell_type": "code",
   "execution_count": 160,
   "outputs": [
    {
     "data": {
      "text/plain": "   survived  pclass     sex   age  sibsp  parch     fare embarked deck\n0         0       3    male  22.0      1      0   7.2500        S  NaN\n1         1       1  female  38.0      1      0  71.2833        C    C\n2         1       3  female  26.0      0      0   7.9250        S  NaN\n3         1       1  female  35.0      1      0  53.1000        S    C\n4         0       3    male  35.0      0      0   8.0500        S  NaN",
      "text/html": "<div>\n<style scoped>\n    .dataframe tbody tr th:only-of-type {\n        vertical-align: middle;\n    }\n\n    .dataframe tbody tr th {\n        vertical-align: top;\n    }\n\n    .dataframe thead th {\n        text-align: right;\n    }\n</style>\n<table border=\"1\" class=\"dataframe\">\n  <thead>\n    <tr style=\"text-align: right;\">\n      <th></th>\n      <th>survived</th>\n      <th>pclass</th>\n      <th>sex</th>\n      <th>age</th>\n      <th>sibsp</th>\n      <th>parch</th>\n      <th>fare</th>\n      <th>embarked</th>\n      <th>deck</th>\n    </tr>\n  </thead>\n  <tbody>\n    <tr>\n      <th>0</th>\n      <td>0</td>\n      <td>3</td>\n      <td>male</td>\n      <td>22.0</td>\n      <td>1</td>\n      <td>0</td>\n      <td>7.2500</td>\n      <td>S</td>\n      <td>NaN</td>\n    </tr>\n    <tr>\n      <th>1</th>\n      <td>1</td>\n      <td>1</td>\n      <td>female</td>\n      <td>38.0</td>\n      <td>1</td>\n      <td>0</td>\n      <td>71.2833</td>\n      <td>C</td>\n      <td>C</td>\n    </tr>\n    <tr>\n      <th>2</th>\n      <td>1</td>\n      <td>3</td>\n      <td>female</td>\n      <td>26.0</td>\n      <td>0</td>\n      <td>0</td>\n      <td>7.9250</td>\n      <td>S</td>\n      <td>NaN</td>\n    </tr>\n    <tr>\n      <th>3</th>\n      <td>1</td>\n      <td>1</td>\n      <td>female</td>\n      <td>35.0</td>\n      <td>1</td>\n      <td>0</td>\n      <td>53.1000</td>\n      <td>S</td>\n      <td>C</td>\n    </tr>\n    <tr>\n      <th>4</th>\n      <td>0</td>\n      <td>3</td>\n      <td>male</td>\n      <td>35.0</td>\n      <td>0</td>\n      <td>0</td>\n      <td>8.0500</td>\n      <td>S</td>\n      <td>NaN</td>\n    </tr>\n  </tbody>\n</table>\n</div>"
     },
     "execution_count": 160,
     "metadata": {},
     "output_type": "execute_result"
    }
   ],
   "source": [
    "titanic = pd.read_csv('data/titanic.csv')\n",
    "titanic.head()"
   ],
   "metadata": {
    "collapsed": false,
    "pycharm": {
     "name": "#%%\n"
    }
   }
  },
  {
   "cell_type": "code",
   "execution_count": 161,
   "outputs": [
    {
     "data": {
      "text/plain": "     survived  pclass     sex   age  sibsp  parch   fare embarked deck\n886         0       2    male  27.0      0      0  13.00        S  NaN\n887         1       1  female  19.0      0      0  30.00        S    B\n888         0       3  female   NaN      1      2  23.45        S  NaN\n889         1       1    male  26.0      0      0  30.00        C    C\n890         0       3    male  32.0      0      0   7.75        Q  NaN",
      "text/html": "<div>\n<style scoped>\n    .dataframe tbody tr th:only-of-type {\n        vertical-align: middle;\n    }\n\n    .dataframe tbody tr th {\n        vertical-align: top;\n    }\n\n    .dataframe thead th {\n        text-align: right;\n    }\n</style>\n<table border=\"1\" class=\"dataframe\">\n  <thead>\n    <tr style=\"text-align: right;\">\n      <th></th>\n      <th>survived</th>\n      <th>pclass</th>\n      <th>sex</th>\n      <th>age</th>\n      <th>sibsp</th>\n      <th>parch</th>\n      <th>fare</th>\n      <th>embarked</th>\n      <th>deck</th>\n    </tr>\n  </thead>\n  <tbody>\n    <tr>\n      <th>886</th>\n      <td>0</td>\n      <td>2</td>\n      <td>male</td>\n      <td>27.0</td>\n      <td>0</td>\n      <td>0</td>\n      <td>13.00</td>\n      <td>S</td>\n      <td>NaN</td>\n    </tr>\n    <tr>\n      <th>887</th>\n      <td>1</td>\n      <td>1</td>\n      <td>female</td>\n      <td>19.0</td>\n      <td>0</td>\n      <td>0</td>\n      <td>30.00</td>\n      <td>S</td>\n      <td>B</td>\n    </tr>\n    <tr>\n      <th>888</th>\n      <td>0</td>\n      <td>3</td>\n      <td>female</td>\n      <td>NaN</td>\n      <td>1</td>\n      <td>2</td>\n      <td>23.45</td>\n      <td>S</td>\n      <td>NaN</td>\n    </tr>\n    <tr>\n      <th>889</th>\n      <td>1</td>\n      <td>1</td>\n      <td>male</td>\n      <td>26.0</td>\n      <td>0</td>\n      <td>0</td>\n      <td>30.00</td>\n      <td>C</td>\n      <td>C</td>\n    </tr>\n    <tr>\n      <th>890</th>\n      <td>0</td>\n      <td>3</td>\n      <td>male</td>\n      <td>32.0</td>\n      <td>0</td>\n      <td>0</td>\n      <td>7.75</td>\n      <td>Q</td>\n      <td>NaN</td>\n    </tr>\n  </tbody>\n</table>\n</div>"
     },
     "execution_count": 161,
     "metadata": {},
     "output_type": "execute_result"
    }
   ],
   "source": [
    "titanic.tail()"
   ],
   "metadata": {
    "collapsed": false,
    "pycharm": {
     "name": "#%%\n"
    }
   }
  },
  {
   "cell_type": "code",
   "execution_count": 162,
   "outputs": [
    {
     "data": {
      "text/plain": "Index(['survived', 'pclass', 'sex', 'age', 'sibsp', 'parch', 'fare',\n       'embarked', 'deck'],\n      dtype='object')"
     },
     "execution_count": 162,
     "metadata": {},
     "output_type": "execute_result"
    }
   ],
   "source": [
    "titanic.columns"
   ],
   "metadata": {
    "collapsed": false,
    "pycharm": {
     "name": "#%%\n"
    }
   }
  },
  {
   "cell_type": "code",
   "execution_count": 163,
   "outputs": [
    {
     "data": {
      "text/plain": "'survived'"
     },
     "execution_count": 163,
     "metadata": {},
     "output_type": "execute_result"
    }
   ],
   "source": [
    "titanic.columns[0]"
   ],
   "metadata": {
    "collapsed": false,
    "pycharm": {
     "name": "#%%\n"
    }
   }
  },
  {
   "cell_type": "code",
   "execution_count": 164,
   "outputs": [],
   "source": [
    "titanic.columns = ['Alive', 'Class', 'Sex', 'Age', 'SibSp', 'ParChi', 'Fare', 'Emb', 'Deck']"
   ],
   "metadata": {
    "collapsed": false,
    "pycharm": {
     "name": "#%%\n"
    }
   }
  },
  {
   "cell_type": "code",
   "execution_count": 165,
   "outputs": [
    {
     "data": {
      "text/plain": "   Alive  Class     Sex   Age  SibSp  ParChi     Fare Emb Deck\n0      0      3    male  22.0      1       0   7.2500   S  NaN\n1      1      1  female  38.0      1       0  71.2833   C    C\n2      1      3  female  26.0      0       0   7.9250   S  NaN\n3      1      1  female  35.0      1       0  53.1000   S    C\n4      0      3    male  35.0      0       0   8.0500   S  NaN",
      "text/html": "<div>\n<style scoped>\n    .dataframe tbody tr th:only-of-type {\n        vertical-align: middle;\n    }\n\n    .dataframe tbody tr th {\n        vertical-align: top;\n    }\n\n    .dataframe thead th {\n        text-align: right;\n    }\n</style>\n<table border=\"1\" class=\"dataframe\">\n  <thead>\n    <tr style=\"text-align: right;\">\n      <th></th>\n      <th>Alive</th>\n      <th>Class</th>\n      <th>Sex</th>\n      <th>Age</th>\n      <th>SibSp</th>\n      <th>ParChi</th>\n      <th>Fare</th>\n      <th>Emb</th>\n      <th>Deck</th>\n    </tr>\n  </thead>\n  <tbody>\n    <tr>\n      <th>0</th>\n      <td>0</td>\n      <td>3</td>\n      <td>male</td>\n      <td>22.0</td>\n      <td>1</td>\n      <td>0</td>\n      <td>7.2500</td>\n      <td>S</td>\n      <td>NaN</td>\n    </tr>\n    <tr>\n      <th>1</th>\n      <td>1</td>\n      <td>1</td>\n      <td>female</td>\n      <td>38.0</td>\n      <td>1</td>\n      <td>0</td>\n      <td>71.2833</td>\n      <td>C</td>\n      <td>C</td>\n    </tr>\n    <tr>\n      <th>2</th>\n      <td>1</td>\n      <td>3</td>\n      <td>female</td>\n      <td>26.0</td>\n      <td>0</td>\n      <td>0</td>\n      <td>7.9250</td>\n      <td>S</td>\n      <td>NaN</td>\n    </tr>\n    <tr>\n      <th>3</th>\n      <td>1</td>\n      <td>1</td>\n      <td>female</td>\n      <td>35.0</td>\n      <td>1</td>\n      <td>0</td>\n      <td>53.1000</td>\n      <td>S</td>\n      <td>C</td>\n    </tr>\n    <tr>\n      <th>4</th>\n      <td>0</td>\n      <td>3</td>\n      <td>male</td>\n      <td>35.0</td>\n      <td>0</td>\n      <td>0</td>\n      <td>8.0500</td>\n      <td>S</td>\n      <td>NaN</td>\n    </tr>\n  </tbody>\n</table>\n</div>"
     },
     "execution_count": 165,
     "metadata": {},
     "output_type": "execute_result"
    }
   ],
   "source": [
    "titanic.head()"
   ],
   "metadata": {
    "collapsed": false,
    "pycharm": {
     "name": "#%%\n"
    }
   }
  },
  {
   "cell_type": "code",
   "execution_count": 166,
   "outputs": [],
   "source": [
    "titanic.columns.name = 'Pass_Char'"
   ],
   "metadata": {
    "collapsed": false,
    "pycharm": {
     "name": "#%%\n"
    }
   }
  },
  {
   "cell_type": "code",
   "execution_count": 167,
   "outputs": [
    {
     "data": {
      "text/plain": "Pass_Char  Alive  Class     Sex   Age  SibSp  ParChi     Fare Emb Deck\n0              0      3    male  22.0      1       0   7.2500   S  NaN\n1              1      1  female  38.0      1       0  71.2833   C    C\n2              1      3  female  26.0      0       0   7.9250   S  NaN\n3              1      1  female  35.0      1       0  53.1000   S    C\n4              0      3    male  35.0      0       0   8.0500   S  NaN",
      "text/html": "<div>\n<style scoped>\n    .dataframe tbody tr th:only-of-type {\n        vertical-align: middle;\n    }\n\n    .dataframe tbody tr th {\n        vertical-align: top;\n    }\n\n    .dataframe thead th {\n        text-align: right;\n    }\n</style>\n<table border=\"1\" class=\"dataframe\">\n  <thead>\n    <tr style=\"text-align: right;\">\n      <th>Pass_Char</th>\n      <th>Alive</th>\n      <th>Class</th>\n      <th>Sex</th>\n      <th>Age</th>\n      <th>SibSp</th>\n      <th>ParChi</th>\n      <th>Fare</th>\n      <th>Emb</th>\n      <th>Deck</th>\n    </tr>\n  </thead>\n  <tbody>\n    <tr>\n      <th>0</th>\n      <td>0</td>\n      <td>3</td>\n      <td>male</td>\n      <td>22.0</td>\n      <td>1</td>\n      <td>0</td>\n      <td>7.2500</td>\n      <td>S</td>\n      <td>NaN</td>\n    </tr>\n    <tr>\n      <th>1</th>\n      <td>1</td>\n      <td>1</td>\n      <td>female</td>\n      <td>38.0</td>\n      <td>1</td>\n      <td>0</td>\n      <td>71.2833</td>\n      <td>C</td>\n      <td>C</td>\n    </tr>\n    <tr>\n      <th>2</th>\n      <td>1</td>\n      <td>3</td>\n      <td>female</td>\n      <td>26.0</td>\n      <td>0</td>\n      <td>0</td>\n      <td>7.9250</td>\n      <td>S</td>\n      <td>NaN</td>\n    </tr>\n    <tr>\n      <th>3</th>\n      <td>1</td>\n      <td>1</td>\n      <td>female</td>\n      <td>35.0</td>\n      <td>1</td>\n      <td>0</td>\n      <td>53.1000</td>\n      <td>S</td>\n      <td>C</td>\n    </tr>\n    <tr>\n      <th>4</th>\n      <td>0</td>\n      <td>3</td>\n      <td>male</td>\n      <td>35.0</td>\n      <td>0</td>\n      <td>0</td>\n      <td>8.0500</td>\n      <td>S</td>\n      <td>NaN</td>\n    </tr>\n  </tbody>\n</table>\n</div>"
     },
     "execution_count": 167,
     "metadata": {},
     "output_type": "execute_result"
    }
   ],
   "source": [
    "titanic.head()"
   ],
   "metadata": {
    "collapsed": false,
    "pycharm": {
     "name": "#%%\n"
    }
   }
  },
  {
   "cell_type": "code",
   "execution_count": 168,
   "outputs": [],
   "source": [
    "titanic.index.name = 'Passenger_No'"
   ],
   "metadata": {
    "collapsed": false,
    "pycharm": {
     "name": "#%%\n"
    }
   }
  },
  {
   "cell_type": "code",
   "execution_count": 169,
   "outputs": [
    {
     "data": {
      "text/plain": "Pass_Char     Alive  Class     Sex   Age  SibSp  ParChi     Fare Emb Deck\nPassenger_No                                                             \n0                 0      3    male  22.0      1       0   7.2500   S  NaN\n1                 1      1  female  38.0      1       0  71.2833   C    C\n2                 1      3  female  26.0      0       0   7.9250   S  NaN\n3                 1      1  female  35.0      1       0  53.1000   S    C\n4                 0      3    male  35.0      0       0   8.0500   S  NaN",
      "text/html": "<div>\n<style scoped>\n    .dataframe tbody tr th:only-of-type {\n        vertical-align: middle;\n    }\n\n    .dataframe tbody tr th {\n        vertical-align: top;\n    }\n\n    .dataframe thead th {\n        text-align: right;\n    }\n</style>\n<table border=\"1\" class=\"dataframe\">\n  <thead>\n    <tr style=\"text-align: right;\">\n      <th>Pass_Char</th>\n      <th>Alive</th>\n      <th>Class</th>\n      <th>Sex</th>\n      <th>Age</th>\n      <th>SibSp</th>\n      <th>ParChi</th>\n      <th>Fare</th>\n      <th>Emb</th>\n      <th>Deck</th>\n    </tr>\n    <tr>\n      <th>Passenger_No</th>\n      <th></th>\n      <th></th>\n      <th></th>\n      <th></th>\n      <th></th>\n      <th></th>\n      <th></th>\n      <th></th>\n      <th></th>\n    </tr>\n  </thead>\n  <tbody>\n    <tr>\n      <th>0</th>\n      <td>0</td>\n      <td>3</td>\n      <td>male</td>\n      <td>22.0</td>\n      <td>1</td>\n      <td>0</td>\n      <td>7.2500</td>\n      <td>S</td>\n      <td>NaN</td>\n    </tr>\n    <tr>\n      <th>1</th>\n      <td>1</td>\n      <td>1</td>\n      <td>female</td>\n      <td>38.0</td>\n      <td>1</td>\n      <td>0</td>\n      <td>71.2833</td>\n      <td>C</td>\n      <td>C</td>\n    </tr>\n    <tr>\n      <th>2</th>\n      <td>1</td>\n      <td>3</td>\n      <td>female</td>\n      <td>26.0</td>\n      <td>0</td>\n      <td>0</td>\n      <td>7.9250</td>\n      <td>S</td>\n      <td>NaN</td>\n    </tr>\n    <tr>\n      <th>3</th>\n      <td>1</td>\n      <td>1</td>\n      <td>female</td>\n      <td>35.0</td>\n      <td>1</td>\n      <td>0</td>\n      <td>53.1000</td>\n      <td>S</td>\n      <td>C</td>\n    </tr>\n    <tr>\n      <th>4</th>\n      <td>0</td>\n      <td>3</td>\n      <td>male</td>\n      <td>35.0</td>\n      <td>0</td>\n      <td>0</td>\n      <td>8.0500</td>\n      <td>S</td>\n      <td>NaN</td>\n    </tr>\n  </tbody>\n</table>\n</div>"
     },
     "execution_count": 169,
     "metadata": {},
     "output_type": "execute_result"
    }
   ],
   "source": [
    "titanic.head()"
   ],
   "metadata": {
    "collapsed": false,
    "pycharm": {
     "name": "#%%\n"
    }
   }
  },
  {
   "cell_type": "markdown",
   "source": [
    "### Renaming Index and Column Labels"
   ],
   "metadata": {
    "collapsed": false,
    "pycharm": {
     "name": "#%% md\n"
    }
   }
  },
  {
   "cell_type": "code",
   "execution_count": 170,
   "outputs": [],
   "source": [
    "summer = pd.read_csv('data/summer.csv', index_col='Athlete')"
   ],
   "metadata": {
    "collapsed": false,
    "pycharm": {
     "name": "#%%\n"
    }
   }
  },
  {
   "cell_type": "code",
   "execution_count": 171,
   "outputs": [
    {
     "data": {
      "text/plain": "                           Year    City      Sport           Discipline  \\\nAthlete                                                                   \nHAJOS, Alfred              1896  Athens   Aquatics             Swimming   \nHERSCHMANN, Otto           1896  Athens   Aquatics             Swimming   \nDRIVAS, Dimitrios          1896  Athens   Aquatics             Swimming   \nMALOKINIS, Ioannis         1896  Athens   Aquatics             Swimming   \nCHASAPIS, Spiridon         1896  Athens   Aquatics             Swimming   \n...                         ...     ...        ...                  ...   \nJANIKOWSKI, Damian         2012  London  Wrestling  Wrestling Freestyle   \nREZAEI, Ghasem Gholamreza  2012  London  Wrestling  Wrestling Freestyle   \nTOTROV, Rustam             2012  London  Wrestling  Wrestling Freestyle   \nALEKSANYAN, Artur          2012  London  Wrestling  Wrestling Freestyle   \nLIDBERG, Jimmy             2012  London  Wrestling  Wrestling Freestyle   \n\n                          Country Gender                       Event   Medal  \nAthlete                                                                       \nHAJOS, Alfred                 HUN    Men              100M Freestyle    Gold  \nHERSCHMANN, Otto              AUT    Men              100M Freestyle  Silver  \nDRIVAS, Dimitrios             GRE    Men  100M Freestyle For Sailors  Bronze  \nMALOKINIS, Ioannis            GRE    Men  100M Freestyle For Sailors    Gold  \nCHASAPIS, Spiridon            GRE    Men  100M Freestyle For Sailors  Silver  \n...                           ...    ...                         ...     ...  \nJANIKOWSKI, Damian            POL    Men                    Wg 84 KG  Bronze  \nREZAEI, Ghasem Gholamreza     IRI    Men                    Wg 96 KG    Gold  \nTOTROV, Rustam                RUS    Men                    Wg 96 KG  Silver  \nALEKSANYAN, Artur             ARM    Men                    Wg 96 KG  Bronze  \nLIDBERG, Jimmy                SWE    Men                    Wg 96 KG  Bronze  \n\n[31165 rows x 8 columns]",
      "text/html": "<div>\n<style scoped>\n    .dataframe tbody tr th:only-of-type {\n        vertical-align: middle;\n    }\n\n    .dataframe tbody tr th {\n        vertical-align: top;\n    }\n\n    .dataframe thead th {\n        text-align: right;\n    }\n</style>\n<table border=\"1\" class=\"dataframe\">\n  <thead>\n    <tr style=\"text-align: right;\">\n      <th></th>\n      <th>Year</th>\n      <th>City</th>\n      <th>Sport</th>\n      <th>Discipline</th>\n      <th>Country</th>\n      <th>Gender</th>\n      <th>Event</th>\n      <th>Medal</th>\n    </tr>\n    <tr>\n      <th>Athlete</th>\n      <th></th>\n      <th></th>\n      <th></th>\n      <th></th>\n      <th></th>\n      <th></th>\n      <th></th>\n      <th></th>\n    </tr>\n  </thead>\n  <tbody>\n    <tr>\n      <th>HAJOS, Alfred</th>\n      <td>1896</td>\n      <td>Athens</td>\n      <td>Aquatics</td>\n      <td>Swimming</td>\n      <td>HUN</td>\n      <td>Men</td>\n      <td>100M Freestyle</td>\n      <td>Gold</td>\n    </tr>\n    <tr>\n      <th>HERSCHMANN, Otto</th>\n      <td>1896</td>\n      <td>Athens</td>\n      <td>Aquatics</td>\n      <td>Swimming</td>\n      <td>AUT</td>\n      <td>Men</td>\n      <td>100M Freestyle</td>\n      <td>Silver</td>\n    </tr>\n    <tr>\n      <th>DRIVAS, Dimitrios</th>\n      <td>1896</td>\n      <td>Athens</td>\n      <td>Aquatics</td>\n      <td>Swimming</td>\n      <td>GRE</td>\n      <td>Men</td>\n      <td>100M Freestyle For Sailors</td>\n      <td>Bronze</td>\n    </tr>\n    <tr>\n      <th>MALOKINIS, Ioannis</th>\n      <td>1896</td>\n      <td>Athens</td>\n      <td>Aquatics</td>\n      <td>Swimming</td>\n      <td>GRE</td>\n      <td>Men</td>\n      <td>100M Freestyle For Sailors</td>\n      <td>Gold</td>\n    </tr>\n    <tr>\n      <th>CHASAPIS, Spiridon</th>\n      <td>1896</td>\n      <td>Athens</td>\n      <td>Aquatics</td>\n      <td>Swimming</td>\n      <td>GRE</td>\n      <td>Men</td>\n      <td>100M Freestyle For Sailors</td>\n      <td>Silver</td>\n    </tr>\n    <tr>\n      <th>...</th>\n      <td>...</td>\n      <td>...</td>\n      <td>...</td>\n      <td>...</td>\n      <td>...</td>\n      <td>...</td>\n      <td>...</td>\n      <td>...</td>\n    </tr>\n    <tr>\n      <th>JANIKOWSKI, Damian</th>\n      <td>2012</td>\n      <td>London</td>\n      <td>Wrestling</td>\n      <td>Wrestling Freestyle</td>\n      <td>POL</td>\n      <td>Men</td>\n      <td>Wg 84 KG</td>\n      <td>Bronze</td>\n    </tr>\n    <tr>\n      <th>REZAEI, Ghasem Gholamreza</th>\n      <td>2012</td>\n      <td>London</td>\n      <td>Wrestling</td>\n      <td>Wrestling Freestyle</td>\n      <td>IRI</td>\n      <td>Men</td>\n      <td>Wg 96 KG</td>\n      <td>Gold</td>\n    </tr>\n    <tr>\n      <th>TOTROV, Rustam</th>\n      <td>2012</td>\n      <td>London</td>\n      <td>Wrestling</td>\n      <td>Wrestling Freestyle</td>\n      <td>RUS</td>\n      <td>Men</td>\n      <td>Wg 96 KG</td>\n      <td>Silver</td>\n    </tr>\n    <tr>\n      <th>ALEKSANYAN, Artur</th>\n      <td>2012</td>\n      <td>London</td>\n      <td>Wrestling</td>\n      <td>Wrestling Freestyle</td>\n      <td>ARM</td>\n      <td>Men</td>\n      <td>Wg 96 KG</td>\n      <td>Bronze</td>\n    </tr>\n    <tr>\n      <th>LIDBERG, Jimmy</th>\n      <td>2012</td>\n      <td>London</td>\n      <td>Wrestling</td>\n      <td>Wrestling Freestyle</td>\n      <td>SWE</td>\n      <td>Men</td>\n      <td>Wg 96 KG</td>\n      <td>Bronze</td>\n    </tr>\n  </tbody>\n</table>\n<p>31165 rows × 8 columns</p>\n</div>"
     },
     "execution_count": 171,
     "metadata": {},
     "output_type": "execute_result"
    }
   ],
   "source": [
    "summer"
   ],
   "metadata": {
    "collapsed": false,
    "pycharm": {
     "name": "#%%\n"
    }
   }
  },
  {
   "cell_type": "code",
   "execution_count": 172,
   "outputs": [
    {
     "data": {
      "text/plain": "                           Year    City      Sport           Discipline  \\\nAthlete                                                                   \nHAYOS, Alfred              1896  Athens   Aquatics             Swimming   \nHERSCHMANN, Otto           1896  Athens   Aquatics             Swimming   \nDRIVAS, Dimitrios          1896  Athens   Aquatics             Swimming   \nMALOKINIS, Ioannis         1896  Athens   Aquatics             Swimming   \nCHASAPIS, Spiridon         1896  Athens   Aquatics             Swimming   \n...                         ...     ...        ...                  ...   \nJANIKOWSKI, Damian         2012  London  Wrestling  Wrestling Freestyle   \nREZAEI, Ghasem Gholamreza  2012  London  Wrestling  Wrestling Freestyle   \nTOTROV, Rustam             2012  London  Wrestling  Wrestling Freestyle   \nALEKSANYAN, Artur          2012  London  Wrestling  Wrestling Freestyle   \nLIDBERG, Jimmy             2012  London  Wrestling  Wrestling Freestyle   \n\n                          Country Gender                       Event   Medal  \nAthlete                                                                       \nHAYOS, Alfred                 HUN    Men              100M Freestyle    Gold  \nHERSCHMANN, Otto              AUT    Men              100M Freestyle  Silver  \nDRIVAS, Dimitrios             GRE    Men  100M Freestyle For Sailors  Bronze  \nMALOKINIS, Ioannis            GRE    Men  100M Freestyle For Sailors    Gold  \nCHASAPIS, Spiridon            GRE    Men  100M Freestyle For Sailors  Silver  \n...                           ...    ...                         ...     ...  \nJANIKOWSKI, Damian            POL    Men                    Wg 84 KG  Bronze  \nREZAEI, Ghasem Gholamreza     IRI    Men                    Wg 96 KG    Gold  \nTOTROV, Rustam                RUS    Men                    Wg 96 KG  Silver  \nALEKSANYAN, Artur             ARM    Men                    Wg 96 KG  Bronze  \nLIDBERG, Jimmy                SWE    Men                    Wg 96 KG  Bronze  \n\n[31165 rows x 8 columns]",
      "text/html": "<div>\n<style scoped>\n    .dataframe tbody tr th:only-of-type {\n        vertical-align: middle;\n    }\n\n    .dataframe tbody tr th {\n        vertical-align: top;\n    }\n\n    .dataframe thead th {\n        text-align: right;\n    }\n</style>\n<table border=\"1\" class=\"dataframe\">\n  <thead>\n    <tr style=\"text-align: right;\">\n      <th></th>\n      <th>Year</th>\n      <th>City</th>\n      <th>Sport</th>\n      <th>Discipline</th>\n      <th>Country</th>\n      <th>Gender</th>\n      <th>Event</th>\n      <th>Medal</th>\n    </tr>\n    <tr>\n      <th>Athlete</th>\n      <th></th>\n      <th></th>\n      <th></th>\n      <th></th>\n      <th></th>\n      <th></th>\n      <th></th>\n      <th></th>\n    </tr>\n  </thead>\n  <tbody>\n    <tr>\n      <th>HAYOS, Alfred</th>\n      <td>1896</td>\n      <td>Athens</td>\n      <td>Aquatics</td>\n      <td>Swimming</td>\n      <td>HUN</td>\n      <td>Men</td>\n      <td>100M Freestyle</td>\n      <td>Gold</td>\n    </tr>\n    <tr>\n      <th>HERSCHMANN, Otto</th>\n      <td>1896</td>\n      <td>Athens</td>\n      <td>Aquatics</td>\n      <td>Swimming</td>\n      <td>AUT</td>\n      <td>Men</td>\n      <td>100M Freestyle</td>\n      <td>Silver</td>\n    </tr>\n    <tr>\n      <th>DRIVAS, Dimitrios</th>\n      <td>1896</td>\n      <td>Athens</td>\n      <td>Aquatics</td>\n      <td>Swimming</td>\n      <td>GRE</td>\n      <td>Men</td>\n      <td>100M Freestyle For Sailors</td>\n      <td>Bronze</td>\n    </tr>\n    <tr>\n      <th>MALOKINIS, Ioannis</th>\n      <td>1896</td>\n      <td>Athens</td>\n      <td>Aquatics</td>\n      <td>Swimming</td>\n      <td>GRE</td>\n      <td>Men</td>\n      <td>100M Freestyle For Sailors</td>\n      <td>Gold</td>\n    </tr>\n    <tr>\n      <th>CHASAPIS, Spiridon</th>\n      <td>1896</td>\n      <td>Athens</td>\n      <td>Aquatics</td>\n      <td>Swimming</td>\n      <td>GRE</td>\n      <td>Men</td>\n      <td>100M Freestyle For Sailors</td>\n      <td>Silver</td>\n    </tr>\n    <tr>\n      <th>...</th>\n      <td>...</td>\n      <td>...</td>\n      <td>...</td>\n      <td>...</td>\n      <td>...</td>\n      <td>...</td>\n      <td>...</td>\n      <td>...</td>\n    </tr>\n    <tr>\n      <th>JANIKOWSKI, Damian</th>\n      <td>2012</td>\n      <td>London</td>\n      <td>Wrestling</td>\n      <td>Wrestling Freestyle</td>\n      <td>POL</td>\n      <td>Men</td>\n      <td>Wg 84 KG</td>\n      <td>Bronze</td>\n    </tr>\n    <tr>\n      <th>REZAEI, Ghasem Gholamreza</th>\n      <td>2012</td>\n      <td>London</td>\n      <td>Wrestling</td>\n      <td>Wrestling Freestyle</td>\n      <td>IRI</td>\n      <td>Men</td>\n      <td>Wg 96 KG</td>\n      <td>Gold</td>\n    </tr>\n    <tr>\n      <th>TOTROV, Rustam</th>\n      <td>2012</td>\n      <td>London</td>\n      <td>Wrestling</td>\n      <td>Wrestling Freestyle</td>\n      <td>RUS</td>\n      <td>Men</td>\n      <td>Wg 96 KG</td>\n      <td>Silver</td>\n    </tr>\n    <tr>\n      <th>ALEKSANYAN, Artur</th>\n      <td>2012</td>\n      <td>London</td>\n      <td>Wrestling</td>\n      <td>Wrestling Freestyle</td>\n      <td>ARM</td>\n      <td>Men</td>\n      <td>Wg 96 KG</td>\n      <td>Bronze</td>\n    </tr>\n    <tr>\n      <th>LIDBERG, Jimmy</th>\n      <td>2012</td>\n      <td>London</td>\n      <td>Wrestling</td>\n      <td>Wrestling Freestyle</td>\n      <td>SWE</td>\n      <td>Men</td>\n      <td>Wg 96 KG</td>\n      <td>Bronze</td>\n    </tr>\n  </tbody>\n</table>\n<p>31165 rows × 8 columns</p>\n</div>"
     },
     "execution_count": 172,
     "metadata": {},
     "output_type": "execute_result"
    }
   ],
   "source": [
    "# method 1\n",
    "summer.rename(mapper= {'HAJOS, Alfred':'HAYOS, Alfred'}, axis='index', inplace=True)\n",
    "summer"
   ],
   "metadata": {
    "collapsed": false,
    "pycharm": {
     "name": "#%%\n"
    }
   }
  },
  {
   "cell_type": "code",
   "execution_count": 173,
   "outputs": [],
   "source": [
    "# method 2\n",
    "summer.rename(index={'HAYOS, Alfred': 'HAJOS, Alfred'}, inplace=True)"
   ],
   "metadata": {
    "collapsed": false,
    "pycharm": {
     "name": "#%%\n"
    }
   }
  },
  {
   "cell_type": "code",
   "execution_count": 174,
   "outputs": [
    {
     "data": {
      "text/plain": "                           Year    City      Sport           Discipline  \\\nAthlete                                                                   \nHAJOS, Alfred              1896  Athens   Aquatics             Swimming   \nHERSCHMANN, Otto           1896  Athens   Aquatics             Swimming   \nDRIVAS, Dimitrios          1896  Athens   Aquatics             Swimming   \nMALOKINIS, Ioannis         1896  Athens   Aquatics             Swimming   \nCHASAPIS, Spiridon         1896  Athens   Aquatics             Swimming   \n...                         ...     ...        ...                  ...   \nJANIKOWSKI, Damian         2012  London  Wrestling  Wrestling Freestyle   \nREZAEI, Ghasem Gholamreza  2012  London  Wrestling  Wrestling Freestyle   \nTOTROV, Rustam             2012  London  Wrestling  Wrestling Freestyle   \nALEKSANYAN, Artur          2012  London  Wrestling  Wrestling Freestyle   \nLIDBERG, Jimmy             2012  London  Wrestling  Wrestling Freestyle   \n\n                          Country Gender                       Event   Medal  \nAthlete                                                                       \nHAJOS, Alfred                 HUN    Men              100M Freestyle    Gold  \nHERSCHMANN, Otto              AUT    Men              100M Freestyle  Silver  \nDRIVAS, Dimitrios             GRE    Men  100M Freestyle For Sailors  Bronze  \nMALOKINIS, Ioannis            GRE    Men  100M Freestyle For Sailors    Gold  \nCHASAPIS, Spiridon            GRE    Men  100M Freestyle For Sailors  Silver  \n...                           ...    ...                         ...     ...  \nJANIKOWSKI, Damian            POL    Men                    Wg 84 KG  Bronze  \nREZAEI, Ghasem Gholamreza     IRI    Men                    Wg 96 KG    Gold  \nTOTROV, Rustam                RUS    Men                    Wg 96 KG  Silver  \nALEKSANYAN, Artur             ARM    Men                    Wg 96 KG  Bronze  \nLIDBERG, Jimmy                SWE    Men                    Wg 96 KG  Bronze  \n\n[31165 rows x 8 columns]",
      "text/html": "<div>\n<style scoped>\n    .dataframe tbody tr th:only-of-type {\n        vertical-align: middle;\n    }\n\n    .dataframe tbody tr th {\n        vertical-align: top;\n    }\n\n    .dataframe thead th {\n        text-align: right;\n    }\n</style>\n<table border=\"1\" class=\"dataframe\">\n  <thead>\n    <tr style=\"text-align: right;\">\n      <th></th>\n      <th>Year</th>\n      <th>City</th>\n      <th>Sport</th>\n      <th>Discipline</th>\n      <th>Country</th>\n      <th>Gender</th>\n      <th>Event</th>\n      <th>Medal</th>\n    </tr>\n    <tr>\n      <th>Athlete</th>\n      <th></th>\n      <th></th>\n      <th></th>\n      <th></th>\n      <th></th>\n      <th></th>\n      <th></th>\n      <th></th>\n    </tr>\n  </thead>\n  <tbody>\n    <tr>\n      <th>HAJOS, Alfred</th>\n      <td>1896</td>\n      <td>Athens</td>\n      <td>Aquatics</td>\n      <td>Swimming</td>\n      <td>HUN</td>\n      <td>Men</td>\n      <td>100M Freestyle</td>\n      <td>Gold</td>\n    </tr>\n    <tr>\n      <th>HERSCHMANN, Otto</th>\n      <td>1896</td>\n      <td>Athens</td>\n      <td>Aquatics</td>\n      <td>Swimming</td>\n      <td>AUT</td>\n      <td>Men</td>\n      <td>100M Freestyle</td>\n      <td>Silver</td>\n    </tr>\n    <tr>\n      <th>DRIVAS, Dimitrios</th>\n      <td>1896</td>\n      <td>Athens</td>\n      <td>Aquatics</td>\n      <td>Swimming</td>\n      <td>GRE</td>\n      <td>Men</td>\n      <td>100M Freestyle For Sailors</td>\n      <td>Bronze</td>\n    </tr>\n    <tr>\n      <th>MALOKINIS, Ioannis</th>\n      <td>1896</td>\n      <td>Athens</td>\n      <td>Aquatics</td>\n      <td>Swimming</td>\n      <td>GRE</td>\n      <td>Men</td>\n      <td>100M Freestyle For Sailors</td>\n      <td>Gold</td>\n    </tr>\n    <tr>\n      <th>CHASAPIS, Spiridon</th>\n      <td>1896</td>\n      <td>Athens</td>\n      <td>Aquatics</td>\n      <td>Swimming</td>\n      <td>GRE</td>\n      <td>Men</td>\n      <td>100M Freestyle For Sailors</td>\n      <td>Silver</td>\n    </tr>\n    <tr>\n      <th>...</th>\n      <td>...</td>\n      <td>...</td>\n      <td>...</td>\n      <td>...</td>\n      <td>...</td>\n      <td>...</td>\n      <td>...</td>\n      <td>...</td>\n    </tr>\n    <tr>\n      <th>JANIKOWSKI, Damian</th>\n      <td>2012</td>\n      <td>London</td>\n      <td>Wrestling</td>\n      <td>Wrestling Freestyle</td>\n      <td>POL</td>\n      <td>Men</td>\n      <td>Wg 84 KG</td>\n      <td>Bronze</td>\n    </tr>\n    <tr>\n      <th>REZAEI, Ghasem Gholamreza</th>\n      <td>2012</td>\n      <td>London</td>\n      <td>Wrestling</td>\n      <td>Wrestling Freestyle</td>\n      <td>IRI</td>\n      <td>Men</td>\n      <td>Wg 96 KG</td>\n      <td>Gold</td>\n    </tr>\n    <tr>\n      <th>TOTROV, Rustam</th>\n      <td>2012</td>\n      <td>London</td>\n      <td>Wrestling</td>\n      <td>Wrestling Freestyle</td>\n      <td>RUS</td>\n      <td>Men</td>\n      <td>Wg 96 KG</td>\n      <td>Silver</td>\n    </tr>\n    <tr>\n      <th>ALEKSANYAN, Artur</th>\n      <td>2012</td>\n      <td>London</td>\n      <td>Wrestling</td>\n      <td>Wrestling Freestyle</td>\n      <td>ARM</td>\n      <td>Men</td>\n      <td>Wg 96 KG</td>\n      <td>Bronze</td>\n    </tr>\n    <tr>\n      <th>LIDBERG, Jimmy</th>\n      <td>2012</td>\n      <td>London</td>\n      <td>Wrestling</td>\n      <td>Wrestling Freestyle</td>\n      <td>SWE</td>\n      <td>Men</td>\n      <td>Wg 96 KG</td>\n      <td>Bronze</td>\n    </tr>\n  </tbody>\n</table>\n<p>31165 rows × 8 columns</p>\n</div>"
     },
     "execution_count": 174,
     "metadata": {},
     "output_type": "execute_result"
    }
   ],
   "source": [
    "summer"
   ],
   "metadata": {
    "collapsed": false,
    "pycharm": {
     "name": "#%%\n"
    }
   }
  },
  {
   "cell_type": "code",
   "execution_count": 175,
   "outputs": [
    {
     "data": {
      "text/plain": "                           Year Host_City      Sport           Discipline  \\\nAthlete                                                                     \nHAJOS, Alfred              1896    Athens   Aquatics             Swimming   \nHERSCHMANN, Otto           1896    Athens   Aquatics             Swimming   \nDRIVAS, Dimitrios          1896    Athens   Aquatics             Swimming   \nMALOKINIS, Ioannis         1896    Athens   Aquatics             Swimming   \nCHASAPIS, Spiridon         1896    Athens   Aquatics             Swimming   \n...                         ...       ...        ...                  ...   \nJANIKOWSKI, Damian         2012    London  Wrestling  Wrestling Freestyle   \nREZAEI, Ghasem Gholamreza  2012    London  Wrestling  Wrestling Freestyle   \nTOTROV, Rustam             2012    London  Wrestling  Wrestling Freestyle   \nALEKSANYAN, Artur          2012    London  Wrestling  Wrestling Freestyle   \nLIDBERG, Jimmy             2012    London  Wrestling  Wrestling Freestyle   \n\n                          Country Gender                       Event   Medal  \nAthlete                                                                       \nHAJOS, Alfred                 HUN    Men              100M Freestyle    Gold  \nHERSCHMANN, Otto              AUT    Men              100M Freestyle  Silver  \nDRIVAS, Dimitrios             GRE    Men  100M Freestyle For Sailors  Bronze  \nMALOKINIS, Ioannis            GRE    Men  100M Freestyle For Sailors    Gold  \nCHASAPIS, Spiridon            GRE    Men  100M Freestyle For Sailors  Silver  \n...                           ...    ...                         ...     ...  \nJANIKOWSKI, Damian            POL    Men                    Wg 84 KG  Bronze  \nREZAEI, Ghasem Gholamreza     IRI    Men                    Wg 96 KG    Gold  \nTOTROV, Rustam                RUS    Men                    Wg 96 KG  Silver  \nALEKSANYAN, Artur             ARM    Men                    Wg 96 KG  Bronze  \nLIDBERG, Jimmy                SWE    Men                    Wg 96 KG  Bronze  \n\n[31165 rows x 8 columns]",
      "text/html": "<div>\n<style scoped>\n    .dataframe tbody tr th:only-of-type {\n        vertical-align: middle;\n    }\n\n    .dataframe tbody tr th {\n        vertical-align: top;\n    }\n\n    .dataframe thead th {\n        text-align: right;\n    }\n</style>\n<table border=\"1\" class=\"dataframe\">\n  <thead>\n    <tr style=\"text-align: right;\">\n      <th></th>\n      <th>Year</th>\n      <th>Host_City</th>\n      <th>Sport</th>\n      <th>Discipline</th>\n      <th>Country</th>\n      <th>Gender</th>\n      <th>Event</th>\n      <th>Medal</th>\n    </tr>\n    <tr>\n      <th>Athlete</th>\n      <th></th>\n      <th></th>\n      <th></th>\n      <th></th>\n      <th></th>\n      <th></th>\n      <th></th>\n      <th></th>\n    </tr>\n  </thead>\n  <tbody>\n    <tr>\n      <th>HAJOS, Alfred</th>\n      <td>1896</td>\n      <td>Athens</td>\n      <td>Aquatics</td>\n      <td>Swimming</td>\n      <td>HUN</td>\n      <td>Men</td>\n      <td>100M Freestyle</td>\n      <td>Gold</td>\n    </tr>\n    <tr>\n      <th>HERSCHMANN, Otto</th>\n      <td>1896</td>\n      <td>Athens</td>\n      <td>Aquatics</td>\n      <td>Swimming</td>\n      <td>AUT</td>\n      <td>Men</td>\n      <td>100M Freestyle</td>\n      <td>Silver</td>\n    </tr>\n    <tr>\n      <th>DRIVAS, Dimitrios</th>\n      <td>1896</td>\n      <td>Athens</td>\n      <td>Aquatics</td>\n      <td>Swimming</td>\n      <td>GRE</td>\n      <td>Men</td>\n      <td>100M Freestyle For Sailors</td>\n      <td>Bronze</td>\n    </tr>\n    <tr>\n      <th>MALOKINIS, Ioannis</th>\n      <td>1896</td>\n      <td>Athens</td>\n      <td>Aquatics</td>\n      <td>Swimming</td>\n      <td>GRE</td>\n      <td>Men</td>\n      <td>100M Freestyle For Sailors</td>\n      <td>Gold</td>\n    </tr>\n    <tr>\n      <th>CHASAPIS, Spiridon</th>\n      <td>1896</td>\n      <td>Athens</td>\n      <td>Aquatics</td>\n      <td>Swimming</td>\n      <td>GRE</td>\n      <td>Men</td>\n      <td>100M Freestyle For Sailors</td>\n      <td>Silver</td>\n    </tr>\n    <tr>\n      <th>...</th>\n      <td>...</td>\n      <td>...</td>\n      <td>...</td>\n      <td>...</td>\n      <td>...</td>\n      <td>...</td>\n      <td>...</td>\n      <td>...</td>\n    </tr>\n    <tr>\n      <th>JANIKOWSKI, Damian</th>\n      <td>2012</td>\n      <td>London</td>\n      <td>Wrestling</td>\n      <td>Wrestling Freestyle</td>\n      <td>POL</td>\n      <td>Men</td>\n      <td>Wg 84 KG</td>\n      <td>Bronze</td>\n    </tr>\n    <tr>\n      <th>REZAEI, Ghasem Gholamreza</th>\n      <td>2012</td>\n      <td>London</td>\n      <td>Wrestling</td>\n      <td>Wrestling Freestyle</td>\n      <td>IRI</td>\n      <td>Men</td>\n      <td>Wg 96 KG</td>\n      <td>Gold</td>\n    </tr>\n    <tr>\n      <th>TOTROV, Rustam</th>\n      <td>2012</td>\n      <td>London</td>\n      <td>Wrestling</td>\n      <td>Wrestling Freestyle</td>\n      <td>RUS</td>\n      <td>Men</td>\n      <td>Wg 96 KG</td>\n      <td>Silver</td>\n    </tr>\n    <tr>\n      <th>ALEKSANYAN, Artur</th>\n      <td>2012</td>\n      <td>London</td>\n      <td>Wrestling</td>\n      <td>Wrestling Freestyle</td>\n      <td>ARM</td>\n      <td>Men</td>\n      <td>Wg 96 KG</td>\n      <td>Bronze</td>\n    </tr>\n    <tr>\n      <th>LIDBERG, Jimmy</th>\n      <td>2012</td>\n      <td>London</td>\n      <td>Wrestling</td>\n      <td>Wrestling Freestyle</td>\n      <td>SWE</td>\n      <td>Men</td>\n      <td>Wg 96 KG</td>\n      <td>Bronze</td>\n    </tr>\n  </tbody>\n</table>\n<p>31165 rows × 8 columns</p>\n</div>"
     },
     "execution_count": 175,
     "metadata": {},
     "output_type": "execute_result"
    }
   ],
   "source": [
    "summer.rename(mapper={'Sex':'Gender', 'City':'Host_City'}, axis='columns')"
   ],
   "metadata": {
    "collapsed": false,
    "pycharm": {
     "name": "#%%\n"
    }
   }
  },
  {
   "cell_type": "code",
   "execution_count": 176,
   "outputs": [
    {
     "data": {
      "text/plain": "                           Year Host_City      Sport           Discipline  \\\nAthlete                                                                     \nHAJOS, Alfred              1896    Athens   Aquatics             Swimming   \nHERSCHMANN, Otto           1896    Athens   Aquatics             Swimming   \nDRIVAS, Dimitrios          1896    Athens   Aquatics             Swimming   \nMALOKINIS, Ioannis         1896    Athens   Aquatics             Swimming   \nCHASAPIS, Spiridon         1896    Athens   Aquatics             Swimming   \n...                         ...       ...        ...                  ...   \nJANIKOWSKI, Damian         2012    London  Wrestling  Wrestling Freestyle   \nREZAEI, Ghasem Gholamreza  2012    London  Wrestling  Wrestling Freestyle   \nTOTROV, Rustam             2012    London  Wrestling  Wrestling Freestyle   \nALEKSANYAN, Artur          2012    London  Wrestling  Wrestling Freestyle   \nLIDBERG, Jimmy             2012    London  Wrestling  Wrestling Freestyle   \n\n                          Country Gender                       Event   Medal  \nAthlete                                                                       \nHAJOS, Alfred                 HUN    Men              100M Freestyle    Gold  \nHERSCHMANN, Otto              AUT    Men              100M Freestyle  Silver  \nDRIVAS, Dimitrios             GRE    Men  100M Freestyle For Sailors  Bronze  \nMALOKINIS, Ioannis            GRE    Men  100M Freestyle For Sailors    Gold  \nCHASAPIS, Spiridon            GRE    Men  100M Freestyle For Sailors  Silver  \n...                           ...    ...                         ...     ...  \nJANIKOWSKI, Damian            POL    Men                    Wg 84 KG  Bronze  \nREZAEI, Ghasem Gholamreza     IRI    Men                    Wg 96 KG    Gold  \nTOTROV, Rustam                RUS    Men                    Wg 96 KG  Silver  \nALEKSANYAN, Artur             ARM    Men                    Wg 96 KG  Bronze  \nLIDBERG, Jimmy                SWE    Men                    Wg 96 KG  Bronze  \n\n[31165 rows x 8 columns]",
      "text/html": "<div>\n<style scoped>\n    .dataframe tbody tr th:only-of-type {\n        vertical-align: middle;\n    }\n\n    .dataframe tbody tr th {\n        vertical-align: top;\n    }\n\n    .dataframe thead th {\n        text-align: right;\n    }\n</style>\n<table border=\"1\" class=\"dataframe\">\n  <thead>\n    <tr style=\"text-align: right;\">\n      <th></th>\n      <th>Year</th>\n      <th>Host_City</th>\n      <th>Sport</th>\n      <th>Discipline</th>\n      <th>Country</th>\n      <th>Gender</th>\n      <th>Event</th>\n      <th>Medal</th>\n    </tr>\n    <tr>\n      <th>Athlete</th>\n      <th></th>\n      <th></th>\n      <th></th>\n      <th></th>\n      <th></th>\n      <th></th>\n      <th></th>\n      <th></th>\n    </tr>\n  </thead>\n  <tbody>\n    <tr>\n      <th>HAJOS, Alfred</th>\n      <td>1896</td>\n      <td>Athens</td>\n      <td>Aquatics</td>\n      <td>Swimming</td>\n      <td>HUN</td>\n      <td>Men</td>\n      <td>100M Freestyle</td>\n      <td>Gold</td>\n    </tr>\n    <tr>\n      <th>HERSCHMANN, Otto</th>\n      <td>1896</td>\n      <td>Athens</td>\n      <td>Aquatics</td>\n      <td>Swimming</td>\n      <td>AUT</td>\n      <td>Men</td>\n      <td>100M Freestyle</td>\n      <td>Silver</td>\n    </tr>\n    <tr>\n      <th>DRIVAS, Dimitrios</th>\n      <td>1896</td>\n      <td>Athens</td>\n      <td>Aquatics</td>\n      <td>Swimming</td>\n      <td>GRE</td>\n      <td>Men</td>\n      <td>100M Freestyle For Sailors</td>\n      <td>Bronze</td>\n    </tr>\n    <tr>\n      <th>MALOKINIS, Ioannis</th>\n      <td>1896</td>\n      <td>Athens</td>\n      <td>Aquatics</td>\n      <td>Swimming</td>\n      <td>GRE</td>\n      <td>Men</td>\n      <td>100M Freestyle For Sailors</td>\n      <td>Gold</td>\n    </tr>\n    <tr>\n      <th>CHASAPIS, Spiridon</th>\n      <td>1896</td>\n      <td>Athens</td>\n      <td>Aquatics</td>\n      <td>Swimming</td>\n      <td>GRE</td>\n      <td>Men</td>\n      <td>100M Freestyle For Sailors</td>\n      <td>Silver</td>\n    </tr>\n    <tr>\n      <th>...</th>\n      <td>...</td>\n      <td>...</td>\n      <td>...</td>\n      <td>...</td>\n      <td>...</td>\n      <td>...</td>\n      <td>...</td>\n      <td>...</td>\n    </tr>\n    <tr>\n      <th>JANIKOWSKI, Damian</th>\n      <td>2012</td>\n      <td>London</td>\n      <td>Wrestling</td>\n      <td>Wrestling Freestyle</td>\n      <td>POL</td>\n      <td>Men</td>\n      <td>Wg 84 KG</td>\n      <td>Bronze</td>\n    </tr>\n    <tr>\n      <th>REZAEI, Ghasem Gholamreza</th>\n      <td>2012</td>\n      <td>London</td>\n      <td>Wrestling</td>\n      <td>Wrestling Freestyle</td>\n      <td>IRI</td>\n      <td>Men</td>\n      <td>Wg 96 KG</td>\n      <td>Gold</td>\n    </tr>\n    <tr>\n      <th>TOTROV, Rustam</th>\n      <td>2012</td>\n      <td>London</td>\n      <td>Wrestling</td>\n      <td>Wrestling Freestyle</td>\n      <td>RUS</td>\n      <td>Men</td>\n      <td>Wg 96 KG</td>\n      <td>Silver</td>\n    </tr>\n    <tr>\n      <th>ALEKSANYAN, Artur</th>\n      <td>2012</td>\n      <td>London</td>\n      <td>Wrestling</td>\n      <td>Wrestling Freestyle</td>\n      <td>ARM</td>\n      <td>Men</td>\n      <td>Wg 96 KG</td>\n      <td>Bronze</td>\n    </tr>\n    <tr>\n      <th>LIDBERG, Jimmy</th>\n      <td>2012</td>\n      <td>London</td>\n      <td>Wrestling</td>\n      <td>Wrestling Freestyle</td>\n      <td>SWE</td>\n      <td>Men</td>\n      <td>Wg 96 KG</td>\n      <td>Bronze</td>\n    </tr>\n  </tbody>\n</table>\n<p>31165 rows × 8 columns</p>\n</div>"
     },
     "execution_count": 176,
     "metadata": {},
     "output_type": "execute_result"
    }
   ],
   "source": [
    "summer.rename(columns={'Sex':'Gender', 'City':'Host_City'}, inplace=True)\n",
    "summer"
   ],
   "metadata": {
    "collapsed": false,
    "pycharm": {
     "name": "#%%\n"
    }
   }
  },
  {
   "cell_type": "markdown",
   "source": [
    "### Filtering DataFrames with One Condition"
   ],
   "metadata": {
    "collapsed": false,
    "pycharm": {
     "name": "#%% md\n"
    }
   }
  },
  {
   "cell_type": "code",
   "execution_count": 179,
   "outputs": [
    {
     "data": {
      "text/plain": "   survived  pclass     sex   age  sibsp  parch     fare embarked deck\n0         0       3    male  22.0      1      0   7.2500        S  NaN\n1         1       1  female  38.0      1      0  71.2833        C    C\n2         1       3  female  26.0      0      0   7.9250        S  NaN\n3         1       1  female  35.0      1      0  53.1000        S    C\n4         0       3    male  35.0      0      0   8.0500        S  NaN\n5         0       3    male   NaN      0      0   8.4583        Q  NaN\n6         0       1    male  54.0      0      0  51.8625        S    E\n7         0       3    male   2.0      3      1  21.0750        S  NaN\n8         1       3  female  27.0      0      2  11.1333        S  NaN\n9         1       2  female  14.0      1      0  30.0708        C  NaN",
      "text/html": "<div>\n<style scoped>\n    .dataframe tbody tr th:only-of-type {\n        vertical-align: middle;\n    }\n\n    .dataframe tbody tr th {\n        vertical-align: top;\n    }\n\n    .dataframe thead th {\n        text-align: right;\n    }\n</style>\n<table border=\"1\" class=\"dataframe\">\n  <thead>\n    <tr style=\"text-align: right;\">\n      <th></th>\n      <th>survived</th>\n      <th>pclass</th>\n      <th>sex</th>\n      <th>age</th>\n      <th>sibsp</th>\n      <th>parch</th>\n      <th>fare</th>\n      <th>embarked</th>\n      <th>deck</th>\n    </tr>\n  </thead>\n  <tbody>\n    <tr>\n      <th>0</th>\n      <td>0</td>\n      <td>3</td>\n      <td>male</td>\n      <td>22.0</td>\n      <td>1</td>\n      <td>0</td>\n      <td>7.2500</td>\n      <td>S</td>\n      <td>NaN</td>\n    </tr>\n    <tr>\n      <th>1</th>\n      <td>1</td>\n      <td>1</td>\n      <td>female</td>\n      <td>38.0</td>\n      <td>1</td>\n      <td>0</td>\n      <td>71.2833</td>\n      <td>C</td>\n      <td>C</td>\n    </tr>\n    <tr>\n      <th>2</th>\n      <td>1</td>\n      <td>3</td>\n      <td>female</td>\n      <td>26.0</td>\n      <td>0</td>\n      <td>0</td>\n      <td>7.9250</td>\n      <td>S</td>\n      <td>NaN</td>\n    </tr>\n    <tr>\n      <th>3</th>\n      <td>1</td>\n      <td>1</td>\n      <td>female</td>\n      <td>35.0</td>\n      <td>1</td>\n      <td>0</td>\n      <td>53.1000</td>\n      <td>S</td>\n      <td>C</td>\n    </tr>\n    <tr>\n      <th>4</th>\n      <td>0</td>\n      <td>3</td>\n      <td>male</td>\n      <td>35.0</td>\n      <td>0</td>\n      <td>0</td>\n      <td>8.0500</td>\n      <td>S</td>\n      <td>NaN</td>\n    </tr>\n    <tr>\n      <th>5</th>\n      <td>0</td>\n      <td>3</td>\n      <td>male</td>\n      <td>NaN</td>\n      <td>0</td>\n      <td>0</td>\n      <td>8.4583</td>\n      <td>Q</td>\n      <td>NaN</td>\n    </tr>\n    <tr>\n      <th>6</th>\n      <td>0</td>\n      <td>1</td>\n      <td>male</td>\n      <td>54.0</td>\n      <td>0</td>\n      <td>0</td>\n      <td>51.8625</td>\n      <td>S</td>\n      <td>E</td>\n    </tr>\n    <tr>\n      <th>7</th>\n      <td>0</td>\n      <td>3</td>\n      <td>male</td>\n      <td>2.0</td>\n      <td>3</td>\n      <td>1</td>\n      <td>21.0750</td>\n      <td>S</td>\n      <td>NaN</td>\n    </tr>\n    <tr>\n      <th>8</th>\n      <td>1</td>\n      <td>3</td>\n      <td>female</td>\n      <td>27.0</td>\n      <td>0</td>\n      <td>2</td>\n      <td>11.1333</td>\n      <td>S</td>\n      <td>NaN</td>\n    </tr>\n    <tr>\n      <th>9</th>\n      <td>1</td>\n      <td>2</td>\n      <td>female</td>\n      <td>14.0</td>\n      <td>1</td>\n      <td>0</td>\n      <td>30.0708</td>\n      <td>C</td>\n      <td>NaN</td>\n    </tr>\n  </tbody>\n</table>\n</div>"
     },
     "execution_count": 179,
     "metadata": {},
     "output_type": "execute_result"
    }
   ],
   "source": [
    "titanic = pd.read_csv('data/titanic.csv')\n",
    "titanic.head(10)"
   ],
   "metadata": {
    "collapsed": false,
    "pycharm": {
     "name": "#%%\n"
    }
   }
  },
  {
   "cell_type": "code",
   "execution_count": 180,
   "outputs": [
    {
     "data": {
      "text/plain": "0      male\n1    female\n2    female\n3    female\n4      male\n5      male\n6      male\n7      male\n8    female\n9    female\nName: sex, dtype: object"
     },
     "execution_count": 180,
     "metadata": {},
     "output_type": "execute_result"
    }
   ],
   "source": [
    "titanic.sex.head(10)"
   ],
   "metadata": {
    "collapsed": false,
    "pycharm": {
     "name": "#%%\n"
    }
   }
  },
  {
   "cell_type": "code",
   "execution_count": 181,
   "outputs": [
    {
     "data": {
      "text/plain": "0       True\n1      False\n2      False\n3      False\n4       True\n       ...  \n886     True\n887    False\n888    False\n889     True\n890     True\nName: sex, Length: 891, dtype: bool"
     },
     "execution_count": 181,
     "metadata": {},
     "output_type": "execute_result"
    }
   ],
   "source": [
    "titanic.sex == 'male'"
   ],
   "metadata": {
    "collapsed": false,
    "pycharm": {
     "name": "#%%\n"
    }
   }
  },
  {
   "cell_type": "code",
   "execution_count": 183,
   "outputs": [
    {
     "data": {
      "text/plain": "     survived  pclass   sex   age  sibsp  parch     fare embarked deck\n0           0       3  male  22.0      1      0   7.2500        S  NaN\n4           0       3  male  35.0      0      0   8.0500        S  NaN\n5           0       3  male   NaN      0      0   8.4583        Q  NaN\n6           0       1  male  54.0      0      0  51.8625        S    E\n7           0       3  male   2.0      3      1  21.0750        S  NaN\n..        ...     ...   ...   ...    ...    ...      ...      ...  ...\n883         0       2  male  28.0      0      0  10.5000        S  NaN\n884         0       3  male  25.0      0      0   7.0500        S  NaN\n886         0       2  male  27.0      0      0  13.0000        S  NaN\n889         1       1  male  26.0      0      0  30.0000        C    C\n890         0       3  male  32.0      0      0   7.7500        Q  NaN\n\n[577 rows x 9 columns]",
      "text/html": "<div>\n<style scoped>\n    .dataframe tbody tr th:only-of-type {\n        vertical-align: middle;\n    }\n\n    .dataframe tbody tr th {\n        vertical-align: top;\n    }\n\n    .dataframe thead th {\n        text-align: right;\n    }\n</style>\n<table border=\"1\" class=\"dataframe\">\n  <thead>\n    <tr style=\"text-align: right;\">\n      <th></th>\n      <th>survived</th>\n      <th>pclass</th>\n      <th>sex</th>\n      <th>age</th>\n      <th>sibsp</th>\n      <th>parch</th>\n      <th>fare</th>\n      <th>embarked</th>\n      <th>deck</th>\n    </tr>\n  </thead>\n  <tbody>\n    <tr>\n      <th>0</th>\n      <td>0</td>\n      <td>3</td>\n      <td>male</td>\n      <td>22.0</td>\n      <td>1</td>\n      <td>0</td>\n      <td>7.2500</td>\n      <td>S</td>\n      <td>NaN</td>\n    </tr>\n    <tr>\n      <th>4</th>\n      <td>0</td>\n      <td>3</td>\n      <td>male</td>\n      <td>35.0</td>\n      <td>0</td>\n      <td>0</td>\n      <td>8.0500</td>\n      <td>S</td>\n      <td>NaN</td>\n    </tr>\n    <tr>\n      <th>5</th>\n      <td>0</td>\n      <td>3</td>\n      <td>male</td>\n      <td>NaN</td>\n      <td>0</td>\n      <td>0</td>\n      <td>8.4583</td>\n      <td>Q</td>\n      <td>NaN</td>\n    </tr>\n    <tr>\n      <th>6</th>\n      <td>0</td>\n      <td>1</td>\n      <td>male</td>\n      <td>54.0</td>\n      <td>0</td>\n      <td>0</td>\n      <td>51.8625</td>\n      <td>S</td>\n      <td>E</td>\n    </tr>\n    <tr>\n      <th>7</th>\n      <td>0</td>\n      <td>3</td>\n      <td>male</td>\n      <td>2.0</td>\n      <td>3</td>\n      <td>1</td>\n      <td>21.0750</td>\n      <td>S</td>\n      <td>NaN</td>\n    </tr>\n    <tr>\n      <th>...</th>\n      <td>...</td>\n      <td>...</td>\n      <td>...</td>\n      <td>...</td>\n      <td>...</td>\n      <td>...</td>\n      <td>...</td>\n      <td>...</td>\n      <td>...</td>\n    </tr>\n    <tr>\n      <th>883</th>\n      <td>0</td>\n      <td>2</td>\n      <td>male</td>\n      <td>28.0</td>\n      <td>0</td>\n      <td>0</td>\n      <td>10.5000</td>\n      <td>S</td>\n      <td>NaN</td>\n    </tr>\n    <tr>\n      <th>884</th>\n      <td>0</td>\n      <td>3</td>\n      <td>male</td>\n      <td>25.0</td>\n      <td>0</td>\n      <td>0</td>\n      <td>7.0500</td>\n      <td>S</td>\n      <td>NaN</td>\n    </tr>\n    <tr>\n      <th>886</th>\n      <td>0</td>\n      <td>2</td>\n      <td>male</td>\n      <td>27.0</td>\n      <td>0</td>\n      <td>0</td>\n      <td>13.0000</td>\n      <td>S</td>\n      <td>NaN</td>\n    </tr>\n    <tr>\n      <th>889</th>\n      <td>1</td>\n      <td>1</td>\n      <td>male</td>\n      <td>26.0</td>\n      <td>0</td>\n      <td>0</td>\n      <td>30.0000</td>\n      <td>C</td>\n      <td>C</td>\n    </tr>\n    <tr>\n      <th>890</th>\n      <td>0</td>\n      <td>3</td>\n      <td>male</td>\n      <td>32.0</td>\n      <td>0</td>\n      <td>0</td>\n      <td>7.7500</td>\n      <td>Q</td>\n      <td>NaN</td>\n    </tr>\n  </tbody>\n</table>\n<p>577 rows × 9 columns</p>\n</div>"
     },
     "execution_count": 183,
     "metadata": {},
     "output_type": "execute_result"
    }
   ],
   "source": [
    "# New data frame returned\n",
    "titanic[titanic.sex == 'male']"
   ],
   "metadata": {
    "collapsed": false,
    "pycharm": {
     "name": "#%%\n"
    }
   }
  },
  {
   "cell_type": "code",
   "execution_count": 188,
   "outputs": [
    {
     "data": {
      "text/plain": "     survived  pclass   sex   age  sibsp  parch     fare embarked deck\n0           0       3  male  22.0      1      0   7.2500        S  NaN\n4           0       3  male  35.0      0      0   8.0500        S  NaN\n5           0       3  male   NaN      0      0   8.4583        Q  NaN\n6           0       1  male  54.0      0      0  51.8625        S    E\n7           0       3  male   2.0      3      1  21.0750        S  NaN\n..        ...     ...   ...   ...    ...    ...      ...      ...  ...\n883         0       2  male  28.0      0      0  10.5000        S  NaN\n884         0       3  male  25.0      0      0   7.0500        S  NaN\n886         0       2  male  27.0      0      0  13.0000        S  NaN\n889         1       1  male  26.0      0      0  30.0000        C    C\n890         0       3  male  32.0      0      0   7.7500        Q  NaN\n\n[577 rows x 9 columns]",
      "text/html": "<div>\n<style scoped>\n    .dataframe tbody tr th:only-of-type {\n        vertical-align: middle;\n    }\n\n    .dataframe tbody tr th {\n        vertical-align: top;\n    }\n\n    .dataframe thead th {\n        text-align: right;\n    }\n</style>\n<table border=\"1\" class=\"dataframe\">\n  <thead>\n    <tr style=\"text-align: right;\">\n      <th></th>\n      <th>survived</th>\n      <th>pclass</th>\n      <th>sex</th>\n      <th>age</th>\n      <th>sibsp</th>\n      <th>parch</th>\n      <th>fare</th>\n      <th>embarked</th>\n      <th>deck</th>\n    </tr>\n  </thead>\n  <tbody>\n    <tr>\n      <th>0</th>\n      <td>0</td>\n      <td>3</td>\n      <td>male</td>\n      <td>22.0</td>\n      <td>1</td>\n      <td>0</td>\n      <td>7.2500</td>\n      <td>S</td>\n      <td>NaN</td>\n    </tr>\n    <tr>\n      <th>4</th>\n      <td>0</td>\n      <td>3</td>\n      <td>male</td>\n      <td>35.0</td>\n      <td>0</td>\n      <td>0</td>\n      <td>8.0500</td>\n      <td>S</td>\n      <td>NaN</td>\n    </tr>\n    <tr>\n      <th>5</th>\n      <td>0</td>\n      <td>3</td>\n      <td>male</td>\n      <td>NaN</td>\n      <td>0</td>\n      <td>0</td>\n      <td>8.4583</td>\n      <td>Q</td>\n      <td>NaN</td>\n    </tr>\n    <tr>\n      <th>6</th>\n      <td>0</td>\n      <td>1</td>\n      <td>male</td>\n      <td>54.0</td>\n      <td>0</td>\n      <td>0</td>\n      <td>51.8625</td>\n      <td>S</td>\n      <td>E</td>\n    </tr>\n    <tr>\n      <th>7</th>\n      <td>0</td>\n      <td>3</td>\n      <td>male</td>\n      <td>2.0</td>\n      <td>3</td>\n      <td>1</td>\n      <td>21.0750</td>\n      <td>S</td>\n      <td>NaN</td>\n    </tr>\n    <tr>\n      <th>...</th>\n      <td>...</td>\n      <td>...</td>\n      <td>...</td>\n      <td>...</td>\n      <td>...</td>\n      <td>...</td>\n      <td>...</td>\n      <td>...</td>\n      <td>...</td>\n    </tr>\n    <tr>\n      <th>883</th>\n      <td>0</td>\n      <td>2</td>\n      <td>male</td>\n      <td>28.0</td>\n      <td>0</td>\n      <td>0</td>\n      <td>10.5000</td>\n      <td>S</td>\n      <td>NaN</td>\n    </tr>\n    <tr>\n      <th>884</th>\n      <td>0</td>\n      <td>3</td>\n      <td>male</td>\n      <td>25.0</td>\n      <td>0</td>\n      <td>0</td>\n      <td>7.0500</td>\n      <td>S</td>\n      <td>NaN</td>\n    </tr>\n    <tr>\n      <th>886</th>\n      <td>0</td>\n      <td>2</td>\n      <td>male</td>\n      <td>27.0</td>\n      <td>0</td>\n      <td>0</td>\n      <td>13.0000</td>\n      <td>S</td>\n      <td>NaN</td>\n    </tr>\n    <tr>\n      <th>889</th>\n      <td>1</td>\n      <td>1</td>\n      <td>male</td>\n      <td>26.0</td>\n      <td>0</td>\n      <td>0</td>\n      <td>30.0000</td>\n      <td>C</td>\n      <td>C</td>\n    </tr>\n    <tr>\n      <th>890</th>\n      <td>0</td>\n      <td>3</td>\n      <td>male</td>\n      <td>32.0</td>\n      <td>0</td>\n      <td>0</td>\n      <td>7.7500</td>\n      <td>Q</td>\n      <td>NaN</td>\n    </tr>\n  </tbody>\n</table>\n<p>577 rows × 9 columns</p>\n</div>"
     },
     "execution_count": 188,
     "metadata": {},
     "output_type": "execute_result"
    }
   ],
   "source": [
    "# New data frame returned\n",
    "titanic.loc[titanic.sex == 'male']\n",
    "# Filtering on column\n",
    "# Chained indexing can cause issues\n",
    "# titanic.loc[titanic.sex == 'male']['fare']"
   ],
   "metadata": {
    "collapsed": false,
    "pycharm": {
     "name": "#%%\n"
    }
   }
  },
  {
   "cell_type": "code",
   "execution_count": 189,
   "outputs": [
    {
     "data": {
      "text/plain": "0       7.2500\n4       8.0500\n5       8.4583\n6      51.8625\n7      21.0750\n        ...   \n883    10.5000\n884     7.0500\n886    13.0000\n889    30.0000\n890     7.7500\nName: fare, Length: 577, dtype: float64"
     },
     "execution_count": 189,
     "metadata": {},
     "output_type": "execute_result"
    }
   ],
   "source": [
    "# loc is preferred\n",
    "# titanic.loc[titanic.sex == 'male']\n",
    "titanic.loc[titanic.sex == 'male', 'fare']"
   ],
   "metadata": {
    "collapsed": false,
    "pycharm": {
     "name": "#%%\n"
    }
   }
  },
  {
   "cell_type": "markdown",
   "source": [
    "#### Masking"
   ],
   "metadata": {
    "collapsed": false,
    "pycharm": {
     "name": "#%% md\n"
    }
   }
  },
  {
   "cell_type": "code",
   "execution_count": 191,
   "outputs": [
    {
     "data": {
      "text/plain": "0      True\n1      True\n2      True\n3      True\n4      True\n       ... \n886    True\n887    True\n888    True\n889    True\n890    True\nName: sex, Length: 891, dtype: bool"
     },
     "execution_count": 191,
     "metadata": {},
     "output_type": "execute_result"
    }
   ],
   "source": [
    "mask1 = titanic.sex == 'male'\n",
    "mask1"
   ],
   "metadata": {
    "collapsed": false,
    "pycharm": {
     "name": "#%%\n"
    }
   }
  },
  {
   "cell_type": "code",
   "source": [
    "titanic_male = titanic.loc[mask1]\n",
    "titanic_male.head()"
   ],
   "metadata": {
    "collapsed": false,
    "pycharm": {
     "name": "#%%\n"
    }
   },
   "execution_count": 194,
   "outputs": [
    {
     "data": {
      "text/plain": "   survived  pclass   sex   age  sibsp  parch     fare embarked deck\n0         0       3  male  22.0      1      0   7.2500        S  NaN\n1         1       1  male  38.0      1      0  71.2833        C    C\n2         1       3  male  26.0      0      0   7.9250        S  NaN\n3         1       1  male  35.0      1      0  53.1000        S    C\n4         0       3  male  35.0      0      0   8.0500        S  NaN",
      "text/html": "<div>\n<style scoped>\n    .dataframe tbody tr th:only-of-type {\n        vertical-align: middle;\n    }\n\n    .dataframe tbody tr th {\n        vertical-align: top;\n    }\n\n    .dataframe thead th {\n        text-align: right;\n    }\n</style>\n<table border=\"1\" class=\"dataframe\">\n  <thead>\n    <tr style=\"text-align: right;\">\n      <th></th>\n      <th>survived</th>\n      <th>pclass</th>\n      <th>sex</th>\n      <th>age</th>\n      <th>sibsp</th>\n      <th>parch</th>\n      <th>fare</th>\n      <th>embarked</th>\n      <th>deck</th>\n    </tr>\n  </thead>\n  <tbody>\n    <tr>\n      <th>0</th>\n      <td>0</td>\n      <td>3</td>\n      <td>male</td>\n      <td>22.0</td>\n      <td>1</td>\n      <td>0</td>\n      <td>7.2500</td>\n      <td>S</td>\n      <td>NaN</td>\n    </tr>\n    <tr>\n      <th>1</th>\n      <td>1</td>\n      <td>1</td>\n      <td>male</td>\n      <td>38.0</td>\n      <td>1</td>\n      <td>0</td>\n      <td>71.2833</td>\n      <td>C</td>\n      <td>C</td>\n    </tr>\n    <tr>\n      <th>2</th>\n      <td>1</td>\n      <td>3</td>\n      <td>male</td>\n      <td>26.0</td>\n      <td>0</td>\n      <td>0</td>\n      <td>7.9250</td>\n      <td>S</td>\n      <td>NaN</td>\n    </tr>\n    <tr>\n      <th>3</th>\n      <td>1</td>\n      <td>1</td>\n      <td>male</td>\n      <td>35.0</td>\n      <td>1</td>\n      <td>0</td>\n      <td>53.1000</td>\n      <td>S</td>\n      <td>C</td>\n    </tr>\n    <tr>\n      <th>4</th>\n      <td>0</td>\n      <td>3</td>\n      <td>male</td>\n      <td>35.0</td>\n      <td>0</td>\n      <td>0</td>\n      <td>8.0500</td>\n      <td>S</td>\n      <td>NaN</td>\n    </tr>\n  </tbody>\n</table>\n</div>"
     },
     "execution_count": 194,
     "metadata": {},
     "output_type": "execute_result"
    }
   ]
  },
  {
   "cell_type": "code",
   "execution_count": 195,
   "outputs": [
    {
     "data": {
      "text/plain": "survived      int64\npclass        int64\nsex          object\nage         float64\nsibsp         int64\nparch         int64\nfare        float64\nembarked     object\ndeck         object\ndtype: object"
     },
     "execution_count": 195,
     "metadata": {},
     "output_type": "execute_result"
    }
   ],
   "source": [
    "titanic.dtypes"
   ],
   "metadata": {
    "collapsed": false,
    "pycharm": {
     "name": "#%%\n"
    }
   }
  },
  {
   "cell_type": "code",
   "execution_count": 196,
   "outputs": [
    {
     "data": {
      "text/plain": "survived    False\npclass      False\nsex          True\nage         False\nsibsp       False\nparch       False\nfare        False\nembarked     True\ndeck         True\ndtype: bool"
     },
     "execution_count": 196,
     "metadata": {},
     "output_type": "execute_result"
    }
   ],
   "source": [
    "mask2 = titanic.dtypes == 'object'\n",
    "mask2"
   ],
   "metadata": {
    "collapsed": false,
    "pycharm": {
     "name": "#%%\n"
    }
   }
  },
  {
   "cell_type": "code",
   "execution_count": 197,
   "outputs": [
    {
     "data": {
      "text/plain": "     survived  pclass   age  sibsp  parch     fare\n0           0       3  22.0      1      0   7.2500\n1           1       1  38.0      1      0  71.2833\n2           1       3  26.0      0      0   7.9250\n3           1       1  35.0      1      0  53.1000\n4           0       3  35.0      0      0   8.0500\n..        ...     ...   ...    ...    ...      ...\n886         0       2  27.0      0      0  13.0000\n887         1       1  19.0      0      0  30.0000\n888         0       3   NaN      1      2  23.4500\n889         1       1  26.0      0      0  30.0000\n890         0       3  32.0      0      0   7.7500\n\n[891 rows x 6 columns]",
      "text/html": "<div>\n<style scoped>\n    .dataframe tbody tr th:only-of-type {\n        vertical-align: middle;\n    }\n\n    .dataframe tbody tr th {\n        vertical-align: top;\n    }\n\n    .dataframe thead th {\n        text-align: right;\n    }\n</style>\n<table border=\"1\" class=\"dataframe\">\n  <thead>\n    <tr style=\"text-align: right;\">\n      <th></th>\n      <th>survived</th>\n      <th>pclass</th>\n      <th>age</th>\n      <th>sibsp</th>\n      <th>parch</th>\n      <th>fare</th>\n    </tr>\n  </thead>\n  <tbody>\n    <tr>\n      <th>0</th>\n      <td>0</td>\n      <td>3</td>\n      <td>22.0</td>\n      <td>1</td>\n      <td>0</td>\n      <td>7.2500</td>\n    </tr>\n    <tr>\n      <th>1</th>\n      <td>1</td>\n      <td>1</td>\n      <td>38.0</td>\n      <td>1</td>\n      <td>0</td>\n      <td>71.2833</td>\n    </tr>\n    <tr>\n      <th>2</th>\n      <td>1</td>\n      <td>3</td>\n      <td>26.0</td>\n      <td>0</td>\n      <td>0</td>\n      <td>7.9250</td>\n    </tr>\n    <tr>\n      <th>3</th>\n      <td>1</td>\n      <td>1</td>\n      <td>35.0</td>\n      <td>1</td>\n      <td>0</td>\n      <td>53.1000</td>\n    </tr>\n    <tr>\n      <th>4</th>\n      <td>0</td>\n      <td>3</td>\n      <td>35.0</td>\n      <td>0</td>\n      <td>0</td>\n      <td>8.0500</td>\n    </tr>\n    <tr>\n      <th>...</th>\n      <td>...</td>\n      <td>...</td>\n      <td>...</td>\n      <td>...</td>\n      <td>...</td>\n      <td>...</td>\n    </tr>\n    <tr>\n      <th>886</th>\n      <td>0</td>\n      <td>2</td>\n      <td>27.0</td>\n      <td>0</td>\n      <td>0</td>\n      <td>13.0000</td>\n    </tr>\n    <tr>\n      <th>887</th>\n      <td>1</td>\n      <td>1</td>\n      <td>19.0</td>\n      <td>0</td>\n      <td>0</td>\n      <td>30.0000</td>\n    </tr>\n    <tr>\n      <th>888</th>\n      <td>0</td>\n      <td>3</td>\n      <td>NaN</td>\n      <td>1</td>\n      <td>2</td>\n      <td>23.4500</td>\n    </tr>\n    <tr>\n      <th>889</th>\n      <td>1</td>\n      <td>1</td>\n      <td>26.0</td>\n      <td>0</td>\n      <td>0</td>\n      <td>30.0000</td>\n    </tr>\n    <tr>\n      <th>890</th>\n      <td>0</td>\n      <td>3</td>\n      <td>32.0</td>\n      <td>0</td>\n      <td>0</td>\n      <td>7.7500</td>\n    </tr>\n  </tbody>\n</table>\n<p>891 rows × 6 columns</p>\n</div>"
     },
     "execution_count": 197,
     "metadata": {},
     "output_type": "execute_result"
    }
   ],
   "source": [
    "titanic.loc[:, ~mask2]"
   ],
   "metadata": {
    "collapsed": false,
    "pycharm": {
     "name": "#%%\n"
    }
   }
  },
  {
   "cell_type": "code",
   "execution_count": 198,
   "outputs": [
    {
     "data": {
      "text/plain": "     survived  pclass   age  sibsp  parch     fare\n0           0       3  22.0      1      0   7.2500\n1           1       1  38.0      1      0  71.2833\n2           1       3  26.0      0      0   7.9250\n3           1       1  35.0      1      0  53.1000\n4           0       3  35.0      0      0   8.0500\n..        ...     ...   ...    ...    ...      ...\n886         0       2  27.0      0      0  13.0000\n887         1       1  19.0      0      0  30.0000\n888         0       3   NaN      1      2  23.4500\n889         1       1  26.0      0      0  30.0000\n890         0       3  32.0      0      0   7.7500\n\n[891 rows x 6 columns]",
      "text/html": "<div>\n<style scoped>\n    .dataframe tbody tr th:only-of-type {\n        vertical-align: middle;\n    }\n\n    .dataframe tbody tr th {\n        vertical-align: top;\n    }\n\n    .dataframe thead th {\n        text-align: right;\n    }\n</style>\n<table border=\"1\" class=\"dataframe\">\n  <thead>\n    <tr style=\"text-align: right;\">\n      <th></th>\n      <th>survived</th>\n      <th>pclass</th>\n      <th>age</th>\n      <th>sibsp</th>\n      <th>parch</th>\n      <th>fare</th>\n    </tr>\n  </thead>\n  <tbody>\n    <tr>\n      <th>0</th>\n      <td>0</td>\n      <td>3</td>\n      <td>22.0</td>\n      <td>1</td>\n      <td>0</td>\n      <td>7.2500</td>\n    </tr>\n    <tr>\n      <th>1</th>\n      <td>1</td>\n      <td>1</td>\n      <td>38.0</td>\n      <td>1</td>\n      <td>0</td>\n      <td>71.2833</td>\n    </tr>\n    <tr>\n      <th>2</th>\n      <td>1</td>\n      <td>3</td>\n      <td>26.0</td>\n      <td>0</td>\n      <td>0</td>\n      <td>7.9250</td>\n    </tr>\n    <tr>\n      <th>3</th>\n      <td>1</td>\n      <td>1</td>\n      <td>35.0</td>\n      <td>1</td>\n      <td>0</td>\n      <td>53.1000</td>\n    </tr>\n    <tr>\n      <th>4</th>\n      <td>0</td>\n      <td>3</td>\n      <td>35.0</td>\n      <td>0</td>\n      <td>0</td>\n      <td>8.0500</td>\n    </tr>\n    <tr>\n      <th>...</th>\n      <td>...</td>\n      <td>...</td>\n      <td>...</td>\n      <td>...</td>\n      <td>...</td>\n      <td>...</td>\n    </tr>\n    <tr>\n      <th>886</th>\n      <td>0</td>\n      <td>2</td>\n      <td>27.0</td>\n      <td>0</td>\n      <td>0</td>\n      <td>13.0000</td>\n    </tr>\n    <tr>\n      <th>887</th>\n      <td>1</td>\n      <td>1</td>\n      <td>19.0</td>\n      <td>0</td>\n      <td>0</td>\n      <td>30.0000</td>\n    </tr>\n    <tr>\n      <th>888</th>\n      <td>0</td>\n      <td>3</td>\n      <td>NaN</td>\n      <td>1</td>\n      <td>2</td>\n      <td>23.4500</td>\n    </tr>\n    <tr>\n      <th>889</th>\n      <td>1</td>\n      <td>1</td>\n      <td>26.0</td>\n      <td>0</td>\n      <td>0</td>\n      <td>30.0000</td>\n    </tr>\n    <tr>\n      <th>890</th>\n      <td>0</td>\n      <td>3</td>\n      <td>32.0</td>\n      <td>0</td>\n      <td>0</td>\n      <td>7.7500</td>\n    </tr>\n  </tbody>\n</table>\n<p>891 rows × 6 columns</p>\n</div>"
     },
     "execution_count": 198,
     "metadata": {},
     "output_type": "execute_result"
    }
   ],
   "source": [
    "titanic.loc[mask1, ~mask2]"
   ],
   "metadata": {
    "collapsed": false,
    "pycharm": {
     "name": "#%%\n"
    }
   }
  },
  {
   "cell_type": "markdown",
   "source": [
    "### Filtering with many Conditions"
   ],
   "metadata": {
    "collapsed": false,
    "pycharm": {
     "name": "#%% md\n"
    }
   }
  },
  {
   "cell_type": "markdown",
   "source": [
    "#### AND"
   ],
   "metadata": {
    "collapsed": false,
    "pycharm": {
     "name": "#%% md\n"
    }
   }
  },
  {
   "cell_type": "code",
   "execution_count": 199,
   "outputs": [
    {
     "data": {
      "text/plain": "   survived  pclass     sex   age  sibsp  parch     fare embarked deck\n0         0       3    male  22.0      1      0   7.2500        S  NaN\n1         1       1  female  38.0      1      0  71.2833        C    C\n2         1       3  female  26.0      0      0   7.9250        S  NaN\n3         1       1  female  35.0      1      0  53.1000        S    C\n4         0       3    male  35.0      0      0   8.0500        S  NaN\n5         0       3    male   NaN      0      0   8.4583        Q  NaN\n6         0       1    male  54.0      0      0  51.8625        S    E\n7         0       3    male   2.0      3      1  21.0750        S  NaN\n8         1       3  female  27.0      0      2  11.1333        S  NaN\n9         1       2  female  14.0      1      0  30.0708        C  NaN",
      "text/html": "<div>\n<style scoped>\n    .dataframe tbody tr th:only-of-type {\n        vertical-align: middle;\n    }\n\n    .dataframe tbody tr th {\n        vertical-align: top;\n    }\n\n    .dataframe thead th {\n        text-align: right;\n    }\n</style>\n<table border=\"1\" class=\"dataframe\">\n  <thead>\n    <tr style=\"text-align: right;\">\n      <th></th>\n      <th>survived</th>\n      <th>pclass</th>\n      <th>sex</th>\n      <th>age</th>\n      <th>sibsp</th>\n      <th>parch</th>\n      <th>fare</th>\n      <th>embarked</th>\n      <th>deck</th>\n    </tr>\n  </thead>\n  <tbody>\n    <tr>\n      <th>0</th>\n      <td>0</td>\n      <td>3</td>\n      <td>male</td>\n      <td>22.0</td>\n      <td>1</td>\n      <td>0</td>\n      <td>7.2500</td>\n      <td>S</td>\n      <td>NaN</td>\n    </tr>\n    <tr>\n      <th>1</th>\n      <td>1</td>\n      <td>1</td>\n      <td>female</td>\n      <td>38.0</td>\n      <td>1</td>\n      <td>0</td>\n      <td>71.2833</td>\n      <td>C</td>\n      <td>C</td>\n    </tr>\n    <tr>\n      <th>2</th>\n      <td>1</td>\n      <td>3</td>\n      <td>female</td>\n      <td>26.0</td>\n      <td>0</td>\n      <td>0</td>\n      <td>7.9250</td>\n      <td>S</td>\n      <td>NaN</td>\n    </tr>\n    <tr>\n      <th>3</th>\n      <td>1</td>\n      <td>1</td>\n      <td>female</td>\n      <td>35.0</td>\n      <td>1</td>\n      <td>0</td>\n      <td>53.1000</td>\n      <td>S</td>\n      <td>C</td>\n    </tr>\n    <tr>\n      <th>4</th>\n      <td>0</td>\n      <td>3</td>\n      <td>male</td>\n      <td>35.0</td>\n      <td>0</td>\n      <td>0</td>\n      <td>8.0500</td>\n      <td>S</td>\n      <td>NaN</td>\n    </tr>\n    <tr>\n      <th>5</th>\n      <td>0</td>\n      <td>3</td>\n      <td>male</td>\n      <td>NaN</td>\n      <td>0</td>\n      <td>0</td>\n      <td>8.4583</td>\n      <td>Q</td>\n      <td>NaN</td>\n    </tr>\n    <tr>\n      <th>6</th>\n      <td>0</td>\n      <td>1</td>\n      <td>male</td>\n      <td>54.0</td>\n      <td>0</td>\n      <td>0</td>\n      <td>51.8625</td>\n      <td>S</td>\n      <td>E</td>\n    </tr>\n    <tr>\n      <th>7</th>\n      <td>0</td>\n      <td>3</td>\n      <td>male</td>\n      <td>2.0</td>\n      <td>3</td>\n      <td>1</td>\n      <td>21.0750</td>\n      <td>S</td>\n      <td>NaN</td>\n    </tr>\n    <tr>\n      <th>8</th>\n      <td>1</td>\n      <td>3</td>\n      <td>female</td>\n      <td>27.0</td>\n      <td>0</td>\n      <td>2</td>\n      <td>11.1333</td>\n      <td>S</td>\n      <td>NaN</td>\n    </tr>\n    <tr>\n      <th>9</th>\n      <td>1</td>\n      <td>2</td>\n      <td>female</td>\n      <td>14.0</td>\n      <td>1</td>\n      <td>0</td>\n      <td>30.0708</td>\n      <td>C</td>\n      <td>NaN</td>\n    </tr>\n  </tbody>\n</table>\n</div>"
     },
     "execution_count": 199,
     "metadata": {},
     "output_type": "execute_result"
    }
   ],
   "source": [
    "titanic = pd.read_csv('data/titanic.csv')\n",
    "titanic.head(10)"
   ],
   "metadata": {
    "collapsed": false,
    "pycharm": {
     "name": "#%%\n"
    }
   }
  },
  {
   "cell_type": "code",
   "source": [
    "mask1 = titanic.sex == 'male'\n",
    "mask1.head()"
   ],
   "metadata": {
    "collapsed": false,
    "pycharm": {
     "name": "#%%\n"
    }
   },
   "execution_count": 201,
   "outputs": [
    {
     "data": {
      "text/plain": "0     True\n1    False\n2    False\n3    False\n4     True\nName: sex, dtype: bool"
     },
     "execution_count": 201,
     "metadata": {},
     "output_type": "execute_result"
    }
   ]
  },
  {
   "cell_type": "code",
   "execution_count": 202,
   "outputs": [
    {
     "data": {
      "text/plain": "0    True\n1    True\n2    True\n3    True\n4    True\nName: age, dtype: bool"
     },
     "execution_count": 202,
     "metadata": {},
     "output_type": "execute_result"
    }
   ],
   "source": [
    "mask2 = titanic.age > 14\n",
    "mask2.head()"
   ],
   "metadata": {
    "collapsed": false,
    "pycharm": {
     "name": "#%%\n"
    }
   }
  },
  {
   "cell_type": "code",
   "execution_count": 203,
   "outputs": [
    {
     "data": {
      "text/plain": "0     True\n1    False\n2    False\n3    False\n4     True\ndtype: bool"
     },
     "execution_count": 203,
     "metadata": {},
     "output_type": "execute_result"
    }
   ],
   "source": [
    "(mask1 & mask2).head()"
   ],
   "metadata": {
    "collapsed": false,
    "pycharm": {
     "name": "#%%\n"
    }
   }
  },
  {
   "cell_type": "code",
   "execution_count": 205,
   "outputs": [
    {
     "data": {
      "text/plain": "    survived  pclass   sex   age\n0          0       3  male  22.0\n4          0       3  male  35.0\n6          0       1  male  54.0\n12         0       3  male  20.0\n13         0       3  male  39.0",
      "text/html": "<div>\n<style scoped>\n    .dataframe tbody tr th:only-of-type {\n        vertical-align: middle;\n    }\n\n    .dataframe tbody tr th {\n        vertical-align: top;\n    }\n\n    .dataframe thead th {\n        text-align: right;\n    }\n</style>\n<table border=\"1\" class=\"dataframe\">\n  <thead>\n    <tr style=\"text-align: right;\">\n      <th></th>\n      <th>survived</th>\n      <th>pclass</th>\n      <th>sex</th>\n      <th>age</th>\n    </tr>\n  </thead>\n  <tbody>\n    <tr>\n      <th>0</th>\n      <td>0</td>\n      <td>3</td>\n      <td>male</td>\n      <td>22.0</td>\n    </tr>\n    <tr>\n      <th>4</th>\n      <td>0</td>\n      <td>3</td>\n      <td>male</td>\n      <td>35.0</td>\n    </tr>\n    <tr>\n      <th>6</th>\n      <td>0</td>\n      <td>1</td>\n      <td>male</td>\n      <td>54.0</td>\n    </tr>\n    <tr>\n      <th>12</th>\n      <td>0</td>\n      <td>3</td>\n      <td>male</td>\n      <td>20.0</td>\n    </tr>\n    <tr>\n      <th>13</th>\n      <td>0</td>\n      <td>3</td>\n      <td>male</td>\n      <td>39.0</td>\n    </tr>\n  </tbody>\n</table>\n</div>"
     },
     "execution_count": 205,
     "metadata": {},
     "output_type": "execute_result"
    }
   ],
   "source": [
    "male_surv = titanic.loc[mask1 & mask2, ['survived', 'pclass', 'sex', 'age']]\n",
    "male_surv.head()"
   ],
   "metadata": {
    "collapsed": false,
    "pycharm": {
     "name": "#%%\n"
    }
   }
  },
  {
   "cell_type": "code",
   "execution_count": 206,
   "outputs": [
    {
     "name": "stdout",
     "output_type": "stream",
     "text": [
      "<class 'pandas.core.frame.DataFrame'>\n",
      "Int64Index: 414 entries, 0 to 890\n",
      "Data columns (total 4 columns):\n",
      " #   Column    Non-Null Count  Dtype  \n",
      "---  ------    --------------  -----  \n",
      " 0   survived  414 non-null    int64  \n",
      " 1   pclass    414 non-null    int64  \n",
      " 2   sex       414 non-null    object \n",
      " 3   age       414 non-null    float64\n",
      "dtypes: float64(1), int64(2), object(1)\n",
      "memory usage: 16.2+ KB\n"
     ]
    }
   ],
   "source": [
    "male_surv.info()"
   ],
   "metadata": {
    "collapsed": false,
    "pycharm": {
     "name": "#%%\n"
    }
   }
  },
  {
   "cell_type": "code",
   "execution_count": 207,
   "outputs": [
    {
     "data": {
      "text/plain": "         survived      pclass         age\ncount  414.000000  414.000000  414.000000\nmean     0.173913    2.309179   33.129227\nstd      0.379493    0.829868   12.922177\nmin      0.000000    1.000000   15.000000\n25%      0.000000    2.000000   23.000000\n50%      0.000000    3.000000   30.000000\n75%      0.000000    3.000000   40.000000\nmax      1.000000    3.000000   80.000000",
      "text/html": "<div>\n<style scoped>\n    .dataframe tbody tr th:only-of-type {\n        vertical-align: middle;\n    }\n\n    .dataframe tbody tr th {\n        vertical-align: top;\n    }\n\n    .dataframe thead th {\n        text-align: right;\n    }\n</style>\n<table border=\"1\" class=\"dataframe\">\n  <thead>\n    <tr style=\"text-align: right;\">\n      <th></th>\n      <th>survived</th>\n      <th>pclass</th>\n      <th>age</th>\n    </tr>\n  </thead>\n  <tbody>\n    <tr>\n      <th>count</th>\n      <td>414.000000</td>\n      <td>414.000000</td>\n      <td>414.000000</td>\n    </tr>\n    <tr>\n      <th>mean</th>\n      <td>0.173913</td>\n      <td>2.309179</td>\n      <td>33.129227</td>\n    </tr>\n    <tr>\n      <th>std</th>\n      <td>0.379493</td>\n      <td>0.829868</td>\n      <td>12.922177</td>\n    </tr>\n    <tr>\n      <th>min</th>\n      <td>0.000000</td>\n      <td>1.000000</td>\n      <td>15.000000</td>\n    </tr>\n    <tr>\n      <th>25%</th>\n      <td>0.000000</td>\n      <td>2.000000</td>\n      <td>23.000000</td>\n    </tr>\n    <tr>\n      <th>50%</th>\n      <td>0.000000</td>\n      <td>3.000000</td>\n      <td>30.000000</td>\n    </tr>\n    <tr>\n      <th>75%</th>\n      <td>0.000000</td>\n      <td>3.000000</td>\n      <td>40.000000</td>\n    </tr>\n    <tr>\n      <th>max</th>\n      <td>1.000000</td>\n      <td>3.000000</td>\n      <td>80.000000</td>\n    </tr>\n  </tbody>\n</table>\n</div>"
     },
     "execution_count": 207,
     "metadata": {},
     "output_type": "execute_result"
    }
   ],
   "source": [
    "male_surv.describe()"
   ],
   "metadata": {
    "collapsed": false,
    "pycharm": {
     "name": "#%%\n"
    }
   }
  },
  {
   "cell_type": "code",
   "execution_count": 208,
   "outputs": [
    {
     "data": {
      "text/plain": "         survived      pclass         age       sibsp       parch        fare\ncount  891.000000  891.000000  714.000000  891.000000  891.000000  891.000000\nmean     0.383838    2.308642   29.699118    0.523008    0.381594   32.204208\nstd      0.486592    0.836071   14.526497    1.102743    0.806057   49.693429\nmin      0.000000    1.000000    0.420000    0.000000    0.000000    0.000000\n25%      0.000000    2.000000   20.125000    0.000000    0.000000    7.910400\n50%      0.000000    3.000000   28.000000    0.000000    0.000000   14.454200\n75%      1.000000    3.000000   38.000000    1.000000    0.000000   31.000000\nmax      1.000000    3.000000   80.000000    8.000000    6.000000  512.329200",
      "text/html": "<div>\n<style scoped>\n    .dataframe tbody tr th:only-of-type {\n        vertical-align: middle;\n    }\n\n    .dataframe tbody tr th {\n        vertical-align: top;\n    }\n\n    .dataframe thead th {\n        text-align: right;\n    }\n</style>\n<table border=\"1\" class=\"dataframe\">\n  <thead>\n    <tr style=\"text-align: right;\">\n      <th></th>\n      <th>survived</th>\n      <th>pclass</th>\n      <th>age</th>\n      <th>sibsp</th>\n      <th>parch</th>\n      <th>fare</th>\n    </tr>\n  </thead>\n  <tbody>\n    <tr>\n      <th>count</th>\n      <td>891.000000</td>\n      <td>891.000000</td>\n      <td>714.000000</td>\n      <td>891.000000</td>\n      <td>891.000000</td>\n      <td>891.000000</td>\n    </tr>\n    <tr>\n      <th>mean</th>\n      <td>0.383838</td>\n      <td>2.308642</td>\n      <td>29.699118</td>\n      <td>0.523008</td>\n      <td>0.381594</td>\n      <td>32.204208</td>\n    </tr>\n    <tr>\n      <th>std</th>\n      <td>0.486592</td>\n      <td>0.836071</td>\n      <td>14.526497</td>\n      <td>1.102743</td>\n      <td>0.806057</td>\n      <td>49.693429</td>\n    </tr>\n    <tr>\n      <th>min</th>\n      <td>0.000000</td>\n      <td>1.000000</td>\n      <td>0.420000</td>\n      <td>0.000000</td>\n      <td>0.000000</td>\n      <td>0.000000</td>\n    </tr>\n    <tr>\n      <th>25%</th>\n      <td>0.000000</td>\n      <td>2.000000</td>\n      <td>20.125000</td>\n      <td>0.000000</td>\n      <td>0.000000</td>\n      <td>7.910400</td>\n    </tr>\n    <tr>\n      <th>50%</th>\n      <td>0.000000</td>\n      <td>3.000000</td>\n      <td>28.000000</td>\n      <td>0.000000</td>\n      <td>0.000000</td>\n      <td>14.454200</td>\n    </tr>\n    <tr>\n      <th>75%</th>\n      <td>1.000000</td>\n      <td>3.000000</td>\n      <td>38.000000</td>\n      <td>1.000000</td>\n      <td>0.000000</td>\n      <td>31.000000</td>\n    </tr>\n    <tr>\n      <th>max</th>\n      <td>1.000000</td>\n      <td>3.000000</td>\n      <td>80.000000</td>\n      <td>8.000000</td>\n      <td>6.000000</td>\n      <td>512.329200</td>\n    </tr>\n  </tbody>\n</table>\n</div>"
     },
     "execution_count": 208,
     "metadata": {},
     "output_type": "execute_result"
    }
   ],
   "source": [
    "titanic.describe()"
   ],
   "metadata": {
    "collapsed": false,
    "pycharm": {
     "name": "#%%\n"
    }
   }
  },
  {
   "cell_type": "markdown",
   "source": [
    "#### OR"
   ],
   "metadata": {
    "collapsed": false,
    "pycharm": {
     "name": "#%% md\n"
    }
   }
  },
  {
   "cell_type": "code",
   "execution_count": 216,
   "outputs": [
    {
     "data": {
      "text/plain": "0    False\n1     True\n2     True\n3     True\n4    False\ndtype: bool"
     },
     "execution_count": 216,
     "metadata": {},
     "output_type": "execute_result"
    }
   ],
   "source": [
    "mask1 = titanic.sex == 'female'\n",
    "mask2 = titanic.age <= 14\n",
    "(mask1 | mask2).head()"
   ],
   "metadata": {
    "collapsed": false,
    "pycharm": {
     "name": "#%%\n"
    }
   }
  },
  {
   "cell_type": "code",
   "execution_count": 217,
   "outputs": [
    {
     "data": {
      "text/plain": "     survived  pclass     sex   age  sibsp  parch     fare embarked deck\n1           1       1  female  38.0      1      0  71.2833        C    C\n2           1       3  female  26.0      0      0   7.9250        S  NaN\n3           1       1  female  35.0      1      0  53.1000        S    C\n7           0       3    male   2.0      3      1  21.0750        S  NaN\n8           1       3  female  27.0      0      2  11.1333        S  NaN\n..        ...     ...     ...   ...    ...    ...      ...      ...  ...\n880         1       2  female  25.0      0      1  26.0000        S  NaN\n882         0       3  female  22.0      0      0  10.5167        S  NaN\n885         0       3  female  39.0      0      5  29.1250        Q  NaN\n887         1       1  female  19.0      0      0  30.0000        S    B\n888         0       3  female   NaN      1      2  23.4500        S  NaN\n\n[353 rows x 9 columns]",
      "text/html": "<div>\n<style scoped>\n    .dataframe tbody tr th:only-of-type {\n        vertical-align: middle;\n    }\n\n    .dataframe tbody tr th {\n        vertical-align: top;\n    }\n\n    .dataframe thead th {\n        text-align: right;\n    }\n</style>\n<table border=\"1\" class=\"dataframe\">\n  <thead>\n    <tr style=\"text-align: right;\">\n      <th></th>\n      <th>survived</th>\n      <th>pclass</th>\n      <th>sex</th>\n      <th>age</th>\n      <th>sibsp</th>\n      <th>parch</th>\n      <th>fare</th>\n      <th>embarked</th>\n      <th>deck</th>\n    </tr>\n  </thead>\n  <tbody>\n    <tr>\n      <th>1</th>\n      <td>1</td>\n      <td>1</td>\n      <td>female</td>\n      <td>38.0</td>\n      <td>1</td>\n      <td>0</td>\n      <td>71.2833</td>\n      <td>C</td>\n      <td>C</td>\n    </tr>\n    <tr>\n      <th>2</th>\n      <td>1</td>\n      <td>3</td>\n      <td>female</td>\n      <td>26.0</td>\n      <td>0</td>\n      <td>0</td>\n      <td>7.9250</td>\n      <td>S</td>\n      <td>NaN</td>\n    </tr>\n    <tr>\n      <th>3</th>\n      <td>1</td>\n      <td>1</td>\n      <td>female</td>\n      <td>35.0</td>\n      <td>1</td>\n      <td>0</td>\n      <td>53.1000</td>\n      <td>S</td>\n      <td>C</td>\n    </tr>\n    <tr>\n      <th>7</th>\n      <td>0</td>\n      <td>3</td>\n      <td>male</td>\n      <td>2.0</td>\n      <td>3</td>\n      <td>1</td>\n      <td>21.0750</td>\n      <td>S</td>\n      <td>NaN</td>\n    </tr>\n    <tr>\n      <th>8</th>\n      <td>1</td>\n      <td>3</td>\n      <td>female</td>\n      <td>27.0</td>\n      <td>0</td>\n      <td>2</td>\n      <td>11.1333</td>\n      <td>S</td>\n      <td>NaN</td>\n    </tr>\n    <tr>\n      <th>...</th>\n      <td>...</td>\n      <td>...</td>\n      <td>...</td>\n      <td>...</td>\n      <td>...</td>\n      <td>...</td>\n      <td>...</td>\n      <td>...</td>\n      <td>...</td>\n    </tr>\n    <tr>\n      <th>880</th>\n      <td>1</td>\n      <td>2</td>\n      <td>female</td>\n      <td>25.0</td>\n      <td>0</td>\n      <td>1</td>\n      <td>26.0000</td>\n      <td>S</td>\n      <td>NaN</td>\n    </tr>\n    <tr>\n      <th>882</th>\n      <td>0</td>\n      <td>3</td>\n      <td>female</td>\n      <td>22.0</td>\n      <td>0</td>\n      <td>0</td>\n      <td>10.5167</td>\n      <td>S</td>\n      <td>NaN</td>\n    </tr>\n    <tr>\n      <th>885</th>\n      <td>0</td>\n      <td>3</td>\n      <td>female</td>\n      <td>39.0</td>\n      <td>0</td>\n      <td>5</td>\n      <td>29.1250</td>\n      <td>Q</td>\n      <td>NaN</td>\n    </tr>\n    <tr>\n      <th>887</th>\n      <td>1</td>\n      <td>1</td>\n      <td>female</td>\n      <td>19.0</td>\n      <td>0</td>\n      <td>0</td>\n      <td>30.0000</td>\n      <td>S</td>\n      <td>B</td>\n    </tr>\n    <tr>\n      <th>888</th>\n      <td>0</td>\n      <td>3</td>\n      <td>female</td>\n      <td>NaN</td>\n      <td>1</td>\n      <td>2</td>\n      <td>23.4500</td>\n      <td>S</td>\n      <td>NaN</td>\n    </tr>\n  </tbody>\n</table>\n<p>353 rows × 9 columns</p>\n</div>"
     },
     "execution_count": 217,
     "metadata": {},
     "output_type": "execute_result"
    }
   ],
   "source": [
    "titanic.loc[mask1 | mask2]"
   ],
   "metadata": {
    "collapsed": false,
    "pycharm": {
     "name": "#%%\n"
    }
   }
  },
  {
   "cell_type": "code",
   "execution_count": 218,
   "outputs": [
    {
     "data": {
      "text/plain": "   survived  pclass     sex   age\n1         1       1  female  38.0\n2         1       3  female  26.0\n3         1       1  female  35.0\n7         0       3    male   2.0\n8         1       3  female  27.0",
      "text/html": "<div>\n<style scoped>\n    .dataframe tbody tr th:only-of-type {\n        vertical-align: middle;\n    }\n\n    .dataframe tbody tr th {\n        vertical-align: top;\n    }\n\n    .dataframe thead th {\n        text-align: right;\n    }\n</style>\n<table border=\"1\" class=\"dataframe\">\n  <thead>\n    <tr style=\"text-align: right;\">\n      <th></th>\n      <th>survived</th>\n      <th>pclass</th>\n      <th>sex</th>\n      <th>age</th>\n    </tr>\n  </thead>\n  <tbody>\n    <tr>\n      <th>1</th>\n      <td>1</td>\n      <td>1</td>\n      <td>female</td>\n      <td>38.0</td>\n    </tr>\n    <tr>\n      <th>2</th>\n      <td>1</td>\n      <td>3</td>\n      <td>female</td>\n      <td>26.0</td>\n    </tr>\n    <tr>\n      <th>3</th>\n      <td>1</td>\n      <td>1</td>\n      <td>female</td>\n      <td>35.0</td>\n    </tr>\n    <tr>\n      <th>7</th>\n      <td>0</td>\n      <td>3</td>\n      <td>male</td>\n      <td>2.0</td>\n    </tr>\n    <tr>\n      <th>8</th>\n      <td>1</td>\n      <td>3</td>\n      <td>female</td>\n      <td>27.0</td>\n    </tr>\n  </tbody>\n</table>\n</div>"
     },
     "execution_count": 218,
     "metadata": {},
     "output_type": "execute_result"
    }
   ],
   "source": [
    "wom_or_chi = titanic.loc[mask1 | mask2, ['survived', 'pclass', 'sex', 'age']]\n",
    "wom_or_chi.head()"
   ],
   "metadata": {
    "collapsed": false,
    "pycharm": {
     "name": "#%%\n"
    }
   }
  },
  {
   "cell_type": "code",
   "execution_count": 219,
   "outputs": [
    {
     "name": "stdout",
     "output_type": "stream",
     "text": [
      "<class 'pandas.core.frame.DataFrame'>\n",
      "Int64Index: 353 entries, 1 to 888\n",
      "Data columns (total 4 columns):\n",
      " #   Column    Non-Null Count  Dtype  \n",
      "---  ------    --------------  -----  \n",
      " 0   survived  353 non-null    int64  \n",
      " 1   pclass    353 non-null    int64  \n",
      " 2   sex       353 non-null    object \n",
      " 3   age       300 non-null    float64\n",
      "dtypes: float64(1), int64(2), object(1)\n",
      "memory usage: 13.8+ KB\n"
     ]
    }
   ],
   "source": [
    "wom_or_chi.info()"
   ],
   "metadata": {
    "collapsed": false,
    "pycharm": {
     "name": "#%%\n"
    }
   }
  },
  {
   "cell_type": "code",
   "execution_count": 220,
   "outputs": [
    {
     "data": {
      "text/plain": "         survived      pclass         age\ncount  353.000000  353.000000  300.000000\nmean     0.719547    2.209632   24.965567\nstd      0.449858    0.846932   15.289828\nmin      0.000000    1.000000    0.420000\n25%      0.000000    1.000000   14.000000\n50%      1.000000    2.000000   24.000000\n75%      1.000000    3.000000   35.000000\nmax      1.000000    3.000000   63.000000",
      "text/html": "<div>\n<style scoped>\n    .dataframe tbody tr th:only-of-type {\n        vertical-align: middle;\n    }\n\n    .dataframe tbody tr th {\n        vertical-align: top;\n    }\n\n    .dataframe thead th {\n        text-align: right;\n    }\n</style>\n<table border=\"1\" class=\"dataframe\">\n  <thead>\n    <tr style=\"text-align: right;\">\n      <th></th>\n      <th>survived</th>\n      <th>pclass</th>\n      <th>age</th>\n    </tr>\n  </thead>\n  <tbody>\n    <tr>\n      <th>count</th>\n      <td>353.000000</td>\n      <td>353.000000</td>\n      <td>300.000000</td>\n    </tr>\n    <tr>\n      <th>mean</th>\n      <td>0.719547</td>\n      <td>2.209632</td>\n      <td>24.965567</td>\n    </tr>\n    <tr>\n      <th>std</th>\n      <td>0.449858</td>\n      <td>0.846932</td>\n      <td>15.289828</td>\n    </tr>\n    <tr>\n      <th>min</th>\n      <td>0.000000</td>\n      <td>1.000000</td>\n      <td>0.420000</td>\n    </tr>\n    <tr>\n      <th>25%</th>\n      <td>0.000000</td>\n      <td>1.000000</td>\n      <td>14.000000</td>\n    </tr>\n    <tr>\n      <th>50%</th>\n      <td>1.000000</td>\n      <td>2.000000</td>\n      <td>24.000000</td>\n    </tr>\n    <tr>\n      <th>75%</th>\n      <td>1.000000</td>\n      <td>3.000000</td>\n      <td>35.000000</td>\n    </tr>\n    <tr>\n      <th>max</th>\n      <td>1.000000</td>\n      <td>3.000000</td>\n      <td>63.000000</td>\n    </tr>\n  </tbody>\n</table>\n</div>"
     },
     "execution_count": 220,
     "metadata": {},
     "output_type": "execute_result"
    }
   ],
   "source": [
    "wom_or_chi.describe()"
   ],
   "metadata": {
    "collapsed": false,
    "pycharm": {
     "name": "#%%\n"
    }
   }
  },
  {
   "cell_type": "code",
   "execution_count": 221,
   "outputs": [
    {
     "data": {
      "text/plain": "         survived      pclass         age       sibsp       parch        fare\ncount  891.000000  891.000000  714.000000  891.000000  891.000000  891.000000\nmean     0.383838    2.308642   29.699118    0.523008    0.381594   32.204208\nstd      0.486592    0.836071   14.526497    1.102743    0.806057   49.693429\nmin      0.000000    1.000000    0.420000    0.000000    0.000000    0.000000\n25%      0.000000    2.000000   20.125000    0.000000    0.000000    7.910400\n50%      0.000000    3.000000   28.000000    0.000000    0.000000   14.454200\n75%      1.000000    3.000000   38.000000    1.000000    0.000000   31.000000\nmax      1.000000    3.000000   80.000000    8.000000    6.000000  512.329200",
      "text/html": "<div>\n<style scoped>\n    .dataframe tbody tr th:only-of-type {\n        vertical-align: middle;\n    }\n\n    .dataframe tbody tr th {\n        vertical-align: top;\n    }\n\n    .dataframe thead th {\n        text-align: right;\n    }\n</style>\n<table border=\"1\" class=\"dataframe\">\n  <thead>\n    <tr style=\"text-align: right;\">\n      <th></th>\n      <th>survived</th>\n      <th>pclass</th>\n      <th>age</th>\n      <th>sibsp</th>\n      <th>parch</th>\n      <th>fare</th>\n    </tr>\n  </thead>\n  <tbody>\n    <tr>\n      <th>count</th>\n      <td>891.000000</td>\n      <td>891.000000</td>\n      <td>714.000000</td>\n      <td>891.000000</td>\n      <td>891.000000</td>\n      <td>891.000000</td>\n    </tr>\n    <tr>\n      <th>mean</th>\n      <td>0.383838</td>\n      <td>2.308642</td>\n      <td>29.699118</td>\n      <td>0.523008</td>\n      <td>0.381594</td>\n      <td>32.204208</td>\n    </tr>\n    <tr>\n      <th>std</th>\n      <td>0.486592</td>\n      <td>0.836071</td>\n      <td>14.526497</td>\n      <td>1.102743</td>\n      <td>0.806057</td>\n      <td>49.693429</td>\n    </tr>\n    <tr>\n      <th>min</th>\n      <td>0.000000</td>\n      <td>1.000000</td>\n      <td>0.420000</td>\n      <td>0.000000</td>\n      <td>0.000000</td>\n      <td>0.000000</td>\n    </tr>\n    <tr>\n      <th>25%</th>\n      <td>0.000000</td>\n      <td>2.000000</td>\n      <td>20.125000</td>\n      <td>0.000000</td>\n      <td>0.000000</td>\n      <td>7.910400</td>\n    </tr>\n    <tr>\n      <th>50%</th>\n      <td>0.000000</td>\n      <td>3.000000</td>\n      <td>28.000000</td>\n      <td>0.000000</td>\n      <td>0.000000</td>\n      <td>14.454200</td>\n    </tr>\n    <tr>\n      <th>75%</th>\n      <td>1.000000</td>\n      <td>3.000000</td>\n      <td>38.000000</td>\n      <td>1.000000</td>\n      <td>0.000000</td>\n      <td>31.000000</td>\n    </tr>\n    <tr>\n      <th>max</th>\n      <td>1.000000</td>\n      <td>3.000000</td>\n      <td>80.000000</td>\n      <td>8.000000</td>\n      <td>6.000000</td>\n      <td>512.329200</td>\n    </tr>\n  </tbody>\n</table>\n</div>"
     },
     "execution_count": 221,
     "metadata": {},
     "output_type": "execute_result"
    }
   ],
   "source": [
    "titanic.describe()"
   ],
   "metadata": {
    "collapsed": false,
    "pycharm": {
     "name": "#%%\n"
    }
   }
  },
  {
   "cell_type": "code",
   "execution_count": 225,
   "outputs": [
    {
     "data": {
      "text/plain": "       survived   pclass   age  sibsp     parch        fare\ncount  6.000000  6.00000   6.0   6.00  6.000000    6.000000\nmean   0.500000  2.50000  14.0   2.00  0.833333   42.625700\nstd    0.547723  0.83666   0.0   2.00  0.983192   40.903113\nmin    0.000000  1.00000  14.0   0.00  0.000000    7.854200\n25%    0.000000  2.25000  14.0   1.00  0.000000   15.948975\n50%    0.500000  3.00000  14.0   1.00  0.500000   34.879150\n75%    1.000000  3.00000  14.0   3.25  1.750000   45.096875\nmax    1.000000  3.00000  14.0   5.00  2.000000  120.000000",
      "text/html": "<div>\n<style scoped>\n    .dataframe tbody tr th:only-of-type {\n        vertical-align: middle;\n    }\n\n    .dataframe tbody tr th {\n        vertical-align: top;\n    }\n\n    .dataframe thead th {\n        text-align: right;\n    }\n</style>\n<table border=\"1\" class=\"dataframe\">\n  <thead>\n    <tr style=\"text-align: right;\">\n      <th></th>\n      <th>survived</th>\n      <th>pclass</th>\n      <th>age</th>\n      <th>sibsp</th>\n      <th>parch</th>\n      <th>fare</th>\n    </tr>\n  </thead>\n  <tbody>\n    <tr>\n      <th>count</th>\n      <td>6.000000</td>\n      <td>6.00000</td>\n      <td>6.0</td>\n      <td>6.00</td>\n      <td>6.000000</td>\n      <td>6.000000</td>\n    </tr>\n    <tr>\n      <th>mean</th>\n      <td>0.500000</td>\n      <td>2.50000</td>\n      <td>14.0</td>\n      <td>2.00</td>\n      <td>0.833333</td>\n      <td>42.625700</td>\n    </tr>\n    <tr>\n      <th>std</th>\n      <td>0.547723</td>\n      <td>0.83666</td>\n      <td>0.0</td>\n      <td>2.00</td>\n      <td>0.983192</td>\n      <td>40.903113</td>\n    </tr>\n    <tr>\n      <th>min</th>\n      <td>0.000000</td>\n      <td>1.00000</td>\n      <td>14.0</td>\n      <td>0.00</td>\n      <td>0.000000</td>\n      <td>7.854200</td>\n    </tr>\n    <tr>\n      <th>25%</th>\n      <td>0.000000</td>\n      <td>2.25000</td>\n      <td>14.0</td>\n      <td>1.00</td>\n      <td>0.000000</td>\n      <td>15.948975</td>\n    </tr>\n    <tr>\n      <th>50%</th>\n      <td>0.500000</td>\n      <td>3.00000</td>\n      <td>14.0</td>\n      <td>1.00</td>\n      <td>0.500000</td>\n      <td>34.879150</td>\n    </tr>\n    <tr>\n      <th>75%</th>\n      <td>1.000000</td>\n      <td>3.00000</td>\n      <td>14.0</td>\n      <td>3.25</td>\n      <td>1.750000</td>\n      <td>45.096875</td>\n    </tr>\n    <tr>\n      <th>max</th>\n      <td>1.000000</td>\n      <td>3.00000</td>\n      <td>14.0</td>\n      <td>5.00</td>\n      <td>2.000000</td>\n      <td>120.000000</td>\n    </tr>\n  </tbody>\n</table>\n</div>"
     },
     "execution_count": 225,
     "metadata": {},
     "output_type": "execute_result"
    }
   ],
   "source": [
    "mask3 = titanic.age == 14\n",
    "fourteen = titanic.loc[mask3]\n",
    "fourteen.describe()"
   ],
   "metadata": {
    "collapsed": false,
    "pycharm": {
     "name": "#%%\n"
    }
   }
  },
  {
   "cell_type": "markdown",
   "source": [
    "#### Advanced filtering"
   ],
   "metadata": {
    "collapsed": false,
    "pycharm": {
     "name": "#%% md\n"
    }
   }
  },
  {
   "cell_type": "code",
   "execution_count": 227,
   "outputs": [
    {
     "data": {
      "text/plain": "   Year    City     Sport Discipline             Athlete Country Gender  \\\n0  1896  Athens  Aquatics   Swimming       HAJOS, Alfred     HUN    Men   \n1  1896  Athens  Aquatics   Swimming    HERSCHMANN, Otto     AUT    Men   \n2  1896  Athens  Aquatics   Swimming   DRIVAS, Dimitrios     GRE    Men   \n3  1896  Athens  Aquatics   Swimming  MALOKINIS, Ioannis     GRE    Men   \n4  1896  Athens  Aquatics   Swimming  CHASAPIS, Spiridon     GRE    Men   \n\n                        Event   Medal  \n0              100M Freestyle    Gold  \n1              100M Freestyle  Silver  \n2  100M Freestyle For Sailors  Bronze  \n3  100M Freestyle For Sailors    Gold  \n4  100M Freestyle For Sailors  Silver  ",
      "text/html": "<div>\n<style scoped>\n    .dataframe tbody tr th:only-of-type {\n        vertical-align: middle;\n    }\n\n    .dataframe tbody tr th {\n        vertical-align: top;\n    }\n\n    .dataframe thead th {\n        text-align: right;\n    }\n</style>\n<table border=\"1\" class=\"dataframe\">\n  <thead>\n    <tr style=\"text-align: right;\">\n      <th></th>\n      <th>Year</th>\n      <th>City</th>\n      <th>Sport</th>\n      <th>Discipline</th>\n      <th>Athlete</th>\n      <th>Country</th>\n      <th>Gender</th>\n      <th>Event</th>\n      <th>Medal</th>\n    </tr>\n  </thead>\n  <tbody>\n    <tr>\n      <th>0</th>\n      <td>1896</td>\n      <td>Athens</td>\n      <td>Aquatics</td>\n      <td>Swimming</td>\n      <td>HAJOS, Alfred</td>\n      <td>HUN</td>\n      <td>Men</td>\n      <td>100M Freestyle</td>\n      <td>Gold</td>\n    </tr>\n    <tr>\n      <th>1</th>\n      <td>1896</td>\n      <td>Athens</td>\n      <td>Aquatics</td>\n      <td>Swimming</td>\n      <td>HERSCHMANN, Otto</td>\n      <td>AUT</td>\n      <td>Men</td>\n      <td>100M Freestyle</td>\n      <td>Silver</td>\n    </tr>\n    <tr>\n      <th>2</th>\n      <td>1896</td>\n      <td>Athens</td>\n      <td>Aquatics</td>\n      <td>Swimming</td>\n      <td>DRIVAS, Dimitrios</td>\n      <td>GRE</td>\n      <td>Men</td>\n      <td>100M Freestyle For Sailors</td>\n      <td>Bronze</td>\n    </tr>\n    <tr>\n      <th>3</th>\n      <td>1896</td>\n      <td>Athens</td>\n      <td>Aquatics</td>\n      <td>Swimming</td>\n      <td>MALOKINIS, Ioannis</td>\n      <td>GRE</td>\n      <td>Men</td>\n      <td>100M Freestyle For Sailors</td>\n      <td>Gold</td>\n    </tr>\n    <tr>\n      <th>4</th>\n      <td>1896</td>\n      <td>Athens</td>\n      <td>Aquatics</td>\n      <td>Swimming</td>\n      <td>CHASAPIS, Spiridon</td>\n      <td>GRE</td>\n      <td>Men</td>\n      <td>100M Freestyle For Sailors</td>\n      <td>Silver</td>\n    </tr>\n  </tbody>\n</table>\n</div>"
     },
     "execution_count": 227,
     "metadata": {},
     "output_type": "execute_result"
    }
   ],
   "source": [
    "summer = pd.read_csv('data/summer.csv')\n",
    "summer.head()"
   ],
   "metadata": {
    "collapsed": false,
    "pycharm": {
     "name": "#%%\n"
    }
   }
  },
  {
   "cell_type": "code",
   "execution_count": 228,
   "outputs": [
    {
     "data": {
      "text/plain": "       Year   City     Sport Discipline                      Athlete Country  \\\n18051  1988  Seoul  Aquatics     Diving           MENA CAMPOS, Jesus     MEX   \n18052  1988  Seoul  Aquatics     Diving            LOUGANIS, Gregory     USA   \n18053  1988  Seoul  Aquatics     Diving                    XIONG, Ni     CHN   \n18054  1988  Seoul  Aquatics     Diving  WYLAND-WILLIAMS, Wendy Lian     USA   \n18055  1988  Seoul  Aquatics     Diving                  XU, Yan-Mei     CHN   \n\n      Gender         Event   Medal  \n18051    Men  10M Platform  Bronze  \n18052    Men  10M Platform    Gold  \n18053    Men  10M Platform  Silver  \n18054  Women  10M Platform  Bronze  \n18055  Women  10M Platform    Gold  ",
      "text/html": "<div>\n<style scoped>\n    .dataframe tbody tr th:only-of-type {\n        vertical-align: middle;\n    }\n\n    .dataframe tbody tr th {\n        vertical-align: top;\n    }\n\n    .dataframe thead th {\n        text-align: right;\n    }\n</style>\n<table border=\"1\" class=\"dataframe\">\n  <thead>\n    <tr style=\"text-align: right;\">\n      <th></th>\n      <th>Year</th>\n      <th>City</th>\n      <th>Sport</th>\n      <th>Discipline</th>\n      <th>Athlete</th>\n      <th>Country</th>\n      <th>Gender</th>\n      <th>Event</th>\n      <th>Medal</th>\n    </tr>\n  </thead>\n  <tbody>\n    <tr>\n      <th>18051</th>\n      <td>1988</td>\n      <td>Seoul</td>\n      <td>Aquatics</td>\n      <td>Diving</td>\n      <td>MENA CAMPOS, Jesus</td>\n      <td>MEX</td>\n      <td>Men</td>\n      <td>10M Platform</td>\n      <td>Bronze</td>\n    </tr>\n    <tr>\n      <th>18052</th>\n      <td>1988</td>\n      <td>Seoul</td>\n      <td>Aquatics</td>\n      <td>Diving</td>\n      <td>LOUGANIS, Gregory</td>\n      <td>USA</td>\n      <td>Men</td>\n      <td>10M Platform</td>\n      <td>Gold</td>\n    </tr>\n    <tr>\n      <th>18053</th>\n      <td>1988</td>\n      <td>Seoul</td>\n      <td>Aquatics</td>\n      <td>Diving</td>\n      <td>XIONG, Ni</td>\n      <td>CHN</td>\n      <td>Men</td>\n      <td>10M Platform</td>\n      <td>Silver</td>\n    </tr>\n    <tr>\n      <th>18054</th>\n      <td>1988</td>\n      <td>Seoul</td>\n      <td>Aquatics</td>\n      <td>Diving</td>\n      <td>WYLAND-WILLIAMS, Wendy Lian</td>\n      <td>USA</td>\n      <td>Women</td>\n      <td>10M Platform</td>\n      <td>Bronze</td>\n    </tr>\n    <tr>\n      <th>18055</th>\n      <td>1988</td>\n      <td>Seoul</td>\n      <td>Aquatics</td>\n      <td>Diving</td>\n      <td>XU, Yan-Mei</td>\n      <td>CHN</td>\n      <td>Women</td>\n      <td>10M Platform</td>\n      <td>Gold</td>\n    </tr>\n  </tbody>\n</table>\n</div>"
     },
     "execution_count": 228,
     "metadata": {},
     "output_type": "execute_result"
    }
   ],
   "source": [
    "og_1988 = summer.loc[summer.Year == 1988]\n",
    "og_1988.head()"
   ],
   "metadata": {
    "collapsed": false,
    "pycharm": {
     "name": "#%%\n"
    }
   }
  },
  {
   "cell_type": "code",
   "execution_count": 229,
   "outputs": [
    {
     "data": {
      "text/plain": "       Year   City      Sport       Discipline                   Athlete  \\\n19592  1988  Seoul  Wrestling  Wrestling Gre-R    KOMCHEV, Atanas Slavov   \n19593  1988  Seoul  Wrestling  Wrestling Gre-R     KOSKELA, Harri Matias   \n19594  1988  Seoul  Wrestling  Wrestling Gre-R  KOSLOWSKI, Dennis Marvin   \n19595  1988  Seoul  Wrestling  Wrestling Gre-R          WRONSKI, Andrzej   \n19596  1988  Seoul  Wrestling  Wrestling Gre-R           HIMMEL, Gerhard   \n\n      Country Gender                          Event   Medal  \n19592     BUL    Men  82 - 90KG (Light-Heavyweight)    Gold  \n19593     FIN    Men  82 - 90KG (Light-Heavyweight)  Silver  \n19594     USA    Men       90 - 100KG (Heavyweight)  Bronze  \n19595     POL    Men       90 - 100KG (Heavyweight)    Gold  \n19596     FRG    Men       90 - 100KG (Heavyweight)  Silver  ",
      "text/html": "<div>\n<style scoped>\n    .dataframe tbody tr th:only-of-type {\n        vertical-align: middle;\n    }\n\n    .dataframe tbody tr th {\n        vertical-align: top;\n    }\n\n    .dataframe thead th {\n        text-align: right;\n    }\n</style>\n<table border=\"1\" class=\"dataframe\">\n  <thead>\n    <tr style=\"text-align: right;\">\n      <th></th>\n      <th>Year</th>\n      <th>City</th>\n      <th>Sport</th>\n      <th>Discipline</th>\n      <th>Athlete</th>\n      <th>Country</th>\n      <th>Gender</th>\n      <th>Event</th>\n      <th>Medal</th>\n    </tr>\n  </thead>\n  <tbody>\n    <tr>\n      <th>19592</th>\n      <td>1988</td>\n      <td>Seoul</td>\n      <td>Wrestling</td>\n      <td>Wrestling Gre-R</td>\n      <td>KOMCHEV, Atanas Slavov</td>\n      <td>BUL</td>\n      <td>Men</td>\n      <td>82 - 90KG (Light-Heavyweight)</td>\n      <td>Gold</td>\n    </tr>\n    <tr>\n      <th>19593</th>\n      <td>1988</td>\n      <td>Seoul</td>\n      <td>Wrestling</td>\n      <td>Wrestling Gre-R</td>\n      <td>KOSKELA, Harri Matias</td>\n      <td>FIN</td>\n      <td>Men</td>\n      <td>82 - 90KG (Light-Heavyweight)</td>\n      <td>Silver</td>\n    </tr>\n    <tr>\n      <th>19594</th>\n      <td>1988</td>\n      <td>Seoul</td>\n      <td>Wrestling</td>\n      <td>Wrestling Gre-R</td>\n      <td>KOSLOWSKI, Dennis Marvin</td>\n      <td>USA</td>\n      <td>Men</td>\n      <td>90 - 100KG (Heavyweight)</td>\n      <td>Bronze</td>\n    </tr>\n    <tr>\n      <th>19595</th>\n      <td>1988</td>\n      <td>Seoul</td>\n      <td>Wrestling</td>\n      <td>Wrestling Gre-R</td>\n      <td>WRONSKI, Andrzej</td>\n      <td>POL</td>\n      <td>Men</td>\n      <td>90 - 100KG (Heavyweight)</td>\n      <td>Gold</td>\n    </tr>\n    <tr>\n      <th>19596</th>\n      <td>1988</td>\n      <td>Seoul</td>\n      <td>Wrestling</td>\n      <td>Wrestling Gre-R</td>\n      <td>HIMMEL, Gerhard</td>\n      <td>FRG</td>\n      <td>Men</td>\n      <td>90 - 100KG (Heavyweight)</td>\n      <td>Silver</td>\n    </tr>\n  </tbody>\n</table>\n</div>"
     },
     "execution_count": 229,
     "metadata": {},
     "output_type": "execute_result"
    }
   ],
   "source": [
    "og_1988.tail()"
   ],
   "metadata": {
    "collapsed": false,
    "pycharm": {
     "name": "#%%\n"
    }
   }
  },
  {
   "cell_type": "code",
   "execution_count": 230,
   "outputs": [
    {
     "name": "stdout",
     "output_type": "stream",
     "text": [
      "<class 'pandas.core.frame.DataFrame'>\n",
      "Int64Index: 1546 entries, 18051 to 19596\n",
      "Data columns (total 9 columns):\n",
      " #   Column      Non-Null Count  Dtype \n",
      "---  ------      --------------  ----- \n",
      " 0   Year        1546 non-null   int64 \n",
      " 1   City        1546 non-null   object\n",
      " 2   Sport       1546 non-null   object\n",
      " 3   Discipline  1546 non-null   object\n",
      " 4   Athlete     1546 non-null   object\n",
      " 5   Country     1546 non-null   object\n",
      " 6   Gender      1546 non-null   object\n",
      " 7   Event       1546 non-null   object\n",
      " 8   Medal       1546 non-null   object\n",
      "dtypes: int64(1), object(8)\n",
      "memory usage: 120.8+ KB\n"
     ]
    }
   ],
   "source": [
    "og_1988.info()"
   ],
   "metadata": {
    "collapsed": false,
    "pycharm": {
     "name": "#%%\n"
    }
   }
  },
  {
   "cell_type": "code",
   "execution_count": 233,
   "outputs": [
    {
     "data": {
      "text/plain": "       Year       City     Sport Discipline            Athlete Country Gender  \\\n19597  1992  Barcelona  Aquatics     Diving          XIONG, Ni     CHN    Men   \n19598  1992  Barcelona  Aquatics     Diving        SUN, Shuwei     CHN    Men   \n19599  1992  Barcelona  Aquatics     Diving    DONIE, Scott R.     USA    Men   \n19600  1992  Barcelona  Aquatics     Diving  CLARK, Mary Ellen     USA  Women   \n19601  1992  Barcelona  Aquatics     Diving        FU, Mingxia     CHN  Women   \n\n              Event   Medal  \n19597  10M Platform  Bronze  \n19598  10M Platform    Gold  \n19599  10M Platform  Silver  \n19600  10M Platform  Bronze  \n19601  10M Platform    Gold  ",
      "text/html": "<div>\n<style scoped>\n    .dataframe tbody tr th:only-of-type {\n        vertical-align: middle;\n    }\n\n    .dataframe tbody tr th {\n        vertical-align: top;\n    }\n\n    .dataframe thead th {\n        text-align: right;\n    }\n</style>\n<table border=\"1\" class=\"dataframe\">\n  <thead>\n    <tr style=\"text-align: right;\">\n      <th></th>\n      <th>Year</th>\n      <th>City</th>\n      <th>Sport</th>\n      <th>Discipline</th>\n      <th>Athlete</th>\n      <th>Country</th>\n      <th>Gender</th>\n      <th>Event</th>\n      <th>Medal</th>\n    </tr>\n  </thead>\n  <tbody>\n    <tr>\n      <th>19597</th>\n      <td>1992</td>\n      <td>Barcelona</td>\n      <td>Aquatics</td>\n      <td>Diving</td>\n      <td>XIONG, Ni</td>\n      <td>CHN</td>\n      <td>Men</td>\n      <td>10M Platform</td>\n      <td>Bronze</td>\n    </tr>\n    <tr>\n      <th>19598</th>\n      <td>1992</td>\n      <td>Barcelona</td>\n      <td>Aquatics</td>\n      <td>Diving</td>\n      <td>SUN, Shuwei</td>\n      <td>CHN</td>\n      <td>Men</td>\n      <td>10M Platform</td>\n      <td>Gold</td>\n    </tr>\n    <tr>\n      <th>19599</th>\n      <td>1992</td>\n      <td>Barcelona</td>\n      <td>Aquatics</td>\n      <td>Diving</td>\n      <td>DONIE, Scott R.</td>\n      <td>USA</td>\n      <td>Men</td>\n      <td>10M Platform</td>\n      <td>Silver</td>\n    </tr>\n    <tr>\n      <th>19600</th>\n      <td>1992</td>\n      <td>Barcelona</td>\n      <td>Aquatics</td>\n      <td>Diving</td>\n      <td>CLARK, Mary Ellen</td>\n      <td>USA</td>\n      <td>Women</td>\n      <td>10M Platform</td>\n      <td>Bronze</td>\n    </tr>\n    <tr>\n      <th>19601</th>\n      <td>1992</td>\n      <td>Barcelona</td>\n      <td>Aquatics</td>\n      <td>Diving</td>\n      <td>FU, Mingxia</td>\n      <td>CHN</td>\n      <td>Women</td>\n      <td>10M Platform</td>\n      <td>Gold</td>\n    </tr>\n  </tbody>\n</table>\n</div>"
     },
     "execution_count": 233,
     "metadata": {},
     "output_type": "execute_result"
    }
   ],
   "source": [
    "og_since1992 = summer.loc[summer.Year >= 1992]\n",
    "og_since1992.head()"
   ],
   "metadata": {
    "collapsed": false,
    "pycharm": {
     "name": "#%%\n"
    }
   }
  },
  {
   "cell_type": "code",
   "execution_count": 234,
   "outputs": [
    {
     "data": {
      "text/plain": "       Year    City      Sport           Discipline  \\\n31160  2012  London  Wrestling  Wrestling Freestyle   \n31161  2012  London  Wrestling  Wrestling Freestyle   \n31162  2012  London  Wrestling  Wrestling Freestyle   \n31163  2012  London  Wrestling  Wrestling Freestyle   \n31164  2012  London  Wrestling  Wrestling Freestyle   \n\n                         Athlete Country Gender     Event   Medal  \n31160         JANIKOWSKI, Damian     POL    Men  Wg 84 KG  Bronze  \n31161  REZAEI, Ghasem Gholamreza     IRI    Men  Wg 96 KG    Gold  \n31162             TOTROV, Rustam     RUS    Men  Wg 96 KG  Silver  \n31163          ALEKSANYAN, Artur     ARM    Men  Wg 96 KG  Bronze  \n31164             LIDBERG, Jimmy     SWE    Men  Wg 96 KG  Bronze  ",
      "text/html": "<div>\n<style scoped>\n    .dataframe tbody tr th:only-of-type {\n        vertical-align: middle;\n    }\n\n    .dataframe tbody tr th {\n        vertical-align: top;\n    }\n\n    .dataframe thead th {\n        text-align: right;\n    }\n</style>\n<table border=\"1\" class=\"dataframe\">\n  <thead>\n    <tr style=\"text-align: right;\">\n      <th></th>\n      <th>Year</th>\n      <th>City</th>\n      <th>Sport</th>\n      <th>Discipline</th>\n      <th>Athlete</th>\n      <th>Country</th>\n      <th>Gender</th>\n      <th>Event</th>\n      <th>Medal</th>\n    </tr>\n  </thead>\n  <tbody>\n    <tr>\n      <th>31160</th>\n      <td>2012</td>\n      <td>London</td>\n      <td>Wrestling</td>\n      <td>Wrestling Freestyle</td>\n      <td>JANIKOWSKI, Damian</td>\n      <td>POL</td>\n      <td>Men</td>\n      <td>Wg 84 KG</td>\n      <td>Bronze</td>\n    </tr>\n    <tr>\n      <th>31161</th>\n      <td>2012</td>\n      <td>London</td>\n      <td>Wrestling</td>\n      <td>Wrestling Freestyle</td>\n      <td>REZAEI, Ghasem Gholamreza</td>\n      <td>IRI</td>\n      <td>Men</td>\n      <td>Wg 96 KG</td>\n      <td>Gold</td>\n    </tr>\n    <tr>\n      <th>31162</th>\n      <td>2012</td>\n      <td>London</td>\n      <td>Wrestling</td>\n      <td>Wrestling Freestyle</td>\n      <td>TOTROV, Rustam</td>\n      <td>RUS</td>\n      <td>Men</td>\n      <td>Wg 96 KG</td>\n      <td>Silver</td>\n    </tr>\n    <tr>\n      <th>31163</th>\n      <td>2012</td>\n      <td>London</td>\n      <td>Wrestling</td>\n      <td>Wrestling Freestyle</td>\n      <td>ALEKSANYAN, Artur</td>\n      <td>ARM</td>\n      <td>Men</td>\n      <td>Wg 96 KG</td>\n      <td>Bronze</td>\n    </tr>\n    <tr>\n      <th>31164</th>\n      <td>2012</td>\n      <td>London</td>\n      <td>Wrestling</td>\n      <td>Wrestling Freestyle</td>\n      <td>LIDBERG, Jimmy</td>\n      <td>SWE</td>\n      <td>Men</td>\n      <td>Wg 96 KG</td>\n      <td>Bronze</td>\n    </tr>\n  </tbody>\n</table>\n</div>"
     },
     "execution_count": 234,
     "metadata": {},
     "output_type": "execute_result"
    }
   ],
   "source": [
    "og_since1992.tail()"
   ],
   "metadata": {
    "collapsed": false,
    "pycharm": {
     "name": "#%%\n"
    }
   }
  },
  {
   "cell_type": "code",
   "execution_count": 235,
   "outputs": [
    {
     "data": {
      "text/plain": "0    False\n1    False\n2    False\n3    False\n4    False\nName: Year, dtype: bool"
     },
     "execution_count": 235,
     "metadata": {},
     "output_type": "execute_result"
    }
   ],
   "source": [
    "summer.Year.between(1960, 1969).head()"
   ],
   "metadata": {
    "collapsed": false,
    "pycharm": {
     "name": "#%%\n"
    }
   }
  },
  {
   "cell_type": "code",
   "execution_count": 236,
   "outputs": [
    {
     "name": "stderr",
     "output_type": "stream",
     "text": [
      "C:\\Users\\xjayc\\AppData\\Local\\Temp\\ipykernel_28800\\3613940747.py:1: FutureWarning: Boolean inputs to the `inclusive` argument are deprecated infavour of `both` or `neither`.\n",
      "  og_60s = summer.loc[summer.Year.between(1960, 1969, inclusive=True)]\n"
     ]
    },
    {
     "data": {
      "text/plain": "      Year  City     Sport Discipline                      Athlete Country  \\\n9792  1960  Rome  Aquatics     Diving           PHELPS, Brian Eric     GBR   \n9793  1960  Rome  Aquatics     Diving        WEBSTER, Robert David     USA   \n9794  1960  Rome  Aquatics     Diving         TOBIAN, Gary Milburn     USA   \n9795  1960  Rome  Aquatics     Diving               KRUTOVA, Ninel     URS   \n9796  1960  Rome  Aquatics     Diving  KRÄMER-ENGEL-GULBIN, Ingrid     EUA   \n\n     Gender         Event   Medal  \n9792    Men  10M Platform  Bronze  \n9793    Men  10M Platform    Gold  \n9794    Men  10M Platform  Silver  \n9795  Women  10M Platform  Bronze  \n9796  Women  10M Platform    Gold  ",
      "text/html": "<div>\n<style scoped>\n    .dataframe tbody tr th:only-of-type {\n        vertical-align: middle;\n    }\n\n    .dataframe tbody tr th {\n        vertical-align: top;\n    }\n\n    .dataframe thead th {\n        text-align: right;\n    }\n</style>\n<table border=\"1\" class=\"dataframe\">\n  <thead>\n    <tr style=\"text-align: right;\">\n      <th></th>\n      <th>Year</th>\n      <th>City</th>\n      <th>Sport</th>\n      <th>Discipline</th>\n      <th>Athlete</th>\n      <th>Country</th>\n      <th>Gender</th>\n      <th>Event</th>\n      <th>Medal</th>\n    </tr>\n  </thead>\n  <tbody>\n    <tr>\n      <th>9792</th>\n      <td>1960</td>\n      <td>Rome</td>\n      <td>Aquatics</td>\n      <td>Diving</td>\n      <td>PHELPS, Brian Eric</td>\n      <td>GBR</td>\n      <td>Men</td>\n      <td>10M Platform</td>\n      <td>Bronze</td>\n    </tr>\n    <tr>\n      <th>9793</th>\n      <td>1960</td>\n      <td>Rome</td>\n      <td>Aquatics</td>\n      <td>Diving</td>\n      <td>WEBSTER, Robert David</td>\n      <td>USA</td>\n      <td>Men</td>\n      <td>10M Platform</td>\n      <td>Gold</td>\n    </tr>\n    <tr>\n      <th>9794</th>\n      <td>1960</td>\n      <td>Rome</td>\n      <td>Aquatics</td>\n      <td>Diving</td>\n      <td>TOBIAN, Gary Milburn</td>\n      <td>USA</td>\n      <td>Men</td>\n      <td>10M Platform</td>\n      <td>Silver</td>\n    </tr>\n    <tr>\n      <th>9795</th>\n      <td>1960</td>\n      <td>Rome</td>\n      <td>Aquatics</td>\n      <td>Diving</td>\n      <td>KRUTOVA, Ninel</td>\n      <td>URS</td>\n      <td>Women</td>\n      <td>10M Platform</td>\n      <td>Bronze</td>\n    </tr>\n    <tr>\n      <th>9796</th>\n      <td>1960</td>\n      <td>Rome</td>\n      <td>Aquatics</td>\n      <td>Diving</td>\n      <td>KRÄMER-ENGEL-GULBIN, Ingrid</td>\n      <td>EUA</td>\n      <td>Women</td>\n      <td>10M Platform</td>\n      <td>Gold</td>\n    </tr>\n  </tbody>\n</table>\n</div>"
     },
     "execution_count": 236,
     "metadata": {},
     "output_type": "execute_result"
    }
   ],
   "source": [
    "og_60s = summer.loc[summer.Year.between(1960, 1969, inclusive=True)]\n",
    "og_60s.head()"
   ],
   "metadata": {
    "collapsed": false,
    "pycharm": {
     "name": "#%%\n"
    }
   }
  },
  {
   "cell_type": "code",
   "execution_count": 237,
   "outputs": [
    {
     "data": {
      "text/plain": "       Year    City      Sport       Discipline                   Athlete  \\\n12710  1968  Mexico  Wrestling  Wrestling Gre-R              METZ, Lothar   \n12711  1968  Mexico  Wrestling  Wrestling Gre-R         OLEINIK, Valentin   \n12712  1968  Mexico  Wrestling  Wrestling Gre-R       MARTINESCU, Nicolae   \n12713  1968  Mexico  Wrestling  Wrestling Gre-R  RADEV, Boyan Aleksandrov   \n12714  1968  Mexico  Wrestling  Wrestling Gre-R        YAKOVENKO, Nikolai   \n\n      Country Gender                          Event   Medal  \n12710     GDR    Men       78 - 87KG (Middleweight)    Gold  \n12711     URS    Men       78 - 87KG (Middleweight)  Silver  \n12712     ROU    Men  87 - 97KG (Light-Heavyweight)  Bronze  \n12713     BUL    Men  87 - 97KG (Light-Heavyweight)    Gold  \n12714     URS    Men  87 - 97KG (Light-Heavyweight)  Silver  ",
      "text/html": "<div>\n<style scoped>\n    .dataframe tbody tr th:only-of-type {\n        vertical-align: middle;\n    }\n\n    .dataframe tbody tr th {\n        vertical-align: top;\n    }\n\n    .dataframe thead th {\n        text-align: right;\n    }\n</style>\n<table border=\"1\" class=\"dataframe\">\n  <thead>\n    <tr style=\"text-align: right;\">\n      <th></th>\n      <th>Year</th>\n      <th>City</th>\n      <th>Sport</th>\n      <th>Discipline</th>\n      <th>Athlete</th>\n      <th>Country</th>\n      <th>Gender</th>\n      <th>Event</th>\n      <th>Medal</th>\n    </tr>\n  </thead>\n  <tbody>\n    <tr>\n      <th>12710</th>\n      <td>1968</td>\n      <td>Mexico</td>\n      <td>Wrestling</td>\n      <td>Wrestling Gre-R</td>\n      <td>METZ, Lothar</td>\n      <td>GDR</td>\n      <td>Men</td>\n      <td>78 - 87KG (Middleweight)</td>\n      <td>Gold</td>\n    </tr>\n    <tr>\n      <th>12711</th>\n      <td>1968</td>\n      <td>Mexico</td>\n      <td>Wrestling</td>\n      <td>Wrestling Gre-R</td>\n      <td>OLEINIK, Valentin</td>\n      <td>URS</td>\n      <td>Men</td>\n      <td>78 - 87KG (Middleweight)</td>\n      <td>Silver</td>\n    </tr>\n    <tr>\n      <th>12712</th>\n      <td>1968</td>\n      <td>Mexico</td>\n      <td>Wrestling</td>\n      <td>Wrestling Gre-R</td>\n      <td>MARTINESCU, Nicolae</td>\n      <td>ROU</td>\n      <td>Men</td>\n      <td>87 - 97KG (Light-Heavyweight)</td>\n      <td>Bronze</td>\n    </tr>\n    <tr>\n      <th>12713</th>\n      <td>1968</td>\n      <td>Mexico</td>\n      <td>Wrestling</td>\n      <td>Wrestling Gre-R</td>\n      <td>RADEV, Boyan Aleksandrov</td>\n      <td>BUL</td>\n      <td>Men</td>\n      <td>87 - 97KG (Light-Heavyweight)</td>\n      <td>Gold</td>\n    </tr>\n    <tr>\n      <th>12714</th>\n      <td>1968</td>\n      <td>Mexico</td>\n      <td>Wrestling</td>\n      <td>Wrestling Gre-R</td>\n      <td>YAKOVENKO, Nikolai</td>\n      <td>URS</td>\n      <td>Men</td>\n      <td>87 - 97KG (Light-Heavyweight)</td>\n      <td>Silver</td>\n    </tr>\n  </tbody>\n</table>\n</div>"
     },
     "execution_count": 237,
     "metadata": {},
     "output_type": "execute_result"
    }
   ],
   "source": [
    "og_60s.tail()"
   ],
   "metadata": {
    "collapsed": false,
    "pycharm": {
     "name": "#%%\n"
    }
   }
  },
  {
   "cell_type": "code",
   "execution_count": 238,
   "outputs": [],
   "source": [
    "my_favorite_games = [1972, 1996]"
   ],
   "metadata": {
    "collapsed": false,
    "pycharm": {
     "name": "#%%\n"
    }
   }
  },
  {
   "cell_type": "code",
   "execution_count": 239,
   "outputs": [
    {
     "data": {
      "text/plain": "0    False\n1    False\n2    False\n3    False\n4    False\nName: Year, dtype: bool"
     },
     "execution_count": 239,
     "metadata": {},
     "output_type": "execute_result"
    }
   ],
   "source": [
    "summer.Year.isin(my_favorite_games).head()"
   ],
   "metadata": {
    "collapsed": false,
    "pycharm": {
     "name": "#%%\n"
    }
   }
  },
  {
   "cell_type": "code",
   "execution_count": 241,
   "outputs": [
    {
     "data": {
      "text/plain": "       Year    City     Sport Discipline                   Athlete Country  \\\n12715  1972  Munich  Aquatics     Diving  CAGNOTTO, Giorgio Franco     ITA   \n12716  1972  Munich  Aquatics     Diving            DIBIASI, Klaus     ITA   \n12717  1972  Munich  Aquatics     Diving    RYDZE, Richard Anthony     USA   \n12718  1972  Munich  Aquatics     Diving           JANICKE, Marina     GDR   \n12719  1972  Munich  Aquatics     Diving   KNAPE-LINDBERGH, Ulrika     SWE   \n\n      Gender         Event   Medal  \n12715    Men  10M Platform  Bronze  \n12716    Men  10M Platform    Gold  \n12717    Men  10M Platform  Silver  \n12718  Women  10M Platform  Bronze  \n12719  Women  10M Platform    Gold  ",
      "text/html": "<div>\n<style scoped>\n    .dataframe tbody tr th:only-of-type {\n        vertical-align: middle;\n    }\n\n    .dataframe tbody tr th {\n        vertical-align: top;\n    }\n\n    .dataframe thead th {\n        text-align: right;\n    }\n</style>\n<table border=\"1\" class=\"dataframe\">\n  <thead>\n    <tr style=\"text-align: right;\">\n      <th></th>\n      <th>Year</th>\n      <th>City</th>\n      <th>Sport</th>\n      <th>Discipline</th>\n      <th>Athlete</th>\n      <th>Country</th>\n      <th>Gender</th>\n      <th>Event</th>\n      <th>Medal</th>\n    </tr>\n  </thead>\n  <tbody>\n    <tr>\n      <th>12715</th>\n      <td>1972</td>\n      <td>Munich</td>\n      <td>Aquatics</td>\n      <td>Diving</td>\n      <td>CAGNOTTO, Giorgio Franco</td>\n      <td>ITA</td>\n      <td>Men</td>\n      <td>10M Platform</td>\n      <td>Bronze</td>\n    </tr>\n    <tr>\n      <th>12716</th>\n      <td>1972</td>\n      <td>Munich</td>\n      <td>Aquatics</td>\n      <td>Diving</td>\n      <td>DIBIASI, Klaus</td>\n      <td>ITA</td>\n      <td>Men</td>\n      <td>10M Platform</td>\n      <td>Gold</td>\n    </tr>\n    <tr>\n      <th>12717</th>\n      <td>1972</td>\n      <td>Munich</td>\n      <td>Aquatics</td>\n      <td>Diving</td>\n      <td>RYDZE, Richard Anthony</td>\n      <td>USA</td>\n      <td>Men</td>\n      <td>10M Platform</td>\n      <td>Silver</td>\n    </tr>\n    <tr>\n      <th>12718</th>\n      <td>1972</td>\n      <td>Munich</td>\n      <td>Aquatics</td>\n      <td>Diving</td>\n      <td>JANICKE, Marina</td>\n      <td>GDR</td>\n      <td>Women</td>\n      <td>10M Platform</td>\n      <td>Bronze</td>\n    </tr>\n    <tr>\n      <th>12719</th>\n      <td>1972</td>\n      <td>Munich</td>\n      <td>Aquatics</td>\n      <td>Diving</td>\n      <td>KNAPE-LINDBERGH, Ulrika</td>\n      <td>SWE</td>\n      <td>Women</td>\n      <td>10M Platform</td>\n      <td>Gold</td>\n    </tr>\n  </tbody>\n</table>\n</div>"
     },
     "execution_count": 241,
     "metadata": {},
     "output_type": "execute_result"
    }
   ],
   "source": [
    "og_72_96 = summer.loc[summer.Year.isin(my_favorite_games)]\n",
    "og_72_96.head()"
   ],
   "metadata": {
    "collapsed": false,
    "pycharm": {
     "name": "#%%\n"
    }
   }
  },
  {
   "cell_type": "code",
   "execution_count": 242,
   "outputs": [
    {
     "data": {
      "text/plain": "       Year     City      Sport       Discipline              Athlete Country  \\\n23156  1996  Atlanta  Wrestling  Wrestling Gre-R  OLEYNYK, Vyacheslav     UKR   \n23157  1996  Atlanta  Wrestling  Wrestling Gre-R      FAFINSKI, Jacek     POL   \n23158  1996  Atlanta  Wrestling  Wrestling Gre-R    LJUNGBERG, Mikael     SWE   \n23159  1996  Atlanta  Wrestling  Wrestling Gre-R     WRONSKI, Andrzej     POL   \n23160  1996  Atlanta  Wrestling  Wrestling Gre-R     LISHTVAN, Sergey     BLR   \n\n      Gender                          Event   Medal  \n23156    Men  82 - 90KG (Light-Heavyweight)    Gold  \n23157    Men  82 - 90KG (Light-Heavyweight)  Silver  \n23158    Men       90 - 100KG (Heavyweight)  Bronze  \n23159    Men       90 - 100KG (Heavyweight)    Gold  \n23160    Men       90 - 100KG (Heavyweight)  Silver  ",
      "text/html": "<div>\n<style scoped>\n    .dataframe tbody tr th:only-of-type {\n        vertical-align: middle;\n    }\n\n    .dataframe tbody tr th {\n        vertical-align: top;\n    }\n\n    .dataframe thead th {\n        text-align: right;\n    }\n</style>\n<table border=\"1\" class=\"dataframe\">\n  <thead>\n    <tr style=\"text-align: right;\">\n      <th></th>\n      <th>Year</th>\n      <th>City</th>\n      <th>Sport</th>\n      <th>Discipline</th>\n      <th>Athlete</th>\n      <th>Country</th>\n      <th>Gender</th>\n      <th>Event</th>\n      <th>Medal</th>\n    </tr>\n  </thead>\n  <tbody>\n    <tr>\n      <th>23156</th>\n      <td>1996</td>\n      <td>Atlanta</td>\n      <td>Wrestling</td>\n      <td>Wrestling Gre-R</td>\n      <td>OLEYNYK, Vyacheslav</td>\n      <td>UKR</td>\n      <td>Men</td>\n      <td>82 - 90KG (Light-Heavyweight)</td>\n      <td>Gold</td>\n    </tr>\n    <tr>\n      <th>23157</th>\n      <td>1996</td>\n      <td>Atlanta</td>\n      <td>Wrestling</td>\n      <td>Wrestling Gre-R</td>\n      <td>FAFINSKI, Jacek</td>\n      <td>POL</td>\n      <td>Men</td>\n      <td>82 - 90KG (Light-Heavyweight)</td>\n      <td>Silver</td>\n    </tr>\n    <tr>\n      <th>23158</th>\n      <td>1996</td>\n      <td>Atlanta</td>\n      <td>Wrestling</td>\n      <td>Wrestling Gre-R</td>\n      <td>LJUNGBERG, Mikael</td>\n      <td>SWE</td>\n      <td>Men</td>\n      <td>90 - 100KG (Heavyweight)</td>\n      <td>Bronze</td>\n    </tr>\n    <tr>\n      <th>23159</th>\n      <td>1996</td>\n      <td>Atlanta</td>\n      <td>Wrestling</td>\n      <td>Wrestling Gre-R</td>\n      <td>WRONSKI, Andrzej</td>\n      <td>POL</td>\n      <td>Men</td>\n      <td>90 - 100KG (Heavyweight)</td>\n      <td>Gold</td>\n    </tr>\n    <tr>\n      <th>23160</th>\n      <td>1996</td>\n      <td>Atlanta</td>\n      <td>Wrestling</td>\n      <td>Wrestling Gre-R</td>\n      <td>LISHTVAN, Sergey</td>\n      <td>BLR</td>\n      <td>Men</td>\n      <td>90 - 100KG (Heavyweight)</td>\n      <td>Silver</td>\n    </tr>\n  </tbody>\n</table>\n</div>"
     },
     "execution_count": 242,
     "metadata": {},
     "output_type": "execute_result"
    }
   ],
   "source": [
    "og_72_96.tail()"
   ],
   "metadata": {
    "collapsed": false,
    "pycharm": {
     "name": "#%%\n"
    }
   }
  },
  {
   "cell_type": "code",
   "execution_count": 244,
   "outputs": [
    {
     "data": {
      "text/plain": "array([1896, 1900, 1904, 1908, 1912, 1920, 1924, 1928, 1932, 1936, 1948,\n       1952, 1956, 1960, 1964, 1968, 1976, 1980, 1984, 1988, 1992, 2000,\n       2004, 2008, 2012], dtype=int64)"
     },
     "execution_count": 244,
     "metadata": {},
     "output_type": "execute_result"
    }
   ],
   "source": [
    "og_not_72_96 = summer.loc[~summer.Year.isin(my_favorite_games)]\n",
    "og_not_72_96.Year.unique()"
   ],
   "metadata": {
    "collapsed": false,
    "pycharm": {
     "name": "#%%\n"
    }
   }
  },
  {
   "cell_type": "markdown",
   "source": [
    "### NA Values"
   ],
   "metadata": {
    "collapsed": false,
    "pycharm": {
     "name": "#%% md\n"
    }
   }
  },
  {
   "cell_type": "code",
   "execution_count": 249,
   "outputs": [
    {
     "data": {
      "text/plain": "        Mon  Tue  Wed   Thu  Fri\nSteven   34   27   15   NaN   33\nMike     45    9   74  87.0   12\nAndi     17   33   54   8.0   29\nPaul     87   67   27  45.0    7",
      "text/html": "<div>\n<style scoped>\n    .dataframe tbody tr th:only-of-type {\n        vertical-align: middle;\n    }\n\n    .dataframe tbody tr th {\n        vertical-align: top;\n    }\n\n    .dataframe thead th {\n        text-align: right;\n    }\n</style>\n<table border=\"1\" class=\"dataframe\">\n  <thead>\n    <tr style=\"text-align: right;\">\n      <th></th>\n      <th>Mon</th>\n      <th>Tue</th>\n      <th>Wed</th>\n      <th>Thu</th>\n      <th>Fri</th>\n    </tr>\n  </thead>\n  <tbody>\n    <tr>\n      <th>Steven</th>\n      <td>34</td>\n      <td>27</td>\n      <td>15</td>\n      <td>NaN</td>\n      <td>33</td>\n    </tr>\n    <tr>\n      <th>Mike</th>\n      <td>45</td>\n      <td>9</td>\n      <td>74</td>\n      <td>87.0</td>\n      <td>12</td>\n    </tr>\n    <tr>\n      <th>Andi</th>\n      <td>17</td>\n      <td>33</td>\n      <td>54</td>\n      <td>8.0</td>\n      <td>29</td>\n    </tr>\n    <tr>\n      <th>Paul</th>\n      <td>87</td>\n      <td>67</td>\n      <td>27</td>\n      <td>45.0</td>\n      <td>7</td>\n    </tr>\n  </tbody>\n</table>\n</div>"
     },
     "execution_count": 249,
     "metadata": {},
     "output_type": "execute_result"
    }
   ],
   "source": [
    "sales = pd.read_csv('data/sales.csv', index_col=0)\n",
    "sales"
   ],
   "metadata": {
    "collapsed": false,
    "pycharm": {
     "name": "#%%\n"
    }
   }
  },
  {
   "cell_type": "code",
   "execution_count": 252,
   "outputs": [
    {
     "name": "stdout",
     "output_type": "stream",
     "text": [
      "<class 'pandas.core.frame.DataFrame'>\n",
      "Index: 4 entries, Steven to Paul\n",
      "Data columns (total 5 columns):\n",
      " #   Column  Non-Null Count  Dtype  \n",
      "---  ------  --------------  -----  \n",
      " 0   Mon     4 non-null      int64  \n",
      " 1   Tue     4 non-null      int64  \n",
      " 2   Wed     4 non-null      int64  \n",
      " 3   Thu     3 non-null      float64\n",
      " 4   Fri     4 non-null      int64  \n",
      "dtypes: float64(1), int64(4)\n",
      "memory usage: 364.0+ bytes\n"
     ]
    }
   ],
   "source": [
    "sales.info()"
   ],
   "metadata": {
    "collapsed": false,
    "pycharm": {
     "name": "#%%\n"
    }
   }
  },
  {
   "cell_type": "code",
   "execution_count": 253,
   "outputs": [
    {
     "data": {
      "text/plain": "nan"
     },
     "execution_count": 253,
     "metadata": {},
     "output_type": "execute_result"
    }
   ],
   "source": [
    "sales.loc['Steven', 'Thu']"
   ],
   "metadata": {
    "collapsed": false,
    "pycharm": {
     "name": "#%%\n"
    }
   }
  },
  {
   "cell_type": "code",
   "execution_count": 255,
   "outputs": [],
   "source": [
    "# Producing NaN\n",
    "sales.iloc[1,1] = None\n",
    "# Preferred\n",
    "import numpy as np\n",
    "sales.iloc[2,2] = np.nan"
   ],
   "metadata": {
    "collapsed": false,
    "pycharm": {
     "name": "#%%\n"
    }
   }
  },
  {
   "cell_type": "code",
   "execution_count": 256,
   "outputs": [
    {
     "data": {
      "text/plain": "        Mon   Tue   Wed   Thu  Fri\nSteven   34  27.0  15.0   NaN   33\nMike     45   NaN  74.0  87.0   12\nAndi     17  33.0   NaN   8.0   29\nPaul     87  67.0  27.0  45.0    7",
      "text/html": "<div>\n<style scoped>\n    .dataframe tbody tr th:only-of-type {\n        vertical-align: middle;\n    }\n\n    .dataframe tbody tr th {\n        vertical-align: top;\n    }\n\n    .dataframe thead th {\n        text-align: right;\n    }\n</style>\n<table border=\"1\" class=\"dataframe\">\n  <thead>\n    <tr style=\"text-align: right;\">\n      <th></th>\n      <th>Mon</th>\n      <th>Tue</th>\n      <th>Wed</th>\n      <th>Thu</th>\n      <th>Fri</th>\n    </tr>\n  </thead>\n  <tbody>\n    <tr>\n      <th>Steven</th>\n      <td>34</td>\n      <td>27.0</td>\n      <td>15.0</td>\n      <td>NaN</td>\n      <td>33</td>\n    </tr>\n    <tr>\n      <th>Mike</th>\n      <td>45</td>\n      <td>NaN</td>\n      <td>74.0</td>\n      <td>87.0</td>\n      <td>12</td>\n    </tr>\n    <tr>\n      <th>Andi</th>\n      <td>17</td>\n      <td>33.0</td>\n      <td>NaN</td>\n      <td>8.0</td>\n      <td>29</td>\n    </tr>\n    <tr>\n      <th>Paul</th>\n      <td>87</td>\n      <td>67.0</td>\n      <td>27.0</td>\n      <td>45.0</td>\n      <td>7</td>\n    </tr>\n  </tbody>\n</table>\n</div>"
     },
     "execution_count": 256,
     "metadata": {},
     "output_type": "execute_result"
    }
   ],
   "source": [
    "sales"
   ],
   "metadata": {
    "collapsed": false,
    "pycharm": {
     "name": "#%%\n"
    }
   }
  },
  {
   "cell_type": "code",
   "execution_count": 257,
   "outputs": [
    {
     "name": "stdout",
     "output_type": "stream",
     "text": [
      "<class 'pandas.core.frame.DataFrame'>\n",
      "Index: 4 entries, Steven to Paul\n",
      "Data columns (total 5 columns):\n",
      " #   Column  Non-Null Count  Dtype  \n",
      "---  ------  --------------  -----  \n",
      " 0   Mon     4 non-null      int64  \n",
      " 1   Tue     3 non-null      float64\n",
      " 2   Wed     3 non-null      float64\n",
      " 3   Thu     3 non-null      float64\n",
      " 4   Fri     4 non-null      int64  \n",
      "dtypes: float64(3), int64(2)\n",
      "memory usage: 364.0+ bytes\n"
     ]
    }
   ],
   "source": [
    "sales.info()"
   ],
   "metadata": {
    "collapsed": false,
    "pycharm": {
     "name": "#%%\n"
    }
   }
  },
  {
   "cell_type": "code",
   "execution_count": 259,
   "outputs": [
    {
     "data": {
      "text/plain": "   survived  pclass     sex   age  sibsp  parch     fare embarked deck\n0         0       3    male  22.0      1      0   7.2500        S  NaN\n1         1       1  female  38.0      1      0  71.2833        C    C\n2         1       3  female  26.0      0      0   7.9250        S  NaN\n3         1       1  female  35.0      1      0  53.1000        S    C\n4         0       3    male  35.0      0      0   8.0500        S  NaN",
      "text/html": "<div>\n<style scoped>\n    .dataframe tbody tr th:only-of-type {\n        vertical-align: middle;\n    }\n\n    .dataframe tbody tr th {\n        vertical-align: top;\n    }\n\n    .dataframe thead th {\n        text-align: right;\n    }\n</style>\n<table border=\"1\" class=\"dataframe\">\n  <thead>\n    <tr style=\"text-align: right;\">\n      <th></th>\n      <th>survived</th>\n      <th>pclass</th>\n      <th>sex</th>\n      <th>age</th>\n      <th>sibsp</th>\n      <th>parch</th>\n      <th>fare</th>\n      <th>embarked</th>\n      <th>deck</th>\n    </tr>\n  </thead>\n  <tbody>\n    <tr>\n      <th>0</th>\n      <td>0</td>\n      <td>3</td>\n      <td>male</td>\n      <td>22.0</td>\n      <td>1</td>\n      <td>0</td>\n      <td>7.2500</td>\n      <td>S</td>\n      <td>NaN</td>\n    </tr>\n    <tr>\n      <th>1</th>\n      <td>1</td>\n      <td>1</td>\n      <td>female</td>\n      <td>38.0</td>\n      <td>1</td>\n      <td>0</td>\n      <td>71.2833</td>\n      <td>C</td>\n      <td>C</td>\n    </tr>\n    <tr>\n      <th>2</th>\n      <td>1</td>\n      <td>3</td>\n      <td>female</td>\n      <td>26.0</td>\n      <td>0</td>\n      <td>0</td>\n      <td>7.9250</td>\n      <td>S</td>\n      <td>NaN</td>\n    </tr>\n    <tr>\n      <th>3</th>\n      <td>1</td>\n      <td>1</td>\n      <td>female</td>\n      <td>35.0</td>\n      <td>1</td>\n      <td>0</td>\n      <td>53.1000</td>\n      <td>S</td>\n      <td>C</td>\n    </tr>\n    <tr>\n      <th>4</th>\n      <td>0</td>\n      <td>3</td>\n      <td>male</td>\n      <td>35.0</td>\n      <td>0</td>\n      <td>0</td>\n      <td>8.0500</td>\n      <td>S</td>\n      <td>NaN</td>\n    </tr>\n  </tbody>\n</table>\n</div>"
     },
     "execution_count": 259,
     "metadata": {},
     "output_type": "execute_result"
    }
   ],
   "source": [
    "titanic = pd.read_csv('data/titanic.csv')\n",
    "titanic.head()"
   ],
   "metadata": {
    "collapsed": false,
    "pycharm": {
     "name": "#%%\n"
    }
   }
  },
  {
   "cell_type": "code",
   "execution_count": 260,
   "outputs": [
    {
     "name": "stdout",
     "output_type": "stream",
     "text": [
      "<class 'pandas.core.frame.DataFrame'>\n",
      "RangeIndex: 891 entries, 0 to 890\n",
      "Data columns (total 9 columns):\n",
      " #   Column    Non-Null Count  Dtype  \n",
      "---  ------    --------------  -----  \n",
      " 0   survived  891 non-null    int64  \n",
      " 1   pclass    891 non-null    int64  \n",
      " 2   sex       891 non-null    object \n",
      " 3   age       714 non-null    float64\n",
      " 4   sibsp     891 non-null    int64  \n",
      " 5   parch     891 non-null    int64  \n",
      " 6   fare      891 non-null    float64\n",
      " 7   embarked  889 non-null    object \n",
      " 8   deck      203 non-null    object \n",
      "dtypes: float64(2), int64(4), object(3)\n",
      "memory usage: 62.8+ KB\n"
     ]
    }
   ],
   "source": [
    "titanic.info()"
   ],
   "metadata": {
    "collapsed": false,
    "pycharm": {
     "name": "#%%\n"
    }
   }
  },
  {
   "cell_type": "code",
   "execution_count": 261,
   "outputs": [
    {
     "data": {
      "text/plain": "     survived  pclass    sex    age  sibsp  parch   fare  embarked   deck\n0       False   False  False  False  False  False  False     False   True\n1       False   False  False  False  False  False  False     False  False\n2       False   False  False  False  False  False  False     False   True\n3       False   False  False  False  False  False  False     False  False\n4       False   False  False  False  False  False  False     False   True\n..        ...     ...    ...    ...    ...    ...    ...       ...    ...\n886     False   False  False  False  False  False  False     False   True\n887     False   False  False  False  False  False  False     False  False\n888     False   False  False   True  False  False  False     False   True\n889     False   False  False  False  False  False  False     False  False\n890     False   False  False  False  False  False  False     False   True\n\n[891 rows x 9 columns]",
      "text/html": "<div>\n<style scoped>\n    .dataframe tbody tr th:only-of-type {\n        vertical-align: middle;\n    }\n\n    .dataframe tbody tr th {\n        vertical-align: top;\n    }\n\n    .dataframe thead th {\n        text-align: right;\n    }\n</style>\n<table border=\"1\" class=\"dataframe\">\n  <thead>\n    <tr style=\"text-align: right;\">\n      <th></th>\n      <th>survived</th>\n      <th>pclass</th>\n      <th>sex</th>\n      <th>age</th>\n      <th>sibsp</th>\n      <th>parch</th>\n      <th>fare</th>\n      <th>embarked</th>\n      <th>deck</th>\n    </tr>\n  </thead>\n  <tbody>\n    <tr>\n      <th>0</th>\n      <td>False</td>\n      <td>False</td>\n      <td>False</td>\n      <td>False</td>\n      <td>False</td>\n      <td>False</td>\n      <td>False</td>\n      <td>False</td>\n      <td>True</td>\n    </tr>\n    <tr>\n      <th>1</th>\n      <td>False</td>\n      <td>False</td>\n      <td>False</td>\n      <td>False</td>\n      <td>False</td>\n      <td>False</td>\n      <td>False</td>\n      <td>False</td>\n      <td>False</td>\n    </tr>\n    <tr>\n      <th>2</th>\n      <td>False</td>\n      <td>False</td>\n      <td>False</td>\n      <td>False</td>\n      <td>False</td>\n      <td>False</td>\n      <td>False</td>\n      <td>False</td>\n      <td>True</td>\n    </tr>\n    <tr>\n      <th>3</th>\n      <td>False</td>\n      <td>False</td>\n      <td>False</td>\n      <td>False</td>\n      <td>False</td>\n      <td>False</td>\n      <td>False</td>\n      <td>False</td>\n      <td>False</td>\n    </tr>\n    <tr>\n      <th>4</th>\n      <td>False</td>\n      <td>False</td>\n      <td>False</td>\n      <td>False</td>\n      <td>False</td>\n      <td>False</td>\n      <td>False</td>\n      <td>False</td>\n      <td>True</td>\n    </tr>\n    <tr>\n      <th>...</th>\n      <td>...</td>\n      <td>...</td>\n      <td>...</td>\n      <td>...</td>\n      <td>...</td>\n      <td>...</td>\n      <td>...</td>\n      <td>...</td>\n      <td>...</td>\n    </tr>\n    <tr>\n      <th>886</th>\n      <td>False</td>\n      <td>False</td>\n      <td>False</td>\n      <td>False</td>\n      <td>False</td>\n      <td>False</td>\n      <td>False</td>\n      <td>False</td>\n      <td>True</td>\n    </tr>\n    <tr>\n      <th>887</th>\n      <td>False</td>\n      <td>False</td>\n      <td>False</td>\n      <td>False</td>\n      <td>False</td>\n      <td>False</td>\n      <td>False</td>\n      <td>False</td>\n      <td>False</td>\n    </tr>\n    <tr>\n      <th>888</th>\n      <td>False</td>\n      <td>False</td>\n      <td>False</td>\n      <td>True</td>\n      <td>False</td>\n      <td>False</td>\n      <td>False</td>\n      <td>False</td>\n      <td>True</td>\n    </tr>\n    <tr>\n      <th>889</th>\n      <td>False</td>\n      <td>False</td>\n      <td>False</td>\n      <td>False</td>\n      <td>False</td>\n      <td>False</td>\n      <td>False</td>\n      <td>False</td>\n      <td>False</td>\n    </tr>\n    <tr>\n      <th>890</th>\n      <td>False</td>\n      <td>False</td>\n      <td>False</td>\n      <td>False</td>\n      <td>False</td>\n      <td>False</td>\n      <td>False</td>\n      <td>False</td>\n      <td>True</td>\n    </tr>\n  </tbody>\n</table>\n<p>891 rows × 9 columns</p>\n</div>"
     },
     "execution_count": 261,
     "metadata": {},
     "output_type": "execute_result"
    }
   ],
   "source": [
    "titanic.isna()"
   ],
   "metadata": {
    "collapsed": false,
    "pycharm": {
     "name": "#%%\n"
    }
   }
  },
  {
   "cell_type": "code",
   "execution_count": 262,
   "outputs": [
    {
     "data": {
      "text/plain": "survived      0\npclass        0\nsex           0\nage         177\nsibsp         0\nparch         0\nfare          0\nembarked      2\ndeck        688\ndtype: int64"
     },
     "execution_count": 262,
     "metadata": {},
     "output_type": "execute_result"
    }
   ],
   "source": [
    "titanic.isna().sum()"
   ],
   "metadata": {
    "collapsed": false,
    "pycharm": {
     "name": "#%%\n"
    }
   }
  },
  {
   "cell_type": "code",
   "execution_count": 263,
   "outputs": [
    {
     "data": {
      "text/plain": "survived    891\npclass      891\nsex         891\nage         714\nsibsp       891\nparch       891\nfare        891\nembarked    889\ndeck        203\ndtype: int64"
     },
     "execution_count": 263,
     "metadata": {},
     "output_type": "execute_result"
    }
   ],
   "source": [
    "titanic.notna().sum()"
   ],
   "metadata": {
    "collapsed": false,
    "pycharm": {
     "name": "#%%\n"
    }
   }
  },
  {
   "cell_type": "code",
   "execution_count": 264,
   "outputs": [
    {
     "data": {
      "text/plain": "     survived  pclass     sex   age  sibsp  parch  fare embarked deck\n61          1       1  female  38.0      0      0  80.0      NaN    B\n829         1       1  female  62.0      0      0  80.0      NaN    B",
      "text/html": "<div>\n<style scoped>\n    .dataframe tbody tr th:only-of-type {\n        vertical-align: middle;\n    }\n\n    .dataframe tbody tr th {\n        vertical-align: top;\n    }\n\n    .dataframe thead th {\n        text-align: right;\n    }\n</style>\n<table border=\"1\" class=\"dataframe\">\n  <thead>\n    <tr style=\"text-align: right;\">\n      <th></th>\n      <th>survived</th>\n      <th>pclass</th>\n      <th>sex</th>\n      <th>age</th>\n      <th>sibsp</th>\n      <th>parch</th>\n      <th>fare</th>\n      <th>embarked</th>\n      <th>deck</th>\n    </tr>\n  </thead>\n  <tbody>\n    <tr>\n      <th>61</th>\n      <td>1</td>\n      <td>1</td>\n      <td>female</td>\n      <td>38.0</td>\n      <td>0</td>\n      <td>0</td>\n      <td>80.0</td>\n      <td>NaN</td>\n      <td>B</td>\n    </tr>\n    <tr>\n      <th>829</th>\n      <td>1</td>\n      <td>1</td>\n      <td>female</td>\n      <td>62.0</td>\n      <td>0</td>\n      <td>0</td>\n      <td>80.0</td>\n      <td>NaN</td>\n      <td>B</td>\n    </tr>\n  </tbody>\n</table>\n</div>"
     },
     "execution_count": 264,
     "metadata": {},
     "output_type": "execute_result"
    }
   ],
   "source": [
    "titanic.loc[titanic.embarked.isna()]"
   ],
   "metadata": {
    "collapsed": false,
    "pycharm": {
     "name": "#%%\n"
    }
   }
  },
  {
   "cell_type": "code",
   "execution_count": 266,
   "outputs": [
    {
     "data": {
      "text/plain": "(891, 9)"
     },
     "execution_count": 266,
     "metadata": {},
     "output_type": "execute_result"
    }
   ],
   "source": [
    "titanic.shape"
   ],
   "metadata": {
    "collapsed": false,
    "pycharm": {
     "name": "#%%\n"
    }
   }
  },
  {
   "cell_type": "code",
   "execution_count": 267,
   "outputs": [
    {
     "data": {
      "text/plain": "     survived  pclass     sex   age  sibsp  parch     fare embarked deck\n1           1       1  female  38.0      1      0  71.2833        C    C\n3           1       1  female  35.0      1      0  53.1000        S    C\n6           0       1    male  54.0      0      0  51.8625        S    E\n10          1       3  female   4.0      1      1  16.7000        S    G\n11          1       1  female  58.0      0      0  26.5500        S    C\n..        ...     ...     ...   ...    ...    ...      ...      ...  ...\n871         1       1  female  47.0      1      1  52.5542        S    D\n872         0       1    male  33.0      0      0   5.0000        S    B\n879         1       1  female  56.0      0      1  83.1583        C    C\n887         1       1  female  19.0      0      0  30.0000        S    B\n889         1       1    male  26.0      0      0  30.0000        C    C\n\n[182 rows x 9 columns]",
      "text/html": "<div>\n<style scoped>\n    .dataframe tbody tr th:only-of-type {\n        vertical-align: middle;\n    }\n\n    .dataframe tbody tr th {\n        vertical-align: top;\n    }\n\n    .dataframe thead th {\n        text-align: right;\n    }\n</style>\n<table border=\"1\" class=\"dataframe\">\n  <thead>\n    <tr style=\"text-align: right;\">\n      <th></th>\n      <th>survived</th>\n      <th>pclass</th>\n      <th>sex</th>\n      <th>age</th>\n      <th>sibsp</th>\n      <th>parch</th>\n      <th>fare</th>\n      <th>embarked</th>\n      <th>deck</th>\n    </tr>\n  </thead>\n  <tbody>\n    <tr>\n      <th>1</th>\n      <td>1</td>\n      <td>1</td>\n      <td>female</td>\n      <td>38.0</td>\n      <td>1</td>\n      <td>0</td>\n      <td>71.2833</td>\n      <td>C</td>\n      <td>C</td>\n    </tr>\n    <tr>\n      <th>3</th>\n      <td>1</td>\n      <td>1</td>\n      <td>female</td>\n      <td>35.0</td>\n      <td>1</td>\n      <td>0</td>\n      <td>53.1000</td>\n      <td>S</td>\n      <td>C</td>\n    </tr>\n    <tr>\n      <th>6</th>\n      <td>0</td>\n      <td>1</td>\n      <td>male</td>\n      <td>54.0</td>\n      <td>0</td>\n      <td>0</td>\n      <td>51.8625</td>\n      <td>S</td>\n      <td>E</td>\n    </tr>\n    <tr>\n      <th>10</th>\n      <td>1</td>\n      <td>3</td>\n      <td>female</td>\n      <td>4.0</td>\n      <td>1</td>\n      <td>1</td>\n      <td>16.7000</td>\n      <td>S</td>\n      <td>G</td>\n    </tr>\n    <tr>\n      <th>11</th>\n      <td>1</td>\n      <td>1</td>\n      <td>female</td>\n      <td>58.0</td>\n      <td>0</td>\n      <td>0</td>\n      <td>26.5500</td>\n      <td>S</td>\n      <td>C</td>\n    </tr>\n    <tr>\n      <th>...</th>\n      <td>...</td>\n      <td>...</td>\n      <td>...</td>\n      <td>...</td>\n      <td>...</td>\n      <td>...</td>\n      <td>...</td>\n      <td>...</td>\n      <td>...</td>\n    </tr>\n    <tr>\n      <th>871</th>\n      <td>1</td>\n      <td>1</td>\n      <td>female</td>\n      <td>47.0</td>\n      <td>1</td>\n      <td>1</td>\n      <td>52.5542</td>\n      <td>S</td>\n      <td>D</td>\n    </tr>\n    <tr>\n      <th>872</th>\n      <td>0</td>\n      <td>1</td>\n      <td>male</td>\n      <td>33.0</td>\n      <td>0</td>\n      <td>0</td>\n      <td>5.0000</td>\n      <td>S</td>\n      <td>B</td>\n    </tr>\n    <tr>\n      <th>879</th>\n      <td>1</td>\n      <td>1</td>\n      <td>female</td>\n      <td>56.0</td>\n      <td>0</td>\n      <td>1</td>\n      <td>83.1583</td>\n      <td>C</td>\n      <td>C</td>\n    </tr>\n    <tr>\n      <th>887</th>\n      <td>1</td>\n      <td>1</td>\n      <td>female</td>\n      <td>19.0</td>\n      <td>0</td>\n      <td>0</td>\n      <td>30.0000</td>\n      <td>S</td>\n      <td>B</td>\n    </tr>\n    <tr>\n      <th>889</th>\n      <td>1</td>\n      <td>1</td>\n      <td>male</td>\n      <td>26.0</td>\n      <td>0</td>\n      <td>0</td>\n      <td>30.0000</td>\n      <td>C</td>\n      <td>C</td>\n    </tr>\n  </tbody>\n</table>\n<p>182 rows × 9 columns</p>\n</div>"
     },
     "execution_count": 267,
     "metadata": {},
     "output_type": "execute_result"
    }
   ],
   "source": [
    "titanic.dropna()"
   ],
   "metadata": {
    "collapsed": false,
    "pycharm": {
     "name": "#%%\n"
    }
   }
  },
  {
   "cell_type": "code",
   "execution_count": 268,
   "outputs": [
    {
     "data": {
      "text/plain": "(182, 9)"
     },
     "execution_count": 268,
     "metadata": {},
     "output_type": "execute_result"
    }
   ],
   "source": [
    "titanic.dropna().shape"
   ],
   "metadata": {
    "collapsed": false,
    "pycharm": {
     "name": "#%%\n"
    }
   }
  },
  {
   "cell_type": "code",
   "execution_count": 272,
   "outputs": [
    {
     "data": {
      "text/plain": "(182, 9)"
     },
     "execution_count": 272,
     "metadata": {},
     "output_type": "execute_result"
    }
   ],
   "source": [
    "# Default\n",
    "titanic.dropna(how='any').shape"
   ],
   "metadata": {
    "collapsed": false,
    "pycharm": {
     "name": "#%%\n"
    }
   }
  },
  {
   "cell_type": "code",
   "execution_count": 273,
   "outputs": [
    {
     "data": {
      "text/plain": "(891, 6)"
     },
     "execution_count": 273,
     "metadata": {},
     "output_type": "execute_result"
    }
   ],
   "source": [
    "# Drops columns\n",
    "titanic.dropna(axis=1, how='any').shape"
   ],
   "metadata": {
    "collapsed": false,
    "pycharm": {
     "name": "#%%\n"
    }
   }
  },
  {
   "cell_type": "code",
   "execution_count": 274,
   "outputs": [
    {
     "data": {
      "text/plain": "(891, 9)"
     },
     "execution_count": 274,
     "metadata": {},
     "output_type": "execute_result"
    }
   ],
   "source": [
    "# Where all are NA\n",
    "titanic.dropna(how='all').shape"
   ],
   "metadata": {
    "collapsed": false,
    "pycharm": {
     "name": "#%%\n"
    }
   }
  },
  {
   "cell_type": "code",
   "execution_count": 275,
   "outputs": [
    {
     "data": {
      "text/plain": "(891, 8)"
     },
     "execution_count": 275,
     "metadata": {},
     "output_type": "execute_result"
    }
   ],
   "source": [
    "# Drop all columns where there are less than 500 missing values\n",
    "titanic.dropna(axis=1, thresh=500).shape"
   ],
   "metadata": {
    "collapsed": false,
    "pycharm": {
     "name": "#%%\n"
    }
   }
  },
  {
   "cell_type": "code",
   "execution_count": 276,
   "outputs": [],
   "source": [
    "titanic.dropna(axis=1, thresh=500, inplace=True)"
   ],
   "metadata": {
    "collapsed": false,
    "pycharm": {
     "name": "#%%\n"
    }
   }
  },
  {
   "cell_type": "code",
   "execution_count": 277,
   "outputs": [
    {
     "name": "stdout",
     "output_type": "stream",
     "text": [
      "<class 'pandas.core.frame.DataFrame'>\n",
      "RangeIndex: 891 entries, 0 to 890\n",
      "Data columns (total 8 columns):\n",
      " #   Column    Non-Null Count  Dtype  \n",
      "---  ------    --------------  -----  \n",
      " 0   survived  891 non-null    int64  \n",
      " 1   pclass    891 non-null    int64  \n",
      " 2   sex       891 non-null    object \n",
      " 3   age       714 non-null    float64\n",
      " 4   sibsp     891 non-null    int64  \n",
      " 5   parch     891 non-null    int64  \n",
      " 6   fare      891 non-null    float64\n",
      " 7   embarked  889 non-null    object \n",
      "dtypes: float64(2), int64(4), object(2)\n",
      "memory usage: 55.8+ KB\n"
     ]
    }
   ],
   "source": [
    "titanic.info()"
   ],
   "metadata": {
    "collapsed": false,
    "pycharm": {
     "name": "#%%\n"
    }
   }
  },
  {
   "cell_type": "code",
   "execution_count": 278,
   "outputs": [
    {
     "data": {
      "text/plain": "     survived  pclass     sex  age  sibsp  parch     fare embarked\n5           0       3    male  NaN      0      0   8.4583        Q\n17          1       2    male  NaN      0      0  13.0000        S\n19          1       3  female  NaN      0      0   7.2250        C\n26          0       3    male  NaN      0      0   7.2250        C\n28          1       3  female  NaN      0      0   7.8792        Q\n..        ...     ...     ...  ...    ...    ...      ...      ...\n859         0       3    male  NaN      0      0   7.2292        C\n863         0       3  female  NaN      8      2  69.5500        S\n868         0       3    male  NaN      0      0   9.5000        S\n878         0       3    male  NaN      0      0   7.8958        S\n888         0       3  female  NaN      1      2  23.4500        S\n\n[177 rows x 8 columns]",
      "text/html": "<div>\n<style scoped>\n    .dataframe tbody tr th:only-of-type {\n        vertical-align: middle;\n    }\n\n    .dataframe tbody tr th {\n        vertical-align: top;\n    }\n\n    .dataframe thead th {\n        text-align: right;\n    }\n</style>\n<table border=\"1\" class=\"dataframe\">\n  <thead>\n    <tr style=\"text-align: right;\">\n      <th></th>\n      <th>survived</th>\n      <th>pclass</th>\n      <th>sex</th>\n      <th>age</th>\n      <th>sibsp</th>\n      <th>parch</th>\n      <th>fare</th>\n      <th>embarked</th>\n    </tr>\n  </thead>\n  <tbody>\n    <tr>\n      <th>5</th>\n      <td>0</td>\n      <td>3</td>\n      <td>male</td>\n      <td>NaN</td>\n      <td>0</td>\n      <td>0</td>\n      <td>8.4583</td>\n      <td>Q</td>\n    </tr>\n    <tr>\n      <th>17</th>\n      <td>1</td>\n      <td>2</td>\n      <td>male</td>\n      <td>NaN</td>\n      <td>0</td>\n      <td>0</td>\n      <td>13.0000</td>\n      <td>S</td>\n    </tr>\n    <tr>\n      <th>19</th>\n      <td>1</td>\n      <td>3</td>\n      <td>female</td>\n      <td>NaN</td>\n      <td>0</td>\n      <td>0</td>\n      <td>7.2250</td>\n      <td>C</td>\n    </tr>\n    <tr>\n      <th>26</th>\n      <td>0</td>\n      <td>3</td>\n      <td>male</td>\n      <td>NaN</td>\n      <td>0</td>\n      <td>0</td>\n      <td>7.2250</td>\n      <td>C</td>\n    </tr>\n    <tr>\n      <th>28</th>\n      <td>1</td>\n      <td>3</td>\n      <td>female</td>\n      <td>NaN</td>\n      <td>0</td>\n      <td>0</td>\n      <td>7.8792</td>\n      <td>Q</td>\n    </tr>\n    <tr>\n      <th>...</th>\n      <td>...</td>\n      <td>...</td>\n      <td>...</td>\n      <td>...</td>\n      <td>...</td>\n      <td>...</td>\n      <td>...</td>\n      <td>...</td>\n    </tr>\n    <tr>\n      <th>859</th>\n      <td>0</td>\n      <td>3</td>\n      <td>male</td>\n      <td>NaN</td>\n      <td>0</td>\n      <td>0</td>\n      <td>7.2292</td>\n      <td>C</td>\n    </tr>\n    <tr>\n      <th>863</th>\n      <td>0</td>\n      <td>3</td>\n      <td>female</td>\n      <td>NaN</td>\n      <td>8</td>\n      <td>2</td>\n      <td>69.5500</td>\n      <td>S</td>\n    </tr>\n    <tr>\n      <th>868</th>\n      <td>0</td>\n      <td>3</td>\n      <td>male</td>\n      <td>NaN</td>\n      <td>0</td>\n      <td>0</td>\n      <td>9.5000</td>\n      <td>S</td>\n    </tr>\n    <tr>\n      <th>878</th>\n      <td>0</td>\n      <td>3</td>\n      <td>male</td>\n      <td>NaN</td>\n      <td>0</td>\n      <td>0</td>\n      <td>7.8958</td>\n      <td>S</td>\n    </tr>\n    <tr>\n      <th>888</th>\n      <td>0</td>\n      <td>3</td>\n      <td>female</td>\n      <td>NaN</td>\n      <td>1</td>\n      <td>2</td>\n      <td>23.4500</td>\n      <td>S</td>\n    </tr>\n  </tbody>\n</table>\n<p>177 rows × 8 columns</p>\n</div>"
     },
     "execution_count": 278,
     "metadata": {},
     "output_type": "execute_result"
    }
   ],
   "source": [
    "titanic.loc[titanic.age.isna()]"
   ],
   "metadata": {
    "collapsed": false,
    "pycharm": {
     "name": "#%%\n"
    }
   }
  },
  {
   "cell_type": "code",
   "execution_count": 279,
   "outputs": [
    {
     "data": {
      "text/plain": "29.69911764705882"
     },
     "execution_count": 279,
     "metadata": {},
     "output_type": "execute_result"
    }
   ],
   "source": [
    "mean_age = titanic.age.mean()\n",
    "mean_age"
   ],
   "metadata": {
    "collapsed": false,
    "pycharm": {
     "name": "#%%\n"
    }
   }
  },
  {
   "cell_type": "code",
   "execution_count": 281,
   "outputs": [
    {
     "data": {
      "text/plain": "0      22.000000\n1      38.000000\n2      26.000000\n3      35.000000\n4      35.000000\n         ...    \n886    27.000000\n887    19.000000\n888    29.699118\n889    26.000000\n890    32.000000\nName: age, Length: 891, dtype: float64"
     },
     "execution_count": 281,
     "metadata": {},
     "output_type": "execute_result"
    }
   ],
   "source": [
    "titanic.age.fillna(value=mean_age, inplace=True)\n",
    "titanic.age"
   ],
   "metadata": {
    "collapsed": false,
    "pycharm": {
     "name": "#%%\n"
    }
   }
  },
  {
   "cell_type": "code",
   "execution_count": 282,
   "outputs": [
    {
     "name": "stdout",
     "output_type": "stream",
     "text": [
      "<class 'pandas.core.frame.DataFrame'>\n",
      "RangeIndex: 891 entries, 0 to 890\n",
      "Data columns (total 8 columns):\n",
      " #   Column    Non-Null Count  Dtype  \n",
      "---  ------    --------------  -----  \n",
      " 0   survived  891 non-null    int64  \n",
      " 1   pclass    891 non-null    int64  \n",
      " 2   sex       891 non-null    object \n",
      " 3   age       891 non-null    float64\n",
      " 4   sibsp     891 non-null    int64  \n",
      " 5   parch     891 non-null    int64  \n",
      " 6   fare      891 non-null    float64\n",
      " 7   embarked  889 non-null    object \n",
      "dtypes: float64(2), int64(4), object(2)\n",
      "memory usage: 55.8+ KB\n"
     ]
    }
   ],
   "source": [
    "titanic.info()"
   ],
   "metadata": {
    "collapsed": false,
    "pycharm": {
     "name": "#%%\n"
    }
   }
  },
  {
   "cell_type": "markdown",
   "source": [
    "### Exporting Dataframes to CSV"
   ],
   "metadata": {
    "collapsed": false,
    "pycharm": {
     "name": "#%% md\n"
    }
   }
  },
  {
   "cell_type": "code",
   "execution_count": 283,
   "outputs": [
    {
     "data": {
      "text/plain": "   survived  pclass     sex   age  sibsp  parch     fare embarked\n0         0       3    male  22.0      1      0   7.2500        S\n1         1       1  female  38.0      1      0  71.2833        C\n2         1       3  female  26.0      0      0   7.9250        S\n3         1       1  female  35.0      1      0  53.1000        S\n4         0       3    male  35.0      0      0   8.0500        S",
      "text/html": "<div>\n<style scoped>\n    .dataframe tbody tr th:only-of-type {\n        vertical-align: middle;\n    }\n\n    .dataframe tbody tr th {\n        vertical-align: top;\n    }\n\n    .dataframe thead th {\n        text-align: right;\n    }\n</style>\n<table border=\"1\" class=\"dataframe\">\n  <thead>\n    <tr style=\"text-align: right;\">\n      <th></th>\n      <th>survived</th>\n      <th>pclass</th>\n      <th>sex</th>\n      <th>age</th>\n      <th>sibsp</th>\n      <th>parch</th>\n      <th>fare</th>\n      <th>embarked</th>\n    </tr>\n  </thead>\n  <tbody>\n    <tr>\n      <th>0</th>\n      <td>0</td>\n      <td>3</td>\n      <td>male</td>\n      <td>22.0</td>\n      <td>1</td>\n      <td>0</td>\n      <td>7.2500</td>\n      <td>S</td>\n    </tr>\n    <tr>\n      <th>1</th>\n      <td>1</td>\n      <td>1</td>\n      <td>female</td>\n      <td>38.0</td>\n      <td>1</td>\n      <td>0</td>\n      <td>71.2833</td>\n      <td>C</td>\n    </tr>\n    <tr>\n      <th>2</th>\n      <td>1</td>\n      <td>3</td>\n      <td>female</td>\n      <td>26.0</td>\n      <td>0</td>\n      <td>0</td>\n      <td>7.9250</td>\n      <td>S</td>\n    </tr>\n    <tr>\n      <th>3</th>\n      <td>1</td>\n      <td>1</td>\n      <td>female</td>\n      <td>35.0</td>\n      <td>1</td>\n      <td>0</td>\n      <td>53.1000</td>\n      <td>S</td>\n    </tr>\n    <tr>\n      <th>4</th>\n      <td>0</td>\n      <td>3</td>\n      <td>male</td>\n      <td>35.0</td>\n      <td>0</td>\n      <td>0</td>\n      <td>8.0500</td>\n      <td>S</td>\n    </tr>\n  </tbody>\n</table>\n</div>"
     },
     "execution_count": 283,
     "metadata": {},
     "output_type": "execute_result"
    }
   ],
   "source": [
    "titanic.head()"
   ],
   "metadata": {
    "collapsed": false,
    "pycharm": {
     "name": "#%%\n"
    }
   }
  },
  {
   "cell_type": "code",
   "execution_count": 284,
   "outputs": [],
   "source": [
    "titanic.to_csv('data/clean_df.csv')"
   ],
   "metadata": {
    "collapsed": false,
    "pycharm": {
     "name": "#%%\n"
    }
   }
  },
  {
   "cell_type": "code",
   "execution_count": 285,
   "outputs": [
    {
     "data": {
      "text/plain": "     Unnamed: 0  survived  pclass     sex        age  sibsp  parch     fare  \\\n0             0         0       3    male  22.000000      1      0   7.2500   \n1             1         1       1  female  38.000000      1      0  71.2833   \n2             2         1       3  female  26.000000      0      0   7.9250   \n3             3         1       1  female  35.000000      1      0  53.1000   \n4             4         0       3    male  35.000000      0      0   8.0500   \n..          ...       ...     ...     ...        ...    ...    ...      ...   \n886         886         0       2    male  27.000000      0      0  13.0000   \n887         887         1       1  female  19.000000      0      0  30.0000   \n888         888         0       3  female  29.699118      1      2  23.4500   \n889         889         1       1    male  26.000000      0      0  30.0000   \n890         890         0       3    male  32.000000      0      0   7.7500   \n\n    embarked  \n0          S  \n1          C  \n2          S  \n3          S  \n4          S  \n..       ...  \n886        S  \n887        S  \n888        S  \n889        C  \n890        Q  \n\n[891 rows x 9 columns]",
      "text/html": "<div>\n<style scoped>\n    .dataframe tbody tr th:only-of-type {\n        vertical-align: middle;\n    }\n\n    .dataframe tbody tr th {\n        vertical-align: top;\n    }\n\n    .dataframe thead th {\n        text-align: right;\n    }\n</style>\n<table border=\"1\" class=\"dataframe\">\n  <thead>\n    <tr style=\"text-align: right;\">\n      <th></th>\n      <th>Unnamed: 0</th>\n      <th>survived</th>\n      <th>pclass</th>\n      <th>sex</th>\n      <th>age</th>\n      <th>sibsp</th>\n      <th>parch</th>\n      <th>fare</th>\n      <th>embarked</th>\n    </tr>\n  </thead>\n  <tbody>\n    <tr>\n      <th>0</th>\n      <td>0</td>\n      <td>0</td>\n      <td>3</td>\n      <td>male</td>\n      <td>22.000000</td>\n      <td>1</td>\n      <td>0</td>\n      <td>7.2500</td>\n      <td>S</td>\n    </tr>\n    <tr>\n      <th>1</th>\n      <td>1</td>\n      <td>1</td>\n      <td>1</td>\n      <td>female</td>\n      <td>38.000000</td>\n      <td>1</td>\n      <td>0</td>\n      <td>71.2833</td>\n      <td>C</td>\n    </tr>\n    <tr>\n      <th>2</th>\n      <td>2</td>\n      <td>1</td>\n      <td>3</td>\n      <td>female</td>\n      <td>26.000000</td>\n      <td>0</td>\n      <td>0</td>\n      <td>7.9250</td>\n      <td>S</td>\n    </tr>\n    <tr>\n      <th>3</th>\n      <td>3</td>\n      <td>1</td>\n      <td>1</td>\n      <td>female</td>\n      <td>35.000000</td>\n      <td>1</td>\n      <td>0</td>\n      <td>53.1000</td>\n      <td>S</td>\n    </tr>\n    <tr>\n      <th>4</th>\n      <td>4</td>\n      <td>0</td>\n      <td>3</td>\n      <td>male</td>\n      <td>35.000000</td>\n      <td>0</td>\n      <td>0</td>\n      <td>8.0500</td>\n      <td>S</td>\n    </tr>\n    <tr>\n      <th>...</th>\n      <td>...</td>\n      <td>...</td>\n      <td>...</td>\n      <td>...</td>\n      <td>...</td>\n      <td>...</td>\n      <td>...</td>\n      <td>...</td>\n      <td>...</td>\n    </tr>\n    <tr>\n      <th>886</th>\n      <td>886</td>\n      <td>0</td>\n      <td>2</td>\n      <td>male</td>\n      <td>27.000000</td>\n      <td>0</td>\n      <td>0</td>\n      <td>13.0000</td>\n      <td>S</td>\n    </tr>\n    <tr>\n      <th>887</th>\n      <td>887</td>\n      <td>1</td>\n      <td>1</td>\n      <td>female</td>\n      <td>19.000000</td>\n      <td>0</td>\n      <td>0</td>\n      <td>30.0000</td>\n      <td>S</td>\n    </tr>\n    <tr>\n      <th>888</th>\n      <td>888</td>\n      <td>0</td>\n      <td>3</td>\n      <td>female</td>\n      <td>29.699118</td>\n      <td>1</td>\n      <td>2</td>\n      <td>23.4500</td>\n      <td>S</td>\n    </tr>\n    <tr>\n      <th>889</th>\n      <td>889</td>\n      <td>1</td>\n      <td>1</td>\n      <td>male</td>\n      <td>26.000000</td>\n      <td>0</td>\n      <td>0</td>\n      <td>30.0000</td>\n      <td>C</td>\n    </tr>\n    <tr>\n      <th>890</th>\n      <td>890</td>\n      <td>0</td>\n      <td>3</td>\n      <td>male</td>\n      <td>32.000000</td>\n      <td>0</td>\n      <td>0</td>\n      <td>7.7500</td>\n      <td>Q</td>\n    </tr>\n  </tbody>\n</table>\n<p>891 rows × 9 columns</p>\n</div>"
     },
     "execution_count": 285,
     "metadata": {},
     "output_type": "execute_result"
    }
   ],
   "source": [
    "pd.read_csv('data/clean_df.csv')"
   ],
   "metadata": {
    "collapsed": false,
    "pycharm": {
     "name": "#%%\n"
    }
   }
  },
  {
   "cell_type": "markdown",
   "source": [
    "### Summary Statistics and Accumulations"
   ],
   "metadata": {
    "collapsed": false,
    "pycharm": {
     "name": "#%% md\n"
    }
   }
  },
  {
   "cell_type": "code",
   "execution_count": 287,
   "outputs": [
    {
     "data": {
      "text/plain": "   survived  pclass     sex   age  sibsp  parch     fare embarked deck\n0         0       3    male  22.0      1      0   7.2500        S  NaN\n1         1       1  female  38.0      1      0  71.2833        C    C\n2         1       3  female  26.0      0      0   7.9250        S  NaN\n3         1       1  female  35.0      1      0  53.1000        S    C\n4         0       3    male  35.0      0      0   8.0500        S  NaN",
      "text/html": "<div>\n<style scoped>\n    .dataframe tbody tr th:only-of-type {\n        vertical-align: middle;\n    }\n\n    .dataframe tbody tr th {\n        vertical-align: top;\n    }\n\n    .dataframe thead th {\n        text-align: right;\n    }\n</style>\n<table border=\"1\" class=\"dataframe\">\n  <thead>\n    <tr style=\"text-align: right;\">\n      <th></th>\n      <th>survived</th>\n      <th>pclass</th>\n      <th>sex</th>\n      <th>age</th>\n      <th>sibsp</th>\n      <th>parch</th>\n      <th>fare</th>\n      <th>embarked</th>\n      <th>deck</th>\n    </tr>\n  </thead>\n  <tbody>\n    <tr>\n      <th>0</th>\n      <td>0</td>\n      <td>3</td>\n      <td>male</td>\n      <td>22.0</td>\n      <td>1</td>\n      <td>0</td>\n      <td>7.2500</td>\n      <td>S</td>\n      <td>NaN</td>\n    </tr>\n    <tr>\n      <th>1</th>\n      <td>1</td>\n      <td>1</td>\n      <td>female</td>\n      <td>38.0</td>\n      <td>1</td>\n      <td>0</td>\n      <td>71.2833</td>\n      <td>C</td>\n      <td>C</td>\n    </tr>\n    <tr>\n      <th>2</th>\n      <td>1</td>\n      <td>3</td>\n      <td>female</td>\n      <td>26.0</td>\n      <td>0</td>\n      <td>0</td>\n      <td>7.9250</td>\n      <td>S</td>\n      <td>NaN</td>\n    </tr>\n    <tr>\n      <th>3</th>\n      <td>1</td>\n      <td>1</td>\n      <td>female</td>\n      <td>35.0</td>\n      <td>1</td>\n      <td>0</td>\n      <td>53.1000</td>\n      <td>S</td>\n      <td>C</td>\n    </tr>\n    <tr>\n      <th>4</th>\n      <td>0</td>\n      <td>3</td>\n      <td>male</td>\n      <td>35.0</td>\n      <td>0</td>\n      <td>0</td>\n      <td>8.0500</td>\n      <td>S</td>\n      <td>NaN</td>\n    </tr>\n  </tbody>\n</table>\n</div>"
     },
     "execution_count": 287,
     "metadata": {},
     "output_type": "execute_result"
    }
   ],
   "source": [
    "titanic = pd.read_csv('data/titanic.csv')\n",
    "titanic.head()"
   ],
   "metadata": {
    "collapsed": false,
    "pycharm": {
     "name": "#%%\n"
    }
   }
  },
  {
   "cell_type": "code",
   "execution_count": 288,
   "outputs": [
    {
     "data": {
      "text/plain": "         survived      pclass         age       sibsp       parch        fare\ncount  891.000000  891.000000  714.000000  891.000000  891.000000  891.000000\nmean     0.383838    2.308642   29.699118    0.523008    0.381594   32.204208\nstd      0.486592    0.836071   14.526497    1.102743    0.806057   49.693429\nmin      0.000000    1.000000    0.420000    0.000000    0.000000    0.000000\n25%      0.000000    2.000000   20.125000    0.000000    0.000000    7.910400\n50%      0.000000    3.000000   28.000000    0.000000    0.000000   14.454200\n75%      1.000000    3.000000   38.000000    1.000000    0.000000   31.000000\nmax      1.000000    3.000000   80.000000    8.000000    6.000000  512.329200",
      "text/html": "<div>\n<style scoped>\n    .dataframe tbody tr th:only-of-type {\n        vertical-align: middle;\n    }\n\n    .dataframe tbody tr th {\n        vertical-align: top;\n    }\n\n    .dataframe thead th {\n        text-align: right;\n    }\n</style>\n<table border=\"1\" class=\"dataframe\">\n  <thead>\n    <tr style=\"text-align: right;\">\n      <th></th>\n      <th>survived</th>\n      <th>pclass</th>\n      <th>age</th>\n      <th>sibsp</th>\n      <th>parch</th>\n      <th>fare</th>\n    </tr>\n  </thead>\n  <tbody>\n    <tr>\n      <th>count</th>\n      <td>891.000000</td>\n      <td>891.000000</td>\n      <td>714.000000</td>\n      <td>891.000000</td>\n      <td>891.000000</td>\n      <td>891.000000</td>\n    </tr>\n    <tr>\n      <th>mean</th>\n      <td>0.383838</td>\n      <td>2.308642</td>\n      <td>29.699118</td>\n      <td>0.523008</td>\n      <td>0.381594</td>\n      <td>32.204208</td>\n    </tr>\n    <tr>\n      <th>std</th>\n      <td>0.486592</td>\n      <td>0.836071</td>\n      <td>14.526497</td>\n      <td>1.102743</td>\n      <td>0.806057</td>\n      <td>49.693429</td>\n    </tr>\n    <tr>\n      <th>min</th>\n      <td>0.000000</td>\n      <td>1.000000</td>\n      <td>0.420000</td>\n      <td>0.000000</td>\n      <td>0.000000</td>\n      <td>0.000000</td>\n    </tr>\n    <tr>\n      <th>25%</th>\n      <td>0.000000</td>\n      <td>2.000000</td>\n      <td>20.125000</td>\n      <td>0.000000</td>\n      <td>0.000000</td>\n      <td>7.910400</td>\n    </tr>\n    <tr>\n      <th>50%</th>\n      <td>0.000000</td>\n      <td>3.000000</td>\n      <td>28.000000</td>\n      <td>0.000000</td>\n      <td>0.000000</td>\n      <td>14.454200</td>\n    </tr>\n    <tr>\n      <th>75%</th>\n      <td>1.000000</td>\n      <td>3.000000</td>\n      <td>38.000000</td>\n      <td>1.000000</td>\n      <td>0.000000</td>\n      <td>31.000000</td>\n    </tr>\n    <tr>\n      <th>max</th>\n      <td>1.000000</td>\n      <td>3.000000</td>\n      <td>80.000000</td>\n      <td>8.000000</td>\n      <td>6.000000</td>\n      <td>512.329200</td>\n    </tr>\n  </tbody>\n</table>\n</div>"
     },
     "execution_count": 288,
     "metadata": {},
     "output_type": "execute_result"
    }
   ],
   "source": [
    "titanic.describe()"
   ],
   "metadata": {
    "collapsed": false,
    "pycharm": {
     "name": "#%%\n"
    }
   }
  },
  {
   "cell_type": "code",
   "execution_count": 289,
   "outputs": [
    {
     "data": {
      "text/plain": "survived    891\npclass      891\nsex         891\nage         714\nsibsp       891\nparch       891\nfare        891\nembarked    889\ndeck        203\ndtype: int64"
     },
     "execution_count": 289,
     "metadata": {},
     "output_type": "execute_result"
    }
   ],
   "source": [
    "titanic.count(axis=0)"
   ],
   "metadata": {
    "collapsed": false,
    "pycharm": {
     "name": "#%%\n"
    }
   }
  },
  {
   "cell_type": "code",
   "execution_count": 290,
   "outputs": [
    {
     "data": {
      "text/plain": "0      8\n1      9\n2      8\n3      9\n4      8\n      ..\n886    8\n887    9\n888    7\n889    9\n890    8\nLength: 891, dtype: int64"
     },
     "execution_count": 290,
     "metadata": {},
     "output_type": "execute_result"
    }
   ],
   "source": [
    "titanic.count(axis=1)"
   ],
   "metadata": {
    "collapsed": false,
    "pycharm": {
     "name": "#%%\n"
    }
   }
  },
  {
   "cell_type": "code",
   "execution_count": 291,
   "outputs": [
    {
     "name": "stderr",
     "output_type": "stream",
     "text": [
      "C:\\Users\\xjayc\\AppData\\Local\\Temp\\ipykernel_28800\\187229115.py:1: FutureWarning: Dropping of nuisance columns in DataFrame reductions (with 'numeric_only=None') is deprecated; in a future version this will raise TypeError.  Select only valid columns before calling the reduction.\n",
      "  titanic.mean(axis=0)\n"
     ]
    },
    {
     "data": {
      "text/plain": "survived     0.383838\npclass       2.308642\nage         29.699118\nsibsp        0.523008\nparch        0.381594\nfare        32.204208\ndtype: float64"
     },
     "execution_count": 291,
     "metadata": {},
     "output_type": "execute_result"
    }
   ],
   "source": [
    "titanic.mean(axis=0)"
   ],
   "metadata": {
    "collapsed": false,
    "pycharm": {
     "name": "#%%\n"
    }
   }
  },
  {
   "cell_type": "code",
   "execution_count": 292,
   "outputs": [
    {
     "name": "stderr",
     "output_type": "stream",
     "text": [
      "C:\\Users\\xjayc\\AppData\\Local\\Temp\\ipykernel_28800\\2224535227.py:1: FutureWarning: Dropping of nuisance columns in DataFrame reductions (with 'numeric_only=None') is deprecated; in a future version this will raise TypeError.  Select only valid columns before calling the reduction.\n",
      "  titanic.sum(axis=0)\n"
     ]
    },
    {
     "data": {
      "text/plain": "survived                                                  342\npclass                                                   2057\nsex         malefemalefemalefemalemalemalemalemalefemalefe...\nage                                                  21205.17\nsibsp                                                     466\nparch                                                     340\nfare                                               28693.9493\ndtype: object"
     },
     "execution_count": 292,
     "metadata": {},
     "output_type": "execute_result"
    }
   ],
   "source": [
    "titanic.sum(axis=0)"
   ],
   "metadata": {
    "collapsed": false,
    "pycharm": {
     "name": "#%%\n"
    }
   }
  },
  {
   "cell_type": "code",
   "execution_count": 293,
   "outputs": [
    {
     "data": {
      "text/plain": "0          7.2500\n1         78.5333\n2         86.4583\n3        139.5583\n4        147.6083\n          ...    \n886    28602.7493\n887    28632.7493\n888    28656.1993\n889    28686.1993\n890    28693.9493\nName: fare, Length: 891, dtype: float64"
     },
     "execution_count": 293,
     "metadata": {},
     "output_type": "execute_result"
    }
   ],
   "source": [
    "titanic.fare.cumsum(axis=0)"
   ],
   "metadata": {
    "collapsed": false,
    "pycharm": {
     "name": "#%%\n"
    }
   }
  },
  {
   "cell_type": "code",
   "execution_count": 294,
   "outputs": [
    {
     "data": {
      "text/plain": "          survived    pclass       age     sibsp     parch      fare\nsurvived  1.000000 -0.338481 -0.077221 -0.035322  0.081629  0.257307\npclass   -0.338481  1.000000 -0.369226  0.083081  0.018443 -0.549500\nage      -0.077221 -0.369226  1.000000 -0.308247 -0.189119  0.096067\nsibsp    -0.035322  0.083081 -0.308247  1.000000  0.414838  0.159651\nparch     0.081629  0.018443 -0.189119  0.414838  1.000000  0.216225\nfare      0.257307 -0.549500  0.096067  0.159651  0.216225  1.000000",
      "text/html": "<div>\n<style scoped>\n    .dataframe tbody tr th:only-of-type {\n        vertical-align: middle;\n    }\n\n    .dataframe tbody tr th {\n        vertical-align: top;\n    }\n\n    .dataframe thead th {\n        text-align: right;\n    }\n</style>\n<table border=\"1\" class=\"dataframe\">\n  <thead>\n    <tr style=\"text-align: right;\">\n      <th></th>\n      <th>survived</th>\n      <th>pclass</th>\n      <th>age</th>\n      <th>sibsp</th>\n      <th>parch</th>\n      <th>fare</th>\n    </tr>\n  </thead>\n  <tbody>\n    <tr>\n      <th>survived</th>\n      <td>1.000000</td>\n      <td>-0.338481</td>\n      <td>-0.077221</td>\n      <td>-0.035322</td>\n      <td>0.081629</td>\n      <td>0.257307</td>\n    </tr>\n    <tr>\n      <th>pclass</th>\n      <td>-0.338481</td>\n      <td>1.000000</td>\n      <td>-0.369226</td>\n      <td>0.083081</td>\n      <td>0.018443</td>\n      <td>-0.549500</td>\n    </tr>\n    <tr>\n      <th>age</th>\n      <td>-0.077221</td>\n      <td>-0.369226</td>\n      <td>1.000000</td>\n      <td>-0.308247</td>\n      <td>-0.189119</td>\n      <td>0.096067</td>\n    </tr>\n    <tr>\n      <th>sibsp</th>\n      <td>-0.035322</td>\n      <td>0.083081</td>\n      <td>-0.308247</td>\n      <td>1.000000</td>\n      <td>0.414838</td>\n      <td>0.159651</td>\n    </tr>\n    <tr>\n      <th>parch</th>\n      <td>0.081629</td>\n      <td>0.018443</td>\n      <td>-0.189119</td>\n      <td>0.414838</td>\n      <td>1.000000</td>\n      <td>0.216225</td>\n    </tr>\n    <tr>\n      <th>fare</th>\n      <td>0.257307</td>\n      <td>-0.549500</td>\n      <td>0.096067</td>\n      <td>0.159651</td>\n      <td>0.216225</td>\n      <td>1.000000</td>\n    </tr>\n  </tbody>\n</table>\n</div>"
     },
     "execution_count": 294,
     "metadata": {},
     "output_type": "execute_result"
    }
   ],
   "source": [
    "titanic.corr()"
   ],
   "metadata": {
    "collapsed": false,
    "pycharm": {
     "name": "#%%\n"
    }
   }
  },
  {
   "cell_type": "code",
   "execution_count": 295,
   "outputs": [
    {
     "data": {
      "text/plain": "-0.33848103596101503"
     },
     "execution_count": 295,
     "metadata": {},
     "output_type": "execute_result"
    }
   ],
   "source": [
    "titanic.survived.corr(titanic.pclass)"
   ],
   "metadata": {
    "collapsed": false,
    "pycharm": {
     "name": "#%%\n"
    }
   }
  },
  {
   "cell_type": "code",
   "execution_count": null,
   "outputs": [],
   "source": [],
   "metadata": {
    "collapsed": false,
    "pycharm": {
     "name": "#%%\n"
    }
   }
  }
 ],
 "metadata": {
  "kernelspec": {
   "display_name": "Python 3",
   "language": "python",
   "name": "python3"
  },
  "language_info": {
   "codemirror_mode": {
    "name": "ipython",
    "version": 2
   },
   "file_extension": ".py",
   "mimetype": "text/x-python",
   "name": "python",
   "nbconvert_exporter": "python",
   "pygments_lexer": "ipython2",
   "version": "2.7.6"
  }
 },
 "nbformat": 4,
 "nbformat_minor": 0
}