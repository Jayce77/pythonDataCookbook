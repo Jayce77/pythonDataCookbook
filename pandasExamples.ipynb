{
 "cells": [
  {
   "cell_type": "markdown",
   "metadata": {
    "collapsed": true,
    "pycharm": {
     "name": "#%% md\n"
    }
   },
   "source": [
    "# Pandas Examples\n",
    "## Cretaing DataFrames"
   ]
  },
  {
   "cell_type": "code",
   "execution_count": 2,
   "outputs": [],
   "source": [
    "import pandas\n",
    "import pandas as pd"
   ],
   "metadata": {
    "collapsed": false,
    "pycharm": {
     "name": "#%%\n"
    }
   }
  },
  {
   "cell_type": "code",
   "execution_count": 3,
   "outputs": [
    {
     "data": {
      "text/plain": "     survived  pclass     sex   age  sibsp  parch     fare embarked deck\n0           0       3    male  22.0      1      0   7.2500        S  NaN\n1           1       1  female  38.0      1      0  71.2833        C    C\n2           1       3  female  26.0      0      0   7.9250        S  NaN\n3           1       1  female  35.0      1      0  53.1000        S    C\n4           0       3    male  35.0      0      0   8.0500        S  NaN\n..        ...     ...     ...   ...    ...    ...      ...      ...  ...\n886         0       2    male  27.0      0      0  13.0000        S  NaN\n887         1       1  female  19.0      0      0  30.0000        S    B\n888         0       3  female   NaN      1      2  23.4500        S  NaN\n889         1       1    male  26.0      0      0  30.0000        C    C\n890         0       3    male  32.0      0      0   7.7500        Q  NaN\n\n[891 rows x 9 columns]",
      "text/html": "<div>\n<style scoped>\n    .dataframe tbody tr th:only-of-type {\n        vertical-align: middle;\n    }\n\n    .dataframe tbody tr th {\n        vertical-align: top;\n    }\n\n    .dataframe thead th {\n        text-align: right;\n    }\n</style>\n<table border=\"1\" class=\"dataframe\">\n  <thead>\n    <tr style=\"text-align: right;\">\n      <th></th>\n      <th>survived</th>\n      <th>pclass</th>\n      <th>sex</th>\n      <th>age</th>\n      <th>sibsp</th>\n      <th>parch</th>\n      <th>fare</th>\n      <th>embarked</th>\n      <th>deck</th>\n    </tr>\n  </thead>\n  <tbody>\n    <tr>\n      <th>0</th>\n      <td>0</td>\n      <td>3</td>\n      <td>male</td>\n      <td>22.0</td>\n      <td>1</td>\n      <td>0</td>\n      <td>7.2500</td>\n      <td>S</td>\n      <td>NaN</td>\n    </tr>\n    <tr>\n      <th>1</th>\n      <td>1</td>\n      <td>1</td>\n      <td>female</td>\n      <td>38.0</td>\n      <td>1</td>\n      <td>0</td>\n      <td>71.2833</td>\n      <td>C</td>\n      <td>C</td>\n    </tr>\n    <tr>\n      <th>2</th>\n      <td>1</td>\n      <td>3</td>\n      <td>female</td>\n      <td>26.0</td>\n      <td>0</td>\n      <td>0</td>\n      <td>7.9250</td>\n      <td>S</td>\n      <td>NaN</td>\n    </tr>\n    <tr>\n      <th>3</th>\n      <td>1</td>\n      <td>1</td>\n      <td>female</td>\n      <td>35.0</td>\n      <td>1</td>\n      <td>0</td>\n      <td>53.1000</td>\n      <td>S</td>\n      <td>C</td>\n    </tr>\n    <tr>\n      <th>4</th>\n      <td>0</td>\n      <td>3</td>\n      <td>male</td>\n      <td>35.0</td>\n      <td>0</td>\n      <td>0</td>\n      <td>8.0500</td>\n      <td>S</td>\n      <td>NaN</td>\n    </tr>\n    <tr>\n      <th>...</th>\n      <td>...</td>\n      <td>...</td>\n      <td>...</td>\n      <td>...</td>\n      <td>...</td>\n      <td>...</td>\n      <td>...</td>\n      <td>...</td>\n      <td>...</td>\n    </tr>\n    <tr>\n      <th>886</th>\n      <td>0</td>\n      <td>2</td>\n      <td>male</td>\n      <td>27.0</td>\n      <td>0</td>\n      <td>0</td>\n      <td>13.0000</td>\n      <td>S</td>\n      <td>NaN</td>\n    </tr>\n    <tr>\n      <th>887</th>\n      <td>1</td>\n      <td>1</td>\n      <td>female</td>\n      <td>19.0</td>\n      <td>0</td>\n      <td>0</td>\n      <td>30.0000</td>\n      <td>S</td>\n      <td>B</td>\n    </tr>\n    <tr>\n      <th>888</th>\n      <td>0</td>\n      <td>3</td>\n      <td>female</td>\n      <td>NaN</td>\n      <td>1</td>\n      <td>2</td>\n      <td>23.4500</td>\n      <td>S</td>\n      <td>NaN</td>\n    </tr>\n    <tr>\n      <th>889</th>\n      <td>1</td>\n      <td>1</td>\n      <td>male</td>\n      <td>26.0</td>\n      <td>0</td>\n      <td>0</td>\n      <td>30.0000</td>\n      <td>C</td>\n      <td>C</td>\n    </tr>\n    <tr>\n      <th>890</th>\n      <td>0</td>\n      <td>3</td>\n      <td>male</td>\n      <td>32.0</td>\n      <td>0</td>\n      <td>0</td>\n      <td>7.7500</td>\n      <td>Q</td>\n      <td>NaN</td>\n    </tr>\n  </tbody>\n</table>\n<p>891 rows × 9 columns</p>\n</div>"
     },
     "execution_count": 3,
     "metadata": {},
     "output_type": "execute_result"
    }
   ],
   "source": [
    "titanic = pd.read_csv(\"data/titanic.csv\")\n",
    "titanic"
   ],
   "metadata": {
    "collapsed": false,
    "pycharm": {
     "name": "#%%\n"
    }
   }
  },
  {
   "cell_type": "code",
   "execution_count": 4,
   "outputs": [
    {
     "data": {
      "text/plain": "60"
     },
     "execution_count": 4,
     "metadata": {},
     "output_type": "execute_result"
    }
   ],
   "source": [
    "# can set to new limits\n",
    "# pd.options.display.max_rows = 900\n",
    "pd.options.display.max_rows"
   ],
   "metadata": {
    "collapsed": false,
    "pycharm": {
     "name": "#%%\n"
    }
   }
  },
  {
   "cell_type": "code",
   "execution_count": 5,
   "outputs": [
    {
     "data": {
      "text/plain": "10"
     },
     "execution_count": 5,
     "metadata": {},
     "output_type": "execute_result"
    }
   ],
   "source": [
    "pd.options.display.min_rows"
   ],
   "metadata": {
    "collapsed": false,
    "pycharm": {
     "name": "#%%\n"
    }
   }
  },
  {
   "cell_type": "code",
   "execution_count": 6,
   "outputs": [
    {
     "data": {
      "text/plain": "    survived  pclass     sex   age  sibsp  parch     fare embarked deck\n0          0       3    male  22.0      1      0   7.2500        S  NaN\n1          1       1  female  38.0      1      0  71.2833        C    C\n2          1       3  female  26.0      0      0   7.9250        S  NaN\n3          1       1  female  35.0      1      0  53.1000        S    C\n4          0       3    male  35.0      0      0   8.0500        S  NaN\n5          0       3    male   NaN      0      0   8.4583        Q  NaN\n6          0       1    male  54.0      0      0  51.8625        S    E\n7          0       3    male   2.0      3      1  21.0750        S  NaN\n8          1       3  female  27.0      0      2  11.1333        S  NaN\n9          1       2  female  14.0      1      0  30.0708        C  NaN\n10         1       3  female   4.0      1      1  16.7000        S    G\n11         1       1  female  58.0      0      0  26.5500        S    C\n12         0       3    male  20.0      0      0   8.0500        S  NaN\n13         0       3    male  39.0      1      5  31.2750        S  NaN\n14         0       3  female  14.0      0      0   7.8542        S  NaN\n15         1       2  female  55.0      0      0  16.0000        S  NaN\n16         0       3    male   2.0      4      1  29.1250        Q  NaN\n17         1       2    male   NaN      0      0  13.0000        S  NaN\n18         0       3  female  31.0      1      0  18.0000        S  NaN\n19         1       3  female   NaN      0      0   7.2250        C  NaN",
      "text/html": "<div>\n<style scoped>\n    .dataframe tbody tr th:only-of-type {\n        vertical-align: middle;\n    }\n\n    .dataframe tbody tr th {\n        vertical-align: top;\n    }\n\n    .dataframe thead th {\n        text-align: right;\n    }\n</style>\n<table border=\"1\" class=\"dataframe\">\n  <thead>\n    <tr style=\"text-align: right;\">\n      <th></th>\n      <th>survived</th>\n      <th>pclass</th>\n      <th>sex</th>\n      <th>age</th>\n      <th>sibsp</th>\n      <th>parch</th>\n      <th>fare</th>\n      <th>embarked</th>\n      <th>deck</th>\n    </tr>\n  </thead>\n  <tbody>\n    <tr>\n      <th>0</th>\n      <td>0</td>\n      <td>3</td>\n      <td>male</td>\n      <td>22.0</td>\n      <td>1</td>\n      <td>0</td>\n      <td>7.2500</td>\n      <td>S</td>\n      <td>NaN</td>\n    </tr>\n    <tr>\n      <th>1</th>\n      <td>1</td>\n      <td>1</td>\n      <td>female</td>\n      <td>38.0</td>\n      <td>1</td>\n      <td>0</td>\n      <td>71.2833</td>\n      <td>C</td>\n      <td>C</td>\n    </tr>\n    <tr>\n      <th>2</th>\n      <td>1</td>\n      <td>3</td>\n      <td>female</td>\n      <td>26.0</td>\n      <td>0</td>\n      <td>0</td>\n      <td>7.9250</td>\n      <td>S</td>\n      <td>NaN</td>\n    </tr>\n    <tr>\n      <th>3</th>\n      <td>1</td>\n      <td>1</td>\n      <td>female</td>\n      <td>35.0</td>\n      <td>1</td>\n      <td>0</td>\n      <td>53.1000</td>\n      <td>S</td>\n      <td>C</td>\n    </tr>\n    <tr>\n      <th>4</th>\n      <td>0</td>\n      <td>3</td>\n      <td>male</td>\n      <td>35.0</td>\n      <td>0</td>\n      <td>0</td>\n      <td>8.0500</td>\n      <td>S</td>\n      <td>NaN</td>\n    </tr>\n    <tr>\n      <th>5</th>\n      <td>0</td>\n      <td>3</td>\n      <td>male</td>\n      <td>NaN</td>\n      <td>0</td>\n      <td>0</td>\n      <td>8.4583</td>\n      <td>Q</td>\n      <td>NaN</td>\n    </tr>\n    <tr>\n      <th>6</th>\n      <td>0</td>\n      <td>1</td>\n      <td>male</td>\n      <td>54.0</td>\n      <td>0</td>\n      <td>0</td>\n      <td>51.8625</td>\n      <td>S</td>\n      <td>E</td>\n    </tr>\n    <tr>\n      <th>7</th>\n      <td>0</td>\n      <td>3</td>\n      <td>male</td>\n      <td>2.0</td>\n      <td>3</td>\n      <td>1</td>\n      <td>21.0750</td>\n      <td>S</td>\n      <td>NaN</td>\n    </tr>\n    <tr>\n      <th>8</th>\n      <td>1</td>\n      <td>3</td>\n      <td>female</td>\n      <td>27.0</td>\n      <td>0</td>\n      <td>2</td>\n      <td>11.1333</td>\n      <td>S</td>\n      <td>NaN</td>\n    </tr>\n    <tr>\n      <th>9</th>\n      <td>1</td>\n      <td>2</td>\n      <td>female</td>\n      <td>14.0</td>\n      <td>1</td>\n      <td>0</td>\n      <td>30.0708</td>\n      <td>C</td>\n      <td>NaN</td>\n    </tr>\n    <tr>\n      <th>10</th>\n      <td>1</td>\n      <td>3</td>\n      <td>female</td>\n      <td>4.0</td>\n      <td>1</td>\n      <td>1</td>\n      <td>16.7000</td>\n      <td>S</td>\n      <td>G</td>\n    </tr>\n    <tr>\n      <th>11</th>\n      <td>1</td>\n      <td>1</td>\n      <td>female</td>\n      <td>58.0</td>\n      <td>0</td>\n      <td>0</td>\n      <td>26.5500</td>\n      <td>S</td>\n      <td>C</td>\n    </tr>\n    <tr>\n      <th>12</th>\n      <td>0</td>\n      <td>3</td>\n      <td>male</td>\n      <td>20.0</td>\n      <td>0</td>\n      <td>0</td>\n      <td>8.0500</td>\n      <td>S</td>\n      <td>NaN</td>\n    </tr>\n    <tr>\n      <th>13</th>\n      <td>0</td>\n      <td>3</td>\n      <td>male</td>\n      <td>39.0</td>\n      <td>1</td>\n      <td>5</td>\n      <td>31.2750</td>\n      <td>S</td>\n      <td>NaN</td>\n    </tr>\n    <tr>\n      <th>14</th>\n      <td>0</td>\n      <td>3</td>\n      <td>female</td>\n      <td>14.0</td>\n      <td>0</td>\n      <td>0</td>\n      <td>7.8542</td>\n      <td>S</td>\n      <td>NaN</td>\n    </tr>\n    <tr>\n      <th>15</th>\n      <td>1</td>\n      <td>2</td>\n      <td>female</td>\n      <td>55.0</td>\n      <td>0</td>\n      <td>0</td>\n      <td>16.0000</td>\n      <td>S</td>\n      <td>NaN</td>\n    </tr>\n    <tr>\n      <th>16</th>\n      <td>0</td>\n      <td>3</td>\n      <td>male</td>\n      <td>2.0</td>\n      <td>4</td>\n      <td>1</td>\n      <td>29.1250</td>\n      <td>Q</td>\n      <td>NaN</td>\n    </tr>\n    <tr>\n      <th>17</th>\n      <td>1</td>\n      <td>2</td>\n      <td>male</td>\n      <td>NaN</td>\n      <td>0</td>\n      <td>0</td>\n      <td>13.0000</td>\n      <td>S</td>\n      <td>NaN</td>\n    </tr>\n    <tr>\n      <th>18</th>\n      <td>0</td>\n      <td>3</td>\n      <td>female</td>\n      <td>31.0</td>\n      <td>1</td>\n      <td>0</td>\n      <td>18.0000</td>\n      <td>S</td>\n      <td>NaN</td>\n    </tr>\n    <tr>\n      <th>19</th>\n      <td>1</td>\n      <td>3</td>\n      <td>female</td>\n      <td>NaN</td>\n      <td>0</td>\n      <td>0</td>\n      <td>7.2250</td>\n      <td>C</td>\n      <td>NaN</td>\n    </tr>\n  </tbody>\n</table>\n</div>"
     },
     "execution_count": 6,
     "metadata": {},
     "output_type": "execute_result"
    }
   ],
   "source": [
    "# can pass parameter to override default\n",
    "titanic.head(20)"
   ],
   "metadata": {
    "collapsed": false,
    "pycharm": {
     "name": "#%%\n"
    }
   }
  },
  {
   "cell_type": "code",
   "execution_count": 7,
   "outputs": [
    {
     "data": {
      "text/plain": "     survived  pclass     sex   age  sibsp  parch   fare embarked deck\n886         0       2    male  27.0      0      0  13.00        S  NaN\n887         1       1  female  19.0      0      0  30.00        S    B\n888         0       3  female   NaN      1      2  23.45        S  NaN\n889         1       1    male  26.0      0      0  30.00        C    C\n890         0       3    male  32.0      0      0   7.75        Q  NaN",
      "text/html": "<div>\n<style scoped>\n    .dataframe tbody tr th:only-of-type {\n        vertical-align: middle;\n    }\n\n    .dataframe tbody tr th {\n        vertical-align: top;\n    }\n\n    .dataframe thead th {\n        text-align: right;\n    }\n</style>\n<table border=\"1\" class=\"dataframe\">\n  <thead>\n    <tr style=\"text-align: right;\">\n      <th></th>\n      <th>survived</th>\n      <th>pclass</th>\n      <th>sex</th>\n      <th>age</th>\n      <th>sibsp</th>\n      <th>parch</th>\n      <th>fare</th>\n      <th>embarked</th>\n      <th>deck</th>\n    </tr>\n  </thead>\n  <tbody>\n    <tr>\n      <th>886</th>\n      <td>0</td>\n      <td>2</td>\n      <td>male</td>\n      <td>27.0</td>\n      <td>0</td>\n      <td>0</td>\n      <td>13.00</td>\n      <td>S</td>\n      <td>NaN</td>\n    </tr>\n    <tr>\n      <th>887</th>\n      <td>1</td>\n      <td>1</td>\n      <td>female</td>\n      <td>19.0</td>\n      <td>0</td>\n      <td>0</td>\n      <td>30.00</td>\n      <td>S</td>\n      <td>B</td>\n    </tr>\n    <tr>\n      <th>888</th>\n      <td>0</td>\n      <td>3</td>\n      <td>female</td>\n      <td>NaN</td>\n      <td>1</td>\n      <td>2</td>\n      <td>23.45</td>\n      <td>S</td>\n      <td>NaN</td>\n    </tr>\n    <tr>\n      <th>889</th>\n      <td>1</td>\n      <td>1</td>\n      <td>male</td>\n      <td>26.0</td>\n      <td>0</td>\n      <td>0</td>\n      <td>30.00</td>\n      <td>C</td>\n      <td>C</td>\n    </tr>\n    <tr>\n      <th>890</th>\n      <td>0</td>\n      <td>3</td>\n      <td>male</td>\n      <td>32.0</td>\n      <td>0</td>\n      <td>0</td>\n      <td>7.75</td>\n      <td>Q</td>\n      <td>NaN</td>\n    </tr>\n  </tbody>\n</table>\n</div>"
     },
     "execution_count": 7,
     "metadata": {},
     "output_type": "execute_result"
    }
   ],
   "source": [
    "titanic.tail()"
   ],
   "metadata": {
    "collapsed": false,
    "pycharm": {
     "name": "#%%\n"
    }
   }
  },
  {
   "cell_type": "markdown",
   "source": [
    "## Data Inspection"
   ],
   "metadata": {
    "collapsed": false,
    "pycharm": {
     "name": "#%% md\n"
    }
   }
  },
  {
   "cell_type": "code",
   "execution_count": 8,
   "outputs": [
    {
     "name": "stdout",
     "output_type": "stream",
     "text": [
      "<class 'pandas.core.frame.DataFrame'>\n",
      "RangeIndex: 891 entries, 0 to 890\n",
      "Data columns (total 9 columns):\n",
      " #   Column    Non-Null Count  Dtype  \n",
      "---  ------    --------------  -----  \n",
      " 0   survived  891 non-null    int64  \n",
      " 1   pclass    891 non-null    int64  \n",
      " 2   sex       891 non-null    object \n",
      " 3   age       714 non-null    float64\n",
      " 4   sibsp     891 non-null    int64  \n",
      " 5   parch     891 non-null    int64  \n",
      " 6   fare      891 non-null    float64\n",
      " 7   embarked  889 non-null    object \n",
      " 8   deck      203 non-null    object \n",
      "dtypes: float64(2), int64(4), object(3)\n",
      "memory usage: 62.8+ KB\n"
     ]
    }
   ],
   "source": [
    "titanic.info()"
   ],
   "metadata": {
    "collapsed": false,
    "pycharm": {
     "name": "#%%\n"
    }
   }
  },
  {
   "cell_type": "code",
   "execution_count": 9,
   "outputs": [
    {
     "data": {
      "text/plain": "         survived      pclass         age       sibsp       parch        fare\ncount  891.000000  891.000000  714.000000  891.000000  891.000000  891.000000\nmean     0.383838    2.308642   29.699118    0.523008    0.381594   32.204208\nstd      0.486592    0.836071   14.526497    1.102743    0.806057   49.693429\nmin      0.000000    1.000000    0.420000    0.000000    0.000000    0.000000\n25%      0.000000    2.000000   20.125000    0.000000    0.000000    7.910400\n50%      0.000000    3.000000   28.000000    0.000000    0.000000   14.454200\n75%      1.000000    3.000000   38.000000    1.000000    0.000000   31.000000\nmax      1.000000    3.000000   80.000000    8.000000    6.000000  512.329200",
      "text/html": "<div>\n<style scoped>\n    .dataframe tbody tr th:only-of-type {\n        vertical-align: middle;\n    }\n\n    .dataframe tbody tr th {\n        vertical-align: top;\n    }\n\n    .dataframe thead th {\n        text-align: right;\n    }\n</style>\n<table border=\"1\" class=\"dataframe\">\n  <thead>\n    <tr style=\"text-align: right;\">\n      <th></th>\n      <th>survived</th>\n      <th>pclass</th>\n      <th>age</th>\n      <th>sibsp</th>\n      <th>parch</th>\n      <th>fare</th>\n    </tr>\n  </thead>\n  <tbody>\n    <tr>\n      <th>count</th>\n      <td>891.000000</td>\n      <td>891.000000</td>\n      <td>714.000000</td>\n      <td>891.000000</td>\n      <td>891.000000</td>\n      <td>891.000000</td>\n    </tr>\n    <tr>\n      <th>mean</th>\n      <td>0.383838</td>\n      <td>2.308642</td>\n      <td>29.699118</td>\n      <td>0.523008</td>\n      <td>0.381594</td>\n      <td>32.204208</td>\n    </tr>\n    <tr>\n      <th>std</th>\n      <td>0.486592</td>\n      <td>0.836071</td>\n      <td>14.526497</td>\n      <td>1.102743</td>\n      <td>0.806057</td>\n      <td>49.693429</td>\n    </tr>\n    <tr>\n      <th>min</th>\n      <td>0.000000</td>\n      <td>1.000000</td>\n      <td>0.420000</td>\n      <td>0.000000</td>\n      <td>0.000000</td>\n      <td>0.000000</td>\n    </tr>\n    <tr>\n      <th>25%</th>\n      <td>0.000000</td>\n      <td>2.000000</td>\n      <td>20.125000</td>\n      <td>0.000000</td>\n      <td>0.000000</td>\n      <td>7.910400</td>\n    </tr>\n    <tr>\n      <th>50%</th>\n      <td>0.000000</td>\n      <td>3.000000</td>\n      <td>28.000000</td>\n      <td>0.000000</td>\n      <td>0.000000</td>\n      <td>14.454200</td>\n    </tr>\n    <tr>\n      <th>75%</th>\n      <td>1.000000</td>\n      <td>3.000000</td>\n      <td>38.000000</td>\n      <td>1.000000</td>\n      <td>0.000000</td>\n      <td>31.000000</td>\n    </tr>\n    <tr>\n      <th>max</th>\n      <td>1.000000</td>\n      <td>3.000000</td>\n      <td>80.000000</td>\n      <td>8.000000</td>\n      <td>6.000000</td>\n      <td>512.329200</td>\n    </tr>\n  </tbody>\n</table>\n</div>"
     },
     "execution_count": 9,
     "metadata": {},
     "output_type": "execute_result"
    }
   ],
   "source": [
    "titanic.describe()"
   ],
   "metadata": {
    "collapsed": false,
    "pycharm": {
     "name": "#%%\n"
    }
   }
  },
  {
   "cell_type": "code",
   "execution_count": 10,
   "outputs": [
    {
     "data": {
      "text/plain": "         sex embarked deck\ncount    891      889  203\nunique     2        3    7\ntop     male        S    C\nfreq     577      644   59",
      "text/html": "<div>\n<style scoped>\n    .dataframe tbody tr th:only-of-type {\n        vertical-align: middle;\n    }\n\n    .dataframe tbody tr th {\n        vertical-align: top;\n    }\n\n    .dataframe thead th {\n        text-align: right;\n    }\n</style>\n<table border=\"1\" class=\"dataframe\">\n  <thead>\n    <tr style=\"text-align: right;\">\n      <th></th>\n      <th>sex</th>\n      <th>embarked</th>\n      <th>deck</th>\n    </tr>\n  </thead>\n  <tbody>\n    <tr>\n      <th>count</th>\n      <td>891</td>\n      <td>889</td>\n      <td>203</td>\n    </tr>\n    <tr>\n      <th>unique</th>\n      <td>2</td>\n      <td>3</td>\n      <td>7</td>\n    </tr>\n    <tr>\n      <th>top</th>\n      <td>male</td>\n      <td>S</td>\n      <td>C</td>\n    </tr>\n    <tr>\n      <th>freq</th>\n      <td>577</td>\n      <td>644</td>\n      <td>59</td>\n    </tr>\n  </tbody>\n</table>\n</div>"
     },
     "execution_count": 10,
     "metadata": {},
     "output_type": "execute_result"
    }
   ],
   "source": [
    "titanic.describe(include='O')"
   ],
   "metadata": {
    "collapsed": false,
    "pycharm": {
     "name": "#%%\n"
    }
   }
  },
  {
   "cell_type": "markdown",
   "source": [
    "## Selecting Columns"
   ],
   "metadata": {
    "collapsed": false,
    "pycharm": {
     "name": "#%% md\n"
    }
   }
  },
  {
   "cell_type": "code",
   "execution_count": 11,
   "outputs": [
    {
     "data": {
      "text/plain": "0      22.0\n1      38.0\n2      26.0\n3      35.0\n4      35.0\n       ... \n886    27.0\n887    19.0\n888     NaN\n889    26.0\n890    32.0\nName: age, Length: 891, dtype: float64"
     },
     "execution_count": 11,
     "metadata": {},
     "output_type": "execute_result"
    }
   ],
   "source": [
    "titanic['age']"
   ],
   "metadata": {
    "collapsed": false,
    "pycharm": {
     "name": "#%%\n"
    }
   }
  },
  {
   "cell_type": "code",
   "execution_count": 12,
   "outputs": [
    {
     "data": {
      "text/plain": "pandas.core.series.Series"
     },
     "execution_count": 12,
     "metadata": {},
     "output_type": "execute_result"
    }
   ],
   "source": [
    "type(titanic['age'])"
   ],
   "metadata": {
    "collapsed": false,
    "pycharm": {
     "name": "#%%\n"
    }
   }
  },
  {
   "cell_type": "code",
   "execution_count": 13,
   "outputs": [
    {
     "data": {
      "text/plain": "      age     sex\n0    22.0    male\n1    38.0  female\n2    26.0  female\n3    35.0  female\n4    35.0    male\n..    ...     ...\n886  27.0    male\n887  19.0  female\n888   NaN  female\n889  26.0    male\n890  32.0    male\n\n[891 rows x 2 columns]",
      "text/html": "<div>\n<style scoped>\n    .dataframe tbody tr th:only-of-type {\n        vertical-align: middle;\n    }\n\n    .dataframe tbody tr th {\n        vertical-align: top;\n    }\n\n    .dataframe thead th {\n        text-align: right;\n    }\n</style>\n<table border=\"1\" class=\"dataframe\">\n  <thead>\n    <tr style=\"text-align: right;\">\n      <th></th>\n      <th>age</th>\n      <th>sex</th>\n    </tr>\n  </thead>\n  <tbody>\n    <tr>\n      <th>0</th>\n      <td>22.0</td>\n      <td>male</td>\n    </tr>\n    <tr>\n      <th>1</th>\n      <td>38.0</td>\n      <td>female</td>\n    </tr>\n    <tr>\n      <th>2</th>\n      <td>26.0</td>\n      <td>female</td>\n    </tr>\n    <tr>\n      <th>3</th>\n      <td>35.0</td>\n      <td>female</td>\n    </tr>\n    <tr>\n      <th>4</th>\n      <td>35.0</td>\n      <td>male</td>\n    </tr>\n    <tr>\n      <th>...</th>\n      <td>...</td>\n      <td>...</td>\n    </tr>\n    <tr>\n      <th>886</th>\n      <td>27.0</td>\n      <td>male</td>\n    </tr>\n    <tr>\n      <th>887</th>\n      <td>19.0</td>\n      <td>female</td>\n    </tr>\n    <tr>\n      <th>888</th>\n      <td>NaN</td>\n      <td>female</td>\n    </tr>\n    <tr>\n      <th>889</th>\n      <td>26.0</td>\n      <td>male</td>\n    </tr>\n    <tr>\n      <th>890</th>\n      <td>32.0</td>\n      <td>male</td>\n    </tr>\n  </tbody>\n</table>\n<p>891 rows × 2 columns</p>\n</div>"
     },
     "execution_count": 13,
     "metadata": {},
     "output_type": "execute_result"
    }
   ],
   "source": [
    "# Multiple column selection\n",
    "titanic[['age', 'sex']]"
   ],
   "metadata": {
    "collapsed": false,
    "pycharm": {
     "name": "#%%\n"
    }
   }
  },
  {
   "cell_type": "code",
   "execution_count": 14,
   "outputs": [
    {
     "data": {
      "text/plain": "pandas.core.frame.DataFrame"
     },
     "execution_count": 14,
     "metadata": {},
     "output_type": "execute_result"
    }
   ],
   "source": [
    "type(titanic[['age', 'sex']])"
   ],
   "metadata": {
    "collapsed": false,
    "pycharm": {
     "name": "#%%\n"
    }
   }
  },
  {
   "cell_type": "code",
   "execution_count": 15,
   "outputs": [
    {
     "data": {
      "text/plain": "        sex   age\n0      male  22.0\n1    female  38.0\n2    female  26.0\n3    female  35.0\n4      male  35.0\n..      ...   ...\n886    male  27.0\n887  female  19.0\n888  female   NaN\n889    male  26.0\n890    male  32.0\n\n[891 rows x 2 columns]",
      "text/html": "<div>\n<style scoped>\n    .dataframe tbody tr th:only-of-type {\n        vertical-align: middle;\n    }\n\n    .dataframe tbody tr th {\n        vertical-align: top;\n    }\n\n    .dataframe thead th {\n        text-align: right;\n    }\n</style>\n<table border=\"1\" class=\"dataframe\">\n  <thead>\n    <tr style=\"text-align: right;\">\n      <th></th>\n      <th>sex</th>\n      <th>age</th>\n    </tr>\n  </thead>\n  <tbody>\n    <tr>\n      <th>0</th>\n      <td>male</td>\n      <td>22.0</td>\n    </tr>\n    <tr>\n      <th>1</th>\n      <td>female</td>\n      <td>38.0</td>\n    </tr>\n    <tr>\n      <th>2</th>\n      <td>female</td>\n      <td>26.0</td>\n    </tr>\n    <tr>\n      <th>3</th>\n      <td>female</td>\n      <td>35.0</td>\n    </tr>\n    <tr>\n      <th>4</th>\n      <td>male</td>\n      <td>35.0</td>\n    </tr>\n    <tr>\n      <th>...</th>\n      <td>...</td>\n      <td>...</td>\n    </tr>\n    <tr>\n      <th>886</th>\n      <td>male</td>\n      <td>27.0</td>\n    </tr>\n    <tr>\n      <th>887</th>\n      <td>female</td>\n      <td>19.0</td>\n    </tr>\n    <tr>\n      <th>888</th>\n      <td>female</td>\n      <td>NaN</td>\n    </tr>\n    <tr>\n      <th>889</th>\n      <td>male</td>\n      <td>26.0</td>\n    </tr>\n    <tr>\n      <th>890</th>\n      <td>male</td>\n      <td>32.0</td>\n    </tr>\n  </tbody>\n</table>\n<p>891 rows × 2 columns</p>\n</div>"
     },
     "execution_count": 15,
     "metadata": {},
     "output_type": "execute_result"
    }
   ],
   "source": [
    "titanic[['sex', 'age']]"
   ],
   "metadata": {
    "collapsed": false,
    "pycharm": {
     "name": "#%%\n"
    }
   }
  },
  {
   "cell_type": "code",
   "execution_count": 16,
   "outputs": [
    {
     "data": {
      "text/plain": "pandas.core.frame.DataFrame"
     },
     "execution_count": 16,
     "metadata": {},
     "output_type": "execute_result"
    }
   ],
   "source": [
    "# Get a single column DataFrame\n",
    "type(titanic[['age']])"
   ],
   "metadata": {
    "collapsed": false,
    "pycharm": {
     "name": "#%%\n"
    }
   }
  },
  {
   "cell_type": "code",
   "execution_count": 17,
   "outputs": [
    {
     "data": {
      "text/plain": "0      22.0\n1      38.0\n2      26.0\n3      35.0\n4      35.0\n       ... \n886    27.0\n887    19.0\n888     NaN\n889    26.0\n890    32.0\nName: age, Length: 891, dtype: float64"
     },
     "execution_count": 17,
     "metadata": {},
     "output_type": "execute_result"
    }
   ],
   "source": [
    "# dot selection\n",
    "titanic.age"
   ],
   "metadata": {
    "collapsed": false,
    "pycharm": {
     "name": "#%%\n"
    }
   }
  },
  {
   "cell_type": "code",
   "execution_count": 18,
   "outputs": [
    {
     "data": {
      "text/plain": "True"
     },
     "execution_count": 18,
     "metadata": {},
     "output_type": "execute_result"
    }
   ],
   "source": [
    "titanic.age.equals(titanic['age'])"
   ],
   "metadata": {
    "collapsed": false,
    "pycharm": {
     "name": "#%%\n"
    }
   }
  },
  {
   "cell_type": "markdown",
   "source": [
    "## Selecting with iloc\n",
    "### Selecting Rows with iloc"
   ],
   "metadata": {
    "collapsed": false,
    "pycharm": {
     "name": "#%% md\n"
    }
   }
  },
  {
   "cell_type": "code",
   "execution_count": 19,
   "outputs": [],
   "source": [
    "summer = pd.read_csv('data/summer.csv', index_col='Athlete')"
   ],
   "metadata": {
    "collapsed": false,
    "pycharm": {
     "name": "#%%\n"
    }
   }
  },
  {
   "cell_type": "code",
   "execution_count": 20,
   "outputs": [
    {
     "data": {
      "text/plain": "                           Year    City      Sport           Discipline  \\\nAthlete                                                                   \nHAJOS, Alfred              1896  Athens   Aquatics             Swimming   \nHERSCHMANN, Otto           1896  Athens   Aquatics             Swimming   \nDRIVAS, Dimitrios          1896  Athens   Aquatics             Swimming   \nMALOKINIS, Ioannis         1896  Athens   Aquatics             Swimming   \nCHASAPIS, Spiridon         1896  Athens   Aquatics             Swimming   \n...                         ...     ...        ...                  ...   \nJANIKOWSKI, Damian         2012  London  Wrestling  Wrestling Freestyle   \nREZAEI, Ghasem Gholamreza  2012  London  Wrestling  Wrestling Freestyle   \nTOTROV, Rustam             2012  London  Wrestling  Wrestling Freestyle   \nALEKSANYAN, Artur          2012  London  Wrestling  Wrestling Freestyle   \nLIDBERG, Jimmy             2012  London  Wrestling  Wrestling Freestyle   \n\n                          Country Gender                       Event   Medal  \nAthlete                                                                       \nHAJOS, Alfred                 HUN    Men              100M Freestyle    Gold  \nHERSCHMANN, Otto              AUT    Men              100M Freestyle  Silver  \nDRIVAS, Dimitrios             GRE    Men  100M Freestyle For Sailors  Bronze  \nMALOKINIS, Ioannis            GRE    Men  100M Freestyle For Sailors    Gold  \nCHASAPIS, Spiridon            GRE    Men  100M Freestyle For Sailors  Silver  \n...                           ...    ...                         ...     ...  \nJANIKOWSKI, Damian            POL    Men                    Wg 84 KG  Bronze  \nREZAEI, Ghasem Gholamreza     IRI    Men                    Wg 96 KG    Gold  \nTOTROV, Rustam                RUS    Men                    Wg 96 KG  Silver  \nALEKSANYAN, Artur             ARM    Men                    Wg 96 KG  Bronze  \nLIDBERG, Jimmy                SWE    Men                    Wg 96 KG  Bronze  \n\n[31165 rows x 8 columns]",
      "text/html": "<div>\n<style scoped>\n    .dataframe tbody tr th:only-of-type {\n        vertical-align: middle;\n    }\n\n    .dataframe tbody tr th {\n        vertical-align: top;\n    }\n\n    .dataframe thead th {\n        text-align: right;\n    }\n</style>\n<table border=\"1\" class=\"dataframe\">\n  <thead>\n    <tr style=\"text-align: right;\">\n      <th></th>\n      <th>Year</th>\n      <th>City</th>\n      <th>Sport</th>\n      <th>Discipline</th>\n      <th>Country</th>\n      <th>Gender</th>\n      <th>Event</th>\n      <th>Medal</th>\n    </tr>\n    <tr>\n      <th>Athlete</th>\n      <th></th>\n      <th></th>\n      <th></th>\n      <th></th>\n      <th></th>\n      <th></th>\n      <th></th>\n      <th></th>\n    </tr>\n  </thead>\n  <tbody>\n    <tr>\n      <th>HAJOS, Alfred</th>\n      <td>1896</td>\n      <td>Athens</td>\n      <td>Aquatics</td>\n      <td>Swimming</td>\n      <td>HUN</td>\n      <td>Men</td>\n      <td>100M Freestyle</td>\n      <td>Gold</td>\n    </tr>\n    <tr>\n      <th>HERSCHMANN, Otto</th>\n      <td>1896</td>\n      <td>Athens</td>\n      <td>Aquatics</td>\n      <td>Swimming</td>\n      <td>AUT</td>\n      <td>Men</td>\n      <td>100M Freestyle</td>\n      <td>Silver</td>\n    </tr>\n    <tr>\n      <th>DRIVAS, Dimitrios</th>\n      <td>1896</td>\n      <td>Athens</td>\n      <td>Aquatics</td>\n      <td>Swimming</td>\n      <td>GRE</td>\n      <td>Men</td>\n      <td>100M Freestyle For Sailors</td>\n      <td>Bronze</td>\n    </tr>\n    <tr>\n      <th>MALOKINIS, Ioannis</th>\n      <td>1896</td>\n      <td>Athens</td>\n      <td>Aquatics</td>\n      <td>Swimming</td>\n      <td>GRE</td>\n      <td>Men</td>\n      <td>100M Freestyle For Sailors</td>\n      <td>Gold</td>\n    </tr>\n    <tr>\n      <th>CHASAPIS, Spiridon</th>\n      <td>1896</td>\n      <td>Athens</td>\n      <td>Aquatics</td>\n      <td>Swimming</td>\n      <td>GRE</td>\n      <td>Men</td>\n      <td>100M Freestyle For Sailors</td>\n      <td>Silver</td>\n    </tr>\n    <tr>\n      <th>...</th>\n      <td>...</td>\n      <td>...</td>\n      <td>...</td>\n      <td>...</td>\n      <td>...</td>\n      <td>...</td>\n      <td>...</td>\n      <td>...</td>\n    </tr>\n    <tr>\n      <th>JANIKOWSKI, Damian</th>\n      <td>2012</td>\n      <td>London</td>\n      <td>Wrestling</td>\n      <td>Wrestling Freestyle</td>\n      <td>POL</td>\n      <td>Men</td>\n      <td>Wg 84 KG</td>\n      <td>Bronze</td>\n    </tr>\n    <tr>\n      <th>REZAEI, Ghasem Gholamreza</th>\n      <td>2012</td>\n      <td>London</td>\n      <td>Wrestling</td>\n      <td>Wrestling Freestyle</td>\n      <td>IRI</td>\n      <td>Men</td>\n      <td>Wg 96 KG</td>\n      <td>Gold</td>\n    </tr>\n    <tr>\n      <th>TOTROV, Rustam</th>\n      <td>2012</td>\n      <td>London</td>\n      <td>Wrestling</td>\n      <td>Wrestling Freestyle</td>\n      <td>RUS</td>\n      <td>Men</td>\n      <td>Wg 96 KG</td>\n      <td>Silver</td>\n    </tr>\n    <tr>\n      <th>ALEKSANYAN, Artur</th>\n      <td>2012</td>\n      <td>London</td>\n      <td>Wrestling</td>\n      <td>Wrestling Freestyle</td>\n      <td>ARM</td>\n      <td>Men</td>\n      <td>Wg 96 KG</td>\n      <td>Bronze</td>\n    </tr>\n    <tr>\n      <th>LIDBERG, Jimmy</th>\n      <td>2012</td>\n      <td>London</td>\n      <td>Wrestling</td>\n      <td>Wrestling Freestyle</td>\n      <td>SWE</td>\n      <td>Men</td>\n      <td>Wg 96 KG</td>\n      <td>Bronze</td>\n    </tr>\n  </tbody>\n</table>\n<p>31165 rows × 8 columns</p>\n</div>"
     },
     "execution_count": 20,
     "metadata": {},
     "output_type": "execute_result"
    }
   ],
   "source": [
    "summer"
   ],
   "metadata": {
    "collapsed": false,
    "pycharm": {
     "name": "#%%\n"
    }
   }
  },
  {
   "cell_type": "code",
   "execution_count": 21,
   "outputs": [
    {
     "name": "stdout",
     "output_type": "stream",
     "text": [
      "<class 'pandas.core.frame.DataFrame'>\n",
      "Index: 31165 entries, HAJOS, Alfred to LIDBERG, Jimmy\n",
      "Data columns (total 8 columns):\n",
      " #   Column      Non-Null Count  Dtype \n",
      "---  ------      --------------  ----- \n",
      " 0   Year        31165 non-null  int64 \n",
      " 1   City        31165 non-null  object\n",
      " 2   Sport       31165 non-null  object\n",
      " 3   Discipline  31165 non-null  object\n",
      " 4   Country     31161 non-null  object\n",
      " 5   Gender      31165 non-null  object\n",
      " 6   Event       31165 non-null  object\n",
      " 7   Medal       31165 non-null  object\n",
      "dtypes: int64(1), object(7)\n",
      "memory usage: 2.1+ MB\n"
     ]
    }
   ],
   "source": [
    "summer.info()"
   ],
   "metadata": {
    "collapsed": false,
    "pycharm": {
     "name": "#%%\n"
    }
   }
  },
  {
   "cell_type": "code",
   "execution_count": 22,
   "outputs": [
    {
     "data": {
      "text/plain": "Year                    1896\nCity                  Athens\nSport               Aquatics\nDiscipline          Swimming\nCountry                  HUN\nGender                   Men\nEvent         100M Freestyle\nMedal                   Gold\nName: HAJOS, Alfred, dtype: object"
     },
     "execution_count": 22,
     "metadata": {},
     "output_type": "execute_result"
    }
   ],
   "source": [
    "summer.iloc[0]"
   ],
   "metadata": {
    "collapsed": false,
    "pycharm": {
     "name": "#%%\n"
    }
   }
  },
  {
   "cell_type": "code",
   "execution_count": 23,
   "outputs": [
    {
     "data": {
      "text/plain": "pandas.core.series.Series"
     },
     "execution_count": 23,
     "metadata": {},
     "output_type": "execute_result"
    }
   ],
   "source": [
    "type(summer.iloc[0])"
   ],
   "metadata": {
    "collapsed": false,
    "pycharm": {
     "name": "#%%\n"
    }
   }
  },
  {
   "cell_type": "code",
   "execution_count": 24,
   "outputs": [
    {
     "data": {
      "text/plain": "Year                    1896\nCity                  Athens\nSport               Aquatics\nDiscipline          Swimming\nCountry                  AUT\nGender                   Men\nEvent         100M Freestyle\nMedal                 Silver\nName: HERSCHMANN, Otto, dtype: object"
     },
     "execution_count": 24,
     "metadata": {},
     "output_type": "execute_result"
    }
   ],
   "source": [
    "summer.iloc[1]"
   ],
   "metadata": {
    "collapsed": false,
    "pycharm": {
     "name": "#%%\n"
    }
   }
  },
  {
   "cell_type": "code",
   "execution_count": 25,
   "outputs": [
    {
     "data": {
      "text/plain": "Year                         2012\nCity                       London\nSport                   Wrestling\nDiscipline    Wrestling Freestyle\nCountry                       SWE\nGender                        Men\nEvent                    Wg 96 KG\nMedal                      Bronze\nName: LIDBERG, Jimmy, dtype: object"
     },
     "execution_count": 25,
     "metadata": {},
     "output_type": "execute_result"
    }
   ],
   "source": [
    "summer.iloc[-1]"
   ],
   "metadata": {
    "collapsed": false,
    "pycharm": {
     "name": "#%%\n"
    }
   }
  },
  {
   "cell_type": "code",
   "execution_count": 26,
   "outputs": [
    {
     "data": {
      "text/plain": "                   Year    City     Sport Discipline Country Gender  \\\nAthlete                                                               \nHAJOS, Alfred      1896  Athens  Aquatics   Swimming     HUN    Men   \nHERSCHMANN, Otto   1896  Athens  Aquatics   Swimming     AUT    Men   \nDRIVAS, Dimitrios  1896  Athens  Aquatics   Swimming     GRE    Men   \n\n                                        Event   Medal  \nAthlete                                                \nHAJOS, Alfred                  100M Freestyle    Gold  \nHERSCHMANN, Otto               100M Freestyle  Silver  \nDRIVAS, Dimitrios  100M Freestyle For Sailors  Bronze  ",
      "text/html": "<div>\n<style scoped>\n    .dataframe tbody tr th:only-of-type {\n        vertical-align: middle;\n    }\n\n    .dataframe tbody tr th {\n        vertical-align: top;\n    }\n\n    .dataframe thead th {\n        text-align: right;\n    }\n</style>\n<table border=\"1\" class=\"dataframe\">\n  <thead>\n    <tr style=\"text-align: right;\">\n      <th></th>\n      <th>Year</th>\n      <th>City</th>\n      <th>Sport</th>\n      <th>Discipline</th>\n      <th>Country</th>\n      <th>Gender</th>\n      <th>Event</th>\n      <th>Medal</th>\n    </tr>\n    <tr>\n      <th>Athlete</th>\n      <th></th>\n      <th></th>\n      <th></th>\n      <th></th>\n      <th></th>\n      <th></th>\n      <th></th>\n      <th></th>\n    </tr>\n  </thead>\n  <tbody>\n    <tr>\n      <th>HAJOS, Alfred</th>\n      <td>1896</td>\n      <td>Athens</td>\n      <td>Aquatics</td>\n      <td>Swimming</td>\n      <td>HUN</td>\n      <td>Men</td>\n      <td>100M Freestyle</td>\n      <td>Gold</td>\n    </tr>\n    <tr>\n      <th>HERSCHMANN, Otto</th>\n      <td>1896</td>\n      <td>Athens</td>\n      <td>Aquatics</td>\n      <td>Swimming</td>\n      <td>AUT</td>\n      <td>Men</td>\n      <td>100M Freestyle</td>\n      <td>Silver</td>\n    </tr>\n    <tr>\n      <th>DRIVAS, Dimitrios</th>\n      <td>1896</td>\n      <td>Athens</td>\n      <td>Aquatics</td>\n      <td>Swimming</td>\n      <td>GRE</td>\n      <td>Men</td>\n      <td>100M Freestyle For Sailors</td>\n      <td>Bronze</td>\n    </tr>\n  </tbody>\n</table>\n</div>"
     },
     "execution_count": 26,
     "metadata": {},
     "output_type": "execute_result"
    }
   ],
   "source": [
    "summer.iloc[[0, 1, 2]]"
   ],
   "metadata": {
    "collapsed": false,
    "pycharm": {
     "name": "#%%\n"
    }
   }
  },
  {
   "cell_type": "code",
   "execution_count": 27,
   "outputs": [
    {
     "data": {
      "text/plain": "                    Year    City     Sport Discipline Country Gender  \\\nAthlete                                                                \nHERSCHMANN, Otto    1896  Athens  Aquatics   Swimming     AUT    Men   \nDRIVAS, Dimitrios   1896  Athens  Aquatics   Swimming     GRE    Men   \nMALOKINIS, Ioannis  1896  Athens  Aquatics   Swimming     GRE    Men   \n\n                                         Event   Medal  \nAthlete                                                 \nHERSCHMANN, Otto                100M Freestyle  Silver  \nDRIVAS, Dimitrios   100M Freestyle For Sailors  Bronze  \nMALOKINIS, Ioannis  100M Freestyle For Sailors    Gold  ",
      "text/html": "<div>\n<style scoped>\n    .dataframe tbody tr th:only-of-type {\n        vertical-align: middle;\n    }\n\n    .dataframe tbody tr th {\n        vertical-align: top;\n    }\n\n    .dataframe thead th {\n        text-align: right;\n    }\n</style>\n<table border=\"1\" class=\"dataframe\">\n  <thead>\n    <tr style=\"text-align: right;\">\n      <th></th>\n      <th>Year</th>\n      <th>City</th>\n      <th>Sport</th>\n      <th>Discipline</th>\n      <th>Country</th>\n      <th>Gender</th>\n      <th>Event</th>\n      <th>Medal</th>\n    </tr>\n    <tr>\n      <th>Athlete</th>\n      <th></th>\n      <th></th>\n      <th></th>\n      <th></th>\n      <th></th>\n      <th></th>\n      <th></th>\n      <th></th>\n    </tr>\n  </thead>\n  <tbody>\n    <tr>\n      <th>HERSCHMANN, Otto</th>\n      <td>1896</td>\n      <td>Athens</td>\n      <td>Aquatics</td>\n      <td>Swimming</td>\n      <td>AUT</td>\n      <td>Men</td>\n      <td>100M Freestyle</td>\n      <td>Silver</td>\n    </tr>\n    <tr>\n      <th>DRIVAS, Dimitrios</th>\n      <td>1896</td>\n      <td>Athens</td>\n      <td>Aquatics</td>\n      <td>Swimming</td>\n      <td>GRE</td>\n      <td>Men</td>\n      <td>100M Freestyle For Sailors</td>\n      <td>Bronze</td>\n    </tr>\n    <tr>\n      <th>MALOKINIS, Ioannis</th>\n      <td>1896</td>\n      <td>Athens</td>\n      <td>Aquatics</td>\n      <td>Swimming</td>\n      <td>GRE</td>\n      <td>Men</td>\n      <td>100M Freestyle For Sailors</td>\n      <td>Gold</td>\n    </tr>\n  </tbody>\n</table>\n</div>"
     },
     "execution_count": 27,
     "metadata": {},
     "output_type": "execute_result"
    }
   ],
   "source": [
    "summer.iloc[1:4]"
   ],
   "metadata": {
    "collapsed": false,
    "pycharm": {
     "name": "#%%\n"
    }
   }
  },
  {
   "cell_type": "code",
   "execution_count": 28,
   "outputs": [
    {
     "data": {
      "text/plain": "                    Year    City     Sport Discipline Country Gender  \\\nAthlete                                                                \nHAJOS, Alfred       1896  Athens  Aquatics   Swimming     HUN    Men   \nHERSCHMANN, Otto    1896  Athens  Aquatics   Swimming     AUT    Men   \nDRIVAS, Dimitrios   1896  Athens  Aquatics   Swimming     GRE    Men   \nMALOKINIS, Ioannis  1896  Athens  Aquatics   Swimming     GRE    Men   \nCHASAPIS, Spiridon  1896  Athens  Aquatics   Swimming     GRE    Men   \n\n                                         Event   Medal  \nAthlete                                                 \nHAJOS, Alfred                   100M Freestyle    Gold  \nHERSCHMANN, Otto                100M Freestyle  Silver  \nDRIVAS, Dimitrios   100M Freestyle For Sailors  Bronze  \nMALOKINIS, Ioannis  100M Freestyle For Sailors    Gold  \nCHASAPIS, Spiridon  100M Freestyle For Sailors  Silver  ",
      "text/html": "<div>\n<style scoped>\n    .dataframe tbody tr th:only-of-type {\n        vertical-align: middle;\n    }\n\n    .dataframe tbody tr th {\n        vertical-align: top;\n    }\n\n    .dataframe thead th {\n        text-align: right;\n    }\n</style>\n<table border=\"1\" class=\"dataframe\">\n  <thead>\n    <tr style=\"text-align: right;\">\n      <th></th>\n      <th>Year</th>\n      <th>City</th>\n      <th>Sport</th>\n      <th>Discipline</th>\n      <th>Country</th>\n      <th>Gender</th>\n      <th>Event</th>\n      <th>Medal</th>\n    </tr>\n    <tr>\n      <th>Athlete</th>\n      <th></th>\n      <th></th>\n      <th></th>\n      <th></th>\n      <th></th>\n      <th></th>\n      <th></th>\n      <th></th>\n    </tr>\n  </thead>\n  <tbody>\n    <tr>\n      <th>HAJOS, Alfred</th>\n      <td>1896</td>\n      <td>Athens</td>\n      <td>Aquatics</td>\n      <td>Swimming</td>\n      <td>HUN</td>\n      <td>Men</td>\n      <td>100M Freestyle</td>\n      <td>Gold</td>\n    </tr>\n    <tr>\n      <th>HERSCHMANN, Otto</th>\n      <td>1896</td>\n      <td>Athens</td>\n      <td>Aquatics</td>\n      <td>Swimming</td>\n      <td>AUT</td>\n      <td>Men</td>\n      <td>100M Freestyle</td>\n      <td>Silver</td>\n    </tr>\n    <tr>\n      <th>DRIVAS, Dimitrios</th>\n      <td>1896</td>\n      <td>Athens</td>\n      <td>Aquatics</td>\n      <td>Swimming</td>\n      <td>GRE</td>\n      <td>Men</td>\n      <td>100M Freestyle For Sailors</td>\n      <td>Bronze</td>\n    </tr>\n    <tr>\n      <th>MALOKINIS, Ioannis</th>\n      <td>1896</td>\n      <td>Athens</td>\n      <td>Aquatics</td>\n      <td>Swimming</td>\n      <td>GRE</td>\n      <td>Men</td>\n      <td>100M Freestyle For Sailors</td>\n      <td>Gold</td>\n    </tr>\n    <tr>\n      <th>CHASAPIS, Spiridon</th>\n      <td>1896</td>\n      <td>Athens</td>\n      <td>Aquatics</td>\n      <td>Swimming</td>\n      <td>GRE</td>\n      <td>Men</td>\n      <td>100M Freestyle For Sailors</td>\n      <td>Silver</td>\n    </tr>\n  </tbody>\n</table>\n</div>"
     },
     "execution_count": 28,
     "metadata": {},
     "output_type": "execute_result"
    }
   ],
   "source": [
    "summer.iloc[:5]"
   ],
   "metadata": {
    "collapsed": false,
    "pycharm": {
     "name": "#%%\n"
    }
   }
  },
  {
   "cell_type": "code",
   "execution_count": 29,
   "outputs": [
    {
     "data": {
      "text/plain": "                           Year    City      Sport           Discipline  \\\nAthlete                                                                   \nJANIKOWSKI, Damian         2012  London  Wrestling  Wrestling Freestyle   \nREZAEI, Ghasem Gholamreza  2012  London  Wrestling  Wrestling Freestyle   \nTOTROV, Rustam             2012  London  Wrestling  Wrestling Freestyle   \nALEKSANYAN, Artur          2012  London  Wrestling  Wrestling Freestyle   \nLIDBERG, Jimmy             2012  London  Wrestling  Wrestling Freestyle   \n\n                          Country Gender     Event   Medal  \nAthlete                                                     \nJANIKOWSKI, Damian            POL    Men  Wg 84 KG  Bronze  \nREZAEI, Ghasem Gholamreza     IRI    Men  Wg 96 KG    Gold  \nTOTROV, Rustam                RUS    Men  Wg 96 KG  Silver  \nALEKSANYAN, Artur             ARM    Men  Wg 96 KG  Bronze  \nLIDBERG, Jimmy                SWE    Men  Wg 96 KG  Bronze  ",
      "text/html": "<div>\n<style scoped>\n    .dataframe tbody tr th:only-of-type {\n        vertical-align: middle;\n    }\n\n    .dataframe tbody tr th {\n        vertical-align: top;\n    }\n\n    .dataframe thead th {\n        text-align: right;\n    }\n</style>\n<table border=\"1\" class=\"dataframe\">\n  <thead>\n    <tr style=\"text-align: right;\">\n      <th></th>\n      <th>Year</th>\n      <th>City</th>\n      <th>Sport</th>\n      <th>Discipline</th>\n      <th>Country</th>\n      <th>Gender</th>\n      <th>Event</th>\n      <th>Medal</th>\n    </tr>\n    <tr>\n      <th>Athlete</th>\n      <th></th>\n      <th></th>\n      <th></th>\n      <th></th>\n      <th></th>\n      <th></th>\n      <th></th>\n      <th></th>\n    </tr>\n  </thead>\n  <tbody>\n    <tr>\n      <th>JANIKOWSKI, Damian</th>\n      <td>2012</td>\n      <td>London</td>\n      <td>Wrestling</td>\n      <td>Wrestling Freestyle</td>\n      <td>POL</td>\n      <td>Men</td>\n      <td>Wg 84 KG</td>\n      <td>Bronze</td>\n    </tr>\n    <tr>\n      <th>REZAEI, Ghasem Gholamreza</th>\n      <td>2012</td>\n      <td>London</td>\n      <td>Wrestling</td>\n      <td>Wrestling Freestyle</td>\n      <td>IRI</td>\n      <td>Men</td>\n      <td>Wg 96 KG</td>\n      <td>Gold</td>\n    </tr>\n    <tr>\n      <th>TOTROV, Rustam</th>\n      <td>2012</td>\n      <td>London</td>\n      <td>Wrestling</td>\n      <td>Wrestling Freestyle</td>\n      <td>RUS</td>\n      <td>Men</td>\n      <td>Wg 96 KG</td>\n      <td>Silver</td>\n    </tr>\n    <tr>\n      <th>ALEKSANYAN, Artur</th>\n      <td>2012</td>\n      <td>London</td>\n      <td>Wrestling</td>\n      <td>Wrestling Freestyle</td>\n      <td>ARM</td>\n      <td>Men</td>\n      <td>Wg 96 KG</td>\n      <td>Bronze</td>\n    </tr>\n    <tr>\n      <th>LIDBERG, Jimmy</th>\n      <td>2012</td>\n      <td>London</td>\n      <td>Wrestling</td>\n      <td>Wrestling Freestyle</td>\n      <td>SWE</td>\n      <td>Men</td>\n      <td>Wg 96 KG</td>\n      <td>Bronze</td>\n    </tr>\n  </tbody>\n</table>\n</div>"
     },
     "execution_count": 29,
     "metadata": {},
     "output_type": "execute_result"
    }
   ],
   "source": [
    "summer.iloc[-5:]"
   ],
   "metadata": {
    "collapsed": false,
    "pycharm": {
     "name": "#%%\n"
    }
   }
  },
  {
   "cell_type": "code",
   "execution_count": 30,
   "outputs": [
    {
     "data": {
      "text/plain": "                   Year       City       Sport   Discipline Country Gender  \\\nAthlete                                                                      \nDRIVAS, Dimitrios  1896     Athens    Aquatics     Swimming     GRE    Men   \nPERSAKIS, Ioannis  1896     Athens   Athletics    Athletics     GRE    Men   \nPOLAK, Ans         1928  Amsterdam  Gymnastics  Artistic G.     NED  Women   \n\n                                        Event   Medal  \nAthlete                                                \nDRIVAS, Dimitrios  100M Freestyle For Sailors  Bronze  \nPERSAKIS, Ioannis                 Triple Jump  Bronze  \nPOLAK, Ans                   Team Competition    Gold  ",
      "text/html": "<div>\n<style scoped>\n    .dataframe tbody tr th:only-of-type {\n        vertical-align: middle;\n    }\n\n    .dataframe tbody tr th {\n        vertical-align: top;\n    }\n\n    .dataframe thead th {\n        text-align: right;\n    }\n</style>\n<table border=\"1\" class=\"dataframe\">\n  <thead>\n    <tr style=\"text-align: right;\">\n      <th></th>\n      <th>Year</th>\n      <th>City</th>\n      <th>Sport</th>\n      <th>Discipline</th>\n      <th>Country</th>\n      <th>Gender</th>\n      <th>Event</th>\n      <th>Medal</th>\n    </tr>\n    <tr>\n      <th>Athlete</th>\n      <th></th>\n      <th></th>\n      <th></th>\n      <th></th>\n      <th></th>\n      <th></th>\n      <th></th>\n      <th></th>\n    </tr>\n  </thead>\n  <tbody>\n    <tr>\n      <th>DRIVAS, Dimitrios</th>\n      <td>1896</td>\n      <td>Athens</td>\n      <td>Aquatics</td>\n      <td>Swimming</td>\n      <td>GRE</td>\n      <td>Men</td>\n      <td>100M Freestyle For Sailors</td>\n      <td>Bronze</td>\n    </tr>\n    <tr>\n      <th>PERSAKIS, Ioannis</th>\n      <td>1896</td>\n      <td>Athens</td>\n      <td>Athletics</td>\n      <td>Athletics</td>\n      <td>GRE</td>\n      <td>Men</td>\n      <td>Triple Jump</td>\n      <td>Bronze</td>\n    </tr>\n    <tr>\n      <th>POLAK, Ans</th>\n      <td>1928</td>\n      <td>Amsterdam</td>\n      <td>Gymnastics</td>\n      <td>Artistic G.</td>\n      <td>NED</td>\n      <td>Women</td>\n      <td>Team Competition</td>\n      <td>Gold</td>\n    </tr>\n  </tbody>\n</table>\n</div>"
     },
     "execution_count": 30,
     "metadata": {},
     "output_type": "execute_result"
    }
   ],
   "source": [
    "summer.iloc[[2, 45, 5467]]"
   ],
   "metadata": {
    "collapsed": false,
    "pycharm": {
     "name": "#%%\n"
    }
   }
  },
  {
   "cell_type": "code",
   "execution_count": 31,
   "outputs": [
    {
     "data": {
      "text/plain": "                       Year    City     Sport Discipline Country Gender  \\\nAthlete                                                                   \nHAJOS, Alfred          1896  Athens  Aquatics   Swimming     HUN    Men   \nHERSCHMANN, Otto       1896  Athens  Aquatics   Swimming     AUT    Men   \nDRIVAS, Dimitrios      1896  Athens  Aquatics   Swimming     GRE    Men   \nMALOKINIS, Ioannis     1896  Athens  Aquatics   Swimming     GRE    Men   \nCHASAPIS, Spiridon     1896  Athens  Aquatics   Swimming     GRE    Men   \nCHOROPHAS, Efstathios  1896  Athens  Aquatics   Swimming     GRE    Men   \nHAJOS, Alfred          1896  Athens  Aquatics   Swimming     HUN    Men   \nANDREOU, Joannis       1896  Athens  Aquatics   Swimming     GRE    Men   \nCHOROPHAS, Efstathios  1896  Athens  Aquatics   Swimming     GRE    Men   \nNEUMANN, Paul          1896  Athens  Aquatics   Swimming     AUT    Men   \n\n                                            Event   Medal  \nAthlete                                                    \nHAJOS, Alfred                      100M Freestyle    Gold  \nHERSCHMANN, Otto                   100M Freestyle  Silver  \nDRIVAS, Dimitrios      100M Freestyle For Sailors  Bronze  \nMALOKINIS, Ioannis     100M Freestyle For Sailors    Gold  \nCHASAPIS, Spiridon     100M Freestyle For Sailors  Silver  \nCHOROPHAS, Efstathios             1200M Freestyle  Bronze  \nHAJOS, Alfred                     1200M Freestyle    Gold  \nANDREOU, Joannis                  1200M Freestyle  Silver  \nCHOROPHAS, Efstathios              400M Freestyle  Bronze  \nNEUMANN, Paul                      400M Freestyle    Gold  ",
      "text/html": "<div>\n<style scoped>\n    .dataframe tbody tr th:only-of-type {\n        vertical-align: middle;\n    }\n\n    .dataframe tbody tr th {\n        vertical-align: top;\n    }\n\n    .dataframe thead th {\n        text-align: right;\n    }\n</style>\n<table border=\"1\" class=\"dataframe\">\n  <thead>\n    <tr style=\"text-align: right;\">\n      <th></th>\n      <th>Year</th>\n      <th>City</th>\n      <th>Sport</th>\n      <th>Discipline</th>\n      <th>Country</th>\n      <th>Gender</th>\n      <th>Event</th>\n      <th>Medal</th>\n    </tr>\n    <tr>\n      <th>Athlete</th>\n      <th></th>\n      <th></th>\n      <th></th>\n      <th></th>\n      <th></th>\n      <th></th>\n      <th></th>\n      <th></th>\n    </tr>\n  </thead>\n  <tbody>\n    <tr>\n      <th>HAJOS, Alfred</th>\n      <td>1896</td>\n      <td>Athens</td>\n      <td>Aquatics</td>\n      <td>Swimming</td>\n      <td>HUN</td>\n      <td>Men</td>\n      <td>100M Freestyle</td>\n      <td>Gold</td>\n    </tr>\n    <tr>\n      <th>HERSCHMANN, Otto</th>\n      <td>1896</td>\n      <td>Athens</td>\n      <td>Aquatics</td>\n      <td>Swimming</td>\n      <td>AUT</td>\n      <td>Men</td>\n      <td>100M Freestyle</td>\n      <td>Silver</td>\n    </tr>\n    <tr>\n      <th>DRIVAS, Dimitrios</th>\n      <td>1896</td>\n      <td>Athens</td>\n      <td>Aquatics</td>\n      <td>Swimming</td>\n      <td>GRE</td>\n      <td>Men</td>\n      <td>100M Freestyle For Sailors</td>\n      <td>Bronze</td>\n    </tr>\n    <tr>\n      <th>MALOKINIS, Ioannis</th>\n      <td>1896</td>\n      <td>Athens</td>\n      <td>Aquatics</td>\n      <td>Swimming</td>\n      <td>GRE</td>\n      <td>Men</td>\n      <td>100M Freestyle For Sailors</td>\n      <td>Gold</td>\n    </tr>\n    <tr>\n      <th>CHASAPIS, Spiridon</th>\n      <td>1896</td>\n      <td>Athens</td>\n      <td>Aquatics</td>\n      <td>Swimming</td>\n      <td>GRE</td>\n      <td>Men</td>\n      <td>100M Freestyle For Sailors</td>\n      <td>Silver</td>\n    </tr>\n    <tr>\n      <th>CHOROPHAS, Efstathios</th>\n      <td>1896</td>\n      <td>Athens</td>\n      <td>Aquatics</td>\n      <td>Swimming</td>\n      <td>GRE</td>\n      <td>Men</td>\n      <td>1200M Freestyle</td>\n      <td>Bronze</td>\n    </tr>\n    <tr>\n      <th>HAJOS, Alfred</th>\n      <td>1896</td>\n      <td>Athens</td>\n      <td>Aquatics</td>\n      <td>Swimming</td>\n      <td>HUN</td>\n      <td>Men</td>\n      <td>1200M Freestyle</td>\n      <td>Gold</td>\n    </tr>\n    <tr>\n      <th>ANDREOU, Joannis</th>\n      <td>1896</td>\n      <td>Athens</td>\n      <td>Aquatics</td>\n      <td>Swimming</td>\n      <td>GRE</td>\n      <td>Men</td>\n      <td>1200M Freestyle</td>\n      <td>Silver</td>\n    </tr>\n    <tr>\n      <th>CHOROPHAS, Efstathios</th>\n      <td>1896</td>\n      <td>Athens</td>\n      <td>Aquatics</td>\n      <td>Swimming</td>\n      <td>GRE</td>\n      <td>Men</td>\n      <td>400M Freestyle</td>\n      <td>Bronze</td>\n    </tr>\n    <tr>\n      <th>NEUMANN, Paul</th>\n      <td>1896</td>\n      <td>Athens</td>\n      <td>Aquatics</td>\n      <td>Swimming</td>\n      <td>AUT</td>\n      <td>Men</td>\n      <td>400M Freestyle</td>\n      <td>Gold</td>\n    </tr>\n  </tbody>\n</table>\n</div>"
     },
     "execution_count": 31,
     "metadata": {},
     "output_type": "execute_result"
    }
   ],
   "source": [
    "summer.head(10)"
   ],
   "metadata": {
    "collapsed": false,
    "pycharm": {
     "name": "#%%\n"
    }
   }
  },
  {
   "cell_type": "code",
   "execution_count": 32,
   "outputs": [
    {
     "data": {
      "text/plain": "'HUN'"
     },
     "execution_count": 32,
     "metadata": {},
     "output_type": "execute_result"
    }
   ],
   "source": [
    "summer.iloc[0, 4]"
   ],
   "metadata": {
    "collapsed": false,
    "pycharm": {
     "name": "#%%\n"
    }
   }
  },
  {
   "cell_type": "code",
   "execution_count": 34,
   "outputs": [
    {
     "data": {
      "text/plain": "Year         1896\nCity       Athens\nSport    Aquatics\nName: HAJOS, Alfred, dtype: object"
     },
     "execution_count": 34,
     "metadata": {},
     "output_type": "execute_result"
    }
   ],
   "source": [
    "summer.iloc[0, :3]"
   ],
   "metadata": {
    "collapsed": false,
    "pycharm": {
     "name": "#%%\n"
    }
   }
  },
  {
   "cell_type": "code",
   "execution_count": 35,
   "outputs": [
    {
     "data": {
      "text/plain": "Year          1896\nSport     Aquatics\nGender         Men\nMedal         Gold\nName: HAJOS, Alfred, dtype: object"
     },
     "execution_count": 35,
     "metadata": {},
     "output_type": "execute_result"
    }
   ],
   "source": [
    "summer.iloc[0, [0, 2, 5, 7]]"
   ],
   "metadata": {
    "collapsed": false,
    "pycharm": {
     "name": "#%%\n"
    }
   }
  },
  {
   "cell_type": "code",
   "execution_count": 36,
   "outputs": [
    {
     "data": {
      "text/plain": "                      Year      Sport Gender   Medal\nAthlete                                             \nGARRETT, Robert       1896  Athletics    Men  Silver\nKELLNER, Gyula        1896  Athletics    Men  Bronze\nLOUIS, Spyridon       1896  Athletics    Men    Gold\nVASILAKOS, Kharilaos  1896  Athletics    Men  Silver\nDAMASKOS, Evangelos   1896  Athletics    Men  Bronze",
      "text/html": "<div>\n<style scoped>\n    .dataframe tbody tr th:only-of-type {\n        vertical-align: middle;\n    }\n\n    .dataframe tbody tr th {\n        vertical-align: top;\n    }\n\n    .dataframe thead th {\n        text-align: right;\n    }\n</style>\n<table border=\"1\" class=\"dataframe\">\n  <thead>\n    <tr style=\"text-align: right;\">\n      <th></th>\n      <th>Year</th>\n      <th>Sport</th>\n      <th>Gender</th>\n      <th>Medal</th>\n    </tr>\n    <tr>\n      <th>Athlete</th>\n      <th></th>\n      <th></th>\n      <th></th>\n      <th></th>\n    </tr>\n  </thead>\n  <tbody>\n    <tr>\n      <th>GARRETT, Robert</th>\n      <td>1896</td>\n      <td>Athletics</td>\n      <td>Men</td>\n      <td>Silver</td>\n    </tr>\n    <tr>\n      <th>KELLNER, Gyula</th>\n      <td>1896</td>\n      <td>Athletics</td>\n      <td>Men</td>\n      <td>Bronze</td>\n    </tr>\n    <tr>\n      <th>LOUIS, Spyridon</th>\n      <td>1896</td>\n      <td>Athletics</td>\n      <td>Men</td>\n      <td>Gold</td>\n    </tr>\n    <tr>\n      <th>VASILAKOS, Kharilaos</th>\n      <td>1896</td>\n      <td>Athletics</td>\n      <td>Men</td>\n      <td>Silver</td>\n    </tr>\n    <tr>\n      <th>DAMASKOS, Evangelos</th>\n      <td>1896</td>\n      <td>Athletics</td>\n      <td>Men</td>\n      <td>Bronze</td>\n    </tr>\n  </tbody>\n</table>\n</div>"
     },
     "execution_count": 36,
     "metadata": {},
     "output_type": "execute_result"
    }
   ],
   "source": [
    "summer.iloc[34:39, [0, 2, 5, 7]]"
   ],
   "metadata": {
    "collapsed": false,
    "pycharm": {
     "name": "#%%\n"
    }
   }
  },
  {
   "cell_type": "code",
   "execution_count": 37,
   "outputs": [
    {
     "data": {
      "text/plain": "Athlete\nHAJOS, Alfred                HUN\nHERSCHMANN, Otto             AUT\nDRIVAS, Dimitrios            GRE\nMALOKINIS, Ioannis           GRE\nCHASAPIS, Spiridon           GRE\n                            ... \nJANIKOWSKI, Damian           POL\nREZAEI, Ghasem Gholamreza    IRI\nTOTROV, Rustam               RUS\nALEKSANYAN, Artur            ARM\nLIDBERG, Jimmy               SWE\nName: Country, Length: 31165, dtype: object"
     },
     "execution_count": 37,
     "metadata": {},
     "output_type": "execute_result"
    }
   ],
   "source": [
    "summer.iloc[:, 4]"
   ],
   "metadata": {
    "collapsed": false,
    "pycharm": {
     "name": "#%%\n"
    }
   }
  },
  {
   "cell_type": "code",
   "execution_count": 38,
   "outputs": [
    {
     "data": {
      "text/plain": "True"
     },
     "execution_count": 38,
     "metadata": {},
     "output_type": "execute_result"
    }
   ],
   "source": [
    "summer.iloc[:, 4].equals(summer.Country)"
   ],
   "metadata": {
    "collapsed": false,
    "pycharm": {
     "name": "#%%\n"
    }
   }
  },
  {
   "cell_type": "code",
   "execution_count": 39,
   "outputs": [
    {
     "data": {
      "text/plain": "Athlete\nHAJOS, Alfred                HUN\nHERSCHMANN, Otto             AUT\nDRIVAS, Dimitrios            GRE\nMALOKINIS, Ioannis           GRE\nCHASAPIS, Spiridon           GRE\n                            ... \nJANIKOWSKI, Damian           POL\nREZAEI, Ghasem Gholamreza    IRI\nTOTROV, Rustam               RUS\nALEKSANYAN, Artur            ARM\nLIDBERG, Jimmy               SWE\nName: Country, Length: 31165, dtype: object"
     },
     "execution_count": 39,
     "metadata": {},
     "output_type": "execute_result"
    }
   ],
   "source": [
    "summer['Country']"
   ],
   "metadata": {
    "collapsed": false,
    "pycharm": {
     "name": "#%%\n"
    }
   }
  },
  {
   "cell_type": "markdown",
   "source": [
    "### Label-based Indexing and Slicing with loc[]\n",
    "* end boundry is inclusive in lable-based indexing"
   ],
   "metadata": {
    "collapsed": false,
    "pycharm": {
     "name": "#%% md\n"
    }
   }
  },
  {
   "cell_type": "code",
   "execution_count": 40,
   "outputs": [
    {
     "data": {
      "text/plain": "Year                                1896\nCity                              Athens\nSport                           Aquatics\nDiscipline                      Swimming\nCountry                              GRE\nGender                               Men\nEvent         100M Freestyle For Sailors\nMedal                             Bronze\nName: DRIVAS, Dimitrios, dtype: object"
     },
     "execution_count": 40,
     "metadata": {},
     "output_type": "execute_result"
    }
   ],
   "source": [
    "summer.loc['DRIVAS, Dimitrios']"
   ],
   "metadata": {
    "collapsed": false,
    "pycharm": {
     "name": "#%%\n"
    }
   }
  },
  {
   "cell_type": "code",
   "execution_count": 41,
   "outputs": [
    {
     "data": {
      "text/plain": "                 Year     City     Sport Discipline Country Gender  \\\nAthlete                                                              \nPHELPS, Michael  2004   Athens  Aquatics   Swimming     USA    Men   \nPHELPS, Michael  2004   Athens  Aquatics   Swimming     USA    Men   \nPHELPS, Michael  2004   Athens  Aquatics   Swimming     USA    Men   \nPHELPS, Michael  2004   Athens  Aquatics   Swimming     USA    Men   \nPHELPS, Michael  2004   Athens  Aquatics   Swimming     USA    Men   \nPHELPS, Michael  2004   Athens  Aquatics   Swimming     USA    Men   \nPHELPS, Michael  2004   Athens  Aquatics   Swimming     USA    Men   \nPHELPS, Michael  2004   Athens  Aquatics   Swimming     USA    Men   \nPHELPS, Michael  2008  Beijing  Aquatics   Swimming     USA    Men   \nPHELPS, Michael  2008  Beijing  Aquatics   Swimming     USA    Men   \nPHELPS, Michael  2008  Beijing  Aquatics   Swimming     USA    Men   \nPHELPS, Michael  2008  Beijing  Aquatics   Swimming     USA    Men   \nPHELPS, Michael  2008  Beijing  Aquatics   Swimming     USA    Men   \nPHELPS, Michael  2008  Beijing  Aquatics   Swimming     USA    Men   \nPHELPS, Michael  2008  Beijing  Aquatics   Swimming     USA    Men   \nPHELPS, Michael  2008  Beijing  Aquatics   Swimming     USA    Men   \nPHELPS, Michael  2012   London  Aquatics   Swimming     USA    Men   \nPHELPS, Michael  2012   London  Aquatics   Swimming     USA    Men   \nPHELPS, Michael  2012   London  Aquatics   Swimming     USA    Men   \nPHELPS, Michael  2012   London  Aquatics   Swimming     USA    Men   \nPHELPS, Michael  2012   London  Aquatics   Swimming     USA    Men   \nPHELPS, Michael  2012   London  Aquatics   Swimming     USA    Men   \n\n                                  Event   Medal  \nAthlete                                          \nPHELPS, Michael          100M Butterfly    Gold  \nPHELPS, Michael          200M Butterfly    Gold  \nPHELPS, Michael          200M Freestyle  Bronze  \nPHELPS, Michael  200M Individual Medley    Gold  \nPHELPS, Michael  400M Individual Medley    Gold  \nPHELPS, Michael  4X100M Freestyle Relay  Bronze  \nPHELPS, Michael     4X100M Medley Relay    Gold  \nPHELPS, Michael  4X200M Freestyle Relay    Gold  \nPHELPS, Michael          100M Butterfly    Gold  \nPHELPS, Michael          200M Butterfly    Gold  \nPHELPS, Michael          200M Freestyle    Gold  \nPHELPS, Michael  200M Individual Medley    Gold  \nPHELPS, Michael  400M Individual Medley    Gold  \nPHELPS, Michael  4X100M Freestyle Relay    Gold  \nPHELPS, Michael     4X100M Medley Relay    Gold  \nPHELPS, Michael  4X200M Freestyle Relay    Gold  \nPHELPS, Michael          100M Butterfly    Gold  \nPHELPS, Michael          200M Butterfly  Silver  \nPHELPS, Michael             200M Medley    Gold  \nPHELPS, Michael        4X100M Freestyle  Silver  \nPHELPS, Michael           4X100M Medley    Gold  \nPHELPS, Michael        4X200M Freestyle    Gold  ",
      "text/html": "<div>\n<style scoped>\n    .dataframe tbody tr th:only-of-type {\n        vertical-align: middle;\n    }\n\n    .dataframe tbody tr th {\n        vertical-align: top;\n    }\n\n    .dataframe thead th {\n        text-align: right;\n    }\n</style>\n<table border=\"1\" class=\"dataframe\">\n  <thead>\n    <tr style=\"text-align: right;\">\n      <th></th>\n      <th>Year</th>\n      <th>City</th>\n      <th>Sport</th>\n      <th>Discipline</th>\n      <th>Country</th>\n      <th>Gender</th>\n      <th>Event</th>\n      <th>Medal</th>\n    </tr>\n    <tr>\n      <th>Athlete</th>\n      <th></th>\n      <th></th>\n      <th></th>\n      <th></th>\n      <th></th>\n      <th></th>\n      <th></th>\n      <th></th>\n    </tr>\n  </thead>\n  <tbody>\n    <tr>\n      <th>PHELPS, Michael</th>\n      <td>2004</td>\n      <td>Athens</td>\n      <td>Aquatics</td>\n      <td>Swimming</td>\n      <td>USA</td>\n      <td>Men</td>\n      <td>100M Butterfly</td>\n      <td>Gold</td>\n    </tr>\n    <tr>\n      <th>PHELPS, Michael</th>\n      <td>2004</td>\n      <td>Athens</td>\n      <td>Aquatics</td>\n      <td>Swimming</td>\n      <td>USA</td>\n      <td>Men</td>\n      <td>200M Butterfly</td>\n      <td>Gold</td>\n    </tr>\n    <tr>\n      <th>PHELPS, Michael</th>\n      <td>2004</td>\n      <td>Athens</td>\n      <td>Aquatics</td>\n      <td>Swimming</td>\n      <td>USA</td>\n      <td>Men</td>\n      <td>200M Freestyle</td>\n      <td>Bronze</td>\n    </tr>\n    <tr>\n      <th>PHELPS, Michael</th>\n      <td>2004</td>\n      <td>Athens</td>\n      <td>Aquatics</td>\n      <td>Swimming</td>\n      <td>USA</td>\n      <td>Men</td>\n      <td>200M Individual Medley</td>\n      <td>Gold</td>\n    </tr>\n    <tr>\n      <th>PHELPS, Michael</th>\n      <td>2004</td>\n      <td>Athens</td>\n      <td>Aquatics</td>\n      <td>Swimming</td>\n      <td>USA</td>\n      <td>Men</td>\n      <td>400M Individual Medley</td>\n      <td>Gold</td>\n    </tr>\n    <tr>\n      <th>PHELPS, Michael</th>\n      <td>2004</td>\n      <td>Athens</td>\n      <td>Aquatics</td>\n      <td>Swimming</td>\n      <td>USA</td>\n      <td>Men</td>\n      <td>4X100M Freestyle Relay</td>\n      <td>Bronze</td>\n    </tr>\n    <tr>\n      <th>PHELPS, Michael</th>\n      <td>2004</td>\n      <td>Athens</td>\n      <td>Aquatics</td>\n      <td>Swimming</td>\n      <td>USA</td>\n      <td>Men</td>\n      <td>4X100M Medley Relay</td>\n      <td>Gold</td>\n    </tr>\n    <tr>\n      <th>PHELPS, Michael</th>\n      <td>2004</td>\n      <td>Athens</td>\n      <td>Aquatics</td>\n      <td>Swimming</td>\n      <td>USA</td>\n      <td>Men</td>\n      <td>4X200M Freestyle Relay</td>\n      <td>Gold</td>\n    </tr>\n    <tr>\n      <th>PHELPS, Michael</th>\n      <td>2008</td>\n      <td>Beijing</td>\n      <td>Aquatics</td>\n      <td>Swimming</td>\n      <td>USA</td>\n      <td>Men</td>\n      <td>100M Butterfly</td>\n      <td>Gold</td>\n    </tr>\n    <tr>\n      <th>PHELPS, Michael</th>\n      <td>2008</td>\n      <td>Beijing</td>\n      <td>Aquatics</td>\n      <td>Swimming</td>\n      <td>USA</td>\n      <td>Men</td>\n      <td>200M Butterfly</td>\n      <td>Gold</td>\n    </tr>\n    <tr>\n      <th>PHELPS, Michael</th>\n      <td>2008</td>\n      <td>Beijing</td>\n      <td>Aquatics</td>\n      <td>Swimming</td>\n      <td>USA</td>\n      <td>Men</td>\n      <td>200M Freestyle</td>\n      <td>Gold</td>\n    </tr>\n    <tr>\n      <th>PHELPS, Michael</th>\n      <td>2008</td>\n      <td>Beijing</td>\n      <td>Aquatics</td>\n      <td>Swimming</td>\n      <td>USA</td>\n      <td>Men</td>\n      <td>200M Individual Medley</td>\n      <td>Gold</td>\n    </tr>\n    <tr>\n      <th>PHELPS, Michael</th>\n      <td>2008</td>\n      <td>Beijing</td>\n      <td>Aquatics</td>\n      <td>Swimming</td>\n      <td>USA</td>\n      <td>Men</td>\n      <td>400M Individual Medley</td>\n      <td>Gold</td>\n    </tr>\n    <tr>\n      <th>PHELPS, Michael</th>\n      <td>2008</td>\n      <td>Beijing</td>\n      <td>Aquatics</td>\n      <td>Swimming</td>\n      <td>USA</td>\n      <td>Men</td>\n      <td>4X100M Freestyle Relay</td>\n      <td>Gold</td>\n    </tr>\n    <tr>\n      <th>PHELPS, Michael</th>\n      <td>2008</td>\n      <td>Beijing</td>\n      <td>Aquatics</td>\n      <td>Swimming</td>\n      <td>USA</td>\n      <td>Men</td>\n      <td>4X100M Medley Relay</td>\n      <td>Gold</td>\n    </tr>\n    <tr>\n      <th>PHELPS, Michael</th>\n      <td>2008</td>\n      <td>Beijing</td>\n      <td>Aquatics</td>\n      <td>Swimming</td>\n      <td>USA</td>\n      <td>Men</td>\n      <td>4X200M Freestyle Relay</td>\n      <td>Gold</td>\n    </tr>\n    <tr>\n      <th>PHELPS, Michael</th>\n      <td>2012</td>\n      <td>London</td>\n      <td>Aquatics</td>\n      <td>Swimming</td>\n      <td>USA</td>\n      <td>Men</td>\n      <td>100M Butterfly</td>\n      <td>Gold</td>\n    </tr>\n    <tr>\n      <th>PHELPS, Michael</th>\n      <td>2012</td>\n      <td>London</td>\n      <td>Aquatics</td>\n      <td>Swimming</td>\n      <td>USA</td>\n      <td>Men</td>\n      <td>200M Butterfly</td>\n      <td>Silver</td>\n    </tr>\n    <tr>\n      <th>PHELPS, Michael</th>\n      <td>2012</td>\n      <td>London</td>\n      <td>Aquatics</td>\n      <td>Swimming</td>\n      <td>USA</td>\n      <td>Men</td>\n      <td>200M Medley</td>\n      <td>Gold</td>\n    </tr>\n    <tr>\n      <th>PHELPS, Michael</th>\n      <td>2012</td>\n      <td>London</td>\n      <td>Aquatics</td>\n      <td>Swimming</td>\n      <td>USA</td>\n      <td>Men</td>\n      <td>4X100M Freestyle</td>\n      <td>Silver</td>\n    </tr>\n    <tr>\n      <th>PHELPS, Michael</th>\n      <td>2012</td>\n      <td>London</td>\n      <td>Aquatics</td>\n      <td>Swimming</td>\n      <td>USA</td>\n      <td>Men</td>\n      <td>4X100M Medley</td>\n      <td>Gold</td>\n    </tr>\n    <tr>\n      <th>PHELPS, Michael</th>\n      <td>2012</td>\n      <td>London</td>\n      <td>Aquatics</td>\n      <td>Swimming</td>\n      <td>USA</td>\n      <td>Men</td>\n      <td>4X200M Freestyle</td>\n      <td>Gold</td>\n    </tr>\n  </tbody>\n</table>\n</div>"
     },
     "execution_count": 41,
     "metadata": {},
     "output_type": "execute_result"
    }
   ],
   "source": [
    "summer.loc['PHELPS, Michael']"
   ],
   "metadata": {
    "collapsed": false,
    "pycharm": {
     "name": "#%%\n"
    }
   }
  },
  {
   "cell_type": "code",
   "execution_count": 42,
   "outputs": [
    {
     "data": {
      "text/plain": "Athlete\nPHELPS, Michael      Gold\nPHELPS, Michael      Gold\nPHELPS, Michael    Bronze\nPHELPS, Michael      Gold\nPHELPS, Michael      Gold\nPHELPS, Michael    Bronze\nPHELPS, Michael      Gold\nPHELPS, Michael      Gold\nPHELPS, Michael      Gold\nPHELPS, Michael      Gold\nPHELPS, Michael      Gold\nPHELPS, Michael      Gold\nPHELPS, Michael      Gold\nPHELPS, Michael      Gold\nPHELPS, Michael      Gold\nPHELPS, Michael      Gold\nPHELPS, Michael      Gold\nPHELPS, Michael    Silver\nPHELPS, Michael      Gold\nPHELPS, Michael    Silver\nPHELPS, Michael      Gold\nPHELPS, Michael      Gold\nName: Medal, dtype: object"
     },
     "execution_count": 42,
     "metadata": {},
     "output_type": "execute_result"
    }
   ],
   "source": [
    "summer.loc['PHELPS, Michael', 'Medal']"
   ],
   "metadata": {
    "collapsed": false,
    "pycharm": {
     "name": "#%%\n"
    }
   }
  },
  {
   "cell_type": "code",
   "execution_count": 43,
   "outputs": [
    {
     "data": {
      "text/plain": "                  Medal                   Event\nAthlete                                        \nPHELPS, Michael    Gold          100M Butterfly\nPHELPS, Michael    Gold          200M Butterfly\nPHELPS, Michael  Bronze          200M Freestyle\nPHELPS, Michael    Gold  200M Individual Medley\nPHELPS, Michael    Gold  400M Individual Medley\nPHELPS, Michael  Bronze  4X100M Freestyle Relay\nPHELPS, Michael    Gold     4X100M Medley Relay\nPHELPS, Michael    Gold  4X200M Freestyle Relay\nPHELPS, Michael    Gold          100M Butterfly\nPHELPS, Michael    Gold          200M Butterfly\nPHELPS, Michael    Gold          200M Freestyle\nPHELPS, Michael    Gold  200M Individual Medley\nPHELPS, Michael    Gold  400M Individual Medley\nPHELPS, Michael    Gold  4X100M Freestyle Relay\nPHELPS, Michael    Gold     4X100M Medley Relay\nPHELPS, Michael    Gold  4X200M Freestyle Relay\nPHELPS, Michael    Gold          100M Butterfly\nPHELPS, Michael  Silver          200M Butterfly\nPHELPS, Michael    Gold             200M Medley\nPHELPS, Michael  Silver        4X100M Freestyle\nPHELPS, Michael    Gold           4X100M Medley\nPHELPS, Michael    Gold        4X200M Freestyle",
      "text/html": "<div>\n<style scoped>\n    .dataframe tbody tr th:only-of-type {\n        vertical-align: middle;\n    }\n\n    .dataframe tbody tr th {\n        vertical-align: top;\n    }\n\n    .dataframe thead th {\n        text-align: right;\n    }\n</style>\n<table border=\"1\" class=\"dataframe\">\n  <thead>\n    <tr style=\"text-align: right;\">\n      <th></th>\n      <th>Medal</th>\n      <th>Event</th>\n    </tr>\n    <tr>\n      <th>Athlete</th>\n      <th></th>\n      <th></th>\n    </tr>\n  </thead>\n  <tbody>\n    <tr>\n      <th>PHELPS, Michael</th>\n      <td>Gold</td>\n      <td>100M Butterfly</td>\n    </tr>\n    <tr>\n      <th>PHELPS, Michael</th>\n      <td>Gold</td>\n      <td>200M Butterfly</td>\n    </tr>\n    <tr>\n      <th>PHELPS, Michael</th>\n      <td>Bronze</td>\n      <td>200M Freestyle</td>\n    </tr>\n    <tr>\n      <th>PHELPS, Michael</th>\n      <td>Gold</td>\n      <td>200M Individual Medley</td>\n    </tr>\n    <tr>\n      <th>PHELPS, Michael</th>\n      <td>Gold</td>\n      <td>400M Individual Medley</td>\n    </tr>\n    <tr>\n      <th>PHELPS, Michael</th>\n      <td>Bronze</td>\n      <td>4X100M Freestyle Relay</td>\n    </tr>\n    <tr>\n      <th>PHELPS, Michael</th>\n      <td>Gold</td>\n      <td>4X100M Medley Relay</td>\n    </tr>\n    <tr>\n      <th>PHELPS, Michael</th>\n      <td>Gold</td>\n      <td>4X200M Freestyle Relay</td>\n    </tr>\n    <tr>\n      <th>PHELPS, Michael</th>\n      <td>Gold</td>\n      <td>100M Butterfly</td>\n    </tr>\n    <tr>\n      <th>PHELPS, Michael</th>\n      <td>Gold</td>\n      <td>200M Butterfly</td>\n    </tr>\n    <tr>\n      <th>PHELPS, Michael</th>\n      <td>Gold</td>\n      <td>200M Freestyle</td>\n    </tr>\n    <tr>\n      <th>PHELPS, Michael</th>\n      <td>Gold</td>\n      <td>200M Individual Medley</td>\n    </tr>\n    <tr>\n      <th>PHELPS, Michael</th>\n      <td>Gold</td>\n      <td>400M Individual Medley</td>\n    </tr>\n    <tr>\n      <th>PHELPS, Michael</th>\n      <td>Gold</td>\n      <td>4X100M Freestyle Relay</td>\n    </tr>\n    <tr>\n      <th>PHELPS, Michael</th>\n      <td>Gold</td>\n      <td>4X100M Medley Relay</td>\n    </tr>\n    <tr>\n      <th>PHELPS, Michael</th>\n      <td>Gold</td>\n      <td>4X200M Freestyle Relay</td>\n    </tr>\n    <tr>\n      <th>PHELPS, Michael</th>\n      <td>Gold</td>\n      <td>100M Butterfly</td>\n    </tr>\n    <tr>\n      <th>PHELPS, Michael</th>\n      <td>Silver</td>\n      <td>200M Butterfly</td>\n    </tr>\n    <tr>\n      <th>PHELPS, Michael</th>\n      <td>Gold</td>\n      <td>200M Medley</td>\n    </tr>\n    <tr>\n      <th>PHELPS, Michael</th>\n      <td>Silver</td>\n      <td>4X100M Freestyle</td>\n    </tr>\n    <tr>\n      <th>PHELPS, Michael</th>\n      <td>Gold</td>\n      <td>4X100M Medley</td>\n    </tr>\n    <tr>\n      <th>PHELPS, Michael</th>\n      <td>Gold</td>\n      <td>4X200M Freestyle</td>\n    </tr>\n  </tbody>\n</table>\n</div>"
     },
     "execution_count": 43,
     "metadata": {},
     "output_type": "execute_result"
    }
   ],
   "source": [
    "summer.loc['PHELPS, Michael', ['Medal', 'Event']]"
   ],
   "metadata": {
    "collapsed": false,
    "pycharm": {
     "name": "#%%\n"
    }
   }
  },
  {
   "cell_type": "code",
   "execution_count": 44,
   "outputs": [
    {
     "data": {
      "text/plain": "                  Medal                   Event\nAthlete                                        \nPHELPS, Michael    Gold          100M Butterfly\nPHELPS, Michael    Gold          200M Butterfly\nPHELPS, Michael  Bronze          200M Freestyle\nPHELPS, Michael    Gold  200M Individual Medley\nPHELPS, Michael    Gold  400M Individual Medley\nPHELPS, Michael  Bronze  4X100M Freestyle Relay\nPHELPS, Michael    Gold     4X100M Medley Relay\nPHELPS, Michael    Gold  4X200M Freestyle Relay\nPHELPS, Michael    Gold          100M Butterfly\nPHELPS, Michael    Gold          200M Butterfly\nPHELPS, Michael    Gold          200M Freestyle\nPHELPS, Michael    Gold  200M Individual Medley\nPHELPS, Michael    Gold  400M Individual Medley\nPHELPS, Michael    Gold  4X100M Freestyle Relay\nPHELPS, Michael    Gold     4X100M Medley Relay\nPHELPS, Michael    Gold  4X200M Freestyle Relay\nPHELPS, Michael    Gold          100M Butterfly\nPHELPS, Michael  Silver          200M Butterfly\nPHELPS, Michael    Gold             200M Medley\nPHELPS, Michael  Silver        4X100M Freestyle\nPHELPS, Michael    Gold           4X100M Medley\nPHELPS, Michael    Gold        4X200M Freestyle\nLEWIS, Carl        Gold                    100M\nLEWIS, Carl        Gold                    200M\nLEWIS, Carl        Gold            4X100M Relay\nLEWIS, Carl        Gold               Long Jump\nLEWIS, Carl        Gold                    100M\nLEWIS, Carl      Silver                    200M\nLEWIS, Carl        Gold               Long Jump\nLEWIS, Carl        Gold            4X100M Relay\nLEWIS, Carl        Gold               Long Jump\nLEWIS, Carl        Gold               Long Jump",
      "text/html": "<div>\n<style scoped>\n    .dataframe tbody tr th:only-of-type {\n        vertical-align: middle;\n    }\n\n    .dataframe tbody tr th {\n        vertical-align: top;\n    }\n\n    .dataframe thead th {\n        text-align: right;\n    }\n</style>\n<table border=\"1\" class=\"dataframe\">\n  <thead>\n    <tr style=\"text-align: right;\">\n      <th></th>\n      <th>Medal</th>\n      <th>Event</th>\n    </tr>\n    <tr>\n      <th>Athlete</th>\n      <th></th>\n      <th></th>\n    </tr>\n  </thead>\n  <tbody>\n    <tr>\n      <th>PHELPS, Michael</th>\n      <td>Gold</td>\n      <td>100M Butterfly</td>\n    </tr>\n    <tr>\n      <th>PHELPS, Michael</th>\n      <td>Gold</td>\n      <td>200M Butterfly</td>\n    </tr>\n    <tr>\n      <th>PHELPS, Michael</th>\n      <td>Bronze</td>\n      <td>200M Freestyle</td>\n    </tr>\n    <tr>\n      <th>PHELPS, Michael</th>\n      <td>Gold</td>\n      <td>200M Individual Medley</td>\n    </tr>\n    <tr>\n      <th>PHELPS, Michael</th>\n      <td>Gold</td>\n      <td>400M Individual Medley</td>\n    </tr>\n    <tr>\n      <th>PHELPS, Michael</th>\n      <td>Bronze</td>\n      <td>4X100M Freestyle Relay</td>\n    </tr>\n    <tr>\n      <th>PHELPS, Michael</th>\n      <td>Gold</td>\n      <td>4X100M Medley Relay</td>\n    </tr>\n    <tr>\n      <th>PHELPS, Michael</th>\n      <td>Gold</td>\n      <td>4X200M Freestyle Relay</td>\n    </tr>\n    <tr>\n      <th>PHELPS, Michael</th>\n      <td>Gold</td>\n      <td>100M Butterfly</td>\n    </tr>\n    <tr>\n      <th>PHELPS, Michael</th>\n      <td>Gold</td>\n      <td>200M Butterfly</td>\n    </tr>\n    <tr>\n      <th>PHELPS, Michael</th>\n      <td>Gold</td>\n      <td>200M Freestyle</td>\n    </tr>\n    <tr>\n      <th>PHELPS, Michael</th>\n      <td>Gold</td>\n      <td>200M Individual Medley</td>\n    </tr>\n    <tr>\n      <th>PHELPS, Michael</th>\n      <td>Gold</td>\n      <td>400M Individual Medley</td>\n    </tr>\n    <tr>\n      <th>PHELPS, Michael</th>\n      <td>Gold</td>\n      <td>4X100M Freestyle Relay</td>\n    </tr>\n    <tr>\n      <th>PHELPS, Michael</th>\n      <td>Gold</td>\n      <td>4X100M Medley Relay</td>\n    </tr>\n    <tr>\n      <th>PHELPS, Michael</th>\n      <td>Gold</td>\n      <td>4X200M Freestyle Relay</td>\n    </tr>\n    <tr>\n      <th>PHELPS, Michael</th>\n      <td>Gold</td>\n      <td>100M Butterfly</td>\n    </tr>\n    <tr>\n      <th>PHELPS, Michael</th>\n      <td>Silver</td>\n      <td>200M Butterfly</td>\n    </tr>\n    <tr>\n      <th>PHELPS, Michael</th>\n      <td>Gold</td>\n      <td>200M Medley</td>\n    </tr>\n    <tr>\n      <th>PHELPS, Michael</th>\n      <td>Silver</td>\n      <td>4X100M Freestyle</td>\n    </tr>\n    <tr>\n      <th>PHELPS, Michael</th>\n      <td>Gold</td>\n      <td>4X100M Medley</td>\n    </tr>\n    <tr>\n      <th>PHELPS, Michael</th>\n      <td>Gold</td>\n      <td>4X200M Freestyle</td>\n    </tr>\n    <tr>\n      <th>LEWIS, Carl</th>\n      <td>Gold</td>\n      <td>100M</td>\n    </tr>\n    <tr>\n      <th>LEWIS, Carl</th>\n      <td>Gold</td>\n      <td>200M</td>\n    </tr>\n    <tr>\n      <th>LEWIS, Carl</th>\n      <td>Gold</td>\n      <td>4X100M Relay</td>\n    </tr>\n    <tr>\n      <th>LEWIS, Carl</th>\n      <td>Gold</td>\n      <td>Long Jump</td>\n    </tr>\n    <tr>\n      <th>LEWIS, Carl</th>\n      <td>Gold</td>\n      <td>100M</td>\n    </tr>\n    <tr>\n      <th>LEWIS, Carl</th>\n      <td>Silver</td>\n      <td>200M</td>\n    </tr>\n    <tr>\n      <th>LEWIS, Carl</th>\n      <td>Gold</td>\n      <td>Long Jump</td>\n    </tr>\n    <tr>\n      <th>LEWIS, Carl</th>\n      <td>Gold</td>\n      <td>4X100M Relay</td>\n    </tr>\n    <tr>\n      <th>LEWIS, Carl</th>\n      <td>Gold</td>\n      <td>Long Jump</td>\n    </tr>\n    <tr>\n      <th>LEWIS, Carl</th>\n      <td>Gold</td>\n      <td>Long Jump</td>\n    </tr>\n  </tbody>\n</table>\n</div>"
     },
     "execution_count": 44,
     "metadata": {},
     "output_type": "execute_result"
    }
   ],
   "source": [
    "summer.loc[['PHELPS, Michael', \"LEWIS, Carl\"], ['Medal', 'Event']]"
   ],
   "metadata": {
    "collapsed": false,
    "pycharm": {
     "name": "#%%\n"
    }
   }
  },
  {
   "cell_type": "code",
   "execution_count": 46,
   "outputs": [
    {
     "data": {
      "text/plain": "                            Medal                       Event\nAthlete                                                      \nHAJOS, Alfred                Gold              100M Freestyle\nHERSCHMANN, Otto           Silver              100M Freestyle\nDRIVAS, Dimitrios          Bronze  100M Freestyle For Sailors\nMALOKINIS, Ioannis           Gold  100M Freestyle For Sailors\nCHASAPIS, Spiridon         Silver  100M Freestyle For Sailors\n...                           ...                         ...\nJANIKOWSKI, Damian         Bronze                    Wg 84 KG\nREZAEI, Ghasem Gholamreza    Gold                    Wg 96 KG\nTOTROV, Rustam             Silver                    Wg 96 KG\nALEKSANYAN, Artur          Bronze                    Wg 96 KG\nLIDBERG, Jimmy             Bronze                    Wg 96 KG\n\n[31165 rows x 2 columns]",
      "text/html": "<div>\n<style scoped>\n    .dataframe tbody tr th:only-of-type {\n        vertical-align: middle;\n    }\n\n    .dataframe tbody tr th {\n        vertical-align: top;\n    }\n\n    .dataframe thead th {\n        text-align: right;\n    }\n</style>\n<table border=\"1\" class=\"dataframe\">\n  <thead>\n    <tr style=\"text-align: right;\">\n      <th></th>\n      <th>Medal</th>\n      <th>Event</th>\n    </tr>\n    <tr>\n      <th>Athlete</th>\n      <th></th>\n      <th></th>\n    </tr>\n  </thead>\n  <tbody>\n    <tr>\n      <th>HAJOS, Alfred</th>\n      <td>Gold</td>\n      <td>100M Freestyle</td>\n    </tr>\n    <tr>\n      <th>HERSCHMANN, Otto</th>\n      <td>Silver</td>\n      <td>100M Freestyle</td>\n    </tr>\n    <tr>\n      <th>DRIVAS, Dimitrios</th>\n      <td>Bronze</td>\n      <td>100M Freestyle For Sailors</td>\n    </tr>\n    <tr>\n      <th>MALOKINIS, Ioannis</th>\n      <td>Gold</td>\n      <td>100M Freestyle For Sailors</td>\n    </tr>\n    <tr>\n      <th>CHASAPIS, Spiridon</th>\n      <td>Silver</td>\n      <td>100M Freestyle For Sailors</td>\n    </tr>\n    <tr>\n      <th>...</th>\n      <td>...</td>\n      <td>...</td>\n    </tr>\n    <tr>\n      <th>JANIKOWSKI, Damian</th>\n      <td>Bronze</td>\n      <td>Wg 84 KG</td>\n    </tr>\n    <tr>\n      <th>REZAEI, Ghasem Gholamreza</th>\n      <td>Gold</td>\n      <td>Wg 96 KG</td>\n    </tr>\n    <tr>\n      <th>TOTROV, Rustam</th>\n      <td>Silver</td>\n      <td>Wg 96 KG</td>\n    </tr>\n    <tr>\n      <th>ALEKSANYAN, Artur</th>\n      <td>Bronze</td>\n      <td>Wg 96 KG</td>\n    </tr>\n    <tr>\n      <th>LIDBERG, Jimmy</th>\n      <td>Bronze</td>\n      <td>Wg 96 KG</td>\n    </tr>\n  </tbody>\n</table>\n<p>31165 rows × 2 columns</p>\n</div>"
     },
     "execution_count": 46,
     "metadata": {},
     "output_type": "execute_result"
    }
   ],
   "source": [
    "summer.loc[:, ['Medal', 'Event']]"
   ],
   "metadata": {
    "collapsed": false,
    "pycharm": {
     "name": "#%%\n"
    }
   }
  },
  {
   "cell_type": "code",
   "execution_count": 47,
   "outputs": [
    {
     "data": {
      "text/plain": "                       Year    City     Sport Discipline Country Gender  \\\nAthlete                                                                   \nHAJOS, Alfred          1896  Athens  Aquatics   Swimming     HUN    Men   \nHERSCHMANN, Otto       1896  Athens  Aquatics   Swimming     AUT    Men   \nDRIVAS, Dimitrios      1896  Athens  Aquatics   Swimming     GRE    Men   \nMALOKINIS, Ioannis     1896  Athens  Aquatics   Swimming     GRE    Men   \nCHASAPIS, Spiridon     1896  Athens  Aquatics   Swimming     GRE    Men   \nCHOROPHAS, Efstathios  1896  Athens  Aquatics   Swimming     GRE    Men   \nHAJOS, Alfred          1896  Athens  Aquatics   Swimming     HUN    Men   \nANDREOU, Joannis       1896  Athens  Aquatics   Swimming     GRE    Men   \nCHOROPHAS, Efstathios  1896  Athens  Aquatics   Swimming     GRE    Men   \nNEUMANN, Paul          1896  Athens  Aquatics   Swimming     AUT    Men   \n\n                                            Event   Medal  \nAthlete                                                    \nHAJOS, Alfred                      100M Freestyle    Gold  \nHERSCHMANN, Otto                   100M Freestyle  Silver  \nDRIVAS, Dimitrios      100M Freestyle For Sailors  Bronze  \nMALOKINIS, Ioannis     100M Freestyle For Sailors    Gold  \nCHASAPIS, Spiridon     100M Freestyle For Sailors  Silver  \nCHOROPHAS, Efstathios             1200M Freestyle  Bronze  \nHAJOS, Alfred                     1200M Freestyle    Gold  \nANDREOU, Joannis                  1200M Freestyle  Silver  \nCHOROPHAS, Efstathios              400M Freestyle  Bronze  \nNEUMANN, Paul                      400M Freestyle    Gold  ",
      "text/html": "<div>\n<style scoped>\n    .dataframe tbody tr th:only-of-type {\n        vertical-align: middle;\n    }\n\n    .dataframe tbody tr th {\n        vertical-align: top;\n    }\n\n    .dataframe thead th {\n        text-align: right;\n    }\n</style>\n<table border=\"1\" class=\"dataframe\">\n  <thead>\n    <tr style=\"text-align: right;\">\n      <th></th>\n      <th>Year</th>\n      <th>City</th>\n      <th>Sport</th>\n      <th>Discipline</th>\n      <th>Country</th>\n      <th>Gender</th>\n      <th>Event</th>\n      <th>Medal</th>\n    </tr>\n    <tr>\n      <th>Athlete</th>\n      <th></th>\n      <th></th>\n      <th></th>\n      <th></th>\n      <th></th>\n      <th></th>\n      <th></th>\n      <th></th>\n    </tr>\n  </thead>\n  <tbody>\n    <tr>\n      <th>HAJOS, Alfred</th>\n      <td>1896</td>\n      <td>Athens</td>\n      <td>Aquatics</td>\n      <td>Swimming</td>\n      <td>HUN</td>\n      <td>Men</td>\n      <td>100M Freestyle</td>\n      <td>Gold</td>\n    </tr>\n    <tr>\n      <th>HERSCHMANN, Otto</th>\n      <td>1896</td>\n      <td>Athens</td>\n      <td>Aquatics</td>\n      <td>Swimming</td>\n      <td>AUT</td>\n      <td>Men</td>\n      <td>100M Freestyle</td>\n      <td>Silver</td>\n    </tr>\n    <tr>\n      <th>DRIVAS, Dimitrios</th>\n      <td>1896</td>\n      <td>Athens</td>\n      <td>Aquatics</td>\n      <td>Swimming</td>\n      <td>GRE</td>\n      <td>Men</td>\n      <td>100M Freestyle For Sailors</td>\n      <td>Bronze</td>\n    </tr>\n    <tr>\n      <th>MALOKINIS, Ioannis</th>\n      <td>1896</td>\n      <td>Athens</td>\n      <td>Aquatics</td>\n      <td>Swimming</td>\n      <td>GRE</td>\n      <td>Men</td>\n      <td>100M Freestyle For Sailors</td>\n      <td>Gold</td>\n    </tr>\n    <tr>\n      <th>CHASAPIS, Spiridon</th>\n      <td>1896</td>\n      <td>Athens</td>\n      <td>Aquatics</td>\n      <td>Swimming</td>\n      <td>GRE</td>\n      <td>Men</td>\n      <td>100M Freestyle For Sailors</td>\n      <td>Silver</td>\n    </tr>\n    <tr>\n      <th>CHOROPHAS, Efstathios</th>\n      <td>1896</td>\n      <td>Athens</td>\n      <td>Aquatics</td>\n      <td>Swimming</td>\n      <td>GRE</td>\n      <td>Men</td>\n      <td>1200M Freestyle</td>\n      <td>Bronze</td>\n    </tr>\n    <tr>\n      <th>HAJOS, Alfred</th>\n      <td>1896</td>\n      <td>Athens</td>\n      <td>Aquatics</td>\n      <td>Swimming</td>\n      <td>HUN</td>\n      <td>Men</td>\n      <td>1200M Freestyle</td>\n      <td>Gold</td>\n    </tr>\n    <tr>\n      <th>ANDREOU, Joannis</th>\n      <td>1896</td>\n      <td>Athens</td>\n      <td>Aquatics</td>\n      <td>Swimming</td>\n      <td>GRE</td>\n      <td>Men</td>\n      <td>1200M Freestyle</td>\n      <td>Silver</td>\n    </tr>\n    <tr>\n      <th>CHOROPHAS, Efstathios</th>\n      <td>1896</td>\n      <td>Athens</td>\n      <td>Aquatics</td>\n      <td>Swimming</td>\n      <td>GRE</td>\n      <td>Men</td>\n      <td>400M Freestyle</td>\n      <td>Bronze</td>\n    </tr>\n    <tr>\n      <th>NEUMANN, Paul</th>\n      <td>1896</td>\n      <td>Athens</td>\n      <td>Aquatics</td>\n      <td>Swimming</td>\n      <td>AUT</td>\n      <td>Men</td>\n      <td>400M Freestyle</td>\n      <td>Gold</td>\n    </tr>\n  </tbody>\n</table>\n</div>"
     },
     "execution_count": 47,
     "metadata": {},
     "output_type": "execute_result"
    }
   ],
   "source": [
    "summer.head(10)"
   ],
   "metadata": {
    "collapsed": false,
    "pycharm": {
     "name": "#%%\n"
    }
   }
  },
  {
   "cell_type": "code",
   "execution_count": 48,
   "outputs": [
    {
     "data": {
      "text/plain": "                    Year    City     Sport Discipline Country Gender  \\\nAthlete                                                                \nHAJOS, Alfred       1896  Athens  Aquatics   Swimming     HUN    Men   \nHERSCHMANN, Otto    1896  Athens  Aquatics   Swimming     AUT    Men   \nDRIVAS, Dimitrios   1896  Athens  Aquatics   Swimming     GRE    Men   \nMALOKINIS, Ioannis  1896  Athens  Aquatics   Swimming     GRE    Men   \nCHASAPIS, Spiridon  1896  Athens  Aquatics   Swimming     GRE    Men   \n\n                                         Event   Medal  \nAthlete                                                 \nHAJOS, Alfred                   100M Freestyle    Gold  \nHERSCHMANN, Otto                100M Freestyle  Silver  \nDRIVAS, Dimitrios   100M Freestyle For Sailors  Bronze  \nMALOKINIS, Ioannis  100M Freestyle For Sailors    Gold  \nCHASAPIS, Spiridon  100M Freestyle For Sailors  Silver  ",
      "text/html": "<div>\n<style scoped>\n    .dataframe tbody tr th:only-of-type {\n        vertical-align: middle;\n    }\n\n    .dataframe tbody tr th {\n        vertical-align: top;\n    }\n\n    .dataframe thead th {\n        text-align: right;\n    }\n</style>\n<table border=\"1\" class=\"dataframe\">\n  <thead>\n    <tr style=\"text-align: right;\">\n      <th></th>\n      <th>Year</th>\n      <th>City</th>\n      <th>Sport</th>\n      <th>Discipline</th>\n      <th>Country</th>\n      <th>Gender</th>\n      <th>Event</th>\n      <th>Medal</th>\n    </tr>\n    <tr>\n      <th>Athlete</th>\n      <th></th>\n      <th></th>\n      <th></th>\n      <th></th>\n      <th></th>\n      <th></th>\n      <th></th>\n      <th></th>\n    </tr>\n  </thead>\n  <tbody>\n    <tr>\n      <th>HAJOS, Alfred</th>\n      <td>1896</td>\n      <td>Athens</td>\n      <td>Aquatics</td>\n      <td>Swimming</td>\n      <td>HUN</td>\n      <td>Men</td>\n      <td>100M Freestyle</td>\n      <td>Gold</td>\n    </tr>\n    <tr>\n      <th>HERSCHMANN, Otto</th>\n      <td>1896</td>\n      <td>Athens</td>\n      <td>Aquatics</td>\n      <td>Swimming</td>\n      <td>AUT</td>\n      <td>Men</td>\n      <td>100M Freestyle</td>\n      <td>Silver</td>\n    </tr>\n    <tr>\n      <th>DRIVAS, Dimitrios</th>\n      <td>1896</td>\n      <td>Athens</td>\n      <td>Aquatics</td>\n      <td>Swimming</td>\n      <td>GRE</td>\n      <td>Men</td>\n      <td>100M Freestyle For Sailors</td>\n      <td>Bronze</td>\n    </tr>\n    <tr>\n      <th>MALOKINIS, Ioannis</th>\n      <td>1896</td>\n      <td>Athens</td>\n      <td>Aquatics</td>\n      <td>Swimming</td>\n      <td>GRE</td>\n      <td>Men</td>\n      <td>100M Freestyle For Sailors</td>\n      <td>Gold</td>\n    </tr>\n    <tr>\n      <th>CHASAPIS, Spiridon</th>\n      <td>1896</td>\n      <td>Athens</td>\n      <td>Aquatics</td>\n      <td>Swimming</td>\n      <td>GRE</td>\n      <td>Men</td>\n      <td>100M Freestyle For Sailors</td>\n      <td>Silver</td>\n    </tr>\n  </tbody>\n</table>\n</div>"
     },
     "execution_count": 48,
     "metadata": {},
     "output_type": "execute_result"
    }
   ],
   "source": [
    "summer.loc[:'CHASAPIS, Spiridon']"
   ],
   "metadata": {
    "collapsed": false,
    "pycharm": {
     "name": "#%%\n"
    }
   }
  },
  {
   "cell_type": "code",
   "execution_count": 51,
   "outputs": [],
   "source": [
    "# This errors because this index is not unique\n",
    "# summer.loc[:'PHELPS, Michael']"
   ],
   "metadata": {
    "collapsed": false,
    "pycharm": {
     "name": "#%%\n"
    }
   }
  },
  {
   "cell_type": "code",
   "execution_count": 52,
   "outputs": [
    {
     "data": {
      "text/plain": "                       Year    City      Sport Discipline Country Gender  \\\nAthlete                                                                    \nHAJOS, Alfred          1896  Athens   Aquatics   Swimming     HUN    Men   \nHERSCHMANN, Otto       1896  Athens   Aquatics   Swimming     AUT    Men   \nDRIVAS, Dimitrios      1896  Athens   Aquatics   Swimming     GRE    Men   \nMALOKINIS, Ioannis     1896  Athens   Aquatics   Swimming     GRE    Men   \nCHASAPIS, Spiridon     1896  Athens   Aquatics   Swimming     GRE    Men   \nCHOROPHAS, Efstathios  1896  Athens   Aquatics   Swimming     GRE    Men   \nHAJOS, Alfred          1896  Athens   Aquatics   Swimming     HUN    Men   \nANDREOU, Joannis       1896  Athens   Aquatics   Swimming     GRE    Men   \nCHOROPHAS, Efstathios  1896  Athens   Aquatics   Swimming     GRE    Men   \nNEUMANN, Paul          1896  Athens   Aquatics   Swimming     AUT    Men   \nPEPANOS, Antonios      1896  Athens   Aquatics   Swimming     GRE    Men   \nLANE, Francis          1896  Athens  Athletics  Athletics     USA    Men   \nSZOKOLYI, Alajos       1896  Athens  Athletics  Athletics     HUN    Men   \nBURKE, Thomas          1896  Athens  Athletics  Athletics     USA    Men   \nHOFMANN, Fritz         1896  Athens  Athletics  Athletics     GER    Men   \nCURTIS, Thomas         1896  Athens  Athletics  Athletics     USA    Men   \nGOULDING, Grantley     1896  Athens  Athletics  Athletics     GBR    Men   \nLERMUSIAUX, Albin      1896  Athens  Athletics  Athletics     FRA    Men   \nFLACK, Edwin           1896  Athens  Athletics  Athletics     AUS    Men   \nBLAKE, Arthur          1896  Athens  Athletics  Athletics     USA    Men   \n\n                                            Event   Medal  \nAthlete                                                    \nHAJOS, Alfred                      100M Freestyle    Gold  \nHERSCHMANN, Otto                   100M Freestyle  Silver  \nDRIVAS, Dimitrios      100M Freestyle For Sailors  Bronze  \nMALOKINIS, Ioannis     100M Freestyle For Sailors    Gold  \nCHASAPIS, Spiridon     100M Freestyle For Sailors  Silver  \nCHOROPHAS, Efstathios             1200M Freestyle  Bronze  \nHAJOS, Alfred                     1200M Freestyle    Gold  \nANDREOU, Joannis                  1200M Freestyle  Silver  \nCHOROPHAS, Efstathios              400M Freestyle  Bronze  \nNEUMANN, Paul                      400M Freestyle    Gold  \nPEPANOS, Antonios                  400M Freestyle  Silver  \nLANE, Francis                                100M  Bronze  \nSZOKOLYI, Alajos                             100M  Bronze  \nBURKE, Thomas                                100M    Gold  \nHOFMANN, Fritz                               100M  Silver  \nCURTIS, Thomas                       110M Hurdles    Gold  \nGOULDING, Grantley                   110M Hurdles  Silver  \nLERMUSIAUX, Albin                           1500M  Bronze  \nFLACK, Edwin                                1500M    Gold  \nBLAKE, Arthur                               1500M  Silver  ",
      "text/html": "<div>\n<style scoped>\n    .dataframe tbody tr th:only-of-type {\n        vertical-align: middle;\n    }\n\n    .dataframe tbody tr th {\n        vertical-align: top;\n    }\n\n    .dataframe thead th {\n        text-align: right;\n    }\n</style>\n<table border=\"1\" class=\"dataframe\">\n  <thead>\n    <tr style=\"text-align: right;\">\n      <th></th>\n      <th>Year</th>\n      <th>City</th>\n      <th>Sport</th>\n      <th>Discipline</th>\n      <th>Country</th>\n      <th>Gender</th>\n      <th>Event</th>\n      <th>Medal</th>\n    </tr>\n    <tr>\n      <th>Athlete</th>\n      <th></th>\n      <th></th>\n      <th></th>\n      <th></th>\n      <th></th>\n      <th></th>\n      <th></th>\n      <th></th>\n    </tr>\n  </thead>\n  <tbody>\n    <tr>\n      <th>HAJOS, Alfred</th>\n      <td>1896</td>\n      <td>Athens</td>\n      <td>Aquatics</td>\n      <td>Swimming</td>\n      <td>HUN</td>\n      <td>Men</td>\n      <td>100M Freestyle</td>\n      <td>Gold</td>\n    </tr>\n    <tr>\n      <th>HERSCHMANN, Otto</th>\n      <td>1896</td>\n      <td>Athens</td>\n      <td>Aquatics</td>\n      <td>Swimming</td>\n      <td>AUT</td>\n      <td>Men</td>\n      <td>100M Freestyle</td>\n      <td>Silver</td>\n    </tr>\n    <tr>\n      <th>DRIVAS, Dimitrios</th>\n      <td>1896</td>\n      <td>Athens</td>\n      <td>Aquatics</td>\n      <td>Swimming</td>\n      <td>GRE</td>\n      <td>Men</td>\n      <td>100M Freestyle For Sailors</td>\n      <td>Bronze</td>\n    </tr>\n    <tr>\n      <th>MALOKINIS, Ioannis</th>\n      <td>1896</td>\n      <td>Athens</td>\n      <td>Aquatics</td>\n      <td>Swimming</td>\n      <td>GRE</td>\n      <td>Men</td>\n      <td>100M Freestyle For Sailors</td>\n      <td>Gold</td>\n    </tr>\n    <tr>\n      <th>CHASAPIS, Spiridon</th>\n      <td>1896</td>\n      <td>Athens</td>\n      <td>Aquatics</td>\n      <td>Swimming</td>\n      <td>GRE</td>\n      <td>Men</td>\n      <td>100M Freestyle For Sailors</td>\n      <td>Silver</td>\n    </tr>\n    <tr>\n      <th>CHOROPHAS, Efstathios</th>\n      <td>1896</td>\n      <td>Athens</td>\n      <td>Aquatics</td>\n      <td>Swimming</td>\n      <td>GRE</td>\n      <td>Men</td>\n      <td>1200M Freestyle</td>\n      <td>Bronze</td>\n    </tr>\n    <tr>\n      <th>HAJOS, Alfred</th>\n      <td>1896</td>\n      <td>Athens</td>\n      <td>Aquatics</td>\n      <td>Swimming</td>\n      <td>HUN</td>\n      <td>Men</td>\n      <td>1200M Freestyle</td>\n      <td>Gold</td>\n    </tr>\n    <tr>\n      <th>ANDREOU, Joannis</th>\n      <td>1896</td>\n      <td>Athens</td>\n      <td>Aquatics</td>\n      <td>Swimming</td>\n      <td>GRE</td>\n      <td>Men</td>\n      <td>1200M Freestyle</td>\n      <td>Silver</td>\n    </tr>\n    <tr>\n      <th>CHOROPHAS, Efstathios</th>\n      <td>1896</td>\n      <td>Athens</td>\n      <td>Aquatics</td>\n      <td>Swimming</td>\n      <td>GRE</td>\n      <td>Men</td>\n      <td>400M Freestyle</td>\n      <td>Bronze</td>\n    </tr>\n    <tr>\n      <th>NEUMANN, Paul</th>\n      <td>1896</td>\n      <td>Athens</td>\n      <td>Aquatics</td>\n      <td>Swimming</td>\n      <td>AUT</td>\n      <td>Men</td>\n      <td>400M Freestyle</td>\n      <td>Gold</td>\n    </tr>\n    <tr>\n      <th>PEPANOS, Antonios</th>\n      <td>1896</td>\n      <td>Athens</td>\n      <td>Aquatics</td>\n      <td>Swimming</td>\n      <td>GRE</td>\n      <td>Men</td>\n      <td>400M Freestyle</td>\n      <td>Silver</td>\n    </tr>\n    <tr>\n      <th>LANE, Francis</th>\n      <td>1896</td>\n      <td>Athens</td>\n      <td>Athletics</td>\n      <td>Athletics</td>\n      <td>USA</td>\n      <td>Men</td>\n      <td>100M</td>\n      <td>Bronze</td>\n    </tr>\n    <tr>\n      <th>SZOKOLYI, Alajos</th>\n      <td>1896</td>\n      <td>Athens</td>\n      <td>Athletics</td>\n      <td>Athletics</td>\n      <td>HUN</td>\n      <td>Men</td>\n      <td>100M</td>\n      <td>Bronze</td>\n    </tr>\n    <tr>\n      <th>BURKE, Thomas</th>\n      <td>1896</td>\n      <td>Athens</td>\n      <td>Athletics</td>\n      <td>Athletics</td>\n      <td>USA</td>\n      <td>Men</td>\n      <td>100M</td>\n      <td>Gold</td>\n    </tr>\n    <tr>\n      <th>HOFMANN, Fritz</th>\n      <td>1896</td>\n      <td>Athens</td>\n      <td>Athletics</td>\n      <td>Athletics</td>\n      <td>GER</td>\n      <td>Men</td>\n      <td>100M</td>\n      <td>Silver</td>\n    </tr>\n    <tr>\n      <th>CURTIS, Thomas</th>\n      <td>1896</td>\n      <td>Athens</td>\n      <td>Athletics</td>\n      <td>Athletics</td>\n      <td>USA</td>\n      <td>Men</td>\n      <td>110M Hurdles</td>\n      <td>Gold</td>\n    </tr>\n    <tr>\n      <th>GOULDING, Grantley</th>\n      <td>1896</td>\n      <td>Athens</td>\n      <td>Athletics</td>\n      <td>Athletics</td>\n      <td>GBR</td>\n      <td>Men</td>\n      <td>110M Hurdles</td>\n      <td>Silver</td>\n    </tr>\n    <tr>\n      <th>LERMUSIAUX, Albin</th>\n      <td>1896</td>\n      <td>Athens</td>\n      <td>Athletics</td>\n      <td>Athletics</td>\n      <td>FRA</td>\n      <td>Men</td>\n      <td>1500M</td>\n      <td>Bronze</td>\n    </tr>\n    <tr>\n      <th>FLACK, Edwin</th>\n      <td>1896</td>\n      <td>Athens</td>\n      <td>Athletics</td>\n      <td>Athletics</td>\n      <td>AUS</td>\n      <td>Men</td>\n      <td>1500M</td>\n      <td>Gold</td>\n    </tr>\n    <tr>\n      <th>BLAKE, Arthur</th>\n      <td>1896</td>\n      <td>Athens</td>\n      <td>Athletics</td>\n      <td>Athletics</td>\n      <td>USA</td>\n      <td>Men</td>\n      <td>1500M</td>\n      <td>Silver</td>\n    </tr>\n  </tbody>\n</table>\n</div>"
     },
     "execution_count": 52,
     "metadata": {},
     "output_type": "execute_result"
    }
   ],
   "source": [
    "summer.head(20)"
   ],
   "metadata": {
    "collapsed": false,
    "pycharm": {
     "name": "#%%\n"
    }
   }
  },
  {
   "cell_type": "code",
   "execution_count": 54,
   "outputs": [
    {
     "data": {
      "text/plain": "                         City      Sport Discipline\nAthlete                                            \nDRIVAS, Dimitrios      Athens   Aquatics   Swimming\nMALOKINIS, Ioannis     Athens   Aquatics   Swimming\nCHASAPIS, Spiridon     Athens   Aquatics   Swimming\nCHOROPHAS, Efstathios  Athens   Aquatics   Swimming\nHAJOS, Alfred          Athens   Aquatics   Swimming\nANDREOU, Joannis       Athens   Aquatics   Swimming\nCHOROPHAS, Efstathios  Athens   Aquatics   Swimming\nNEUMANN, Paul          Athens   Aquatics   Swimming\nPEPANOS, Antonios      Athens   Aquatics   Swimming\nLANE, Francis          Athens  Athletics  Athletics\nSZOKOLYI, Alajos       Athens  Athletics  Athletics\nBURKE, Thomas          Athens  Athletics  Athletics\nHOFMANN, Fritz         Athens  Athletics  Athletics\nCURTIS, Thomas         Athens  Athletics  Athletics\nGOULDING, Grantley     Athens  Athletics  Athletics\nLERMUSIAUX, Albin      Athens  Athletics  Athletics\nFLACK, Edwin           Athens  Athletics  Athletics\nBLAKE, Arthur          Athens  Athletics  Athletics",
      "text/html": "<div>\n<style scoped>\n    .dataframe tbody tr th:only-of-type {\n        vertical-align: middle;\n    }\n\n    .dataframe tbody tr th {\n        vertical-align: top;\n    }\n\n    .dataframe thead th {\n        text-align: right;\n    }\n</style>\n<table border=\"1\" class=\"dataframe\">\n  <thead>\n    <tr style=\"text-align: right;\">\n      <th></th>\n      <th>City</th>\n      <th>Sport</th>\n      <th>Discipline</th>\n    </tr>\n    <tr>\n      <th>Athlete</th>\n      <th></th>\n      <th></th>\n      <th></th>\n    </tr>\n  </thead>\n  <tbody>\n    <tr>\n      <th>DRIVAS, Dimitrios</th>\n      <td>Athens</td>\n      <td>Aquatics</td>\n      <td>Swimming</td>\n    </tr>\n    <tr>\n      <th>MALOKINIS, Ioannis</th>\n      <td>Athens</td>\n      <td>Aquatics</td>\n      <td>Swimming</td>\n    </tr>\n    <tr>\n      <th>CHASAPIS, Spiridon</th>\n      <td>Athens</td>\n      <td>Aquatics</td>\n      <td>Swimming</td>\n    </tr>\n    <tr>\n      <th>CHOROPHAS, Efstathios</th>\n      <td>Athens</td>\n      <td>Aquatics</td>\n      <td>Swimming</td>\n    </tr>\n    <tr>\n      <th>HAJOS, Alfred</th>\n      <td>Athens</td>\n      <td>Aquatics</td>\n      <td>Swimming</td>\n    </tr>\n    <tr>\n      <th>ANDREOU, Joannis</th>\n      <td>Athens</td>\n      <td>Aquatics</td>\n      <td>Swimming</td>\n    </tr>\n    <tr>\n      <th>CHOROPHAS, Efstathios</th>\n      <td>Athens</td>\n      <td>Aquatics</td>\n      <td>Swimming</td>\n    </tr>\n    <tr>\n      <th>NEUMANN, Paul</th>\n      <td>Athens</td>\n      <td>Aquatics</td>\n      <td>Swimming</td>\n    </tr>\n    <tr>\n      <th>PEPANOS, Antonios</th>\n      <td>Athens</td>\n      <td>Aquatics</td>\n      <td>Swimming</td>\n    </tr>\n    <tr>\n      <th>LANE, Francis</th>\n      <td>Athens</td>\n      <td>Athletics</td>\n      <td>Athletics</td>\n    </tr>\n    <tr>\n      <th>SZOKOLYI, Alajos</th>\n      <td>Athens</td>\n      <td>Athletics</td>\n      <td>Athletics</td>\n    </tr>\n    <tr>\n      <th>BURKE, Thomas</th>\n      <td>Athens</td>\n      <td>Athletics</td>\n      <td>Athletics</td>\n    </tr>\n    <tr>\n      <th>HOFMANN, Fritz</th>\n      <td>Athens</td>\n      <td>Athletics</td>\n      <td>Athletics</td>\n    </tr>\n    <tr>\n      <th>CURTIS, Thomas</th>\n      <td>Athens</td>\n      <td>Athletics</td>\n      <td>Athletics</td>\n    </tr>\n    <tr>\n      <th>GOULDING, Grantley</th>\n      <td>Athens</td>\n      <td>Athletics</td>\n      <td>Athletics</td>\n    </tr>\n    <tr>\n      <th>LERMUSIAUX, Albin</th>\n      <td>Athens</td>\n      <td>Athletics</td>\n      <td>Athletics</td>\n    </tr>\n    <tr>\n      <th>FLACK, Edwin</th>\n      <td>Athens</td>\n      <td>Athletics</td>\n      <td>Athletics</td>\n    </tr>\n    <tr>\n      <th>BLAKE, Arthur</th>\n      <td>Athens</td>\n      <td>Athletics</td>\n      <td>Athletics</td>\n    </tr>\n  </tbody>\n</table>\n</div>"
     },
     "execution_count": 54,
     "metadata": {},
     "output_type": "execute_result"
    }
   ],
   "source": [
    "summer.loc['DRIVAS, Dimitrios':'BLAKE, Arthur', 'City':'Discipline']"
   ],
   "metadata": {
    "collapsed": false,
    "pycharm": {
     "name": "#%%\n"
    }
   }
  },
  {
   "cell_type": "markdown",
   "source": [
    "## Panda Series\n",
    "### First Steps"
   ],
   "metadata": {
    "collapsed": false,
    "pycharm": {
     "name": "#%% md\n"
    }
   }
  },
  {
   "cell_type": "code",
   "execution_count": 55,
   "outputs": [
    {
     "data": {
      "text/plain": "     survived  pclass     sex   age  sibsp  parch     fare embarked deck\n0           0       3    male  22.0      1      0   7.2500        S  NaN\n1           1       1  female  38.0      1      0  71.2833        C    C\n2           1       3  female  26.0      0      0   7.9250        S  NaN\n3           1       1  female  35.0      1      0  53.1000        S    C\n4           0       3    male  35.0      0      0   8.0500        S  NaN\n..        ...     ...     ...   ...    ...    ...      ...      ...  ...\n886         0       2    male  27.0      0      0  13.0000        S  NaN\n887         1       1  female  19.0      0      0  30.0000        S    B\n888         0       3  female   NaN      1      2  23.4500        S  NaN\n889         1       1    male  26.0      0      0  30.0000        C    C\n890         0       3    male  32.0      0      0   7.7500        Q  NaN\n\n[891 rows x 9 columns]",
      "text/html": "<div>\n<style scoped>\n    .dataframe tbody tr th:only-of-type {\n        vertical-align: middle;\n    }\n\n    .dataframe tbody tr th {\n        vertical-align: top;\n    }\n\n    .dataframe thead th {\n        text-align: right;\n    }\n</style>\n<table border=\"1\" class=\"dataframe\">\n  <thead>\n    <tr style=\"text-align: right;\">\n      <th></th>\n      <th>survived</th>\n      <th>pclass</th>\n      <th>sex</th>\n      <th>age</th>\n      <th>sibsp</th>\n      <th>parch</th>\n      <th>fare</th>\n      <th>embarked</th>\n      <th>deck</th>\n    </tr>\n  </thead>\n  <tbody>\n    <tr>\n      <th>0</th>\n      <td>0</td>\n      <td>3</td>\n      <td>male</td>\n      <td>22.0</td>\n      <td>1</td>\n      <td>0</td>\n      <td>7.2500</td>\n      <td>S</td>\n      <td>NaN</td>\n    </tr>\n    <tr>\n      <th>1</th>\n      <td>1</td>\n      <td>1</td>\n      <td>female</td>\n      <td>38.0</td>\n      <td>1</td>\n      <td>0</td>\n      <td>71.2833</td>\n      <td>C</td>\n      <td>C</td>\n    </tr>\n    <tr>\n      <th>2</th>\n      <td>1</td>\n      <td>3</td>\n      <td>female</td>\n      <td>26.0</td>\n      <td>0</td>\n      <td>0</td>\n      <td>7.9250</td>\n      <td>S</td>\n      <td>NaN</td>\n    </tr>\n    <tr>\n      <th>3</th>\n      <td>1</td>\n      <td>1</td>\n      <td>female</td>\n      <td>35.0</td>\n      <td>1</td>\n      <td>0</td>\n      <td>53.1000</td>\n      <td>S</td>\n      <td>C</td>\n    </tr>\n    <tr>\n      <th>4</th>\n      <td>0</td>\n      <td>3</td>\n      <td>male</td>\n      <td>35.0</td>\n      <td>0</td>\n      <td>0</td>\n      <td>8.0500</td>\n      <td>S</td>\n      <td>NaN</td>\n    </tr>\n    <tr>\n      <th>...</th>\n      <td>...</td>\n      <td>...</td>\n      <td>...</td>\n      <td>...</td>\n      <td>...</td>\n      <td>...</td>\n      <td>...</td>\n      <td>...</td>\n      <td>...</td>\n    </tr>\n    <tr>\n      <th>886</th>\n      <td>0</td>\n      <td>2</td>\n      <td>male</td>\n      <td>27.0</td>\n      <td>0</td>\n      <td>0</td>\n      <td>13.0000</td>\n      <td>S</td>\n      <td>NaN</td>\n    </tr>\n    <tr>\n      <th>887</th>\n      <td>1</td>\n      <td>1</td>\n      <td>female</td>\n      <td>19.0</td>\n      <td>0</td>\n      <td>0</td>\n      <td>30.0000</td>\n      <td>S</td>\n      <td>B</td>\n    </tr>\n    <tr>\n      <th>888</th>\n      <td>0</td>\n      <td>3</td>\n      <td>female</td>\n      <td>NaN</td>\n      <td>1</td>\n      <td>2</td>\n      <td>23.4500</td>\n      <td>S</td>\n      <td>NaN</td>\n    </tr>\n    <tr>\n      <th>889</th>\n      <td>1</td>\n      <td>1</td>\n      <td>male</td>\n      <td>26.0</td>\n      <td>0</td>\n      <td>0</td>\n      <td>30.0000</td>\n      <td>C</td>\n      <td>C</td>\n    </tr>\n    <tr>\n      <th>890</th>\n      <td>0</td>\n      <td>3</td>\n      <td>male</td>\n      <td>32.0</td>\n      <td>0</td>\n      <td>0</td>\n      <td>7.7500</td>\n      <td>Q</td>\n      <td>NaN</td>\n    </tr>\n  </tbody>\n</table>\n<p>891 rows × 9 columns</p>\n</div>"
     },
     "execution_count": 55,
     "metadata": {},
     "output_type": "execute_result"
    }
   ],
   "source": [
    "titanic = pd.read_csv('data/titanic.csv')\n",
    "titanic"
   ],
   "metadata": {
    "collapsed": false,
    "pycharm": {
     "name": "#%%\n"
    }
   }
  },
  {
   "cell_type": "code",
   "execution_count": 56,
   "outputs": [
    {
     "name": "stdout",
     "output_type": "stream",
     "text": [
      "<class 'pandas.core.frame.DataFrame'>\n",
      "RangeIndex: 891 entries, 0 to 890\n",
      "Data columns (total 9 columns):\n",
      " #   Column    Non-Null Count  Dtype  \n",
      "---  ------    --------------  -----  \n",
      " 0   survived  891 non-null    int64  \n",
      " 1   pclass    891 non-null    int64  \n",
      " 2   sex       891 non-null    object \n",
      " 3   age       714 non-null    float64\n",
      " 4   sibsp     891 non-null    int64  \n",
      " 5   parch     891 non-null    int64  \n",
      " 6   fare      891 non-null    float64\n",
      " 7   embarked  889 non-null    object \n",
      " 8   deck      203 non-null    object \n",
      "dtypes: float64(2), int64(4), object(3)\n",
      "memory usage: 62.8+ KB\n"
     ]
    }
   ],
   "source": [
    "titanic.info()"
   ],
   "metadata": {
    "collapsed": false,
    "pycharm": {
     "name": "#%%\n"
    }
   }
  },
  {
   "cell_type": "code",
   "execution_count": 57,
   "outputs": [
    {
     "data": {
      "text/plain": "0      22.0\n1      38.0\n2      26.0\n3      35.0\n4      35.0\n       ... \n886    27.0\n887    19.0\n888     NaN\n889    26.0\n890    32.0\nName: age, Length: 891, dtype: float64"
     },
     "execution_count": 57,
     "metadata": {},
     "output_type": "execute_result"
    }
   ],
   "source": [
    "titanic['age']"
   ],
   "metadata": {
    "collapsed": false,
    "pycharm": {
     "name": "#%%\n"
    }
   }
  },
  {
   "cell_type": "code",
   "execution_count": 58,
   "outputs": [
    {
     "data": {
      "text/plain": "pandas.core.series.Series"
     },
     "execution_count": 58,
     "metadata": {},
     "output_type": "execute_result"
    }
   ],
   "source": [
    "type(titanic.age)"
   ],
   "metadata": {
    "collapsed": false,
    "pycharm": {
     "name": "#%%\n"
    }
   }
  },
  {
   "cell_type": "code",
   "execution_count": 61,
   "outputs": [
    {
     "data": {
      "text/plain": "True"
     },
     "execution_count": 61,
     "metadata": {},
     "output_type": "execute_result"
    }
   ],
   "source": [
    "titanic['age'].equals(titanic.age)"
   ],
   "metadata": {
    "collapsed": false,
    "pycharm": {
     "name": "#%%\n"
    }
   }
  },
  {
   "cell_type": "code",
   "execution_count": 62,
   "outputs": [],
   "source": [
    "age = titanic['age']"
   ],
   "metadata": {
    "collapsed": false,
    "pycharm": {
     "name": "#%%\n"
    }
   }
  },
  {
   "cell_type": "code",
   "execution_count": 63,
   "outputs": [
    {
     "data": {
      "text/plain": "0    22.0\n1    38.0\n2    26.0\n3    35.0\n4    35.0\nName: age, dtype: float64"
     },
     "execution_count": 63,
     "metadata": {},
     "output_type": "execute_result"
    }
   ],
   "source": [
    "age.head()"
   ],
   "metadata": {
    "collapsed": false,
    "pycharm": {
     "name": "#%%\n"
    }
   }
  },
  {
   "cell_type": "code",
   "execution_count": 64,
   "outputs": [
    {
     "data": {
      "text/plain": "886    27.0\n887    19.0\n888     NaN\n889    26.0\n890    32.0\nName: age, dtype: float64"
     },
     "execution_count": 64,
     "metadata": {},
     "output_type": "execute_result"
    }
   ],
   "source": [
    "age.tail()"
   ],
   "metadata": {
    "collapsed": false,
    "pycharm": {
     "name": "#%%\n"
    }
   }
  },
  {
   "cell_type": "code",
   "execution_count": 65,
   "outputs": [
    {
     "data": {
      "text/plain": "dtype('float64')"
     },
     "execution_count": 65,
     "metadata": {},
     "output_type": "execute_result"
    }
   ],
   "source": [
    "age.dtype"
   ],
   "metadata": {
    "collapsed": false,
    "pycharm": {
     "name": "#%%\n"
    }
   }
  },
  {
   "cell_type": "code",
   "execution_count": 66,
   "outputs": [
    {
     "data": {
      "text/plain": "(891,)"
     },
     "execution_count": 66,
     "metadata": {},
     "output_type": "execute_result"
    }
   ],
   "source": [
    "age.shape"
   ],
   "metadata": {
    "collapsed": false,
    "pycharm": {
     "name": "#%%\n"
    }
   }
  },
  {
   "cell_type": "code",
   "execution_count": 67,
   "outputs": [
    {
     "data": {
      "text/plain": "891"
     },
     "execution_count": 67,
     "metadata": {},
     "output_type": "execute_result"
    }
   ],
   "source": [
    "len(age)"
   ],
   "metadata": {
    "collapsed": false,
    "pycharm": {
     "name": "#%%\n"
    }
   }
  },
  {
   "cell_type": "code",
   "execution_count": 68,
   "outputs": [
    {
     "data": {
      "text/plain": "RangeIndex(start=0, stop=891, step=1)"
     },
     "execution_count": 68,
     "metadata": {},
     "output_type": "execute_result"
    }
   ],
   "source": [
    "age.index"
   ],
   "metadata": {
    "collapsed": false,
    "pycharm": {
     "name": "#%%\n"
    }
   }
  },
  {
   "cell_type": "code",
   "execution_count": 70,
   "outputs": [],
   "source": [
    "# info not available on series\n",
    "# age.info()"
   ],
   "metadata": {
    "collapsed": false,
    "pycharm": {
     "name": "#%%\n"
    }
   }
  },
  {
   "cell_type": "code",
   "execution_count": 71,
   "outputs": [
    {
     "data": {
      "text/plain": "      age\n0    22.0\n1    38.0\n2    26.0\n3    35.0\n4    35.0\n..    ...\n886  27.0\n887  19.0\n888   NaN\n889  26.0\n890  32.0\n\n[891 rows x 1 columns]",
      "text/html": "<div>\n<style scoped>\n    .dataframe tbody tr th:only-of-type {\n        vertical-align: middle;\n    }\n\n    .dataframe tbody tr th {\n        vertical-align: top;\n    }\n\n    .dataframe thead th {\n        text-align: right;\n    }\n</style>\n<table border=\"1\" class=\"dataframe\">\n  <thead>\n    <tr style=\"text-align: right;\">\n      <th></th>\n      <th>age</th>\n    </tr>\n  </thead>\n  <tbody>\n    <tr>\n      <th>0</th>\n      <td>22.0</td>\n    </tr>\n    <tr>\n      <th>1</th>\n      <td>38.0</td>\n    </tr>\n    <tr>\n      <th>2</th>\n      <td>26.0</td>\n    </tr>\n    <tr>\n      <th>3</th>\n      <td>35.0</td>\n    </tr>\n    <tr>\n      <th>4</th>\n      <td>35.0</td>\n    </tr>\n    <tr>\n      <th>...</th>\n      <td>...</td>\n    </tr>\n    <tr>\n      <th>886</th>\n      <td>27.0</td>\n    </tr>\n    <tr>\n      <th>887</th>\n      <td>19.0</td>\n    </tr>\n    <tr>\n      <th>888</th>\n      <td>NaN</td>\n    </tr>\n    <tr>\n      <th>889</th>\n      <td>26.0</td>\n    </tr>\n    <tr>\n      <th>890</th>\n      <td>32.0</td>\n    </tr>\n  </tbody>\n</table>\n<p>891 rows × 1 columns</p>\n</div>"
     },
     "execution_count": 71,
     "metadata": {},
     "output_type": "execute_result"
    }
   ],
   "source": [
    "age.to_frame()"
   ],
   "metadata": {
    "collapsed": false,
    "pycharm": {
     "name": "#%%\n"
    }
   }
  },
  {
   "cell_type": "code",
   "execution_count": 72,
   "outputs": [
    {
     "name": "stdout",
     "output_type": "stream",
     "text": [
      "<class 'pandas.core.frame.DataFrame'>\n",
      "RangeIndex: 891 entries, 0 to 890\n",
      "Data columns (total 1 columns):\n",
      " #   Column  Non-Null Count  Dtype  \n",
      "---  ------  --------------  -----  \n",
      " 0   age     714 non-null    float64\n",
      "dtypes: float64(1)\n",
      "memory usage: 7.1 KB\n"
     ]
    }
   ],
   "source": [
    "age.to_frame().info()"
   ],
   "metadata": {
    "collapsed": false,
    "pycharm": {
     "name": "#%%\n"
    }
   }
  },
  {
   "cell_type": "markdown",
   "source": [
    "### Analyzing Numerical Series"
   ],
   "metadata": {
    "collapsed": false,
    "pycharm": {
     "name": "#%% md\n"
    }
   }
  },
  {
   "cell_type": "code",
   "execution_count": 73,
   "outputs": [
    {
     "data": {
      "text/plain": "0      22.0\n1      38.0\n2      26.0\n3      35.0\n4      35.0\n       ... \n886    27.0\n887    19.0\n888     NaN\n889    26.0\n890    32.0\nName: age, Length: 891, dtype: float64"
     },
     "execution_count": 73,
     "metadata": {},
     "output_type": "execute_result"
    }
   ],
   "source": [
    "age"
   ],
   "metadata": {
    "collapsed": false,
    "pycharm": {
     "name": "#%%\n"
    }
   }
  },
  {
   "cell_type": "code",
   "execution_count": 74,
   "outputs": [
    {
     "data": {
      "text/plain": "count    714.000000\nmean      29.699118\nstd       14.526497\nmin        0.420000\n25%       20.125000\n50%       28.000000\n75%       38.000000\nmax       80.000000\nName: age, dtype: float64"
     },
     "execution_count": 74,
     "metadata": {},
     "output_type": "execute_result"
    }
   ],
   "source": [
    "age.describe()"
   ],
   "metadata": {
    "collapsed": false,
    "pycharm": {
     "name": "#%%\n"
    }
   }
  },
  {
   "cell_type": "code",
   "execution_count": 75,
   "outputs": [
    {
     "data": {
      "text/plain": "714"
     },
     "execution_count": 75,
     "metadata": {},
     "output_type": "execute_result"
    }
   ],
   "source": [
    "age.count()"
   ],
   "metadata": {
    "collapsed": false,
    "pycharm": {
     "name": "#%%\n"
    }
   }
  },
  {
   "cell_type": "code",
   "execution_count": 76,
   "outputs": [
    {
     "data": {
      "text/plain": "891"
     },
     "execution_count": 76,
     "metadata": {},
     "output_type": "execute_result"
    }
   ],
   "source": [
    "age.size"
   ],
   "metadata": {
    "collapsed": false,
    "pycharm": {
     "name": "#%%\n"
    }
   }
  },
  {
   "cell_type": "code",
   "execution_count": 77,
   "outputs": [
    {
     "data": {
      "text/plain": "891"
     },
     "execution_count": 77,
     "metadata": {},
     "output_type": "execute_result"
    }
   ],
   "source": [
    "len(age)"
   ],
   "metadata": {
    "collapsed": false,
    "pycharm": {
     "name": "#%%\n"
    }
   }
  },
  {
   "cell_type": "code",
   "execution_count": 88,
   "outputs": [
    {
     "data": {
      "text/plain": "21205.17"
     },
     "execution_count": 88,
     "metadata": {},
     "output_type": "execute_result"
    }
   ],
   "source": [
    "# default parameter skipna = True\n",
    "age.sum()"
   ],
   "metadata": {
    "collapsed": false,
    "pycharm": {
     "name": "#%%\n"
    }
   }
  },
  {
   "cell_type": "code",
   "execution_count": 89,
   "outputs": [
    {
     "data": {
      "text/plain": "nan"
     },
     "execution_count": 89,
     "metadata": {},
     "output_type": "execute_result"
    }
   ],
   "source": [
    "sum(age)"
   ],
   "metadata": {
    "collapsed": false,
    "pycharm": {
     "name": "#%%\n"
    }
   }
  },
  {
   "cell_type": "code",
   "execution_count": 90,
   "outputs": [
    {
     "data": {
      "text/plain": "29.69911764705882"
     },
     "execution_count": 90,
     "metadata": {},
     "output_type": "execute_result"
    }
   ],
   "source": [
    "age.mean()"
   ],
   "metadata": {
    "collapsed": false,
    "pycharm": {
     "name": "#%%\n"
    }
   }
  },
  {
   "cell_type": "code",
   "execution_count": 91,
   "outputs": [
    {
     "data": {
      "text/plain": "28.0"
     },
     "execution_count": 91,
     "metadata": {},
     "output_type": "execute_result"
    }
   ],
   "source": [
    "age.median()"
   ],
   "metadata": {
    "collapsed": false,
    "pycharm": {
     "name": "#%%\n"
    }
   }
  },
  {
   "cell_type": "code",
   "execution_count": 92,
   "outputs": [
    {
     "data": {
      "text/plain": "14.526497332334044"
     },
     "execution_count": 92,
     "metadata": {},
     "output_type": "execute_result"
    }
   ],
   "source": [
    "age.std()"
   ],
   "metadata": {
    "collapsed": false,
    "pycharm": {
     "name": "#%%\n"
    }
   }
  },
  {
   "cell_type": "code",
   "execution_count": 93,
   "outputs": [
    {
     "data": {
      "text/plain": "0.42"
     },
     "execution_count": 93,
     "metadata": {},
     "output_type": "execute_result"
    }
   ],
   "source": [
    "age.min()"
   ],
   "metadata": {
    "collapsed": false,
    "pycharm": {
     "name": "#%%\n"
    }
   }
  },
  {
   "cell_type": "code",
   "execution_count": 94,
   "outputs": [
    {
     "data": {
      "text/plain": "80.0"
     },
     "execution_count": 94,
     "metadata": {},
     "output_type": "execute_result"
    }
   ],
   "source": [
    "age.max()"
   ],
   "metadata": {
    "collapsed": false,
    "pycharm": {
     "name": "#%%\n"
    }
   }
  },
  {
   "cell_type": "code",
   "execution_count": 95,
   "outputs": [
    {
     "data": {
      "text/plain": "array([22.  , 38.  , 26.  , 35.  ,   nan, 54.  ,  2.  , 27.  , 14.  ,\n        4.  , 58.  , 20.  , 39.  , 55.  , 31.  , 34.  , 15.  , 28.  ,\n        8.  , 19.  , 40.  , 66.  , 42.  , 21.  , 18.  ,  3.  ,  7.  ,\n       49.  , 29.  , 65.  , 28.5 ,  5.  , 11.  , 45.  , 17.  , 32.  ,\n       16.  , 25.  ,  0.83, 30.  , 33.  , 23.  , 24.  , 46.  , 59.  ,\n       71.  , 37.  , 47.  , 14.5 , 70.5 , 32.5 , 12.  ,  9.  , 36.5 ,\n       51.  , 55.5 , 40.5 , 44.  ,  1.  , 61.  , 56.  , 50.  , 36.  ,\n       45.5 , 20.5 , 62.  , 41.  , 52.  , 63.  , 23.5 ,  0.92, 43.  ,\n       60.  , 10.  , 64.  , 13.  , 48.  ,  0.75, 53.  , 57.  , 80.  ,\n       70.  , 24.5 ,  6.  ,  0.67, 30.5 ,  0.42, 34.5 , 74.  ])"
     },
     "execution_count": 95,
     "metadata": {},
     "output_type": "execute_result"
    }
   ],
   "source": [
    "age.unique()"
   ],
   "metadata": {
    "collapsed": false,
    "pycharm": {
     "name": "#%%\n"
    }
   }
  },
  {
   "cell_type": "code",
   "execution_count": 96,
   "outputs": [
    {
     "data": {
      "text/plain": "89"
     },
     "execution_count": 96,
     "metadata": {},
     "output_type": "execute_result"
    }
   ],
   "source": [
    "len(age.unique())"
   ],
   "metadata": {
    "collapsed": false,
    "pycharm": {
     "name": "#%%\n"
    }
   }
  },
  {
   "cell_type": "code",
   "execution_count": 97,
   "outputs": [
    {
     "data": {
      "text/plain": "88"
     },
     "execution_count": 97,
     "metadata": {},
     "output_type": "execute_result"
    }
   ],
   "source": [
    "age.nunique()"
   ],
   "metadata": {
    "collapsed": false,
    "pycharm": {
     "name": "#%%\n"
    }
   }
  },
  {
   "cell_type": "code",
   "execution_count": 98,
   "outputs": [
    {
     "data": {
      "text/plain": "24.00    30\n22.00    27\n18.00    26\n19.00    25\n28.00    25\n         ..\n36.50     1\n55.50     1\n0.92      1\n23.50     1\n74.00     1\nName: age, Length: 88, dtype: int64"
     },
     "execution_count": 98,
     "metadata": {},
     "output_type": "execute_result"
    }
   ],
   "source": [
    "age.value_counts()"
   ],
   "metadata": {
    "collapsed": false,
    "pycharm": {
     "name": "#%%\n"
    }
   }
  },
  {
   "cell_type": "code",
   "execution_count": 99,
   "outputs": [
    {
     "data": {
      "text/plain": "22.00    27\n38.00    11\n26.00    18\n35.00    18\n54.00     8\n         ..\n0.67      1\n30.50     2\n0.42      1\n34.50     1\n74.00     1\nName: age, Length: 88, dtype: int64"
     },
     "execution_count": 99,
     "metadata": {},
     "output_type": "execute_result"
    }
   ],
   "source": [
    "age.value_counts(sort=False)"
   ],
   "metadata": {
    "collapsed": false,
    "pycharm": {
     "name": "#%%\n"
    }
   }
  },
  {
   "cell_type": "code",
   "execution_count": 100,
   "outputs": [
    {
     "data": {
      "text/plain": "NaN      177\n24.00     30\n22.00     27\n18.00     26\n28.00     25\n        ... \n36.50      1\n55.50      1\n0.92       1\n23.50      1\n74.00      1\nName: age, Length: 89, dtype: int64"
     },
     "execution_count": 100,
     "metadata": {},
     "output_type": "execute_result"
    }
   ],
   "source": [
    "age.value_counts(dropna=False)"
   ],
   "metadata": {
    "collapsed": false,
    "pycharm": {
     "name": "#%%\n"
    }
   }
  },
  {
   "cell_type": "code",
   "execution_count": 102,
   "outputs": [
    {
     "data": {
      "text/plain": "74.0     1\n14.5     1\n70.5     1\n12.0     1\n36.5     1\n        ..\n30.0    25\n19.0    25\n18.0    26\n22.0    27\n24.0    30\nName: age, Length: 88, dtype: int64"
     },
     "execution_count": 102,
     "metadata": {},
     "output_type": "execute_result"
    }
   ],
   "source": [
    "age.value_counts(ascending=True)"
   ],
   "metadata": {
    "collapsed": false,
    "pycharm": {
     "name": "#%%\n"
    }
   }
  },
  {
   "cell_type": "code",
   "execution_count": 103,
   "outputs": [
    {
     "data": {
      "text/plain": "24.00    30\n22.00    27\n18.00    26\n19.00    25\n28.00    25\n         ..\n36.50     1\n55.50     1\n0.92      1\n23.50     1\n74.00     1\nName: age, Length: 88, dtype: int64"
     },
     "execution_count": 103,
     "metadata": {},
     "output_type": "execute_result"
    }
   ],
   "source": [
    "# Default Settings\n",
    "age.value_counts(sort=True, dropna=True, ascending=False, normalize=False)"
   ],
   "metadata": {
    "collapsed": false,
    "pycharm": {
     "name": "#%%\n"
    }
   }
  },
  {
   "cell_type": "code",
   "execution_count": 104,
   "outputs": [
    {
     "data": {
      "text/plain": "24.00    0.042017\n22.00    0.037815\n18.00    0.036415\n19.00    0.035014\n28.00    0.035014\n           ...   \n36.50    0.001401\n55.50    0.001401\n0.92     0.001401\n23.50    0.001401\n74.00    0.001401\nName: age, Length: 88, dtype: float64"
     },
     "execution_count": 104,
     "metadata": {},
     "output_type": "execute_result"
    }
   ],
   "source": [
    "age.value_counts(sort=True, dropna=True, ascending=False, normalize=True)"
   ],
   "metadata": {
    "collapsed": false,
    "pycharm": {
     "name": "#%%\n"
    }
   }
  },
  {
   "cell_type": "code",
   "execution_count": 105,
   "outputs": [
    {
     "data": {
      "text/plain": "0.04201680672268908"
     },
     "execution_count": 105,
     "metadata": {},
     "output_type": "execute_result"
    }
   ],
   "source": [
    "30/age.count()"
   ],
   "metadata": {
    "collapsed": false,
    "pycharm": {
     "name": "#%%\n"
    }
   }
  },
  {
   "cell_type": "code",
   "execution_count": 106,
   "outputs": [
    {
     "data": {
      "text/plain": "(16.336, 32.252]    346\n(32.252, 48.168]    188\n(0.339, 16.336]     100\n(48.168, 64.084]     69\n(64.084, 80.0]       11\nName: age, dtype: int64"
     },
     "execution_count": 106,
     "metadata": {},
     "output_type": "execute_result"
    }
   ],
   "source": [
    "age.value_counts(sort=True, dropna=True, ascending=False, normalize=False, bins=5)"
   ],
   "metadata": {
    "collapsed": false,
    "pycharm": {
     "name": "#%%\n"
    }
   }
  },
  {
   "cell_type": "markdown",
   "source": [
    "### Analyzing Non-numerical Series"
   ],
   "metadata": {
    "collapsed": false,
    "pycharm": {
     "name": "#%% md\n"
    }
   }
  },
  {
   "cell_type": "code",
   "execution_count": 107,
   "outputs": [
    {
     "data": {
      "text/plain": "   Year    City     Sport Discipline             Athlete Country Gender  \\\n0  1896  Athens  Aquatics   Swimming       HAJOS, Alfred     HUN    Men   \n1  1896  Athens  Aquatics   Swimming    HERSCHMANN, Otto     AUT    Men   \n2  1896  Athens  Aquatics   Swimming   DRIVAS, Dimitrios     GRE    Men   \n3  1896  Athens  Aquatics   Swimming  MALOKINIS, Ioannis     GRE    Men   \n4  1896  Athens  Aquatics   Swimming  CHASAPIS, Spiridon     GRE    Men   \n\n                        Event   Medal  \n0              100M Freestyle    Gold  \n1              100M Freestyle  Silver  \n2  100M Freestyle For Sailors  Bronze  \n3  100M Freestyle For Sailors    Gold  \n4  100M Freestyle For Sailors  Silver  ",
      "text/html": "<div>\n<style scoped>\n    .dataframe tbody tr th:only-of-type {\n        vertical-align: middle;\n    }\n\n    .dataframe tbody tr th {\n        vertical-align: top;\n    }\n\n    .dataframe thead th {\n        text-align: right;\n    }\n</style>\n<table border=\"1\" class=\"dataframe\">\n  <thead>\n    <tr style=\"text-align: right;\">\n      <th></th>\n      <th>Year</th>\n      <th>City</th>\n      <th>Sport</th>\n      <th>Discipline</th>\n      <th>Athlete</th>\n      <th>Country</th>\n      <th>Gender</th>\n      <th>Event</th>\n      <th>Medal</th>\n    </tr>\n  </thead>\n  <tbody>\n    <tr>\n      <th>0</th>\n      <td>1896</td>\n      <td>Athens</td>\n      <td>Aquatics</td>\n      <td>Swimming</td>\n      <td>HAJOS, Alfred</td>\n      <td>HUN</td>\n      <td>Men</td>\n      <td>100M Freestyle</td>\n      <td>Gold</td>\n    </tr>\n    <tr>\n      <th>1</th>\n      <td>1896</td>\n      <td>Athens</td>\n      <td>Aquatics</td>\n      <td>Swimming</td>\n      <td>HERSCHMANN, Otto</td>\n      <td>AUT</td>\n      <td>Men</td>\n      <td>100M Freestyle</td>\n      <td>Silver</td>\n    </tr>\n    <tr>\n      <th>2</th>\n      <td>1896</td>\n      <td>Athens</td>\n      <td>Aquatics</td>\n      <td>Swimming</td>\n      <td>DRIVAS, Dimitrios</td>\n      <td>GRE</td>\n      <td>Men</td>\n      <td>100M Freestyle For Sailors</td>\n      <td>Bronze</td>\n    </tr>\n    <tr>\n      <th>3</th>\n      <td>1896</td>\n      <td>Athens</td>\n      <td>Aquatics</td>\n      <td>Swimming</td>\n      <td>MALOKINIS, Ioannis</td>\n      <td>GRE</td>\n      <td>Men</td>\n      <td>100M Freestyle For Sailors</td>\n      <td>Gold</td>\n    </tr>\n    <tr>\n      <th>4</th>\n      <td>1896</td>\n      <td>Athens</td>\n      <td>Aquatics</td>\n      <td>Swimming</td>\n      <td>CHASAPIS, Spiridon</td>\n      <td>GRE</td>\n      <td>Men</td>\n      <td>100M Freestyle For Sailors</td>\n      <td>Silver</td>\n    </tr>\n  </tbody>\n</table>\n</div>"
     },
     "execution_count": 107,
     "metadata": {},
     "output_type": "execute_result"
    }
   ],
   "source": [
    "summer = pd.read_csv('data/summer.csv')\n",
    "summer.head()"
   ],
   "metadata": {
    "collapsed": false,
    "pycharm": {
     "name": "#%%\n"
    }
   }
  },
  {
   "cell_type": "code",
   "execution_count": 108,
   "outputs": [
    {
     "name": "stdout",
     "output_type": "stream",
     "text": [
      "<class 'pandas.core.frame.DataFrame'>\n",
      "RangeIndex: 31165 entries, 0 to 31164\n",
      "Data columns (total 9 columns):\n",
      " #   Column      Non-Null Count  Dtype \n",
      "---  ------      --------------  ----- \n",
      " 0   Year        31165 non-null  int64 \n",
      " 1   City        31165 non-null  object\n",
      " 2   Sport       31165 non-null  object\n",
      " 3   Discipline  31165 non-null  object\n",
      " 4   Athlete     31165 non-null  object\n",
      " 5   Country     31161 non-null  object\n",
      " 6   Gender      31165 non-null  object\n",
      " 7   Event       31165 non-null  object\n",
      " 8   Medal       31165 non-null  object\n",
      "dtypes: int64(1), object(8)\n",
      "memory usage: 2.1+ MB\n"
     ]
    }
   ],
   "source": [
    "summer.info()"
   ],
   "metadata": {
    "collapsed": false,
    "pycharm": {
     "name": "#%%\n"
    }
   }
  },
  {
   "cell_type": "code",
   "execution_count": 109,
   "outputs": [],
   "source": [
    "athlete = summer['Athlete']"
   ],
   "metadata": {
    "collapsed": false,
    "pycharm": {
     "name": "#%%\n"
    }
   }
  },
  {
   "cell_type": "code",
   "execution_count": 110,
   "outputs": [
    {
     "data": {
      "text/plain": "0         HAJOS, Alfred\n1      HERSCHMANN, Otto\n2     DRIVAS, Dimitrios\n3    MALOKINIS, Ioannis\n4    CHASAPIS, Spiridon\nName: Athlete, dtype: object"
     },
     "execution_count": 110,
     "metadata": {},
     "output_type": "execute_result"
    }
   ],
   "source": [
    "athlete.head()"
   ],
   "metadata": {
    "collapsed": false,
    "pycharm": {
     "name": "#%%\n"
    }
   }
  },
  {
   "cell_type": "code",
   "execution_count": 111,
   "outputs": [
    {
     "data": {
      "text/plain": "31160           JANIKOWSKI, Damian\n31161    REZAEI, Ghasem Gholamreza\n31162               TOTROV, Rustam\n31163            ALEKSANYAN, Artur\n31164               LIDBERG, Jimmy\nName: Athlete, dtype: object"
     },
     "execution_count": 111,
     "metadata": {},
     "output_type": "execute_result"
    }
   ],
   "source": [
    "athlete.tail(5)"
   ],
   "metadata": {
    "collapsed": false,
    "pycharm": {
     "name": "#%%\n"
    }
   }
  },
  {
   "cell_type": "code",
   "execution_count": 112,
   "outputs": [
    {
     "data": {
      "text/plain": "pandas.core.series.Series"
     },
     "execution_count": 112,
     "metadata": {},
     "output_type": "execute_result"
    }
   ],
   "source": [
    "type(athlete)"
   ],
   "metadata": {
    "collapsed": false,
    "pycharm": {
     "name": "#%%\n"
    }
   }
  },
  {
   "cell_type": "code",
   "execution_count": 113,
   "outputs": [
    {
     "data": {
      "text/plain": "dtype('O')"
     },
     "execution_count": 113,
     "metadata": {},
     "output_type": "execute_result"
    }
   ],
   "source": [
    "athlete.dtype"
   ],
   "metadata": {
    "collapsed": false,
    "pycharm": {
     "name": "#%%\n"
    }
   }
  },
  {
   "cell_type": "code",
   "execution_count": 115,
   "outputs": [
    {
     "data": {
      "text/plain": "(31165,)"
     },
     "execution_count": 115,
     "metadata": {},
     "output_type": "execute_result"
    }
   ],
   "source": [
    "athlete.shape"
   ],
   "metadata": {
    "collapsed": false,
    "pycharm": {
     "name": "#%%\n"
    }
   }
  },
  {
   "cell_type": "code",
   "execution_count": 116,
   "outputs": [
    {
     "data": {
      "text/plain": "count               31165\nunique              22762\ntop       PHELPS, Michael\nfreq                   22\nName: Athlete, dtype: object"
     },
     "execution_count": 116,
     "metadata": {},
     "output_type": "execute_result"
    }
   ],
   "source": [
    "athlete.describe()"
   ],
   "metadata": {
    "collapsed": false,
    "pycharm": {
     "name": "#%%\n"
    }
   }
  },
  {
   "cell_type": "code",
   "execution_count": 117,
   "outputs": [
    {
     "data": {
      "text/plain": "31165"
     },
     "execution_count": 117,
     "metadata": {},
     "output_type": "execute_result"
    }
   ],
   "source": [
    "athlete.size"
   ],
   "metadata": {
    "collapsed": false,
    "pycharm": {
     "name": "#%%\n"
    }
   }
  },
  {
   "cell_type": "code",
   "execution_count": 118,
   "outputs": [
    {
     "data": {
      "text/plain": "<bound method Series.count of 0                    HAJOS, Alfred\n1                 HERSCHMANN, Otto\n2                DRIVAS, Dimitrios\n3               MALOKINIS, Ioannis\n4               CHASAPIS, Spiridon\n                   ...            \n31160           JANIKOWSKI, Damian\n31161    REZAEI, Ghasem Gholamreza\n31162               TOTROV, Rustam\n31163            ALEKSANYAN, Artur\n31164               LIDBERG, Jimmy\nName: Athlete, Length: 31165, dtype: object>"
     },
     "execution_count": 118,
     "metadata": {},
     "output_type": "execute_result"
    }
   ],
   "source": [
    "athlete.count"
   ],
   "metadata": {
    "collapsed": false,
    "pycharm": {
     "name": "#%%\n"
    }
   }
  },
  {
   "cell_type": "code",
   "execution_count": 119,
   "outputs": [
    {
     "data": {
      "text/plain": "'AABYE, Edgar'"
     },
     "execution_count": 119,
     "metadata": {},
     "output_type": "execute_result"
    }
   ],
   "source": [
    "athlete.min()"
   ],
   "metadata": {
    "collapsed": false,
    "pycharm": {
     "name": "#%%\n"
    }
   }
  },
  {
   "cell_type": "code",
   "execution_count": 120,
   "outputs": [
    {
     "data": {
      "text/plain": "'ÖSTRAND, Per-Olof'"
     },
     "execution_count": 120,
     "metadata": {},
     "output_type": "execute_result"
    }
   ],
   "source": [
    "athlete.max()"
   ],
   "metadata": {
    "collapsed": false,
    "pycharm": {
     "name": "#%%\n"
    }
   }
  },
  {
   "cell_type": "code",
   "execution_count": 121,
   "outputs": [
    {
     "data": {
      "text/plain": "array(['HAJOS, Alfred', 'HERSCHMANN, Otto', 'DRIVAS, Dimitrios', ...,\n       'TOTROV, Rustam', 'ALEKSANYAN, Artur', 'LIDBERG, Jimmy'],\n      dtype=object)"
     },
     "execution_count": 121,
     "metadata": {},
     "output_type": "execute_result"
    }
   ],
   "source": [
    "athlete.unique()"
   ],
   "metadata": {
    "collapsed": false,
    "pycharm": {
     "name": "#%%\n"
    }
   }
  },
  {
   "cell_type": "code",
   "execution_count": 122,
   "outputs": [
    {
     "data": {
      "text/plain": "22762"
     },
     "execution_count": 122,
     "metadata": {},
     "output_type": "execute_result"
    }
   ],
   "source": [
    "athlete.nunique()"
   ],
   "metadata": {
    "collapsed": false,
    "pycharm": {
     "name": "#%%\n"
    }
   }
  },
  {
   "cell_type": "code",
   "execution_count": 123,
   "outputs": [
    {
     "data": {
      "text/plain": "PHELPS, Michael          22\nLATYNINA, Larisa         18\nANDRIANOV, Nikolay       15\nONO, Takashi             13\nMANGIAROTTI, Edoardo     13\n                         ..\nZAKA, Uddin               1\nZAFAR, Hayat              1\nMUHAMMAD, Rashid          1\nMANNA, Muhammad Afzal     1\nLIDBERG, Jimmy            1\nName: Athlete, Length: 22762, dtype: int64"
     },
     "execution_count": 123,
     "metadata": {},
     "output_type": "execute_result"
    }
   ],
   "source": [
    "athlete.value_counts()"
   ],
   "metadata": {
    "collapsed": false,
    "pycharm": {
     "name": "#%%\n"
    }
   }
  },
  {
   "cell_type": "code",
   "execution_count": 124,
   "outputs": [
    {
     "data": {
      "text/plain": "UDVARDI, Istvan        1\nLIM, Jin-Suk           1\nLEE, Sang-Hyo          1\nKOH, Suk-Chang         1\nKIM, Jae-Hwan          1\n                      ..\nONO, Takashi          13\nSHAKHLIN, Boris       13\nANDRIANOV, Nikolay    15\nLATYNINA, Larisa      18\nPHELPS, Michael       22\nName: Athlete, Length: 22762, dtype: int64"
     },
     "execution_count": 124,
     "metadata": {},
     "output_type": "execute_result"
    }
   ],
   "source": [
    "athlete.value_counts(sort=True, ascending=True)"
   ],
   "metadata": {
    "collapsed": false,
    "pycharm": {
     "name": "#%%\n"
    }
   }
  },
  {
   "cell_type": "code",
   "execution_count": 125,
   "outputs": [
    {
     "data": {
      "text/plain": "PHELPS, Michael         0.000706\nLATYNINA, Larisa        0.000578\nANDRIANOV, Nikolay      0.000481\nONO, Takashi            0.000417\nMANGIAROTTI, Edoardo    0.000417\nName: Athlete, dtype: float64"
     },
     "execution_count": 125,
     "metadata": {},
     "output_type": "execute_result"
    }
   ],
   "source": [
    "athlete.value_counts(sort=True, ascending=False, normalize=True).head()"
   ],
   "metadata": {
    "collapsed": false,
    "pycharm": {
     "name": "#%%\n"
    }
   }
  },
  {
   "cell_type": "markdown",
   "source": [
    "### The copy() Method"
   ],
   "metadata": {
    "collapsed": false,
    "pycharm": {
     "name": "#%% md\n"
    }
   }
  },
  {
   "cell_type": "code",
   "execution_count": 126,
   "outputs": [],
   "source": [
    "titanic = pd.read_csv('data/titanic.csv')"
   ],
   "metadata": {
    "collapsed": false,
    "pycharm": {
     "name": "#%%\n"
    }
   }
  },
  {
   "cell_type": "code",
   "execution_count": 127,
   "outputs": [
    {
     "data": {
      "text/plain": "   survived  pclass     sex   age  sibsp  parch     fare embarked deck\n0         0       3    male  22.0      1      0   7.2500        S  NaN\n1         1       1  female  38.0      1      0  71.2833        C    C\n2         1       3  female  26.0      0      0   7.9250        S  NaN\n3         1       1  female  35.0      1      0  53.1000        S    C\n4         0       3    male  35.0      0      0   8.0500        S  NaN",
      "text/html": "<div>\n<style scoped>\n    .dataframe tbody tr th:only-of-type {\n        vertical-align: middle;\n    }\n\n    .dataframe tbody tr th {\n        vertical-align: top;\n    }\n\n    .dataframe thead th {\n        text-align: right;\n    }\n</style>\n<table border=\"1\" class=\"dataframe\">\n  <thead>\n    <tr style=\"text-align: right;\">\n      <th></th>\n      <th>survived</th>\n      <th>pclass</th>\n      <th>sex</th>\n      <th>age</th>\n      <th>sibsp</th>\n      <th>parch</th>\n      <th>fare</th>\n      <th>embarked</th>\n      <th>deck</th>\n    </tr>\n  </thead>\n  <tbody>\n    <tr>\n      <th>0</th>\n      <td>0</td>\n      <td>3</td>\n      <td>male</td>\n      <td>22.0</td>\n      <td>1</td>\n      <td>0</td>\n      <td>7.2500</td>\n      <td>S</td>\n      <td>NaN</td>\n    </tr>\n    <tr>\n      <th>1</th>\n      <td>1</td>\n      <td>1</td>\n      <td>female</td>\n      <td>38.0</td>\n      <td>1</td>\n      <td>0</td>\n      <td>71.2833</td>\n      <td>C</td>\n      <td>C</td>\n    </tr>\n    <tr>\n      <th>2</th>\n      <td>1</td>\n      <td>3</td>\n      <td>female</td>\n      <td>26.0</td>\n      <td>0</td>\n      <td>0</td>\n      <td>7.9250</td>\n      <td>S</td>\n      <td>NaN</td>\n    </tr>\n    <tr>\n      <th>3</th>\n      <td>1</td>\n      <td>1</td>\n      <td>female</td>\n      <td>35.0</td>\n      <td>1</td>\n      <td>0</td>\n      <td>53.1000</td>\n      <td>S</td>\n      <td>C</td>\n    </tr>\n    <tr>\n      <th>4</th>\n      <td>0</td>\n      <td>3</td>\n      <td>male</td>\n      <td>35.0</td>\n      <td>0</td>\n      <td>0</td>\n      <td>8.0500</td>\n      <td>S</td>\n      <td>NaN</td>\n    </tr>\n  </tbody>\n</table>\n</div>"
     },
     "execution_count": 127,
     "metadata": {},
     "output_type": "execute_result"
    }
   ],
   "source": [
    "titanic.head()"
   ],
   "metadata": {
    "collapsed": false,
    "pycharm": {
     "name": "#%%\n"
    }
   }
  },
  {
   "cell_type": "code",
   "execution_count": 128,
   "outputs": [],
   "source": [
    "age = titanic.age"
   ],
   "metadata": {
    "collapsed": false,
    "pycharm": {
     "name": "#%%\n"
    }
   }
  },
  {
   "cell_type": "code",
   "execution_count": 130,
   "outputs": [
    {
     "data": {
      "text/plain": "0    22.0\n1    38.0\n2    26.0\n3    35.0\n4    35.0\nName: age, dtype: float64"
     },
     "execution_count": 130,
     "metadata": {},
     "output_type": "execute_result"
    }
   ],
   "source": [
    "age.head()"
   ],
   "metadata": {
    "collapsed": false,
    "pycharm": {
     "name": "#%%\n"
    }
   }
  },
  {
   "cell_type": "code",
   "execution_count": 131,
   "outputs": [
    {
     "name": "stderr",
     "output_type": "stream",
     "text": [
      "C:\\Users\\xjayc\\anaconda3\\envs\\c964\\lib\\site-packages\\pandas\\core\\indexing.py:1732: SettingWithCopyWarning: \n",
      "A value is trying to be set on a copy of a slice from a DataFrame\n",
      "\n",
      "See the caveats in the documentation: https://pandas.pydata.org/pandas-docs/stable/user_guide/indexing.html#returning-a-view-versus-a-copy\n",
      "  self._setitem_single_block(indexer, value, name)\n"
     ]
    }
   ],
   "source": [
    "# mutates dataframe\n",
    "age.iloc[2] = 29"
   ],
   "metadata": {
    "collapsed": false,
    "pycharm": {
     "name": "#%%\n"
    }
   }
  },
  {
   "cell_type": "code",
   "execution_count": 132,
   "outputs": [
    {
     "data": {
      "text/plain": "0    22.0\n1    38.0\n2    29.0\n3    35.0\n4    35.0\nName: age, dtype: float64"
     },
     "execution_count": 132,
     "metadata": {},
     "output_type": "execute_result"
    }
   ],
   "source": [
    "age.head()"
   ],
   "metadata": {
    "collapsed": false,
    "pycharm": {
     "name": "#%%\n"
    }
   }
  },
  {
   "cell_type": "code",
   "execution_count": 133,
   "outputs": [
    {
     "data": {
      "text/plain": "   survived  pclass     sex   age  sibsp  parch     fare embarked deck\n0         0       3    male  22.0      1      0   7.2500        S  NaN\n1         1       1  female  38.0      1      0  71.2833        C    C\n2         1       3  female  29.0      0      0   7.9250        S  NaN\n3         1       1  female  35.0      1      0  53.1000        S    C\n4         0       3    male  35.0      0      0   8.0500        S  NaN",
      "text/html": "<div>\n<style scoped>\n    .dataframe tbody tr th:only-of-type {\n        vertical-align: middle;\n    }\n\n    .dataframe tbody tr th {\n        vertical-align: top;\n    }\n\n    .dataframe thead th {\n        text-align: right;\n    }\n</style>\n<table border=\"1\" class=\"dataframe\">\n  <thead>\n    <tr style=\"text-align: right;\">\n      <th></th>\n      <th>survived</th>\n      <th>pclass</th>\n      <th>sex</th>\n      <th>age</th>\n      <th>sibsp</th>\n      <th>parch</th>\n      <th>fare</th>\n      <th>embarked</th>\n      <th>deck</th>\n    </tr>\n  </thead>\n  <tbody>\n    <tr>\n      <th>0</th>\n      <td>0</td>\n      <td>3</td>\n      <td>male</td>\n      <td>22.0</td>\n      <td>1</td>\n      <td>0</td>\n      <td>7.2500</td>\n      <td>S</td>\n      <td>NaN</td>\n    </tr>\n    <tr>\n      <th>1</th>\n      <td>1</td>\n      <td>1</td>\n      <td>female</td>\n      <td>38.0</td>\n      <td>1</td>\n      <td>0</td>\n      <td>71.2833</td>\n      <td>C</td>\n      <td>C</td>\n    </tr>\n    <tr>\n      <th>2</th>\n      <td>1</td>\n      <td>3</td>\n      <td>female</td>\n      <td>29.0</td>\n      <td>0</td>\n      <td>0</td>\n      <td>7.9250</td>\n      <td>S</td>\n      <td>NaN</td>\n    </tr>\n    <tr>\n      <th>3</th>\n      <td>1</td>\n      <td>1</td>\n      <td>female</td>\n      <td>35.0</td>\n      <td>1</td>\n      <td>0</td>\n      <td>53.1000</td>\n      <td>S</td>\n      <td>C</td>\n    </tr>\n    <tr>\n      <th>4</th>\n      <td>0</td>\n      <td>3</td>\n      <td>male</td>\n      <td>35.0</td>\n      <td>0</td>\n      <td>0</td>\n      <td>8.0500</td>\n      <td>S</td>\n      <td>NaN</td>\n    </tr>\n  </tbody>\n</table>\n</div>"
     },
     "execution_count": 133,
     "metadata": {},
     "output_type": "execute_result"
    }
   ],
   "source": [
    "titanic.head()"
   ],
   "metadata": {
    "collapsed": false,
    "pycharm": {
     "name": "#%%\n"
    }
   }
  },
  {
   "cell_type": "code",
   "execution_count": 135,
   "outputs": [],
   "source": [
    "titanic = pd.read_csv('data/titanic.csv')"
   ],
   "metadata": {
    "collapsed": false,
    "pycharm": {
     "name": "#%%\n"
    }
   }
  },
  {
   "cell_type": "code",
   "execution_count": 136,
   "outputs": [
    {
     "data": {
      "text/plain": "   survived  pclass     sex   age  sibsp  parch     fare embarked deck\n0         0       3    male  22.0      1      0   7.2500        S  NaN\n1         1       1  female  38.0      1      0  71.2833        C    C\n2         1       3  female  26.0      0      0   7.9250        S  NaN\n3         1       1  female  35.0      1      0  53.1000        S    C\n4         0       3    male  35.0      0      0   8.0500        S  NaN",
      "text/html": "<div>\n<style scoped>\n    .dataframe tbody tr th:only-of-type {\n        vertical-align: middle;\n    }\n\n    .dataframe tbody tr th {\n        vertical-align: top;\n    }\n\n    .dataframe thead th {\n        text-align: right;\n    }\n</style>\n<table border=\"1\" class=\"dataframe\">\n  <thead>\n    <tr style=\"text-align: right;\">\n      <th></th>\n      <th>survived</th>\n      <th>pclass</th>\n      <th>sex</th>\n      <th>age</th>\n      <th>sibsp</th>\n      <th>parch</th>\n      <th>fare</th>\n      <th>embarked</th>\n      <th>deck</th>\n    </tr>\n  </thead>\n  <tbody>\n    <tr>\n      <th>0</th>\n      <td>0</td>\n      <td>3</td>\n      <td>male</td>\n      <td>22.0</td>\n      <td>1</td>\n      <td>0</td>\n      <td>7.2500</td>\n      <td>S</td>\n      <td>NaN</td>\n    </tr>\n    <tr>\n      <th>1</th>\n      <td>1</td>\n      <td>1</td>\n      <td>female</td>\n      <td>38.0</td>\n      <td>1</td>\n      <td>0</td>\n      <td>71.2833</td>\n      <td>C</td>\n      <td>C</td>\n    </tr>\n    <tr>\n      <th>2</th>\n      <td>1</td>\n      <td>3</td>\n      <td>female</td>\n      <td>26.0</td>\n      <td>0</td>\n      <td>0</td>\n      <td>7.9250</td>\n      <td>S</td>\n      <td>NaN</td>\n    </tr>\n    <tr>\n      <th>3</th>\n      <td>1</td>\n      <td>1</td>\n      <td>female</td>\n      <td>35.0</td>\n      <td>1</td>\n      <td>0</td>\n      <td>53.1000</td>\n      <td>S</td>\n      <td>C</td>\n    </tr>\n    <tr>\n      <th>4</th>\n      <td>0</td>\n      <td>3</td>\n      <td>male</td>\n      <td>35.0</td>\n      <td>0</td>\n      <td>0</td>\n      <td>8.0500</td>\n      <td>S</td>\n      <td>NaN</td>\n    </tr>\n  </tbody>\n</table>\n</div>"
     },
     "execution_count": 136,
     "metadata": {},
     "output_type": "execute_result"
    }
   ],
   "source": [
    "titanic.head()"
   ],
   "metadata": {
    "collapsed": false,
    "pycharm": {
     "name": "#%%\n"
    }
   }
  },
  {
   "cell_type": "code",
   "execution_count": 137,
   "outputs": [],
   "source": [
    "age = titanic.age.copy()"
   ],
   "metadata": {
    "collapsed": false,
    "pycharm": {
     "name": "#%%\n"
    }
   }
  },
  {
   "cell_type": "code",
   "execution_count": 138,
   "outputs": [
    {
     "data": {
      "text/plain": "0    22.0\n1    38.0\n2    26.0\n3    35.0\n4    35.0\nName: age, dtype: float64"
     },
     "execution_count": 138,
     "metadata": {},
     "output_type": "execute_result"
    }
   ],
   "source": [
    "age.head()"
   ],
   "metadata": {
    "collapsed": false,
    "pycharm": {
     "name": "#%%\n"
    }
   }
  },
  {
   "cell_type": "code",
   "execution_count": 139,
   "outputs": [],
   "source": [
    "age.iloc[2] = 29"
   ],
   "metadata": {
    "collapsed": false,
    "pycharm": {
     "name": "#%%\n"
    }
   }
  },
  {
   "cell_type": "code",
   "execution_count": 141,
   "outputs": [
    {
     "data": {
      "text/plain": "0    22.0\n1    38.0\n2    29.0\n3    35.0\n4    35.0\nName: age, dtype: float64"
     },
     "execution_count": 141,
     "metadata": {},
     "output_type": "execute_result"
    }
   ],
   "source": [
    "age.head()"
   ],
   "metadata": {
    "collapsed": false,
    "pycharm": {
     "name": "#%%\n"
    }
   }
  },
  {
   "cell_type": "code",
   "execution_count": 142,
   "outputs": [
    {
     "data": {
      "text/plain": "   survived  pclass     sex   age  sibsp  parch     fare embarked deck\n0         0       3    male  22.0      1      0   7.2500        S  NaN\n1         1       1  female  38.0      1      0  71.2833        C    C\n2         1       3  female  26.0      0      0   7.9250        S  NaN\n3         1       1  female  35.0      1      0  53.1000        S    C\n4         0       3    male  35.0      0      0   8.0500        S  NaN",
      "text/html": "<div>\n<style scoped>\n    .dataframe tbody tr th:only-of-type {\n        vertical-align: middle;\n    }\n\n    .dataframe tbody tr th {\n        vertical-align: top;\n    }\n\n    .dataframe thead th {\n        text-align: right;\n    }\n</style>\n<table border=\"1\" class=\"dataframe\">\n  <thead>\n    <tr style=\"text-align: right;\">\n      <th></th>\n      <th>survived</th>\n      <th>pclass</th>\n      <th>sex</th>\n      <th>age</th>\n      <th>sibsp</th>\n      <th>parch</th>\n      <th>fare</th>\n      <th>embarked</th>\n      <th>deck</th>\n    </tr>\n  </thead>\n  <tbody>\n    <tr>\n      <th>0</th>\n      <td>0</td>\n      <td>3</td>\n      <td>male</td>\n      <td>22.0</td>\n      <td>1</td>\n      <td>0</td>\n      <td>7.2500</td>\n      <td>S</td>\n      <td>NaN</td>\n    </tr>\n    <tr>\n      <th>1</th>\n      <td>1</td>\n      <td>1</td>\n      <td>female</td>\n      <td>38.0</td>\n      <td>1</td>\n      <td>0</td>\n      <td>71.2833</td>\n      <td>C</td>\n      <td>C</td>\n    </tr>\n    <tr>\n      <th>2</th>\n      <td>1</td>\n      <td>3</td>\n      <td>female</td>\n      <td>26.0</td>\n      <td>0</td>\n      <td>0</td>\n      <td>7.9250</td>\n      <td>S</td>\n      <td>NaN</td>\n    </tr>\n    <tr>\n      <th>3</th>\n      <td>1</td>\n      <td>1</td>\n      <td>female</td>\n      <td>35.0</td>\n      <td>1</td>\n      <td>0</td>\n      <td>53.1000</td>\n      <td>S</td>\n      <td>C</td>\n    </tr>\n    <tr>\n      <th>4</th>\n      <td>0</td>\n      <td>3</td>\n      <td>male</td>\n      <td>35.0</td>\n      <td>0</td>\n      <td>0</td>\n      <td>8.0500</td>\n      <td>S</td>\n      <td>NaN</td>\n    </tr>\n  </tbody>\n</table>\n</div>"
     },
     "execution_count": 142,
     "metadata": {},
     "output_type": "execute_result"
    }
   ],
   "source": [
    "titanic.head()"
   ],
   "metadata": {
    "collapsed": false,
    "pycharm": {
     "name": "#%%\n"
    }
   }
  },
  {
   "cell_type": "code",
   "execution_count": null,
   "outputs": [],
   "source": [],
   "metadata": {
    "collapsed": false,
    "pycharm": {
     "name": "#%%\n"
    }
   }
  }
 ],
 "metadata": {
  "kernelspec": {
   "display_name": "Python 3",
   "language": "python",
   "name": "python3"
  },
  "language_info": {
   "codemirror_mode": {
    "name": "ipython",
    "version": 2
   },
   "file_extension": ".py",
   "mimetype": "text/x-python",
   "name": "python",
   "nbconvert_exporter": "python",
   "pygments_lexer": "ipython2",
   "version": "2.7.6"
  }
 },
 "nbformat": 4,
 "nbformat_minor": 0
}